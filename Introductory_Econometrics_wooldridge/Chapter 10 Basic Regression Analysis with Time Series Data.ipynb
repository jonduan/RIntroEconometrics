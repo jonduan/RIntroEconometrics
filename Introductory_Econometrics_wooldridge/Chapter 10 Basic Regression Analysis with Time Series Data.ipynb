{
 "cells": [
  {
   "cell_type": "code",
   "execution_count": 2,
   "metadata": {
    "ExecuteTime": {
     "end_time": "2018-12-03T03:47:16.617019Z",
     "start_time": "2018-12-03T03:47:16.535Z"
    }
   },
   "outputs": [
    {
     "name": "stderr",
     "output_type": "stream",
     "text": [
      "\n",
      "Please cite as: \n",
      "\n",
      " Hlavac, Marek (2018). stargazer: Well-Formatted Regression and Summary Statistics Tables.\n",
      " R package version 5.2.2. https://CRAN.R-project.org/package=stargazer \n",
      "\n"
     ]
    }
   ],
   "source": [
    "library(wooldridge)\n",
    "library(stargazer)\n",
    "library(knitr)"
   ]
  },
  {
   "cell_type": "code",
   "execution_count": null,
   "metadata": {},
   "outputs": [],
   "source": []
  },
  {
   "cell_type": "markdown",
   "metadata": {},
   "source": [
    "# Example 10.2: Effects of Inflation and Deficits on Interest Rates\n",
    "$$\\widehat{i3} = \\beta_0 + \\beta_1inf_t + \\beta_2def_t$$ Data from the Economic Report of the President, 2004, Tables B-64, B-73, and B-79.\n",
    "\n"
   ]
  },
  {
   "cell_type": "code",
   "execution_count": null,
   "metadata": {},
   "outputs": [],
   "source": []
  },
  {
   "cell_type": "code",
   "execution_count": 4,
   "metadata": {
    "ExecuteTime": {
     "end_time": "2018-12-03T03:47:24.085217Z",
     "start_time": "2018-12-03T03:47:23.943Z"
    }
   },
   "outputs": [
    {
     "name": "stdout",
     "output_type": "stream",
     "text": [
      "\n",
      "===============================================\n",
      "                        Dependent variable:    \n",
      "                    ---------------------------\n",
      "                                i3             \n",
      "-----------------------------------------------\n",
      "inf                    0.60587*** (0.08213)    \n",
      "def                    0.51306*** (0.11838)    \n",
      "Constant               1.73327*** (0.43197)    \n",
      "-----------------------------------------------\n",
      "Observations                    56             \n",
      "R2                            0.60207          \n",
      "Adjusted R2                   0.58705          \n",
      "Residual Std. Error      1.84316 (df = 53)     \n",
      "F Statistic          40.09424*** (df = 2; 53)  \n",
      "===============================================\n",
      "Note:               *p<0.1; **p<0.05; ***p<0.01\n"
     ]
    }
   ],
   "source": [
    "data(\"intdef\")\n",
    "\n",
    "tbill_model <- lm(i3 ~ inf + def, data = intdef)\n",
    "stargazer(type = \"text\",tbill_model, single.row = TRUE, header = FALSE, digits=5)"
   ]
  },
  {
   "cell_type": "markdown",
   "metadata": {},
   "source": [
    "# xample 10.11: Seasonal Effects of Antidumping Filings\n",
    "C.M. Krupp and P.S. Pollard (1999), Market Responses to Antidumpting Laws: Some Evidence from the U.S. Chemical Industry, Canadian Journal of Economics 29, 199-227. Dr. Krupp kindly provided the data. They are monthly data covering February 1978 through December 1988."
   ]
  },
  {
   "cell_type": "code",
   "execution_count": null,
   "metadata": {},
   "outputs": [],
   "source": []
  },
  {
   "cell_type": "code",
   "execution_count": 5,
   "metadata": {
    "ExecuteTime": {
     "end_time": "2018-12-03T03:48:11.285556Z",
     "start_time": "2018-12-03T03:48:11.254Z"
    }
   },
   "outputs": [],
   "source": [
    "data(\"barium\")\n",
    "barium_imports <- lm(lchnimp ~ lchempi + lgas + lrtwex + befile6 + affile6 + afdec6, data = barium)"
   ]
  },
  {
   "cell_type": "code",
   "execution_count": 6,
   "metadata": {
    "ExecuteTime": {
     "end_time": "2018-12-03T03:48:28.189695Z",
     "start_time": "2018-12-03T03:48:28.169Z"
    }
   },
   "outputs": [],
   "source": [
    "# Estimate a new model, barium_seasonal which accounts for seasonality by adding dummy variables contained in the data.\n",
    "\n",
    "barium_seasonal <- lm(lchnimp ~ lchempi + lgas + lrtwex + befile6 + affile6 + afdec6 + feb + mar + apr + may + jun + jul + aug + sep + oct + nov + dec, data = barium)"
   ]
  },
  {
   "cell_type": "code",
   "execution_count": 7,
   "metadata": {
    "ExecuteTime": {
     "end_time": "2018-12-03T03:48:43.208109Z",
     "start_time": "2018-12-03T03:48:42.931Z"
    }
   },
   "outputs": [
    {
     "name": "stdout",
     "output_type": "stream",
     "text": [
      "\n",
      "======================================================================\n",
      "                                   Dependent variable:                \n",
      "                    --------------------------------------------------\n",
      "                                         lchnimp                      \n",
      "                              (1)                       (2)           \n",
      "----------------------------------------------------------------------\n",
      "lchempi               3.11719*** (0.47920)     3.26506*** (0.49293)   \n",
      "lgas                   0.19635 (0.90662)        -1.27812 (1.38901)    \n",
      "lrtwex                0.98302** (0.40015)        0.66305 (0.47130)    \n",
      "befile6                0.05957 (0.26097)         0.13970 (0.26681)    \n",
      "affile6                -0.03241 (0.26430)        0.01263 (0.27869)    \n",
      "afdec6                -0.56524* (0.28584)       -0.52130* (0.30195)   \n",
      "feb                                             -0.41771 (0.30444)    \n",
      "mar                                              0.05905 (0.26473)    \n",
      "apr                                             -0.45148* (0.26839)   \n",
      "may                                              0.03331 (0.26924)    \n",
      "jun                                             -0.20633 (0.26925)    \n",
      "jul                                              0.00384 (0.27877)    \n",
      "aug                                             -0.15707 (0.27799)    \n",
      "sep                                             -0.13416 (0.26766)    \n",
      "oct                                              0.05169 (0.26685)    \n",
      "nov                                             -0.24626 (0.26283)    \n",
      "dec                                              0.13284 (0.27142)    \n",
      "Constant              -17.80300 (21.04537)      16.77877 (32.42865)   \n",
      "----------------------------------------------------------------------\n",
      "Observations                  131                       131           \n",
      "R2                          0.30486                   0.35833         \n",
      "Adjusted R2                 0.27123                   0.26179         \n",
      "Residual Std. Error    0.59735 (df = 124)       0.60121 (df = 113)    \n",
      "F Statistic         9.06365*** (df = 6; 124) 3.71190*** (df = 17; 113)\n",
      "======================================================================\n",
      "Note:                                      *p<0.1; **p<0.05; ***p<0.01\n"
     ]
    }
   ],
   "source": [
    "stargazer(type = \"text\",barium_imports, barium_seasonal,  single.row = TRUE, header = FALSE, digits=5)"
   ]
  },
  {
   "cell_type": "code",
   "execution_count": 8,
   "metadata": {
    "ExecuteTime": {
     "end_time": "2018-12-03T03:48:54.960233Z",
     "start_time": "2018-12-03T03:48:54.829Z"
    }
   },
   "outputs": [
    {
     "name": "stdout",
     "output_type": "stream",
     "text": [
      "\n",
      "==================================================================\n",
      "Statistic N   Mean    St. Dev.   Min    Pctl(25) Pctl(75)   Max   \n",
      "------------------------------------------------------------------\n",
      "Res.Df    2 118.50000 7.77817    113     115.8    121.2     124   \n",
      "RSS       2 42.54549  2.40642  40.84390 41.69469 43.39629 44.24709\n",
      "Df        1 11.00000           11.00000 11.00000 11.00000 11.00000\n",
      "Sum of Sq 1  3.40319           3.40319  3.40319  3.40319  3.40319 \n",
      "F         1  0.85594           0.85594  0.85594  0.85594  0.85594 \n",
      "Pr(> F)   1  0.58520           0.58520  0.58520  0.58520  0.58520 \n",
      "------------------------------------------------------------------\n"
     ]
    }
   ],
   "source": [
    "# Now, compute the anova between the two models.\n",
    "\n",
    "barium_anova <- anova(barium_imports, barium_seasonal)\n",
    "stargazer(type = \"text\",barium_anova,  single.row = TRUE, header = FALSE, digits=5)"
   ]
  },
  {
   "cell_type": "code",
   "execution_count": null,
   "metadata": {},
   "outputs": [],
   "source": []
  },
  {
   "cell_type": "code",
   "execution_count": null,
   "metadata": {},
   "outputs": [],
   "source": []
  },
  {
   "cell_type": "code",
   "execution_count": null,
   "metadata": {},
   "outputs": [],
   "source": []
  },
  {
   "cell_type": "code",
   "execution_count": null,
   "metadata": {},
   "outputs": [],
   "source": []
  },
  {
   "cell_type": "code",
   "execution_count": null,
   "metadata": {},
   "outputs": [],
   "source": []
  },
  {
   "cell_type": "code",
   "execution_count": null,
   "metadata": {},
   "outputs": [],
   "source": []
  }
 ],
 "metadata": {
  "kernelspec": {
   "display_name": "R",
   "language": "R",
   "name": "ir"
  },
  "language_info": {
   "codemirror_mode": "r",
   "file_extension": ".r",
   "mimetype": "text/x-r-source",
   "name": "R",
   "pygments_lexer": "r",
   "version": "3.5.1"
  }
 },
 "nbformat": 4,
 "nbformat_minor": 2
}
