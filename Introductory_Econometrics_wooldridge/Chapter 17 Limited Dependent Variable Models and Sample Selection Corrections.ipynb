{
 "cells": [
  {
   "cell_type": "code",
   "execution_count": 1,
   "metadata": {},
   "outputs": [
    {
     "name": "stderr",
     "output_type": "stream",
     "text": [
      "\n",
      "Please cite as: \n",
      "\n",
      " Hlavac, Marek (2018). stargazer: Well-Formatted Regression and Summary Statistics Tables.\n",
      " R package version 5.2.2. https://CRAN.R-project.org/package=stargazer \n",
      "\n"
     ]
    }
   ],
   "source": [
    "library(wooldridge)\n",
    "library(stargazer)\n",
    "library(knitr)"
   ]
  },
  {
   "cell_type": "code",
   "execution_count": 22,
   "metadata": {},
   "outputs": [
    {
     "name": "stderr",
     "output_type": "stream",
     "text": [
      "Installing package into ‘/home/jupyter/R/x86_64-pc-linux-gnu-library/3.5’\n",
      "(as ‘lib’ is unspecified)\n",
      "also installing the dependency ‘Formula’\n",
      "\n",
      "\n",
      "AER installed\n"
     ]
    }
   ],
   "source": [
    "pacman::p_load(wooldridge,stargazer,broom,tidyverse,ggplot2,\n",
    "               dplyr,tidyr,moderndive,jtools,sjPlot,dotwhisker,FSA,\n",
    "              car,AER)"
   ]
  },
  {
   "cell_type": "markdown",
   "metadata": {},
   "source": [
    "Example 17.1\n",
    "\n",
    "First, look at the linear model."
   ]
  },
  {
   "cell_type": "code",
   "execution_count": 10,
   "metadata": {},
   "outputs": [
    {
     "data": {
      "text/plain": [
       "\n",
       "Call:\n",
       "lm(formula = inlf ~ nwifeinc + educ + exper + expersq + age + \n",
       "    kidslt6 + kidsge6, data = mroz)\n",
       "\n",
       "Residuals:\n",
       "     Min       1Q   Median       3Q      Max \n",
       "-0.93432 -0.37526  0.08833  0.34404  0.99417 \n",
       "\n",
       "Coefficients:\n",
       "              Estimate Std. Error t value Pr(>|t|)    \n",
       "(Intercept)  0.5855192  0.1541780   3.798 0.000158 ***\n",
       "nwifeinc    -0.0034052  0.0014485  -2.351 0.018991 *  \n",
       "educ         0.0379953  0.0073760   5.151 3.32e-07 ***\n",
       "exper        0.0394924  0.0056727   6.962 7.38e-12 ***\n",
       "expersq     -0.0005963  0.0001848  -3.227 0.001306 ** \n",
       "age         -0.0160908  0.0024847  -6.476 1.71e-10 ***\n",
       "kidslt6     -0.2618105  0.0335058  -7.814 1.89e-14 ***\n",
       "kidsge6      0.0130122  0.0131960   0.986 0.324415    \n",
       "---\n",
       "Signif. codes:  0 ‘***’ 0.001 ‘**’ 0.01 ‘*’ 0.05 ‘.’ 0.1 ‘ ’ 1\n",
       "\n",
       "Residual standard error: 0.4271 on 745 degrees of freedom\n",
       "Multiple R-squared:  0.2642,\tAdjusted R-squared:  0.2573 \n",
       "F-statistic: 38.22 on 7 and 745 DF,  p-value: < 2.2e-16\n"
      ]
     },
     "metadata": {},
     "output_type": "display_data"
    }
   ],
   "source": [
    "\n",
    "\n",
    "data(\"mroz\")\n",
    "\n",
    "lm.17.1 <- lm(inlf ~ nwifeinc + educ + exper + expersq + age +\n",
    "                kidslt6 + kidsge6, data = mroz)\n",
    "summary(lm.17.1)"
   ]
  },
  {
   "cell_type": "markdown",
   "metadata": {},
   "source": [
    "To calculated the percentage share of correct predictions I create dummy variables, which equal unity when the fitted values are above or equal to 0.5 and zero else. Next, I create a vector of dummies that are unity when both the fitted prediction and the observation of the dependent variable are unity. If they have different values, i.e. (1,0) or (0,1), the dummy is zero. The mean of this latter vector gives the percentage share of correctly predicted observations."
   ]
  },
  {
   "cell_type": "code",
   "execution_count": 11,
   "metadata": {},
   "outputs": [
    {
     "data": {
      "text/html": [
       "0.734395750332005"
      ],
      "text/latex": [
       "0.734395750332005"
      ],
      "text/markdown": [
       "0.734395750332005"
      ],
      "text/plain": [
       "[1] 0.7343958"
      ]
     },
     "metadata": {},
     "output_type": "display_data"
    }
   ],
   "source": [
    "lm.fitted <- as.numeric(lm.17.1$fitted.values >= .5)\n",
    "corr.pred.lm <- as.numeric(lm.fitted == mroz$inlf)\n",
    "\n",
    "mean(corr.pred.lm)"
   ]
  },
  {
   "cell_type": "markdown",
   "metadata": {},
   "source": [
    "To estimate the Logit model, we cannot use the lm function. Instead, we have to use the glm command. Specify the estimation model, the dataset and the family of the estimation procedure, which in our case is logit. Estimate the model, save it and use the summary command to get an overview of the results."
   ]
  },
  {
   "cell_type": "code",
   "execution_count": 12,
   "metadata": {},
   "outputs": [
    {
     "data": {
      "text/plain": [
       "\n",
       "Call:\n",
       "glm(formula = inlf ~ nwifeinc + educ + exper + expersq + age + \n",
       "    kidslt6 + kidsge6, family = binomial(link = \"logit\"), data = mroz)\n",
       "\n",
       "Deviance Residuals: \n",
       "    Min       1Q   Median       3Q      Max  \n",
       "-2.1770  -0.9063   0.4473   0.8561   2.4032  \n",
       "\n",
       "Coefficients:\n",
       "             Estimate Std. Error z value Pr(>|z|)    \n",
       "(Intercept)  0.425452   0.860365   0.495  0.62095    \n",
       "nwifeinc    -0.021345   0.008421  -2.535  0.01126 *  \n",
       "educ         0.221170   0.043439   5.091 3.55e-07 ***\n",
       "exper        0.205870   0.032057   6.422 1.34e-10 ***\n",
       "expersq     -0.003154   0.001016  -3.104  0.00191 ** \n",
       "age         -0.088024   0.014573  -6.040 1.54e-09 ***\n",
       "kidslt6     -1.443354   0.203583  -7.090 1.34e-12 ***\n",
       "kidsge6      0.060112   0.074789   0.804  0.42154    \n",
       "---\n",
       "Signif. codes:  0 ‘***’ 0.001 ‘**’ 0.01 ‘*’ 0.05 ‘.’ 0.1 ‘ ’ 1\n",
       "\n",
       "(Dispersion parameter for binomial family taken to be 1)\n",
       "\n",
       "    Null deviance: 1029.75  on 752  degrees of freedom\n",
       "Residual deviance:  803.53  on 745  degrees of freedom\n",
       "AIC: 819.53\n",
       "\n",
       "Number of Fisher Scoring iterations: 4\n"
      ]
     },
     "metadata": {},
     "output_type": "display_data"
    }
   ],
   "source": [
    "logit.17.1 <- glm(inlf ~ nwifeinc + educ + exper + expersq + age +\n",
    "                    kidslt6 + kidsge6,\n",
    "                  data = mroz,\n",
    "                  family = binomial(link = \"logit\"))\n",
    "summary(logit.17.1)"
   ]
  },
  {
   "cell_type": "markdown",
   "metadata": {},
   "source": [
    "The share of correctly predicted observations is retrieved in the same way as it was done with the linear model."
   ]
  },
  {
   "cell_type": "code",
   "execution_count": 13,
   "metadata": {},
   "outputs": [
    {
     "data": {
      "text/html": [
       "0.735723771580345"
      ],
      "text/latex": [
       "0.735723771580345"
      ],
      "text/markdown": [
       "0.735723771580345"
      ],
      "text/plain": [
       "[1] 0.7357238"
      ]
     },
     "metadata": {},
     "output_type": "display_data"
    }
   ],
   "source": [
    "logit.fitted <- as.numeric(logit.17.1$fitted.values >= .5)\n",
    "corr.pred.logit <- as.numeric(logit.fitted==mroz$inlf)\n",
    "\n",
    "mean(corr.pred.logit)"
   ]
  },
  {
   "cell_type": "markdown",
   "metadata": {},
   "source": [
    "To get the log-likelihood, there is simple command, which just needs the estimated model output."
   ]
  },
  {
   "cell_type": "code",
   "execution_count": 15,
   "metadata": {},
   "outputs": [
    {
     "data": {
      "text/plain": [
       "'log Lik.' -401.7652 (df=8)"
      ]
     },
     "metadata": {},
     "output_type": "display_data"
    }
   ],
   "source": [
    "logLik(logit.17.1)"
   ]
  },
  {
   "cell_type": "markdown",
   "metadata": {},
   "source": [
    "Probit estimation works in the same way as Logit, except that you have to specify a different estimation procedure in the family argument."
   ]
  },
  {
   "cell_type": "code",
   "execution_count": 16,
   "metadata": {},
   "outputs": [
    {
     "data": {
      "text/plain": [
       "\n",
       "Call:\n",
       "glm(formula = inlf ~ nwifeinc + educ + exper + expersq + age + \n",
       "    kidslt6 + kidsge6, family = binomial(link = \"probit\"), data = mroz)\n",
       "\n",
       "Deviance Residuals: \n",
       "    Min       1Q   Median       3Q      Max  \n",
       "-2.2156  -0.9151   0.4315   0.8653   2.4553  \n",
       "\n",
       "Coefficients:\n",
       "              Estimate Std. Error z value Pr(>|z|)    \n",
       "(Intercept)  0.2700736  0.5080782   0.532  0.59503    \n",
       "nwifeinc    -0.0120236  0.0049392  -2.434  0.01492 *  \n",
       "educ         0.1309040  0.0253987   5.154 2.55e-07 ***\n",
       "exper        0.1233472  0.0187587   6.575 4.85e-11 ***\n",
       "expersq     -0.0018871  0.0005999  -3.145  0.00166 ** \n",
       "age         -0.0528524  0.0084624  -6.246 4.22e-10 ***\n",
       "kidslt6     -0.8683247  0.1183773  -7.335 2.21e-13 ***\n",
       "kidsge6      0.0360056  0.0440303   0.818  0.41350    \n",
       "---\n",
       "Signif. codes:  0 ‘***’ 0.001 ‘**’ 0.01 ‘*’ 0.05 ‘.’ 0.1 ‘ ’ 1\n",
       "\n",
       "(Dispersion parameter for binomial family taken to be 1)\n",
       "\n",
       "    Null deviance: 1029.7  on 752  degrees of freedom\n",
       "Residual deviance:  802.6  on 745  degrees of freedom\n",
       "AIC: 818.6\n",
       "\n",
       "Number of Fisher Scoring iterations: 4\n"
      ]
     },
     "metadata": {},
     "output_type": "display_data"
    }
   ],
   "source": [
    "probit.17.1 <- glm(inlf ~ nwifeinc + educ + exper + expersq + age +\n",
    "                     kidslt6 + kidsge6,\n",
    "                   data = mroz,\n",
    "                   family = binomial(link = \"probit\"))\n",
    "summary(probit.17.1)"
   ]
  },
  {
   "cell_type": "code",
   "execution_count": 17,
   "metadata": {},
   "outputs": [
    {
     "data": {
      "text/html": [
       "0.734395750332005"
      ],
      "text/latex": [
       "0.734395750332005"
      ],
      "text/markdown": [
       "0.734395750332005"
      ],
      "text/plain": [
       "[1] 0.7343958"
      ]
     },
     "metadata": {},
     "output_type": "display_data"
    }
   ],
   "source": [
    "probit.fitted <- as.numeric(probit.17.1$fitted.values >= .5)\n",
    "corr.pred.probit <- as.numeric(probit.fitted==mroz$inlf)\n",
    "\n",
    "mean(corr.pred.probit)"
   ]
  },
  {
   "cell_type": "markdown",
   "metadata": {},
   "source": [
    "Log-likelihood"
   ]
  },
  {
   "cell_type": "code",
   "execution_count": 18,
   "metadata": {},
   "outputs": [
    {
     "data": {
      "text/plain": [
       "'log Lik.' -401.3022 (df=8)"
      ]
     },
     "metadata": {},
     "output_type": "display_data"
    }
   ],
   "source": [
    "logLik(probit.17.1)"
   ]
  },
  {
   "cell_type": "markdown",
   "metadata": {},
   "source": [
    "Example 17.2"
   ]
  },
  {
   "cell_type": "code",
   "execution_count": null,
   "metadata": {},
   "outputs": [],
   "source": []
  },
  {
   "cell_type": "code",
   "execution_count": 19,
   "metadata": {},
   "outputs": [
    {
     "data": {
      "text/plain": [
       "\n",
       "Call:\n",
       "lm(formula = hours ~ nwifeinc + educ + exper + expersq + age + \n",
       "    kidslt6 + kidsge6, data = mroz)\n",
       "\n",
       "Residuals:\n",
       "    Min      1Q  Median      3Q     Max \n",
       "-1511.3  -537.8  -146.9   538.1  3555.6 \n",
       "\n",
       "Coefficients:\n",
       "             Estimate Std. Error t value Pr(>|t|)    \n",
       "(Intercept) 1330.4824   270.7846   4.913 1.10e-06 ***\n",
       "nwifeinc      -3.4466     2.5440  -1.355   0.1759    \n",
       "educ          28.7611    12.9546   2.220   0.0267 *  \n",
       "exper         65.6725     9.9630   6.592 8.23e-11 ***\n",
       "expersq       -0.7005     0.3246  -2.158   0.0312 *  \n",
       "age          -30.5116     4.3639  -6.992 6.04e-12 ***\n",
       "kidslt6     -442.0899    58.8466  -7.513 1.66e-13 ***\n",
       "kidsge6      -32.7792    23.1762  -1.414   0.1577    \n",
       "---\n",
       "Signif. codes:  0 ‘***’ 0.001 ‘**’ 0.01 ‘*’ 0.05 ‘.’ 0.1 ‘ ’ 1\n",
       "\n",
       "Residual standard error: 750.2 on 745 degrees of freedom\n",
       "Multiple R-squared:  0.2656,\tAdjusted R-squared:  0.2587 \n",
       "F-statistic:  38.5 on 7 and 745 DF,  p-value: < 2.2e-16\n"
      ]
     },
     "metadata": {},
     "output_type": "display_data"
    }
   ],
   "source": [
    "\n",
    "\n",
    "data(\"mroz\")\n",
    "\n",
    "lm.17.2 <- lm.1 <- lm(hours ~ nwifeinc + educ + exper + expersq + age +\n",
    "                        kidslt6 + kidsge6,\n",
    "                      data = mroz)\n",
    "summary(lm.17.2)"
   ]
  },
  {
   "cell_type": "code",
   "execution_count": 20,
   "metadata": {},
   "outputs": [
    {
     "data": {
      "text/html": [
       "746.678921710164"
      ],
      "text/latex": [
       "746.678921710164"
      ],
      "text/markdown": [
       "746.678921710164"
      ],
      "text/plain": [
       "[1] 746.6789"
      ]
     },
     "metadata": {},
     "output_type": "display_data"
    }
   ],
   "source": [
    "sd(lm.17.2$residuals)"
   ]
  },
  {
   "cell_type": "markdown",
   "metadata": {},
   "source": [
    "To estimate a Tobit model, we have to load the AER package. The rest is similar to linear regression methods. Just enter the formula and the data set and you will get your estimates."
   ]
  },
  {
   "cell_type": "code",
   "execution_count": 23,
   "metadata": {},
   "outputs": [
    {
     "data": {
      "text/plain": [
       "\n",
       "Call:\n",
       "tobit(formula = hours ~ nwifeinc + educ + exper + expersq + age + \n",
       "    kidslt6 + kidsge6, data = mroz)\n",
       "\n",
       "Observations:\n",
       "         Total  Left-censored     Uncensored Right-censored \n",
       "           753            325            428              0 \n",
       "\n",
       "Coefficients:\n",
       "              Estimate Std. Error z value Pr(>|z|)    \n",
       "(Intercept)  965.30528  446.43614   2.162 0.030599 *  \n",
       "nwifeinc      -8.81424    4.45910  -1.977 0.048077 *  \n",
       "educ          80.64561   21.58324   3.736 0.000187 ***\n",
       "exper        131.56430   17.27939   7.614 2.66e-14 ***\n",
       "expersq       -1.86416    0.53766  -3.467 0.000526 ***\n",
       "age          -54.40501    7.41850  -7.334 2.24e-13 ***\n",
       "kidslt6     -894.02174  111.87804  -7.991 1.34e-15 ***\n",
       "kidsge6      -16.21800   38.64139  -0.420 0.674701    \n",
       "Log(scale)     7.02289    0.03706 189.514  < 2e-16 ***\n",
       "---\n",
       "Signif. codes:  0 ‘***’ 0.001 ‘**’ 0.01 ‘*’ 0.05 ‘.’ 0.1 ‘ ’ 1\n",
       "\n",
       "Scale: 1122 \n",
       "\n",
       "Gaussian distribution\n",
       "Number of Newton-Raphson Iterations: 4 \n",
       "Log-likelihood: -3819 on 9 Df\n",
       "Wald-statistic: 253.9 on 7 Df, p-value: < 2.22e-16 \n"
      ]
     },
     "metadata": {},
     "output_type": "display_data"
    }
   ],
   "source": [
    "tobit.17.2 <- tobit(hours ~ nwifeinc + educ + exper + expersq + age +\n",
    "                      kidslt6 + kidsge6,\n",
    "                    data = mroz)\n",
    "summary(tobit.17.2)"
   ]
  },
  {
   "cell_type": "markdown",
   "metadata": {},
   "source": [
    "To obtain an R-squared value, calculate fitted values by inserting the (scaled 1122) linear predictors that are contained in the estimation results into equation 17.25 and calculate the square of the correlation between those fitted values and the real observations."
   ]
  },
  {
   "cell_type": "code",
   "execution_count": 24,
   "metadata": {},
   "outputs": [
    {
     "data": {
      "text/html": [
       "0.274244049959337"
      ],
      "text/latex": [
       "0.274244049959337"
      ],
      "text/markdown": [
       "0.274244049959337"
      ],
      "text/plain": [
       "[1] 0.274244"
      ]
     },
     "metadata": {},
     "output_type": "display_data"
    }
   ],
   "source": [
    "fitted <- pnorm(tobit.17.2$linear.predictors / 1122) * tobit.17.2$linear.predictors +\n",
    "  1122 * dnorm(tobit.17.2$linear.predictors / 1122)\n",
    "\n",
    "cor(mroz$hours,fitted)^2"
   ]
  },
  {
   "cell_type": "markdown",
   "metadata": {},
   "source": [
    "To get the average partial effect calculate the mean of the vector, which contains the values of the cumulative normal distribution function depending on the scaled linear predictors of the estimation:"
   ]
  },
  {
   "cell_type": "code",
   "execution_count": 25,
   "metadata": {},
   "outputs": [
    {
     "data": {
      "text/html": [
       "47.4757957845364"
      ],
      "text/latex": [
       "47.4757957845364"
      ],
      "text/markdown": [
       "47.4757957845364"
      ],
      "text/plain": [
       "[1] 47.4758"
      ]
     },
     "metadata": {},
     "output_type": "display_data"
    }
   ],
   "source": [
    "ape <- mean(pnorm(tobit.17.2$linear.predictors / 1122))\n",
    "ape * 80.65"
   ]
  },
  {
   "cell_type": "markdown",
   "metadata": {},
   "source": [
    "For the partial effect at the average we generate a vector with unity as the first value and the means of all the independent variables in the model. Then, multiply this vector with the coefficients of the model to get linear predictions, scale them and calculate the value of the cumulative normal distribution function."
   ]
  },
  {
   "cell_type": "code",
   "execution_count": 26,
   "metadata": {},
   "outputs": [
    {
     "data": {
      "text/html": [
       "<table>\n",
       "<tbody>\n",
       "\t<tr><td>52.03955</td></tr>\n",
       "</tbody>\n",
       "</table>\n"
      ],
      "text/latex": [
       "\\begin{tabular}{l}\n",
       "\t 52.03955\\\\\n",
       "\\end{tabular}\n"
      ],
      "text/markdown": [
       "\n",
       "| 52.03955 | \n",
       "\n",
       "\n"
      ],
      "text/plain": [
       "     [,1]    \n",
       "[1,] 52.03955"
      ]
     },
     "metadata": {},
     "output_type": "display_data"
    }
   ],
   "source": [
    "# PEA\n",
    "means <- c(1, mean(mroz$nwifeinc), mean(mroz$educ), mean(mroz$exper), mean(mroz$exper)^2,\n",
    "           mean(mroz$age), mean(mroz$kidslt6), mean(mroz$kidsge6))\n",
    "pea <- pnorm(tobit.17.2$coefficients %*% means / 1122)\n",
    "pea * 80.65"
   ]
  },
  {
   "cell_type": "markdown",
   "metadata": {},
   "source": [
    "Example 17.3\n",
    "\n",
    "Estimate the linear model"
   ]
  },
  {
   "cell_type": "code",
   "execution_count": null,
   "metadata": {},
   "outputs": [],
   "source": []
  },
  {
   "cell_type": "code",
   "execution_count": 27,
   "metadata": {},
   "outputs": [
    {
     "data": {
      "text/plain": [
       "\n",
       "Call:\n",
       "lm(formula = narr86 ~ pcnv + avgsen + tottime + ptime86 + qemp86 + \n",
       "    inc86 + black + hispan + born60, data = crime1)\n",
       "\n",
       "Residuals:\n",
       "    Min      1Q  Median      3Q     Max \n",
       "-1.0210 -0.4544 -0.2389  0.2686 11.5207 \n",
       "\n",
       "Coefficients:\n",
       "             Estimate Std. Error t value Pr(>|t|)    \n",
       "(Intercept)  0.576566   0.037894  15.215  < 2e-16 ***\n",
       "pcnv        -0.131886   0.040404  -3.264 0.001111 ** \n",
       "avgsen      -0.011332   0.012241  -0.926 0.354693    \n",
       "tottime      0.012069   0.009436   1.279 0.201003    \n",
       "ptime86     -0.040874   0.008813  -4.638 3.69e-06 ***\n",
       "qemp86      -0.051310   0.014486  -3.542 0.000404 ***\n",
       "inc86       -0.001462   0.000343  -4.261 2.10e-05 ***\n",
       "black        0.327010   0.045426   7.199 7.83e-13 ***\n",
       "hispan       0.193809   0.039716   4.880 1.12e-06 ***\n",
       "born60      -0.022465   0.033294  -0.675 0.499902    \n",
       "---\n",
       "Signif. codes:  0 ‘***’ 0.001 ‘**’ 0.01 ‘*’ 0.05 ‘.’ 0.1 ‘ ’ 1\n",
       "\n",
       "Residual standard error: 0.8287 on 2715 degrees of freedom\n",
       "Multiple R-squared:  0.07248,\tAdjusted R-squared:  0.0694 \n",
       "F-statistic: 23.57 on 9 and 2715 DF,  p-value: < 2.2e-16\n"
      ]
     },
     "metadata": {},
     "output_type": "display_data"
    }
   ],
   "source": [
    "\n",
    "\n",
    "data(\"crime1\")\n",
    "\n",
    "lm.17.3 <- lm(narr86 ~ pcnv + avgsen + tottime + ptime86 + \n",
    "                qemp86 + inc86 + black + hispan + born60,\n",
    "              data = crime1)\n",
    "summary(lm.17.3)"
   ]
  },
  {
   "cell_type": "markdown",
   "metadata": {},
   "source": [
    "Again, the standard error deviates from the book."
   ]
  },
  {
   "cell_type": "code",
   "execution_count": 28,
   "metadata": {},
   "outputs": [
    {
     "data": {
      "text/html": [
       "0.827359878028017"
      ],
      "text/latex": [
       "0.827359878028017"
      ],
      "text/markdown": [
       "0.827359878028017"
      ],
      "text/plain": [
       "[1] 0.8273599"
      ]
     },
     "metadata": {},
     "output_type": "display_data"
    }
   ],
   "source": [
    "sd(lm.17.3$residuals)\n"
   ]
  },
  {
   "cell_type": "markdown",
   "metadata": {},
   "source": [
    "To estimate the Poisson model we use the glm function and specify the formula, dataset and the family of the estimation procedure, i.e. Poisson. After the estimation we get the summary of the results and the log-likelihood. The R-squared of the estimation is the squared correlation of the Poisson model’s fitted values and the real observations."
   ]
  },
  {
   "cell_type": "code",
   "execution_count": 29,
   "metadata": {},
   "outputs": [
    {
     "data": {
      "text/plain": [
       "\n",
       "Call:\n",
       "glm(formula = narr86 ~ pcnv + avgsen + tottime + ptime86 + qemp86 + \n",
       "    inc86 + black + hispan + born60, family = poisson, data = crime1)\n",
       "\n",
       "Deviance Residuals: \n",
       "    Min       1Q   Median       3Q      Max  \n",
       "-1.5731  -0.9076  -0.6651   0.2183   7.4609  \n",
       "\n",
       "Coefficients:\n",
       "             Estimate Std. Error z value Pr(>|z|)    \n",
       "(Intercept) -0.599589   0.067250  -8.916  < 2e-16 ***\n",
       "pcnv        -0.401571   0.084971  -4.726 2.29e-06 ***\n",
       "avgsen      -0.023772   0.019946  -1.192   0.2333    \n",
       "tottime      0.024490   0.014750   1.660   0.0969 .  \n",
       "ptime86     -0.098558   0.020695  -4.763 1.91e-06 ***\n",
       "qemp86      -0.038019   0.029024  -1.310   0.1902    \n",
       "inc86       -0.008081   0.001041  -7.762 8.34e-15 ***\n",
       "black        0.660838   0.073834   8.950  < 2e-16 ***\n",
       "hispan       0.499813   0.073927   6.761 1.37e-11 ***\n",
       "born60      -0.051029   0.064052  -0.797   0.4256    \n",
       "---\n",
       "Signif. codes:  0 ‘***’ 0.001 ‘**’ 0.01 ‘*’ 0.05 ‘.’ 0.1 ‘ ’ 1\n",
       "\n",
       "(Dispersion parameter for poisson family taken to be 1)\n",
       "\n",
       "    Null deviance: 3208.5  on 2724  degrees of freedom\n",
       "Residual deviance: 2822.2  on 2715  degrees of freedom\n",
       "AIC: 4517.5\n",
       "\n",
       "Number of Fisher Scoring iterations: 6\n"
      ]
     },
     "metadata": {},
     "output_type": "display_data"
    }
   ],
   "source": [
    "poisson.17.3 <- glm(narr86 ~ pcnv + avgsen + tottime + ptime86 + \n",
    "                      qemp86 + inc86 + black + hispan + born60,\n",
    "                    data = crime1,\n",
    "                    family = poisson)\n",
    "summary(poisson.17.3)"
   ]
  },
  {
   "cell_type": "markdown",
   "metadata": {},
   "source": [
    "Log-likelihood"
   ]
  },
  {
   "cell_type": "code",
   "execution_count": 30,
   "metadata": {},
   "outputs": [
    {
     "data": {
      "text/plain": [
       "'log Lik.' -2248.761 (df=10)"
      ]
     },
     "metadata": {},
     "output_type": "display_data"
    }
   ],
   "source": [
    "logLik(poisson.17.3)"
   ]
  },
  {
   "cell_type": "code",
   "execution_count": 31,
   "metadata": {},
   "outputs": [
    {
     "data": {
      "text/html": [
       "0.0770039094153016"
      ],
      "text/latex": [
       "0.0770039094153016"
      ],
      "text/markdown": [
       "0.0770039094153016"
      ],
      "text/plain": [
       "[1] 0.07700391"
      ]
     },
     "metadata": {},
     "output_type": "display_data"
    }
   ],
   "source": [
    "cor(poisson.17.3$fitted.values, crime1$narr86)^2"
   ]
  },
  {
   "cell_type": "markdown",
   "metadata": {},
   "source": [
    "The standard errors can be scaled either manually by multiplying the variance of the coefficient (squared standard error) by the scale factor and taking the square root or by specifying the dispersion factor in the summary command.\n"
   ]
  },
  {
   "cell_type": "code",
   "execution_count": 33,
   "metadata": {},
   "outputs": [
    {
     "data": {
      "text/html": [
       "0.0163718355721037"
      ],
      "text/latex": [
       "0.0163718355721037"
      ],
      "text/markdown": [
       "0.0163718355721037"
      ],
      "text/plain": [
       "[1] 0.01637184"
      ]
     },
     "metadata": {},
     "output_type": "display_data"
    }
   ],
   "source": [
    "\n",
    "(0.014750^2 * 1.232)^0.5"
   ]
  },
  {
   "cell_type": "code",
   "execution_count": null,
   "metadata": {},
   "outputs": [],
   "source": []
  },
  {
   "cell_type": "code",
   "execution_count": 32,
   "metadata": {},
   "outputs": [
    {
     "data": {
      "text/plain": [
       "\n",
       "Call:\n",
       "glm(formula = narr86 ~ pcnv + avgsen + tottime + ptime86 + qemp86 + \n",
       "    inc86 + black + hispan + born60, family = poisson, data = crime1)\n",
       "\n",
       "Deviance Residuals: \n",
       "    Min       1Q   Median       3Q      Max  \n",
       "-1.5731  -0.9076  -0.6651   0.2183   7.4609  \n",
       "\n",
       "Coefficients:\n",
       "             Estimate Std. Error z value Pr(>|z|)    \n",
       "(Intercept) -0.599589   0.074645  -8.033 9.54e-16 ***\n",
       "pcnv        -0.401571   0.094314  -4.258 2.06e-05 ***\n",
       "avgsen      -0.023772   0.022139  -1.074    0.283    \n",
       "tottime      0.024490   0.016372   1.496    0.135    \n",
       "ptime86     -0.098558   0.022970  -4.291 1.78e-05 ***\n",
       "qemp86      -0.038019   0.032216  -1.180    0.238    \n",
       "inc86       -0.008081   0.001155  -6.993 2.68e-12 ***\n",
       "black        0.660838   0.081953   8.064 7.40e-16 ***\n",
       "hispan       0.499813   0.082055   6.091 1.12e-09 ***\n",
       "born60      -0.051029   0.071095  -0.718    0.473    \n",
       "---\n",
       "Signif. codes:  0 ‘***’ 0.001 ‘**’ 0.01 ‘*’ 0.05 ‘.’ 0.1 ‘ ’ 1\n",
       "\n",
       "(Dispersion parameter for poisson family taken to be 1.232)\n",
       "\n",
       "    Null deviance: 3208.5  on 2724  degrees of freedom\n",
       "Residual deviance: 2822.2  on 2715  degrees of freedom\n",
       "AIC: 4517.5\n",
       "\n",
       "Number of Fisher Scoring iterations: 6\n"
      ]
     },
     "metadata": {},
     "output_type": "display_data"
    }
   ],
   "source": [
    "summary(poisson.17.3, dispersion = 1.232)"
   ]
  },
  {
   "cell_type": "markdown",
   "metadata": {},
   "source": [
    "Example 17.4\n",
    "\n",
    "For censored regression models we have to use the survival package. The command Surv prepares the dependent variable to be used in survreg. It takes the variable “ldurat” as the interval. The argument event tells Surv whether a command is censored or not. I had to revert the variable cens, which is why I generated a further vector of dummies. The last option in Surv tells if the data are censored to the left or to the right.\n",
    "\n",
    "The independent variables and the data set are specified in the usual way. The distribution usually used is the Gaussian (referred to as “normal”) distribution."
   ]
  },
  {
   "cell_type": "code",
   "execution_count": 34,
   "metadata": {},
   "outputs": [
    {
     "data": {
      "text/plain": [
       "\n",
       "Call:\n",
       "survreg(formula = Surv(ldurat, event = as.numeric(cens != 1), \n",
       "    type = \"right\") ~ workprg + priors + tserved + felon + alcohol + \n",
       "    drugs + black + married + educ + age, data = recid, dist = \"gaussian\")\n",
       "                Value Std. Error     z       p\n",
       "(Intercept)  4.099386   0.347535 11.80 < 2e-16\n",
       "workprg     -0.062572   0.120037 -0.52  0.6022\n",
       "priors      -0.137253   0.021459 -6.40 1.6e-10\n",
       "tserved     -0.019331   0.002978 -6.49 8.5e-11\n",
       "felon        0.443995   0.145087  3.06  0.0022\n",
       "alcohol     -0.634909   0.144217 -4.40 1.1e-05\n",
       "drugs       -0.298160   0.132736 -2.25  0.0247\n",
       "black       -0.542718   0.117443 -4.62 3.8e-06\n",
       "married      0.340684   0.139843  2.44  0.0148\n",
       "educ         0.022920   0.025397  0.90  0.3668\n",
       "age          0.003910   0.000606  6.45 1.1e-10\n",
       "Log(scale)   0.593586   0.034412 17.25 < 2e-16\n",
       "\n",
       "Scale= 1.81 \n",
       "\n",
       "Gaussian distribution\n",
       "Loglik(model)= -1597.1   Loglik(intercept only)= -1680.4\n",
       "\tChisq= 166.74 on 10 degrees of freedom, p= 1.3e-30 \n",
       "Number of Newton-Raphson Iterations: 4 \n",
       "n= 1445 \n"
      ]
     },
     "metadata": {},
     "output_type": "display_data"
    }
   ],
   "source": [
    "data(\"recid\")\n",
    "\n",
    "surv.17.4 <- survreg(Surv(ldurat, event = as.numeric(cens!=1), type = \"right\") ~ \n",
    "                       workprg + priors + tserved + felon + alcohol + drugs +\n",
    "                       black + married + educ + age,\n",
    "                     dist = \"gaussian\",\n",
    "                     data = recid)\n",
    "summary(surv.17.4)"
   ]
  },
  {
   "cell_type": "markdown",
   "metadata": {},
   "source": [
    "Example 17.5\n",
    "\n",
    "Estimate the OLS model"
   ]
  },
  {
   "cell_type": "code",
   "execution_count": 35,
   "metadata": {},
   "outputs": [
    {
     "data": {
      "text/plain": [
       "\n",
       "Call:\n",
       "lm(formula = lwage ~ educ + exper + expersq, data = mroz)\n",
       "\n",
       "Residuals:\n",
       "     Min       1Q   Median       3Q      Max \n",
       "-3.08404 -0.30627  0.04952  0.37498  2.37115 \n",
       "\n",
       "Coefficients:\n",
       "              Estimate Std. Error t value Pr(>|t|)    \n",
       "(Intercept) -0.5220406  0.1986321  -2.628  0.00890 ** \n",
       "educ         0.1074896  0.0141465   7.598 1.94e-13 ***\n",
       "exper        0.0415665  0.0131752   3.155  0.00172 ** \n",
       "expersq     -0.0008112  0.0003932  -2.063  0.03974 *  \n",
       "---\n",
       "Signif. codes:  0 ‘***’ 0.001 ‘**’ 0.01 ‘*’ 0.05 ‘.’ 0.1 ‘ ’ 1\n",
       "\n",
       "Residual standard error: 0.6664 on 424 degrees of freedom\n",
       "  (325 observations deleted due to missingness)\n",
       "Multiple R-squared:  0.1568,\tAdjusted R-squared:  0.1509 \n",
       "F-statistic: 26.29 on 3 and 424 DF,  p-value: 1.302e-15\n"
      ]
     },
     "metadata": {},
     "output_type": "display_data"
    }
   ],
   "source": [
    "\n",
    "\n",
    "data(\"mroz\")\n",
    "\n",
    "lm.17.5 <- lm(lwage ~ educ + exper + expersq, data = mroz)\n",
    "summary(lm.17.5)"
   ]
  },
  {
   "cell_type": "markdown",
   "metadata": {},
   "source": [
    "To estimate the Heckit model we have to install the sampleSelection package. It contains a neat function called heckit, where we specify the formula for the model describing the causes of sample selection (first line) and the formula for the model of interest. Next, we specify the method used for estimation (two steps) and the sample."
   ]
  },
  {
   "cell_type": "code",
   "execution_count": 36,
   "metadata": {},
   "outputs": [
    {
     "ename": "ERROR",
     "evalue": "Error in heckit(inlf ~ educ + exper + expersq + nwifeinc + age + kidslt6 + : could not find function \"heckit\"\n",
     "output_type": "error",
     "traceback": [
      "Error in heckit(inlf ~ educ + exper + expersq + nwifeinc + age + kidslt6 + : could not find function \"heckit\"\nTraceback:\n"
     ]
    }
   ],
   "source": [
    "heckit.17.5 <- heckit(inlf ~ educ + exper + expersq + nwifeinc + age + kidslt6 + kidsge6,\n",
    "                      lwage ~ educ + exper + expersq,\n",
    "                      method = \"2step\",\n",
    "                      data = mroz)\n",
    "summary(heckit.17.5)"
   ]
  },
  {
   "cell_type": "code",
   "execution_count": null,
   "metadata": {},
   "outputs": [],
   "source": []
  },
  {
   "cell_type": "code",
   "execution_count": null,
   "metadata": {},
   "outputs": [],
   "source": []
  },
  {
   "cell_type": "code",
   "execution_count": null,
   "metadata": {},
   "outputs": [],
   "source": []
  },
  {
   "cell_type": "code",
   "execution_count": null,
   "metadata": {},
   "outputs": [],
   "source": []
  },
  {
   "cell_type": "code",
   "execution_count": null,
   "metadata": {},
   "outputs": [],
   "source": []
  },
  {
   "cell_type": "code",
   "execution_count": null,
   "metadata": {},
   "outputs": [],
   "source": []
  },
  {
   "cell_type": "code",
   "execution_count": null,
   "metadata": {},
   "outputs": [],
   "source": []
  },
  {
   "cell_type": "code",
   "execution_count": null,
   "metadata": {},
   "outputs": [],
   "source": []
  },
  {
   "cell_type": "code",
   "execution_count": null,
   "metadata": {},
   "outputs": [],
   "source": []
  },
  {
   "cell_type": "code",
   "execution_count": null,
   "metadata": {},
   "outputs": [],
   "source": []
  },
  {
   "cell_type": "code",
   "execution_count": null,
   "metadata": {},
   "outputs": [],
   "source": []
  },
  {
   "cell_type": "code",
   "execution_count": null,
   "metadata": {},
   "outputs": [],
   "source": []
  },
  {
   "cell_type": "code",
   "execution_count": null,
   "metadata": {},
   "outputs": [],
   "source": []
  },
  {
   "cell_type": "code",
   "execution_count": null,
   "metadata": {},
   "outputs": [],
   "source": []
  },
  {
   "cell_type": "code",
   "execution_count": null,
   "metadata": {},
   "outputs": [],
   "source": []
  },
  {
   "cell_type": "code",
   "execution_count": null,
   "metadata": {},
   "outputs": [],
   "source": []
  },
  {
   "cell_type": "code",
   "execution_count": null,
   "metadata": {},
   "outputs": [],
   "source": []
  },
  {
   "cell_type": "code",
   "execution_count": null,
   "metadata": {},
   "outputs": [],
   "source": []
  },
  {
   "cell_type": "code",
   "execution_count": null,
   "metadata": {},
   "outputs": [],
   "source": []
  },
  {
   "cell_type": "code",
   "execution_count": null,
   "metadata": {},
   "outputs": [],
   "source": []
  },
  {
   "cell_type": "code",
   "execution_count": null,
   "metadata": {},
   "outputs": [],
   "source": []
  },
  {
   "cell_type": "code",
   "execution_count": null,
   "metadata": {},
   "outputs": [],
   "source": []
  },
  {
   "cell_type": "code",
   "execution_count": null,
   "metadata": {},
   "outputs": [],
   "source": []
  },
  {
   "cell_type": "code",
   "execution_count": null,
   "metadata": {},
   "outputs": [],
   "source": []
  },
  {
   "cell_type": "code",
   "execution_count": null,
   "metadata": {},
   "outputs": [],
   "source": []
  },
  {
   "cell_type": "code",
   "execution_count": null,
   "metadata": {},
   "outputs": [],
   "source": []
  },
  {
   "cell_type": "code",
   "execution_count": null,
   "metadata": {},
   "outputs": [],
   "source": []
  },
  {
   "cell_type": "code",
   "execution_count": null,
   "metadata": {},
   "outputs": [],
   "source": []
  },
  {
   "cell_type": "code",
   "execution_count": null,
   "metadata": {},
   "outputs": [],
   "source": []
  },
  {
   "cell_type": "code",
   "execution_count": null,
   "metadata": {},
   "outputs": [],
   "source": []
  },
  {
   "cell_type": "code",
   "execution_count": null,
   "metadata": {},
   "outputs": [],
   "source": []
  },
  {
   "cell_type": "code",
   "execution_count": null,
   "metadata": {},
   "outputs": [],
   "source": []
  },
  {
   "cell_type": "code",
   "execution_count": null,
   "metadata": {},
   "outputs": [],
   "source": []
  },
  {
   "cell_type": "code",
   "execution_count": null,
   "metadata": {},
   "outputs": [],
   "source": []
  },
  {
   "cell_type": "code",
   "execution_count": null,
   "metadata": {},
   "outputs": [],
   "source": []
  },
  {
   "cell_type": "code",
   "execution_count": null,
   "metadata": {},
   "outputs": [],
   "source": []
  },
  {
   "cell_type": "code",
   "execution_count": 3,
   "metadata": {},
   "outputs": [
    {
     "data": {
      "text/html": [
       "<ol class=list-inline>\n",
       "\t<li>4</li>\n",
       "\t<li>5</li>\n",
       "\t<li>7</li>\n",
       "\t<li>5</li>\n",
       "\t<li>7</li>\n",
       "\t<li>4</li>\n",
       "\t<li>5</li>\n",
       "\t<li>4</li>\n",
       "\t<li>7</li>\n",
       "\t<li>7</li>\n",
       "</ol>\n"
      ],
      "text/latex": [
       "\\begin{enumerate*}\n",
       "\\item 4\n",
       "\\item 5\n",
       "\\item 7\n",
       "\\item 5\n",
       "\\item 7\n",
       "\\item 4\n",
       "\\item 5\n",
       "\\item 4\n",
       "\\item 7\n",
       "\\item 7\n",
       "\\end{enumerate*}\n"
      ],
      "text/markdown": [
       "1. 4\n",
       "2. 5\n",
       "3. 7\n",
       "4. 5\n",
       "5. 7\n",
       "6. 4\n",
       "7. 5\n",
       "8. 4\n",
       "9. 7\n",
       "10. 7\n",
       "\n",
       "\n"
      ],
      "text/plain": [
       " [1] 4 5 7 5 7 4 5 4 7 7"
      ]
     },
     "metadata": {},
     "output_type": "display_data"
    }
   ],
   "source": [
    "rbinom(n=10, size = 10, p = 0.5)"
   ]
  },
  {
   "cell_type": "code",
   "execution_count": 4,
   "metadata": {},
   "outputs": [
    {
     "name": "stdout",
     "output_type": "stream",
     "text": [
      "[1] 46\n"
     ]
    },
    {
     "data": {
      "text/html": [
       "56"
      ],
      "text/latex": [
       "56"
      ],
      "text/markdown": [
       "56"
      ],
      "text/plain": [
       "[1] 56"
      ]
     },
     "metadata": {},
     "output_type": "display_data"
    }
   ],
   "source": [
    "# Simulate 1 draw with a sample size of 100\n",
    "binomialSim <- rbinom(n = 1,size =100, p = 0.5)\n",
    "\n",
    "# Simulate 100 draw with a sample size of 1 \n",
    "BernoulliSim <- rbinom(n = 100, size = 1, p = 0.5)\n",
    "\n",
    "# Print the results from the binomial\n",
    "print(binomialSim)\n",
    "\n",
    "# Sum the results from the Bernoulli\n",
    "\n",
    "sum(BernoulliSim)"
   ]
  },
  {
   "cell_type": "markdown",
   "metadata": {},
   "source": [
    "Notice how the two results are similar, but not exactly the same. This is due to the inherent randomness of the simulated numbers. \n",
    "\n",
    "\n",
    "The logit actually has a wider tail than the probit\n",
    "\n",
    "\n",
    "## Bus data \n",
    " Notice how the trend estimate is both significantly different than zero and positive. This model tells us that commuting more days increases the chance someone takes the bus. \n",
    " \n",
    " \n",
    " degrees of freedom are usually the number of data points minus the number of parameters estimated. \n",
    " \n",
    " Wide-form input logistic regression\n",
    " \n",
    " \n",
    "       x fail success Total successProportion\n",
    "    1 a   12       2    14         0.1428571\n",
    "    2 b    3      11    14         0.7857143\n",
    "    \n",
    "    \n",
    "    \n",
    "For the second approach, model a 2 column matrix of successes and failures (e.g., number of no's and yes's per group).\n",
    "\n",
    "In this format, use the formula cbind(success, fail) ~ predictor.\n",
    "\n",
    "For the third approach, model the probability of success (e.g., group 1 had 75% yes and group 2 had 65% no) and the weight or number of observations per group (e.g., there were 40 individuals in group 1 and 100 individuals in group 2).\n",
    "\n",
    "In this format, the formula proportion of successes ~ response variable is used with weights = number in treatment.    \n",
    "\n",
    "```r\n",
    "# Fit a wide form logistic regression\n",
    "lr_2 <- glm(cbind(success, fail)~x,family =\"binomial\", data = dataWide)\n",
    "\n",
    "# Fit a a weighted form logistic regression\n",
    "lr_3 <- glm(successProportion~x,weights = Total,family =\"binomial\", data = dataWide)\n",
    "\n",
    "\n",
    "# print your results\n",
    "print(lr_2)\n",
    "print(lr_3)\n",
    "```\n"
   ]
  },
  {
   "cell_type": "code",
   "execution_count": null,
   "metadata": {},
   "outputs": [],
   "source": []
  },
  {
   "cell_type": "code",
   "execution_count": null,
   "metadata": {},
   "outputs": [],
   "source": []
  },
  {
   "cell_type": "code",
   "execution_count": null,
   "metadata": {},
   "outputs": [],
   "source": []
  },
  {
   "cell_type": "code",
   "execution_count": null,
   "metadata": {},
   "outputs": [],
   "source": []
  },
  {
   "cell_type": "code",
   "execution_count": 37,
   "metadata": {},
   "outputs": [
    {
     "name": "stderr",
     "output_type": "stream",
     "text": [
      "Parsed with column specification:\n",
      "cols(\n",
      "  CommuteDays = col_integer(),\n",
      "  MilesOneWay = col_double(),\n",
      "  Bus = col_character()\n",
      ")\n"
     ]
    }
   ],
   "source": [
    "bus = readr::read_csv(\"https://assets.datacamp.com/production/repositories/2698/datasets/e368234a66bbabc19b8da1fb42d3e1027508d710/busData.csv\")"
   ]
  },
  {
   "cell_type": "code",
   "execution_count": 38,
   "metadata": {},
   "outputs": [
    {
     "name": "stdout",
     "output_type": "stream",
     "text": [
      "Observations: 15,892\n",
      "Variables: 3\n",
      "$ CommuteDays <int> 5, 5, 5, 5, 3, 4, 5, 5, 5, 5, 5, 5, 5, 5, 5, 5, 5, 4, 5, …\n",
      "$ MilesOneWay <dbl> 19.54675, 19.54675, 19.54675, 19.54675, 19.54675, 21.6678…\n",
      "$ Bus         <chr> \"Yes\", \"Yes\", \"Yes\", \"Yes\", \"Yes\", \"Yes\", \"No\", \"No\", \"No…\n"
     ]
    }
   ],
   "source": [
    "glimpse(bus)"
   ]
  },
  {
   "cell_type": "code",
   "execution_count": 39,
   "metadata": {},
   "outputs": [
    {
     "data": {
      "text/html": [
       "<table>\n",
       "<thead><tr><th scope=col>CommuteDays</th><th scope=col>MilesOneWay</th><th scope=col>Bus</th></tr></thead>\n",
       "<tbody>\n",
       "\t<tr><td>5       </td><td>19.54675</td><td>Yes     </td></tr>\n",
       "\t<tr><td>5       </td><td>19.54675</td><td>Yes     </td></tr>\n",
       "\t<tr><td>5       </td><td>19.54675</td><td>Yes     </td></tr>\n",
       "\t<tr><td>5       </td><td>19.54675</td><td>Yes     </td></tr>\n",
       "\t<tr><td>3       </td><td>19.54675</td><td>Yes     </td></tr>\n",
       "\t<tr><td>4       </td><td>21.66784</td><td>Yes     </td></tr>\n",
       "\t<tr><td>5       </td><td>19.54675</td><td>No      </td></tr>\n",
       "\t<tr><td>5       </td><td>19.54675</td><td>No      </td></tr>\n",
       "\t<tr><td>5       </td><td>19.54675</td><td>No      </td></tr>\n",
       "\t<tr><td>5       </td><td>19.54675</td><td>No      </td></tr>\n",
       "</tbody>\n",
       "</table>\n"
      ],
      "text/latex": [
       "\\begin{tabular}{r|lll}\n",
       " CommuteDays & MilesOneWay & Bus\\\\\n",
       "\\hline\n",
       "\t 5        & 19.54675 & Yes     \\\\\n",
       "\t 5        & 19.54675 & Yes     \\\\\n",
       "\t 5        & 19.54675 & Yes     \\\\\n",
       "\t 5        & 19.54675 & Yes     \\\\\n",
       "\t 3        & 19.54675 & Yes     \\\\\n",
       "\t 4        & 21.66784 & Yes     \\\\\n",
       "\t 5        & 19.54675 & No      \\\\\n",
       "\t 5        & 19.54675 & No      \\\\\n",
       "\t 5        & 19.54675 & No      \\\\\n",
       "\t 5        & 19.54675 & No      \\\\\n",
       "\\end{tabular}\n"
      ],
      "text/markdown": [
       "\n",
       "CommuteDays | MilesOneWay | Bus | \n",
       "|---|---|---|---|---|---|---|---|---|---|\n",
       "| 5        | 19.54675 | Yes      | \n",
       "| 5        | 19.54675 | Yes      | \n",
       "| 5        | 19.54675 | Yes      | \n",
       "| 5        | 19.54675 | Yes      | \n",
       "| 3        | 19.54675 | Yes      | \n",
       "| 4        | 21.66784 | Yes      | \n",
       "| 5        | 19.54675 | No       | \n",
       "| 5        | 19.54675 | No       | \n",
       "| 5        | 19.54675 | No       | \n",
       "| 5        | 19.54675 | No       | \n",
       "\n",
       "\n"
      ],
      "text/plain": [
       "   CommuteDays MilesOneWay Bus\n",
       "1  5           19.54675    Yes\n",
       "2  5           19.54675    Yes\n",
       "3  5           19.54675    Yes\n",
       "4  5           19.54675    Yes\n",
       "5  3           19.54675    Yes\n",
       "6  4           21.66784    Yes\n",
       "7  5           19.54675    No \n",
       "8  5           19.54675    No \n",
       "9  5           19.54675    No \n",
       "10 5           19.54675    No "
      ]
     },
     "metadata": {},
     "output_type": "display_data"
    }
   ],
   "source": [
    "head(bus,10)"
   ]
  },
  {
   "cell_type": "code",
   "execution_count": 40,
   "metadata": {},
   "outputs": [],
   "source": [
    "busOut = glm(as.factor(Bus)~as.numeric(CommuteDays), family = \"binomial\",data = bus)"
   ]
  },
  {
   "cell_type": "code",
   "execution_count": 41,
   "metadata": {},
   "outputs": [
    {
     "data": {
      "text/plain": [
       "\n",
       "Call:\n",
       "glm(formula = as.factor(Bus) ~ as.numeric(CommuteDays), family = \"binomial\", \n",
       "    data = bus)\n",
       "\n",
       "Deviance Residuals: \n",
       "    Min       1Q   Median       3Q      Max  \n",
       "-0.9560  -0.8595  -0.8595   1.5330   1.7668  \n",
       "\n",
       "Coefficients:\n",
       "                        Estimate Std. Error z value Pr(>|z|)    \n",
       "(Intercept)             -1.45493    0.11471 -12.683  < 2e-16 ***\n",
       "as.numeric(CommuteDays)  0.12985    0.02312   5.616 1.96e-08 ***\n",
       "---\n",
       "Signif. codes:  0 ‘***’ 0.001 ‘**’ 0.01 ‘*’ 0.05 ‘.’ 0.1 ‘ ’ 1\n",
       "\n",
       "(Dispersion parameter for binomial family taken to be 1)\n",
       "\n",
       "    Null deviance: 19568  on 15891  degrees of freedom\n",
       "Residual deviance: 19536  on 15890  degrees of freedom\n",
       "AIC: 19540\n",
       "\n",
       "Number of Fisher Scoring iterations: 4\n"
      ]
     },
     "metadata": {},
     "output_type": "display_data"
    }
   ],
   "source": [
    "summary(busOut)"
   ]
  },
  {
   "cell_type": "code",
   "execution_count": 43,
   "metadata": {},
   "outputs": [
    {
     "data": {
      "text/plain": [
       "\n",
       "Call:\n",
       "glm(formula = factor(Bus) ~ CommuteDays, family = binomial(\"logit\"), \n",
       "    data = bus)\n",
       "\n",
       "Deviance Residuals: \n",
       "    Min       1Q   Median       3Q      Max  \n",
       "-0.9560  -0.8595  -0.8595   1.5330   1.7668  \n",
       "\n",
       "Coefficients:\n",
       "            Estimate Std. Error z value Pr(>|z|)    \n",
       "(Intercept) -1.45493    0.11471 -12.683  < 2e-16 ***\n",
       "CommuteDays  0.12985    0.02312   5.616 1.96e-08 ***\n",
       "---\n",
       "Signif. codes:  0 ‘***’ 0.001 ‘**’ 0.01 ‘*’ 0.05 ‘.’ 0.1 ‘ ’ 1\n",
       "\n",
       "(Dispersion parameter for binomial family taken to be 1)\n",
       "\n",
       "    Null deviance: 19568  on 15891  degrees of freedom\n",
       "Residual deviance: 19536  on 15890  degrees of freedom\n",
       "AIC: 19540\n",
       "\n",
       "Number of Fisher Scoring iterations: 4\n"
      ]
     },
     "metadata": {},
     "output_type": "display_data"
    },
    {
     "data": {
      "text/plain": [
       "\n",
       "Call:\n",
       "glm(formula = factor(Bus) ~ CommuteDays, family = binomial(\"probit\"), \n",
       "    data = bus)\n",
       "\n",
       "Deviance Residuals: \n",
       "    Min       1Q   Median       3Q      Max  \n",
       "-0.9545  -0.8596  -0.8596   1.5328   1.7706  \n",
       "\n",
       "Coefficients:\n",
       "            Estimate Std. Error z value Pr(>|z|)    \n",
       "(Intercept) -0.88951    0.06833 -13.017  < 2e-16 ***\n",
       "CommuteDays  0.07810    0.01380   5.658 1.53e-08 ***\n",
       "---\n",
       "Signif. codes:  0 ‘***’ 0.001 ‘**’ 0.01 ‘*’ 0.05 ‘.’ 0.1 ‘ ’ 1\n",
       "\n",
       "(Dispersion parameter for binomial family taken to be 1)\n",
       "\n",
       "    Null deviance: 19568  on 15891  degrees of freedom\n",
       "Residual deviance: 19536  on 15890  degrees of freedom\n",
       "AIC: 19540\n",
       "\n",
       "Number of Fisher Scoring iterations: 4\n"
      ]
     },
     "metadata": {},
     "output_type": "display_data"
    }
   ],
   "source": [
    "# Fit a GLM with a logit link and save it as busLogit\n",
    "busLogit <- glm(factor(Bus)~CommuteDays, data = bus,family = binomial(\"logit\") )\n",
    "\n",
    "# Fit a GLM with probit link and save it as busProbit\n",
    "busProbit <- glm(factor(Bus)~CommuteDays, data = bus,family = binomial(\"probit\")  )\n",
    "\n",
    "# Print model summaries\n",
    "summary(busLogit)\n",
    "summary(busProbit)"
   ]
  },
  {
   "cell_type": "markdown",
   "metadata": {},
   "source": [
    "The coefficient estimates for CommuteDays differ, but a statistically significant relationship exists with both models.\n",
    "\n",
    "Notice how both model produce the same statistical result, but have different coefficient estimates because both models have different link functions. \n",
    "\n",
    "\n",
    "Simulating a logit\n",
    "\n",
    "Simulations can help us to understand distributions, evaluate our models, and compare study designs. During this exercise, you will simulate a logit distribution. This will allow to generate data with known parameters. This can be helpful when testing models or comparing study designs (e.g., how many samples do we need to collect?)."
   ]
  },
  {
   "cell_type": "code",
   "execution_count": null,
   "metadata": {},
   "outputs": [],
   "source": []
  },
  {
   "cell_type": "code",
   "execution_count": null,
   "metadata": {},
   "outputs": [],
   "source": []
  },
  {
   "cell_type": "code",
   "execution_count": null,
   "metadata": {},
   "outputs": [],
   "source": []
  },
  {
   "cell_type": "code",
   "execution_count": null,
   "metadata": {},
   "outputs": [],
   "source": []
  }
 ],
 "metadata": {
  "kernelspec": {
   "display_name": "R",
   "language": "R",
   "name": "ir"
  },
  "language_info": {
   "codemirror_mode": "r",
   "file_extension": ".r",
   "mimetype": "text/x-r-source",
   "name": "R",
   "pygments_lexer": "r",
   "version": "3.5.1"
  }
 },
 "nbformat": 4,
 "nbformat_minor": 2
}
