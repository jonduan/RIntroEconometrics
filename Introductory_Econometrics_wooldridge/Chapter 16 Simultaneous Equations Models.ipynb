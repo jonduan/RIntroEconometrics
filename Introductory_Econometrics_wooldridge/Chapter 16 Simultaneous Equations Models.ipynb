{
 "cells": [
  {
   "cell_type": "code",
   "execution_count": 1,
   "metadata": {
    "ExecuteTime": {
     "end_time": "2018-12-03T04:45:24.852579Z",
     "start_time": "2018-12-03T04:45:24.778Z"
    }
   },
   "outputs": [
    {
     "name": "stderr",
     "output_type": "stream",
     "text": [
      "\n",
      "Please cite as: \n",
      "\n",
      " Hlavac, Marek (2018). stargazer: Well-Formatted Regression and Summary Statistics Tables.\n",
      " R package version 5.2.2. https://CRAN.R-project.org/package=stargazer \n",
      "\n"
     ]
    }
   ],
   "source": [
    "library(wooldridge)\n",
    "library(stargazer)\n",
    "library(knitr)"
   ]
  },
  {
   "cell_type": "code",
   "execution_count": null,
   "metadata": {},
   "outputs": [],
   "source": []
  },
  {
   "cell_type": "code",
   "execution_count": null,
   "metadata": {},
   "outputs": [],
   "source": []
  },
  {
   "cell_type": "markdown",
   "metadata": {},
   "source": [
    "# Example 16.4: INFLATION AND OPENNESS\n",
    "Data from D. Romer (1993), Openness and Inflation: Theory and Evidence, Quarterly Journal of Economics 108, 869-903. The data are included in the article.\n",
    "\n",
    "$$inf = \\beta_{10} + \\alpha_1open + \\beta_{11}log(pcinc) + \\mu_1$$ $$open = \\beta_{20} + \\alpha_2inf + \\beta_{21}log(pcinc) + \\beta_{22}log(land) + \\mu_2$$\n",
    "\n",
    "Example 16.6: INFLATION AND OPENNESS\n",
    "$$\\widehat{open} = \\beta_0 + \\beta_{1}log(pcinc) + \\beta_{2}log(land)$$"
   ]
  },
  {
   "cell_type": "code",
   "execution_count": null,
   "metadata": {},
   "outputs": [],
   "source": []
  },
  {
   "cell_type": "code",
   "execution_count": null,
   "metadata": {},
   "outputs": [],
   "source": []
  },
  {
   "cell_type": "markdown",
   "metadata": {},
   "source": [
    "$$\\widehat{inf} = \\beta_0 + \\beta_{1}open + \\beta_{2}log(pcinc)$$\n",
    "\n",
    "Use the ivreg function in the AER (Applied Econometrics with R) package to estimate."
   ]
  },
  {
   "cell_type": "code",
   "execution_count": null,
   "metadata": {},
   "outputs": [],
   "source": []
  },
  {
   "cell_type": "code",
   "execution_count": 3,
   "metadata": {
    "ExecuteTime": {
     "end_time": "2018-12-03T04:46:30.716747Z",
     "start_time": "2018-12-03T04:46:29.454Z"
    }
   },
   "outputs": [
    {
     "name": "stderr",
     "output_type": "stream",
     "text": [
      "Loading required package: car\n",
      "Loading required package: carData\n",
      "Loading required package: lmtest\n",
      "Loading required package: zoo\n",
      "\n",
      "Attaching package: 'zoo'\n",
      "\n",
      "The following objects are masked from 'package:base':\n",
      "\n",
      "    as.Date, as.Date.numeric\n",
      "\n",
      "Loading required package: sandwich\n",
      "Loading required package: survival\n"
     ]
    },
    {
     "name": "stdout",
     "output_type": "stream",
     "text": [
      "\n",
      "=============================================================================\n",
      "                                            Dependent variable:              \n",
      "                               ----------------------------------------------\n",
      "                                         open                    inf         \n",
      "                                          OLS                instrumental    \n",
      "                                                               variable      \n",
      "                                          (1)                    (2)         \n",
      "-----------------------------------------------------------------------------\n",
      "open                                                     -0.33749** (0.14412)\n",
      "lpcinc                             0.54648 (1.49324)      0.37582 (2.01508)  \n",
      "lland                            -7.56710*** (0.81422)                       \n",
      "Constant                        117.08450*** (15.84830)  26.89934* (15.40120)\n",
      "-----------------------------------------------------------------------------\n",
      "Observations                              114                    114         \n",
      "R2                                      0.44867                0.03088       \n",
      "Adjusted R2                             0.43873                0.01341       \n",
      "Residual Std. Error (df = 111)         17.79559                23.83581      \n",
      "F Statistic                    45.16537*** (df = 2; 111)                     \n",
      "=============================================================================\n",
      "Note:                                             *p<0.1; **p<0.05; ***p<0.01\n"
     ]
    }
   ],
   "source": [
    "library(AER)\n",
    "inflation_IV <- ivreg(inf ~ open + lpcinc | lpcinc + lland, data = openness)\n",
    "stargazer(type = \"text\",open_model, inflation_IV,  single.row = TRUE, header = FALSE, digits=5)"
   ]
  },
  {
   "cell_type": "code",
   "execution_count": null,
   "metadata": {},
   "outputs": [],
   "source": []
  },
  {
   "cell_type": "code",
   "execution_count": null,
   "metadata": {},
   "outputs": [],
   "source": []
  },
  {
   "cell_type": "code",
   "execution_count": null,
   "metadata": {},
   "outputs": [],
   "source": []
  }
 ],
 "metadata": {
  "kernelspec": {
   "display_name": "R",
   "language": "R",
   "name": "ir"
  },
  "language_info": {
   "codemirror_mode": "r",
   "file_extension": ".r",
   "mimetype": "text/x-r-source",
   "name": "R",
   "pygments_lexer": "r",
   "version": "3.5.1"
  }
 },
 "nbformat": 4,
 "nbformat_minor": 2
}
