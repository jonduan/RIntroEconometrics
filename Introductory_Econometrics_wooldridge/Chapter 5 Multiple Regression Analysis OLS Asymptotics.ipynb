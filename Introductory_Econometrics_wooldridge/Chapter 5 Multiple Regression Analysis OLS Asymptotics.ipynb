{
 "cells": [
  {
   "cell_type": "code",
   "execution_count": 1,
   "metadata": {
    "ExecuteTime": {
     "end_time": "2018-12-03T03:19:48.798184Z",
     "start_time": "2018-12-03T03:19:48.718Z"
    }
   },
   "outputs": [
    {
     "name": "stderr",
     "output_type": "stream",
     "text": [
      "\n",
      "Please cite as: \n",
      "\n",
      " Hlavac, Marek (2018). stargazer: Well-Formatted Regression and Summary Statistics Tables.\n",
      " R package version 5.2.2. https://CRAN.R-project.org/package=stargazer \n",
      "\n"
     ]
    }
   ],
   "source": [
    "library(wooldridge)\n",
    "library(stargazer)\n",
    "library(knitr)"
   ]
  },
  {
   "cell_type": "code",
   "execution_count": null,
   "metadata": {},
   "outputs": [],
   "source": []
  },
  {
   "cell_type": "markdown",
   "metadata": {},
   "source": [
    "# Example 5.1: Housing Prices and Distance From an Incinerator"
   ]
  },
  {
   "cell_type": "code",
   "execution_count": 2,
   "metadata": {
    "ExecuteTime": {
     "end_time": "2018-12-03T03:20:01.323982Z",
     "start_time": "2018-12-03T03:20:01.262Z"
    }
   },
   "outputs": [],
   "source": [
    "data(\"hprice3\")"
   ]
  },
  {
   "cell_type": "code",
   "execution_count": 4,
   "metadata": {
    "ExecuteTime": {
     "end_time": "2018-12-03T03:21:03.255310Z",
     "start_time": "2018-12-03T03:21:03.168Z"
    }
   },
   "outputs": [
    {
     "data": {
      "image/png": "[encoded data removed]",
      "text/plain": [
       "Plot with title \" \""
      ]
     },
     "metadata": {},
     "output_type": "display_data"
    }
   ],
   "source": [
    "par(mfrow=c(1,1))\n",
    "\n",
    "plot(y = hprice3$price, x = hprice3$dist, main = \" \", xlab = \"Distance to Incinerator in feet\", ylab = \"Selling Price\",  frame = FALSE, pch = 21, bg = \"lightgrey\")\n",
    "abline(lm(price ~ dist, data=hprice3), col = \"blue\", lwd=2)"
   ]
  },
  {
   "cell_type": "markdown",
   "metadata": {},
   "source": [
    "Next, model the $log($price$)$ against the $log($dist$)$ to estimate the percentage relationship between the two.\n",
    "\n",
    "$$price = \\alpha + \\beta_1 dist$$\n",
    "\n",
    "price_dist_model <- lm(lprice ~ ldist, data = hprice3)\n",
    "Create another model that controls for \"quality\" variables, such as square footage area per house.\n",
    "\n",
    "$$price = \\alpha + \\beta_1 dist + \\beta_2 area$$\n",
    "\n",
    "price_area_model <- lm(lprice ~ ldist + larea, data = hprice3)\n",
    "Compare the coefficients of both models. Notice that adding area improves the quality of the model, but also reduces the coefficient size of dist."
   ]
  },
  {
   "cell_type": "code",
   "execution_count": 6,
   "metadata": {
    "ExecuteTime": {
     "end_time": "2018-12-03T03:21:50.396760Z",
     "start_time": "2018-12-03T03:21:50.371Z"
    }
   },
   "outputs": [],
   "source": [
    "price_dist_model <- lm(lprice ~ ldist, data = hprice3)"
   ]
  },
  {
   "cell_type": "code",
   "execution_count": 7,
   "metadata": {
    "ExecuteTime": {
     "end_time": "2018-12-03T03:21:55.905099Z",
     "start_time": "2018-12-03T03:21:55.885Z"
    }
   },
   "outputs": [],
   "source": [
    "price_area_model <- lm(lprice ~ ldist + larea, data = hprice3)"
   ]
  },
  {
   "cell_type": "code",
   "execution_count": 9,
   "metadata": {
    "ExecuteTime": {
     "end_time": "2018-12-03T03:22:06.836956Z",
     "start_time": "2018-12-03T03:22:06.815Z"
    }
   },
   "outputs": [
    {
     "data": {
      "text/plain": [
       "\n",
       "Call:\n",
       "lm(formula = lprice ~ ldist, data = hprice3)\n",
       "\n",
       "Residuals:\n",
       "     Min       1Q   Median       3Q      Max \n",
       "-1.22356 -0.28076 -0.05527  0.27992  1.29332 \n",
       "\n",
       "Coefficients:\n",
       "            Estimate Std. Error t value Pr(>|t|)    \n",
       "(Intercept)  8.25750    0.47383  17.427  < 2e-16 ***\n",
       "ldist        0.31722    0.04811   6.594 1.78e-10 ***\n",
       "---\n",
       "Signif. codes:  0 '***' 0.001 '**' 0.01 '*' 0.05 '.' 0.1 ' ' 1\n",
       "\n",
       "Residual standard error: 0.4117 on 319 degrees of freedom\n",
       "Multiple R-squared:  0.1199,\tAdjusted R-squared:  0.1172 \n",
       "F-statistic: 43.48 on 1 and 319 DF,  p-value: 1.779e-10\n"
      ]
     },
     "metadata": {},
     "output_type": "display_data"
    }
   ],
   "source": [
    "summary(price_dist_model)"
   ]
  },
  {
   "cell_type": "code",
   "execution_count": 10,
   "metadata": {
    "ExecuteTime": {
     "end_time": "2018-12-03T03:22:07.444399Z",
     "start_time": "2018-12-03T03:22:07.422Z"
    }
   },
   "outputs": [
    {
     "data": {
      "text/plain": [
       "\n",
       "Call:\n",
       "lm(formula = lprice ~ ldist + larea, data = hprice3)\n",
       "\n",
       "Residuals:\n",
       "     Min       1Q   Median       3Q      Max \n",
       "-1.23380 -0.18820 -0.01723  0.21751  0.86039 \n",
       "\n",
       "Coefficients:\n",
       "            Estimate Std. Error t value Pr(>|t|)    \n",
       "(Intercept)  3.49394    0.49065   7.121 7.18e-12 ***\n",
       "ldist        0.19623    0.03816   5.142 4.77e-07 ***\n",
       "larea        0.78368    0.05358  14.625  < 2e-16 ***\n",
       "---\n",
       "Signif. codes:  0 '***' 0.001 '**' 0.01 '*' 0.05 '.' 0.1 ' ' 1\n",
       "\n",
       "Residual standard error: 0.3188 on 318 degrees of freedom\n",
       "Multiple R-squared:  0.4738,\tAdjusted R-squared:  0.4705 \n",
       "F-statistic: 143.2 on 2 and 318 DF,  p-value: < 2.2e-16\n"
      ]
     },
     "metadata": {},
     "output_type": "display_data"
    }
   ],
   "source": [
    "\n",
    "summary(price_area_model)"
   ]
  },
  {
   "cell_type": "code",
   "execution_count": 12,
   "metadata": {
    "ExecuteTime": {
     "end_time": "2018-12-03T03:23:25.068163Z",
     "start_time": "2018-12-03T03:23:24.899Z"
    }
   },
   "outputs": [
    {
     "name": "stdout",
     "output_type": "stream",
     "text": [
      "\n",
      "========================================================================\n",
      "                                    Dependent variable:                 \n",
      "                    ----------------------------------------------------\n",
      "                                           lprice                       \n",
      "                               (1)                       (2)            \n",
      "------------------------------------------------------------------------\n",
      "ldist                 0.31722*** (0.04811)       0.19623*** (0.03816)   \n",
      "larea                                            0.78368*** (0.05358)   \n",
      "Constant              8.25750*** (0.47383)       3.49394*** (0.49065)   \n",
      "------------------------------------------------------------------------\n",
      "Observations                   321                       321            \n",
      "R2                           0.11994                   0.47385          \n",
      "Adjusted R2                  0.11718                   0.47054          \n",
      "Residual Std. Error    0.41170 (df = 319)         0.31883 (df = 318)    \n",
      "F Statistic         43.47673*** (df = 1; 319) 143.19470*** (df = 2; 318)\n",
      "========================================================================\n",
      "Note:                                        *p<0.1; **p<0.05; ***p<0.01\n"
     ]
    }
   ],
   "source": [
    "stargazer(type = \"text\",price_dist_model, price_area_model,  single.row = TRUE, header = FALSE, digits=5)"
   ]
  },
  {
   "cell_type": "code",
   "execution_count": null,
   "metadata": {},
   "outputs": [],
   "source": []
  },
  {
   "cell_type": "code",
   "execution_count": 13,
   "metadata": {
    "ExecuteTime": {
     "end_time": "2018-12-03T03:23:46.238504Z",
     "start_time": "2018-12-03T03:23:46.109Z"
    }
   },
   "outputs": [
    {
     "data": {
      "image/png": "[encoded data removed]",
      "text/plain": [
       "Plot with title \"Log(square footage of house)\""
      ]
     },
     "metadata": {},
     "output_type": "display_data"
    }
   ],
   "source": [
    "#Graphing illustrates the larger coefficient for area.\n",
    "\n",
    "par(mfrow=c(1,2))\n",
    "\n",
    "point_size <- 0.80\n",
    "\n",
    "plot(y = hprice3$lprice, x = hprice3$ldist, frame = FALSE, \n",
    "main = \"Log(distance from incinerator)\", ylab = \"\", xlab=\"\", \n",
    "pch = 21, bg = \"lightgrey\", cex=point_size)\n",
    "mtext(side=2, line=2, \"Log( selling price )\", cex=1.25)\n",
    "abline(lm(lprice ~ ldist, data=hprice3), col = \"blue\", lwd=2)\n",
    "\n",
    "plot(y = hprice3$lprice, x = hprice3$larea, frame = FALSE, main = \"Log(square footage of house)\", ylab = \" \", xlab=\"\", pch = 21, bg = \"lightgrey\", cex=point_size)\n",
    "abline(lm(lprice ~ larea, data=hprice3), col = \"blue\", lwd=2)"
   ]
  },
  {
   "cell_type": "code",
   "execution_count": null,
   "metadata": {},
   "outputs": [],
   "source": []
  }
 ],
 "metadata": {
  "kernelspec": {
   "display_name": "R",
   "language": "R",
   "name": "ir"
  },
  "language_info": {
   "codemirror_mode": "r",
   "file_extension": ".r",
   "mimetype": "text/x-r-source",
   "name": "R",
   "pygments_lexer": "r",
   "version": "3.5.1"
  }
 },
 "nbformat": 4,
 "nbformat_minor": 2
}
