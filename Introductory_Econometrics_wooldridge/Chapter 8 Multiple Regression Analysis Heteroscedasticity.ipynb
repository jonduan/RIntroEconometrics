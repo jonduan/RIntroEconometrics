{
 "cells": [
  {
   "cell_type": "code",
   "execution_count": 1,
   "metadata": {
    "ExecuteTime": {
     "end_time": "2019-01-16T06:06:02.607576Z",
     "start_time": "2019-01-16T06:06:02.540Z"
    }
   },
   "outputs": [
    {
     "name": "stderr",
     "output_type": "stream",
     "text": [
      "\n",
      "Please cite as: \n",
      "\n",
      " Hlavac, Marek (2018). stargazer: Well-Formatted Regression and Summary Statistics Tables.\n",
      " R package version 5.2.2. https://CRAN.R-project.org/package=stargazer \n",
      "\n"
     ]
    }
   ],
   "source": [
    "library(wooldridge)\n",
    "library(stargazer)\n",
    "library(knitr)"
   ]
  },
  {
   "cell_type": "code",
   "execution_count": null,
   "metadata": {},
   "outputs": [],
   "source": [
    "pacman::p_load(wooldridge,stargazer,broom,tidyverse,ggplot2, lmtest, sandwich,\n",
    "               dplyr,tidyr,moderndive,jtools,sjPlot,dotwhisker,FSA,readxl,texreg,\n",
    "              car)"
   ]
  },
  {
   "cell_type": "code",
   "execution_count": 1,
   "metadata": {},
   "outputs": [
    {
     "name": "stderr",
     "output_type": "stream",
     "text": [
      "Installing package into ‘/home/jupyter/R/x86_64-pc-linux-gnu-library/3.5’\n",
      "(as ‘lib’ is unspecified)\n",
      "Warning message:\n",
      "“package ‘PoEdata’ is not available (for R version 3.5.1)”"
     ]
    }
   ],
   "source": [
    "# install.packages(\"PoEdata\")"
   ]
  },
  {
   "cell_type": "code",
   "execution_count": 2,
   "metadata": {},
   "outputs": [
    {
     "ename": "ERROR",
     "evalue": "Error in find.package(package, lib.loc, verbose = verbose): there is no package called ‘PoEdata’\n",
     "output_type": "error",
     "traceback": [
      "Error in find.package(package, lib.loc, verbose = verbose): there is no package called ‘PoEdata’\nTraceback:\n",
      "1. data(\"food\", package = \"PoEdata\")",
      "2. find.package(package, lib.loc, verbose = verbose)",
      "3. stop(gettextf(\"there is no package called %s\", sQuote(pkg)), \n .     domain = NA)"
     ]
    }
   ],
   "source": [
    "# data(\"food\",package=\"PoEdata\") \n",
    "# mod1 <- lm(food_exp~income, data=food) \n",
    "# plot(food$income,food$food_exp, type=\"p\", \n",
    "# \txlab=\"income\", ylab=\"food expenditure\") \n",
    "# abline(mod1) \n"
   ]
  },
  {
   "cell_type": "markdown",
   "metadata": {},
   "source": [
    "\n",
    "Basically you need the sandwich package, which computes robust covariance matrix estimators. You also need some way to use the variance estimator in a linear model, and the lmtest package is the solution. You will not get the same results as Stata, however, unless you use the HC1 estimator; the default is HC3, for reasons explained in ?vcovHC.\n",
    "\n",
    "\n",
    "> library(lmtest)\n",
    "> library(sandwich)\n",
    "> coeftest(model, vcov = vcovHC(m, type=\"HC1\"))\n",
    "\n",
    "\n",
    "The main point is that the results are exactly the same. Interestingly, some of the robust standard errors are smaller than the model-based errors, and the effect of setting is now significant"
   ]
  },
  {
   "cell_type": "markdown",
   "metadata": {},
   "source": [
    "## Example 8.1\n",
    "\n",
    "After loading the data and generating the dummy variables from chapter 7 estimate the model in the already familiar way.\n",
    "\n",
    "\n",
    "Chapter 8 - Heteroskedasticity\n",
    "\n",
    "    Example 8.1: Log Wage Equation with Heteroscedasticity-Robust Standard Errors\n",
    "\n",
    "use http://fmwww.bc.edu/ec-p/data/wooldridge/wage2\n",
    "\n",
    "gen single=(~married)\n",
    "\n",
    "gen male=(~female)\n",
    "\n",
    "gen marrmale=male*married\n",
    "\n",
    "gen marrfem=female*married\n",
    "\n",
    "gen singfem=single*female\n",
    "\n",
    "reg lwage marrmale marrfem singfem educ exper expersq tenure tenursq, robust\n",
    "\n",
    "\n",
    "reg lwage marrmale marrfem singfem educ exper expersq tenure tenursq"
   ]
  },
  {
   "cell_type": "code",
   "execution_count": 3,
   "metadata": {},
   "outputs": [
    {
     "data": {
      "text/plain": [
       "\n",
       "Call:\n",
       "lm(formula = lwage ~ marrmale + marrfem + singfem + educ + exper + \n",
       "    expersq + tenure + tenursq, data = wage1)\n",
       "\n",
       "Residuals:\n",
       "     Min       1Q   Median       3Q      Max \n",
       "-1.89697 -0.24060 -0.02689  0.23144  1.09197 \n",
       "\n",
       "Coefficients:\n",
       "              Estimate Std. Error t value Pr(>|t|)    \n",
       "(Intercept)  0.3213781  0.1000090   3.213 0.001393 ** \n",
       "marrmale     0.2126757  0.0553572   3.842 0.000137 ***\n",
       "marrfem     -0.1982676  0.0578355  -3.428 0.000656 ***\n",
       "singfem     -0.1103502  0.0557421  -1.980 0.048272 *  \n",
       "educ         0.0789103  0.0066945  11.787  < 2e-16 ***\n",
       "exper        0.0268006  0.0052428   5.112 4.50e-07 ***\n",
       "expersq     -0.0005352  0.0001104  -4.847 1.66e-06 ***\n",
       "tenure       0.0290875  0.0067620   4.302 2.03e-05 ***\n",
       "tenursq     -0.0005331  0.0002312  -2.306 0.021531 *  \n",
       "---\n",
       "Signif. codes:  0 ‘***’ 0.001 ‘**’ 0.01 ‘*’ 0.05 ‘.’ 0.1 ‘ ’ 1\n",
       "\n",
       "Residual standard error: 0.3933 on 517 degrees of freedom\n",
       "Multiple R-squared:  0.4609,\tAdjusted R-squared:  0.4525 \n",
       "F-statistic: 55.25 on 8 and 517 DF,  p-value: < 2.2e-16\n"
      ]
     },
     "metadata": {},
     "output_type": "display_data"
    }
   ],
   "source": [
    "data(\"wage1\")\n",
    "\n",
    "marrmale <- as.numeric(wage1$female == 0 & wage1$married == 1)\n",
    "marrfem <- as.numeric(wage1$female == 1 & wage1$married == 1)\n",
    "singfem <- as.numeric(wage1$female == 1 & wage1$married == 0)\n",
    "\n",
    "lm.8.1 <- lm(lwage ~ marrmale + marrfem + singfem + educ + exper + expersq + tenure + tenursq, data = wage1)\n",
    "\n",
    "summary(lm.8.1)"
   ]
  },
  {
   "cell_type": "markdown",
   "metadata": {},
   "source": [
    "The function coeftest from the lmtest package can be used to obtain the heteroskedasticity robust standard errors. \n",
    "\n",
    "The first argument of the function contains the result of the original estimation, i.e. lm.8.1.. \n",
    "\n",
    "The second argument tells R how to calculate the heteroskedasticity robust standard errors. \n",
    "\n",
    "Basically, you could just enter the first part and R would do the rest. \n",
    "\n",
    "However, since the standard procedure of coeftest would not give the same results as in the book, we have to specify them a bit. \n",
    "\n",
    "Thus, we use the vcovHC function from the sandwich package, which requires the output of the estimated model and a specification of the type of robust standard errors that should be calculated. In our case we want a simple White standard error, which is indicated by type = \"HC0\". \n",
    "\n",
    "Other, more sophisticated methods are described in the documentation of the function."
   ]
  },
  {
   "cell_type": "code",
   "execution_count": 4,
   "metadata": {},
   "outputs": [
    {
     "name": "stderr",
     "output_type": "stream",
     "text": [
      "Loading required package: zoo\n",
      "\n",
      "Attaching package: ‘zoo’\n",
      "\n",
      "The following objects are masked from ‘package:base’:\n",
      "\n",
      "    as.Date, as.Date.numeric\n",
      "\n"
     ]
    }
   ],
   "source": [
    "library(\"lmtest\")"
   ]
  },
  {
   "cell_type": "code",
   "execution_count": 5,
   "metadata": {},
   "outputs": [
    {
     "data": {
      "text/plain": [
       "\n",
       "t test of coefficients:\n",
       "\n",
       "               Estimate  Std. Error t value  Pr(>|t|)    \n",
       "(Intercept)  0.32137808  0.10852843  2.9612 0.0032049 ** \n",
       "marrmale     0.21267568  0.05665095  3.7541 0.0001937 ***\n",
       "marrfem     -0.19826760  0.05826505 -3.4029 0.0007186 ***\n",
       "singfem     -0.11035021  0.05662551 -1.9488 0.0518632 .  \n",
       "educ         0.07891028  0.00735096 10.7347 < 2.2e-16 ***\n",
       "exper        0.02680057  0.00509497  5.2602 2.111e-07 ***\n",
       "expersq     -0.00053525  0.00010543 -5.0770 5.360e-07 ***\n",
       "tenure       0.02908752  0.00688128  4.2270 2.800e-05 ***\n",
       "tenursq     -0.00053314  0.00024159 -2.2068 0.0277670 *  \n",
       "---\n",
       "Signif. codes:  0 ‘***’ 0.001 ‘**’ 0.01 ‘*’ 0.05 ‘.’ 0.1 ‘ ’ 1\n"
      ]
     },
     "metadata": {},
     "output_type": "display_data"
    }
   ],
   "source": [
    "library(\"sandwich\")\n",
    "\n",
    "coeftest(lm.8.1, vcov=vcovHC(lm.8.1, type = \"HC0\"))"
   ]
  },
  {
   "cell_type": "markdown",
   "metadata": {},
   "source": [
    "# Example 8.2\n",
    "\n",
    "\n",
    "    Example 8.2: Heteroscedastisity-Robust F Statistics \n",
    "\n",
    "use http://fmwww.bc.edu/ec-p/data/wooldridge/gpa3\n",
    "\n",
    "reg cumgpa sat hsperc tothrs female black white if term==2, robust\n",
    "\n",
    "reg cumgpa sat hsperc tothrs female black white if term==2 \n",
    "\n",
    "\n",
    "\n",
    "\n"
   ]
  },
  {
   "cell_type": "code",
   "execution_count": 3,
   "metadata": {},
   "outputs": [
    {
     "name": "stderr",
     "output_type": "stream",
     "text": [
      "Loading required package: zoo\n",
      "\n",
      "Attaching package: ‘zoo’\n",
      "\n",
      "The following objects are masked from ‘package:base’:\n",
      "\n",
      "    as.Date, as.Date.numeric\n",
      "\n",
      "Loading required package: carData\n"
     ]
    },
    {
     "data": {
      "text/plain": [
       "\n",
       "t test of coefficients:\n",
       "\n",
       "               Estimate  Std. Error t value  Pr(>|t|)    \n",
       "(Intercept)  1.47006477  0.22980308  6.3971 4.942e-10 ***\n",
       "sat          0.00114073  0.00017856  6.3885 5.197e-10 ***\n",
       "hsperc      -0.00856636  0.00124042 -6.9060 2.275e-11 ***\n",
       "tothrs       0.00250400  0.00073099  3.4255 0.0006847 ***\n",
       "female       0.30343329  0.05902033  5.1412 4.497e-07 ***\n",
       "black       -0.12828368  0.14737012 -0.8705 0.3846164    \n",
       "white       -0.05872173  0.14098956 -0.4165 0.6772953    \n",
       "---\n",
       "Signif. codes:  0 ‘***’ 0.001 ‘**’ 0.01 ‘*’ 0.05 ‘.’ 0.1 ‘ ’ 1\n"
      ]
     },
     "metadata": {},
     "output_type": "display_data"
    }
   ],
   "source": [
    "data(gpa3, package='wooldridge')\n",
    "\n",
    "# load packages (which need to be installed!)\n",
    "library(lmtest); library(car)\n",
    "\n",
    "# Estimate model (only for spring data)\n",
    "reg <- lm(cumgpa~sat+hsperc+tothrs+female+black+white, \n",
    "                                     data=gpa3, subset=(spring==1))\n",
    "# Usual SE:\n",
    "coeftest(reg)\n"
   ]
  },
  {
   "cell_type": "code",
   "execution_count": 4,
   "metadata": {},
   "outputs": [
    {
     "data": {
      "text/plain": [
       "\n",
       "t test of coefficients:\n",
       "\n",
       "               Estimate  Std. Error t value  Pr(>|t|)    \n",
       "(Intercept)  1.47006477  0.22938036  6.4089 4.611e-10 ***\n",
       "sat          0.00114073  0.00019532  5.8402 1.169e-08 ***\n",
       "hsperc      -0.00856636  0.00144359 -5.9341 6.963e-09 ***\n",
       "tothrs       0.00250400  0.00074930  3.3418   0.00092 ***\n",
       "female       0.30343329  0.06003964  5.0539 6.911e-07 ***\n",
       "black       -0.12828368  0.12818828 -1.0007   0.31762    \n",
       "white       -0.05872173  0.12043522 -0.4876   0.62615    \n",
       "---\n",
       "Signif. codes:  0 ‘***’ 0.001 ‘**’ 0.01 ‘*’ 0.05 ‘.’ 0.1 ‘ ’ 1\n"
      ]
     },
     "metadata": {},
     "output_type": "display_data"
    }
   ],
   "source": [
    "# Refined White heteroscedasticity-robust SE:\n",
    "coeftest(reg, vcov=hccm)"
   ]
  },
  {
   "cell_type": "code",
   "execution_count": 6,
   "metadata": {},
   "outputs": [
    {
     "data": {
      "text/html": [
       "<table>\n",
       "<thead><tr><th scope=col>Res.Df</th><th scope=col>RSS</th><th scope=col>Df</th><th scope=col>Sum of Sq</th><th scope=col>F</th><th scope=col>Pr(&gt;F)</th></tr></thead>\n",
       "<tbody>\n",
       "\t<tr><td>361      </td><td>79.36167 </td><td>NA       </td><td>       NA</td><td>       NA</td><td>       NA</td></tr>\n",
       "\t<tr><td>359      </td><td>79.06233 </td><td> 2       </td><td>0.2993375</td><td>0.6796042</td><td>0.5074684</td></tr>\n",
       "</tbody>\n",
       "</table>\n"
      ],
      "text/latex": [
       "\\begin{tabular}{r|llllll}\n",
       " Res.Df & RSS & Df & Sum of Sq & F & Pr(>F)\\\\\n",
       "\\hline\n",
       "\t 361       & 79.36167  & NA        &        NA &        NA &        NA\\\\\n",
       "\t 359       & 79.06233  &  2        & 0.2993375 & 0.6796042 & 0.5074684\\\\\n",
       "\\end{tabular}\n"
      ],
      "text/markdown": [
       "\n",
       "Res.Df | RSS | Df | Sum of Sq | F | Pr(>F) | \n",
       "|---|---|\n",
       "| 361       | 79.36167  | NA        |        NA |        NA |        NA | \n",
       "| 359       | 79.06233  |  2        | 0.2993375 | 0.6796042 | 0.5074684 | \n",
       "\n",
       "\n"
      ],
      "text/plain": [
       "  Res.Df RSS      Df Sum of Sq F         Pr(>F)   \n",
       "1 361    79.36167 NA        NA        NA        NA\n",
       "2 359    79.06233  2 0.2993375 0.6796042 0.5074684"
      ]
     },
     "metadata": {},
     "output_type": "display_data"
    }
   ],
   "source": [
    "# F-Tests using different variance-covariance formulas:\n",
    "myH0 <- c(\"black\",\"white\")\n",
    "# Ususal VCOV\n",
    "linearHypothesis(reg, myH0)"
   ]
  },
  {
   "cell_type": "code",
   "execution_count": 7,
   "metadata": {},
   "outputs": [
    {
     "data": {
      "text/html": [
       "<table>\n",
       "<thead><tr><th scope=col>Res.Df</th><th scope=col>Df</th><th scope=col>F</th><th scope=col>Pr(&gt;F)</th></tr></thead>\n",
       "<tbody>\n",
       "\t<tr><td>361      </td><td>NA       </td><td>       NA</td><td>       NA</td></tr>\n",
       "\t<tr><td>359      </td><td> 2       </td><td>0.6724693</td><td>0.5110884</td></tr>\n",
       "</tbody>\n",
       "</table>\n"
      ],
      "text/latex": [
       "\\begin{tabular}{r|llll}\n",
       " Res.Df & Df & F & Pr(>F)\\\\\n",
       "\\hline\n",
       "\t 361       & NA        &        NA &        NA\\\\\n",
       "\t 359       &  2        & 0.6724693 & 0.5110884\\\\\n",
       "\\end{tabular}\n"
      ],
      "text/markdown": [
       "\n",
       "Res.Df | Df | F | Pr(>F) | \n",
       "|---|---|\n",
       "| 361       | NA        |        NA |        NA | \n",
       "| 359       |  2        | 0.6724693 | 0.5110884 | \n",
       "\n",
       "\n"
      ],
      "text/plain": [
       "  Res.Df Df F         Pr(>F)   \n",
       "1 361    NA        NA        NA\n",
       "2 359     2 0.6724693 0.5110884"
      ]
     },
     "metadata": {},
     "output_type": "display_data"
    }
   ],
   "source": [
    "\n",
    "# Refined White VCOV\n",
    "linearHypothesis(reg, myH0, vcov=hccm)"
   ]
  },
  {
   "cell_type": "code",
   "execution_count": 8,
   "metadata": {},
   "outputs": [
    {
     "data": {
      "text/html": [
       "<table>\n",
       "<thead><tr><th scope=col>Res.Df</th><th scope=col>Df</th><th scope=col>F</th><th scope=col>Pr(&gt;F)</th></tr></thead>\n",
       "<tbody>\n",
       "\t<tr><td>361      </td><td>NA       </td><td>      NA </td><td>       NA</td></tr>\n",
       "\t<tr><td>359      </td><td> 2       </td><td>0.747797 </td><td>0.4741443</td></tr>\n",
       "</tbody>\n",
       "</table>\n"
      ],
      "text/latex": [
       "\\begin{tabular}{r|llll}\n",
       " Res.Df & Df & F & Pr(>F)\\\\\n",
       "\\hline\n",
       "\t 361       & NA        &       NA  &        NA\\\\\n",
       "\t 359       &  2        & 0.747797  & 0.4741443\\\\\n",
       "\\end{tabular}\n"
      ],
      "text/markdown": [
       "\n",
       "Res.Df | Df | F | Pr(>F) | \n",
       "|---|---|\n",
       "| 361       | NA        |       NA  |        NA | \n",
       "| 359       |  2        | 0.747797  | 0.4741443 | \n",
       "\n",
       "\n"
      ],
      "text/plain": [
       "  Res.Df Df F        Pr(>F)   \n",
       "1 361    NA       NA        NA\n",
       "2 359     2 0.747797 0.4741443"
      ]
     },
     "metadata": {},
     "output_type": "display_data"
    }
   ],
   "source": [
    "\n",
    "\n",
    "# Classical White VCOV\n",
    "linearHypothesis(reg, myH0, vcov=hccm(reg,type=\"hc0\"))"
   ]
  },
  {
   "cell_type": "code",
   "execution_count": null,
   "metadata": {},
   "outputs": [],
   "source": []
  },
  {
   "cell_type": "code",
   "execution_count": null,
   "metadata": {},
   "outputs": [],
   "source": []
  },
  {
   "cell_type": "code",
   "execution_count": null,
   "metadata": {},
   "outputs": [],
   "source": []
  },
  {
   "cell_type": "code",
   "execution_count": 6,
   "metadata": {},
   "outputs": [
    {
     "data": {
      "text/plain": [
       "\n",
       "Call:\n",
       "lm(formula = cumgpa ~ sat + hsperc + tothrs + female + black + \n",
       "    white, data = gpa3, subset = (term == 2))\n",
       "\n",
       "Residuals:\n",
       "     Min       1Q   Median       3Q      Max \n",
       "-1.54320 -0.29104 -0.02252  0.28348  1.24872 \n",
       "\n",
       "Coefficients:\n",
       "              Estimate Std. Error t value Pr(>|t|)    \n",
       "(Intercept)  1.4700648  0.2298031   6.397 4.94e-10 ***\n",
       "sat          0.0011407  0.0001786   6.389 5.20e-10 ***\n",
       "hsperc      -0.0085664  0.0012404  -6.906 2.27e-11 ***\n",
       "tothrs       0.0025040  0.0007310   3.426 0.000685 ***\n",
       "female       0.3034333  0.0590203   5.141 4.50e-07 ***\n",
       "black       -0.1282837  0.1473701  -0.870 0.384616    \n",
       "white       -0.0587217  0.1409896  -0.416 0.677295    \n",
       "---\n",
       "Signif. codes:  0 ‘***’ 0.001 ‘**’ 0.01 ‘*’ 0.05 ‘.’ 0.1 ‘ ’ 1\n",
       "\n",
       "Residual standard error: 0.4693 on 359 degrees of freedom\n",
       "Multiple R-squared:  0.4006,\tAdjusted R-squared:  0.3905 \n",
       "F-statistic: 39.98 on 6 and 359 DF,  p-value: < 2.2e-16\n"
      ]
     },
     "metadata": {},
     "output_type": "display_data"
    }
   ],
   "source": [
    "data(\"gpa3\")\n",
    "\n",
    "lm.8.2 <- lm(cumgpa ~ sat + hsperc + tothrs + female + black + white,\n",
    "             data = gpa3, subset = (term == 2))\n",
    "\n",
    "summary(lm.8.2)"
   ]
  },
  {
   "cell_type": "code",
   "execution_count": 7,
   "metadata": {},
   "outputs": [
    {
     "data": {
      "text/plain": [
       "\n",
       "t test of coefficients:\n",
       "\n",
       "               Estimate  Std. Error t value  Pr(>|t|)    \n",
       "(Intercept)  1.47006477  0.21855969  6.7261 6.888e-11 ***\n",
       "sat          0.00114073  0.00018969  6.0136 4.468e-09 ***\n",
       "hsperc      -0.00856636  0.00140430 -6.1001 2.744e-09 ***\n",
       "tothrs       0.00250400  0.00073353  3.4136 0.0007142 ***\n",
       "female       0.30343329  0.05856959  5.1807 3.693e-07 ***\n",
       "black       -0.12828368  0.11809549 -1.0863 0.2780880    \n",
       "white       -0.05872173  0.11032164 -0.5323 0.5948631    \n",
       "---\n",
       "Signif. codes:  0 ‘***’ 0.001 ‘**’ 0.01 ‘*’ 0.05 ‘.’ 0.1 ‘ ’ 1\n"
      ]
     },
     "metadata": {},
     "output_type": "display_data"
    }
   ],
   "source": [
    "coeftest(lm.8.2, vcov = vcovHC(lm.8.2, type = \"HC0\"))"
   ]
  },
  {
   "cell_type": "code",
   "execution_count": null,
   "metadata": {},
   "outputs": [],
   "source": []
  },
  {
   "cell_type": "code",
   "execution_count": null,
   "metadata": {},
   "outputs": [],
   "source": []
  },
  {
   "cell_type": "code",
   "execution_count": null,
   "metadata": {},
   "outputs": [],
   "source": []
  },
  {
   "cell_type": "code",
   "execution_count": 1,
   "metadata": {
    "ExecuteTime": {
     "end_time": "2019-01-16T05:59:35.969559Z",
     "start_time": "2019-01-16T05:59:35.108Z"
    }
   },
   "outputs": [
    {
     "name": "stderr",
     "output_type": "stream",
     "text": [
      "Loading required package: zoo\n",
      "\n",
      "Attaching package: 'zoo'\n",
      "\n",
      "The following objects are masked from 'package:base':\n",
      "\n",
      "    as.Date, as.Date.numeric\n",
      "\n",
      "Loading required package: carData\n"
     ]
    },
    {
     "data": {
      "text/plain": [
       "\n",
       "t test of coefficients:\n",
       "\n",
       "               Estimate  Std. Error t value  Pr(>|t|)    \n",
       "(Intercept)  1.47006477  0.22980308  6.3971 4.942e-10 ***\n",
       "sat          0.00114073  0.00017856  6.3885 5.197e-10 ***\n",
       "hsperc      -0.00856636  0.00124042 -6.9060 2.275e-11 ***\n",
       "tothrs       0.00250400  0.00073099  3.4255 0.0006847 ***\n",
       "female       0.30343329  0.05902033  5.1412 4.497e-07 ***\n",
       "black       -0.12828369  0.14737012 -0.8705 0.3846163    \n",
       "white       -0.05872173  0.14098956 -0.4165 0.6772953    \n",
       "---\n",
       "Signif. codes:  0 '***' 0.001 '**' 0.01 '*' 0.05 '.' 0.1 ' ' 1\n"
      ]
     },
     "metadata": {},
     "output_type": "display_data"
    }
   ],
   "source": [
    "library(foreign)\n",
    "gpa3 <- read.dta(\"http://fmwww.bc.edu/ec-p/data/wooldridge/gpa3.dta\")\n",
    "\n",
    "# load packages (which need to be installed!)\n",
    "library(lmtest); library(car)\n",
    "\n",
    "# Estimate model (only for spring data)\n",
    "reg <- lm(cumgpa~sat+hsperc+tothrs+female+black+white, \n",
    "                                     data=gpa3, subset=(spring==1))\n",
    "# Usual SE:\n",
    "coeftest(reg)\n"
   ]
  },
  {
   "cell_type": "code",
   "execution_count": 2,
   "metadata": {
    "ExecuteTime": {
     "end_time": "2019-01-16T05:59:38.816309Z",
     "start_time": "2019-01-16T05:59:38.659Z"
    }
   },
   "outputs": [
    {
     "data": {
      "text/plain": [
       "\n",
       "t test of coefficients:\n",
       "\n",
       "               Estimate  Std. Error t value  Pr(>|t|)    \n",
       "(Intercept)  1.47006477  0.22938036  6.4089 4.611e-10 ***\n",
       "sat          0.00114073  0.00019532  5.8402 1.169e-08 ***\n",
       "hsperc      -0.00856636  0.00144359 -5.9341 6.963e-09 ***\n",
       "tothrs       0.00250400  0.00074930  3.3418   0.00092 ***\n",
       "female       0.30343329  0.06003964  5.0539 6.911e-07 ***\n",
       "black       -0.12828369  0.12818828 -1.0007   0.31762    \n",
       "white       -0.05872173  0.12043522 -0.4876   0.62615    \n",
       "---\n",
       "Signif. codes:  0 '***' 0.001 '**' 0.01 '*' 0.05 '.' 0.1 ' ' 1\n"
      ]
     },
     "metadata": {},
     "output_type": "display_data"
    }
   ],
   "source": [
    "# Refined White heteroscedasticity-robust SE:\n",
    "coeftest(reg, vcov=hccm)\n"
   ]
  },
  {
   "cell_type": "code",
   "execution_count": 3,
   "metadata": {
    "ExecuteTime": {
     "end_time": "2019-01-16T06:00:12.355115Z",
     "start_time": "2019-01-16T06:00:12.326Z"
    }
   },
   "outputs": [
    {
     "data": {
      "text/html": [
       "<table>\n",
       "<thead><tr><th scope=col>Res.Df</th><th scope=col>RSS</th><th scope=col>Df</th><th scope=col>Sum of Sq</th><th scope=col>F</th><th scope=col>Pr(&gt;F)</th></tr></thead>\n",
       "<tbody>\n",
       "\t<tr><td>361      </td><td>79.36167 </td><td>NA       </td><td>       NA</td><td>       NA</td><td>       NA</td></tr>\n",
       "\t<tr><td>359      </td><td>79.06233 </td><td> 2       </td><td>0.2993375</td><td>0.6796042</td><td>0.5074684</td></tr>\n",
       "</tbody>\n",
       "</table>\n"
      ],
      "text/latex": [
       "\\begin{tabular}{r|llllll}\n",
       " Res.Df & RSS & Df & Sum of Sq & F & Pr(>F)\\\\\n",
       "\\hline\n",
       "\t 361       & 79.36167  & NA        &        NA &        NA &        NA\\\\\n",
       "\t 359       & 79.06233  &  2        & 0.2993375 & 0.6796042 & 0.5074684\\\\\n",
       "\\end{tabular}\n"
      ],
      "text/markdown": [
       "\n",
       "Res.Df | RSS | Df | Sum of Sq | F | Pr(>F) | \n",
       "|---|---|\n",
       "| 361       | 79.36167  | NA        |        NA |        NA |        NA | \n",
       "| 359       | 79.06233  |  2        | 0.2993375 | 0.6796042 | 0.5074684 | \n",
       "\n",
       "\n"
      ],
      "text/plain": [
       "  Res.Df RSS      Df Sum of Sq F         Pr(>F)   \n",
       "1 361    79.36167 NA        NA        NA        NA\n",
       "2 359    79.06233  2 0.2993375 0.6796042 0.5074684"
      ]
     },
     "metadata": {},
     "output_type": "display_data"
    }
   ],
   "source": [
    "# F-Tests using different variance-covariance formulas:\n",
    "myH0 <- c(\"black\",\"white\")\n",
    "# Ususal VCOV\n",
    "linearHypothesis(reg, myH0)\n"
   ]
  },
  {
   "cell_type": "code",
   "execution_count": 4,
   "metadata": {
    "ExecuteTime": {
     "end_time": "2019-01-16T06:00:21.671619Z",
     "start_time": "2019-01-16T06:00:21.647Z"
    }
   },
   "outputs": [
    {
     "data": {
      "text/html": [
       "<table>\n",
       "<thead><tr><th scope=col>Res.Df</th><th scope=col>Df</th><th scope=col>F</th><th scope=col>Pr(&gt;F)</th></tr></thead>\n",
       "<tbody>\n",
       "\t<tr><td>361      </td><td>NA       </td><td>       NA</td><td>       NA</td></tr>\n",
       "\t<tr><td>359      </td><td> 2       </td><td>0.6724693</td><td>0.5110884</td></tr>\n",
       "</tbody>\n",
       "</table>\n"
      ],
      "text/latex": [
       "\\begin{tabular}{r|llll}\n",
       " Res.Df & Df & F & Pr(>F)\\\\\n",
       "\\hline\n",
       "\t 361       & NA        &        NA &        NA\\\\\n",
       "\t 359       &  2        & 0.6724693 & 0.5110884\\\\\n",
       "\\end{tabular}\n"
      ],
      "text/markdown": [
       "\n",
       "Res.Df | Df | F | Pr(>F) | \n",
       "|---|---|\n",
       "| 361       | NA        |        NA |        NA | \n",
       "| 359       |  2        | 0.6724693 | 0.5110884 | \n",
       "\n",
       "\n"
      ],
      "text/plain": [
       "  Res.Df Df F         Pr(>F)   \n",
       "1 361    NA        NA        NA\n",
       "2 359     2 0.6724693 0.5110884"
      ]
     },
     "metadata": {},
     "output_type": "display_data"
    }
   ],
   "source": [
    "# Refined White VCOV\n",
    "linearHypothesis(reg, myH0, vcov=hccm)\n",
    "\n"
   ]
  },
  {
   "cell_type": "code",
   "execution_count": 5,
   "metadata": {
    "ExecuteTime": {
     "end_time": "2019-01-16T06:00:22.489407Z",
     "start_time": "2019-01-16T06:00:22.462Z"
    }
   },
   "outputs": [
    {
     "data": {
      "text/html": [
       "<table>\n",
       "<thead><tr><th scope=col>Res.Df</th><th scope=col>Df</th><th scope=col>F</th><th scope=col>Pr(&gt;F)</th></tr></thead>\n",
       "<tbody>\n",
       "\t<tr><td>361      </td><td>NA       </td><td>      NA </td><td>       NA</td></tr>\n",
       "\t<tr><td>359      </td><td> 2       </td><td>0.747797 </td><td>0.4741443</td></tr>\n",
       "</tbody>\n",
       "</table>\n"
      ],
      "text/latex": [
       "\\begin{tabular}{r|llll}\n",
       " Res.Df & Df & F & Pr(>F)\\\\\n",
       "\\hline\n",
       "\t 361       & NA        &       NA  &        NA\\\\\n",
       "\t 359       &  2        & 0.747797  & 0.4741443\\\\\n",
       "\\end{tabular}\n"
      ],
      "text/markdown": [
       "\n",
       "Res.Df | Df | F | Pr(>F) | \n",
       "|---|---|\n",
       "| 361       | NA        |       NA  |        NA | \n",
       "| 359       |  2        | 0.747797  | 0.4741443 | \n",
       "\n",
       "\n"
      ],
      "text/plain": [
       "  Res.Df Df F        Pr(>F)   \n",
       "1 361    NA       NA        NA\n",
       "2 359     2 0.747797 0.4741443"
      ]
     },
     "metadata": {},
     "output_type": "display_data"
    }
   ],
   "source": [
    "# Classical White VCOV\n",
    "linearHypothesis(reg, myH0, vcov=hccm(reg,type=\"hc0\"))"
   ]
  },
  {
   "cell_type": "markdown",
   "metadata": {},
   "source": [
    "For a heteroskedasticity robust F-test we perform a Wald-test. \n",
    "\n",
    "The procedure is similar to obtaining the coefficients’ standard errors. \n",
    "\n",
    "For the usual F-test estimate the restricted and unrestricted models and put their results into the anova function, which will print the F-statistic. \n",
    "\n",
    "For the Wald test we do the same, but this time we put the estimation results into the waldtest command and, as a third part of the function, you specify the method used to model heteroskedasticity."
   ]
  },
  {
   "cell_type": "code",
   "execution_count": 8,
   "metadata": {},
   "outputs": [
    {
     "data": {
      "text/html": [
       "<table>\n",
       "<thead><tr><th scope=col>Res.Df</th><th scope=col>RSS</th><th scope=col>Df</th><th scope=col>Sum of Sq</th><th scope=col>F</th><th scope=col>Pr(&gt;F)</th></tr></thead>\n",
       "<tbody>\n",
       "\t<tr><td>359       </td><td>79.06233  </td><td>NA        </td><td>        NA</td><td>       NA </td><td>       NA </td></tr>\n",
       "\t<tr><td>361       </td><td>79.36167  </td><td>-2        </td><td>-0.2993375</td><td>0.6796042 </td><td>0.5074684 </td></tr>\n",
       "</tbody>\n",
       "</table>\n"
      ],
      "text/latex": [
       "\\begin{tabular}{r|llllll}\n",
       " Res.Df & RSS & Df & Sum of Sq & F & Pr(>F)\\\\\n",
       "\\hline\n",
       "\t 359        & 79.06233   & NA         &         NA &        NA  &        NA \\\\\n",
       "\t 361        & 79.36167   & -2         & -0.2993375 & 0.6796042  & 0.5074684 \\\\\n",
       "\\end{tabular}\n"
      ],
      "text/markdown": [
       "\n",
       "Res.Df | RSS | Df | Sum of Sq | F | Pr(>F) | \n",
       "|---|---|\n",
       "| 359        | 79.06233   | NA         |         NA |        NA  |        NA  | \n",
       "| 361        | 79.36167   | -2         | -0.2993375 | 0.6796042  | 0.5074684  | \n",
       "\n",
       "\n"
      ],
      "text/plain": [
       "  Res.Df RSS      Df Sum of Sq  F         Pr(>F)   \n",
       "1 359    79.06233 NA         NA        NA        NA\n",
       "2 361    79.36167 -2 -0.2993375 0.6796042 0.5074684"
      ]
     },
     "metadata": {},
     "output_type": "display_data"
    }
   ],
   "source": [
    "lm.8.2.2 <- lm(cumgpa ~ sat + hsperc + tothrs + female, data = gpa3, subset = (term==2))\n",
    "\n",
    "# Usual F-statistic\n",
    "anova(lm.8.2, lm.8.2.2)"
   ]
  },
  {
   "cell_type": "markdown",
   "metadata": {},
   "source": [
    "Heteroskedasticity robust F-statistic"
   ]
  },
  {
   "cell_type": "code",
   "execution_count": 9,
   "metadata": {},
   "outputs": [
    {
     "data": {
      "text/html": [
       "<table>\n",
       "<thead><tr><th scope=col>Res.Df</th><th scope=col>Df</th><th scope=col>F</th><th scope=col>Pr(&gt;F)</th></tr></thead>\n",
       "<tbody>\n",
       "\t<tr><td>359      </td><td>NA       </td><td>      NA </td><td>       NA</td></tr>\n",
       "\t<tr><td>361      </td><td>-2       </td><td>0.747797 </td><td>0.4741443</td></tr>\n",
       "</tbody>\n",
       "</table>\n"
      ],
      "text/latex": [
       "\\begin{tabular}{r|llll}\n",
       " Res.Df & Df & F & Pr(>F)\\\\\n",
       "\\hline\n",
       "\t 359       & NA        &       NA  &        NA\\\\\n",
       "\t 361       & -2        & 0.747797  & 0.4741443\\\\\n",
       "\\end{tabular}\n"
      ],
      "text/markdown": [
       "\n",
       "Res.Df | Df | F | Pr(>F) | \n",
       "|---|---|\n",
       "| 359       | NA        |       NA  |        NA | \n",
       "| 361       | -2        | 0.747797  | 0.4741443 | \n",
       "\n",
       "\n"
      ],
      "text/plain": [
       "  Res.Df Df F        Pr(>F)   \n",
       "1 359    NA       NA        NA\n",
       "2 361    -2 0.747797 0.4741443"
      ]
     },
     "metadata": {},
     "output_type": "display_data"
    }
   ],
   "source": [
    "waldtest(lm.8.2, lm.8.2.2, vcov = vcovHC(lm.8.2, type = \"HC0\"))"
   ]
  },
  {
   "cell_type": "code",
   "execution_count": null,
   "metadata": {},
   "outputs": [],
   "source": []
  },
  {
   "cell_type": "markdown",
   "metadata": {},
   "source": [
    "## Example 8.3\n",
    "\n",
    "The first part of the example is similar to above. Estimate the model and print its summary and the heteroskedasticity robust standard errors.\n",
    "\n",
    "    Example 8.3: Heteroskedasticity-Robust LM Statistic\n",
    "\n",
    "use http://fmwww.bc.edu/ec-p/data/wooldridge/crime1\n",
    "\n",
    "gen avgsensq=avgsen*avgsen\n",
    "\n",
    "reg narr86 pcnv avgsen avgsensq ptime86 qemp86 inc86 black hispan, robust\n",
    "\n",
    "\n",
    "    Turning point for avgsen\n",
    "\n",
    "di _b[avgsen]/(2*_b[avgsensq])\n",
    "-17.276862\n",
    "\n",
    "reg narr86 pcnv ptime86 qemp86 inc86 black hispan\n",
    "\n",
    "predict ubar1, resid\n",
    "\n",
    "qui reg avgsen pcnv ptime86 qemp86 inc86 black hispan\n",
    "\n",
    "predict r1, r\n",
    "\n",
    "qui reg avgsensq pcnv ptime86 qemp86 inc86 black hispan\n",
    "\n",
    "predict r2, r\n",
    "\n",
    "qui gen ur1 = ubar1*r1\n",
    "\n",
    "qui gen ur2 = ubar1*r2\n",
    "\n",
    "gen iota = 1\n",
    "\n",
    "reg iota ur1 ur2, noconstant\n",
    "\n",
    "scalar hetlm = e(N)-e(rss)\n",
    "\n",
    "scalar pval = chi2tail(2,hetlm)\n",
    "\n",
    "display _n \"Robust LM statistic : \" %6.3f hetlm /* \n",
    "\n",
    "> */ _n \"Under H0, distrib Chi2(2), p-value: \" %5.3f pval\n",
    "\n",
    "reg narr86 pcnv ptime86 qemp86 inc86 black hispan\n",
    "\n",
    "\n",
    "predict ubar2, resid\n",
    "\n",
    "reg ubar2 pcnv avgsen avgsensq ptime86 qemp86 inc86 black hispan\n",
    "\n",
    "\n",
    "scalar lm1 = e(N)*e(r2)\n",
    "\n",
    "display _n \"LM statistic : \" %6.3f lm1 /*\n",
    "\n"
   ]
  },
  {
   "cell_type": "code",
   "execution_count": 10,
   "metadata": {},
   "outputs": [
    {
     "data": {
      "text/plain": [
       "\n",
       "Call:\n",
       "lm(formula = narr86 ~ pcnv + avgsen + avgsensq + ptime86 + qemp86 + \n",
       "    inc86 + black + hispan, data = crime1)\n",
       "\n",
       "Residuals:\n",
       "    Min      1Q  Median      3Q     Max \n",
       "-1.0008 -0.4515 -0.2391  0.2686 11.5307 \n",
       "\n",
       "Coefficients:\n",
       "              Estimate Std. Error t value Pr(>|t|)    \n",
       "(Intercept)  0.5670128  0.0360573  15.725  < 2e-16 ***\n",
       "pcnv        -0.1355954  0.0403699  -3.359 0.000794 ***\n",
       "avgsen       0.0178411  0.0096960   1.840 0.065872 .  \n",
       "avgsensq    -0.0005163  0.0002970  -1.738 0.082265 .  \n",
       "ptime86     -0.0393600  0.0086935  -4.528 6.23e-06 ***\n",
       "qemp86      -0.0505072  0.0144345  -3.499 0.000474 ***\n",
       "inc86       -0.0014797  0.0003405  -4.345 1.44e-05 ***\n",
       "black        0.3246024  0.0454188   7.147 1.14e-12 ***\n",
       "hispan       0.1933800  0.0397035   4.871 1.18e-06 ***\n",
       "---\n",
       "Signif. codes:  0 ‘***’ 0.001 ‘**’ 0.01 ‘*’ 0.05 ‘.’ 0.1 ‘ ’ 1\n",
       "\n",
       "Residual standard error: 0.8284 on 2716 degrees of freedom\n",
       "Multiple R-squared:  0.0728,\tAdjusted R-squared:  0.07007 \n",
       "F-statistic: 26.66 on 8 and 2716 DF,  p-value: < 2.2e-16\n"
      ]
     },
     "metadata": {},
     "output_type": "display_data"
    }
   ],
   "source": [
    "# Load data and calculate the squared variable\n",
    "data(\"crime1\")\n",
    "\n",
    "avgsensq <- crime1$avgsen^2\n",
    "\n",
    "lm.8.3 <- lm(narr86 ~ pcnv + avgsen + avgsensq + ptime86 + qemp86 +\n",
    "               inc86 + black + hispan, data = crime1)\n",
    "\n",
    "summary(lm.8.3)"
   ]
  },
  {
   "cell_type": "code",
   "execution_count": 11,
   "metadata": {},
   "outputs": [
    {
     "data": {
      "text/plain": [
       "\n",
       "t test of coefficients:\n",
       "\n",
       "               Estimate  Std. Error t value  Pr(>|t|)    \n",
       "(Intercept)  0.56701278  0.04020901 14.1016 < 2.2e-16 ***\n",
       "pcnv        -0.13559539  0.03356622 -4.0396 5.502e-05 ***\n",
       "avgsen       0.01784106  0.01010659  1.7653 0.0776275 .  \n",
       "avgsensq    -0.00051633  0.00020735 -2.4902 0.0128281 *  \n",
       "ptime86     -0.03935998  0.00621327 -6.3348 2.772e-10 ***\n",
       "qemp86      -0.05050717  0.01417805 -3.5624 0.0003739 ***\n",
       "inc86       -0.00147966  0.00022913 -6.4576 1.256e-10 ***\n",
       "black        0.32460243  0.05841683  5.5567 3.017e-08 ***\n",
       "hispan       0.19338004  0.04023169  4.8067 1.618e-06 ***\n",
       "---\n",
       "Signif. codes:  0 ‘***’ 0.001 ‘**’ 0.01 ‘*’ 0.05 ‘.’ 0.1 ‘ ’ 1\n"
      ]
     },
     "metadata": {},
     "output_type": "display_data"
    }
   ],
   "source": [
    "coeftest(lm.8.3, vcov = vcovHC(lm.8.3, type = \"HC0\"))"
   ]
  },
  {
   "cell_type": "markdown",
   "metadata": {},
   "source": [
    "For the LM-test estimate the restricted model and regress its residuals on the variables of the unrestricted model. Obtain R-Squared and multiply it by the number of used observations to get the LM-value. Last, get the p-value."
   ]
  },
  {
   "cell_type": "code",
   "execution_count": 12,
   "metadata": {},
   "outputs": [
    {
     "data": {
      "text/html": [
       "3.4626010719056"
      ],
      "text/latex": [
       "3.4626010719056"
      ],
      "text/markdown": [
       "3.4626010719056"
      ],
      "text/plain": [
       "[1] 3.462601"
      ]
     },
     "metadata": {},
     "output_type": "display_data"
    }
   ],
   "source": [
    "lm.8.3.2 <- lm(narr86 ~ pcnv + ptime86 + qemp86 + inc86 +\n",
    "                 black + hispan, data = crime1)\n",
    "\n",
    "lm.8.3.2u <- lm(lm.8.3.2$residuals ~ pcnv + avgsen + avgsensq + \n",
    "                  ptime86 + qemp86 + inc86 + black + hispan, data = crime1)\n",
    "\n",
    "summary(lm.8.3.2u)$r.squared * 2725"
   ]
  },
  {
   "cell_type": "code",
   "execution_count": 13,
   "metadata": {},
   "outputs": [
    {
     "data": {
      "text/html": [
       "0.177054089977349"
      ],
      "text/latex": [
       "0.177054089977349"
      ],
      "text/markdown": [
       "0.177054089977349"
      ],
      "text/plain": [
       "[1] 0.1770541"
      ]
     },
     "metadata": {},
     "output_type": "display_data"
    }
   ],
   "source": [
    "1 - pchisq(3.4626, 2)"
   ]
  },
  {
   "cell_type": "code",
   "execution_count": null,
   "metadata": {},
   "outputs": [],
   "source": []
  },
  {
   "cell_type": "code",
   "execution_count": null,
   "metadata": {},
   "outputs": [],
   "source": []
  },
  {
   "cell_type": "code",
   "execution_count": null,
   "metadata": {},
   "outputs": [],
   "source": []
  },
  {
   "cell_type": "code",
   "execution_count": null,
   "metadata": {},
   "outputs": [],
   "source": []
  },
  {
   "cell_type": "code",
   "execution_count": null,
   "metadata": {},
   "outputs": [],
   "source": []
  },
  {
   "cell_type": "code",
   "execution_count": null,
   "metadata": {},
   "outputs": [],
   "source": []
  },
  {
   "cell_type": "code",
   "execution_count": null,
   "metadata": {},
   "outputs": [],
   "source": []
  },
  {
   "cell_type": "code",
   "execution_count": null,
   "metadata": {},
   "outputs": [],
   "source": []
  },
  {
   "cell_type": "markdown",
   "metadata": {},
   "source": [
    "## Example-8-4\n",
    "\n",
    "For the Breusch-Pagan test estimate the model and obtain its squared residuals. Regress the latter on the variables of the model\n",
    "\n",
    "\n",
    "    Example 8.4: Heteroscedasticity in Housing Price Equation\n",
    "\n",
    "use http://fmwww.bc.edu/ec-p/data/wooldridge/hprice1\n",
    "\n",
    "reg price lotsize sqrft bdrms\n",
    "\n",
    "whitetst, fitted\n",
    "\n",
    "White's special test statistic :  16.26842  Chi-sq( 2)  P-value =  2.9e-04\n",
    "\n",
    "reg lprice llotsize lsqrft bdrms\n",
    "\n",
    "whitetst, fitted"
   ]
  },
  {
   "cell_type": "code",
   "execution_count": 9,
   "metadata": {},
   "outputs": [
    {
     "data": {
      "text/plain": [
       "\n",
       "Call:\n",
       "lm(formula = price ~ lotsize + sqrft + bdrms, data = hprice1)\n",
       "\n",
       "Coefficients:\n",
       "(Intercept)      lotsize        sqrft        bdrms  \n",
       " -21.770308     0.002068     0.122778    13.852522  \n"
      ]
     },
     "metadata": {},
     "output_type": "display_data"
    }
   ],
   "source": [
    "data(hprice1, package='wooldridge')\n",
    "\n",
    "# Estimate model\n",
    "reg <- lm(price~lotsize+sqrft+bdrms, data=hprice1)\n",
    "reg\n",
    "\n"
   ]
  },
  {
   "cell_type": "code",
   "execution_count": 10,
   "metadata": {},
   "outputs": [
    {
     "data": {
      "text/plain": [
       "\n",
       "\tstudentized Breusch-Pagan test\n",
       "\n",
       "data:  reg\n",
       "BP = 14.092, df = 3, p-value = 0.002782\n"
      ]
     },
     "metadata": {},
     "output_type": "display_data"
    }
   ],
   "source": [
    "# Automatic BP test\n",
    "library(lmtest)\n",
    "bptest(reg)\n",
    "\n"
   ]
  },
  {
   "cell_type": "code",
   "execution_count": 11,
   "metadata": {},
   "outputs": [
    {
     "data": {
      "text/plain": [
       "\n",
       "Call:\n",
       "lm(formula = resid(reg)^2 ~ lotsize + sqrft + bdrms, data = hprice1)\n",
       "\n",
       "Residuals:\n",
       "   Min     1Q Median     3Q    Max \n",
       " -9044  -2212  -1256    -97  42582 \n",
       "\n",
       "Coefficients:\n",
       "              Estimate Std. Error t value Pr(>|t|)   \n",
       "(Intercept) -5.523e+03  3.259e+03  -1.694  0.09390 . \n",
       "lotsize      2.015e-01  7.101e-02   2.838  0.00569 **\n",
       "sqrft        1.691e+00  1.464e+00   1.155  0.25128   \n",
       "bdrms        1.042e+03  9.964e+02   1.046  0.29877   \n",
       "---\n",
       "Signif. codes:  0 ‘***’ 0.001 ‘**’ 0.01 ‘*’ 0.05 ‘.’ 0.1 ‘ ’ 1\n",
       "\n",
       "Residual standard error: 6617 on 84 degrees of freedom\n",
       "Multiple R-squared:  0.1601,\tAdjusted R-squared:  0.1301 \n",
       "F-statistic: 5.339 on 3 and 84 DF,  p-value: 0.002048\n"
      ]
     },
     "metadata": {},
     "output_type": "display_data"
    }
   ],
   "source": [
    "# Manual regression of squared residuals \n",
    "summary(lm( resid(reg)^2 ~ lotsize+sqrft+bdrms, data=hprice1))"
   ]
  },
  {
   "cell_type": "code",
   "execution_count": null,
   "metadata": {},
   "outputs": [],
   "source": []
  },
  {
   "cell_type": "code",
   "execution_count": 14,
   "metadata": {},
   "outputs": [
    {
     "data": {
      "text/plain": [
       "\n",
       "Call:\n",
       "lm(formula = price ~ lotsize + sqrft + bdrms, data = hprice1)\n",
       "\n",
       "Residuals:\n",
       "     Min       1Q   Median       3Q      Max \n",
       "-120.026  -38.530   -6.555   32.323  209.376 \n",
       "\n",
       "Coefficients:\n",
       "              Estimate Std. Error t value Pr(>|t|)    \n",
       "(Intercept) -2.177e+01  2.948e+01  -0.739  0.46221    \n",
       "lotsize      2.068e-03  6.421e-04   3.220  0.00182 ** \n",
       "sqrft        1.228e-01  1.324e-02   9.275 1.66e-14 ***\n",
       "bdrms        1.385e+01  9.010e+00   1.537  0.12795    \n",
       "---\n",
       "Signif. codes:  0 ‘***’ 0.001 ‘**’ 0.01 ‘*’ 0.05 ‘.’ 0.1 ‘ ’ 1\n",
       "\n",
       "Residual standard error: 59.83 on 84 degrees of freedom\n",
       "Multiple R-squared:  0.6724,\tAdjusted R-squared:  0.6607 \n",
       "F-statistic: 57.46 on 3 and 84 DF,  p-value: < 2.2e-16\n"
      ]
     },
     "metadata": {},
     "output_type": "display_data"
    }
   ],
   "source": [
    "data(\"hprice1\")\n",
    "lm.e8.17 <- lm(price ~ lotsize + sqrft + bdrms, data = hprice1)\n",
    "summary(lm.e8.17)"
   ]
  },
  {
   "cell_type": "code",
   "execution_count": 15,
   "metadata": {},
   "outputs": [
    {
     "data": {
      "text/plain": [
       "\n",
       "Call:\n",
       "lm(formula = usq.17 ~ lotsize + sqrft + bdrms, data = hprice1)\n",
       "\n",
       "Residuals:\n",
       "   Min     1Q Median     3Q    Max \n",
       " -9044  -2212  -1256    -97  42582 \n",
       "\n",
       "Coefficients:\n",
       "              Estimate Std. Error t value Pr(>|t|)   \n",
       "(Intercept) -5.523e+03  3.259e+03  -1.694  0.09390 . \n",
       "lotsize      2.015e-01  7.101e-02   2.838  0.00569 **\n",
       "sqrft        1.691e+00  1.464e+00   1.155  0.25128   \n",
       "bdrms        1.042e+03  9.964e+02   1.046  0.29877   \n",
       "---\n",
       "Signif. codes:  0 ‘***’ 0.001 ‘**’ 0.01 ‘*’ 0.05 ‘.’ 0.1 ‘ ’ 1\n",
       "\n",
       "Residual standard error: 6617 on 84 degrees of freedom\n",
       "Multiple R-squared:  0.1601,\tAdjusted R-squared:  0.1301 \n",
       "F-statistic: 5.339 on 3 and 84 DF,  p-value: 0.002048\n"
      ]
     },
     "metadata": {},
     "output_type": "display_data"
    }
   ],
   "source": [
    "# Squared residuals\n",
    "usq.17 <- (summary(lm.e8.17)$residual)^2 \n",
    "lm.e8.17u <- lm(usq.17 ~ lotsize + sqrft + bdrms, data = hprice1)\n",
    "summary(lm.e8.17u)"
   ]
  },
  {
   "cell_type": "code",
   "execution_count": 16,
   "metadata": {},
   "outputs": [
    {
     "data": {
      "text/html": [
       "14.09238550435"
      ],
      "text/latex": [
       "14.09238550435"
      ],
      "text/markdown": [
       "14.09238550435"
      ],
      "text/plain": [
       "[1] 14.09239"
      ]
     },
     "metadata": {},
     "output_type": "display_data"
    }
   ],
   "source": [
    "# LM-test\n",
    "lm.e8.17u.2 <- lm(usq.17 ~ 1, data = hprice1)\n",
    "lm.e8.17u.2u <- lm(summary(lm.e8.17u.2)$residuals ~ lotsize + sqrft + bdrms, data = hprice1)\n",
    "summary(lm.e8.17u.2u)$r.squared * 88"
   ]
  },
  {
   "cell_type": "code",
   "execution_count": 17,
   "metadata": {},
   "outputs": [
    {
     "data": {
      "text/html": [
       "0.0027820536933395"
      ],
      "text/latex": [
       "0.0027820536933395"
      ],
      "text/markdown": [
       "0.0027820536933395"
      ],
      "text/plain": [
       "[1] 0.002782054"
      ]
     },
     "metadata": {},
     "output_type": "display_data"
    }
   ],
   "source": [
    "1 - pchisq(14.09239, 3)"
   ]
  },
  {
   "cell_type": "code",
   "execution_count": 62,
   "metadata": {},
   "outputs": [
    {
     "data": {
      "text/plain": [
       "\n",
       "\tstudentized Breusch-Pagan test\n",
       "\n",
       "data:  lm.e8.17\n",
       "BP = 14.092, df = 3, p-value = 0.002782\n"
      ]
     },
     "metadata": {},
     "output_type": "display_data"
    }
   ],
   "source": [
    "# Automatic BP test\n",
    "library(lmtest)\n",
    "bptest(lm.e8.17 )\n"
   ]
  },
  {
   "cell_type": "code",
   "execution_count": null,
   "metadata": {},
   "outputs": [],
   "source": []
  },
  {
   "cell_type": "code",
   "execution_count": 6,
   "metadata": {
    "ExecuteTime": {
     "end_time": "2019-01-16T06:01:24.819019Z",
     "start_time": "2019-01-16T06:01:24.624Z"
    }
   },
   "outputs": [
    {
     "data": {
      "text/plain": [
       "\n",
       "Call:\n",
       "lm(formula = price ~ lotsize + sqrft + bdrms, data = hprice1)\n",
       "\n",
       "Coefficients:\n",
       "(Intercept)      lotsize        sqrft        bdrms  \n",
       " -21.770308     0.002068     0.122778    13.852522  \n"
      ]
     },
     "metadata": {},
     "output_type": "display_data"
    }
   ],
   "source": [
    "library(foreign)\n",
    "hprice1<-read.dta(\"http://fmwww.bc.edu/ec-p/data/wooldridge/hprice1.dta\")\n",
    "\n",
    "# Estimate model\n",
    "reg <- lm(price~lotsize+sqrft+bdrms, data=hprice1)\n",
    "reg\n"
   ]
  },
  {
   "cell_type": "code",
   "execution_count": 7,
   "metadata": {
    "ExecuteTime": {
     "end_time": "2019-01-16T06:01:31.774147Z",
     "start_time": "2019-01-16T06:01:31.731Z"
    }
   },
   "outputs": [
    {
     "data": {
      "text/plain": [
       "\n",
       "\tstudentized Breusch-Pagan test\n",
       "\n",
       "data:  reg\n",
       "BP = 14.092, df = 3, p-value = 0.002782\n"
      ]
     },
     "metadata": {},
     "output_type": "display_data"
    }
   ],
   "source": [
    "\n",
    "# Automatic BP test\n",
    "library(lmtest)\n",
    "bptest(reg)\n",
    "\n"
   ]
  },
  {
   "cell_type": "code",
   "execution_count": 8,
   "metadata": {
    "ExecuteTime": {
     "end_time": "2019-01-16T06:01:31.983585Z",
     "start_time": "2019-01-16T06:01:31.955Z"
    }
   },
   "outputs": [
    {
     "data": {
      "text/plain": [
       "\n",
       "Call:\n",
       "lm(formula = resid(reg)^2 ~ lotsize + sqrft + bdrms, data = hprice1)\n",
       "\n",
       "Residuals:\n",
       "   Min     1Q Median     3Q    Max \n",
       " -9044  -2212  -1256    -97  42582 \n",
       "\n",
       "Coefficients:\n",
       "              Estimate Std. Error t value Pr(>|t|)   \n",
       "(Intercept) -5.523e+03  3.259e+03  -1.694  0.09390 . \n",
       "lotsize      2.015e-01  7.101e-02   2.838  0.00569 **\n",
       "sqrft        1.691e+00  1.464e+00   1.155  0.25128   \n",
       "bdrms        1.042e+03  9.964e+02   1.046  0.29877   \n",
       "---\n",
       "Signif. codes:  0 '***' 0.001 '**' 0.01 '*' 0.05 '.' 0.1 ' ' 1\n",
       "\n",
       "Residual standard error: 6617 on 84 degrees of freedom\n",
       "Multiple R-squared:  0.1601,\tAdjusted R-squared:  0.1301 \n",
       "F-statistic: 5.339 on 3 and 84 DF,  p-value: 0.002048\n"
      ]
     },
     "metadata": {},
     "output_type": "display_data"
    }
   ],
   "source": [
    "# Manual regression of squared residuals \n",
    "summary(lm( resid(reg)^2 ~ lotsize+sqrft+bdrms, data=hprice1))\n"
   ]
  },
  {
   "cell_type": "code",
   "execution_count": 9,
   "metadata": {
    "ExecuteTime": {
     "end_time": "2019-01-16T06:02:27.598021Z",
     "start_time": "2019-01-16T06:02:27.575Z"
    }
   },
   "outputs": [
    {
     "data": {
      "text/html": [
       "13.4484"
      ],
      "text/latex": [
       "13.4484"
      ],
      "text/markdown": [
       "13.4484"
      ],
      "text/plain": [
       "[1] 13.4484"
      ]
     },
     "metadata": {},
     "output_type": "display_data"
    }
   ],
   "source": [
    "0.1601 * 84"
   ]
  },
  {
   "cell_type": "code",
   "execution_count": 18,
   "metadata": {},
   "outputs": [
    {
     "data": {
      "text/plain": [
       "\n",
       "Call:\n",
       "lm(formula = lprice ~ llotsize + lsqrft + bdrms, data = hprice1)\n",
       "\n",
       "Residuals:\n",
       "     Min       1Q   Median       3Q      Max \n",
       "-0.68422 -0.09178 -0.01584  0.11213  0.66899 \n",
       "\n",
       "Coefficients:\n",
       "            Estimate Std. Error t value Pr(>|t|)    \n",
       "(Intercept) -1.29704    0.65128  -1.992   0.0497 *  \n",
       "llotsize     0.16797    0.03828   4.388 3.31e-05 ***\n",
       "lsqrft       0.70023    0.09287   7.540 5.01e-11 ***\n",
       "bdrms        0.03696    0.02753   1.342   0.1831    \n",
       "---\n",
       "Signif. codes:  0 ‘***’ 0.001 ‘**’ 0.01 ‘*’ 0.05 ‘.’ 0.1 ‘ ’ 1\n",
       "\n",
       "Residual standard error: 0.1846 on 84 degrees of freedom\n",
       "Multiple R-squared:  0.643,\tAdjusted R-squared:  0.6302 \n",
       "F-statistic: 50.42 on 3 and 84 DF,  p-value: < 2.2e-16\n"
      ]
     },
     "metadata": {},
     "output_type": "display_data"
    }
   ],
   "source": [
    "# Using logarithms\n",
    "lm.e8.18 <- lm(lprice ~ llotsize + lsqrft + bdrms, data = hprice1)\n",
    "summary(lm.e8.18)"
   ]
  },
  {
   "cell_type": "code",
   "execution_count": 19,
   "metadata": {},
   "outputs": [
    {
     "data": {
      "text/plain": [
       "\n",
       "Call:\n",
       "lm(formula = usq.18 ~ llotsize + lsqrft + bdrms, data = hprice1)\n",
       "\n",
       "Residuals:\n",
       "     Min       1Q   Median       3Q      Max \n",
       "-0.05601 -0.03011 -0.01687  0.00523  0.40978 \n",
       "\n",
       "Coefficients:\n",
       "             Estimate Std. Error t value Pr(>|t|)  \n",
       "(Intercept)  0.509994   0.257857   1.978   0.0512 .\n",
       "llotsize    -0.007016   0.015156  -0.463   0.6446  \n",
       "lsqrft      -0.062737   0.036767  -1.706   0.0916 .\n",
       "bdrms        0.016841   0.010900   1.545   0.1261  \n",
       "---\n",
       "Signif. codes:  0 ‘***’ 0.001 ‘**’ 0.01 ‘*’ 0.05 ‘.’ 0.1 ‘ ’ 1\n",
       "\n",
       "Residual standard error: 0.07309 on 84 degrees of freedom\n",
       "Multiple R-squared:  0.04799,\tAdjusted R-squared:  0.01399 \n",
       "F-statistic: 1.412 on 3 and 84 DF,  p-value: 0.2451\n"
      ]
     },
     "metadata": {},
     "output_type": "display_data"
    }
   ],
   "source": [
    "# Breusch-Pagan test\n",
    "usq.18 <- (summary(lm.e8.18)$residual)^2\n",
    "lm.e8.18u <- lm(usq.18 ~ llotsize + lsqrft + bdrms, data = hprice1)\n",
    "summary(lm.e8.18u)"
   ]
  },
  {
   "cell_type": "code",
   "execution_count": 20,
   "metadata": {},
   "outputs": [
    {
     "data": {
      "text/html": [
       "4.22324811730436"
      ],
      "text/latex": [
       "4.22324811730436"
      ],
      "text/markdown": [
       "4.22324811730436"
      ],
      "text/plain": [
       "[1] 4.223248"
      ]
     },
     "metadata": {},
     "output_type": "display_data"
    }
   ],
   "source": [
    "# LM-test\n",
    "summary(lm.e8.18u)$r.squared * 88"
   ]
  },
  {
   "cell_type": "code",
   "execution_count": 21,
   "metadata": {},
   "outputs": [
    {
     "data": {
      "text/html": [
       "0.238344602221934"
      ],
      "text/latex": [
       "0.238344602221934"
      ],
      "text/markdown": [
       "0.238344602221934"
      ],
      "text/plain": [
       "[1] 0.2383446"
      ]
     },
     "metadata": {},
     "output_type": "display_data"
    }
   ],
   "source": [
    "1 - pchisq(4.223248, 3)"
   ]
  },
  {
   "cell_type": "code",
   "execution_count": 22,
   "metadata": {},
   "outputs": [
    {
     "data": {
      "text/plain": [
       "\n",
       "\tstudentized Breusch-Pagan test\n",
       "\n",
       "data:  lm.e8.18\n",
       "BP = 4.2232, df = 3, p-value = 0.2383\n"
      ]
     },
     "metadata": {},
     "output_type": "display_data"
    }
   ],
   "source": [
    "# Automatic BP test\n",
    "library(lmtest)\n",
    "bptest(lm.e8.18 )\n"
   ]
  },
  {
   "cell_type": "code",
   "execution_count": null,
   "metadata": {},
   "outputs": [],
   "source": []
  },
  {
   "cell_type": "markdown",
   "metadata": {},
   "source": [
    "## Example-8-5\n",
    "\n",
    "\n",
    "To obtain the test statistic of the the White test, estimate the model, obtain its squared residuals, fitted values and squared fitted values and regress the first on the latter ones. Then, get the R-Squared and multiply it by the number of used observations to get the LM-statistic and the p-value.\n",
    "\n",
    "\n",
    "\n",
    "    Example 8.5: Special Form of the White Test in the Log Housing Price Equation\n",
    "\n",
    "use http://fmwww.bc.edu/ec-p/data/wooldridge/hprice1\n",
    "\n",
    "reg lprice llotsize lsqrft bdrms\n",
    "\n",
    "\n",
    "whitetst, fitted\n",
    "\n",
    "\n",
    "\n",
    "\n",
    "\n",
    "\n",
    "\n",
    "\n",
    "\n",
    "\n"
   ]
  },
  {
   "cell_type": "code",
   "execution_count": 23,
   "metadata": {},
   "outputs": [
    {
     "data": {
      "text/html": [
       "3.44728633051353"
      ],
      "text/latex": [
       "3.44728633051353"
      ],
      "text/markdown": [
       "3.44728633051353"
      ],
      "text/plain": [
       "[1] 3.447286"
      ]
     },
     "metadata": {},
     "output_type": "display_data"
    }
   ],
   "source": [
    "data(\"hprice1\")\n",
    "lm.e8.18 <- lm(lprice ~ llotsize + lsqrft + bdrms, data = hprice1)\n",
    "ressq <- lm.e8.18$residuals^2\n",
    "fitted <- lm.e8.18$fitted.values\n",
    "fittedsq <- lm.e8.18$fitted.values^2\n",
    "rsq <- summary(lm(ressq ~ fitted + fittedsq))$r.squared\n",
    "rsq * 88"
   ]
  },
  {
   "cell_type": "code",
   "execution_count": 24,
   "metadata": {},
   "outputs": [
    {
     "data": {
      "text/html": [
       "0.178414996726678"
      ],
      "text/latex": [
       "0.178414996726678"
      ],
      "text/markdown": [
       "0.178414996726678"
      ],
      "text/plain": [
       "[1] 0.178415"
      ]
     },
     "metadata": {},
     "output_type": "display_data"
    }
   ],
   "source": [
    "1 - pchisq(3.447286, 2)"
   ]
  },
  {
   "cell_type": "code",
   "execution_count": 25,
   "metadata": {},
   "outputs": [
    {
     "data": {
      "text/plain": [
       "\n",
       "\tstudentized Breusch-Pagan test\n",
       "\n",
       "data:  lm.e8.18\n",
       "BP = 4.2232, df = 3, p-value = 0.2383\n"
      ]
     },
     "metadata": {},
     "output_type": "display_data"
    }
   ],
   "source": [
    "bptest(lm.e8.18)"
   ]
  },
  {
   "cell_type": "code",
   "execution_count": null,
   "metadata": {},
   "outputs": [],
   "source": []
  },
  {
   "cell_type": "code",
   "execution_count": 10,
   "metadata": {
    "ExecuteTime": {
     "end_time": "2019-01-16T06:03:24.170416Z",
     "start_time": "2019-01-16T06:03:23.987Z"
    }
   },
   "outputs": [
    {
     "data": {
      "text/plain": [
       "\n",
       "Call:\n",
       "lm(formula = log(price) ~ log(lotsize) + log(sqrft) + bdrms, \n",
       "    data = hprice1)\n",
       "\n",
       "Coefficients:\n",
       " (Intercept)  log(lotsize)    log(sqrft)         bdrms  \n",
       "    -1.29704       0.16797       0.70023       0.03696  \n"
      ]
     },
     "metadata": {},
     "output_type": "display_data"
    }
   ],
   "source": [
    "library(foreign)\n",
    "hprice1<-read.dta(\"http://fmwww.bc.edu/ec-p/data/wooldridge/hprice1.dta\")\n",
    "\n",
    "# Estimate model\n",
    "reg <- lm(log(price)~log(lotsize)+log(sqrft)+bdrms, data=hprice1)\n",
    "reg\n",
    "\n"
   ]
  },
  {
   "cell_type": "code",
   "execution_count": 11,
   "metadata": {
    "ExecuteTime": {
     "end_time": "2019-01-16T06:03:28.452803Z",
     "start_time": "2019-01-16T06:03:28.427Z"
    }
   },
   "outputs": [
    {
     "data": {
      "text/plain": [
       "\n",
       "\tstudentized Breusch-Pagan test\n",
       "\n",
       "data:  reg\n",
       "BP = 4.2232, df = 3, p-value = 0.2383\n"
      ]
     },
     "metadata": {},
     "output_type": "display_data"
    }
   ],
   "source": [
    "# BP test\n",
    "library(lmtest)\n",
    "bptest(reg)\n",
    "\n",
    "\n"
   ]
  },
  {
   "cell_type": "code",
   "execution_count": 12,
   "metadata": {
    "ExecuteTime": {
     "end_time": "2019-01-16T06:03:30.136464Z",
     "start_time": "2019-01-16T06:03:30.115Z"
    }
   },
   "outputs": [
    {
     "data": {
      "text/plain": [
       "\n",
       "\tstudentized Breusch-Pagan test\n",
       "\n",
       "data:  reg\n",
       "BP = 3.4473, df = 2, p-value = 0.1784\n"
      ]
     },
     "metadata": {},
     "output_type": "display_data"
    }
   ],
   "source": [
    "# White test\n",
    "bptest(reg, ~ fitted(reg) + I(fitted(reg)^2) )"
   ]
  },
  {
   "cell_type": "markdown",
   "metadata": {},
   "source": [
    "Fail reject the null hypothesis "
   ]
  },
  {
   "cell_type": "code",
   "execution_count": null,
   "metadata": {},
   "outputs": [],
   "source": []
  },
  {
   "cell_type": "markdown",
   "metadata": {},
   "source": [
    "## Example-8-6\n",
    "\n",
    "For weighted least squares you can still use R’s lm command, but you have to tell R how to weigh the observations with respect to the variance of the coefficients.\n",
    "\n",
    "This is achieved by specifying the argument weights as 1/h, where in our example h is income. \n",
    "\n",
    "Now the model can be estimated and since we have controlled for heteroskedasticity by specifying weights, we can use the usual summary command to get heteroskedasticity robust results and do not need to use coeftest.\n",
    "\n",
    "\n",
    "    Example 8.6: Family Saving Equation\n",
    "\n",
    "use http://fmwww.bc.edu/ec-p/data/wooldridge/saving\n",
    "\n",
    "reg sav inc\n",
    "\n",
    "reg sav inc [aw = 1/inc]\n",
    "\n",
    "\n",
    "reg sav inc size educ age black\n",
    "\n",
    "\n",
    "reg sav inc size educ age black [aw = 1/inc]\n",
    "\n",
    "\n",
    "\n",
    "\n",
    "\n",
    "\n",
    "\n"
   ]
  },
  {
   "cell_type": "code",
   "execution_count": 27,
   "metadata": {},
   "outputs": [
    {
     "data": {
      "text/plain": [
       "\n",
       "t test of coefficients:\n",
       "\n",
       "             Estimate Std. Error t value  Pr(>|t|)    \n",
       "(Intercept) -10.57095    2.52902 -4.1799 3.042e-05 ***\n",
       "inc           0.82068    0.10354  7.9261 3.711e-15 ***\n",
       "---\n",
       "Signif. codes:  0 ‘***’ 0.001 ‘**’ 0.01 ‘*’ 0.05 ‘.’ 0.1 ‘ ’ 1\n"
      ]
     },
     "metadata": {},
     "output_type": "display_data"
    }
   ],
   "source": [
    "data(\"k401ksubs\")\n",
    "\n",
    "lm.8.6.1 <- lm(nettfa ~ inc, data = k401ksubs, subset = (fsize == 1))\n",
    "coeftest(lm.8.6.1, vcov = vcovHC(lm.8.6.1, type = \"HC0\"))"
   ]
  },
  {
   "cell_type": "code",
   "execution_count": 28,
   "metadata": {},
   "outputs": [
    {
     "data": {
      "text/plain": [
       "\n",
       "Call:\n",
       "lm(formula = nettfa ~ inc, data = k401ksubs, subset = (fsize == \n",
       "    1), weights = 1/inc)\n",
       "\n",
       "Weighted Residuals:\n",
       "    Min      1Q  Median      3Q     Max \n",
       "-23.469  -2.339  -1.086   0.352 178.220 \n",
       "\n",
       "Coefficients:\n",
       "            Estimate Std. Error t value Pr(>|t|)    \n",
       "(Intercept) -9.58070    1.65328  -5.795 7.91e-09 ***\n",
       "inc          0.78705    0.06348  12.398  < 2e-16 ***\n",
       "---\n",
       "Signif. codes:  0 ‘***’ 0.001 ‘**’ 0.01 ‘*’ 0.05 ‘.’ 0.1 ‘ ’ 1\n",
       "\n",
       "Residual standard error: 7.219 on 2015 degrees of freedom\n",
       "Multiple R-squared:  0.07088,\tAdjusted R-squared:  0.07042 \n",
       "F-statistic: 153.7 on 1 and 2015 DF,  p-value: < 2.2e-16\n"
      ]
     },
     "metadata": {},
     "output_type": "display_data"
    }
   ],
   "source": [
    "lm.8.6.2 <- lm(nettfa ~ inc, weights = 1/inc, data = k401ksubs, subset = (fsize == 1))\n",
    "summary(lm.8.6.2)"
   ]
  },
  {
   "cell_type": "code",
   "execution_count": 29,
   "metadata": {},
   "outputs": [
    {
     "data": {
      "text/plain": [
       "\n",
       "t test of coefficients:\n",
       "\n",
       "              Estimate Std. Error t value  Pr(>|t|)    \n",
       "(Intercept) -2.3360343  1.8725857 -1.2475   0.21236    \n",
       "age.25sq     0.0258052  0.0044892  5.7483 1.039e-08 ***\n",
       "male         5.3883568  2.2771296  2.3663   0.01806 *  \n",
       "e401k       13.1199818  2.4341139  5.3900 7.870e-08 ***\n",
       "---\n",
       "Signif. codes:  0 ‘***’ 0.001 ‘**’ 0.01 ‘*’ 0.05 ‘.’ 0.1 ‘ ’ 1\n"
      ]
     },
     "metadata": {},
     "output_type": "display_data"
    }
   ],
   "source": [
    "age.25sq <- (k401ksubs$age - 25)^2\n",
    "lm.8.6.3 <- lm(nettfa ~ age.25sq + male + e401k,\n",
    "               data = k401ksubs, subset = (fsize == 1))\n",
    "\n",
    "coeftest(lm.8.6.3, vcov = vcovHC(lm.8.6.3, type = \"HC0\"))"
   ]
  },
  {
   "cell_type": "code",
   "execution_count": 30,
   "metadata": {},
   "outputs": [
    {
     "data": {
      "text/plain": [
       "\n",
       "Call:\n",
       "lm(formula = nettfa ~ inc + age.25sq + male + e401k, data = k401ksubs, \n",
       "    subset = (fsize == 1), weights = 1/inc)\n",
       "\n",
       "Weighted Residuals:\n",
       "    Min      1Q  Median      3Q     Max \n",
       "-26.613  -2.491  -0.803   0.934 178.052 \n",
       "\n",
       "Coefficients:\n",
       "              Estimate Std. Error t value Pr(>|t|)    \n",
       "(Intercept) -16.702521   1.957995  -8.530  < 2e-16 ***\n",
       "inc           0.740384   0.064303  11.514  < 2e-16 ***\n",
       "age.25sq      0.017537   0.001931   9.080  < 2e-16 ***\n",
       "male          1.840529   1.563587   1.177  0.23929    \n",
       "e401k         5.188281   1.703426   3.046  0.00235 ** \n",
       "---\n",
       "Signif. codes:  0 ‘***’ 0.001 ‘**’ 0.01 ‘*’ 0.05 ‘.’ 0.1 ‘ ’ 1\n",
       "\n",
       "Residual standard error: 7.065 on 2012 degrees of freedom\n",
       "Multiple R-squared:  0.1115,\tAdjusted R-squared:  0.1097 \n",
       "F-statistic: 63.13 on 4 and 2012 DF,  p-value: < 2.2e-16\n"
      ]
     },
     "metadata": {},
     "output_type": "display_data"
    }
   ],
   "source": [
    "lm.8.6.4 <- lm(nettfa ~ inc + age.25sq + male + e401k, weights = 1 / inc,\n",
    "               data = k401ksubs, subset = (fsize == 1))\n",
    "summary(lm.8.6.4)"
   ]
  },
  {
   "cell_type": "code",
   "execution_count": null,
   "metadata": {},
   "outputs": [],
   "source": []
  },
  {
   "cell_type": "code",
   "execution_count": null,
   "metadata": {},
   "outputs": [],
   "source": []
  },
  {
   "cell_type": "code",
   "execution_count": null,
   "metadata": {},
   "outputs": [],
   "source": []
  },
  {
   "cell_type": "code",
   "execution_count": null,
   "metadata": {},
   "outputs": [],
   "source": []
  },
  {
   "cell_type": "code",
   "execution_count": 26,
   "metadata": {
    "ExecuteTime": {
     "end_time": "2019-01-16T06:06:34.212479Z",
     "start_time": "2019-01-16T06:06:33.564Z"
    }
   },
   "outputs": [
    {
     "data": {
      "text/plain": [
       "\n",
       "Call:\n",
       "lm(formula = nettfa ~ inc + I((age - 25)^2) + male + e401k, data = d401k, \n",
       "    subset = (fsize == 1))\n",
       "\n",
       "Coefficients:\n",
       "    (Intercept)              inc  I((age - 25)^2)             male  \n",
       "      -20.98499          0.77058          0.02513          2.47793  \n",
       "          e401k  \n",
       "        6.88622  \n"
      ]
     },
     "metadata": {},
     "output_type": "display_data"
    }
   ],
   "source": [
    "library(foreign)\n",
    "d401k<-read.dta(\"http://fmwww.bc.edu/ec-p/data/wooldridge/401ksubs.dta\")\n",
    "\n",
    "# OLS (only for singles: fsize==1)\n",
    "OLS1 = lm(nettfa ~ inc + I((age-25)^2) + male + e401k, \n",
    "                                         data=d401k, subset=(fsize==1))\n",
    "OLS1\n",
    "\n"
   ]
  },
  {
   "cell_type": "code",
   "execution_count": 17,
   "metadata": {
    "ExecuteTime": {
     "end_time": "2019-01-16T06:06:51.066742Z",
     "start_time": "2019-01-16T06:06:51.041Z"
    }
   },
   "outputs": [
    {
     "data": {
      "text/plain": [
       "\n",
       "Call:\n",
       "lm(formula = nettfa ~ inc + I((age - 25)^2) + male + e401k, data = d401k, \n",
       "    subset = (fsize == 1), weights = 1/inc)\n",
       "\n",
       "Coefficients:\n",
       "    (Intercept)              inc  I((age - 25)^2)             male  \n",
       "      -16.70252          0.74038          0.01754          1.84053  \n",
       "          e401k  \n",
       "        5.18828  \n"
      ]
     },
     "metadata": {},
     "output_type": "display_data"
    }
   ],
   "source": [
    "# WLS\n",
    "WLS1 =lm(nettfa ~ inc + I((age-25)^2) + male + e401k, weight=1/inc, \n",
    "                                         data=d401k, subset=(fsize==1))\n",
    "WLS1"
   ]
  },
  {
   "cell_type": "code",
   "execution_count": 18,
   "metadata": {
    "ExecuteTime": {
     "end_time": "2019-01-16T06:07:02.428340Z",
     "start_time": "2019-01-16T06:07:02.119Z"
    }
   },
   "outputs": [
    {
     "name": "stdout",
     "output_type": "stream",
     "text": [
      "\n",
      "=============================================================================\n",
      "                                             Dependent variable:             \n",
      "                                ---------------------------------------------\n",
      "                                                   nettfa                    \n",
      "                                         (1)                    (2)          \n",
      "-----------------------------------------------------------------------------\n",
      "inc                              0.77058*** (0.06145)   0.74038*** (0.06430) \n",
      "I((age - 25)2)                   0.02513*** (0.00259)   0.01754*** (0.00193) \n",
      "male                              2.47793 (2.04778)      1.84053 (1.56359)   \n",
      "e401k                            6.88622*** (2.12327)   5.18828*** (1.70343) \n",
      "Constant                        -20.98499*** (2.47202) -16.70252*** (1.95799)\n",
      "-----------------------------------------------------------------------------\n",
      "Observations                            2,017                  2,017         \n",
      "R2                                     0.12787                0.11151        \n",
      "Adjusted R2                            0.12613                0.10974        \n",
      "Residual Std. Error (df = 2012)        44.48805               7.06499        \n",
      "F Statistic (df = 4; 2012)           73.74763***            63.12735***      \n",
      "=============================================================================\n",
      "Note:                                             *p<0.1; **p<0.05; ***p<0.01\n"
     ]
    }
   ],
   "source": [
    "stargazer(type = \"text\",\n",
    "          OLS1, \n",
    "          WLS1,  \n",
    "          single.row = TRUE, header = FALSE, digits=5)"
   ]
  },
  {
   "cell_type": "code",
   "execution_count": null,
   "metadata": {},
   "outputs": [],
   "source": [
    "data('k401k')"
   ]
  },
  {
   "cell_type": "markdown",
   "metadata": {},
   "source": [
    "\n",
    "## Example-8-7\n",
    "\n",
    "    Example 8.7: Demand for Cigarettes\n",
    "\n",
    "use http://fmwww.bc.edu/ec-p/data/wooldridge/smoke\n",
    "\n",
    "reg cigs lincome lcigpric educ age agesq restaurn\n",
    "\n",
    "    Change in cigs if income increases by 10%\n",
    "\n",
    "display _b[lincome]*10/100\n",
    "\n",
    "    Turnover point for age\n",
    "\n",
    "display _b[age]/2/_b[agesq]\n",
    "\n",
    "\n",
    "whitetst, fitted\n",
    "\n",
    "\n",
    "gen lubar=log(ub*ub)\n",
    "\n",
    "qui reg lubar lincome lcigpric educ age agesq restaurn\n",
    "\n",
    "predict cigsh, xb\n",
    "\n",
    "gen cigse = exp(cigsh)\n",
    "\n",
    "reg cigs lincome lcigpric educ age agesq restaurn [aw=1/cigse]\n",
    "\n"
   ]
  },
  {
   "cell_type": "code",
   "execution_count": null,
   "metadata": {},
   "outputs": [],
   "source": [
    "data(\"smoke\")\n",
    "\n",
    "lm.8.7 <- lm(cigs ~ lincome + lcigpric + educ + age + agesq + restaurn, data = smoke)\n",
    "summary(lm.8.7)"
   ]
  },
  {
   "cell_type": "code",
   "execution_count": 32,
   "metadata": {},
   "outputs": [
    {
     "data": {
      "text/plain": [
       "\n",
       "Call:\n",
       "lm(formula = lm.8.7$residuals^2 ~ lincome + lcigpric + educ + \n",
       "    age + agesq + restaurn, data = smoke)\n",
       "\n",
       "Residuals:\n",
       "   Min     1Q Median     3Q    Max \n",
       "-270.1 -127.5  -94.0  -39.1 4667.8 \n",
       "\n",
       "Coefficients:\n",
       "              Estimate Std. Error t value Pr(>|t|)    \n",
       "(Intercept) -636.30306  652.49456  -0.975   0.3298    \n",
       "lincome       24.63848   19.72180   1.249   0.2119    \n",
       "lcigpric      60.97655  156.44869   0.390   0.6968    \n",
       "educ          -2.38423    4.52753  -0.527   0.5986    \n",
       "age           19.41748    4.33907   4.475 8.75e-06 ***\n",
       "agesq         -0.21479    0.04723  -4.547 6.27e-06 ***\n",
       "restaurn     -71.18138   30.12789  -2.363   0.0184 *  \n",
       "---\n",
       "Signif. codes:  0 ‘***’ 0.001 ‘**’ 0.01 ‘*’ 0.05 ‘.’ 0.1 ‘ ’ 1\n",
       "\n",
       "Residual standard error: 363.2 on 800 degrees of freedom\n",
       "Multiple R-squared:  0.03997,\tAdjusted R-squared:  0.03277 \n",
       "F-statistic: 5.552 on 6 and 800 DF,  p-value: 1.189e-05\n"
      ]
     },
     "metadata": {},
     "output_type": "display_data"
    }
   ],
   "source": [
    "# Breusch-Pagan\n",
    "summary(lm.8.7u <-lm(lm.8.7$residuals^2 ~ lincome + lcigpric +\n",
    "                       educ + age + agesq + restaurn, data = smoke))"
   ]
  },
  {
   "cell_type": "code",
   "execution_count": 33,
   "metadata": {},
   "outputs": [
    {
     "data": {
      "text/html": [
       "32.2584192993943"
      ],
      "text/latex": [
       "32.2584192993943"
      ],
      "text/markdown": [
       "32.2584192993943"
      ],
      "text/plain": [
       "[1] 32.25842"
      ]
     },
     "metadata": {},
     "output_type": "display_data"
    }
   ],
   "source": [
    "summary(lm.8.7u)$r.squared * 807"
   ]
  },
  {
   "cell_type": "code",
   "execution_count": 34,
   "metadata": {},
   "outputs": [
    {
     "data": {
      "text/html": [
       "1.45577934268504e-05"
      ],
      "text/latex": [
       "1.45577934268504e-05"
      ],
      "text/markdown": [
       "1.45577934268504e-05"
      ],
      "text/plain": [
       "[1] 1.455779e-05"
      ]
     },
     "metadata": {},
     "output_type": "display_data"
    }
   ],
   "source": [
    "1 - pchisq(summary(lm.8.7u)$r.squared*807, 6)"
   ]
  },
  {
   "cell_type": "code",
   "execution_count": 35,
   "metadata": {},
   "outputs": [
    {
     "data": {
      "text/plain": [
       "\n",
       "\tstudentized Breusch-Pagan test\n",
       "\n",
       "data:  lm.8.7\n",
       "BP = 32.258, df = 6, p-value = 1.456e-05\n"
      ]
     },
     "metadata": {},
     "output_type": "display_data"
    }
   ],
   "source": [
    "bptest(lm.8.7)"
   ]
  },
  {
   "cell_type": "markdown",
   "metadata": {},
   "source": [
    "For feasible GLS you obtain the logarithm of squared residuals from the basic model. \n",
    "\n",
    "Then you regress it on the model’s independent variables and calculate the exponential of fitted values from that regression which gives hhat. \n",
    "\n",
    "Then you estimate the basic model again, but with the weights 1/hhat."
   ]
  },
  {
   "cell_type": "code",
   "execution_count": 36,
   "metadata": {},
   "outputs": [],
   "source": [
    "lres.u <- log(lm.8.7$residuals^2)\n",
    "lm.8.7gls.u <- lm(lres.u ~ lincome + lcigpric + educ + age +\n",
    "                    agesq + restaurn, data = smoke)\n",
    "hhat <- exp(lm.8.7gls.u$fitted.values)"
   ]
  },
  {
   "cell_type": "code",
   "execution_count": 37,
   "metadata": {},
   "outputs": [
    {
     "data": {
      "text/plain": [
       "\n",
       "Call:\n",
       "lm(formula = cigs ~ lincome + lcigpric + educ + age + agesq + \n",
       "    restaurn, data = smoke, weights = 1/hhat)\n",
       "\n",
       "Weighted Residuals:\n",
       "    Min      1Q  Median      3Q     Max \n",
       "-1.9036 -0.9532 -0.8099  0.8415  9.8556 \n",
       "\n",
       "Coefficients:\n",
       "              Estimate Std. Error t value Pr(>|t|)    \n",
       "(Intercept)  5.6354618 17.8031385   0.317 0.751673    \n",
       "lincome      1.2952399  0.4370118   2.964 0.003128 ** \n",
       "lcigpric    -2.9403123  4.4601445  -0.659 0.509930    \n",
       "educ        -0.4634464  0.1201587  -3.857 0.000124 ***\n",
       "age          0.4819479  0.0968082   4.978 7.86e-07 ***\n",
       "agesq       -0.0056272  0.0009395  -5.990 3.17e-09 ***\n",
       "restaurn    -3.4610641  0.7955050  -4.351 1.53e-05 ***\n",
       "---\n",
       "Signif. codes:  0 ‘***’ 0.001 ‘**’ 0.01 ‘*’ 0.05 ‘.’ 0.1 ‘ ’ 1\n",
       "\n",
       "Residual standard error: 1.579 on 800 degrees of freedom\n",
       "Multiple R-squared:  0.1134,\tAdjusted R-squared:  0.1068 \n",
       "F-statistic: 17.06 on 6 and 800 DF,  p-value: < 2.2e-16\n"
      ]
     },
     "metadata": {},
     "output_type": "display_data"
    }
   ],
   "source": [
    "lm.8.7gls <- lm(cigs ~ lincome + lcigpric + educ + age + \n",
    "                  agesq + restaurn, weights = 1 / hhat, data = smoke)\n",
    "summary(lm.8.7gls)"
   ]
  },
  {
   "cell_type": "markdown",
   "metadata": {},
   "source": [
    "# Table 8.2"
   ]
  },
  {
   "cell_type": "code",
   "execution_count": 38,
   "metadata": {},
   "outputs": [
    {
     "data": {
      "text/plain": [
       "\n",
       "Call:\n",
       "lm(formula = nettfa ~ inc + age.25sq + male + e401k, data = k401ksubs, \n",
       "    subset = (fsize == 1), weights = 1/inc)\n",
       "\n",
       "Weighted Residuals:\n",
       "    Min      1Q  Median      3Q     Max \n",
       "-26.613  -2.491  -0.803   0.934 178.052 \n",
       "\n",
       "Coefficients:\n",
       "              Estimate Std. Error t value Pr(>|t|)    \n",
       "(Intercept) -16.702521   1.957995  -8.530  < 2e-16 ***\n",
       "inc           0.740384   0.064303  11.514  < 2e-16 ***\n",
       "age.25sq      0.017537   0.001931   9.080  < 2e-16 ***\n",
       "male          1.840529   1.563587   1.177  0.23929    \n",
       "e401k         5.188281   1.703426   3.046  0.00235 ** \n",
       "---\n",
       "Signif. codes:  0 ‘***’ 0.001 ‘**’ 0.01 ‘*’ 0.05 ‘.’ 0.1 ‘ ’ 1\n",
       "\n",
       "Residual standard error: 7.065 on 2012 degrees of freedom\n",
       "Multiple R-squared:  0.1115,\tAdjusted R-squared:  0.1097 \n",
       "F-statistic: 63.13 on 4 and 2012 DF,  p-value: < 2.2e-16\n"
      ]
     },
     "metadata": {},
     "output_type": "display_data"
    }
   ],
   "source": [
    "# Recall the first column of the table\n",
    "summary(lm.8.6.4)"
   ]
  },
  {
   "cell_type": "code",
   "execution_count": 39,
   "metadata": {},
   "outputs": [
    {
     "data": {
      "text/plain": [
       "\n",
       "t test of coefficients:\n",
       "\n",
       "               Estimate  Std. Error t value  Pr(>|t|)    \n",
       "(Intercept) -16.7025205   2.2402025 -7.4558 1.320e-13 ***\n",
       "inc           0.7403843   0.0749626  9.8767 < 2.2e-16 ***\n",
       "age.25sq      0.0175373   0.0025817  6.7930 1.442e-11 ***\n",
       "male          1.8405293   1.3091836  1.4059  0.159920    \n",
       "e401k         5.1882807   1.5699057  3.3048  0.000967 ***\n",
       "---\n",
       "Signif. codes:  0 ‘***’ 0.001 ‘**’ 0.01 ‘*’ 0.05 ‘.’ 0.1 ‘ ’ 1\n"
      ]
     },
     "metadata": {},
     "output_type": "display_data"
    }
   ],
   "source": [
    "# Column 2\n",
    "coeftest(lm.8.6.4, vcov = vcovHC(lm.8.6.4, type = \"HC0\"))"
   ]
  },
  {
   "cell_type": "code",
   "execution_count": 43,
   "metadata": {},
   "outputs": [
    {
     "name": "stdout",
     "output_type": "stream",
     "text": [
      "\n",
      "=============================================================================\n",
      "                                             Dependent variable:             \n",
      "                                ---------------------------------------------\n",
      "                                                   nettfa                    \n",
      "                                         (1)                    (2)          \n",
      "-----------------------------------------------------------------------------\n",
      "inc                              0.74038*** (0.06430)   0.74038*** (0.06430) \n",
      "age.25sq                         0.01754*** (0.00193)   0.01754*** (0.00193) \n",
      "male                              1.84053 (1.56359)      1.84053 (1.56359)   \n",
      "e401k                            5.18828*** (1.70343)   5.18828*** (1.70343) \n",
      "Constant                        -16.70252*** (1.95799) -16.70252*** (1.95799)\n",
      "-----------------------------------------------------------------------------\n",
      "Observations                            2,017                  2,017         \n",
      "R2                                     0.11151                0.11151        \n",
      "Adjusted R2                            0.10974                0.10974        \n",
      "Residual Std. Error (df = 2012)        7.06499                7.06499        \n",
      "F Statistic (df = 4; 2012)           63.12735***            63.12735***      \n",
      "=============================================================================\n",
      "Note:                                             *p<0.1; **p<0.05; ***p<0.01\n"
     ]
    }
   ],
   "source": [
    "stargazer(type = \"text\",\n",
    "          lm.8.6.4, \n",
    "          lm.8.6.4,  \n",
    "          single.row = TRUE, header = FALSE, digits=5)"
   ]
  },
  {
   "cell_type": "code",
   "execution_count": 46,
   "metadata": {},
   "outputs": [
    {
     "name": "stdout",
     "output_type": "stream",
     "text": [
      "\n",
      "==========================================================================\n",
      "                                           Dependent variable:            \n",
      "                               -------------------------------------------\n",
      "                                                  cigs                    \n",
      "                                        (1)                   (2)         \n",
      "--------------------------------------------------------------------------\n",
      "lincome                          0.88027 (0.72778)   1.29524*** (0.43701) \n",
      "lcigpric                        -0.75086 (5.77334)    -2.94031 (4.46014)  \n",
      "educ                           -0.50150*** (0.16708) -0.46345*** (0.12016)\n",
      "age                            0.77069*** (0.16012)  0.48195*** (0.09681) \n",
      "agesq                          -0.00902*** (0.00174) -0.00563*** (0.00094)\n",
      "restaurn                       -2.82508** (1.11179)  -3.46106*** (0.79550)\n",
      "Constant                        -3.63984 (24.07866)   5.63546 (17.80314)  \n",
      "--------------------------------------------------------------------------\n",
      "Observations                            807                   807         \n",
      "R2                                    0.05274               0.11341       \n",
      "Adjusted R2                           0.04563               0.10676       \n",
      "Residual Std. Error (df = 800)       13.40479               1.57870       \n",
      "F Statistic (df = 6; 800)           7.42306***            17.05549***     \n",
      "==========================================================================\n",
      "Note:                                          *p<0.1; **p<0.05; ***p<0.01\n"
     ]
    }
   ],
   "source": [
    "stargazer(type = \"text\",\n",
    "          lm.8.7, \n",
    "          lm.8.7gls,  \n",
    "          single.row = TRUE, \n",
    "          header = TRUE, #c('OLS','GLS'), \n",
    "          digits=5)"
   ]
  },
  {
   "cell_type": "markdown",
   "metadata": {},
   "source": [
    "GLS is more effeicient than OLS"
   ]
  },
  {
   "cell_type": "markdown",
   "metadata": {},
   "source": [
    "# Example 8.8\n",
    "\n",
    "With respect to linear probability models the procedure is rather similar to the first examples: estimate the model and use coeftest to get heteroskedasticity robust estimates of the standard errors.\n",
    "\n",
    "\n",
    "    Example 8.8: Labor Force Participation of Married Women\n",
    "\n",
    "use http://fmwww.bc.edu/ec-p/data/wooldridge/mroz\n",
    "\n",
    "reg inlf nwifeinc educ exper expersq age kidslt6 kidsge6\n",
    "\n",
    "reg inlf nwifeinc educ exper expersq age kidslt6 kidsge6, robust\n"
   ]
  },
  {
   "cell_type": "code",
   "execution_count": 47,
   "metadata": {},
   "outputs": [
    {
     "data": {
      "text/plain": [
       "\n",
       "Call:\n",
       "lm(formula = inlf ~ nwifeinc + educ + exper + expersq + age + \n",
       "    kidslt6 + kidsge6, data = mroz)\n",
       "\n",
       "Residuals:\n",
       "     Min       1Q   Median       3Q      Max \n",
       "-0.93432 -0.37526  0.08833  0.34404  0.99417 \n",
       "\n",
       "Coefficients:\n",
       "              Estimate Std. Error t value Pr(>|t|)    \n",
       "(Intercept)  0.5855192  0.1541780   3.798 0.000158 ***\n",
       "nwifeinc    -0.0034052  0.0014485  -2.351 0.018991 *  \n",
       "educ         0.0379953  0.0073760   5.151 3.32e-07 ***\n",
       "exper        0.0394924  0.0056727   6.962 7.38e-12 ***\n",
       "expersq     -0.0005963  0.0001848  -3.227 0.001306 ** \n",
       "age         -0.0160908  0.0024847  -6.476 1.71e-10 ***\n",
       "kidslt6     -0.2618105  0.0335058  -7.814 1.89e-14 ***\n",
       "kidsge6      0.0130122  0.0131960   0.986 0.324415    \n",
       "---\n",
       "Signif. codes:  0 ‘***’ 0.001 ‘**’ 0.01 ‘*’ 0.05 ‘.’ 0.1 ‘ ’ 1\n",
       "\n",
       "Residual standard error: 0.4271 on 745 degrees of freedom\n",
       "Multiple R-squared:  0.2642,\tAdjusted R-squared:  0.2573 \n",
       "F-statistic: 38.22 on 7 and 745 DF,  p-value: < 2.2e-16\n"
      ]
     },
     "metadata": {},
     "output_type": "display_data"
    }
   ],
   "source": [
    "data(\"mroz\")\n",
    "lm.8.8 <- lm(inlf ~ nwifeinc + educ + exper + expersq +\n",
    "               age + kidslt6 + kidsge6, data = mroz)\n",
    "summary(lm.8.8)"
   ]
  },
  {
   "cell_type": "code",
   "execution_count": 48,
   "metadata": {},
   "outputs": [
    {
     "data": {
      "text/plain": [
       "\n",
       "t test of coefficients:\n",
       "\n",
       "               Estimate  Std. Error t value  Pr(>|t|)    \n",
       "(Intercept)  0.58551922  0.15144889  3.8661 0.0001202 ***\n",
       "nwifeinc    -0.00340517  0.00151681 -2.2450 0.0250635 *  \n",
       "educ         0.03799530  0.00722734  5.2572 1.913e-07 ***\n",
       "exper        0.03949239  0.00577907  6.8337 1.722e-11 ***\n",
       "expersq     -0.00059631  0.00018899 -3.1552 0.0016683 ** \n",
       "age         -0.01609081  0.00238623 -6.7432 3.108e-11 ***\n",
       "kidslt6     -0.26181047  0.03161391 -8.2815 5.626e-16 ***\n",
       "kidsge6      0.01301223  0.01346085  0.9667 0.3340215    \n",
       "---\n",
       "Signif. codes:  0 ‘***’ 0.001 ‘**’ 0.01 ‘*’ 0.05 ‘.’ 0.1 ‘ ’ 1\n"
      ]
     },
     "metadata": {},
     "output_type": "display_data"
    }
   ],
   "source": [
    "coeftest(lm.8.8, vcov = vcovHC(lm.8.8, type = \"HC0\"))"
   ]
  },
  {
   "cell_type": "code",
   "execution_count": null,
   "metadata": {},
   "outputs": [],
   "source": []
  },
  {
   "cell_type": "markdown",
   "metadata": {},
   "source": [
    "# Example 8.9\n",
    "\n",
    "Since linear probability models automatically suffer from heteroskedasticity, we have to somehow control for that. The first part of the estimation is already familiar.\n",
    "\n",
    "\n",
    "    Example 8.9: Determinants of Personal Computer Ownership\n",
    "\n",
    "use http://fmwww.bc.edu/ec-p/data/wooldridge/gpa1\n",
    "\n",
    "gen parcoll = (mothcoll | fathcoll)\n",
    "\n",
    "reg PC hsGPA ACT parcoll\n",
    "\n",
    "\n",
    "predict phat\n",
    "\n",
    "gen h=phat*(1-phat)\n",
    "\n",
    "reg PC hsGPA ACT parcoll [aw=1/h]\n",
    "\n",
    "\n",
    "\n",
    "\n",
    "\n"
   ]
  },
  {
   "cell_type": "code",
   "execution_count": 49,
   "metadata": {},
   "outputs": [
    {
     "data": {
      "text/plain": [
       "\n",
       "Call:\n",
       "lm(formula = PC ~ hsGPA + ACT + parcoll, data = gpa1)\n",
       "\n",
       "Residuals:\n",
       "    Min      1Q  Median      3Q     Max \n",
       "-0.4915 -0.4494 -0.2437  0.5375  0.8223 \n",
       "\n",
       "Coefficients:\n",
       "              Estimate Std. Error t value Pr(>|t|)  \n",
       "(Intercept) -0.0004322  0.4905358  -0.001   0.9993  \n",
       "hsGPA        0.0653943  0.1372576   0.476   0.6345  \n",
       "ACT          0.0005645  0.0154967   0.036   0.9710  \n",
       "parcoll      0.2210541  0.0929570   2.378   0.0188 *\n",
       "---\n",
       "Signif. codes:  0 ‘***’ 0.001 ‘**’ 0.01 ‘*’ 0.05 ‘.’ 0.1 ‘ ’ 1\n",
       "\n",
       "Residual standard error: 0.486 on 137 degrees of freedom\n",
       "Multiple R-squared:  0.04153,\tAdjusted R-squared:  0.02054 \n",
       "F-statistic: 1.979 on 3 and 137 DF,  p-value: 0.1201\n"
      ]
     },
     "metadata": {},
     "output_type": "display_data"
    }
   ],
   "source": [
    "data(\"gpa1\")\n",
    "\n",
    "# Generate dummy variable vector which is 1 when either the \n",
    "# father or the mother or both were at college.\n",
    "parcoll <- as.numeric(gpa1$fathcoll == 1 | gpa1$mothcoll)\n",
    "lm.8.9 <- lm(PC ~ hsGPA + ACT + parcoll, data = gpa1)\n",
    "summary(lm.8.9)"
   ]
  },
  {
   "cell_type": "code",
   "execution_count": 50,
   "metadata": {},
   "outputs": [
    {
     "data": {
      "text/plain": [
       "\n",
       "Call:\n",
       "lm(formula = PC ~ hsGPA + ACT + I(fathcoll * mothcoll), data = gpa1)\n",
       "\n",
       "Residuals:\n",
       "    Min      1Q  Median      3Q     Max \n",
       "-0.5074 -0.3572 -0.3300  0.5297  0.6923 \n",
       "\n",
       "Coefficients:\n",
       "                       Estimate Std. Error t value Pr(>|t|)\n",
       "(Intercept)             0.16548    0.49210   0.336    0.737\n",
       "hsGPA                   0.02956    0.13843   0.214    0.831\n",
       "ACT                     0.00316    0.01559   0.203    0.840\n",
       "I(fathcoll * mothcoll)  0.13797    0.08496   1.624    0.107\n",
       "\n",
       "Residual standard error: 0.4912 on 137 degrees of freedom\n",
       "Multiple R-squared:  0.02081,\tAdjusted R-squared:  -0.00063 \n",
       "F-statistic: 0.9706 on 3 and 137 DF,  p-value: 0.4086\n"
      ]
     },
     "metadata": {},
     "output_type": "display_data"
    }
   ],
   "source": [
    "parcoll <- as.numeric(gpa1$fathcoll == 1 | gpa1$mothcoll)\n",
    "lm.8.9.0 <- lm(PC ~ hsGPA + ACT + I(fathcoll*mothcoll), data = gpa1)\n",
    "summary(lm.8.9.0)"
   ]
  },
  {
   "cell_type": "code",
   "execution_count": 51,
   "metadata": {},
   "outputs": [
    {
     "data": {
      "text/plain": [
       "\n",
       "t test of coefficients:\n",
       "\n",
       "               Estimate  Std. Error t value Pr(>|t|)  \n",
       "(Intercept) -0.00043220  0.48879587 -0.0009  0.99930  \n",
       "hsGPA        0.06539435  0.13946545  0.4689  0.63989  \n",
       "ACT          0.00056451  0.01584133  0.0356  0.97163  \n",
       "parcoll      0.22105405  0.08678002  2.5473  0.01196 *\n",
       "---\n",
       "Signif. codes:  0 ‘***’ 0.001 ‘**’ 0.01 ‘*’ 0.05 ‘.’ 0.1 ‘ ’ 1\n"
      ]
     },
     "metadata": {},
     "output_type": "display_data"
    }
   ],
   "source": [
    "coeftest(lm.8.9, vcov = vcovHC(lm.8.9, type = \"HC0\"))"
   ]
  },
  {
   "cell_type": "markdown",
   "metadata": {},
   "source": [
    "To deal with heteroskedasticity obtain the fitted values from the basic model and check whether all of them are neither negative nor above unity.\n",
    "\n",
    "\n",
    "I plotted a histogram for that. You might also lock at min and max or functions like that. \n",
    "\n",
    "\n",
    "Then calculate hhat as described in the book and use its inverse (1/hhat) for the weights specification in the final regression."
   ]
  },
  {
   "cell_type": "code",
   "execution_count": 52,
   "metadata": {},
   "outputs": [
    {
     "data": {
      "image/png": "[encoded data removed]",
      "text/plain": [
       "Plot with title “Histogram of lm.8.9$fitted.values”"
      ]
     },
     "metadata": {},
     "output_type": "display_data"
    }
   ],
   "source": [
    "hist(lm.8.9$fitted.values) # Fitted values are neither negative nor above unity."
   ]
  },
  {
   "cell_type": "code",
   "execution_count": 53,
   "metadata": {},
   "outputs": [
    {
     "data": {
      "text/plain": [
       "\n",
       "Call:\n",
       "lm(formula = PC ~ hsGPA + ACT + parcoll, data = gpa1, weights = 1/hhat)\n",
       "\n",
       "Weighted Residuals:\n",
       "    Min      1Q  Median      3Q     Max \n",
       "-1.0015 -0.9029 -0.5576  1.0800  2.0429 \n",
       "\n",
       "Coefficients:\n",
       "            Estimate Std. Error t value Pr(>|t|)  \n",
       "(Intercept) 0.026210   0.476650   0.055   0.9562  \n",
       "hsGPA       0.032703   0.129882   0.252   0.8016  \n",
       "ACT         0.004272   0.015453   0.276   0.7826  \n",
       "parcoll     0.215186   0.086292   2.494   0.0138 *\n",
       "---\n",
       "Signif. codes:  0 ‘***’ 0.001 ‘**’ 0.01 ‘*’ 0.05 ‘.’ 0.1 ‘ ’ 1\n",
       "\n",
       "Residual standard error: 1.016 on 137 degrees of freedom\n",
       "Multiple R-squared:  0.04644,\tAdjusted R-squared:  0.02556 \n",
       "F-statistic: 2.224 on 3 and 137 DF,  p-value: 0.08816\n"
      ]
     },
     "metadata": {},
     "output_type": "display_data"
    }
   ],
   "source": [
    "hhat <- lm.8.9$fitted.values * (1 - lm.8.9$fitted.values) # Calculate hhat (h = yhat * (1 - yhat))\n",
    "lm.8.9wls <- lm(PC ~ hsGPA + ACT + parcoll, weights = 1 / hhat, data = gpa1)\n",
    "summary(lm.8.9wls)"
   ]
  },
  {
   "cell_type": "code",
   "execution_count": null,
   "metadata": {},
   "outputs": [],
   "source": []
  },
  {
   "cell_type": "code",
   "execution_count": null,
   "metadata": {},
   "outputs": [],
   "source": []
  },
  {
   "cell_type": "code",
   "execution_count": null,
   "metadata": {},
   "outputs": [],
   "source": []
  },
  {
   "cell_type": "markdown",
   "metadata": {},
   "source": [
    "# CH08C12"
   ]
  },
  {
   "cell_type": "code",
   "execution_count": 3,
   "metadata": {},
   "outputs": [],
   "source": [
    "data(\"meap00_01\")"
   ]
  },
  {
   "cell_type": "code",
   "execution_count": 5,
   "metadata": {},
   "outputs": [],
   "source": [
    "model_math4 = lm(math4~lunch+lenroll + lexppp, data = meap00_01)"
   ]
  },
  {
   "cell_type": "code",
   "execution_count": 11,
   "metadata": {},
   "outputs": [],
   "source": [
    "model_math4_robust = coeftest(model_math4, vcov = vcovHC(model_math4, \"HC1\"))"
   ]
  },
  {
   "cell_type": "code",
   "execution_count": 12,
   "metadata": {},
   "outputs": [
    {
     "name": "stdout",
     "output_type": "stream",
     "text": [
      "\n",
      "======================================================================\n",
      "                                   Dependent variable:                \n",
      "                    --------------------------------------------------\n",
      "                               math4                                  \n",
      "                                OLS                  coefficient      \n",
      "                                                         test         \n",
      "                                (1)                      (2)          \n",
      "----------------------------------------------------------------------\n",
      "lunch                  -0.44874*** (0.01464)    -0.44874*** (0.01658) \n",
      "lenroll                -5.39915*** (0.94041)    -5.39915*** (1.13117) \n",
      "lexppp                  3.52474* (2.09785)        3.52474 (2.35374)   \n",
      "Constant              91.93246*** (19.96170)    91.93246*** (23.08710)\n",
      "----------------------------------------------------------------------\n",
      "Observations                   1,692                                  \n",
      "R2                            0.37289                                 \n",
      "Adjusted R2                   0.37177                                 \n",
      "Residual Std. Error    15.30241 (df = 1688)                           \n",
      "F Statistic         334.56730*** (df = 3; 1688)                       \n",
      "======================================================================\n",
      "Note:                                      *p<0.1; **p<0.05; ***p<0.01\n"
     ]
    }
   ],
   "source": [
    "stargazer(type = \"text\",\n",
    "          model_math4, \n",
    "          model_math4_robust,  \n",
    "          single.row = TRUE, \n",
    "          header = TRUE, #c('OLS','GLS'), \n",
    "          digits=5)"
   ]
  },
  {
   "cell_type": "code",
   "execution_count": 21,
   "metadata": {},
   "outputs": [],
   "source": [
    "math4_hat = predict(model_math4)\n",
    "math4_hat_sq = math4_hat^2"
   ]
  },
  {
   "cell_type": "code",
   "execution_count": 19,
   "metadata": {},
   "outputs": [],
   "source": [
    "u_hat = resid(model_math4)"
   ]
  },
  {
   "cell_type": "code",
   "execution_count": 20,
   "metadata": {},
   "outputs": [],
   "source": [
    "u_hat_sq = u_hat^2"
   ]
  },
  {
   "cell_type": "code",
   "execution_count": 23,
   "metadata": {},
   "outputs": [],
   "source": [
    "model_math_whitetest = lm(u_hat_sq~math4_hat+math4_hat_sq )"
   ]
  },
  {
   "cell_type": "markdown",
   "metadata": {},
   "source": []
  },
  {
   "cell_type": "code",
   "execution_count": 24,
   "metadata": {},
   "outputs": [
    {
     "name": "stdout",
     "output_type": "stream",
     "text": [
      "\n",
      "===============================================\n",
      "                        Dependent variable:    \n",
      "                    ---------------------------\n",
      "                             u_hat_sq          \n",
      "-----------------------------------------------\n",
      "math4_hat             -28.29903*** (9.21685)   \n",
      "math4_hat_sq            0.11553* (0.06591)     \n",
      "Constant            1,664.12800*** (315.21440) \n",
      "-----------------------------------------------\n",
      "Observations                   1,692           \n",
      "R2                            0.13581          \n",
      "Adjusted R2                   0.13478          \n",
      "Residual Std. Error    365.09270 (df = 1689)   \n",
      "F Statistic         132.71000*** (df = 2; 1689)\n",
      "===============================================\n",
      "Note:               *p<0.1; **p<0.05; ***p<0.01\n"
     ]
    }
   ],
   "source": [
    "stargazer(type = \"text\",\n",
    "          model_math_whitetest, \n",
    "          single.row = TRUE, \n",
    "          header = TRUE, #c('OLS','GLS'), \n",
    "          digits=5)"
   ]
  },
  {
   "cell_type": "code",
   "execution_count": 26,
   "metadata": {},
   "outputs": [
    {
     "data": {
      "text/html": [
       "<table>\n",
       "<thead><tr><th scope=col>Res.Df</th><th scope=col>RSS</th><th scope=col>Df</th><th scope=col>Sum of Sq</th><th scope=col>F</th><th scope=col>Pr(&gt;F)</th></tr></thead>\n",
       "<tbody>\n",
       "\t<tr><td>1691        </td><td>260509863   </td><td>NA          </td><td>      NA    </td><td>    NA      </td><td>          NA</td></tr>\n",
       "\t<tr><td>1689        </td><td>225131318   </td><td> 2          </td><td>35378545    </td><td>132.71      </td><td>2.941828e-54</td></tr>\n",
       "</tbody>\n",
       "</table>\n"
      ],
      "text/latex": [
       "\\begin{tabular}{r|llllll}\n",
       " Res.Df & RSS & Df & Sum of Sq & F & Pr(>F)\\\\\n",
       "\\hline\n",
       "\t 1691         & 260509863    & NA           &       NA     &     NA       &           NA\\\\\n",
       "\t 1689         & 225131318    &  2           & 35378545     & 132.71       & 2.941828e-54\\\\\n",
       "\\end{tabular}\n"
      ],
      "text/markdown": [
       "\n",
       "Res.Df | RSS | Df | Sum of Sq | F | Pr(>F) | \n",
       "|---|---|\n",
       "| 1691         | 260509863    | NA           |       NA     |     NA       |           NA | \n",
       "| 1689         | 225131318    |  2           | 35378545     | 132.71       | 2.941828e-54 | \n",
       "\n",
       "\n"
      ],
      "text/plain": [
       "  Res.Df RSS       Df Sum of Sq F      Pr(>F)      \n",
       "1 1691   260509863 NA       NA      NA           NA\n",
       "2 1689   225131318  2 35378545  132.71 2.941828e-54"
      ]
     },
     "metadata": {},
     "output_type": "display_data"
    }
   ],
   "source": [
    "(whitetest_f =linearHypothesis(model_math_whitetest,\n",
    "                c(\"math4_hat =0\",\n",
    "                 \"math4_hat_sq =0\")))"
   ]
  },
  {
   "cell_type": "code",
   "execution_count": 27,
   "metadata": {},
   "outputs": [],
   "source": [
    "model_logu_hat_sq =  lm(log(u_hat_sq)~ math4_hat+math4_hat_sq)"
   ]
  },
  {
   "cell_type": "code",
   "execution_count": 28,
   "metadata": {},
   "outputs": [],
   "source": [
    "log_u_hat_sq_fitted = predict(model_logu_hat_sq)"
   ]
  },
  {
   "cell_type": "code",
   "execution_count": 29,
   "metadata": {},
   "outputs": [],
   "source": [
    "h_hat = exp(log_u_hat_sq_fitted)"
   ]
  },
  {
   "cell_type": "code",
   "execution_count": 30,
   "metadata": {},
   "outputs": [],
   "source": [
    "model_math4_gls = lm(math4 ~ lunch+lenroll + lexppp, data = meap00_01, weight = 1/h_hat)"
   ]
  },
  {
   "cell_type": "code",
   "execution_count": 32,
   "metadata": {},
   "outputs": [
    {
     "name": "stdout",
     "output_type": "stream",
     "text": [
      "\n",
      "====================================================================================================\n",
      "                                                        Dependent variable:                         \n",
      "                                --------------------------------------------------------------------\n",
      "                                                    math4                                           \n",
      "                                                     OLS                           coefficient      \n",
      "                                                                                       test         \n",
      "                                         (1)                    (2)                    (3)          \n",
      "----------------------------------------------------------------------------------------------------\n",
      "lunch                           -0.44874*** (0.01464)  -0.44859*** (0.01461)  -0.44874*** (0.01658) \n",
      "lenroll                         -5.39915*** (0.94041)  -2.64728*** (0.83594)  -5.39915*** (1.13117) \n",
      "lexppp                            3.52474* (2.09785)    6.47419*** (1.68588)    3.52474 (2.35374)   \n",
      "Constant                        91.93246*** (19.96170) 50.47821*** (16.51032) 91.93246*** (23.08710)\n",
      "----------------------------------------------------------------------------------------------------\n",
      "Observations                            1,692                  1,692                                \n",
      "R2                                     0.37289                0.35998                               \n",
      "Adjusted R2                            0.37177                0.35884                               \n",
      "Residual Std. Error (df = 1688)        15.30241               1.89985                               \n",
      "F Statistic (df = 3; 1688)           334.56730***           316.47510***                            \n",
      "====================================================================================================\n",
      "Note:                                                                    *p<0.1; **p<0.05; ***p<0.01\n"
     ]
    }
   ],
   "source": [
    "stargazer(type = \"text\",\n",
    "          model_math4,\n",
    "          model_math4_gls, \n",
    "          model_math4_robust,\n",
    "          single.row = TRUE, \n",
    "          header = TRUE, #c('OLS','GLS'), \n",
    "          digits=5)"
   ]
  },
  {
   "cell_type": "markdown",
   "metadata": {},
   "source": []
  },
  {
   "cell_type": "code",
   "execution_count": 33,
   "metadata": {},
   "outputs": [],
   "source": [
    "model_math4_gls_robust = coeftest(model_math4_gls, vcov = vcovHC(model_math4_gls, \"HC1\"))"
   ]
  },
  {
   "cell_type": "code",
   "execution_count": 34,
   "metadata": {},
   "outputs": [
    {
     "name": "stdout",
     "output_type": "stream",
     "text": [
      "\n",
      "===========================================================================================================================\n",
      "                                                                    Dependent variable:                                    \n",
      "                                -------------------------------------------------------------------------------------------\n",
      "                                        math4                                         math4                                \n",
      "                                         OLS                coefficient                OLS                coefficient      \n",
      "                                                                test                                          test         \n",
      "                                         (1)                    (2)                    (3)                    (4)          \n",
      "---------------------------------------------------------------------------------------------------------------------------\n",
      "lunch                           -0.44874*** (0.01464)  -0.44874*** (0.01658)  -0.44859*** (0.01461)  -0.44859*** (0.01425) \n",
      "lenroll                         -5.39915*** (0.94041)  -5.39915*** (1.13117)  -2.64728*** (0.83594)   -2.64728** (1.05461) \n",
      "lexppp                            3.52474* (2.09785)     3.52474 (2.35374)     6.47419*** (1.68588)   6.47419*** (1.81287) \n",
      "Constant                        91.93246*** (19.96170) 91.93246*** (23.08710) 50.47821*** (16.51032) 50.47821*** (18.92517)\n",
      "---------------------------------------------------------------------------------------------------------------------------\n",
      "Observations                            1,692                                         1,692                                \n",
      "R2                                     0.37289                                       0.35998                               \n",
      "Adjusted R2                            0.37177                                       0.35884                               \n",
      "Residual Std. Error (df = 1688)        15.30241                                      1.89985                               \n",
      "F Statistic (df = 3; 1688)           334.56730***                                  316.47510***                            \n",
      "===========================================================================================================================\n",
      "Note:                                                                                           *p<0.1; **p<0.05; ***p<0.01\n"
     ]
    }
   ],
   "source": [
    "stargazer(type = \"text\",\n",
    "          model_math4,\n",
    "          model_math4_robust,\n",
    "          model_math4_gls, \n",
    "          model_math4_gls_robust,\n",
    "          \n",
    "          single.row = TRUE, \n",
    "          header = TRUE, #c('OLS','GLS'), \n",
    "          digits=5)"
   ]
  },
  {
   "cell_type": "code",
   "execution_count": null,
   "metadata": {},
   "outputs": [],
   "source": []
  },
  {
   "cell_type": "code",
   "execution_count": null,
   "metadata": {},
   "outputs": [],
   "source": []
  },
  {
   "cell_type": "code",
   "execution_count": 19,
   "metadata": {
    "ExecuteTime": {
     "end_time": "2019-01-16T06:07:57.021409Z",
     "start_time": "2019-01-16T06:07:56.753Z"
    }
   },
   "outputs": [
    {
     "data": {
      "text/plain": [
       "\n",
       "Call:\n",
       "lm(formula = cigs ~ log(income) + log(cigpric) + educ + age + \n",
       "    I(age^2) + restaurn, data = smoke)\n",
       "\n",
       "Coefficients:\n",
       " (Intercept)   log(income)  log(cigpric)          educ           age  \n",
       "   -3.639826      0.880268     -0.750862     -0.501498      0.770694  \n",
       "    I(age^2)      restaurn  \n",
       "   -0.009023     -2.825085  \n"
      ]
     },
     "metadata": {},
     "output_type": "display_data"
    }
   ],
   "source": [
    "library(foreign)\n",
    "smoke <- read.dta(\"http://fmwww.bc.edu/ec-p/data/wooldridge/smoke.dta\")\n",
    "\n",
    "# OLS\n",
    "olsreg<-lm(cigs~log(income)+log(cigpric)+educ+age+I(age^2)+restaurn, \n",
    "                                                            data=smoke)\n",
    "olsreg\n",
    "\n",
    "\n"
   ]
  },
  {
   "cell_type": "code",
   "execution_count": 21,
   "metadata": {
    "ExecuteTime": {
     "end_time": "2019-01-16T06:08:57.091876Z",
     "start_time": "2019-01-16T06:08:57.056Z"
    }
   },
   "outputs": [
    {
     "data": {
      "text/plain": [
       "\n",
       "\tstudentized Breusch-Pagan test\n",
       "\n",
       "data:  olsreg\n",
       "BP = 32.258, df = 6, p-value = 1.456e-05\n"
      ]
     },
     "metadata": {},
     "output_type": "display_data"
    },
    {
     "data": {
      "text/plain": [
       "\n",
       "Call:\n",
       "lm(formula = cigs ~ log(income) + log(cigpric) + educ + age + \n",
       "    I(age^2) + restaurn, data = smoke, weights = w)\n",
       "\n",
       "Coefficients:\n",
       " (Intercept)   log(income)  log(cigpric)          educ           age  \n",
       "    5.635463      1.295239     -2.940312     -0.463446      0.481948  \n",
       "    I(age^2)      restaurn  \n",
       "   -0.005627     -3.461064  \n"
      ]
     },
     "metadata": {},
     "output_type": "display_data"
    }
   ],
   "source": [
    "# BP test\n",
    "library(lmtest)\n",
    "bptest(olsreg)\n",
    "\n",
    "# FGLS: estimation of the variance function\n",
    "logu2 <- log(resid(olsreg)^2)\n",
    "varreg<-lm(logu2~log(income)+log(cigpric)+educ+age+I(age^2)+restaurn, \n",
    "                                                            data=smoke)\n",
    "\n",
    "# FGLS: WLS\n",
    "w <- 1/exp(fitted(varreg))\n",
    "FGLS1=lm(cigs~log(income)+log(cigpric)+educ+age+I(age^2)+restaurn, \n",
    "                                                  weight=w ,data=smoke)\n",
    "FGLS1"
   ]
  },
  {
   "cell_type": "code",
   "execution_count": 23,
   "metadata": {
    "ExecuteTime": {
     "end_time": "2019-01-16T06:09:32.097803Z",
     "start_time": "2019-01-16T06:09:31.873Z"
    }
   },
   "outputs": [
    {
     "name": "stdout",
     "output_type": "stream",
     "text": [
      "\n",
      "==========================================================================\n",
      "                                           Dependent variable:            \n",
      "                               -------------------------------------------\n",
      "                                                  cigs                    \n",
      "                                        (1)                   (2)         \n",
      "--------------------------------------------------------------------------\n",
      "log(income)                      0.88027 (0.72778)   1.29524*** (0.43701) \n",
      "log(cigpric)                    -0.75086 (5.77334)    -2.94031 (4.46014)  \n",
      "educ                           -0.50150*** (0.16708) -0.46345*** (0.12016)\n",
      "age                            0.77069*** (0.16012)  0.48195*** (0.09681) \n",
      "I(age2)                        -0.00902*** (0.00174) -0.00563*** (0.00094)\n",
      "restaurn                       -2.82508** (1.11179)  -3.46106*** (0.79551)\n",
      "Constant                        -3.63983 (24.07866)   5.63546 (17.80314)  \n",
      "--------------------------------------------------------------------------\n",
      "Observations                            807                   807         \n",
      "R2                                    0.05274               0.11341       \n",
      "Adjusted R2                           0.04563               0.10676       \n",
      "Residual Std. Error (df = 800)       13.40479               1.57870       \n",
      "F Statistic (df = 6; 800)           7.42306***            17.05549***     \n",
      "==========================================================================\n",
      "Note:                                          *p<0.1; **p<0.05; ***p<0.01\n"
     ]
    }
   ],
   "source": [
    "stargazer(type = \"text\",\n",
    "          olsreg, \n",
    "          FGLS1,  \n",
    "          single.row = TRUE, header = FALSE, digits=5)"
   ]
  },
  {
   "cell_type": "code",
   "execution_count": null,
   "metadata": {},
   "outputs": [],
   "source": []
  },
  {
   "cell_type": "markdown",
   "metadata": {},
   "source": [
    "\n",
    "Computer Exercises C4 (Ch 08)\n",
    "\n",
    "https://college.cengage.com/geyser/wooldridge_9781337558860/computer_exercises/vote1_v4.xlsx\n",
    "\n",
    "\n",
    "\tstate\n",
    " = state postal code\n",
    "\tdistrict\n",
    " = congressional district\n",
    "\tdemocA\n",
    " = 1 if Candidate A is a Democrat, and = 0 otherwise\n",
    "\tvoteA\n",
    " = percent vote for Candidate A\n",
    "\texpendA\n",
    " = campaign expenditures by Candidate A, in thousands of dollars\n",
    "\texpendB\n",
    " = campaign expenditures by Candidate B, in thousands of dollars\n",
    "\tprtystrA\n",
    " = percent of the most recent presidential vote that went to Candidate A's party\n",
    "\tlexpendA\n",
    " = log(expendA)\n",
    "\tlexpendB\n",
    " = log(expendB)\n",
    "\tshareA\n",
    " = Candidate A's spending as a percentage of total spending in the congressional campaign, 100×(expendAexpendA+expendB)"
   ]
  },
  {
   "cell_type": "code",
   "execution_count": 3,
   "metadata": {},
   "outputs": [],
   "source": [
    "download.file(\"https://college.cengage.com/geyser/wooldridge_9781337558860/computer_exercises/vote1_v4.xlsx\",\n",
    "             \"vote1_v4.xlsx\")"
   ]
  },
  {
   "cell_type": "code",
   "execution_count": 5,
   "metadata": {},
   "outputs": [],
   "source": [
    "vote1_v4 = readxl::read_excel(\"vote1_v4.xlsx\")"
   ]
  },
  {
   "cell_type": "code",
   "execution_count": 6,
   "metadata": {},
   "outputs": [
    {
     "name": "stdout",
     "output_type": "stream",
     "text": [
      "Observations: 164\n",
      "Variables: 10\n",
      "$ state    <chr> \"\\\"KY\\\"\", \"\\\"NJ\\\"\", \"\\\"NY\\\"\", \"\\\"NM\\\"\", \"\\\"RI\\\"\", \"\\\"FL\\\"\", …\n",
      "$ district <dbl> 7, 4, 22, 1, 1, 4, 6, 3, 1, 4, 4, 4, 1, 21, 3, 10, 23, 1, 6,…\n",
      "$ democA   <dbl> 1, 1, 1, 1, 1, 0, 0, 1, 0, 0, 0, 1, 0, 1, 0, 1, 1, 0, 0, 0, …\n",
      "$ voteA    <dbl> 59, 34, 29, 49, 44, 50, 32, 71, 35, 28, 48, 69, 39, 53, 69, …\n",
      "$ expendA  <dbl> 411.70, 53.96, 10.43, 576.68, 801.29, 313.42, 37.62, 638.69,…\n",
      "$ expendB  <dbl> 432.40, 252.82, 411.06, 559.13, 385.40, 1069.70, 288.17, 7.7…\n",
      "$ prtystrA <dbl> 55, 45, 43, 46, 58, 36, 50, 49, 54, 46, 68, 46, 52, 54, 64, …\n",
      "$ lexpendA <dbl> 6.0202920, 3.9883170, 2.3443980, 6.3572820, 6.6862220, 5.747…\n",
      "$ lexpendB <dbl> 6.0693580, 5.5326900, 6.0187300, 6.3263890, 5.9542870, 6.975…\n",
      "$ shareA   <dbl> 48.77, 17.59, 2.47, 50.77, 67.52, 22.66, 11.55, 98.81, 16.94…\n"
     ]
    }
   ],
   "source": [
    "glimpse(vote1_v4)"
   ]
  },
  {
   "cell_type": "code",
   "execution_count": null,
   "metadata": {},
   "outputs": [],
   "source": [
    "vote1_v4 _m = lm(voteA~, data = vote1_v4)"
   ]
  }
 ],
 "metadata": {
  "kernelspec": {
   "display_name": "R",
   "language": "R",
   "name": "ir"
  },
  "language_info": {
   "codemirror_mode": "r",
   "file_extension": ".r",
   "mimetype": "text/x-r-source",
   "name": "R",
   "pygments_lexer": "r",
   "version": "3.5.1"
  }
 },
 "nbformat": 4,
 "nbformat_minor": 2
}
