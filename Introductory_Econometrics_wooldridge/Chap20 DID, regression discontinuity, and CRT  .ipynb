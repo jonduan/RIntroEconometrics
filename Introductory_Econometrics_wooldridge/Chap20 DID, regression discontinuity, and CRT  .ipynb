{
 "cells": [
  {
   "cell_type": "markdown",
   "metadata": {},
   "source": [
    "# ESTIMATING AVERAGE TREATMENT EFFECTS: REGRESSION DISCONTINUITY DESIGNS\n",
    "Jeff Wooldridge\n",
    "Michigan State University\n",
    "BGSE/IZA Course in Microeconometrics\n",
    "July 2009\n",
    "\n",
    "http://legacy.iza.org/teaching/wooldridge-course-09/course_html/docs/slides_regdisc_6_r1.pdf"
   ]
  },
  {
   "cell_type": "code",
   "execution_count": 1,
   "metadata": {},
   "outputs": [],
   "source": [
    "pacman::p_load(wooldridge,stargazer,broom,tidyverse,ggplot2,\n",
    "               dplyr,tidyr,moderndive,jtools,sjPlot,dotwhisker,FSA,\n",
    "              car)"
   ]
  },
  {
   "cell_type": "code",
   "execution_count": null,
   "metadata": {},
   "outputs": [],
   "source": []
  },
  {
   "cell_type": "code",
   "execution_count": 1,
   "metadata": {
    "ExecuteTime": {
     "end_time": "2019-02-27T06:40:29.134623Z",
     "start_time": "2019-02-27T06:40:28.820Z"
    }
   },
   "outputs": [
    {
     "data": {
      "image/png": "[encoded data removed]",
      "text/plain": [
       "Plot with title \"The Differences-in-Differences Estimator\""
      ]
     },
     "metadata": {},
     "output_type": "display_data"
    }
   ],
   "source": [
    "# initialize plot and add control group\n",
    "plot(c(0, 1), c(6, 8), \n",
    "     type = \"p\",\n",
    "     ylim = c(5, 12),\n",
    "     xlim = c(-0.3, 1.3),\n",
    "     main = \"The Differences-in-Differences Estimator\",\n",
    "     xlab = \"Period\",\n",
    "     ylab = \"Y\",\n",
    "     col = \"steelblue\",\n",
    "     pch = 20,\n",
    "     xaxt = \"n\",\n",
    "     yaxt = \"n\")\n",
    "\n",
    "axis(1, at = c(0, 1), labels = c(\"before\", \"after\"))\n",
    "axis(2, at = c(0, 13))\n",
    "\n",
    "# add treatment group\n",
    "points(c(0, 1, 1), c(7, 9, 11), \n",
    "       col = \"darkred\",\n",
    "       pch = 20)\n",
    "\n",
    "# add line segments\n",
    "lines(c(0, 1), c(7, 11), col = \"darkred\")\n",
    "lines(c(0, 1), c(6, 8), col = \"steelblue\")\n",
    "lines(c(0, 1), c(7, 9), col = \"darkred\", lty = 2)\n",
    "lines(c(1, 1), c(9, 11), col = \"black\", lty = 2, lwd = 2)\n",
    "\n",
    "# add annotations\n",
    "text(1, 10, expression(hat(beta)[1]^{DID}), cex = 0.8, pos = 4)\n",
    "text(0, 5.5, \"s. mean control\", cex = 0.8 , pos = 4)\n",
    "text(0, 6.8, \"s. mean treatment\", cex = 0.8 , pos = 4)\n",
    "text(1, 7.9, \"s. mean control\", cex = 0.8 , pos = 4)\n",
    "text(1, 11.1, \"s. mean treatment\", cex = 0.8 , pos = 4)"
   ]
  },
  {
   "cell_type": "code",
   "execution_count": 2,
   "metadata": {
    "ExecuteTime": {
     "end_time": "2019-02-27T06:41:00.697366Z",
     "start_time": "2019-02-27T06:41:00.568Z"
    }
   },
   "outputs": [],
   "source": [
    "# set sample size\n",
    "n <- 200\n",
    "\n",
    "# define treatment effect\n",
    "TEffect <- 4\n",
    "\n",
    "# generate treatment dummy\n",
    "TDummy <- c(rep(0, n/2), rep(1, n/2))\n",
    "\n",
    "# simulate pre- and post-treatment values of the dependent variable\n",
    "y_pre <- 7 + rnorm(n)\n",
    "y_pre[1:n/2] <- y_pre[1:n/2] - 1\n",
    "y_post <- 7 + 2 + TEffect * TDummy + rnorm(n)\n",
    "y_post[1:n/2] <- y_post[1:n/2] - 1 "
   ]
  },
  {
   "cell_type": "code",
   "execution_count": 3,
   "metadata": {
    "ExecuteTime": {
     "end_time": "2019-02-27T06:41:05.420644Z",
     "start_time": "2019-02-27T06:41:05.124Z"
    }
   },
   "outputs": [
    {
     "data": {
      "image/png": "[encoded data removed]",
      "text/plain": [
       "Plot with title \"Artificial Data for DID Estimation\""
      ]
     },
     "metadata": {},
     "output_type": "display_data"
    }
   ],
   "source": [
    "library(scales)\n",
    "\n",
    "pre <- rep(0, length(y_pre[TDummy==0]))\n",
    "post <- rep(1, length(y_pre[TDummy==0]))\n",
    "\n",
    "# plot control group in t=1\n",
    "plot(jitter(pre, 0.6), \n",
    "     y_pre[TDummy == 0], \n",
    "     ylim = c(0, 16), \n",
    "     col = alpha(\"steelblue\", 0.3),\n",
    "     pch = 20, \n",
    "     xlim = c(-0.5, 1.5),\n",
    "     ylab = \"Y\",\n",
    "     xlab = \"Period\",\n",
    "     xaxt = \"n\",\n",
    "     main = \"Artificial Data for DID Estimation\")\n",
    "\n",
    "axis(1, at = c(0, 1), labels = c(\"before\", \"after\"))\n",
    "\n",
    "# add treatment group in t=1\n",
    "points(jitter(pre, 0.6), \n",
    "       y_pre[TDummy == 1], \n",
    "       col = alpha(\"darkred\", 0.3), \n",
    "       pch = 20)\n",
    "\n",
    "# add control group in t=2\n",
    "points(jitter(post, 0.6),\n",
    "       y_post[TDummy == 0], \n",
    "       col = alpha(\"steelblue\", 0.5),\n",
    "       pch = 20)\n",
    "\n",
    "# add treatment group in t=2\n",
    "points(jitter(post, 0.6), \n",
    "       y_post[TDummy == 1], \n",
    "       col = alpha(\"darkred\", 0.5),\n",
    "       pch = 20)"
   ]
  },
  {
   "cell_type": "code",
   "execution_count": 4,
   "metadata": {
    "ExecuteTime": {
     "end_time": "2019-02-27T06:41:19.525919Z",
     "start_time": "2019-02-27T06:41:19.504Z"
    }
   },
   "outputs": [
    {
     "data": {
      "text/html": [
       "4.07232241612543"
      ],
      "text/latex": [
       "4.07232241612543"
      ],
      "text/markdown": [
       "4.07232241612543"
      ],
      "text/plain": [
       "[1] 4.072322"
      ]
     },
     "metadata": {},
     "output_type": "display_data"
    }
   ],
   "source": [
    "# compute the DID estimator for the treatment effect 'by hand'\n",
    "mean(y_post[TDummy == 1]) - mean(y_pre[TDummy == 1]) - \n",
    "(mean(y_post[TDummy == 0]) - mean(y_pre[TDummy == 0]))"
   ]
  },
  {
   "cell_type": "code",
   "execution_count": 5,
   "metadata": {
    "ExecuteTime": {
     "end_time": "2019-02-27T06:41:24.165830Z",
     "start_time": "2019-02-27T06:41:24.104Z"
    }
   },
   "outputs": [
    {
     "data": {
      "text/plain": [
       "\n",
       "Call:\n",
       "lm(formula = I(y_post - y_pre) ~ TDummy)\n",
       "\n",
       "Coefficients:\n",
       "(Intercept)       TDummy  \n",
       "      1.875        4.072  \n"
      ]
     },
     "metadata": {},
     "output_type": "display_data"
    }
   ],
   "source": [
    "# compute the DID estimator using a linear model\n",
    "lm(I(y_post - y_pre) ~ TDummy)"
   ]
  },
  {
   "cell_type": "code",
   "execution_count": 6,
   "metadata": {
    "ExecuteTime": {
     "end_time": "2019-02-27T06:41:32.431693Z",
     "start_time": "2019-02-27T06:41:32.407Z"
    }
   },
   "outputs": [
    {
     "data": {
      "text/plain": [
       "\n",
       "Call:\n",
       "lm(formula = Y ~ Treatment * Period, data = d)\n",
       "\n",
       "Coefficients:\n",
       "      (Intercept)          Treatment            Period2  Treatment:Period2  \n",
       "           6.0659             0.9661             1.8751             4.0723  \n"
      ]
     },
     "metadata": {},
     "output_type": "display_data"
    }
   ],
   "source": [
    "# prepare data for DID regression using the interaction term \n",
    "d <- data.frame(\"Y\" = c(y_pre,y_post),\n",
    "                \"Treatment\" = TDummy, \n",
    "                \"Period\" = c(rep(\"1\", n), rep(\"2\", n)))\n",
    "\n",
    "# estimate the model\n",
    "lm(Y ~ Treatment * Period, data = d)"
   ]
  },
  {
   "cell_type": "markdown",
   "metadata": {},
   "source": [
    "Difference in Differences\n",
    "\n",
    "http://davidcard.berkeley.edu/data_sets.html\n",
    "\n",
    "https://www.r-bloggers.com/fast-food-causality-and-r-packages-part-2/\n",
    "\n",
    "public.csv is the data. It does not contain any column names:\n"
   ]
  },
  {
   "cell_type": "code",
   "execution_count": null,
   "metadata": {},
   "outputs": [],
   "source": [
    "download.file(\"http://davidcard.berkeley.edu/data_sets/njmin.zip\",\"njmin.zip\")\n",
    "\n",
    "unzip(\"njmin.zip\")\n",
    "\n",
    "tempfile_path <- tempfile()\n",
    "\n",
    "download.file(\"http://davidcard.berkeley.edu/data_sets/njmin.zip\", destfile = tempfile_path)\n",
    "\n",
    "tempdir_path <- tempdir()\n",
    "\n",
    "unzip(tempfile_path, exdir = tempdir_path)\n",
    "\n",
    "codebook <- read_lines(file = paste0(tempdir_path, \"/codebook\"))\n",
    "\n",
    "variable_names <- codebook %>%\n",
    "    `[`(8:59) %>%\n",
    "    `[`(-c(5, 6, 13, 14, 32, 33)) %>%\n",
    "    str_sub(1, 13) %>%\n",
    "    str_squish() %>%\n",
    "    str_to_lower()\n",
    "\n",
    "\n",
    "dataset <- read_table2(paste0(tempdir_path, \"/public.dat\"),\n",
    "                      col_names = FALSE)\n",
    "\n",
    "dataset <- dataset %>%\n",
    "    select(-X47) %>%\n",
    "    `colnames<-`(., variable_names) %>%\n",
    "    mutate_all(as.numeric) %>%\n",
    "    mutate(sheet = as.character(sheet))"
   ]
  },
  {
   "cell_type": "code",
   "execution_count": null,
   "metadata": {},
   "outputs": [],
   "source": [
    "dataset <- dataset %>%\n",
    "    mutate(chain = case_when(chain == 1 ~ \"bk\",\n",
    "                             chain == 2 ~ \"kfc\",\n",
    "                             chain == 3 ~ \"roys\",\n",
    "                             chain == 4 ~ \"wendys\")) %>%\n",
    "    mutate(state = case_when(state == 1 ~ \"New Jersey\",\n",
    "                             state == 0 ~ \"Pennsylvania\")) %>%\n",
    "    mutate(region = case_when(southj == 1 ~ \"southj\",\n",
    "              centralj == 1 ~ \"centralj\",\n",
    "              northj == 1 ~ \"northj\",\n",
    "              shore == 1 ~ \"shorej\",\n",
    "              pa1 == 1 ~ \"pa1\",\n",
    "              pa2 == 1 ~ \"pa2\")) %>%\n",
    "    mutate(meals = case_when(meals == 0 ~ \"None\",\n",
    "                             meals == 1 ~ \"Free meals\",\n",
    "                             meals == 2 ~ \"Reduced price meals\",\n",
    "                             meals == 3 ~ \"Both free and reduced price meals\")) %>%\n",
    "    mutate(meals2 = case_when(meals2 == 0 ~ \"None\",\n",
    "                             meals2 == 1 ~ \"Free meals\",\n",
    "                             meals2 == 2 ~ \"Reduced price meals\",\n",
    "                             meals2 == 3 ~ \"Both free and reduced price meals\")) %>%\n",
    "    mutate(status2 = case_when(status2 == 0 ~ \"Refused 2nd interview\",\n",
    "                               status2 == 1 ~ \"Answered 2nd interview\",\n",
    "                               status2 == 2 ~ \"Closed for renovations\",\n",
    "                               status2 == 3 ~ \"Closed permanently\",\n",
    "                               status2 == 4 ~ \"Closed for highway construction\",\n",
    "                               status2 == 5 ~ \"Closed due to Mall fire\")) %>%\n",
    "    mutate(co_owned = if_else(co_owned == 1, \"Yes\", \"No\")) %>%\n",
    "    mutate(bonus = if_else(bonus == 1, \"Yes\", \"No\")) %>%\n",
    "    mutate(special2 = if_else(special2 == 1, \"Yes\", \"No\")) %>%\n",
    "    mutate(type2 = if_else(type2 == 1, \"Phone\", \"Personal\")) %>%\n",
    "    select(sheet, chain, co_owned, state, region, everything()) %>%\n",
    "    select(-southj, -centralj, -northj, -shore, -pa1, -pa2) %>%\n",
    "    mutate(date2 = lubridate::mdy(date2)) %>%\n",
    "    rename(open2 = open2r) %>%\n",
    "    rename(firstinc2 = firstin2)\n",
    "\n",
    "dataset1 <- dataset %>%\n",
    "    select(-ends_with(\"2\"), -sheet, -chain, -co_owned, -state, -region, -bonus) %>%\n",
    "    mutate(type = NA_character_,\n",
    "           status = NA_character_,\n",
    "           date = NA)\n",
    "\n",
    "dataset2 <- dataset %>%\n",
    "    select(ends_with(\"2\")) %>%\n",
    "    #mutate(bonus = NA_character_) %>%\n",
    "    rename_all(~str_remove(., \"2\"))\n",
    "\n",
    "other_cols <- dataset %>%\n",
    "    select(sheet, chain, co_owned, state, region, bonus)\n",
    "\n",
    "other_cols_1 <- other_cols %>%\n",
    "    mutate(observation = \"February 1992\")\n",
    "\n",
    "other_cols_2 <- other_cols %>%\n",
    "    mutate(observation = \"November 1992\")\n",
    "\n",
    "dataset1 <- bind_cols(other_cols_1, dataset1)\n",
    "dataset2 <- bind_cols(other_cols_2, dataset2)\n",
    "\n",
    "njmin <- bind_rows(dataset1, dataset2) %>%\n",
    "    select(sheet, chain, state, region, observation, everything())"
   ]
  },
  {
   "cell_type": "code",
   "execution_count": null,
   "metadata": {},
   "outputs": [],
   "source": [
    "njmin = readr::read_csv(\"njmin.csv\")"
   ]
  },
  {
   "cell_type": "code",
   "execution_count": null,
   "metadata": {},
   "outputs": [],
   "source": [
    "ggplot(njmin, aes(wage_st)) + geom_density(aes(fill = state), alpha = 0.3) +\n",
    "    facet_wrap(vars(observation)) + #theme_blog() +\n",
    "    theme(legend.title = element_blank(), plot.caption = element_text(colour = \"white\")) +\n",
    "    labs(title = \"Distribution of starting wage rates in fast food restaurants\",\n",
    "         caption = \"On April 1st, 1992, New Jersey's minimum wage rose from $4.25 to $5.05. Source: Card and Krueger (1994)\")"
   ]
  },
  {
   "cell_type": "code",
   "execution_count": null,
   "metadata": {},
   "outputs": [],
   "source": []
  },
  {
   "cell_type": "code",
   "execution_count": null,
   "metadata": {},
   "outputs": [],
   "source": [
    "summary.means <- njmin                   %>%\n",
    "                mutate(STATE = dplyr::recode(STATE, `0` = 'PA (control)',\n",
    "                `1` = 'NJ (treatment)')) %>%\n",
    "                group_by(STATE, Period) %>%\n",
    "                summarise_all(\n",
    "                     funs(\n",
    "                         mean(., na.rm = TRUE),\n",
    "                         semean(., na.rm = TRUE)\n",
    "                     ))\n",
    "\n",
    "difftable = data.table::dcast(setDT(summary.means),\n",
    "            STATE ~ Period, value.var = c('mean','semean'))\n",
    "difftable[, diff:=mean_FTE2 - mean_FTE]\n",
    "knitr::kable(difftable)"
   ]
  },
  {
   "cell_type": "code",
   "execution_count": null,
   "metadata": {},
   "outputs": [],
   "source": []
  },
  {
   "cell_type": "code",
   "execution_count": null,
   "metadata": {},
   "outputs": [],
   "source": [
    "require(dplyr)\n",
    "require(ggplot2)\n",
    "#------------------------------------------------------\n",
    "#DiD Example 4 - replicate Card and Krueger's 1994\n",
    "#  minimum wage study\n",
    " \n",
    "#read in data provided by Guido Imbens...note that in Card and Krueger's original\n",
    "# study they define full time equivilent employees to be full time employees +\n",
    "# managers + 0.5 * part-time employees\n",
    " \n",
    "#in the data set the following columns are combined to create the variable\n",
    "# full time equivilent employees:\n",
    " \n",
    "# empft - the number of full time employees before the wage increase\n",
    "# emptf2 - the number of full time employees after the wage increase\n",
    "# emppt - the number of part time employees before the wage increase\n",
    "# emppt2 - the number of part time employees after the wage increase\n",
    "# nmgrs - the number of managers before the wage increase\n",
    "# nmgrs2 - the number of managers after the wage increase\n",
    " \n",
    "njmin = tbl_df(read.csv(\"/Users/aaronmamula/Documents/R projects/njmin.csv\")) %>%\n",
    "  mutate(delta=(empft2+emppt2) - (empft+emppt),fte=nmgrs+empft+(0.5*emppt),\n",
    "         fte2=nmgrs2+empft2+(0.5*emppt2))\n",
    " \n",
    "#quick calculation of means to make sure our data line up with whats in\n",
    "# the paper\n",
    "njmin %>% group_by(state) %>% summarise(mean_fte=mean(fte,na.rm=T),\n",
    "                                      mean_ft2=mean(fte2,na.rm=T))\n",
    "#we can compare these numbers to Table 2 from Card and Krueger (1994) and\n",
    "# confirm that we are working with the same data\n",
    "#-------------------------------------------------------\n",
    " \n",
    "#------------------------------------------------------\n",
    "# set up the data for DiD estimation, not completely necessary\n",
    "# but I'm used to the dplyr/ggplot environment that prefers data\n",
    "# in long format\n",
    "est.df = tbl_df(rbind(data.frame(sheet=njmin$sheet,chain=njmin$chain,\n",
    "                                  state=njmin$state,emp=njmin$fte,t=0),\n",
    "                 data.frame(sheet=njmin$sheet,chain=njmin$chain,\n",
    "                            state=njmin$state,emp=njmin$fte2,t=1)))\n",
    " \n",
    "#here state=0 is PA and state=1 is NJ; we set t = 0,1 so we can interact these\n",
    "# directly to get the DiD coefficient...using the OLS estimator with lm()\n",
    "# gives up the DiD estimate\n",
    "summary(lm(emp~factor(state) + factor(t) + (state:t),data=est.df))\n",
    "#------------------------------------------------------"
   ]
  },
  {
   "cell_type": "code",
   "execution_count": null,
   "metadata": {},
   "outputs": [],
   "source": []
  },
  {
   "cell_type": "code",
   "execution_count": null,
   "metadata": {},
   "outputs": [],
   "source": []
  },
  {
   "cell_type": "code",
   "execution_count": null,
   "metadata": {},
   "outputs": [],
   "source": []
  },
  {
   "cell_type": "code",
   "execution_count": null,
   "metadata": {},
   "outputs": [],
   "source": []
  },
  {
   "cell_type": "markdown",
   "metadata": {},
   "source": [
    "## Regression Discontinuity Estimators\n",
    "\n",
    "$$\\begin{align}\n",
    "  Y_i =& \\beta_0 + \\beta_1 X_i + \\beta_2 W_i + u_i \\tag{13.12}\n",
    "\\end{align}\n",
    "$$\n",
    "\n",
    "\n",
    "$$\\begin{align*}\n",
    "X_i =& \n",
    "  \\begin{cases}\n",
    "    1, & W_i \\geq c \\\\\n",
    "    0, & W_i < c\n",
    "  \\end{cases}\n",
    "\\end{align*}$$\n",
    "\n",
    "\n",
    "\n"
   ]
  },
  {
   "cell_type": "code",
   "execution_count": null,
   "metadata": {},
   "outputs": [],
   "source": []
  },
  {
   "cell_type": "code",
   "execution_count": 7,
   "metadata": {
    "ExecuteTime": {
     "end_time": "2019-02-27T06:42:24.367740Z",
     "start_time": "2019-02-27T06:42:24.344Z"
    }
   },
   "outputs": [],
   "source": [
    "# generate some sample data\n",
    "W <- runif(1000, -1, 1)\n",
    "y <- 3 + 2 * W + 10 * (W>=0) + rnorm(1000)"
   ]
  },
  {
   "cell_type": "code",
   "execution_count": null,
   "metadata": {},
   "outputs": [],
   "source": []
  },
  {
   "cell_type": "code",
   "execution_count": 11,
   "metadata": {
    "ExecuteTime": {
     "end_time": "2019-02-27T06:44:21.129893Z",
     "start_time": "2019-02-27T06:44:20.980Z"
    }
   },
   "outputs": [
    {
     "data": {
      "image/png": "[encoded data removed]",
      "text/plain": [
       "plot without title"
      ]
     },
     "metadata": {},
     "output_type": "display_data"
    }
   ],
   "source": [
    "# load the package 'rddtools'\n",
    "# install.packages(\"rddtools\")\n",
    "library(rddtools)\n",
    "\n",
    "# construct rdd_data \n",
    "data <- rdd_data(y, W, cutpoint = 0)\n",
    "\n",
    "# plot the sample data\n",
    "plot(data,\n",
    "     col = \"steelblue\",\n",
    "     cex = 0.35, \n",
    "     xlab = \"W\", \n",
    "     ylab = \"Y\")"
   ]
  },
  {
   "cell_type": "markdown",
   "metadata": {},
   "source": [
    "The argument nbins sets the number of bins the running variable is divided into for aggregation. The dots represent bin averages of the outcome variable.\n",
    "\n",
    "We may use the function rdd_reg_lm() to estimate the treatment effect using model (13.12) for the artificial data generated above. By choosing slope = “same” we restrict the slopes of the estimated regression function to be the same on both sides of the jump at the cutpoint  \n",
    "W\n",
    "=\n",
    "0\n",
    " ."
   ]
  },
  {
   "cell_type": "code",
   "execution_count": 12,
   "metadata": {
    "ExecuteTime": {
     "end_time": "2019-02-27T06:44:51.327136Z",
     "start_time": "2019-02-27T06:44:51.188Z"
    }
   },
   "outputs": [
    {
     "data": {
      "text/plain": [
       "\n",
       "Call:\n",
       "lm(formula = y ~ ., data = dat_step1, weights = weights)\n",
       "\n",
       "Residuals:\n",
       "    Min      1Q  Median      3Q     Max \n",
       "-3.7820 -0.6237  0.0587  0.6313  2.8535 \n",
       "\n",
       "Coefficients:\n",
       "            Estimate Std. Error t value Pr(>|t|)    \n",
       "(Intercept)  3.10113    0.06745   45.98   <2e-16 ***\n",
       "D            9.80102    0.12222   80.19   <2e-16 ***\n",
       "x            2.04728    0.10583   19.34   <2e-16 ***\n",
       "---\n",
       "Signif. codes:  0 '***' 0.001 '**' 0.01 '*' 0.05 '.' 0.1 ' ' 1\n",
       "\n",
       "Residual standard error: 0.9766 on 997 degrees of freedom\n",
       "Multiple R-squared:  0.9738,\tAdjusted R-squared:  0.9738 \n",
       "F-statistic: 1.856e+04 on 2 and 997 DF,  p-value: < 2.2e-16\n"
      ]
     },
     "metadata": {},
     "output_type": "display_data"
    }
   ],
   "source": [
    "# estimate the sharp RDD model\n",
    "rdd_mod <- rdd_reg_lm(rdd_object = data, \n",
    "                      slope = \"same\")\n",
    "summary(rdd_mod)"
   ]
  },
  {
   "cell_type": "code",
   "execution_count": 13,
   "metadata": {
    "ExecuteTime": {
     "end_time": "2019-02-27T06:45:06.280731Z",
     "start_time": "2019-02-27T06:45:06.224Z"
    }
   },
   "outputs": [
    {
     "data": {
      "image/png": "[encoded data removed]",
      "text/plain": [
       "plot without title"
      ]
     },
     "metadata": {},
     "output_type": "display_data"
    }
   ],
   "source": [
    "# plot the RDD model along with binned observations\n",
    "plot(rdd_mod,\n",
    "     cex = 0.35, \n",
    "     col = \"steelblue\", \n",
    "     xlab = \"W\", \n",
    "     ylab = \"Y\")"
   ]
  },
  {
   "cell_type": "markdown",
   "metadata": {},
   "source": [
    "When crossing the threshold  \n",
    "c\n",
    "  is not the only cause for receipt of the treatment, treatment is not a deterministic function of  \n",
    "W\n",
    "i\n",
    " . Instead, it is useful to think of  \n",
    "c\n",
    "  as a threshold where the probability of receiving the treatment jumps.\n",
    "\n",
    "This jump may be due to unobservable variables that have impact on the probability of being treated. Thus,  \n",
    "X\n",
    "i\n",
    "  in (13.12) will be correlated with the error  \n",
    "u\n",
    "i\n",
    " and it becomes more difficult to consistently estimate the treatment effect. In this setting, using a fuzzy regression discontinuity design which is based an IV approach may be a remedy: take the binary variable  \n",
    "Z\n",
    "i\n",
    "  as an indicator for crossing of the threshold,"
   ]
  },
  {
   "cell_type": "code",
   "execution_count": null,
   "metadata": {},
   "outputs": [],
   "source": []
  },
  {
   "cell_type": "code",
   "execution_count": 14,
   "metadata": {
    "ExecuteTime": {
     "end_time": "2019-02-27T06:47:13.619148Z",
     "start_time": "2019-02-27T06:47:13.392Z"
    }
   },
   "outputs": [],
   "source": [
    "library(MASS)\n",
    "\n",
    "# generate sample data\n",
    "mu <- c(0, 0)\n",
    "sigma <- matrix(c(1, 0.7, 0.7, 1), ncol = 2)\n",
    "\n",
    "set.seed(1234)\n",
    "d <- as.data.frame(mvrnorm(2000, mu, sigma))\n",
    "colnames(d) <- c(\"W\", \"Y\")\n",
    "\n",
    "# introduce fuzziness\n",
    "d$treatProb <- ifelse(d$W < 0, 0, 0.8)\n",
    "\n",
    "fuzz <- sapply(X = d$treatProb, FUN = function(x) rbinom(1, 1, prob = x))\n",
    "\n",
    "# treatment effect\n",
    "d$Y <- d$Y + fuzz * 2"
   ]
  },
  {
   "cell_type": "code",
   "execution_count": 15,
   "metadata": {
    "ExecuteTime": {
     "end_time": "2019-02-27T06:47:19.253031Z",
     "start_time": "2019-02-27T06:47:19.064Z"
    }
   },
   "outputs": [
    {
     "data": {
      "image/png": "[encoded data removed]",
      "text/plain": [
       "plot without title"
      ]
     },
     "metadata": {},
     "output_type": "display_data"
    }
   ],
   "source": [
    "# generate a colored plot of treatment and control group\n",
    "plot(d$W, d$Y,\n",
    "     col = c(\"steelblue\", \"darkred\")[factor(fuzz)], \n",
    "     pch= 20, \n",
    "     cex = 0.5,\n",
    "     xlim = c(-3, 3),\n",
    "     ylim = c(-3.5, 5),\n",
    "     xlab = \"W\",\n",
    "     ylab = \"Y\")\n",
    "\n",
    "# add a dashed vertical line at cutoff\n",
    "abline(v = 0, lty = 2)"
   ]
  },
  {
   "cell_type": "markdown",
   "metadata": {},
   "source": [
    "Obviously, receipt of treatment is no longer a deterministic function of the running variable  \n",
    "W\n",
    " . Some observations with  \n",
    "W\n",
    "≥\n",
    "0\n",
    "  did not receive the treatment. We may estimate a FRDD by additionally setting treatProb as the assignment variable z in rdd_data(). Then rdd_reg_lm() applies the following TSLS procedure: treatment is predicted using  \n",
    "W\n",
    "i\n",
    "  and the cutoff dummy  \n",
    "Z\n",
    "i\n",
    " , the instrumental variable, in the first stage regression. The fitted values from the first stage regression are used to obtain a consistent estimate of the treatment effect using the second stage where the outcome  \n",
    "Y\n",
    "  is regressed on the fitted values and the running variable  \n",
    "W\n",
    " ."
   ]
  },
  {
   "cell_type": "code",
   "execution_count": null,
   "metadata": {},
   "outputs": [],
   "source": []
  },
  {
   "cell_type": "code",
   "execution_count": 16,
   "metadata": {
    "ExecuteTime": {
     "end_time": "2019-02-27T06:47:28.866854Z",
     "start_time": "2019-02-27T06:47:28.743Z"
    }
   },
   "outputs": [
    {
     "data": {
      "text/plain": [
       "### RDD regression: parametric ###\n",
       "\tPolynomial order:  1 \n",
       "\tSlopes:  same \n",
       "\tNumber of obs: 2000 (left: 999, right: 1001)\n",
       "\n",
       "\tCoefficient:\n",
       "  Estimate Std. Error t value  Pr(>|t|)    \n",
       "D 1.981297   0.084696  23.393 < 2.2e-16 ***\n",
       "---\n",
       "Signif. codes:  0 '***' 0.001 '**' 0.01 '*' 0.05 '.' 0.1 ' ' 1"
      ]
     },
     "metadata": {},
     "output_type": "display_data"
    }
   ],
   "source": [
    "# estimate the Fuzzy RDD\n",
    "data <- rdd_data(d$Y, d$W, \n",
    "                 cutpoint = 0, \n",
    "                 z = d$treatProb)\n",
    "\n",
    "frdd_mod <- rdd_reg_lm(rdd_object = data, \n",
    "                       slope = \"same\")\n",
    "frdd_mod"
   ]
  },
  {
   "cell_type": "code",
   "execution_count": 17,
   "metadata": {
    "ExecuteTime": {
     "end_time": "2019-02-27T06:47:36.614937Z",
     "start_time": "2019-02-27T06:47:36.545Z"
    }
   },
   "outputs": [
    {
     "data": {
      "image/png": "[encoded data removed]",
      "text/plain": [
       "plot without title"
      ]
     },
     "metadata": {},
     "output_type": "display_data"
    }
   ],
   "source": [
    "# plot estimated FRDD function\n",
    "plot(frdd_mod, \n",
    "     cex = 0.5, \n",
    "     lwd = 0.4,\n",
    "     xlim = c(-4, 4),\n",
    "     ylim = c(-3.5, 5),\n",
    "     xlab = \"W\",\n",
    "     ylab = \"Y\")"
   ]
  },
  {
   "cell_type": "code",
   "execution_count": null,
   "metadata": {},
   "outputs": [],
   "source": []
  },
  {
   "cell_type": "code",
   "execution_count": null,
   "metadata": {},
   "outputs": [],
   "source": []
  }
 ],
 "metadata": {
  "kernelspec": {
   "display_name": "R",
   "language": "R",
   "name": "ir"
  },
  "language_info": {
   "codemirror_mode": "r",
   "file_extension": ".r",
   "mimetype": "text/x-r-source",
   "name": "R",
   "pygments_lexer": "r",
   "version": "3.5.1"
  }
 },
 "nbformat": 4,
 "nbformat_minor": 2
}
