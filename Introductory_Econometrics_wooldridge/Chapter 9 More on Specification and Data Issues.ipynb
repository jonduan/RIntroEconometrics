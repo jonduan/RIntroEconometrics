{
 "cells": [
  {
   "cell_type": "code",
   "execution_count": 1,
   "metadata": {
    "ExecuteTime": {
     "end_time": "2018-12-03T03:42:23.400640Z",
     "start_time": "2018-12-03T03:42:23.333Z"
    }
   },
   "outputs": [
    {
     "name": "stderr",
     "output_type": "stream",
     "text": [
      "\n",
      "Please cite as: \n",
      "\n",
      " Hlavac, Marek (2018). stargazer: Well-Formatted Regression and Summary Statistics Tables.\n",
      " R package version 5.2.2. https://CRAN.R-project.org/package=stargazer \n",
      "\n"
     ]
    }
   ],
   "source": [
    "library(wooldridge)\n",
    "library(stargazer)\n",
    "library(knitr)"
   ]
  },
  {
   "cell_type": "code",
   "execution_count": 1,
   "metadata": {},
   "outputs": [],
   "source": [
    "pacman::p_load(wooldridge,stargazer,broom,tidyverse,ggplot2,\n",
    "               dplyr,tidyr,moderndive,jtools,sjPlot,dotwhisker,FSA,\n",
    "               car,QuantPsyc)"
   ]
  },
  {
   "cell_type": "markdown",
   "metadata": {},
   "source": [
    "# Example 9.1"
   ]
  },
  {
   "cell_type": "code",
   "execution_count": 4,
   "metadata": {},
   "outputs": [
    {
     "data": {
      "text/plain": [
       "\n",
       "Call:\n",
       "lm(formula = narr86 ~ pcnv + avgsen + tottime + ptime86 + qemp86 + \n",
       "    inc86 + black + hispan, data = crime1)\n",
       "\n",
       "Residuals:\n",
       "    Min      1Q  Median      3Q     Max \n",
       "-1.0108 -0.4518 -0.2392  0.2707 11.5284 \n",
       "\n",
       "Coefficients:\n",
       "              Estimate Std. Error t value Pr(>|t|)    \n",
       "(Intercept)  0.5686855  0.0360461  15.777  < 2e-16 ***\n",
       "pcnv        -0.1332344  0.0403502  -3.302 0.000973 ***\n",
       "avgsen      -0.0113177  0.0122401  -0.925 0.355233    \n",
       "tottime      0.0120224  0.0094352   1.274 0.202698    \n",
       "ptime86     -0.0408417  0.0088120  -4.635 3.74e-06 ***\n",
       "qemp86      -0.0505398  0.0144397  -3.500 0.000473 ***\n",
       "inc86       -0.0014887  0.0003406  -4.370 1.29e-05 ***\n",
       "black        0.3265035  0.0454156   7.189 8.38e-13 ***\n",
       "hispan       0.1939144  0.0397113   4.883 1.10e-06 ***\n",
       "---\n",
       "Signif. codes:  0 ‘***’ 0.001 ‘**’ 0.01 ‘*’ 0.05 ‘.’ 0.1 ‘ ’ 1\n",
       "\n",
       "Residual standard error: 0.8286 on 2716 degrees of freedom\n",
       "Multiple R-squared:  0.07232,\tAdjusted R-squared:  0.06959 \n",
       "F-statistic: 26.47 on 8 and 2716 DF,  p-value: < 2.2e-16\n"
      ]
     },
     "metadata": {},
     "output_type": "display_data"
    }
   ],
   "source": [
    "\n",
    "\n",
    "data(\"crime1\")\n",
    "\n",
    "lm.9.1.1 <- lm(narr86 ~ pcnv + avgsen + tottime + ptime86 + \n",
    "                 qemp86 + inc86 + black + hispan, data = crime1)\n",
    "summary(lm.9.1.1)"
   ]
  },
  {
   "cell_type": "code",
   "execution_count": 5,
   "metadata": {},
   "outputs": [],
   "source": [
    "# Seems to be an error in the book.\n",
    "# Although all coefficients and their standard errors are equal\n",
    "# the intercept term is 0.569 instead of 0.596."
   ]
  },
  {
   "cell_type": "code",
   "execution_count": 6,
   "metadata": {},
   "outputs": [
    {
     "data": {
      "text/plain": [
       "\n",
       "Call:\n",
       "lm(formula = narr86 ~ pcnv + avgsen + tottime + ptime86 + qemp86 + \n",
       "    inc86 + black + hispan + pcnvsq + pt86sq + inc86sq, data = crime1)\n",
       "\n",
       "Residuals:\n",
       "    Min      1Q  Median      3Q     Max \n",
       "-1.5248 -0.4646 -0.2151  0.2276 11.4286 \n",
       "\n",
       "Coefficients:\n",
       "              Estimate Std. Error t value Pr(>|t|)    \n",
       "(Intercept)  5.046e-01  3.684e-02  13.699  < 2e-16 ***\n",
       "pcnv         5.525e-01  1.542e-01   3.582 0.000347 ***\n",
       "avgsen      -1.702e-02  1.205e-02  -1.412 0.158028    \n",
       "tottime      1.195e-02  9.282e-03   1.288 0.197924    \n",
       "ptime86      2.874e-01  4.426e-02   6.494 9.88e-11 ***\n",
       "qemp86      -1.409e-02  1.736e-02  -0.812 0.416970    \n",
       "inc86       -3.415e-03  8.037e-04  -4.249 2.22e-05 ***\n",
       "black        2.923e-01  4.483e-02   6.520 8.35e-11 ***\n",
       "hispan       1.636e-01  3.945e-02   4.147 3.47e-05 ***\n",
       "pcnvsq      -7.302e-01  1.561e-01  -4.677 3.05e-06 ***\n",
       "pt86sq      -2.961e-02  3.863e-03  -7.664 2.50e-14 ***\n",
       "inc86sq      7.186e-06  2.556e-06   2.811 0.004969 ** \n",
       "---\n",
       "Signif. codes:  0 ‘***’ 0.001 ‘**’ 0.01 ‘*’ 0.05 ‘.’ 0.1 ‘ ’ 1\n",
       "\n",
       "Residual standard error: 0.8151 on 2713 degrees of freedom\n",
       "Multiple R-squared:  0.1035,\tAdjusted R-squared:  0.09982 \n",
       "F-statistic: 28.46 on 11 and 2713 DF,  p-value: < 2.2e-16\n"
      ]
     },
     "metadata": {},
     "output_type": "display_data"
    }
   ],
   "source": [
    "lm.9.1.2 <- lm(narr86 ~ pcnv + avgsen + tottime + ptime86 + \n",
    "                 qemp86 + inc86 + black + hispan + pcnvsq + \n",
    "                 pt86sq + inc86sq, data = crime1)\n",
    "summary(lm.9.1.2)"
   ]
  },
  {
   "cell_type": "code",
   "execution_count": 7,
   "metadata": {},
   "outputs": [
    {
     "data": {
      "text/html": [
       "<table>\n",
       "<thead><tr><th scope=col>Res.Df</th><th scope=col>RSS</th><th scope=col>Df</th><th scope=col>Sum of Sq</th><th scope=col>F</th><th scope=col>Pr(&gt;F)</th></tr></thead>\n",
       "<tbody>\n",
       "\t<tr><td>2716        </td><td>1864.957    </td><td>NA          </td><td>     NA     </td><td>      NA    </td><td>          NA</td></tr>\n",
       "\t<tr><td>2713        </td><td>1802.368    </td><td> 3          </td><td>62.5889     </td><td>31.40381    </td><td>5.965856e-20</td></tr>\n",
       "</tbody>\n",
       "</table>\n"
      ],
      "text/latex": [
       "\\begin{tabular}{r|llllll}\n",
       " Res.Df & RSS & Df & Sum of Sq & F & Pr(>F)\\\\\n",
       "\\hline\n",
       "\t 2716         & 1864.957     & NA           &      NA      &       NA     &           NA\\\\\n",
       "\t 2713         & 1802.368     &  3           & 62.5889      & 31.40381     & 5.965856e-20\\\\\n",
       "\\end{tabular}\n"
      ],
      "text/markdown": [
       "\n",
       "Res.Df | RSS | Df | Sum of Sq | F | Pr(>F) | \n",
       "|---|---|\n",
       "| 2716         | 1864.957     | NA           |      NA      |       NA     |           NA | \n",
       "| 2713         | 1802.368     |  3           | 62.5889      | 31.40381     | 5.965856e-20 | \n",
       "\n",
       "\n"
      ],
      "text/plain": [
       "  Res.Df RSS      Df Sum of Sq F        Pr(>F)      \n",
       "1 2716   1864.957 NA      NA         NA           NA\n",
       "2 2713   1802.368  3 62.5889   31.40381 5.965856e-20"
      ]
     },
     "metadata": {},
     "output_type": "display_data"
    }
   ],
   "source": [
    "anova(lm.9.1.1, lm.9.1.2)"
   ]
  },
  {
   "cell_type": "markdown",
   "metadata": {},
   "source": [
    "# Example 9.2"
   ]
  },
  {
   "cell_type": "code",
   "execution_count": 8,
   "metadata": {},
   "outputs": [
    {
     "data": {
      "text/html": [
       "<table>\n",
       "<thead><tr><th scope=col>Res.Df</th><th scope=col>RSS</th><th scope=col>Df</th><th scope=col>Sum of Sq</th><th scope=col>F</th><th scope=col>Pr(&gt;F)</th></tr></thead>\n",
       "<tbody>\n",
       "\t<tr><td>84        </td><td>300723.8  </td><td>NA        </td><td>   NA     </td><td>      NA  </td><td>        NA</td></tr>\n",
       "\t<tr><td>82        </td><td>269983.8  </td><td> 2        </td><td>30740     </td><td>4.668206  </td><td>0.01202171</td></tr>\n",
       "</tbody>\n",
       "</table>\n"
      ],
      "text/latex": [
       "\\begin{tabular}{r|llllll}\n",
       " Res.Df & RSS & Df & Sum of Sq & F & Pr(>F)\\\\\n",
       "\\hline\n",
       "\t 84         & 300723.8   & NA         &    NA      &       NA   &         NA\\\\\n",
       "\t 82         & 269983.8   &  2         & 30740      & 4.668206   & 0.01202171\\\\\n",
       "\\end{tabular}\n"
      ],
      "text/markdown": [
       "\n",
       "Res.Df | RSS | Df | Sum of Sq | F | Pr(>F) | \n",
       "|---|---|\n",
       "| 84         | 300723.8   | NA         |    NA      |       NA   |         NA | \n",
       "| 82         | 269983.8   |  2         | 30740      | 4.668206   | 0.01202171 | \n",
       "\n",
       "\n"
      ],
      "text/plain": [
       "  Res.Df RSS      Df Sum of Sq F        Pr(>F)    \n",
       "1 84     300723.8 NA    NA           NA         NA\n",
       "2 82     269983.8  2 30740     4.668206 0.01202171"
      ]
     },
     "metadata": {},
     "output_type": "display_data"
    }
   ],
   "source": [
    "\n",
    "\n",
    "data(\"hprice1\")\n",
    "\n",
    "lm.9.2.1 <- lm(price ~ lotsize + sqrft + bdrms, data = hprice1)\n",
    "fit2.1 <- lm.9.2.1$fitted.values^2\n",
    "fit3.1 <- lm.9.2.1$fitted.values^3\n",
    "lm.9.2.1.reset <- lm(price ~ lotsize + sqrft + bdrms + fit2.1 + fit3.1, data = hprice1)\n",
    "anova(lm.9.2.1, lm.9.2.1.reset)"
   ]
  },
  {
   "cell_type": "code",
   "execution_count": null,
   "metadata": {},
   "outputs": [],
   "source": []
  },
  {
   "cell_type": "code",
   "execution_count": 9,
   "metadata": {},
   "outputs": [
    {
     "data": {
      "text/html": [
       "<table>\n",
       "<thead><tr><th scope=col>Res.Df</th><th scope=col>RSS</th><th scope=col>Df</th><th scope=col>Sum of Sq</th><th scope=col>F</th><th scope=col>Pr(&gt;F)</th></tr></thead>\n",
       "<tbody>\n",
       "\t<tr><td>84        </td><td>2.862563  </td><td>NA        </td><td>       NA </td><td>      NA  </td><td>        NA</td></tr>\n",
       "\t<tr><td>82        </td><td>2.694020  </td><td> 2        </td><td>0.1685435 </td><td>2.565046  </td><td>0.08307547</td></tr>\n",
       "</tbody>\n",
       "</table>\n"
      ],
      "text/latex": [
       "\\begin{tabular}{r|llllll}\n",
       " Res.Df & RSS & Df & Sum of Sq & F & Pr(>F)\\\\\n",
       "\\hline\n",
       "\t 84         & 2.862563   & NA         &        NA  &       NA   &         NA\\\\\n",
       "\t 82         & 2.694020   &  2         & 0.1685435  & 2.565046   & 0.08307547\\\\\n",
       "\\end{tabular}\n"
      ],
      "text/markdown": [
       "\n",
       "Res.Df | RSS | Df | Sum of Sq | F | Pr(>F) | \n",
       "|---|---|\n",
       "| 84         | 2.862563   | NA         |        NA  |       NA   |         NA | \n",
       "| 82         | 2.694020   |  2         | 0.1685435  | 2.565046   | 0.08307547 | \n",
       "\n",
       "\n"
      ],
      "text/plain": [
       "  Res.Df RSS      Df Sum of Sq F        Pr(>F)    \n",
       "1 84     2.862563 NA        NA       NA         NA\n",
       "2 82     2.694020  2 0.1685435 2.565046 0.08307547"
      ]
     },
     "metadata": {},
     "output_type": "display_data"
    }
   ],
   "source": [
    "lm.9.2.2 <- lm(lprice ~ llotsize + lsqrft + bdrms, data = hprice1)\n",
    "fit2.2 <- lm.9.2.2$fitted.values^2\n",
    "fit3.2 <- lm.9.2.2$fitted.values^3\n",
    "lm.9.2.2.reset <- lm(lprice ~ llotsize + lsqrft + bdrms + fit2.2 + fit3.2, data = hprice1)\n",
    "anova(lm.9.2.2, lm.9.2.2.reset)"
   ]
  },
  {
   "cell_type": "markdown",
   "metadata": {},
   "source": [
    "# Table 9.2"
   ]
  },
  {
   "cell_type": "code",
   "execution_count": 10,
   "metadata": {},
   "outputs": [
    {
     "data": {
      "text/plain": [
       "\n",
       "Call:\n",
       "lm(formula = lwage ~ educ + exper + tenure + married + south + \n",
       "    urban + black, data = wage2)\n",
       "\n",
       "Residuals:\n",
       "     Min       1Q   Median       3Q      Max \n",
       "-1.98069 -0.21996  0.00707  0.24288  1.22822 \n",
       "\n",
       "Coefficients:\n",
       "             Estimate Std. Error t value Pr(>|t|)    \n",
       "(Intercept)  5.395497   0.113225  47.653  < 2e-16 ***\n",
       "educ         0.065431   0.006250  10.468  < 2e-16 ***\n",
       "exper        0.014043   0.003185   4.409 1.16e-05 ***\n",
       "tenure       0.011747   0.002453   4.789 1.95e-06 ***\n",
       "married      0.199417   0.039050   5.107 3.98e-07 ***\n",
       "south       -0.090904   0.026249  -3.463 0.000558 ***\n",
       "urban        0.183912   0.026958   6.822 1.62e-11 ***\n",
       "black       -0.188350   0.037667  -5.000 6.84e-07 ***\n",
       "---\n",
       "Signif. codes:  0 ‘***’ 0.001 ‘**’ 0.01 ‘*’ 0.05 ‘.’ 0.1 ‘ ’ 1\n",
       "\n",
       "Residual standard error: 0.3655 on 927 degrees of freedom\n",
       "Multiple R-squared:  0.2526,\tAdjusted R-squared:  0.2469 \n",
       "F-statistic: 44.75 on 7 and 927 DF,  p-value: < 2.2e-16\n"
      ]
     },
     "metadata": {},
     "output_type": "display_data"
    }
   ],
   "source": [
    "data(\"wage2\")\n",
    "\n",
    "lm.t9.2.1 <- lm(lwage ~ educ + exper + tenure + married + south + urban + \n",
    "                  black, data = wage2)\n",
    "summary(lm.t9.2.1)"
   ]
  },
  {
   "cell_type": "code",
   "execution_count": 11,
   "metadata": {},
   "outputs": [
    {
     "data": {
      "text/plain": [
       "\n",
       "Call:\n",
       "lm(formula = lwage ~ educ + exper + tenure + married + south + \n",
       "    urban + black + IQ, data = wage2)\n",
       "\n",
       "Residuals:\n",
       "     Min       1Q   Median       3Q      Max \n",
       "-2.01203 -0.22244  0.01017  0.22951  1.27478 \n",
       "\n",
       "Coefficients:\n",
       "              Estimate Std. Error t value Pr(>|t|)    \n",
       "(Intercept)  5.1764392  0.1280006  40.441  < 2e-16 ***\n",
       "educ         0.0544106  0.0069285   7.853 1.12e-14 ***\n",
       "exper        0.0141458  0.0031651   4.469 8.82e-06 ***\n",
       "tenure       0.0113951  0.0024394   4.671 3.44e-06 ***\n",
       "married      0.1997644  0.0388025   5.148 3.21e-07 ***\n",
       "south       -0.0801695  0.0262529  -3.054 0.002325 ** \n",
       "urban        0.1819463  0.0267929   6.791 1.99e-11 ***\n",
       "black       -0.1431253  0.0394925  -3.624 0.000306 ***\n",
       "IQ           0.0035591  0.0009918   3.589 0.000350 ***\n",
       "---\n",
       "Signif. codes:  0 ‘***’ 0.001 ‘**’ 0.01 ‘*’ 0.05 ‘.’ 0.1 ‘ ’ 1\n",
       "\n",
       "Residual standard error: 0.3632 on 926 degrees of freedom\n",
       "Multiple R-squared:  0.2628,\tAdjusted R-squared:  0.2564 \n",
       "F-statistic: 41.27 on 8 and 926 DF,  p-value: < 2.2e-16\n"
      ]
     },
     "metadata": {},
     "output_type": "display_data"
    }
   ],
   "source": [
    "lm.t9.2.2 <- lm(lwage ~ educ + exper + tenure + married + south + urban + \n",
    "                  black + IQ, data=wage2)\n",
    "summary(lm.t9.2.2)"
   ]
  },
  {
   "cell_type": "code",
   "execution_count": 12,
   "metadata": {},
   "outputs": [
    {
     "data": {
      "text/plain": [
       "\n",
       "Call:\n",
       "lm(formula = lwage ~ educ + exper + tenure + married + south + \n",
       "    urban + black + IQ + IQ * educ, data = wage2)\n",
       "\n",
       "Residuals:\n",
       "     Min       1Q   Median       3Q      Max \n",
       "-2.00733 -0.21715  0.01177  0.23456  1.27305 \n",
       "\n",
       "Coefficients:\n",
       "              Estimate Std. Error t value Pr(>|t|)    \n",
       "(Intercept)  5.6482483  0.5462963  10.339  < 2e-16 ***\n",
       "educ         0.0184559  0.0410608   0.449 0.653192    \n",
       "exper        0.0139072  0.0031768   4.378 1.34e-05 ***\n",
       "tenure       0.0113929  0.0024397   4.670 3.46e-06 ***\n",
       "married      0.2008658  0.0388267   5.173 2.82e-07 ***\n",
       "south       -0.0802354  0.0262560  -3.056 0.002308 ** \n",
       "urban        0.1835758  0.0268586   6.835 1.49e-11 ***\n",
       "black       -0.1466989  0.0397013  -3.695 0.000233 ***\n",
       "IQ          -0.0009418  0.0051625  -0.182 0.855289    \n",
       "educ:IQ      0.0003399  0.0003826   0.888 0.374564    \n",
       "---\n",
       "Signif. codes:  0 ‘***’ 0.001 ‘**’ 0.01 ‘*’ 0.05 ‘.’ 0.1 ‘ ’ 1\n",
       "\n",
       "Residual standard error: 0.3632 on 925 degrees of freedom\n",
       "Multiple R-squared:  0.2634,\tAdjusted R-squared:  0.2563 \n",
       "F-statistic: 36.76 on 9 and 925 DF,  p-value: < 2.2e-16\n"
      ]
     },
     "metadata": {},
     "output_type": "display_data"
    }
   ],
   "source": [
    "lm.t9.2.3 <- lm(lwage ~ educ + exper + tenure + married + south + urban + \n",
    "                black + IQ + IQ*educ, data = wage2)\n",
    "summary(lm.t9.2.3)"
   ]
  },
  {
   "cell_type": "code",
   "execution_count": 16,
   "metadata": {},
   "outputs": [
    {
     "name": "stdout",
     "output_type": "stream",
     "text": [
      "\n",
      "=================================================================================================\n",
      "                                                 Dependent variable:                             \n",
      "                    -----------------------------------------------------------------------------\n",
      "                                                        lwage                                    \n",
      "                               (1)                       (2)                       (3)           \n",
      "-------------------------------------------------------------------------------------------------\n",
      "educ                  0.06543*** (0.00625)      0.05441*** (0.00693)        0.01846 (0.04106)    \n",
      "exper                 0.01404*** (0.00319)      0.01415*** (0.00317)      0.01391*** (0.00318)   \n",
      "tenure                0.01175*** (0.00245)      0.01140*** (0.00244)      0.01139*** (0.00244)   \n",
      "married               0.19942*** (0.03905)      0.19976*** (0.03880)      0.20087*** (0.03883)   \n",
      "south                 -0.09090*** (0.02625)     -0.08017*** (0.02625)     -0.08024*** (0.02626)  \n",
      "urban                 0.18391*** (0.02696)      0.18195*** (0.02679)      0.18358*** (0.02686)   \n",
      "black                 -0.18835*** (0.03767)     -0.14313*** (0.03949)     -0.14670*** (0.03970)  \n",
      "IQ                                              0.00356*** (0.00099)       -0.00094 (0.00516)    \n",
      "educ:IQ                                                                     0.00034 (0.00038)    \n",
      "Constant              5.39550*** (0.11323)      5.17644*** (0.12800)      5.64825*** (0.54630)   \n",
      "-------------------------------------------------------------------------------------------------\n",
      "Observations                   935                       935                       935           \n",
      "R2                           0.25256                   0.26281                   0.26344         \n",
      "Adjusted R2                  0.24691                   0.25644                   0.25627         \n",
      "Residual Std. Error    0.36547 (df = 927)        0.36315 (df = 926)        0.36319 (df = 925)    \n",
      "F Statistic         44.74706*** (df = 7; 927) 41.26501*** (df = 8; 926) 36.75935*** (df = 9; 925)\n",
      "=================================================================================================\n",
      "Note:                                                                 *p<0.1; **p<0.05; ***p<0.01\n"
     ]
    }
   ],
   "source": [
    "stargazer(type = \"text\",\n",
    "          lm.t9.2.1, \n",
    "          lm.t9.2.2,  \n",
    "          lm.t9.2.3,\n",
    "          single.row = TRUE, header = FALSE, digits=5)"
   ]
  },
  {
   "cell_type": "markdown",
   "metadata": {},
   "source": [
    "# Example 9.4"
   ]
  },
  {
   "cell_type": "code",
   "execution_count": 13,
   "metadata": {},
   "outputs": [
    {
     "data": {
      "text/plain": [
       "\n",
       "Call:\n",
       "lm(formula = lcrmrte ~ unem + llawexpc, data = crime2, subset = (d87 == \n",
       "    1))\n",
       "\n",
       "Residuals:\n",
       "     Min       1Q   Median       3Q      Max \n",
       "-0.64786 -0.22955 -0.06368  0.22183  0.71164 \n",
       "\n",
       "Coefficients:\n",
       "            Estimate Std. Error t value Pr(>|t|)  \n",
       "(Intercept)  3.34290    1.25053   2.673   0.0106 *\n",
       "unem        -0.02900    0.03234  -0.897   0.3748  \n",
       "llawexpc     0.20337    0.17265   1.178   0.2453  \n",
       "---\n",
       "Signif. codes:  0 ‘***’ 0.001 ‘**’ 0.01 ‘*’ 0.05 ‘.’ 0.1 ‘ ’ 1\n",
       "\n",
       "Residual standard error: 0.3231 on 43 degrees of freedom\n",
       "Multiple R-squared:  0.05712,\tAdjusted R-squared:  0.01326 \n",
       "F-statistic: 1.302 on 2 and 43 DF,  p-value: 0.2824\n"
      ]
     },
     "metadata": {},
     "output_type": "display_data"
    }
   ],
   "source": [
    "\n",
    "\n",
    "data(\"crime2\")\n",
    "\n",
    "lm.9.4.1 <- lm(lcrmrte ~ unem + llawexpc, data = crime2, subset = (d87==1))\n",
    "summary(lm.9.4.1)"
   ]
  },
  {
   "cell_type": "code",
   "execution_count": 14,
   "metadata": {},
   "outputs": [
    {
     "data": {
      "text/plain": [
       "\n",
       "Call:\n",
       "lm(formula = lcrmrte ~ unem + llawexpc + lcrmrt_1, data = crime2, \n",
       "    subset = (d87 == 1))\n",
       "\n",
       "Residuals:\n",
       "     Min       1Q   Median       3Q      Max \n",
       "-0.48081 -0.12202  0.00659  0.14658  0.34428 \n",
       "\n",
       "Coefficients:\n",
       "             Estimate Std. Error t value Pr(>|t|)    \n",
       "(Intercept)  0.076451   0.821143   0.093    0.926    \n",
       "unem         0.008621   0.019517   0.442    0.661    \n",
       "llawexpc    -0.139576   0.108641  -1.285    0.206    \n",
       "lcrmrt_1     1.193923   0.132099   9.038  2.1e-11 ***\n",
       "---\n",
       "Signif. codes:  0 ‘***’ 0.001 ‘**’ 0.01 ‘*’ 0.05 ‘.’ 0.1 ‘ ’ 1\n",
       "\n",
       "Residual standard error: 0.1905 on 42 degrees of freedom\n",
       "Multiple R-squared:  0.6798,\tAdjusted R-squared:  0.657 \n",
       "F-statistic: 29.73 on 3 and 42 DF,  p-value: 1.799e-10\n"
      ]
     },
     "metadata": {},
     "output_type": "display_data"
    }
   ],
   "source": [
    "lm.9.4.2 <- lm(lcrmrte ~ unem + llawexpc + lcrmrt_1, data = crime2, subset = (d87==1))\n",
    "summary(lm.9.4.2)"
   ]
  },
  {
   "cell_type": "code",
   "execution_count": 15,
   "metadata": {},
   "outputs": [
    {
     "name": "stdout",
     "output_type": "stream",
     "text": [
      "\n",
      "=================================================================\n",
      "                                 Dependent variable:             \n",
      "                    ---------------------------------------------\n",
      "                                       lcrmrte                   \n",
      "                            (1)                    (2)           \n",
      "-----------------------------------------------------------------\n",
      "unem                 -0.02900 (0.03234)     0.00862 (0.01952)    \n",
      "llawexpc             0.20337 (0.17265)      -0.13958 (0.10864)   \n",
      "lcrmrt_1                                   1.19392*** (0.13210)  \n",
      "Constant            3.34290** (1.25053)     0.07645 (0.82114)    \n",
      "-----------------------------------------------------------------\n",
      "Observations                 46                     46           \n",
      "R2                        0.05712                0.67983         \n",
      "Adjusted R2               0.01326                0.65696         \n",
      "Residual Std. Error  0.32314 (df = 43)      0.19053 (df = 42)    \n",
      "F Statistic         1.30239 (df = 2; 43) 29.72674*** (df = 3; 42)\n",
      "=================================================================\n",
      "Note:                                 *p<0.1; **p<0.05; ***p<0.01\n"
     ]
    }
   ],
   "source": [
    "stargazer(type = \"text\",\n",
    "          lm.9.4.1, \n",
    "          lm.9.4.2,  \n",
    "          single.row = TRUE, header = FALSE, digits=5)"
   ]
  },
  {
   "cell_type": "code",
   "execution_count": null,
   "metadata": {},
   "outputs": [],
   "source": []
  },
  {
   "cell_type": "code",
   "execution_count": null,
   "metadata": {},
   "outputs": [],
   "source": []
  },
  {
   "cell_type": "code",
   "execution_count": null,
   "metadata": {},
   "outputs": [],
   "source": []
  },
  {
   "cell_type": "code",
   "execution_count": null,
   "metadata": {},
   "outputs": [],
   "source": []
  },
  {
   "cell_type": "code",
   "execution_count": null,
   "metadata": {},
   "outputs": [],
   "source": []
  },
  {
   "cell_type": "code",
   "execution_count": null,
   "metadata": {},
   "outputs": [],
   "source": []
  },
  {
   "cell_type": "markdown",
   "metadata": {},
   "source": [
    "# Example 9.8: R&D Intensity and Firm Size\n",
    "$$rdintens = \\beta_0 + \\beta_1sales + \\beta_2profmarg + \\mu$$\n",
    "\n",
    "From Businessweek R&D Scoreboard, October 25, 1991. Load the data and estimate the model."
   ]
  },
  {
   "cell_type": "code",
   "execution_count": 17,
   "metadata": {},
   "outputs": [
    {
     "data": {
      "text/plain": [
       "\n",
       "Call:\n",
       "lm(formula = rdintens ~ sales + profmarg, data = rdchem)\n",
       "\n",
       "Residuals:\n",
       "    Min      1Q  Median      3Q     Max \n",
       "-2.2221 -1.1414 -0.6068  0.5008  6.3702 \n",
       "\n",
       "Coefficients:\n",
       "             Estimate Std. Error t value Pr(>|t|)    \n",
       "(Intercept) 2.625e+00  5.855e-01   4.484 0.000106 ***\n",
       "sales       5.338e-05  4.407e-05   1.211 0.235638    \n",
       "profmarg    4.462e-02  4.618e-02   0.966 0.341966    \n",
       "---\n",
       "Signif. codes:  0 ‘***’ 0.001 ‘**’ 0.01 ‘*’ 0.05 ‘.’ 0.1 ‘ ’ 1\n",
       "\n",
       "Residual standard error: 1.862 on 29 degrees of freedom\n",
       "Multiple R-squared:  0.07612,\tAdjusted R-squared:  0.0124 \n",
       "F-statistic: 1.195 on 2 and 29 DF,  p-value: 0.3173\n"
      ]
     },
     "metadata": {},
     "output_type": "display_data"
    }
   ],
   "source": [
    "data(\"rdchem\")\n",
    "\n",
    "lm.9.8.1 <- lm(rdintens ~ sales + profmarg, data = rdchem)\n",
    "summary(lm.9.8.1)"
   ]
  },
  {
   "cell_type": "code",
   "execution_count": 18,
   "metadata": {},
   "outputs": [
    {
     "data": {
      "image/png": "[encoded data removed]",
      "text/plain": [
       "plot without title"
      ]
     },
     "metadata": {},
     "output_type": "display_data"
    }
   ],
   "source": [
    "# See the outliers\n",
    "with(rdchem, plot(sales, rdintens, pch = 16))"
   ]
  },
  {
   "cell_type": "code",
   "execution_count": 19,
   "metadata": {},
   "outputs": [
    {
     "data": {
      "text/plain": [
       "\n",
       "Call:\n",
       "lm(formula = rdintens ~ sales + profmarg, data = rdchem, subset = (sales < \n",
       "    30000))\n",
       "\n",
       "Residuals:\n",
       "    Min      1Q  Median      3Q     Max \n",
       "-2.0687 -1.1867 -0.7956  0.6486  6.0811 \n",
       "\n",
       "Coefficients:\n",
       "             Estimate Std. Error t value Pr(>|t|)    \n",
       "(Intercept) 2.2968508  0.5918045   3.881 0.000577 ***\n",
       "sales       0.0001856  0.0000842   2.204 0.035883 *  \n",
       "profmarg    0.0478411  0.0444831   1.075 0.291336    \n",
       "---\n",
       "Signif. codes:  0 ‘***’ 0.001 ‘**’ 0.01 ‘*’ 0.05 ‘.’ 0.1 ‘ ’ 1\n",
       "\n",
       "Residual standard error: 1.792 on 28 degrees of freedom\n",
       "Multiple R-squared:  0.1728,\tAdjusted R-squared:  0.1137 \n",
       "F-statistic: 2.925 on 2 and 28 DF,  p-value: 0.07022\n"
      ]
     },
     "metadata": {},
     "output_type": "display_data"
    }
   ],
   "source": [
    "# Test without the biggest firm\n",
    "lm.9.8.2 <- lm(rdintens ~ sales + profmarg, data = rdchem, subset = (sales < 30000))\n",
    "summary(lm.9.8.2)"
   ]
  },
  {
   "cell_type": "code",
   "execution_count": 20,
   "metadata": {},
   "outputs": [
    {
     "data": {
      "text/plain": [
       "\n",
       "Call:\n",
       "lm(formula = rdintens ~ sales + profmarg + big, data = rdchem)\n",
       "\n",
       "Residuals:\n",
       "    Min      1Q  Median      3Q     Max \n",
       "-2.0687 -1.1218 -0.6207  0.6384  6.0811 \n",
       "\n",
       "Coefficients:\n",
       "              Estimate Std. Error t value Pr(>|t|)    \n",
       "(Intercept)  2.2968508  0.5918045   3.881 0.000577 ***\n",
       "sales        0.0001856  0.0000842   2.204 0.035883 *  \n",
       "profmarg     0.0478411  0.0444831   1.075 0.291336    \n",
       "big         -6.5717169  3.6147274  -1.818 0.079773 .  \n",
       "---\n",
       "Signif. codes:  0 ‘***’ 0.001 ‘**’ 0.01 ‘*’ 0.05 ‘.’ 0.1 ‘ ’ 1\n",
       "\n",
       "Residual standard error: 1.792 on 28 degrees of freedom\n",
       "Multiple R-squared:  0.1737,\tAdjusted R-squared:  0.08513 \n",
       "F-statistic: 1.962 on 3 and 28 DF,  p-value: 0.1427\n"
      ]
     },
     "metadata": {},
     "output_type": "display_data"
    }
   ],
   "source": [
    "# Dummy for the biggest firm\n",
    "big <- as.numeric(rdchem$sales == max(rdchem$sales))\n",
    "lm.9.8.3 <- lm(rdintens ~ sales + profmarg + big, data = rdchem)\n",
    "summary(lm.9.8.3)"
   ]
  },
  {
   "cell_type": "code",
   "execution_count": 21,
   "metadata": {},
   "outputs": [
    {
     "data": {
      "text/plain": [
       "\n",
       "Call:\n",
       "lm(formula = rdintens ~ sales + profmarg + hi.rdint, data = rdchem)\n",
       "\n",
       "Residuals:\n",
       "    Min      1Q  Median      3Q     Max \n",
       "-2.1920 -1.0442 -0.3307  0.5016  3.5413 \n",
       "\n",
       "Coefficients:\n",
       "             Estimate Std. Error t value Pr(>|t|)    \n",
       "(Intercept) 2.193e+00  4.615e-01   4.753 5.45e-05 ***\n",
       "sales       5.057e-05  3.400e-05   1.487   0.1481    \n",
       "profmarg    6.829e-02  3.600e-02   1.897   0.0681 .  \n",
       "hi.rdint    6.718e+00  1.475e+00   4.555 9.35e-05 ***\n",
       "---\n",
       "Signif. codes:  0 ‘***’ 0.001 ‘**’ 0.01 ‘*’ 0.05 ‘.’ 0.1 ‘ ’ 1\n",
       "\n",
       "Residual standard error: 1.436 on 28 degrees of freedom\n",
       "Multiple R-squared:  0.4693,\tAdjusted R-squared:  0.4125 \n",
       "F-statistic: 8.255 on 3 and 28 DF,  p-value: 0.0004321\n"
      ]
     },
     "metadata": {},
     "output_type": "display_data"
    }
   ],
   "source": [
    "# Dummy for highest rdintens\n",
    "hi.rdint <- as.numeric(rdchem$rdintens == max(rdchem$rdintens))\n",
    "lm.9.8.4 <- lm(rdintens ~ sales + profmarg + hi.rdint, data = rdchem)\n",
    "summary(lm.9.8.4)\n"
   ]
  },
  {
   "cell_type": "code",
   "execution_count": null,
   "metadata": {},
   "outputs": [],
   "source": []
  },
  {
   "cell_type": "code",
   "execution_count": 22,
   "metadata": {},
   "outputs": [
    {
     "data": {
      "text/plain": [
       "\n",
       "Call:\n",
       "lm(formula = rdintens ~ sales + profmarg, data = rdchem, subset = (rdintens < \n",
       "    max(rdintens)))\n",
       "\n",
       "Residuals:\n",
       "    Min      1Q  Median      3Q     Max \n",
       "-2.1920 -1.0711 -0.5777  0.5182  3.5413 \n",
       "\n",
       "Coefficients:\n",
       "             Estimate Std. Error t value Pr(>|t|)    \n",
       "(Intercept) 2.193e+00  4.615e-01   4.753 5.45e-05 ***\n",
       "sales       5.057e-05  3.400e-05   1.487   0.1481    \n",
       "profmarg    6.829e-02  3.600e-02   1.897   0.0681 .  \n",
       "---\n",
       "Signif. codes:  0 ‘***’ 0.001 ‘**’ 0.01 ‘*’ 0.05 ‘.’ 0.1 ‘ ’ 1\n",
       "\n",
       "Residual standard error: 1.436 on 28 degrees of freedom\n",
       "Multiple R-squared:  0.1716,\tAdjusted R-squared:  0.1125 \n",
       "F-statistic:   2.9 on 2 and 28 DF,  p-value: 0.07165\n"
      ]
     },
     "metadata": {},
     "output_type": "display_data"
    }
   ],
   "source": [
    "lm.9.8.5 <- lm(rdintens ~ sales + profmarg, data = rdchem, subset = (rdintens  < max(rdintens)))\n",
    "summary(lm.9.8.5)"
   ]
  },
  {
   "cell_type": "code",
   "execution_count": 23,
   "metadata": {},
   "outputs": [
    {
     "data": {
      "text/plain": [
       "\n",
       "Call:\n",
       "lm(formula = rdintens ~ sales + profmarg, data = rdchem, subset = (sales < \n",
       "    max(sales) & rdintens < max(rdintens)))\n",
       "\n",
       "Residuals:\n",
       "    Min      1Q  Median      3Q     Max \n",
       "-2.0667 -1.0609 -0.3414  0.6422  3.1439 \n",
       "\n",
       "Coefficients:\n",
       "             Estimate Std. Error t value Pr(>|t|)    \n",
       "(Intercept) 1.939e+00  4.588e-01   4.226 0.000243 ***\n",
       "sales       1.596e-04  6.457e-05   2.472 0.020029 *  \n",
       "profmarg    7.007e-02  3.433e-02   2.041 0.051116 .  \n",
       "---\n",
       "Signif. codes:  0 ‘***’ 0.001 ‘**’ 0.01 ‘*’ 0.05 ‘.’ 0.1 ‘ ’ 1\n",
       "\n",
       "Residual standard error: 1.369 on 27 degrees of freedom\n",
       "Multiple R-squared:  0.2711,\tAdjusted R-squared:  0.2171 \n",
       "F-statistic: 5.021 on 2 and 27 DF,  p-value: 0.014\n"
      ]
     },
     "metadata": {},
     "output_type": "display_data"
    }
   ],
   "source": [
    "# Without first and tenth firm\n",
    "lm.9.8.6 <- lm(rdintens ~ sales + profmarg, \n",
    "               data = rdchem,\n",
    "               subset = (sales < max(sales) & rdintens < max(rdintens)))\n",
    "summary(lm.9.8.6)"
   ]
  },
  {
   "cell_type": "code",
   "execution_count": null,
   "metadata": {},
   "outputs": [],
   "source": []
  },
  {
   "cell_type": "code",
   "execution_count": 24,
   "metadata": {},
   "outputs": [
    {
     "data": {
      "text/plain": [
       "\n",
       "Call:\n",
       "lm(formula = rdintens ~ sales + profmarg + big + hi.rdint, data = rdchem)\n",
       "\n",
       "Residuals:\n",
       "    Min      1Q  Median      3Q     Max \n",
       "-2.0667 -1.0604 -0.1891  0.6416  3.1439 \n",
       "\n",
       "Coefficients:\n",
       "              Estimate Std. Error t value Pr(>|t|)    \n",
       "(Intercept)  1.939e+00  4.588e-01   4.226 0.000243 ***\n",
       "sales        1.596e-04  6.457e-05   2.472 0.020029 *  \n",
       "profmarg     7.007e-02  3.433e-02   2.041 0.051116 .  \n",
       "big         -5.414e+00  2.773e+00  -1.953 0.061306 .  \n",
       "hi.rdint     6.467e+00  1.412e+00   4.581  9.4e-05 ***\n",
       "---\n",
       "Signif. codes:  0 ‘***’ 0.001 ‘**’ 0.01 ‘*’ 0.05 ‘.’ 0.1 ‘ ’ 1\n",
       "\n",
       "Residual standard error: 1.369 on 27 degrees of freedom\n",
       "Multiple R-squared:  0.535,\tAdjusted R-squared:  0.4661 \n",
       "F-statistic: 7.766 on 4 and 27 DF,  p-value: 0.0002664\n"
      ]
     },
     "metadata": {},
     "output_type": "display_data"
    }
   ],
   "source": [
    "lm.9.8.7 <- lm(rdintens ~ sales + profmarg + big + hi.rdint, data = rdchem)\n",
    "summary(lm.9.8.7)"
   ]
  },
  {
   "cell_type": "code",
   "execution_count": 32,
   "metadata": {},
   "outputs": [
    {
     "name": "stdout",
     "output_type": "stream",
     "text": [
      "\n",
      "===========================================================================================================\n",
      "                                                      Dependent variable:                                  \n",
      "                    ---------------------------------------------------------------------------------------\n",
      "                                                           rdintens                                        \n",
      "                            (1)                   (2)                  (3)                    (4)          \n",
      "-----------------------------------------------------------------------------------------------------------\n",
      "sales                0.00005 (0.00004)    0.00019** (0.00008)  0.00019** (0.00008)     0.00005 (0.00003)   \n",
      "profmarg             0.04462 (0.04618)     0.04784 (0.04448)    0.04784 (0.04448)     0.06829* (0.03600)   \n",
      "big                                                            -6.57172* (3.61473)                         \n",
      "hi.rdint                                                                             6.71810*** (1.47487)  \n",
      "Constant            2.62526*** (0.58553) 2.29685*** (0.59180)  2.29685*** (0.59180)  2.19338*** (0.46146)  \n",
      "-----------------------------------------------------------------------------------------------------------\n",
      "Observations                 32                   31                    32                    32           \n",
      "R2                        0.07612               0.17281              0.17366                0.46934        \n",
      "Adjusted R2               0.01240               0.11372              0.08513                0.41249        \n",
      "Residual Std. Error  1.86205 (df = 29)     1.79218 (df = 28)    1.79218 (df = 28)      1.43618 (df = 28)   \n",
      "F Statistic         1.19465 (df = 2; 29) 2.92476* (df = 2; 28) 1.96150 (df = 3; 28) 8.25490*** (df = 3; 28)\n",
      "===========================================================================================================\n",
      "Note:                                                                           *p<0.1; **p<0.05; ***p<0.01\n"
     ]
    }
   ],
   "source": [
    "stargazer(type = \"text\",\n",
    "          lm.9.8.1, \n",
    "          lm.9.8.2, \n",
    "         lm.9.8.3,\n",
    "          lm.9.8.4,\n",
    "         # lm.9.8.5,\n",
    "#           lm.9.8.6,\n",
    "#           lm.9.8.7,\n",
    "          single.row = TRUE, header = FALSE, digits=5)"
   ]
  },
  {
   "cell_type": "code",
   "execution_count": 33,
   "metadata": {},
   "outputs": [
    {
     "name": "stdout",
     "output_type": "stream",
     "text": [
      "\n",
      "================================================================================================================\n",
      "                                                        Dependent variable:                                     \n",
      "                    --------------------------------------------------------------------------------------------\n",
      "                                                              rdintens                                          \n",
      "                              (1)                    (2)                   (3)                     (4)          \n",
      "----------------------------------------------------------------------------------------------------------------\n",
      "sales                  0.00005 (0.00003)      0.00005 (0.00003)    0.00016** (0.00006)     0.00016** (0.00006)  \n",
      "profmarg              0.06829* (0.03600)     0.06829* (0.03600)     0.07007* (0.03433)     0.07007* (0.03433)   \n",
      "big                                                                                        -5.41431* (2.77287)  \n",
      "hi.rdint             6.71810*** (1.47487)                                                 6.46689*** (1.41182)  \n",
      "Constant             2.19338*** (0.46146)   2.19338*** (0.46146)   1.93896*** (0.45879)   1.93896*** (0.45879)  \n",
      "----------------------------------------------------------------------------------------------------------------\n",
      "Observations                  32                     31                     30                     32           \n",
      "R2                          0.46934                0.17162               0.27110                 0.53500        \n",
      "Adjusted R2                 0.41249                0.11245               0.21711                 0.46612        \n",
      "Residual Std. Error    1.43618 (df = 28)      1.43618 (df = 28)     1.36906 (df = 27)       1.36906 (df = 27)   \n",
      "F Statistic         8.25490*** (df = 3; 28) 2.90049* (df = 2; 28) 5.02117** (df = 2; 27) 7.76625*** (df = 4; 27)\n",
      "================================================================================================================\n",
      "Note:                                                                                *p<0.1; **p<0.05; ***p<0.01\n"
     ]
    }
   ],
   "source": [
    "stargazer(type = \"text\",\n",
    "#           lm.9.8.1, \n",
    "#           lm.9.8.2, \n",
    "         # lm.9.8.3,\n",
    "          lm.9.8.4,\n",
    "         lm.9.8.5,\n",
    "          lm.9.8.6,\n",
    "          lm.9.8.7,\n",
    "          single.row = TRUE, header = FALSE, digits=5)"
   ]
  },
  {
   "cell_type": "code",
   "execution_count": null,
   "metadata": {},
   "outputs": [],
   "source": []
  },
  {
   "cell_type": "code",
   "execution_count": null,
   "metadata": {},
   "outputs": [],
   "source": []
  },
  {
   "cell_type": "code",
   "execution_count": 2,
   "metadata": {
    "ExecuteTime": {
     "end_time": "2018-12-03T03:45:12.787692Z",
     "start_time": "2018-12-03T03:45:12.764Z"
    }
   },
   "outputs": [],
   "source": [
    "data(\"rdchem\")\n",
    "\n",
    "all_rdchem <- lm(rdintens ~ sales + profmarg, data = rdchem) \n"
   ]
  },
  {
   "cell_type": "code",
   "execution_count": null,
   "metadata": {},
   "outputs": [],
   "source": []
  },
  {
   "cell_type": "code",
   "execution_count": 3,
   "metadata": {
    "ExecuteTime": {
     "end_time": "2018-12-03T03:45:20.127131Z",
     "start_time": "2018-12-03T03:45:20.068Z"
    }
   },
   "outputs": [
    {
     "data": {
      "image/png": "[encoded data removed]",
      "text/plain": [
       "Plot with title “FIGURE 9.1: Scatterplot of R&D intensity against firm sales”"
      ]
     },
     "metadata": {},
     "output_type": "display_data"
    }
   ],
   "source": [
    "plot_title <- \"FIGURE 9.1: Scatterplot of R&D intensity against firm sales\"\n",
    "x_axis <- \"firm sales (in millions of dollars)\"\n",
    "y_axis <- \"R&D as a percentage of sales\"\n",
    "\n",
    "plot(rdintens ~ sales, pch = 21, bg = \"lightgrey\", data = rdchem, main = plot_title, xlab = x_axis, ylab = y_axis)"
   ]
  },
  {
   "cell_type": "code",
   "execution_count": null,
   "metadata": {},
   "outputs": [],
   "source": []
  },
  {
   "cell_type": "code",
   "execution_count": 8,
   "metadata": {
    "ExecuteTime": {
     "end_time": "2018-12-03T03:45:39.881080Z",
     "start_time": "2018-12-03T03:45:39.863Z"
    }
   },
   "outputs": [],
   "source": [
    "smallest_rdchem <- lm(rdintens ~ sales + profmarg, data = rdchem, \n",
    "                      subset = (sales < max(sales)))"
   ]
  },
  {
   "cell_type": "code",
   "execution_count": 9,
   "metadata": {
    "ExecuteTime": {
     "end_time": "2018-12-03T03:46:18.133242Z",
     "start_time": "2018-12-03T03:46:17.981Z"
    }
   },
   "outputs": [
    {
     "name": "stdout",
     "output_type": "stream",
     "text": [
      "\n",
      "==============================================================\n",
      "                               Dependent variable:            \n",
      "                    ------------------------------------------\n",
      "                                     rdintens                 \n",
      "                            (1)                   (2)         \n",
      "--------------------------------------------------------------\n",
      "sales                0.00005 (0.00004)    0.00019** (0.00008) \n",
      "profmarg             0.04462 (0.04618)     0.04784 (0.04448)  \n",
      "Constant            2.62526*** (0.58553) 2.29685*** (0.59180) \n",
      "--------------------------------------------------------------\n",
      "Observations                 32                   31          \n",
      "R2                        0.07612               0.17281       \n",
      "Adjusted R2               0.01240               0.11372       \n",
      "Residual Std. Error  1.86205 (df = 29)     1.79218 (df = 28)  \n",
      "F Statistic         1.19465 (df = 2; 29) 2.92476* (df = 2; 28)\n",
      "==============================================================\n",
      "Note:                              *p<0.1; **p<0.05; ***p<0.01\n"
     ]
    }
   ],
   "source": [
    "stargazer(type = \"text\",all_rdchem, smallest_rdchem,  single.row = TRUE, header = FALSE, digits=5)"
   ]
  },
  {
   "cell_type": "markdown",
   "metadata": {},
   "source": [
    "# Example 9.9"
   ]
  },
  {
   "cell_type": "code",
   "execution_count": 34,
   "metadata": {},
   "outputs": [
    {
     "data": {
      "text/plain": [
       "\n",
       "Call:\n",
       "lm(formula = lrd ~ lsales + profmarg, data = rdchem)\n",
       "\n",
       "Residuals:\n",
       "     Min       1Q   Median       3Q      Max \n",
       "-0.97681 -0.31502 -0.05828  0.39020  1.21783 \n",
       "\n",
       "Coefficients:\n",
       "            Estimate Std. Error t value Pr(>|t|)    \n",
       "(Intercept) -4.37827    0.46802  -9.355 2.93e-10 ***\n",
       "lsales       1.08422    0.06020  18.012  < 2e-16 ***\n",
       "profmarg     0.02166    0.01278   1.694    0.101    \n",
       "---\n",
       "Signif. codes:  0 ‘***’ 0.001 ‘**’ 0.01 ‘*’ 0.05 ‘.’ 0.1 ‘ ’ 1\n",
       "\n",
       "Residual standard error: 0.5136 on 29 degrees of freedom\n",
       "Multiple R-squared:  0.918,\tAdjusted R-squared:  0.9123 \n",
       "F-statistic: 162.2 on 2 and 29 DF,  p-value: < 2.2e-16\n"
      ]
     },
     "metadata": {},
     "output_type": "display_data"
    }
   ],
   "source": [
    "\n",
    "\n",
    "data(\"rdchem\")\n",
    "\n",
    "lm.9.9.1 <- lm(lrd ~ lsales + profmarg, data = rdchem)\n",
    "summary(lm.9.9.1)"
   ]
  },
  {
   "cell_type": "code",
   "execution_count": 35,
   "metadata": {},
   "outputs": [
    {
     "data": {
      "text/plain": [
       "\n",
       "Call:\n",
       "lm(formula = lrd ~ lsales + profmarg, data = rdchem, subset = (lsales < \n",
       "    max(lsales)))\n",
       "\n",
       "Residuals:\n",
       "     Min       1Q   Median       3Q      Max \n",
       "-0.97871 -0.31809 -0.05582  0.38978  1.21104 \n",
       "\n",
       "Coefficients:\n",
       "            Estimate Std. Error t value Pr(>|t|)    \n",
       "(Intercept) -4.40414    0.51102  -8.618 2.30e-09 ***\n",
       "lsales       1.08805    0.06711  16.212 9.21e-16 ***\n",
       "profmarg     0.02176    0.01302   1.670    0.106    \n",
       "---\n",
       "Signif. codes:  0 ‘***’ 0.001 ‘**’ 0.01 ‘*’ 0.05 ‘.’ 0.1 ‘ ’ 1\n",
       "\n",
       "Residual standard error: 0.5225 on 28 degrees of freedom\n",
       "Multiple R-squared:  0.9037,\tAdjusted R-squared:  0.8968 \n",
       "F-statistic: 131.4 on 2 and 28 DF,  p-value: 5.877e-15\n"
      ]
     },
     "metadata": {},
     "output_type": "display_data"
    }
   ],
   "source": [
    "# Without the largest firm\n",
    "lm.9.9.2 <- lm(lrd ~ lsales + profmarg, data = rdchem, subset = (lsales  < max(lsales)))\n",
    "summary(lm.9.9.2)"
   ]
  },
  {
   "cell_type": "code",
   "execution_count": null,
   "metadata": {},
   "outputs": [],
   "source": []
  },
  {
   "cell_type": "markdown",
   "metadata": {},
   "source": [
    "# Example 9.10"
   ]
  },
  {
   "cell_type": "code",
   "execution_count": 36,
   "metadata": {},
   "outputs": [
    {
     "data": {
      "text/plain": [
       "\n",
       "Call:\n",
       "lm(formula = infmort ~ lpcinc + lphysic + lpopul, data = infmrt, \n",
       "    subset = (year == 1990))\n",
       "\n",
       "Residuals:\n",
       "    Min      1Q  Median      3Q     Max \n",
       "-4.0811 -1.2064 -0.0521  1.0639  7.9589 \n",
       "\n",
       "Coefficients:\n",
       "            Estimate Std. Error t value Pr(>|t|)   \n",
       "(Intercept) 33.85931   20.42785   1.658  0.10408   \n",
       "lpcinc      -4.68466    2.60412  -1.799  0.07845 . \n",
       "lphysic      4.15326    1.51266   2.746  0.00853 **\n",
       "lpopul      -0.08782    0.28725  -0.306  0.76116   \n",
       "---\n",
       "Signif. codes:  0 ‘***’ 0.001 ‘**’ 0.01 ‘*’ 0.05 ‘.’ 0.1 ‘ ’ 1\n",
       "\n",
       "Residual standard error: 2.058 on 47 degrees of freedom\n",
       "Multiple R-squared:  0.1391,\tAdjusted R-squared:  0.08413 \n",
       "F-statistic: 2.531 on 3 and 47 DF,  p-value: 0.06841\n"
      ]
     },
     "metadata": {},
     "output_type": "display_data"
    }
   ],
   "source": [
    "\n",
    "\n",
    "data(\"infmrt\")\n",
    "\n",
    "lm.9.10.1 <- lm(infmort ~ lpcinc + lphysic + lpopul, data = infmrt, subset = (year==1990))\n",
    "summary(lm.9.10.1)"
   ]
  },
  {
   "cell_type": "code",
   "execution_count": 37,
   "metadata": {},
   "outputs": [
    {
     "data": {
      "text/plain": [
       "\n",
       "Call:\n",
       "lm(formula = infmort ~ lpcinc + lphysic + lpopul, data = infmrt, \n",
       "    subset = (year == 1990 & DC == 0))\n",
       "\n",
       "Residuals:\n",
       "     Min       1Q   Median       3Q      Max \n",
       "-2.49645 -0.81641 -0.05117  0.94204  2.60772 \n",
       "\n",
       "Coefficients:\n",
       "            Estimate Std. Error t value Pr(>|t|)   \n",
       "(Intercept)  23.9548    12.4195   1.929  0.05994 . \n",
       "lpcinc       -0.5669     1.6412  -0.345  0.73134   \n",
       "lphysic      -2.7418     1.1908  -2.303  0.02588 * \n",
       "lpopul        0.6292     0.1911   3.293  0.00191 **\n",
       "---\n",
       "Signif. codes:  0 ‘***’ 0.001 ‘**’ 0.01 ‘*’ 0.05 ‘.’ 0.1 ‘ ’ 1\n",
       "\n",
       "Residual standard error: 1.246 on 46 degrees of freedom\n",
       "Multiple R-squared:  0.2732,\tAdjusted R-squared:  0.2258 \n",
       "F-statistic: 5.763 on 3 and 46 DF,  p-value: 0.001967\n"
      ]
     },
     "metadata": {},
     "output_type": "display_data"
    }
   ],
   "source": [
    "lm.9.10.2 <- lm(infmort ~ lpcinc + lphysic + lpopul, data = infmrt, subset = (year==1990 & DC==0))\n",
    "summary(lm.9.10.2)"
   ]
  },
  {
   "cell_type": "code",
   "execution_count": null,
   "metadata": {},
   "outputs": [],
   "source": []
  },
  {
   "cell_type": "code",
   "execution_count": null,
   "metadata": {},
   "outputs": [],
   "source": []
  },
  {
   "cell_type": "code",
   "execution_count": null,
   "metadata": {},
   "outputs": [],
   "source": []
  }
 ],
 "metadata": {
  "kernelspec": {
   "display_name": "R",
   "language": "R",
   "name": "ir"
  },
  "language_info": {
   "codemirror_mode": "r",
   "file_extension": ".r",
   "mimetype": "text/x-r-source",
   "name": "R",
   "pygments_lexer": "r",
   "version": "3.5.1"
  }
 },
 "nbformat": 4,
 "nbformat_minor": 2
}
