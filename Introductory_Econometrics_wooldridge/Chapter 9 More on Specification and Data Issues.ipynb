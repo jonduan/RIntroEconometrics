{
 "cells": [
  {
   "cell_type": "code",
   "execution_count": 1,
   "metadata": {
    "ExecuteTime": {
     "end_time": "2018-12-03T03:42:23.400640Z",
     "start_time": "2018-12-03T03:42:23.333Z"
    }
   },
   "outputs": [
    {
     "name": "stderr",
     "output_type": "stream",
     "text": [
      "\n",
      "Please cite as: \n",
      "\n",
      " Hlavac, Marek (2018). stargazer: Well-Formatted Regression and Summary Statistics Tables.\n",
      " R package version 5.2.2. https://CRAN.R-project.org/package=stargazer \n",
      "\n"
     ]
    }
   ],
   "source": [
    "library(wooldridge)\n",
    "library(stargazer)\n",
    "library(knitr)"
   ]
  },
  {
   "cell_type": "code",
   "execution_count": null,
   "metadata": {},
   "outputs": [],
   "source": []
  },
  {
   "cell_type": "markdown",
   "metadata": {},
   "source": [
    "# Example 9.8: R&D Intensity and Firm Size\n",
    "$$rdintens = \\beta_0 + \\beta_1sales + \\beta_2profmarg + \\mu$$\n",
    "\n",
    "From Businessweek R&D Scoreboard, October 25, 1991. Load the data and estimate the model."
   ]
  },
  {
   "cell_type": "code",
   "execution_count": 6,
   "metadata": {
    "ExecuteTime": {
     "end_time": "2018-12-03T03:45:12.787692Z",
     "start_time": "2018-12-03T03:45:12.764Z"
    }
   },
   "outputs": [],
   "source": [
    "data(\"rdchem\")\n",
    "\n",
    "all_rdchem <- lm(rdintens ~ sales + profmarg, data = rdchem) \n"
   ]
  },
  {
   "cell_type": "code",
   "execution_count": null,
   "metadata": {},
   "outputs": [],
   "source": []
  },
  {
   "cell_type": "code",
   "execution_count": 7,
   "metadata": {
    "ExecuteTime": {
     "end_time": "2018-12-03T03:45:20.127131Z",
     "start_time": "2018-12-03T03:45:20.068Z"
    }
   },
   "outputs": [
    {
     "data": {
      "image/png": "[encoded data removed]",
      "text/plain": [
       "Plot with title \"FIGURE 9.1: Scatterplot of R&D intensity against firm sales\""
      ]
     },
     "metadata": {},
     "output_type": "display_data"
    }
   ],
   "source": [
    "plot_title <- \"FIGURE 9.1: Scatterplot of R&D intensity against firm sales\"\n",
    "x_axis <- \"firm sales (in millions of dollars)\"\n",
    "y_axis <- \"R&D as a percentage of sales\"\n",
    "\n",
    "plot(rdintens ~ sales, pch = 21, bg = \"lightgrey\", data = rdchem, main = plot_title, xlab = x_axis, ylab = y_axis)"
   ]
  },
  {
   "cell_type": "code",
   "execution_count": null,
   "metadata": {},
   "outputs": [],
   "source": []
  },
  {
   "cell_type": "code",
   "execution_count": 8,
   "metadata": {
    "ExecuteTime": {
     "end_time": "2018-12-03T03:45:39.881080Z",
     "start_time": "2018-12-03T03:45:39.863Z"
    }
   },
   "outputs": [],
   "source": [
    "smallest_rdchem <- lm(rdintens ~ sales + profmarg, data = rdchem, \n",
    "                      subset = (sales < max(sales)))"
   ]
  },
  {
   "cell_type": "code",
   "execution_count": 9,
   "metadata": {
    "ExecuteTime": {
     "end_time": "2018-12-03T03:46:18.133242Z",
     "start_time": "2018-12-03T03:46:17.981Z"
    }
   },
   "outputs": [
    {
     "name": "stdout",
     "output_type": "stream",
     "text": [
      "\n",
      "==============================================================\n",
      "                               Dependent variable:            \n",
      "                    ------------------------------------------\n",
      "                                     rdintens                 \n",
      "                            (1)                   (2)         \n",
      "--------------------------------------------------------------\n",
      "sales                0.00005 (0.00004)    0.00019** (0.00008) \n",
      "profmarg             0.04462 (0.04618)     0.04784 (0.04448)  \n",
      "Constant            2.62526*** (0.58553) 2.29685*** (0.59180) \n",
      "--------------------------------------------------------------\n",
      "Observations                 32                   31          \n",
      "R2                        0.07612               0.17281       \n",
      "Adjusted R2               0.01240               0.11372       \n",
      "Residual Std. Error  1.86205 (df = 29)     1.79218 (df = 28)  \n",
      "F Statistic         1.19465 (df = 2; 29) 2.92476* (df = 2; 28)\n",
      "==============================================================\n",
      "Note:                              *p<0.1; **p<0.05; ***p<0.01\n"
     ]
    }
   ],
   "source": [
    "stargazer(type = \"text\",all_rdchem, smallest_rdchem,  single.row = TRUE, header = FALSE, digits=5)"
   ]
  },
  {
   "cell_type": "code",
   "execution_count": null,
   "metadata": {},
   "outputs": [],
   "source": []
  },
  {
   "cell_type": "code",
   "execution_count": null,
   "metadata": {},
   "outputs": [],
   "source": []
  },
  {
   "cell_type": "code",
   "execution_count": null,
   "metadata": {},
   "outputs": [],
   "source": []
  },
  {
   "cell_type": "code",
   "execution_count": null,
   "metadata": {},
   "outputs": [],
   "source": []
  },
  {
   "cell_type": "code",
   "execution_count": null,
   "metadata": {},
   "outputs": [],
   "source": []
  },
  {
   "cell_type": "code",
   "execution_count": null,
   "metadata": {},
   "outputs": [],
   "source": []
  },
  {
   "cell_type": "code",
   "execution_count": null,
   "metadata": {},
   "outputs": [],
   "source": []
  }
 ],
 "metadata": {
  "kernelspec": {
   "display_name": "R",
   "language": "R",
   "name": "ir"
  },
  "language_info": {
   "codemirror_mode": "r",
   "file_extension": ".r",
   "mimetype": "text/x-r-source",
   "name": "R",
   "pygments_lexer": "r",
   "version": "3.5.1"
  }
 },
 "nbformat": 4,
 "nbformat_minor": 2
}
