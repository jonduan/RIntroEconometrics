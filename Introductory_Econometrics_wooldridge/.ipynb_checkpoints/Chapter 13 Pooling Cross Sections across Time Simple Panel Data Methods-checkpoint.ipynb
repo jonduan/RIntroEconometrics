{
 "cells": [
  {
   "cell_type": "code",
   "execution_count": 1,
   "metadata": {
    "ExecuteTime": {
     "end_time": "2018-12-03T04:11:27.026280Z",
     "start_time": "2018-12-03T04:11:26.957Z"
    }
   },
   "outputs": [
    {
     "name": "stderr",
     "output_type": "stream",
     "text": [
      "\n",
      "Please cite as: \n",
      "\n",
      " Hlavac, Marek (2018). stargazer: Well-Formatted Regression and Summary Statistics Tables.\n",
      " R package version 5.2.2. https://CRAN.R-project.org/package=stargazer \n",
      "\n"
     ]
    }
   ],
   "source": [
    "library(wooldridge)\n",
    "library(stargazer)\n",
    "library(knitr)"
   ]
  },
  {
   "cell_type": "markdown",
   "metadata": {},
   "source": [
    "# Example 18.8: FORECASTING THE U.S. UNEMPLOYMENT RATE\n",
    "Data from Economic Report of the President, 2004, Tables B-42 and B-64."
   ]
  },
  {
   "cell_type": "code",
   "execution_count": 9,
   "metadata": {
    "ExecuteTime": {
     "end_time": "2018-12-03T04:13:53.145629Z",
     "start_time": "2018-12-03T04:13:53.069Z"
    }
   },
   "outputs": [],
   "source": [
    "data(\"phillips\")\n",
    "?phillips"
   ]
  },
  {
   "cell_type": "code",
   "execution_count": null,
   "metadata": {},
   "outputs": [],
   "source": []
  },
  {
   "cell_type": "markdown",
   "metadata": {},
   "source": [
    "$$\\widehat{unemp_t} = \\beta_0 + \\beta_1unem_{t-1}$$\n",
    "\n",
    "Estimate the linear model in the usual way and note the use of the subset argument to define data equal to and before the year 1996.\n",
    "\n",
    "\n",
    "$$\\widehat{unemp_t} = \\beta_0 + \\beta_1unem_{t-1} + \\beta_2inf_{t-1}$$\n",
    "\n"
   ]
  },
  {
   "cell_type": "code",
   "execution_count": 6,
   "metadata": {
    "ExecuteTime": {
     "end_time": "2018-12-03T04:12:55.391521Z",
     "start_time": "2018-12-03T04:12:55.363Z"
    }
   },
   "outputs": [],
   "source": [
    "phillips_train <- subset(phillips, year <= 1996)\n",
    "\n",
    "unem_AR1 <- lm(unem ~ unem_1, data = phillips_train)"
   ]
  },
  {
   "cell_type": "code",
   "execution_count": null,
   "metadata": {},
   "outputs": [],
   "source": []
  },
  {
   "cell_type": "code",
   "execution_count": 7,
   "metadata": {
    "ExecuteTime": {
     "end_time": "2018-12-03T04:12:56.946470Z",
     "start_time": "2018-12-03T04:12:56.782Z"
    }
   },
   "outputs": [
    {
     "name": "stdout",
     "output_type": "stream",
     "text": [
      "\n",
      "=====================================================================\n",
      "                                   Dependent variable:               \n",
      "                    -------------------------------------------------\n",
      "                                          unem                       \n",
      "                              (1)                      (2)           \n",
      "---------------------------------------------------------------------\n",
      "unem_1                0.73235*** (0.09689)     0.64703*** (0.08381)  \n",
      "inf_1                                          0.18358*** (0.04118)  \n",
      "Constant              1.57174*** (0.57712)     1.30380** (0.48969)   \n",
      "---------------------------------------------------------------------\n",
      "Observations                   48                       48           \n",
      "R2                          0.55397                  0.69059         \n",
      "Adjusted R2                 0.54427                  0.67684         \n",
      "Residual Std. Error    1.04857 (df = 46)        0.88298 (df = 45)    \n",
      "F Statistic         57.13184*** (df = 1; 46) 50.21941*** (df = 2; 45)\n",
      "=====================================================================\n",
      "Note:                                     *p<0.1; **p<0.05; ***p<0.01\n"
     ]
    }
   ],
   "source": [
    "unem_inf_VAR1 <- lm(unem ~ unem_1 + inf_1, data = phillips_train)\n",
    "stargazer(type = \"text\",unem_AR1, unem_inf_VAR1,  single.row = TRUE, header = FALSE, digits=5)"
   ]
  },
  {
   "cell_type": "code",
   "execution_count": null,
   "metadata": {},
   "outputs": [],
   "source": []
  }
 ],
 "metadata": {
  "kernelspec": {
   "display_name": "R",
   "language": "R",
   "name": "ir"
  },
  "language_info": {
   "codemirror_mode": "r",
   "file_extension": ".r",
   "mimetype": "text/x-r-source",
   "name": "R",
   "pygments_lexer": "r",
   "version": "3.5.1"
  }
 },
 "nbformat": 4,
 "nbformat_minor": 2
}
