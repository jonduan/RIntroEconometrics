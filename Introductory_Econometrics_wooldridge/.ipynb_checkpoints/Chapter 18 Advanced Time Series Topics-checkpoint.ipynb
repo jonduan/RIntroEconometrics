{
 "cells": [
  {
   "cell_type": "code",
   "execution_count": 1,
   "metadata": {
    "ExecuteTime": {
     "end_time": "2018-12-03T04:05:42.956117Z",
     "start_time": "2018-12-03T04:05:42.892Z"
    }
   },
   "outputs": [
    {
     "name": "stderr",
     "output_type": "stream",
     "text": [
      "\n",
      "Please cite as: \n",
      "\n",
      " Hlavac, Marek (2018). stargazer: Well-Formatted Regression and Summary Statistics Tables.\n",
      " R package version 5.2.2. https://CRAN.R-project.org/package=stargazer \n",
      "\n"
     ]
    }
   ],
   "source": [
    "library(wooldridge)\n",
    "library(stargazer)\n",
    "library(knitr)"
   ]
  },
  {
   "cell_type": "code",
   "execution_count": 5,
   "metadata": {
    "ExecuteTime": {
     "end_time": "2018-12-03T04:07:03.307600Z",
     "start_time": "2018-12-03T04:06:57.908Z"
    }
   },
   "outputs": [
    {
     "name": "stderr",
     "output_type": "stream",
     "text": [
      "Installing package into 'C:/Users/oldyu/R/win-library/3.5'\n",
      "(as 'lib' is unspecified)\n"
     ]
    },
    {
     "name": "stdout",
     "output_type": "stream",
     "text": [
      "package 'prais' successfully unpacked and MD5 sums checked\n",
      "\n",
      "The downloaded binary packages are in\n",
      "\tC:\\Users\\oldyu\\AppData\\Local\\Temp\\RtmpMxXRQ0\\downloaded_packages\n"
     ]
    }
   ],
   "source": [
    "install.packages(\"prais\")"
   ]
  },
  {
   "cell_type": "markdown",
   "metadata": {},
   "source": [
    "# Example 12.4: Prais-Winsten Estimation in the Event Study"
   ]
  },
  {
   "cell_type": "code",
   "execution_count": 3,
   "metadata": {
    "ExecuteTime": {
     "end_time": "2018-12-03T04:06:45.391586Z",
     "start_time": "2018-12-03T04:06:45.355Z"
    }
   },
   "outputs": [],
   "source": [
    "data(\"barium\")\n",
    "\n",
    "barium_model <- lm(lchnimp ~ lchempi + lgas + lrtwex + befile6 + affile6 + afdec6, \n",
    "                   data = barium)\n"
   ]
  },
  {
   "cell_type": "code",
   "execution_count": 7,
   "metadata": {
    "ExecuteTime": {
     "end_time": "2018-12-03T04:07:33.201421Z",
     "start_time": "2018-12-03T04:07:33.043Z"
    }
   },
   "outputs": [
    {
     "name": "stdout",
     "output_type": "stream",
     "text": [
      "\n",
      "===============================================\n",
      "                        Dependent variable:    \n",
      "                    ---------------------------\n",
      "                              lchnimp          \n",
      "-----------------------------------------------\n",
      "lchempi                3.11719*** (0.47920)    \n",
      "lgas                     0.19635 (0.90662)     \n",
      "lrtwex                  0.98302** (0.40015)    \n",
      "befile6                  0.05957 (0.26097)     \n",
      "affile6                 -0.03241 (0.26430)     \n",
      "afdec6                  -0.56524* (0.28584)    \n",
      "Constant               -17.80300 (21.04537)    \n",
      "-----------------------------------------------\n",
      "Observations                    131            \n",
      "R2                            0.30486          \n",
      "Adjusted R2                   0.27123          \n",
      "Residual Std. Error     0.59735 (df = 124)     \n",
      "F Statistic          9.06365*** (df = 6; 124)  \n",
      "===============================================\n",
      "Note:               *p<0.1; **p<0.05; ***p<0.01\n"
     ]
    }
   ],
   "source": [
    "stargazer(type = \"text\", barium_model, single.row = TRUE, header = FALSE, digits=5)\n"
   ]
  },
  {
   "cell_type": "code",
   "execution_count": 8,
   "metadata": {
    "ExecuteTime": {
     "end_time": "2018-12-03T04:07:36.850413Z",
     "start_time": "2018-12-03T04:07:36.812Z"
    }
   },
   "outputs": [
    {
     "name": "stdout",
     "output_type": "stream",
     "text": [
      "Iteration 0: rho = 0\n",
      "Iteration 1: rho = 0.2708\n",
      "Iteration 2: rho = 0.291\n",
      "Iteration 3: rho = 0.293\n",
      "Iteration 4: rho = 0.2932\n",
      "Iteration 5: rho = 0.2932\n",
      "Iteration 6: rho = 0.2932\n",
      "Iteration 7: rho = 0.2932\n"
     ]
    }
   ],
   "source": [
    "# Load the prais package, use the prais_winsten function to estimate.\n",
    "\n",
    "library(prais)\n",
    "barium_prais_winsten <- prais_winsten(lchnimp ~ lchempi + lgas + lrtwex + befile6 + affile6 + afdec6, data = barium)\n"
   ]
  },
  {
   "cell_type": "code",
   "execution_count": 9,
   "metadata": {
    "ExecuteTime": {
     "end_time": "2018-12-03T04:07:39.410715Z",
     "start_time": "2018-12-03T04:07:39.380Z"
    }
   },
   "outputs": [
    {
     "data": {
      "text/plain": [
       "\n",
       "Call:\n",
       "prais_winsten(formula = lchnimp ~ lchempi + lgas + lrtwex + befile6 + \n",
       "    affile6 + afdec6, data = barium)\n",
       "\n",
       "Coefficients:\n",
       "(Intercept)      lchempi         lgas       lrtwex      befile6      affile6  \n",
       "  -37.07770      2.94095      1.04638      1.13279     -0.01648     -0.03316  \n",
       "     afdec6  \n",
       "   -0.57681  \n",
       "\n",
       "AR(1) Coefficient rho: 0.2932\n"
      ]
     },
     "metadata": {},
     "output_type": "display_data"
    }
   ],
   "source": [
    "barium_prais_winsten"
   ]
  },
  {
   "cell_type": "markdown",
   "metadata": {},
   "source": [
    "# Example 12.8: Heteroskedasticity and the Efficient Markets Hypothesis\n",
    "These are Wednesday closing prices of value-weighted NYSE average, available in many publications. Wooldridge does not recall the particular source used when he collected these data at MIT, but notes probably the easiest way to get similar data is to go to the NYSE web site, www.nyse.com.\n",
    "\n",
    "$$return_t = \\beta_0 + \\beta_1return_{t-1} + \\mu_t$$"
   ]
  },
  {
   "cell_type": "code",
   "execution_count": 10,
   "metadata": {
    "ExecuteTime": {
     "end_time": "2018-12-03T04:08:48.825660Z",
     "start_time": "2018-12-03T04:08:48.720Z"
    }
   },
   "outputs": [],
   "source": [
    "data(\"nyse\")\n",
    "?nyse \n",
    "return_AR1 <-lm(return ~ return_1, data = nyse)"
   ]
  },
  {
   "cell_type": "markdown",
   "metadata": {},
   "source": [
    "$$\\hat{\\mu^2_t} = \\beta_0 + \\beta_1return_{t-1} + residual_t$$"
   ]
  },
  {
   "cell_type": "code",
   "execution_count": 11,
   "metadata": {
    "ExecuteTime": {
     "end_time": "2018-12-03T04:09:20.342910Z",
     "start_time": "2018-12-03T04:09:20.178Z"
    }
   },
   "outputs": [
    {
     "name": "stdout",
     "output_type": "stream",
     "text": [
      "\n",
      "========================================================================\n",
      "                                          Dependent variable:           \n",
      "                               -----------------------------------------\n",
      "                                     return             return_mu2      \n",
      "                                       (1)                  (2)         \n",
      "------------------------------------------------------------------------\n",
      "return_1                        0.05890 (0.03802)  -1.10413*** (0.20140)\n",
      "Constant                       0.17963** (0.08074) 4.65650*** (0.42768) \n",
      "------------------------------------------------------------------------\n",
      "Observations                           689                  689         \n",
      "R2                                   0.00348              0.04191       \n",
      "Adjusted R2                          0.00203              0.04052       \n",
      "Residual Std. Error (df = 687)       2.11040             11.17847       \n",
      "F Statistic (df = 1; 687)            2.39946            30.05460***     \n",
      "========================================================================\n",
      "Note:                                        *p<0.1; **p<0.05; ***p<0.01\n"
     ]
    }
   ],
   "source": [
    "return_mu <- residuals(return_AR1)\n",
    "mu2_hat_model <- lm(return_mu^2 ~ return_1, data = return_AR1$model)\n",
    "stargazer(type = \"text\",return_AR1, mu2_hat_model,  single.row = TRUE, header = FALSE, digits=5)"
   ]
  },
  {
   "cell_type": "markdown",
   "metadata": {},
   "source": [
    "# Example 12.9: ARCH in Stock Returns\n",
    "$$\\hat{\\mu^2_t} = \\beta_0 + \\hat{\\mu^2_{t-1}} + residual_t$$\n",
    "\n",
    "We still have return_mu in the working environment so we can use it to create $\\hat{\\mu^2_t}$, (mu2_hat) and $\\hat{\\mu^2_{t-1}}$ (mu2_hat_1). Notice the use R's matrix subset operations to perform the lag operation. We drop the first observation of mu2_hat and squared the results. Next, we remove the last observation of mu2_hat_1 using the subtraction operator combined with a call to the NROW function on return_mu. Now, both contain $688$ observations and we can estimate a standard linear model."
   ]
  },
  {
   "cell_type": "code",
   "execution_count": 12,
   "metadata": {
    "ExecuteTime": {
     "end_time": "2018-12-03T04:11:04.423622Z",
     "start_time": "2018-12-03T04:11:04.280Z"
    }
   },
   "outputs": [
    {
     "name": "stdout",
     "output_type": "stream",
     "text": [
      "\n",
      "===============================================\n",
      "                        Dependent variable:    \n",
      "                    ---------------------------\n",
      "                              mu2_hat          \n",
      "-----------------------------------------------\n",
      "mu2_hat_1              0.33706*** (0.03595)    \n",
      "Constant               2.94743*** (0.44023)    \n",
      "-----------------------------------------------\n",
      "Observations                    688            \n",
      "R2                            0.11361          \n",
      "Adjusted R2                   0.11231          \n",
      "Residual Std. Error     10.75907 (df = 686)    \n",
      "F Statistic          87.92263*** (df = 1; 686) \n",
      "===============================================\n",
      "Note:               *p<0.1; **p<0.05; ***p<0.01\n"
     ]
    }
   ],
   "source": [
    "mu2_hat  <- return_mu[-1]^2\n",
    "mu2_hat_1 <- return_mu[-NROW(return_mu)]^2\n",
    "arch_model <- lm(mu2_hat ~ mu2_hat_1)\n",
    "stargazer(type = \"text\",arch_model, single.row = TRUE, header = FALSE, digits=5)"
   ]
  },
  {
   "cell_type": "code",
   "execution_count": null,
   "metadata": {},
   "outputs": [],
   "source": []
  }
 ],
 "metadata": {
  "kernelspec": {
   "display_name": "R",
   "language": "R",
   "name": "ir"
  },
  "language_info": {
   "codemirror_mode": "r",
   "file_extension": ".r",
   "mimetype": "text/x-r-source",
   "name": "R",
   "pygments_lexer": "r",
   "version": "3.5.1"
  }
 },
 "nbformat": 4,
 "nbformat_minor": 2
}
