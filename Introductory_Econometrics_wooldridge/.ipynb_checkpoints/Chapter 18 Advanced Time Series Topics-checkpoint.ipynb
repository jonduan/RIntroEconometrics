{
 "cells": [
  {
   "cell_type": "code",
   "execution_count": 1,
   "metadata": {
    "ExecuteTime": {
     "end_time": "2018-12-03T04:11:27.026280Z",
     "start_time": "2018-12-03T04:11:26.957Z"
    }
   },
   "outputs": [
    {
     "name": "stderr",
     "output_type": "stream",
     "text": [
      "\n",
      "Please cite as: \n",
      "\n",
      " Hlavac, Marek (2018). stargazer: Well-Formatted Regression and Summary Statistics Tables.\n",
      " R package version 5.2.2. https://CRAN.R-project.org/package=stargazer \n",
      "\n"
     ]
    }
   ],
   "source": [
    "library(wooldridge)\n",
    "library(stargazer)\n",
    "library(knitr)"
   ]
  },
  {
   "cell_type": "code",
   "execution_count": 4,
   "metadata": {},
   "outputs": [],
   "source": [
    "pacman::p_load(wooldridge,stargazer,broom,tidyverse,ggplot2,\n",
    "               dplyr,tidyr,moderndive,jtools,sjPlot,dotwhisker,FSA,\n",
    "               car,QuantPsyc,lmtest,sandwich,tseries, \n",
    "              dynlm,prais,clubSandwich,orcutt,urca)"
   ]
  },
  {
   "cell_type": "markdown",
   "metadata": {},
   "source": [
    "\n",
    "# Chapter 18:\n",
    "\n",
    "    Example-18-1.R\n",
    "    Example-18-4-urca.R\n",
    "    Example-18-4.R\n",
    "    Example-18-8.R\n",
    "    Example-18-9.R\n",
    "    Simulate-Spurious-Regression-1.R\n",
    "    Simulate-Spurious-Regression-2.R\n",
    "    \n",
    "    \n",
    "    \n",
    "    R\n",
    "\n",
    "To run ADF in R, use the adf.test function found in the tseries package. It has many options, including:\n",
    "\n",
    "    “c” (default): for a regression with a constant but not a time trend,\n",
    "    “nc”: no intercept, no time trend,\n",
    "    “ct”: intercept and time trend.\n",
    "\n",
    "Other options in R include nsdiffs in the forecast package and adfTest in the fUnitRoots package.\n",
    "\n",
    "\n",
    "##    Example-18-1.R "
   ]
  },
  {
   "cell_type": "code",
   "execution_count": 3,
   "metadata": {},
   "outputs": [
    {
     "name": "stdout",
     "output_type": "stream",
     "text": [
      "\n",
      "=========================================\n",
      "                 Dependent variable:     \n",
      "             ----------------------------\n",
      "                      linv.detr          \n",
      "                  (1)            (2)     \n",
      "-----------------------------------------\n",
      "gprice          3.095***      3.256***   \n",
      "                (0.933)        (0.970)   \n",
      "                                         \n",
      "L(linv.detr)    0.340**       0.547***   \n",
      "                (0.132)        (0.152)   \n",
      "                                         \n",
      "L(gprice)                     -2.936***  \n",
      "                               (0.973)   \n",
      "                                         \n",
      "Constant         -0.010         0.006    \n",
      "                (0.018)        (0.017)   \n",
      "                                         \n",
      "-----------------------------------------\n",
      "Observations       41            40      \n",
      "Adjusted R2      0.375          0.504    \n",
      "=========================================\n",
      "Note:         *p<0.1; **p<0.05; ***p<0.01\n"
     ]
    },
    {
     "data": {
      "text/html": [
       "<strong>gprice:</strong> 4.68843441680016"
      ],
      "text/latex": [
       "\\textbf{gprice:} 4.68843441680016"
      ],
      "text/markdown": [
       "**gprice:** 4.68843441680016"
      ],
      "text/plain": [
       "  gprice \n",
       "4.688434 "
      ]
     },
     "metadata": {},
     "output_type": "display_data"
    },
    {
     "data": {
      "text/html": [
       "<strong>gprice:</strong> 0.706680099315238"
      ],
      "text/latex": [
       "\\textbf{gprice:} 0.706680099315238"
      ],
      "text/markdown": [
       "**gprice:** 0.706680099315238"
      ],
      "text/plain": [
       "   gprice \n",
       "0.7066801 "
      ]
     },
     "metadata": {},
     "output_type": "display_data"
    }
   ],
   "source": [
    "library(dynlm); library(stargazer)\n",
    "data(hseinv, package='wooldridge')\n",
    "\n",
    "# detrended variable: residual from a regression on the obs. index: \n",
    "trendreg <- dynlm( log(invpc) ~ trend(hseinv), data=hseinv )\n",
    "hseinv$linv.detr <-  resid( trendreg )\n",
    "# ts data:\n",
    "hseinv.ts <- ts(hseinv)\n",
    "\n",
    "# Koyck geometric d.l.:\n",
    "gDL<-dynlm(linv.detr~gprice + L(linv.detr)            ,data=hseinv.ts)\n",
    "# rational d.l.:\n",
    "rDL<-dynlm(linv.detr~gprice + L(linv.detr) + L(gprice),data=hseinv.ts)\n",
    "\n",
    "stargazer(gDL,rDL, type=\"text\", keep.stat=c(\"n\",\"adj.rsq\"))\n",
    "\n",
    "# LRP geometric DL:\n",
    "b <- coef(gDL)\n",
    " b[\"gprice\"]                 / (1-b[\"L(linv.detr)\"])\n",
    "\n",
    "# LRP rationalDL:\n",
    "b <- coef(rDL)\n",
    "(b[\"gprice\"]+b[\"L(gprice)\"]) / (1-b[\"L(linv.detr)\"])"
   ]
  },
  {
   "cell_type": "markdown",
   "metadata": {},
   "source": [
    "\n",
    "## Example-18-4-urca.R\n",
    "    Example-18-4.R\n"
   ]
  },
  {
   "cell_type": "code",
   "execution_count": 5,
   "metadata": {},
   "outputs": [
    {
     "data": {
      "text/plain": [
       "\n",
       "############################################### \n",
       "# Augmented Dickey-Fuller Test Unit Root Test # \n",
       "############################################### \n",
       "\n",
       "Test regression trend \n",
       "\n",
       "\n",
       "Call:\n",
       "lm(formula = z.diff ~ z.lag.1 + 1 + tt + z.diff.lag)\n",
       "\n",
       "Residuals:\n",
       "      Min        1Q    Median        3Q       Max \n",
       "-0.046332 -0.012563  0.004026  0.013572  0.030789 \n",
       "\n",
       "Coefficients:\n",
       "             Estimate Std. Error t value Pr(>|t|)  \n",
       "(Intercept)  1.656792   0.669068   2.476   0.0189 *\n",
       "z.lag.1     -0.209621   0.086594  -2.421   0.0215 *\n",
       "tt           0.005870   0.002696   2.177   0.0372 *\n",
       "z.diff.lag   0.263751   0.164739   1.601   0.1195  \n",
       "---\n",
       "Signif. codes:  0 ‘***’ 0.001 ‘**’ 0.01 ‘*’ 0.05 ‘.’ 0.1 ‘ ’ 1\n",
       "\n",
       "Residual standard error: 0.02011 on 31 degrees of freedom\n",
       "Multiple R-squared:  0.268,\tAdjusted R-squared:  0.1972 \n",
       "F-statistic: 3.783 on 3 and 31 DF,  p-value: 0.02015\n",
       "\n",
       "\n",
       "Value of test-statistic is: -2.4207 8.2589 4.4035 \n",
       "\n",
       "Critical values for test statistics: \n",
       "      1pct  5pct 10pct\n",
       "tau3 -4.15 -3.50 -3.18\n",
       "phi2  7.02  5.13  4.31\n",
       "phi3  9.31  6.73  5.61\n"
      ]
     },
     "metadata": {},
     "output_type": "display_data"
    }
   ],
   "source": [
    "library(urca)\n",
    "data(inven, package='wooldridge')\n",
    "\n",
    "# automated ADF test using urca: better than adf.test in tseries. can specify trend\n",
    "summary( ur.df(log(inven$gdp) , type = c(\"trend\"), lags = 1) )"
   ]
  },
  {
   "cell_type": "code",
   "execution_count": 6,
   "metadata": {},
   "outputs": [
    {
     "data": {
      "text/plain": [
       "\n",
       "Time series regression with \"ts\" data:\n",
       "Start = 3, End = 37\n",
       "\n",
       "Call:\n",
       "dynlm(formula = d(y) ~ L(y) + L(d(y)) + trend(inven.ts), data = inven.ts)\n",
       "\n",
       "Residuals:\n",
       "      Min        1Q    Median        3Q       Max \n",
       "-0.046332 -0.012563  0.004026  0.013572  0.030789 \n",
       "\n",
       "Coefficients:\n",
       "                 Estimate Std. Error t value Pr(>|t|)  \n",
       "(Intercept)      1.650922   0.666399   2.477   0.0189 *\n",
       "L(y)            -0.209621   0.086594  -2.421   0.0215 *\n",
       "L(d(y))          0.263751   0.164739   1.601   0.1195  \n",
       "trend(inven.ts)  0.005870   0.002696   2.177   0.0372 *\n",
       "---\n",
       "Signif. codes:  0 ‘***’ 0.001 ‘**’ 0.01 ‘*’ 0.05 ‘.’ 0.1 ‘ ’ 1\n",
       "\n",
       "Residual standard error: 0.02011 on 31 degrees of freedom\n",
       "Multiple R-squared:  0.268,\tAdjusted R-squared:  0.1972 \n",
       "F-statistic: 3.783 on 3 and 31 DF,  p-value: 0.02015\n"
      ]
     },
     "metadata": {},
     "output_type": "display_data"
    },
    {
     "data": {
      "text/plain": [
       "\n",
       "\tAugmented Dickey-Fuller Test\n",
       "\n",
       "data:  inven$y\n",
       "Dickey-Fuller = -2.4207, Lag order = 1, p-value = 0.4092\n",
       "alternative hypothesis: stationary\n"
      ]
     },
     "metadata": {},
     "output_type": "display_data"
    }
   ],
   "source": [
    "library(dynlm)\n",
    "data(inven, package='wooldridge')\n",
    "\n",
    "# variable to test: y=log(gdp)\n",
    "inven$y <- log(inven$gdp)\n",
    "inven.ts<- ts(inven)\n",
    "\n",
    "# summary output of ADF regression:\n",
    "summary(dynlm( d(y) ~ L(y) + L(d(y)) + trend(inven.ts), data=inven.ts))\n",
    "\n"
   ]
  },
  {
   "cell_type": "code",
   "execution_count": 7,
   "metadata": {},
   "outputs": [
    {
     "data": {
      "text/plain": [
       "\n",
       "\tAugmented Dickey-Fuller Test\n",
       "\n",
       "data:  inven$y\n",
       "Dickey-Fuller = -2.4207, Lag order = 1, p-value = 0.4092\n",
       "alternative hypothesis: stationary\n"
      ]
     },
     "metadata": {},
     "output_type": "display_data"
    }
   ],
   "source": [
    "# automated ADF test using tseries:\n",
    "library(tseries)\n",
    "adf.test(inven$y, k=1)"
   ]
  },
  {
   "cell_type": "code",
   "execution_count": 8,
   "metadata": {},
   "outputs": [
    {
     "name": "stderr",
     "output_type": "stream",
     "text": [
      "Warning message in tseries::adf.test(wn):\n",
      "“p-value smaller than printed p-value”"
     ]
    },
    {
     "data": {
      "text/plain": [
       "\n",
       "\tAugmented Dickey-Fuller Test\n",
       "\n",
       "data:  wn\n",
       "Dickey-Fuller = -5.2152, Lag order = 4, p-value = 0.01\n",
       "alternative hypothesis: stationary\n"
      ]
     },
     "metadata": {},
     "output_type": "display_data"
    }
   ],
   "source": [
    "# a white noise\n",
    "TT <- 100\n",
    "wn <- rnorm(TT) # white noise\n",
    "tseries::adf.test(wn)"
   ]
  },
  {
   "cell_type": "code",
   "execution_count": null,
   "metadata": {},
   "outputs": [],
   "source": []
  },
  {
   "cell_type": "code",
   "execution_count": null,
   "metadata": {},
   "outputs": [],
   "source": []
  },
  {
   "cell_type": "code",
   "execution_count": null,
   "metadata": {},
   "outputs": [],
   "source": []
  },
  {
   "cell_type": "markdown",
   "metadata": {},
   "source": [
    "\n",
    "\n",
    "# Example 18.8: FORECASTING THE U.S. UNEMPLOYMENT RATE\n",
    "Data from Economic Report of the President, 2004, Tables B-42 and B-64.\n",
    "\n",
    "    Example-18-8.R\n"
   ]
  },
  {
   "cell_type": "code",
   "execution_count": 9,
   "metadata": {},
   "outputs": [
    {
     "name": "stdout",
     "output_type": "stream",
     "text": [
      "\n",
      "===================================================\n",
      "                          Dependent variable:      \n",
      "                    -------------------------------\n",
      "                                 unem              \n",
      "                          (1)             (2)      \n",
      "---------------------------------------------------\n",
      "unem_1                 0.732***        0.647***    \n",
      "                        (0.097)         (0.084)    \n",
      "                                                   \n",
      "inf_1                                  0.184***    \n",
      "                                        (0.041)    \n",
      "                                                   \n",
      "Constant               1.572***         1.304**    \n",
      "                        (0.577)         (0.490)    \n",
      "                                                   \n",
      "---------------------------------------------------\n",
      "Observations              48              48       \n",
      "Adjusted R2              0.544           0.677     \n",
      "Residual Std. Error 1.049 (df = 46) 0.883 (df = 45)\n",
      "===================================================\n",
      "Note:                   *p<0.1; **p<0.05; ***p<0.01\n"
     ]
    },
    {
     "data": {
      "text/html": [
       "<table>\n",
       "<thead><tr><th></th><th scope=col>fit</th><th scope=col>lwr</th><th scope=col>upr</th></tr></thead>\n",
       "<tbody>\n",
       "\t<tr><th scope=row>1</th><td>5.526452</td><td>3.392840</td><td>7.660064</td></tr>\n",
       "\t<tr><th scope=row>2</th><td>5.160275</td><td>3.021340</td><td>7.299210</td></tr>\n",
       "\t<tr><th scope=row>3</th><td>4.867333</td><td>2.720958</td><td>7.013709</td></tr>\n",
       "\t<tr><th scope=row>4</th><td>4.647627</td><td>2.493832</td><td>6.801422</td></tr>\n",
       "\t<tr><th scope=row>5</th><td>4.501157</td><td>2.341549</td><td>6.660764</td></tr>\n",
       "\t<tr><th scope=row>6</th><td>5.087040</td><td>2.946509</td><td>7.227571</td></tr>\n",
       "\t<tr><th scope=row>7</th><td>5.819394</td><td>3.686837</td><td>7.951950</td></tr>\n",
       "</tbody>\n",
       "</table>\n"
      ],
      "text/latex": [
       "\\begin{tabular}{r|lll}\n",
       "  & fit & lwr & upr\\\\\n",
       "\\hline\n",
       "\t1 & 5.526452 & 3.392840 & 7.660064\\\\\n",
       "\t2 & 5.160275 & 3.021340 & 7.299210\\\\\n",
       "\t3 & 4.867333 & 2.720958 & 7.013709\\\\\n",
       "\t4 & 4.647627 & 2.493832 & 6.801422\\\\\n",
       "\t5 & 4.501157 & 2.341549 & 6.660764\\\\\n",
       "\t6 & 5.087040 & 2.946509 & 7.227571\\\\\n",
       "\t7 & 5.819394 & 3.686837 & 7.951950\\\\\n",
       "\\end{tabular}\n"
      ],
      "text/markdown": [
       "\n",
       "| <!--/--> | fit | lwr | upr | \n",
       "|---|---|---|---|---|---|---|\n",
       "| 1 | 5.526452 | 3.392840 | 7.660064 | \n",
       "| 2 | 5.160275 | 3.021340 | 7.299210 | \n",
       "| 3 | 4.867333 | 2.720958 | 7.013709 | \n",
       "| 4 | 4.647627 | 2.493832 | 6.801422 | \n",
       "| 5 | 4.501157 | 2.341549 | 6.660764 | \n",
       "| 6 | 5.087040 | 2.946509 | 7.227571 | \n",
       "| 7 | 5.819394 | 3.686837 | 7.951950 | \n",
       "\n",
       "\n"
      ],
      "text/plain": [
       "  fit      lwr      upr     \n",
       "1 5.526452 3.392840 7.660064\n",
       "2 5.160275 3.021340 7.299210\n",
       "3 4.867333 2.720958 7.013709\n",
       "4 4.647627 2.493832 6.801422\n",
       "5 4.501157 2.341549 6.660764\n",
       "6 5.087040 2.946509 7.227571\n",
       "7 5.819394 3.686837 7.951950"
      ]
     },
     "metadata": {},
     "output_type": "display_data"
    },
    {
     "data": {
      "text/html": [
       "<table>\n",
       "<thead><tr><th></th><th scope=col>fit</th><th scope=col>lwr</th><th scope=col>upr</th></tr></thead>\n",
       "<tbody>\n",
       "\t<tr><th scope=row>1</th><td>5.348468</td><td>3.548908</td><td>7.148027</td></tr>\n",
       "\t<tr><th scope=row>2</th><td>4.896451</td><td>3.090266</td><td>6.702636</td></tr>\n",
       "\t<tr><th scope=row>3</th><td>4.509137</td><td>2.693393</td><td>6.324881</td></tr>\n",
       "\t<tr><th scope=row>4</th><td>4.425175</td><td>2.607626</td><td>6.242724</td></tr>\n",
       "\t<tr><th scope=row>5</th><td>4.516062</td><td>2.696384</td><td>6.335740</td></tr>\n",
       "\t<tr><th scope=row>6</th><td>4.923537</td><td>3.118433</td><td>6.728641</td></tr>\n",
       "\t<tr><th scope=row>7</th><td>5.350271</td><td>3.540939</td><td>7.159603</td></tr>\n",
       "</tbody>\n",
       "</table>\n"
      ],
      "text/latex": [
       "\\begin{tabular}{r|lll}\n",
       "  & fit & lwr & upr\\\\\n",
       "\\hline\n",
       "\t1 & 5.348468 & 3.548908 & 7.148027\\\\\n",
       "\t2 & 4.896451 & 3.090266 & 6.702636\\\\\n",
       "\t3 & 4.509137 & 2.693393 & 6.324881\\\\\n",
       "\t4 & 4.425175 & 2.607626 & 6.242724\\\\\n",
       "\t5 & 4.516062 & 2.696384 & 6.335740\\\\\n",
       "\t6 & 4.923537 & 3.118433 & 6.728641\\\\\n",
       "\t7 & 5.350271 & 3.540939 & 7.159603\\\\\n",
       "\\end{tabular}\n"
      ],
      "text/markdown": [
       "\n",
       "| <!--/--> | fit | lwr | upr | \n",
       "|---|---|---|---|---|---|---|\n",
       "| 1 | 5.348468 | 3.548908 | 7.148027 | \n",
       "| 2 | 4.896451 | 3.090266 | 6.702636 | \n",
       "| 3 | 4.509137 | 2.693393 | 6.324881 | \n",
       "| 4 | 4.425175 | 2.607626 | 6.242724 | \n",
       "| 5 | 4.516062 | 2.696384 | 6.335740 | \n",
       "| 6 | 4.923537 | 3.118433 | 6.728641 | \n",
       "| 7 | 5.350271 | 3.540939 | 7.159603 | \n",
       "\n",
       "\n"
      ],
      "text/plain": [
       "  fit      lwr      upr     \n",
       "1 5.348468 3.548908 7.148027\n",
       "2 4.896451 3.090266 6.702636\n",
       "3 4.509137 2.693393 6.324881\n",
       "4 4.425175 2.607626 6.242724\n",
       "5 4.516062 2.696384 6.335740\n",
       "6 4.923537 3.118433 6.728641\n",
       "7 5.350271 3.540939 7.159603"
      ]
     },
     "metadata": {},
     "output_type": "display_data"
    }
   ],
   "source": [
    "# load updataed data from URfIE Website since online file is incomplete\n",
    "library(dynlm); library(stargazer)\n",
    "data(phillips, package='wooldridge')\n",
    "tsdat=ts(phillips, start=1948)\n",
    "\n",
    "# Estimate models and display results\n",
    "res1 <- dynlm(unem ~ unem_1      , data=tsdat, end=1996)\n",
    "res2 <- dynlm(unem ~ unem_1+inf_1, data=tsdat, end=1996)\n",
    "stargazer(res1, res2 ,type=\"text\", keep.stat=c(\"n\",\"adj.rsq\",\"ser\"))\n",
    "\n",
    "# Predictions for 1997-2003 including 95% forecast intervals:\n",
    "predict(res1, newdata=window(tsdat,start=1997), interval=\"prediction\")\n",
    "predict(res2, newdata=window(tsdat,start=1997), interval=\"prediction\")"
   ]
  },
  {
   "cell_type": "code",
   "execution_count": 9,
   "metadata": {
    "ExecuteTime": {
     "end_time": "2018-12-03T04:13:53.145629Z",
     "start_time": "2018-12-03T04:13:53.069Z"
    }
   },
   "outputs": [],
   "source": [
    "data(\"phillips\")\n",
    "?phillips"
   ]
  },
  {
   "cell_type": "code",
   "execution_count": null,
   "metadata": {},
   "outputs": [],
   "source": []
  },
  {
   "cell_type": "markdown",
   "metadata": {},
   "source": [
    "$$\\widehat{unemp_t} = \\beta_0 + \\beta_1unem_{t-1}$$\n",
    "\n",
    "Estimate the linear model in the usual way and note the use of the subset argument to define data equal to and before the year 1996.\n",
    "\n",
    "\n",
    "$$\\widehat{unemp_t} = \\beta_0 + \\beta_1unem_{t-1} + \\beta_2inf_{t-1}$$\n",
    "\n"
   ]
  },
  {
   "cell_type": "code",
   "execution_count": 6,
   "metadata": {
    "ExecuteTime": {
     "end_time": "2018-12-03T04:12:55.391521Z",
     "start_time": "2018-12-03T04:12:55.363Z"
    }
   },
   "outputs": [],
   "source": [
    "phillips_train <- subset(phillips, year <= 1996)\n",
    "\n",
    "unem_AR1 <- lm(unem ~ unem_1, data = phillips_train)"
   ]
  },
  {
   "cell_type": "code",
   "execution_count": null,
   "metadata": {},
   "outputs": [],
   "source": []
  },
  {
   "cell_type": "code",
   "execution_count": 7,
   "metadata": {
    "ExecuteTime": {
     "end_time": "2018-12-03T04:12:56.946470Z",
     "start_time": "2018-12-03T04:12:56.782Z"
    }
   },
   "outputs": [
    {
     "name": "stdout",
     "output_type": "stream",
     "text": [
      "\n",
      "=====================================================================\n",
      "                                   Dependent variable:               \n",
      "                    -------------------------------------------------\n",
      "                                          unem                       \n",
      "                              (1)                      (2)           \n",
      "---------------------------------------------------------------------\n",
      "unem_1                0.73235*** (0.09689)     0.64703*** (0.08381)  \n",
      "inf_1                                          0.18358*** (0.04118)  \n",
      "Constant              1.57174*** (0.57712)     1.30380** (0.48969)   \n",
      "---------------------------------------------------------------------\n",
      "Observations                   48                       48           \n",
      "R2                          0.55397                  0.69059         \n",
      "Adjusted R2                 0.54427                  0.67684         \n",
      "Residual Std. Error    1.04857 (df = 46)        0.88298 (df = 45)    \n",
      "F Statistic         57.13184*** (df = 1; 46) 50.21941*** (df = 2; 45)\n",
      "=====================================================================\n",
      "Note:                                     *p<0.1; **p<0.05; ***p<0.01\n"
     ]
    }
   ],
   "source": [
    "unem_inf_VAR1 <- lm(unem ~ unem_1 + inf_1, data = phillips_train)\n",
    "stargazer(type = \"text\",unem_AR1, unem_inf_VAR1,  single.row = TRUE, header = FALSE, digits=5)"
   ]
  },
  {
   "cell_type": "code",
   "execution_count": null,
   "metadata": {},
   "outputs": [],
   "source": []
  },
  {
   "cell_type": "markdown",
   "metadata": {},
   "source": [
    "#    Example-18-9.R\n"
   ]
  },
  {
   "cell_type": "code",
   "execution_count": 10,
   "metadata": {},
   "outputs": [
    {
     "data": {
      "text/html": [
       "0.576119920021014"
      ],
      "text/latex": [
       "0.576119920021014"
      ],
      "text/markdown": [
       "0.576119920021014"
      ],
      "text/plain": [
       "[1] 0.5761199"
      ]
     },
     "metadata": {},
     "output_type": "display_data"
    },
    {
     "data": {
      "text/html": [
       "0.521754320744097"
      ],
      "text/latex": [
       "0.521754320744097"
      ],
      "text/markdown": [
       "0.521754320744097"
      ],
      "text/plain": [
       "[1] 0.5217543"
      ]
     },
     "metadata": {},
     "output_type": "display_data"
    },
    {
     "data": {
      "text/html": [
       "0.542014044275906"
      ],
      "text/latex": [
       "0.542014044275906"
      ],
      "text/markdown": [
       "0.542014044275906"
      ],
      "text/plain": [
       "[1] 0.542014"
      ]
     },
     "metadata": {},
     "output_type": "display_data"
    },
    {
     "data": {
      "text/html": [
       "0.484194526677217"
      ],
      "text/latex": [
       "0.484194526677217"
      ],
      "text/markdown": [
       "0.484194526677217"
      ],
      "text/plain": [
       "[1] 0.4841945"
      ]
     },
     "metadata": {},
     "output_type": "display_data"
    },
    {
     "data": {
      "image/png": "[encoded data removed]",
      "text/plain": [
       "plot without title"
      ]
     },
     "metadata": {},
     "output_type": "display_data"
    }
   ],
   "source": [
    "# Note: run Example-18-8.R first to generate the results res1 and res2\n",
    "\n",
    "# Actual unemployment and forecasts:\n",
    "y  <- window(tsdat,start=1997)[,\"unem\"]\n",
    "f1 <- predict( res1, newdata=window(tsdat,start=1997) )\n",
    "f2 <- predict( res2, newdata=window(tsdat,start=1997) )\n",
    "\n",
    "# Plot unemployment and forecasts:\n",
    "matplot(time(y), cbind(y,f1,f2), type=\"l\",  col=\"black\",lwd=2,lty=1:3)\n",
    "legend(\"topleft\",c(\"Unempl.\",\"Forecast 1\",\"Forecast 2\"),lwd=2,lty=1:3)\n",
    "\n"
   ]
  },
  {
   "cell_type": "code",
   "execution_count": 11,
   "metadata": {},
   "outputs": [
    {
     "data": {
      "text/html": [
       "0.576119920021014"
      ],
      "text/latex": [
       "0.576119920021014"
      ],
      "text/markdown": [
       "0.576119920021014"
      ],
      "text/plain": [
       "[1] 0.5761199"
      ]
     },
     "metadata": {},
     "output_type": "display_data"
    },
    {
     "data": {
      "text/html": [
       "0.521754320744097"
      ],
      "text/latex": [
       "0.521754320744097"
      ],
      "text/markdown": [
       "0.521754320744097"
      ],
      "text/plain": [
       "[1] 0.5217543"
      ]
     },
     "metadata": {},
     "output_type": "display_data"
    },
    {
     "data": {
      "text/html": [
       "0.542014044275906"
      ],
      "text/latex": [
       "0.542014044275906"
      ],
      "text/markdown": [
       "0.542014044275906"
      ],
      "text/plain": [
       "[1] 0.542014"
      ]
     },
     "metadata": {},
     "output_type": "display_data"
    },
    {
     "data": {
      "text/html": [
       "0.484194526677217"
      ],
      "text/latex": [
       "0.484194526677217"
      ],
      "text/markdown": [
       "0.484194526677217"
      ],
      "text/plain": [
       "[1] 0.4841945"
      ]
     },
     "metadata": {},
     "output_type": "display_data"
    }
   ],
   "source": [
    "# Forecast errors:\n",
    "e1<- y - f1\n",
    "e2<- y - f2\n",
    "\n",
    "# RMSE:\n",
    "sqrt(mean(e1^2))\n",
    "sqrt(mean(e2^2))\n",
    "\n",
    "# MAE:\n",
    "mean(abs(e1))\n",
    "mean(abs(e2))"
   ]
  },
  {
   "cell_type": "markdown",
   "metadata": {},
   "source": [
    "#    Simulate-Spurious-Regression-1.R\n"
   ]
  },
  {
   "cell_type": "code",
   "execution_count": 12,
   "metadata": {},
   "outputs": [
    {
     "data": {
      "text/plain": [
       "\n",
       "Call:\n",
       "lm(formula = y ~ x)\n",
       "\n",
       "Residuals:\n",
       "    Min      1Q  Median      3Q     Max \n",
       "-3.5342 -1.4938 -0.2549  1.4803  4.6198 \n",
       "\n",
       "Coefficients:\n",
       "            Estimate Std. Error t value Pr(>|t|)    \n",
       "(Intercept) -3.15050    0.56498  -5.576 1.11e-06 ***\n",
       "x            0.29588    0.06253   4.732 2.00e-05 ***\n",
       "---\n",
       "Signif. codes:  0 ‘***’ 0.001 ‘**’ 0.01 ‘*’ 0.05 ‘.’ 0.1 ‘ ’ 1\n",
       "\n",
       "Residual standard error: 2.01 on 48 degrees of freedom\n",
       "Multiple R-squared:  0.3181,\tAdjusted R-squared:  0.3039 \n",
       "F-statistic: 22.39 on 1 and 48 DF,  p-value: 1.997e-05\n"
      ]
     },
     "metadata": {},
     "output_type": "display_data"
    },
    {
     "data": {
      "image/png": "[encoded data removed]",
      "text/plain": [
       "plot without title"
      ]
     },
     "metadata": {},
     "output_type": "display_data"
    }
   ],
   "source": [
    "# Initialize Random Number Generator\n",
    "set.seed(29846)\n",
    "\n",
    "# i.i.d. N(0,1) innovations\n",
    "n <- 50\n",
    "e <- rnorm(n)\n",
    "a <- rnorm(n)\n",
    "# independent random walks\n",
    "x <- cumsum(a)\n",
    "y <- cumsum(e)\n",
    "\n",
    "# plot\n",
    "plot(x,type=\"l\",lty=1,lwd=1)\n",
    "lines(y        ,lty=2,lwd=2)\n",
    "legend(\"topright\",c(\"x\",\"y\"), lty=c(1,2), lwd=c(1,2))\n",
    "\n"
   ]
  },
  {
   "cell_type": "code",
   "execution_count": 13,
   "metadata": {},
   "outputs": [
    {
     "data": {
      "text/plain": [
       "\n",
       "Call:\n",
       "lm(formula = y ~ x)\n",
       "\n",
       "Residuals:\n",
       "    Min      1Q  Median      3Q     Max \n",
       "-3.5342 -1.4938 -0.2549  1.4803  4.6198 \n",
       "\n",
       "Coefficients:\n",
       "            Estimate Std. Error t value Pr(>|t|)    \n",
       "(Intercept) -3.15050    0.56498  -5.576 1.11e-06 ***\n",
       "x            0.29588    0.06253   4.732 2.00e-05 ***\n",
       "---\n",
       "Signif. codes:  0 ‘***’ 0.001 ‘**’ 0.01 ‘*’ 0.05 ‘.’ 0.1 ‘ ’ 1\n",
       "\n",
       "Residual standard error: 2.01 on 48 degrees of freedom\n",
       "Multiple R-squared:  0.3181,\tAdjusted R-squared:  0.3039 \n",
       "F-statistic: 22.39 on 1 and 48 DF,  p-value: 1.997e-05\n"
      ]
     },
     "metadata": {},
     "output_type": "display_data"
    }
   ],
   "source": [
    "# Regression of y on x\n",
    "summary( lm(y~x) )"
   ]
  },
  {
   "cell_type": "markdown",
   "metadata": {},
   "source": [
    "#    Simulate-Spurious-Regression-2.R"
   ]
  },
  {
   "cell_type": "code",
   "execution_count": 14,
   "metadata": {},
   "outputs": [
    {
     "data": {
      "text/plain": [
       "\n",
       "FALSE  TRUE \n",
       " 3374  6626 "
      ]
     },
     "metadata": {},
     "output_type": "display_data"
    }
   ],
   "source": [
    "# Initialize Random Number Generator\n",
    "set.seed(29846)\n",
    "\n",
    "# generate 10,000 independent random walks\n",
    "# and store the p val of the t test \n",
    "pvals <- numeric(10000)\n",
    "for (r in 1:10000) {\n",
    "  # i.i.d. N(0,1) innovations\n",
    "  n <- 50\n",
    "  a <- rnorm(n)\n",
    "  e <- rnorm(n)\n",
    "  # independent random walks\n",
    "  x <- cumsum(a)\n",
    "  y <- cumsum(e)\n",
    "  # regression summary\n",
    "  regsum <- summary(lm(y~x))\n",
    "  # p value: 2nd row, 4th column of regression table\n",
    "  pvals[r] <- regsum$coef[2,4]\n",
    "}\n",
    "\n",
    "# How often is p<5% ?\n",
    "table(pvals<=0.05)\n"
   ]
  },
  {
   "cell_type": "code",
   "execution_count": null,
   "metadata": {},
   "outputs": [],
   "source": []
  },
  {
   "cell_type": "code",
   "execution_count": null,
   "metadata": {},
   "outputs": [],
   "source": []
  },
  {
   "cell_type": "code",
   "execution_count": null,
   "metadata": {},
   "outputs": [],
   "source": []
  },
  {
   "cell_type": "code",
   "execution_count": null,
   "metadata": {},
   "outputs": [],
   "source": []
  },
  {
   "cell_type": "code",
   "execution_count": null,
   "metadata": {},
   "outputs": [],
   "source": []
  },
  {
   "cell_type": "code",
   "execution_count": null,
   "metadata": {},
   "outputs": [],
   "source": [
    "\n",
    "Stata Textbook Examples\n",
    "Introductory Econometrics: A Modern Approach by Jeffrey M. Wooldridge (1st & 2d eds.)\n",
    "Chapter 18 - Advanced Time Series Topics\n",
    "\n",
    "    Example 18.1: Housing Investment and Residential Price Inflation\n",
    "\n",
    "use http://fmwww.bc.edu/ec-p/data/wooldridge/hseinv\n",
    "\n",
    "tsset year\n",
    "\n",
    "time variable:  year, 1947 to 1988\n",
    "\n",
    "reg linvpc t\n",
    "      \n",
    "      Source |       SS       df       MS              Number of obs =      42\n",
    "-------------+------------------------------           F(  1,    40) =   20.19\n",
    "       Model |  .409447014     1  .409447014           Prob > F      =  0.0001\n",
    "    Residual |   .81117293    40  .020279323           R-squared     =  0.3354\n",
    "-------------+------------------------------           Adj R-squared =  0.3188\n",
    "       Total |  1.22061994    41  .029771218           Root MSE      =  .14241\n",
    "\n",
    "------------------------------------------------------------------------------\n",
    "      linvpc |      Coef.   Std. Err.      t    P>|t|     [95% Conf. Interval]\n",
    "-------------+----------------------------------------------------------------\n",
    "           t |   .0081459   .0018129     4.49   0.000     .0044819    .0118098\n",
    "       _cons |  -.8412918    .044744   -18.80   0.000    -.9317228   -.7508608\n",
    "------------------------------------------------------------------------------\n",
    "\n",
    "predict elinvpc,r\n",
    "\n",
    "reg elinvpc gprice L.elinvpc\n",
    "\n",
    "      Source |       SS       df       MS              Number of obs =      41\n",
    "-------------+------------------------------           F(  2,    38) =   13.02\n",
    "       Model |  .322534831     2  .161267415           Prob > F      =  0.0000\n",
    "    Residual |  .470603501    38  .012384303           R-squared     =  0.4067\n",
    "-------------+------------------------------           Adj R-squared =  0.3754\n",
    "       Total |  .793138332    40  .019828458           Root MSE      =  .11128\n",
    "\n",
    "------------------------------------------------------------------------------\n",
    "elinvpc      |      Coef.   Std. Err.      t    P>|t|     [95% Conf. Interval]\n",
    "-------------+----------------------------------------------------------------\n",
    "gprice       |   3.094828   .9333266     3.32   0.002     1.205407    4.984249\n",
    "elinvpc      |\n",
    "          L1 |   .3399015   .1315881     2.58   0.014     .0735154    .6062876\n",
    "_cons        |  -.0099629    .017916    -0.56   0.581     -.046232    .0263061\n",
    "------------------------------------------------------------------------------\n",
    "\n",
    "scalar lrpGDL = _b[gprice]/(1-_b[L.elinvpc])\n",
    "\n",
    "display _n \"long run propensity : \" lrpGDL\n",
    "\n",
    "long run propensity : 4.6884339\n",
    "\n",
    "reg elinvpc gprice L.elinvpc L.gprice\n",
    "\n",
    "      Source |       SS       df       MS              Number of obs =      40\n",
    "-------------+------------------------------           F(  3,    36) =   14.20\n",
    "       Model |  .429863193     3  .143287731           Prob > F      =  0.0000\n",
    "    Residual |    .3632598    36   .01009055           R-squared     =  0.5420\n",
    "-------------+------------------------------           Adj R-squared =  0.5038\n",
    "       Total |  .793122992    39  .020336487           Root MSE      =  .10045\n",
    "\n",
    "------------------------------------------------------------------------------\n",
    "elinvpc      |      Coef.   Std. Err.      t    P>|t|     [95% Conf. Interval]\n",
    "-------------+----------------------------------------------------------------\n",
    "gprice       |   3.256352   .9703223     3.36   0.002     1.288447    5.224257\n",
    "elinvpc      |\n",
    "          L1 |   .5471706   .1516713     3.61   0.001     .2395669    .8547743\n",
    "gprice       |\n",
    "          L1 |  -2.936344   .9731857    -3.02   0.005    -4.910056   -.9626315\n",
    "_cons        |   .0058685   .0169326     0.35   0.731    -.0284725    .0402095\n",
    "------------------------------------------------------------------------------\n",
    "\n",
    "scalar lrpRDL = (_b[gprice]+_b[L.gprice])/(1-_b[L.elinvpc])\n",
    "\n",
    "display _n \"long run propensity : \" lrpRDL\n",
    "\n",
    "long run propensity : .70668588\n",
    "\n",
    "    Example 18.2: Unit Root Test for Three-Month T-Bill Rates\n",
    "\n",
    "use http://fmwww.bc.edu/ec-p/data/wooldridge/intqrt\n",
    "\n",
    "reg cr3 r3_1\n",
    "\n",
    "      Source |       SS       df       MS              Number of obs =     123\n",
    "-------------+------------------------------           F(  1,   121) =    6.12\n",
    "       Model |  9.22556712     1  9.22556712           Prob > F      =  0.0148\n",
    "    Residual |  182.506041   121  1.50831439           R-squared     =  0.0481\n",
    "-------------+------------------------------           Adj R-squared =  0.0403\n",
    "       Total |  191.731608   122  1.57157056           Root MSE      =  1.2281\n",
    "\n",
    "------------------------------------------------------------------------------\n",
    "         cr3 |      Coef.   Std. Err.      t    P>|t|     [95% Conf. Interval]\n",
    "-------------+----------------------------------------------------------------\n",
    "        r3_1 |  -.0907106   .0366782    -2.47   0.015    -.1633247   -.0180965\n",
    "       _cons |   .6253371   .2608254     2.40   0.018     .1089645     1.14171\n",
    "------------------------------------------------------------------------------\n",
    "\n",
    "display \"rho=\" 1+_b[r3_1]\n",
    "      \n",
    "rho=.90928937\n",
    "\n",
    "    Example 18.3: Unit Root Test for Annual U.S. Inflation\n",
    "\n",
    "use http://fmwww.bc.edu/ec-p/data/wooldridge/phillips\n",
    "\n",
    "reg cinf inf_1 cinf_1\n",
    "\n",
    "      Source |       SS       df       MS              Number of obs =      47\n",
    "-------------+------------------------------           F(  2,    44) =    4.57\n",
    "       Model |  38.4043268     2  19.2021634           Prob > F      =  0.0158\n",
    "    Residual |  184.960355    44  4.20364442           R-squared     =  0.1719\n",
    "-------------+------------------------------           Adj R-squared =  0.1343\n",
    "       Total |  223.364681    46  4.85575395           Root MSE      =  2.0503\n",
    "\n",
    "------------------------------------------------------------------------------\n",
    "        cinf |      Coef.   Std. Err.      t    P>|t|     [95% Conf. Interval]\n",
    "-------------+----------------------------------------------------------------\n",
    "       inf_1 |  -.3103252   .1027077    -3.02   0.004     -.517319   -.1033315\n",
    "      cinf_1 |   .1383615   .1264025     1.09   0.280    -.1163861    .3931091\n",
    "       _cons |   1.360791   .5167103     2.63   0.012     .3194297    2.402152\n",
    "------------------------------------------------------------------------------\n",
    "\n",
    "display \"rho=\" 1+_b[inf_1]\n",
    "      \n",
    "rho=.68967477\n",
    "\n",
    "    Example 18.4: Unit Root in the Log of U.S. Real Gross Domestic Product\n",
    "\n",
    "use http://fmwww.bc.edu/ec-p/data/wooldridge/inven\n",
    "\n",
    "tsset year\n",
    "\n",
    "        time variable:  year, 1959 to 1995\n",
    "\n",
    "gen lgdp=log(gdp)\n",
    "\n",
    "reg D.lgdp year L.lgdp L.D.lgdp\n",
    "\n",
    "      Source |       SS       df       MS              Number of obs =      35\n",
    "-------------+------------------------------           F(  3,    31) =    3.78\n",
    "       Model |  .004591884     3  .001530628           Prob > F      =  0.0201\n",
    "    Residual |  .012541804    31  .000404574           R-squared     =  0.2680\n",
    "-------------+------------------------------           Adj R-squared =  0.1972\n",
    "       Total |  .017133688    34  .000503932           Root MSE      =  .02011\n",
    "\n",
    "------------------------------------------------------------------------------\n",
    "D.lgdp       |      Coef.   Std. Err.      t    P>|t|     [95% Conf. Interval]\n",
    "-------------+----------------------------------------------------------------\n",
    "year         |   .0058696    .002696     2.18   0.037     .0003711    .0113681\n",
    "lgdp         |\n",
    "          L1 |  -.2096203   .0865941    -2.42   0.022    -.3862301   -.0330104\n",
    "          LD |   .2637479   .1647397     1.60   0.120    -.0722409    .5997367\n",
    "_cons        |  -9.841804   4.620125    -2.13   0.041    -19.26461   -.4189969\n",
    "------------------------------------------------------------------------------\n",
    "\n",
    "display \"rho=\" 1+_b[L.lgdp]\n",
    "      \n",
    "rho=.79037972\n",
    "\n",
    "reg D.lgdp L.lgdp L.D.lgdp\n",
    "\n",
    "      Source |       SS       df       MS              Number of obs =      35\n",
    "-------------+------------------------------           F(  2,    32) =    2.96\n",
    "       Model |  .002674165     2  .001337083           Prob > F      =  0.0662\n",
    "    Residual |  .014459523    32   .00045186           R-squared     =  0.1561\n",
    "-------------+------------------------------           Adj R-squared =  0.1033\n",
    "       Total |  .017133688    34  .000503932           Root MSE      =  .02126\n",
    "\n",
    "------------------------------------------------------------------------------\n",
    "D.lgdp       |      Coef.   Std. Err.      t    P>|t|     [95% Conf. Interval]\n",
    "-------------+----------------------------------------------------------------\n",
    "lgdp         |\n",
    "          L1 |  -.0226876   .0118894    -1.91   0.065    -.0469056    .0015304\n",
    "          LD |   .1671587    .167669     1.00   0.326    -.1743718    .5086892\n",
    "_cons        |   .2148862    .100468     2.14   0.040     .0102395    .4195328\n",
    "------------------------------------------------------------------------------\n",
    "\n",
    "display \"rho=\" 1+_b[L.lgdp]\n",
    "      \n",
    "rho=.9773124\n",
    "\n",
    "    Example 18.5: Cointegration Between Fertility and Personal Exemption\n",
    "\n",
    "use http://fmwww.bc.edu/ec-p/data/wooldridge/fertil3\n",
    "\n",
    "tsset year\n",
    "\n",
    "time variable:  year, 1913 to 1984\n",
    "\n",
    "reg gfr pe year\n",
    "\n",
    "      Source |       SS       df       MS              Number of obs =      72\n",
    "-------------+------------------------------           F(  2,    69) =   34.53\n",
    "       Model |  13929.0853     2  6964.54264           Prob > F      =  0.0000\n",
    "    Residual |  13918.8101    69  201.721886           R-squared     =  0.5002\n",
    "-------------+------------------------------           Adj R-squared =  0.4857\n",
    "       Total |  27847.8954    71  392.223879           Root MSE      =  14.203\n",
    "\n",
    "------------------------------------------------------------------------------\n",
    "         gfr |      Coef.   Std. Err.      t    P>|t|     [95% Conf. Interval]\n",
    "-------------+----------------------------------------------------------------\n",
    "          pe |    .186662   .0346265     5.39   0.000     .1175841    .2557399\n",
    "        year |  -.9051881   .1089923    -8.31   0.000    -1.122622   -.6877543\n",
    "       _cons |    1840.65   210.0516     8.76   0.000     1421.608    2259.691\n",
    "------------------------------------------------------------------------------\n",
    "\n",
    "predict uh, res\n",
    "\n",
    "reg D.gfr D.pe year\n",
    "      \n",
    "      Source |       SS       df       MS              Number of obs =      71\n",
    "-------------+------------------------------           F(  2,    68) =    1.16\n",
    "       Model |  42.0144941     2  21.0072471           Prob > F      =  0.3185\n",
    "    Residual |  1227.56788    68  18.0524688           R-squared     =  0.0331\n",
    "-------------+------------------------------           Adj R-squared =  0.0047\n",
    "       Total |  1269.58238    70  18.1368911           Root MSE      =  4.2488\n",
    "\n",
    "------------------------------------------------------------------------------\n",
    "D.gfr        |      Coef.   Std. Err.      t    P>|t|     [95% Conf. Interval]\n",
    "-------------+----------------------------------------------------------------\n",
    "pe           |\n",
    "          D1 |  -.0441285   .0289463    -1.52   0.132    -.1018899    .0136329\n",
    "year         |   -.007633   .0249413    -0.31   0.761    -.0574026    .0421367\n",
    "_cons        |   14.09361   48.61889     0.29   0.773    -82.92387    111.1111\n",
    "------------------------------------------------------------------------------\n",
    "\n",
    "reg D.gfr  L.gfr  L.D.gfr year\n",
    "      \n",
    "      Source |       SS       df       MS              Number of obs =      70\n",
    "-------------+------------------------------           F(  3,    66) =    2.77\n",
    "       Model |  141.284323     3  47.0947745           Prob > F      =  0.0482\n",
    "    Residual |  1120.70979    66  16.9804513           R-squared     =  0.1120\n",
    "-------------+------------------------------           Adj R-squared =  0.0716\n",
    "       Total |  1261.99411    69  18.2897697           Root MSE      =  4.1207\n",
    "\n",
    "------------------------------------------------------------------------------\n",
    "D.gfr        |      Coef.   Std. Err.      t    P>|t|     [95% Conf. Interval]\n",
    "-------------+----------------------------------------------------------------\n",
    "gfr          |\n",
    "          L1 |  -.0438938   .0297773    -1.47   0.145    -.1033461    .0155585\n",
    "          LD |   .3092968   .1166811     2.65   0.010     .0763355    .5422581\n",
    "year         |  -.0185421   .0282515    -0.66   0.514     -.074948    .0378638\n",
    "_cons        |   39.73213    56.5777     0.70   0.485    -73.22889    152.6931\n",
    "------------------------------------------------------------------------------\n",
    "\n",
    "reg D.pe L.pe L.D.pe  year\n",
    "      \n",
    "      Source |       SS       df       MS              Number of obs =      70\n",
    "-------------+------------------------------           F(  3,    66) =    2.49\n",
    "       Model |  2254.87222     3  751.624073           Prob > F      =  0.0675\n",
    "    Residual |   19882.889    66  301.255894           R-squared     =  0.1019\n",
    "-------------+------------------------------           Adj R-squared =  0.0610\n",
    "       Total |  22137.7612    69  320.837119           Root MSE      =  17.357\n",
    "\n",
    "------------------------------------------------------------------------------\n",
    "D.pe         |      Coef.   Std. Err.      t    P>|t|     [95% Conf. Interval]\n",
    "-------------+----------------------------------------------------------------\n",
    "pe           |\n",
    "          L1 |  -.0661281   .0449466    -1.47   0.146    -.1558668    .0236106\n",
    "          LD |   .2567035   .1220926     2.10   0.039     .0129377    .5004694\n",
    "year         |   .0316731   .1463908     0.22   0.829    -.2606056    .3239517\n",
    "_cons        |  -54.13747   282.2287    -0.19   0.848    -617.6253    509.3503\n",
    "------------------------------------------------------------------------------\n",
    "\n",
    "reg D.uh L.uh L.D.uh year\n",
    "      \n",
    "      Source |       SS       df       MS              Number of obs =      70\n",
    "-------------+------------------------------           F(  3,    66) =    3.07\n",
    "       Model |  291.902357     3  97.3007857           Prob > F      =  0.0338\n",
    "    Residual |  2092.94085    66   31.711225           R-squared     =  0.1224\n",
    "-------------+------------------------------           Adj R-squared =  0.0825\n",
    "       Total |  2384.84321    69   34.562945           Root MSE      =  5.6313\n",
    "\n",
    "------------------------------------------------------------------------------\n",
    "D.uh         |      Coef.   Std. Err.      t    P>|t|     [95% Conf. Interval]\n",
    "-------------+----------------------------------------------------------------\n",
    "uh           |\n",
    "          L1 |  -.1188282   .0490884    -2.42   0.018    -.2168364   -.0208201\n",
    "          LD |   .2378983   .1176739     2.02   0.047     .0029547    .4728418\n",
    "year         |   .0257499   .0334197     0.77   0.444    -.0409748    .0924746\n",
    "_cons        |  -50.38379   65.15702    -0.77   0.442     -180.474     79.7064\n",
    "------------------------------------------------------------------------------\n",
    "\n",
    "    Example 18.6: Cointegrated Parameter for Interest Rates\n",
    "\n",
    "use http://fmwww.bc.edu/ec-p/data/wooldridge/intqrt\n",
    "\n",
    "gen cr3_2 = cr3[_n-2]\n",
    "\n",
    "gen cr3_1p = cr3[_n+1]\n",
    "\n",
    "gen cr3_2p = cr3[_n+2]\n",
    "\n",
    "reg r6 r3 cr3 cr3_1 cr3_2 cr3_1p cr3_2p\n",
    "\n",
    "      Source |       SS       df       MS              Number of obs =     119\n",
    "-------------+------------------------------           F(  6,   112) = 3176.06\n",
    "       Model |  1148.95762     6  191.492937           Prob > F      =  0.0000\n",
    "    Residual |  6.75277085   112  .060292597           R-squared     =  0.9942\n",
    "-------------+------------------------------           Adj R-squared =  0.9938\n",
    "       Total |  1155.71039   118  9.79415587           Root MSE      =  .24555\n",
    "\n",
    "------------------------------------------------------------------------------\n",
    "          r6 |      Coef.   Std. Err.      t    P>|t|     [95% Conf. Interval]\n",
    "-------------+----------------------------------------------------------------\n",
    "          r3 |   1.038171   .0080773   128.53   0.000     1.022167    1.054175\n",
    "         cr3 |  -.0531227   .0194406    -2.73   0.007    -.0916418   -.0146036\n",
    "       cr3_1 |  -.0611365   .0190433    -3.21   0.002    -.0988684   -.0234046\n",
    "       cr3_2 |  -.0437775   .0189032    -2.32   0.022    -.0812318   -.0063233\n",
    "      cr3_1p |  -.0035722   .0191223    -0.19   0.852    -.0414606    .0343163\n",
    "      cr3_2p |   .0123662   .0189704     0.65   0.516    -.0252213    .0499536\n",
    "       _cons |   .0651458   .0569524     1.14   0.255     -.047698    .1779895\n",
    "------------------------------------------------------------------------------\n",
    "\n",
    "test r3\n",
    "\n",
    " ( 1)  r3 = 0.0\n",
    "\n",
    "       F(  1,   112) =16519.67\n",
    "            Prob > F =    0.0000\n",
    "\n",
    "reg r6 r3\n",
    "\n",
    "      Source |       SS       df       MS              Number of obs =     124\n",
    "-------------+------------------------------           F(  1,   122) =17710.54\n",
    "       Model |  1182.09126     1  1182.09126           Prob > F      =  0.0000\n",
    "    Residual |  8.14289673   122  .066745055           R-squared     =  0.9932\n",
    "-------------+------------------------------           Adj R-squared =  0.9931\n",
    "       Total |  1190.23416   123   9.6767005           Root MSE      =  .25835\n",
    "\n",
    "------------------------------------------------------------------------------\n",
    "          r6 |      Coef.   Std. Err.      t    P>|t|     [95% Conf. Interval]\n",
    "-------------+----------------------------------------------------------------\n",
    "          r3 |   1.025899   .0077088   133.08   0.000     1.010639     1.04116\n",
    "       _cons |   .1353736   .0548673     2.47   0.015     .0267584    .2439889\n",
    "------------------------------------------------------------------------------\n",
    "\n",
    "    Example 18.7: Error Correction Model for Holding Yields\n",
    "\n",
    "use http://fmwww.bc.edu/ec-p/data/wooldridge/intqrt\n",
    "\n",
    "gen del = hy6_1 - hy3[_n-2]\n",
    "\n",
    "reg chy6 chy3_1 del\n",
    "\n",
    "      Source |       SS       df       MS              Number of obs =     122\n",
    "-------------+------------------------------           F(  2,   119) =  223.79\n",
    "       Model |  51.8888367     2  25.9444184           Prob > F      =  0.0000\n",
    "    Residual |  13.7959796   119  .115932602           R-squared     =  0.7900\n",
    "-------------+------------------------------           Adj R-squared =  0.7864\n",
    "       Total |  65.6848163   121  .542849722           Root MSE      =  .34049\n",
    "\n",
    "------------------------------------------------------------------------------\n",
    "        chy6 |      Coef.   Std. Err.      t    P>|t|     [95% Conf. Interval]\n",
    "-------------+----------------------------------------------------------------\n",
    "      chy3_1 |   1.218363   .2636012     4.62   0.000     .6964068     1.74032\n",
    "         del |  -.8400495   .2441269    -3.44   0.001    -1.323445   -.3566539\n",
    "       _cons |   .0898484    .042688     2.10   0.037     .0053219     .174375\n",
    "------------------------------------------------------------------------------\n",
    "\n",
    "    Example 18.8: Forecasting the U.S. Unemployment Rate\n",
    "\n",
    "use http://fmwww.bc.edu/ec-p/data/wooldridge/phillips\n",
    "\n",
    "reg unem unem_1\n",
    "\n",
    "      Source |       SS       df       MS              Number of obs =      48\n",
    "-------------+------------------------------           F(  1,    46) =   57.13\n",
    "       Model |  62.8162728     1  62.8162728           Prob > F      =  0.0000\n",
    "    Residual |  50.5768515    46  1.09949677           R-squared     =  0.5540\n",
    "-------------+------------------------------           Adj R-squared =  0.5443\n",
    "       Total |  113.393124    47  2.41261967           Root MSE      =  1.0486\n",
    "\n",
    "------------------------------------------------------------------------------\n",
    "        unem |      Coef.   Std. Err.      t    P>|t|     [95% Conf. Interval]\n",
    "-------------+----------------------------------------------------------------\n",
    "      unem_1 |   .7323538   .0968906     7.56   0.000     .5373231    .9273845\n",
    "       _cons |   1.571741   .5771181     2.72   0.009     .4100629     2.73342\n",
    "------------------------------------------------------------------------------\n",
    "\n",
    "display \"Forecast for 1997: \" _b[_cons] +_b[unem_1]*5.4\n",
    "\n",
    "Forecasts for 1997: 5.5264519\n",
    "\n",
    "reg unem unem_1 inf_1\n",
    "\n",
    "      Source |       SS       df       MS              Number of obs =      48\n",
    "-------------+------------------------------           F(  2,    45) =   50.22\n",
    "       Model |  78.3083336     2  39.1541668           Prob > F      =  0.0000\n",
    "    Residual |  35.0847907    45  .779662015           R-squared     =  0.6906\n",
    "-------------+------------------------------           Adj R-squared =  0.6768\n",
    "       Total |  113.393124    47  2.41261967           Root MSE      =  .88298\n",
    "\n",
    "------------------------------------------------------------------------------\n",
    "        unem |      Coef.   Std. Err.      t    P>|t|     [95% Conf. Interval]\n",
    "-------------+----------------------------------------------------------------\n",
    "      unem_1 |   .6470261   .0838056     7.72   0.000     .4782329    .8158192\n",
    "       inf_1 |   .1835766   .0411828     4.46   0.000     .1006302    .2665231\n",
    "       _cons |   1.303797   .4896861     2.66   0.011     .3175188    2.290076\n",
    "------------------------------------------------------------------------------\n",
    "\n",
    "display \"Forecast for 1997: \" _b[_cons] +_b[unem_1]*5.4 +_b[ inf_1]*3\n",
    "\n",
    "Forecasts for 1997: 5.3484678\n",
    "\n",
    "gen un1 = unem_1-5.4\n",
    "\n",
    "gen inf1 = inf_1-3\n",
    "\n",
    "reg unem un1 inf1\n",
    "\n",
    "      Source |       SS       df       MS              Number of obs =      48\n",
    "-------------+------------------------------           F(  2,    45) =   50.22\n",
    "       Model |  78.3083334     2  39.1541667           Prob > F      =  0.0000\n",
    "    Residual |  35.0847909    45  .779662019           R-squared     =  0.6906\n",
    "-------------+------------------------------           Adj R-squared =  0.6768\n",
    "       Total |  113.393124    47  2.41261967           Root MSE      =  .88298\n",
    "\n",
    "------------------------------------------------------------------------------\n",
    "        unem |      Coef.   Std. Err.      t    P>|t|     [95% Conf. Interval]\n",
    "-------------+----------------------------------------------------------------\n",
    "         un1 |   .6470261   .0838056     7.72   0.000     .4782329    .8158192\n",
    "        inf1 |   .1835766   .0411828     4.46   0.000     .1006302    .2665231\n",
    "       _cons |   5.348468   .1365394    39.17   0.000     5.073463    5.623472\n",
    "------------------------------------------------------------------------------\n",
    "\n",
    "scalar down = _b[ _cons]-1.96*sqrt(_se[_cons]^2+e(rmse)^2)\n",
    "\n",
    "scalar up= _b[_cons]+1.96*sqrt(_se[_cons]^2+e(rmse)^2)\n",
    "\n",
    "display \"95% forecast interval: [\" down \",\"up \"]\"\n",
    "\n",
    "95% forecast interval: [3.5972486,7.099687]\n",
    "\n",
    "    Example 18.9: Out-of -Sample Comparison of Unemployment Forecasts\n",
    "\n",
    "use http://fmwww.bc.edu/ec-p/data/wooldridge/phillips\n",
    "\n",
    "reg unem unem_1\n",
    "\n",
    "      Source |       SS       df       MS              Number of obs =      48\n",
    "-------------+------------------------------           F(  1,    46) =   57.13\n",
    "       Model |  62.8162728     1  62.8162728           Prob > F      =  0.0000\n",
    "    Residual |  50.5768515    46  1.09949677           R-squared     =  0.5540\n",
    "-------------+------------------------------           Adj R-squared =  0.5443\n",
    "       Total |  113.393124    47  2.41261967           Root MSE      =  1.0486\n",
    "\n",
    "------------------------------------------------------------------------------\n",
    "        unem |      Coef.   Std. Err.      t    P>|t|     [95% Conf. Interval]\n",
    "-------------+----------------------------------------------------------------\n",
    "      unem_1 |   .7323538   .0968906     7.56   0.000     .5373231    .9273845\n",
    "       _cons |   1.571741   .5771181     2.72   0.009     .4100629     2.73342\n",
    "------------------------------------------------------------------------------\n",
    "\n",
    "display _n \"RMSE : \" %9.3f e(rmse)\n",
    "\n",
    "RMSE :     1.049\n",
    "\n",
    "qui {\n",
    "\n",
    "predict eps1 if e(sample), r\n",
    "\n",
    "replace eps1 = abs(eps)\n",
    "\n",
    "summ eps1,meanonly\n",
    "\n",
    "}\n",
    "\n",
    "display _n \"MAE : \" %9.3f `r(mean)'\n",
    "\n",
    "MAE :     0.813\n",
    "\n",
    "reg unem unem_1 inf_1\n",
    "\n",
    "      Source |       SS       df       MS              Number of obs =      48\n",
    "-------------+------------------------------           F(  2,    45) =   50.22\n",
    "       Model |  78.3083336     2  39.1541668           Prob > F      =  0.0000\n",
    "    Residual |  35.0847907    45  .779662015           R-squared     =  0.6906\n",
    "-------------+------------------------------           Adj R-squared =  0.6768\n",
    "       Total |  113.393124    47  2.41261967           Root MSE      =  .88298\n",
    "\n",
    "------------------------------------------------------------------------------\n",
    "        unem |      Coef.   Std. Err.      t    P>|t|     [95% Conf. Interval]\n",
    "-------------+----------------------------------------------------------------\n",
    "      unem_1 |   .6470261   .0838056     7.72   0.000     .4782329    .8158192\n",
    "       inf_1 |   .1835766   .0411828     4.46   0.000     .1006302    .2665231\n",
    "       _cons |   1.303797   .4896861     2.66   0.011     .3175188    2.290076\n",
    "------------------------------------------------------------------------------\n",
    "\n",
    "display _n \"RMSE : \" %9.3f e(rmse)\n",
    "\n",
    "RMSE :     0.883\n",
    "\n",
    "qui {\n",
    "\n",
    "predict eps if e(sample), r\n",
    "\n",
    "replace eps = abs(eps)\n",
    "\n",
    "summ eps,meanonly\n",
    "\n",
    "}\n",
    "\n",
    "display _n \"MAE : \" %9.3f `r(mean)'\n",
    "\n",
    "MAE :     0.649\n",
    "\n",
    "    Example 18.10: Two-Year-Ahead Forecast for the Unemployment Rate\n",
    "\n",
    "use http://fmwww.bc.edu/ec-p/data/wooldridge/phillips\n",
    "\n",
    "reg inf inf_1\n",
    "\n",
    "      Source |       SS       df       MS              Number of obs =      48\n",
    "-------------+------------------------------           F(  1,    46) =   38.67\n",
    "       Model |  214.647351     1  214.647351           Prob > F      =  0.0000\n",
    "    Residual |  255.342659    46  5.55092736           R-squared     =  0.4567\n",
    "-------------+------------------------------           Adj R-squared =  0.4449\n",
    "       Total |   469.99001    47  9.99978744           Root MSE      =   2.356\n",
    "\n",
    "------------------------------------------------------------------------------\n",
    "         inf |      Coef.   Std. Err.      t    P>|t|     [95% Conf. Interval]\n",
    "-------------+----------------------------------------------------------------\n",
    "       inf_1 |   .6652586   .1069819     6.22   0.000     .4499151    .8806021\n",
    "       _cons |    1.27665   .5576568     2.29   0.027     .1541456    2.399155\n",
    "-----------------------------------------------------------------------------\n",
    "\n",
    "scalar inf1997 = _b[_cons]+_b[inf_1]*3\n",
    "\n",
    "display \"Forecast for inflation in 1997: \" inf1997\n",
    "\n",
    "Forecast for inflation in 1997: 3.2724262\n",
    "\n",
    "reg unem unem_1 inf_1\n",
    "\n",
    "      Source |       SS       df       MS              Number of obs =      48\n",
    "-------------+------------------------------           F(  2,    45) =   50.22\n",
    "       Model |  78.3083336     2  39.1541668           Prob > F      =  0.0000\n",
    "    Residual |  35.0847907    45  .779662015           R-squared     =  0.6906\n",
    "-------------+------------------------------           Adj R-squared =  0.6768\n",
    "       Total |  113.393124    47  2.41261967           Root MSE      =  .88298\n",
    "\n",
    "------------------------------------------------------------------------------\n",
    "        unem |      Coef.   Std. Err.      t    P>|t|     [95% Conf. Interval]\n",
    "-------------+----------------------------------------------------------------\n",
    "      unem_1 |   .6470261   .0838056     7.72   0.000     .4782329    .8158192\n",
    "       inf_1 |   .1835766   .0411828     4.46   0.000     .1006302    .2665231\n",
    "       _cons |   1.303797   .4896861     2.66   0.011     .3175188    2.290076\n",
    "------------------------------------------------------------------------------\n",
    "\n",
    "display \"Forecast for unemployment in 1998:  \" _b[_cons]+_b[unem]*5.35+_b[inf_1]*inf1997\n",
    "\n",
    "Forecast for unemployment in 1998:  5.3661276\n",
    "\n",
    "This page prepared by Oleksandr Talavera (revised 9 Nov 2002)\n",
    "\n",
    "Send your questions/comments/suggestions to Kit Baum at baum@bc.edu\n",
    "These pages are maintained by the Faculty Micro Resource Center's GSA Program,\n",
    "a unit of Boston College Academic Technology Services\n"
   ]
  },
  {
   "cell_type": "code",
   "execution_count": null,
   "metadata": {},
   "outputs": [],
   "source": []
  },
  {
   "cell_type": "code",
   "execution_count": null,
   "metadata": {},
   "outputs": [],
   "source": []
  },
  {
   "cell_type": "code",
   "execution_count": null,
   "metadata": {},
   "outputs": [],
   "source": []
  }
 ],
 "metadata": {
  "kernelspec": {
   "display_name": "R",
   "language": "R",
   "name": "ir"
  },
  "language_info": {
   "codemirror_mode": "r",
   "file_extension": ".r",
   "mimetype": "text/x-r-source",
   "name": "R",
   "pygments_lexer": "r",
   "version": "3.5.1"
  }
 },
 "nbformat": 4,
 "nbformat_minor": 2
}
