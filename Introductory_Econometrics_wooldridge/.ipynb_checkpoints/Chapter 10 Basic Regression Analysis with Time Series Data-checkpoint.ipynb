{
 "cells": [
  {
   "cell_type": "code",
   "execution_count": 2,
   "metadata": {
    "ExecuteTime": {
     "end_time": "2018-12-03T03:47:16.617019Z",
     "start_time": "2018-12-03T03:47:16.535Z"
    }
   },
   "outputs": [
    {
     "name": "stderr",
     "output_type": "stream",
     "text": [
      "\n",
      "Please cite as: \n",
      "\n",
      " Hlavac, Marek (2018). stargazer: Well-Formatted Regression and Summary Statistics Tables.\n",
      " R package version 5.2.2. https://CRAN.R-project.org/package=stargazer \n",
      "\n"
     ]
    }
   ],
   "source": [
    "library(wooldridge)\n",
    "library(stargazer)\n",
    "library(knitr)"
   ]
  },
  {
   "cell_type": "code",
   "execution_count": 1,
   "metadata": {},
   "outputs": [],
   "source": [
    "pacman::p_load(wooldridge,stargazer,broom,tidyverse,ggplot2,\n",
    "               dplyr,tidyr,moderndive,jtools,sjPlot,dotwhisker,FSA,\n",
    "               car,QuantPsyc)"
   ]
  },
  {
   "cell_type": "code",
   "execution_count": null,
   "metadata": {},
   "outputs": [],
   "source": []
  },
  {
   "cell_type": "code",
   "execution_count": null,
   "metadata": {},
   "outputs": [],
   "source": []
  },
  {
   "cell_type": "markdown",
   "metadata": {},
   "source": [
    "# Example 10.1"
   ]
  },
  {
   "cell_type": "code",
   "execution_count": 2,
   "metadata": {},
   "outputs": [
    {
     "data": {
      "text/plain": [
       "\n",
       "Call:\n",
       "lm(formula = inf ~ unem, data = phillips)\n",
       "\n",
       "Residuals:\n",
       "    Min      1Q  Median      3Q     Max \n",
       "-5.2176 -1.7812 -0.6659  1.1473  8.8795 \n",
       "\n",
       "Coefficients:\n",
       "            Estimate Std. Error t value Pr(>|t|)  \n",
       "(Intercept)   1.0536     1.5480   0.681   0.4990  \n",
       "unem          0.5024     0.2656   1.892   0.0639 .\n",
       "---\n",
       "Signif. codes:  0 ‘***’ 0.001 ‘**’ 0.01 ‘*’ 0.05 ‘.’ 0.1 ‘ ’ 1\n",
       "\n",
       "Residual standard error: 2.972 on 54 degrees of freedom\n",
       "Multiple R-squared:  0.06215,\tAdjusted R-squared:  0.04479 \n",
       "F-statistic: 3.579 on 1 and 54 DF,  p-value: 0.06389\n"
      ]
     },
     "metadata": {},
     "output_type": "display_data"
    }
   ],
   "source": [
    "\n",
    "\n",
    "data(\"phillips\")\n",
    "\n",
    "lm.10.1 <- lm(inf ~ unem, data = phillips)\n",
    "summary(lm.10.1)"
   ]
  },
  {
   "cell_type": "code",
   "execution_count": null,
   "metadata": {},
   "outputs": [],
   "source": []
  },
  {
   "cell_type": "code",
   "execution_count": null,
   "metadata": {},
   "outputs": [],
   "source": []
  },
  {
   "cell_type": "markdown",
   "metadata": {},
   "source": [
    "# Example 10.2: Effects of Inflation and Deficits on Interest Rates\n",
    "$$\\widehat{i3} = \\beta_0 + \\beta_1inf_t + \\beta_2def_t$$ Data from the Economic Report of the President, 2004, Tables B-64, B-73, and B-79.\n",
    "\n"
   ]
  },
  {
   "cell_type": "code",
   "execution_count": null,
   "metadata": {},
   "outputs": [],
   "source": []
  },
  {
   "cell_type": "code",
   "execution_count": 4,
   "metadata": {
    "ExecuteTime": {
     "end_time": "2018-12-03T03:47:24.085217Z",
     "start_time": "2018-12-03T03:47:23.943Z"
    }
   },
   "outputs": [
    {
     "name": "stdout",
     "output_type": "stream",
     "text": [
      "\n",
      "===============================================\n",
      "                        Dependent variable:    \n",
      "                    ---------------------------\n",
      "                                i3             \n",
      "-----------------------------------------------\n",
      "inf                    0.60587*** (0.08213)    \n",
      "def                    0.51306*** (0.11838)    \n",
      "Constant               1.73327*** (0.43197)    \n",
      "-----------------------------------------------\n",
      "Observations                    56             \n",
      "R2                            0.60207          \n",
      "Adjusted R2                   0.58705          \n",
      "Residual Std. Error      1.84316 (df = 53)     \n",
      "F Statistic          40.09424*** (df = 2; 53)  \n",
      "===============================================\n",
      "Note:               *p<0.1; **p<0.05; ***p<0.01\n"
     ]
    }
   ],
   "source": [
    "data(\"intdef\")\n",
    "\n",
    "tbill_model <- lm(i3 ~ inf + def, data = intdef)\n",
    "stargazer(type = \"text\",tbill_model, single.row = TRUE, header = FALSE, digits=5)"
   ]
  },
  {
   "cell_type": "markdown",
   "metadata": {},
   "source": [
    "# Example 10.11: Seasonal Effects of Antidumping Filings\n",
    "C.M. Krupp and P.S. Pollard (1999), Market Responses to Antidumpting Laws: Some Evidence from the U.S. Chemical Industry, Canadian Journal of Economics 29, 199-227. Dr. Krupp kindly provided the data. They are monthly data covering February 1978 through December 1988."
   ]
  },
  {
   "cell_type": "code",
   "execution_count": null,
   "metadata": {},
   "outputs": [],
   "source": []
  },
  {
   "cell_type": "code",
   "execution_count": 5,
   "metadata": {
    "ExecuteTime": {
     "end_time": "2018-12-03T03:48:11.285556Z",
     "start_time": "2018-12-03T03:48:11.254Z"
    }
   },
   "outputs": [],
   "source": [
    "data(\"barium\")\n",
    "barium_imports <- lm(lchnimp ~ lchempi + lgas + lrtwex + befile6 + affile6 + afdec6, data = barium)"
   ]
  },
  {
   "cell_type": "code",
   "execution_count": 6,
   "metadata": {
    "ExecuteTime": {
     "end_time": "2018-12-03T03:48:28.189695Z",
     "start_time": "2018-12-03T03:48:28.169Z"
    }
   },
   "outputs": [],
   "source": [
    "# Estimate a new model, barium_seasonal which accounts for seasonality by adding dummy variables contained in the data.\n",
    "\n",
    "barium_seasonal <- lm(lchnimp ~ lchempi + lgas + lrtwex + befile6 + affile6 + afdec6 + feb + mar + apr + may + jun + jul + aug + sep + oct + nov + dec, data = barium)"
   ]
  },
  {
   "cell_type": "code",
   "execution_count": 7,
   "metadata": {
    "ExecuteTime": {
     "end_time": "2018-12-03T03:48:43.208109Z",
     "start_time": "2018-12-03T03:48:42.931Z"
    }
   },
   "outputs": [
    {
     "name": "stdout",
     "output_type": "stream",
     "text": [
      "\n",
      "======================================================================\n",
      "                                   Dependent variable:                \n",
      "                    --------------------------------------------------\n",
      "                                         lchnimp                      \n",
      "                              (1)                       (2)           \n",
      "----------------------------------------------------------------------\n",
      "lchempi               3.11719*** (0.47920)     3.26506*** (0.49293)   \n",
      "lgas                   0.19635 (0.90662)        -1.27812 (1.38901)    \n",
      "lrtwex                0.98302** (0.40015)        0.66305 (0.47130)    \n",
      "befile6                0.05957 (0.26097)         0.13970 (0.26681)    \n",
      "affile6                -0.03241 (0.26430)        0.01263 (0.27869)    \n",
      "afdec6                -0.56524* (0.28584)       -0.52130* (0.30195)   \n",
      "feb                                             -0.41771 (0.30444)    \n",
      "mar                                              0.05905 (0.26473)    \n",
      "apr                                             -0.45148* (0.26839)   \n",
      "may                                              0.03331 (0.26924)    \n",
      "jun                                             -0.20633 (0.26925)    \n",
      "jul                                              0.00384 (0.27877)    \n",
      "aug                                             -0.15707 (0.27799)    \n",
      "sep                                             -0.13416 (0.26766)    \n",
      "oct                                              0.05169 (0.26685)    \n",
      "nov                                             -0.24626 (0.26283)    \n",
      "dec                                              0.13284 (0.27142)    \n",
      "Constant              -17.80300 (21.04537)      16.77877 (32.42865)   \n",
      "----------------------------------------------------------------------\n",
      "Observations                  131                       131           \n",
      "R2                          0.30486                   0.35833         \n",
      "Adjusted R2                 0.27123                   0.26179         \n",
      "Residual Std. Error    0.59735 (df = 124)       0.60121 (df = 113)    \n",
      "F Statistic         9.06365*** (df = 6; 124) 3.71190*** (df = 17; 113)\n",
      "======================================================================\n",
      "Note:                                      *p<0.1; **p<0.05; ***p<0.01\n"
     ]
    }
   ],
   "source": [
    "stargazer(type = \"text\",barium_imports, barium_seasonal,  single.row = TRUE, header = FALSE, digits=5)"
   ]
  },
  {
   "cell_type": "code",
   "execution_count": 8,
   "metadata": {
    "ExecuteTime": {
     "end_time": "2018-12-03T03:48:54.960233Z",
     "start_time": "2018-12-03T03:48:54.829Z"
    }
   },
   "outputs": [
    {
     "name": "stdout",
     "output_type": "stream",
     "text": [
      "\n",
      "==================================================================\n",
      "Statistic N   Mean    St. Dev.   Min    Pctl(25) Pctl(75)   Max   \n",
      "------------------------------------------------------------------\n",
      "Res.Df    2 118.50000 7.77817    113     115.8    121.2     124   \n",
      "RSS       2 42.54549  2.40642  40.84390 41.69469 43.39629 44.24709\n",
      "Df        1 11.00000           11.00000 11.00000 11.00000 11.00000\n",
      "Sum of Sq 1  3.40319           3.40319  3.40319  3.40319  3.40319 \n",
      "F         1  0.85594           0.85594  0.85594  0.85594  0.85594 \n",
      "Pr(> F)   1  0.58520           0.58520  0.58520  0.58520  0.58520 \n",
      "------------------------------------------------------------------\n"
     ]
    }
   ],
   "source": [
    "# Now, compute the anova between the two models.\n",
    "\n",
    "barium_anova <- anova(barium_imports, barium_seasonal)\n",
    "stargazer(type = \"text\",barium_anova,  single.row = TRUE, header = FALSE, digits=5)"
   ]
  },
  {
   "cell_type": "code",
   "execution_count": null,
   "metadata": {},
   "outputs": [],
   "source": []
  },
  {
   "cell_type": "markdown",
   "metadata": {},
   "source": [
    "# Example 10.3"
   ]
  },
  {
   "cell_type": "code",
   "execution_count": 3,
   "metadata": {},
   "outputs": [
    {
     "data": {
      "text/plain": [
       "\n",
       "Call:\n",
       "lm(formula = lprepop ~ lmincov + lusgnp, data = prminwge)\n",
       "\n",
       "Residuals:\n",
       "      Min        1Q    Median        3Q       Max \n",
       "-0.117133 -0.036998 -0.005943  0.028182  0.113938 \n",
       "\n",
       "Coefficients:\n",
       "            Estimate Std. Error t value Pr(>|t|)  \n",
       "(Intercept) -1.05442    0.76541  -1.378   0.1771  \n",
       "lmincov     -0.15444    0.06490  -2.380   0.0229 *\n",
       "lusgnp      -0.01219    0.08851  -0.138   0.8913  \n",
       "---\n",
       "Signif. codes:  0 ‘***’ 0.001 ‘**’ 0.01 ‘*’ 0.05 ‘.’ 0.1 ‘ ’ 1\n",
       "\n",
       "Residual standard error: 0.0557 on 35 degrees of freedom\n",
       "Multiple R-squared:  0.6605,\tAdjusted R-squared:  0.6411 \n",
       "F-statistic: 34.04 on 2 and 35 DF,  p-value: 6.17e-09\n"
      ]
     },
     "metadata": {},
     "output_type": "display_data"
    }
   ],
   "source": [
    "\n",
    "\n",
    "data(\"prminwge\")\n",
    "\n",
    "lm.10.3 <- lm(lprepop ~ lmincov + lusgnp, data = prminwge)\n",
    "summary(lm.10.3)"
   ]
  },
  {
   "cell_type": "code",
   "execution_count": null,
   "metadata": {},
   "outputs": [],
   "source": []
  },
  {
   "cell_type": "markdown",
   "metadata": {},
   "source": [
    "# Example 10.4"
   ]
  },
  {
   "cell_type": "code",
   "execution_count": 4,
   "metadata": {},
   "outputs": [
    {
     "data": {
      "text/plain": [
       "\n",
       "Call:\n",
       "lm(formula = gfr ~ pe + ww2 + pill, data = fertil3)\n",
       "\n",
       "Residuals:\n",
       "     Min       1Q   Median       3Q      Max \n",
       "-27.0187  -9.6195   0.3393   9.4746  28.0730 \n",
       "\n",
       "Coefficients:\n",
       "             Estimate Std. Error t value Pr(>|t|)    \n",
       "(Intercept)  98.68176    3.20813  30.760  < 2e-16 ***\n",
       "pe            0.08254    0.02965   2.784  0.00694 ** \n",
       "ww2         -24.23840    7.45825  -3.250  0.00180 ** \n",
       "pill        -31.59403    4.08107  -7.742 6.46e-11 ***\n",
       "---\n",
       "Signif. codes:  0 ‘***’ 0.001 ‘**’ 0.01 ‘*’ 0.05 ‘.’ 0.1 ‘ ’ 1\n",
       "\n",
       "Residual standard error: 14.69 on 68 degrees of freedom\n",
       "Multiple R-squared:  0.4734,\tAdjusted R-squared:  0.4502 \n",
       "F-statistic: 20.38 on 3 and 68 DF,  p-value: 1.575e-09\n"
      ]
     },
     "metadata": {},
     "output_type": "display_data"
    }
   ],
   "source": [
    "\n",
    "\n",
    "data(\"fertil3\")\n",
    "\n",
    "lm.10.4.1 <- lm(gfr ~ pe + ww2 + pill, data = fertil3)\n",
    "summary(lm.10.4.1)"
   ]
  },
  {
   "cell_type": "code",
   "execution_count": 5,
   "metadata": {},
   "outputs": [
    {
     "data": {
      "text/plain": [
       "\n",
       "Call:\n",
       "lm(formula = gfr ~ pe + pe_1 + pe_2 + ww2 + pill, data = fertil3)\n",
       "\n",
       "Residuals:\n",
       "     Min       1Q   Median       3Q      Max \n",
       "-24.6461  -9.5409  -0.0312   8.3378  29.1295 \n",
       "\n",
       "Coefficients:\n",
       "             Estimate Std. Error t value Pr(>|t|)    \n",
       "(Intercept)  95.87050    3.28196  29.211  < 2e-16 ***\n",
       "pe            0.07267    0.12553   0.579   0.5647    \n",
       "pe_1         -0.00578    0.15566  -0.037   0.9705    \n",
       "pe_2          0.03383    0.12626   0.268   0.7896    \n",
       "ww2         -22.12650   10.73197  -2.062   0.0433 *  \n",
       "pill        -31.30499    3.98156  -7.862 5.63e-11 ***\n",
       "---\n",
       "Signif. codes:  0 ‘***’ 0.001 ‘**’ 0.01 ‘*’ 0.05 ‘.’ 0.1 ‘ ’ 1\n",
       "\n",
       "Residual standard error: 14.27 on 64 degrees of freedom\n",
       "  (2 observations deleted due to missingness)\n",
       "Multiple R-squared:  0.4986,\tAdjusted R-squared:  0.4594 \n",
       "F-statistic: 12.73 on 5 and 64 DF,  p-value: 1.353e-08\n"
      ]
     },
     "metadata": {},
     "output_type": "display_data"
    }
   ],
   "source": [
    "lm.10.4.2 <- lm(gfr ~ pe + pe_1 + pe_2 + ww2 + pill, data = fertil3)\n",
    "summary(lm.10.4.2)"
   ]
  },
  {
   "cell_type": "code",
   "execution_count": 6,
   "metadata": {},
   "outputs": [
    {
     "data": {
      "text/html": [
       "<table>\n",
       "<thead><tr><th scope=col>Res.Df</th><th scope=col>RSS</th><th scope=col>Df</th><th scope=col>Sum of Sq</th><th scope=col>F</th><th scope=col>Pr(&gt;F)</th></tr></thead>\n",
       "<tbody>\n",
       "\t<tr><td>64        </td><td>13032.64  </td><td>NA        </td><td>       NA </td><td>      NA  </td><td>        NA</td></tr>\n",
       "\t<tr><td>67        </td><td>15459.75  </td><td>-3        </td><td>-2427.104 </td><td>3.972964  </td><td>0.01165201</td></tr>\n",
       "</tbody>\n",
       "</table>\n"
      ],
      "text/latex": [
       "\\begin{tabular}{r|llllll}\n",
       " Res.Df & RSS & Df & Sum of Sq & F & Pr(>F)\\\\\n",
       "\\hline\n",
       "\t 64         & 13032.64   & NA         &        NA  &       NA   &         NA\\\\\n",
       "\t 67         & 15459.75   & -3         & -2427.104  & 3.972964   & 0.01165201\\\\\n",
       "\\end{tabular}\n"
      ],
      "text/markdown": [
       "\n",
       "Res.Df | RSS | Df | Sum of Sq | F | Pr(>F) | \n",
       "|---|---|\n",
       "| 64         | 13032.64   | NA         |        NA  |       NA   |         NA | \n",
       "| 67         | 15459.75   | -3         | -2427.104  | 3.972964   | 0.01165201 | \n",
       "\n",
       "\n"
      ],
      "text/plain": [
       "  Res.Df RSS      Df Sum of Sq F        Pr(>F)    \n",
       "1 64     13032.64 NA        NA       NA         NA\n",
       "2 67     15459.75 -3 -2427.104 3.972964 0.01165201"
      ]
     },
     "metadata": {},
     "output_type": "display_data"
    }
   ],
   "source": [
    "# Joint significance of pe values\n",
    "lm.10.4.2res <- lm(gfr ~ ww2 + pill, data = fertil3, subset = (is.na(pe_2) == FALSE))\n",
    "anova(lm.10.4.2, lm.10.4.2res)"
   ]
  },
  {
   "cell_type": "code",
   "execution_count": 7,
   "metadata": {},
   "outputs": [
    {
     "data": {
      "text/html": [
       "<table>\n",
       "<thead><tr><th scope=col>Res.Df</th><th scope=col>RSS</th><th scope=col>Df</th><th scope=col>Sum of Sq</th><th scope=col>F</th><th scope=col>Pr(&gt;F)</th></tr></thead>\n",
       "<tbody>\n",
       "\t<tr><td>64        </td><td>13032.64  </td><td>NA        </td><td>       NA </td><td>        NA</td><td>       NA </td></tr>\n",
       "\t<tr><td>66        </td><td>13054.40  </td><td>-2        </td><td>-21.76058 </td><td>0.05343035</td><td>0.9480142 </td></tr>\n",
       "</tbody>\n",
       "</table>\n"
      ],
      "text/latex": [
       "\\begin{tabular}{r|llllll}\n",
       " Res.Df & RSS & Df & Sum of Sq & F & Pr(>F)\\\\\n",
       "\\hline\n",
       "\t 64         & 13032.64   & NA         &        NA  &         NA &        NA \\\\\n",
       "\t 66         & 13054.40   & -2         & -21.76058  & 0.05343035 & 0.9480142 \\\\\n",
       "\\end{tabular}\n"
      ],
      "text/markdown": [
       "\n",
       "Res.Df | RSS | Df | Sum of Sq | F | Pr(>F) | \n",
       "|---|---|\n",
       "| 64         | 13032.64   | NA         |        NA  |         NA |        NA  | \n",
       "| 66         | 13054.40   | -2         | -21.76058  | 0.05343035 | 0.9480142  | \n",
       "\n",
       "\n"
      ],
      "text/plain": [
       "  Res.Df RSS      Df Sum of Sq F          Pr(>F)   \n",
       "1 64     13032.64 NA        NA         NA        NA\n",
       "2 66     13054.40 -2 -21.76058 0.05343035 0.9480142"
      ]
     },
     "metadata": {},
     "output_type": "display_data"
    }
   ],
   "source": [
    "# Joint significance of lagged pe values\n",
    "lm.10.4.2res2 <- lm(gfr ~ pe + ww2 + pill, data = fertil3, subset = (is.na(pe_2) == FALSE))\n",
    "anova(lm.10.4.2, lm.10.4.2res2)"
   ]
  },
  {
   "cell_type": "code",
   "execution_count": 8,
   "metadata": {},
   "outputs": [
    {
     "data": {
      "text/plain": [
       "\n",
       "Call:\n",
       "lm(formula = gfr ~ pe + I(pe_1 - pe) + I(pe_2 - pe_1) + ww2 + \n",
       "    pill, data = fertil3)\n",
       "\n",
       "Residuals:\n",
       "     Min       1Q   Median       3Q      Max \n",
       "-24.6461  -9.5409  -0.0312   8.3378  29.1295 \n",
       "\n",
       "Coefficients:\n",
       "                Estimate Std. Error t value Pr(>|t|)    \n",
       "(Intercept)     95.87050    3.28196  29.211  < 2e-16 ***\n",
       "pe               0.10072    0.02980   3.380  0.00124 ** \n",
       "I(pe_1 - pe)     0.02805    0.11890   0.236  0.81427    \n",
       "I(pe_2 - pe_1)   0.03383    0.12626   0.268  0.78962    \n",
       "ww2            -22.12650   10.73197  -2.062  0.04330 *  \n",
       "pill           -31.30499    3.98156  -7.862 5.63e-11 ***\n",
       "---\n",
       "Signif. codes:  0 ‘***’ 0.001 ‘**’ 0.01 ‘*’ 0.05 ‘.’ 0.1 ‘ ’ 1\n",
       "\n",
       "Residual standard error: 14.27 on 64 degrees of freedom\n",
       "  (2 observations deleted due to missingness)\n",
       "Multiple R-squared:  0.4986,\tAdjusted R-squared:  0.4594 \n",
       "F-statistic: 12.73 on 5 and 64 DF,  p-value: 1.353e-08\n"
      ]
     },
     "metadata": {},
     "output_type": "display_data"
    }
   ],
   "source": [
    "# Standard error of the long run propensity\n",
    "summary(lm(gfr ~ pe + I(pe_1 - pe) + I(pe_2 - pe_1) + ww2 + pill, data = fertil3))"
   ]
  },
  {
   "cell_type": "code",
   "execution_count": null,
   "metadata": {},
   "outputs": [],
   "source": []
  },
  {
   "cell_type": "markdown",
   "metadata": {},
   "source": [
    "# Example 10.5"
   ]
  },
  {
   "cell_type": "code",
   "execution_count": 9,
   "metadata": {},
   "outputs": [
    {
     "data": {
      "text/plain": [
       "\n",
       "Call:\n",
       "lm(formula = lchnimp ~ lchempi + lgas + lrtwex + befile6 + affile6 + \n",
       "    afdec6, data = barium)\n",
       "\n",
       "Residuals:\n",
       "     Min       1Q   Median       3Q      Max \n",
       "-2.03356 -0.39080  0.03048  0.40248  1.51719 \n",
       "\n",
       "Coefficients:\n",
       "             Estimate Std. Error t value Pr(>|t|)    \n",
       "(Intercept) -17.80300   21.04537  -0.846   0.3992    \n",
       "lchempi       3.11719    0.47920   6.505 1.72e-09 ***\n",
       "lgas          0.19635    0.90662   0.217   0.8289    \n",
       "lrtwex        0.98302    0.40015   2.457   0.0154 *  \n",
       "befile6       0.05957    0.26097   0.228   0.8198    \n",
       "affile6      -0.03241    0.26430  -0.123   0.9026    \n",
       "afdec6       -0.56524    0.28584  -1.978   0.0502 .  \n",
       "---\n",
       "Signif. codes:  0 ‘***’ 0.001 ‘**’ 0.01 ‘*’ 0.05 ‘.’ 0.1 ‘ ’ 1\n",
       "\n",
       "Residual standard error: 0.5974 on 124 degrees of freedom\n",
       "Multiple R-squared:  0.3049,\tAdjusted R-squared:  0.2712 \n",
       "F-statistic: 9.064 on 6 and 124 DF,  p-value: 3.255e-08\n"
      ]
     },
     "metadata": {},
     "output_type": "display_data"
    }
   ],
   "source": [
    "# Example 10.5\n",
    "\n",
    "data(\"barium\")\n",
    "\n",
    "lm.10.5 <- lm(lchnimp ~ lchempi + lgas + lrtwex + befile6 + affile6 + afdec6, data = barium)\n",
    "summary(lm.10.5)"
   ]
  },
  {
   "cell_type": "code",
   "execution_count": null,
   "metadata": {},
   "outputs": [],
   "source": []
  },
  {
   "cell_type": "markdown",
   "metadata": {},
   "source": [
    "# Example 10.6\n"
   ]
  },
  {
   "cell_type": "code",
   "execution_count": 10,
   "metadata": {},
   "outputs": [
    {
     "data": {
      "text/plain": [
       "\n",
       "Call:\n",
       "lm(formula = demvote ~ partyWH + incum + I(partyWH * gnews) + \n",
       "    I(partyWH * inf), data = fair)\n",
       "\n",
       "Residuals:\n",
       "      Min        1Q    Median        3Q       Max \n",
       "-0.059843 -0.035554 -0.001095  0.015049  0.104859 \n",
       "\n",
       "Coefficients:\n",
       "                    Estimate Std. Error t value Pr(>|t|)    \n",
       "(Intercept)         0.484219   0.011472  42.210   <2e-16 ***\n",
       "partyWH            -0.032380   0.037550  -0.862   0.4013    \n",
       "incum               0.056369   0.023017   2.449   0.0262 *  \n",
       "I(partyWH * gnews)  0.009666   0.003807   2.539   0.0219 *  \n",
       "I(partyWH * inf)   -0.008338   0.003121  -2.672   0.0167 *  \n",
       "---\n",
       "Signif. codes:  0 ‘***’ 0.001 ‘**’ 0.01 ‘*’ 0.05 ‘.’ 0.1 ‘ ’ 1\n",
       "\n",
       "Residual standard error: 0.049 on 16 degrees of freedom\n",
       "Multiple R-squared:  0.6588,\tAdjusted R-squared:  0.5735 \n",
       "F-statistic: 7.725 on 4 and 16 DF,  p-value: 0.001151\n"
      ]
     },
     "metadata": {},
     "output_type": "display_data"
    }
   ],
   "source": [
    "# Example 10.6\n",
    "\n",
    "data(\"fair\")\n",
    "\n",
    "lm.10.6 <- lm(demvote ~ partyWH + incum + I(partyWH*gnews) + I(partyWH*inf), data = fair)\n",
    "summary(lm.10.6)"
   ]
  },
  {
   "cell_type": "markdown",
   "metadata": {},
   "source": [
    "Slightly different results since the book uses 20 observations to 1992. But the results are the same when we drop the last observation."
   ]
  },
  {
   "cell_type": "code",
   "execution_count": 11,
   "metadata": {},
   "outputs": [
    {
     "data": {
      "text/plain": [
       "\n",
       "Call:\n",
       "lm(formula = demvote ~ partyWH + incum + I(partyWH * gnews) + \n",
       "    I(partyWH * inf), data = fair, subset = (year != 1996))\n",
       "\n",
       "Residuals:\n",
       "      Min        1Q    Median        3Q       Max \n",
       "-0.059643 -0.036072 -0.005397  0.018386  0.102723 \n",
       "\n",
       "Coefficients:\n",
       "                    Estimate Std. Error t value Pr(>|t|)    \n",
       "(Intercept)         0.481062   0.012263  39.228   <2e-16 ***\n",
       "partyWH            -0.043475   0.040459  -1.075   0.2996    \n",
       "incum               0.054390   0.023417   2.323   0.0347 *  \n",
       "I(partyWH * gnews)  0.010847   0.004127   2.628   0.0190 *  \n",
       "I(partyWH * inf)   -0.007702   0.003257  -2.365   0.0319 *  \n",
       "---\n",
       "Signif. codes:  0 ‘***’ 0.001 ‘**’ 0.01 ‘*’ 0.05 ‘.’ 0.1 ‘ ’ 1\n",
       "\n",
       "Residual standard error: 0.04957 on 15 degrees of freedom\n",
       "Multiple R-squared:  0.6629,\tAdjusted R-squared:  0.573 \n",
       "F-statistic: 7.374 on 4 and 15 DF,  p-value: 0.001716\n"
      ]
     },
     "metadata": {},
     "output_type": "display_data"
    }
   ],
   "source": [
    "lm.10.6 <- lm(demvote ~ partyWH + incum + I(partyWH * gnews) + I(partyWH * inf), data = fair, subset = (year != 1996))\n",
    "summary(lm.10.6)"
   ]
  },
  {
   "cell_type": "markdown",
   "metadata": {},
   "source": [
    "# Example 10.7\n"
   ]
  },
  {
   "cell_type": "code",
   "execution_count": 12,
   "metadata": {},
   "outputs": [
    {
     "data": {
      "text/plain": [
       "\n",
       "Call:\n",
       "lm(formula = linvpc ~ lprice, data = hseinv)\n",
       "\n",
       "Residuals:\n",
       "     Min       1Q   Median       3Q      Max \n",
       "-0.45991 -0.08694 -0.01264  0.08651  0.34672 \n",
       "\n",
       "Coefficients:\n",
       "            Estimate Std. Error t value Pr(>|t|)    \n",
       "(Intercept) -0.55023    0.04303 -12.788 1.03e-15 ***\n",
       "lprice       1.24094    0.38242   3.245  0.00238 ** \n",
       "---\n",
       "Signif. codes:  0 ‘***’ 0.001 ‘**’ 0.01 ‘*’ 0.05 ‘.’ 0.1 ‘ ’ 1\n",
       "\n",
       "Residual standard error: 0.1554 on 40 degrees of freedom\n",
       "Multiple R-squared:  0.2084,\tAdjusted R-squared:  0.1886 \n",
       "F-statistic: 10.53 on 1 and 40 DF,  p-value: 0.002376\n"
      ]
     },
     "metadata": {},
     "output_type": "display_data"
    }
   ],
   "source": [
    "# Example 10.7\n",
    "\n",
    "data(\"hseinv\")\n",
    "\n",
    "lm.10.7.1 <- lm(linvpc ~ lprice, data = hseinv)\n",
    "summary(lm.10.7.1)"
   ]
  },
  {
   "cell_type": "markdown",
   "metadata": {},
   "source": [
    "Add a time trend"
   ]
  },
  {
   "cell_type": "code",
   "execution_count": 13,
   "metadata": {},
   "outputs": [
    {
     "data": {
      "text/plain": [
       "\n",
       "Call:\n",
       "lm(formula = linvpc ~ lprice + t, data = hseinv)\n",
       "\n",
       "Residuals:\n",
       "     Min       1Q   Median       3Q      Max \n",
       "-0.45092 -0.08583 -0.01734  0.08517  0.26024 \n",
       "\n",
       "Coefficients:\n",
       "             Estimate Std. Error t value Pr(>|t|)    \n",
       "(Intercept) -0.913060   0.135613  -6.733    5e-08 ***\n",
       "lprice      -0.380961   0.678835  -0.561  0.57787    \n",
       "t            0.009829   0.003512   2.798  0.00794 ** \n",
       "---\n",
       "Signif. codes:  0 ‘***’ 0.001 ‘**’ 0.01 ‘*’ 0.05 ‘.’ 0.1 ‘ ’ 1\n",
       "\n",
       "Residual standard error: 0.1436 on 39 degrees of freedom\n",
       "Multiple R-squared:  0.3408,\tAdjusted R-squared:  0.307 \n",
       "F-statistic: 10.08 on 2 and 39 DF,  p-value: 0.000296\n"
      ]
     },
     "metadata": {},
     "output_type": "display_data"
    }
   ],
   "source": [
    "lm.10.7.2 <- lm(linvpc ~ lprice + t, data = hseinv)\n",
    "summary(lm.10.7.2)"
   ]
  },
  {
   "cell_type": "code",
   "execution_count": null,
   "metadata": {},
   "outputs": [],
   "source": []
  },
  {
   "cell_type": "markdown",
   "metadata": {},
   "source": [
    "# Example 10.8"
   ]
  },
  {
   "cell_type": "code",
   "execution_count": 14,
   "metadata": {},
   "outputs": [
    {
     "data": {
      "text/plain": [
       "\n",
       "Call:\n",
       "lm(formula = gfr ~ pe + ww2 + pill + t, data = fertil3)\n",
       "\n",
       "Residuals:\n",
       "     Min       1Q   Median       3Q      Max \n",
       "-24.6418  -8.4574   0.2445   9.3819  17.2837 \n",
       "\n",
       "Coefficients:\n",
       "             Estimate Std. Error t value Pr(>|t|)    \n",
       "(Intercept) 111.76943    3.35777  33.287  < 2e-16 ***\n",
       "pe            0.27888    0.04002   6.968 1.72e-09 ***\n",
       "ww2         -35.59228    6.29738  -5.652 3.53e-07 ***\n",
       "pill          0.99745    6.26163   0.159    0.874    \n",
       "t            -1.14987    0.18790  -6.119 5.49e-08 ***\n",
       "---\n",
       "Signif. codes:  0 ‘***’ 0.001 ‘**’ 0.01 ‘*’ 0.05 ‘.’ 0.1 ‘ ’ 1\n",
       "\n",
       "Residual standard error: 11.85 on 67 degrees of freedom\n",
       "Multiple R-squared:  0.6622,\tAdjusted R-squared:  0.642 \n",
       "F-statistic: 32.84 on 4 and 67 DF,  p-value: 3.756e-15\n"
      ]
     },
     "metadata": {},
     "output_type": "display_data"
    }
   ],
   "source": [
    "# Example 10.8\n",
    "\n",
    "data(\"fertil3\")\n",
    "\n",
    "lm.10.8.1 <- lm(gfr ~ pe + ww2 + pill + t, data = fertil3)\n",
    "summary(lm.10.8.1)"
   ]
  },
  {
   "cell_type": "code",
   "execution_count": 15,
   "metadata": {},
   "outputs": [
    {
     "data": {
      "text/plain": [
       "\n",
       "Call:\n",
       "lm(formula = gfr ~ pe + ww2 + pill + t + tsq, data = fertil3)\n",
       "\n",
       "Residuals:\n",
       "     Min       1Q   Median       3Q      Max \n",
       "-25.9791  -6.9775  -0.2713   7.7975  19.9861 \n",
       "\n",
       "Coefficients:\n",
       "              Estimate Std. Error t value Pr(>|t|)    \n",
       "(Intercept) 124.091935   4.360738  28.457  < 2e-16 ***\n",
       "pe            0.347813   0.040260   8.639 1.91e-12 ***\n",
       "ww2         -35.880277   5.707921  -6.286 2.95e-08 ***\n",
       "pill        -10.119723   6.336094  -1.597 0.115008    \n",
       "t            -2.531426   0.389386  -6.501 1.24e-08 ***\n",
       "tsq           0.019613   0.004971   3.945 0.000196 ***\n",
       "---\n",
       "Signif. codes:  0 ‘***’ 0.001 ‘**’ 0.01 ‘*’ 0.05 ‘.’ 0.1 ‘ ’ 1\n",
       "\n",
       "Residual standard error: 10.74 on 66 degrees of freedom\n",
       "Multiple R-squared:  0.7267,\tAdjusted R-squared:  0.706 \n",
       "F-statistic: 35.09 on 5 and 66 DF,  p-value: < 2.2e-16\n"
      ]
     },
     "metadata": {},
     "output_type": "display_data"
    }
   ],
   "source": [
    "lm.10.8.2 <- lm(gfr ~ pe + ww2 + pill + t + tsq, data = fertil3)\n",
    "summary(lm.10.8.2)"
   ]
  },
  {
   "cell_type": "markdown",
   "metadata": {},
   "source": [
    "# Example 10.9"
   ]
  },
  {
   "cell_type": "code",
   "execution_count": null,
   "metadata": {},
   "outputs": [],
   "source": []
  },
  {
   "cell_type": "code",
   "execution_count": 16,
   "metadata": {},
   "outputs": [
    {
     "data": {
      "text/plain": [
       "\n",
       "Call:\n",
       "lm(formula = lprepop ~ lmincov + lusgnp + t, data = prminwge)\n",
       "\n",
       "Residuals:\n",
       "      Min        1Q    Median        3Q       Max \n",
       "-0.049493 -0.024425 -0.009596  0.017055  0.086354 \n",
       "\n",
       "Coefficients:\n",
       "             Estimate Std. Error t value Pr(>|t|)    \n",
       "(Intercept) -8.696298   1.295764  -6.711 1.04e-07 ***\n",
       "lmincov     -0.168695   0.044246  -3.813 0.000552 ***\n",
       "lusgnp       1.057351   0.176637   5.986 8.98e-07 ***\n",
       "t           -0.032354   0.005023  -6.442 2.31e-07 ***\n",
       "---\n",
       "Signif. codes:  0 ‘***’ 0.001 ‘**’ 0.01 ‘*’ 0.05 ‘.’ 0.1 ‘ ’ 1\n",
       "\n",
       "Residual standard error: 0.03793 on 34 degrees of freedom\n",
       "Multiple R-squared:  0.8471,\tAdjusted R-squared:  0.8336 \n",
       "F-statistic: 62.78 on 3 and 34 DF,  p-value: 6.007e-14\n"
      ]
     },
     "metadata": {},
     "output_type": "display_data"
    }
   ],
   "source": [
    "# Example 10.9\n",
    "\n",
    "data(\"prminwge\")\n",
    "\n",
    "lm.10.9 <- lm(lprepop ~ lmincov + lusgnp + t, data = prminwge)\n",
    "summary(lm.10.9)"
   ]
  },
  {
   "cell_type": "code",
   "execution_count": null,
   "metadata": {},
   "outputs": [],
   "source": []
  },
  {
   "cell_type": "code",
   "execution_count": 17,
   "metadata": {},
   "outputs": [
    {
     "data": {
      "text/plain": [
       "\n",
       "Call:\n",
       "lm(formula = lprepop.detrend ~ lmincov.detrend + lusgnp.detrend - \n",
       "    1)\n",
       "\n",
       "Residuals:\n",
       "      Min        1Q    Median        3Q       Max \n",
       "-0.049493 -0.024425 -0.009596  0.017055  0.086354 \n",
       "\n",
       "Coefficients:\n",
       "                Estimate Std. Error t value Pr(>|t|)    \n",
       "lmincov.detrend  -0.1687     0.0430  -3.923 0.000377 ***\n",
       "lusgnp.detrend    1.0574     0.1717   6.160 4.26e-07 ***\n",
       "---\n",
       "Signif. codes:  0 ‘***’ 0.001 ‘**’ 0.01 ‘*’ 0.05 ‘.’ 0.1 ‘ ’ 1\n",
       "\n",
       "Residual standard error: 0.03686 on 36 degrees of freedom\n",
       "Multiple R-squared:  0.5327,\tAdjusted R-squared:  0.5067 \n",
       "F-statistic: 20.52 on 2 and 36 DF,  p-value: 1.129e-06\n"
      ]
     },
     "metadata": {},
     "output_type": "display_data"
    }
   ],
   "source": [
    "# Obtain results by detrending\n",
    "lprepop.detrend <- lm(lprepop ~ t, data = prminwge)$resid\n",
    "lmincov.detrend <- lm(lmincov ~ t, data = prminwge)$resid\n",
    "lusgnp.detrend <- lm(lusgnp ~ t, data = prminwge)$resid\n",
    "\n",
    "summary(lm(lprepop.detrend ~ lmincov.detrend + lusgnp.detrend - 1))"
   ]
  },
  {
   "cell_type": "code",
   "execution_count": null,
   "metadata": {},
   "outputs": [],
   "source": []
  },
  {
   "cell_type": "markdown",
   "metadata": {},
   "source": [
    "# Example 10.10"
   ]
  },
  {
   "cell_type": "code",
   "execution_count": 20,
   "metadata": {},
   "outputs": [
    {
     "data": {
      "text/plain": [
       "\n",
       "Call:\n",
       "lm(formula = dtr.linvpc ~ lprice + t, data = hseinv)\n",
       "\n",
       "Residuals:\n",
       "     Min       1Q   Median       3Q      Max \n",
       "-0.45092 -0.08583 -0.01734  0.08517  0.26024 \n",
       "\n",
       "Coefficients:\n",
       "             Estimate Std. Error t value Pr(>|t|)\n",
       "(Intercept) -0.071768   0.135613  -0.529    0.600\n",
       "lprice      -0.380961   0.678835  -0.561    0.578\n",
       "t            0.001683   0.003512   0.479    0.635\n",
       "\n",
       "Residual standard error: 0.1436 on 39 degrees of freedom\n",
       "Multiple R-squared:  0.008011,\tAdjusted R-squared:  -0.04286 \n",
       "F-statistic: 0.1575 on 2 and 39 DF,  p-value: 0.8548\n"
      ]
     },
     "metadata": {},
     "output_type": "display_data"
    }
   ],
   "source": [
    "# Example 10.10\n",
    "\n",
    "data(\"hseinv\")\n",
    "\n",
    "dtr.linvpc <- lm(linvpc ~ t, data = hseinv)$resid\n",
    "\n",
    "summary(lm(dtr.linvpc ~ lprice + t, data = hseinv))"
   ]
  },
  {
   "cell_type": "code",
   "execution_count": null,
   "metadata": {},
   "outputs": [],
   "source": []
  },
  {
   "cell_type": "markdown",
   "metadata": {},
   "source": [
    "# Example 10.11"
   ]
  },
  {
   "cell_type": "code",
   "execution_count": 21,
   "metadata": {},
   "outputs": [
    {
     "data": {
      "text/html": [
       "<table>\n",
       "<thead><tr><th scope=col>Res.Df</th><th scope=col>RSS</th><th scope=col>Df</th><th scope=col>Sum of Sq</th><th scope=col>F</th><th scope=col>Pr(&gt;F)</th></tr></thead>\n",
       "<tbody>\n",
       "\t<tr><td>113      </td><td>40.84390 </td><td> NA      </td><td>       NA</td><td>       NA</td><td>       NA</td></tr>\n",
       "\t<tr><td>124      </td><td>44.24709 </td><td>-11      </td><td>-3.403192</td><td>0.8559433</td><td>0.5852008</td></tr>\n",
       "</tbody>\n",
       "</table>\n"
      ],
      "text/latex": [
       "\\begin{tabular}{r|llllll}\n",
       " Res.Df & RSS & Df & Sum of Sq & F & Pr(>F)\\\\\n",
       "\\hline\n",
       "\t 113       & 40.84390  &  NA       &        NA &        NA &        NA\\\\\n",
       "\t 124       & 44.24709  & -11       & -3.403192 & 0.8559433 & 0.5852008\\\\\n",
       "\\end{tabular}\n"
      ],
      "text/markdown": [
       "\n",
       "Res.Df | RSS | Df | Sum of Sq | F | Pr(>F) | \n",
       "|---|---|\n",
       "| 113       | 40.84390  |  NA       |        NA |        NA |        NA | \n",
       "| 124       | 44.24709  | -11       | -3.403192 | 0.8559433 | 0.5852008 | \n",
       "\n",
       "\n"
      ],
      "text/plain": [
       "  Res.Df RSS      Df  Sum of Sq F         Pr(>F)   \n",
       "1 113    40.84390  NA        NA        NA        NA\n",
       "2 124    44.24709 -11 -3.403192 0.8559433 0.5852008"
      ]
     },
     "metadata": {},
     "output_type": "display_data"
    }
   ],
   "source": [
    "# Example 10.11\n",
    "\n",
    "data(\"barium\")\n",
    "\n",
    "lm.10.11 <- lm(lchnimp ~ lchempi + lgas + lrtwex + befile6 + affile6 + afdec6 +\n",
    " feb + mar + apr + may + jun + jul + aug + sep + oct + nov + dec, data = barium)\n",
    "lm.10.11res <- lm(lchnimp ~ lchempi + lgas + lrtwex + befile6 + affile6 + afdec6, data = barium)\n",
    "\n",
    "anova(lm.10.11, lm.10.11res)"
   ]
  },
  {
   "cell_type": "code",
   "execution_count": null,
   "metadata": {},
   "outputs": [],
   "source": []
  },
  {
   "cell_type": "code",
   "execution_count": 22,
   "metadata": {},
   "outputs": [
    {
     "name": "stdout",
     "output_type": "stream",
     "text": [
      "\n",
      "======================================================================\n",
      "                                   Dependent variable:                \n",
      "                    --------------------------------------------------\n",
      "                                         lchnimp                      \n",
      "                               (1)                      (2)           \n",
      "----------------------------------------------------------------------\n",
      "lchempi               3.26506*** (0.49293)      3.11719*** (0.47920)  \n",
      "lgas                   -1.27812 (1.38901)        0.19635 (0.90662)    \n",
      "lrtwex                  0.66305 (0.47130)       0.98302** (0.40015)   \n",
      "befile6                 0.13970 (0.26681)        0.05957 (0.26097)    \n",
      "affile6                 0.01263 (0.27869)        -0.03241 (0.26430)   \n",
      "afdec6                 -0.52130* (0.30195)      -0.56524* (0.28584)   \n",
      "feb                    -0.41771 (0.30444)                             \n",
      "mar                     0.05905 (0.26473)                             \n",
      "apr                    -0.45148* (0.26839)                            \n",
      "may                     0.03331 (0.26924)                             \n",
      "jun                    -0.20633 (0.26925)                             \n",
      "jul                     0.00384 (0.27877)                             \n",
      "aug                    -0.15707 (0.27799)                             \n",
      "sep                    -0.13416 (0.26766)                             \n",
      "oct                     0.05169 (0.26685)                             \n",
      "nov                    -0.24626 (0.26283)                             \n",
      "dec                     0.13284 (0.27142)                             \n",
      "Constant               16.77877 (32.42865)      -17.80300 (21.04537)  \n",
      "----------------------------------------------------------------------\n",
      "Observations                   131                      131           \n",
      "R2                           0.35833                  0.30486         \n",
      "Adjusted R2                  0.26179                  0.27123         \n",
      "Residual Std. Error    0.60121 (df = 113)        0.59735 (df = 124)   \n",
      "F Statistic         3.71190*** (df = 17; 113) 9.06365*** (df = 6; 124)\n",
      "======================================================================\n",
      "Note:                                      *p<0.1; **p<0.05; ***p<0.01\n"
     ]
    }
   ],
   "source": [
    "stargazer(type = \"text\",\n",
    "          lm.10.11, \n",
    "          lm.10.11res,  \n",
    "          single.row = TRUE, header = FALSE, digits=5)"
   ]
  },
  {
   "cell_type": "code",
   "execution_count": null,
   "metadata": {},
   "outputs": [],
   "source": []
  },
  {
   "cell_type": "code",
   "execution_count": null,
   "metadata": {},
   "outputs": [],
   "source": []
  },
  {
   "cell_type": "code",
   "execution_count": null,
   "metadata": {},
   "outputs": [],
   "source": []
  },
  {
   "cell_type": "code",
   "execution_count": null,
   "metadata": {},
   "outputs": [],
   "source": []
  },
  {
   "cell_type": "code",
   "execution_count": null,
   "metadata": {},
   "outputs": [],
   "source": []
  }
 ],
 "metadata": {
  "kernelspec": {
   "display_name": "R",
   "language": "R",
   "name": "ir"
  },
  "language_info": {
   "codemirror_mode": "r",
   "file_extension": ".r",
   "mimetype": "text/x-r-source",
   "name": "R",
   "pygments_lexer": "r",
   "version": "3.5.1"
  }
 },
 "nbformat": 4,
 "nbformat_minor": 2
}
