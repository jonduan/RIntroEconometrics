{
 "cells": [
  {
   "cell_type": "code",
   "execution_count": 2,
   "metadata": {
    "ExecuteTime": {
     "end_time": "2018-12-03T03:47:16.617019Z",
     "start_time": "2018-12-03T03:47:16.535Z"
    }
   },
   "outputs": [
    {
     "name": "stderr",
     "output_type": "stream",
     "text": [
      "\n",
      "Please cite as: \n",
      "\n",
      " Hlavac, Marek (2018). stargazer: Well-Formatted Regression and Summary Statistics Tables.\n",
      " R package version 5.2.2. https://CRAN.R-project.org/package=stargazer \n",
      "\n"
     ]
    }
   ],
   "source": [
    "library(wooldridge)\n",
    "library(stargazer)\n",
    "library(knitr)"
   ]
  },
  {
   "cell_type": "code",
   "execution_count": 26,
   "metadata": {},
   "outputs": [
    {
     "name": "stderr",
     "output_type": "stream",
     "text": [
      "Installing package into ‘/home/jupyter/R/x86_64-pc-linux-gnu-library/3.5’\n",
      "(as ‘lib’ is unspecified)\n",
      "also installing the dependency ‘XML’\n",
      "\n",
      "\n",
      "pdfetch installed\n"
     ]
    }
   ],
   "source": [
    "pacman::p_load(wooldridge,stargazer,broom,tidyverse,ggplot2,\n",
    "               dplyr,tidyr,moderndive,jtools,sjPlot,dotwhisker,FSA,\n",
    "               car,QuantPsyc,\n",
    "              pdfetch,zoo,dynlm)"
   ]
  },
  {
   "cell_type": "code",
   "execution_count": 25,
   "metadata": {},
   "outputs": [
    {
     "ename": "ERROR",
     "evalue": "Error in library(pdfetch): there is no package called ‘pdfetch’\n",
     "output_type": "error",
     "traceback": [
      "Error in library(pdfetch): there is no package called ‘pdfetch’\nTraceback:\n",
      "1. library(pdfetch)",
      "2. stop(txt, domain = NA)"
     ]
    }
   ],
   "source": [
    "# Add names of group members HERE\n",
    "library(tidyverse)\n",
    "library(wooldridge)\n",
    "library(broom)\n",
    "library(car)\n",
    "library(pdfetch)\n",
    "library(zoo)\n",
    "library(dynlm)\n",
    "library(magrittr)"
   ]
  },
  {
   "cell_type": "code",
   "execution_count": null,
   "metadata": {},
   "outputs": [],
   "source": []
  },
  {
   "cell_type": "markdown",
   "metadata": {},
   "source": [
    "# Example 10.1"
   ]
  },
  {
   "cell_type": "code",
   "execution_count": 2,
   "metadata": {},
   "outputs": [
    {
     "data": {
      "text/plain": [
       "\n",
       "Call:\n",
       "lm(formula = inf ~ unem, data = phillips)\n",
       "\n",
       "Residuals:\n",
       "    Min      1Q  Median      3Q     Max \n",
       "-5.2176 -1.7812 -0.6659  1.1473  8.8795 \n",
       "\n",
       "Coefficients:\n",
       "            Estimate Std. Error t value Pr(>|t|)  \n",
       "(Intercept)   1.0536     1.5480   0.681   0.4990  \n",
       "unem          0.5024     0.2656   1.892   0.0639 .\n",
       "---\n",
       "Signif. codes:  0 ‘***’ 0.001 ‘**’ 0.01 ‘*’ 0.05 ‘.’ 0.1 ‘ ’ 1\n",
       "\n",
       "Residual standard error: 2.972 on 54 degrees of freedom\n",
       "Multiple R-squared:  0.06215,\tAdjusted R-squared:  0.04479 \n",
       "F-statistic: 3.579 on 1 and 54 DF,  p-value: 0.06389\n"
      ]
     },
     "metadata": {},
     "output_type": "display_data"
    }
   ],
   "source": [
    "\n",
    "\n",
    "data(\"phillips\")\n",
    "\n",
    "lm.10.1 <- lm(inf ~ unem, data = phillips)\n",
    "summary(lm.10.1)"
   ]
  },
  {
   "cell_type": "code",
   "execution_count": null,
   "metadata": {},
   "outputs": [],
   "source": []
  },
  {
   "cell_type": "code",
   "execution_count": null,
   "metadata": {},
   "outputs": [],
   "source": []
  },
  {
   "cell_type": "markdown",
   "metadata": {},
   "source": [
    "# Example 10.2: Effects of Inflation and Deficits on Interest Rates\n",
    "$$\\widehat{i3} = \\beta_0 + \\beta_1inf_t + \\beta_2def_t$$ Data from the Economic Report of the President, 2004, Tables B-64, B-73, and B-79.\n",
    "\n"
   ]
  },
  {
   "cell_type": "code",
   "execution_count": null,
   "metadata": {},
   "outputs": [],
   "source": []
  },
  {
   "cell_type": "code",
   "execution_count": 4,
   "metadata": {
    "ExecuteTime": {
     "end_time": "2018-12-03T03:47:24.085217Z",
     "start_time": "2018-12-03T03:47:23.943Z"
    }
   },
   "outputs": [
    {
     "name": "stdout",
     "output_type": "stream",
     "text": [
      "\n",
      "===============================================\n",
      "                        Dependent variable:    \n",
      "                    ---------------------------\n",
      "                                i3             \n",
      "-----------------------------------------------\n",
      "inf                    0.60587*** (0.08213)    \n",
      "def                    0.51306*** (0.11838)    \n",
      "Constant               1.73327*** (0.43197)    \n",
      "-----------------------------------------------\n",
      "Observations                    56             \n",
      "R2                            0.60207          \n",
      "Adjusted R2                   0.58705          \n",
      "Residual Std. Error      1.84316 (df = 53)     \n",
      "F Statistic          40.09424*** (df = 2; 53)  \n",
      "===============================================\n",
      "Note:               *p<0.1; **p<0.05; ***p<0.01\n"
     ]
    }
   ],
   "source": [
    "data(\"intdef\")\n",
    "\n",
    "tbill_model <- lm(i3 ~ inf + def, data = intdef)\n",
    "stargazer(type = \"text\",tbill_model, single.row = TRUE, header = FALSE, digits=5)"
   ]
  },
  {
   "cell_type": "markdown",
   "metadata": {},
   "source": [
    "# Example 10.11: Seasonal Effects of Antidumping Filings\n",
    "C.M. Krupp and P.S. Pollard (1999), Market Responses to Antidumpting Laws: Some Evidence from the U.S. Chemical Industry, Canadian Journal of Economics 29, 199-227. Dr. Krupp kindly provided the data. They are monthly data covering February 1978 through December 1988."
   ]
  },
  {
   "cell_type": "code",
   "execution_count": null,
   "metadata": {},
   "outputs": [],
   "source": []
  },
  {
   "cell_type": "code",
   "execution_count": 5,
   "metadata": {
    "ExecuteTime": {
     "end_time": "2018-12-03T03:48:11.285556Z",
     "start_time": "2018-12-03T03:48:11.254Z"
    }
   },
   "outputs": [],
   "source": [
    "data(\"barium\")\n",
    "barium_imports <- lm(lchnimp ~ lchempi + lgas + lrtwex + befile6 + affile6 + afdec6, data = barium)"
   ]
  },
  {
   "cell_type": "code",
   "execution_count": 6,
   "metadata": {
    "ExecuteTime": {
     "end_time": "2018-12-03T03:48:28.189695Z",
     "start_time": "2018-12-03T03:48:28.169Z"
    }
   },
   "outputs": [],
   "source": [
    "# Estimate a new model, barium_seasonal which accounts for seasonality by adding dummy variables contained in the data.\n",
    "\n",
    "barium_seasonal <- lm(lchnimp ~ lchempi + lgas + lrtwex + befile6 + affile6 + afdec6 + feb + mar + apr + may + jun + jul + aug + sep + oct + nov + dec, data = barium)"
   ]
  },
  {
   "cell_type": "code",
   "execution_count": 7,
   "metadata": {
    "ExecuteTime": {
     "end_time": "2018-12-03T03:48:43.208109Z",
     "start_time": "2018-12-03T03:48:42.931Z"
    }
   },
   "outputs": [
    {
     "name": "stdout",
     "output_type": "stream",
     "text": [
      "\n",
      "======================================================================\n",
      "                                   Dependent variable:                \n",
      "                    --------------------------------------------------\n",
      "                                         lchnimp                      \n",
      "                              (1)                       (2)           \n",
      "----------------------------------------------------------------------\n",
      "lchempi               3.11719*** (0.47920)     3.26506*** (0.49293)   \n",
      "lgas                   0.19635 (0.90662)        -1.27812 (1.38901)    \n",
      "lrtwex                0.98302** (0.40015)        0.66305 (0.47130)    \n",
      "befile6                0.05957 (0.26097)         0.13970 (0.26681)    \n",
      "affile6                -0.03241 (0.26430)        0.01263 (0.27869)    \n",
      "afdec6                -0.56524* (0.28584)       -0.52130* (0.30195)   \n",
      "feb                                             -0.41771 (0.30444)    \n",
      "mar                                              0.05905 (0.26473)    \n",
      "apr                                             -0.45148* (0.26839)   \n",
      "may                                              0.03331 (0.26924)    \n",
      "jun                                             -0.20633 (0.26925)    \n",
      "jul                                              0.00384 (0.27877)    \n",
      "aug                                             -0.15707 (0.27799)    \n",
      "sep                                             -0.13416 (0.26766)    \n",
      "oct                                              0.05169 (0.26685)    \n",
      "nov                                             -0.24626 (0.26283)    \n",
      "dec                                              0.13284 (0.27142)    \n",
      "Constant              -17.80300 (21.04537)      16.77877 (32.42865)   \n",
      "----------------------------------------------------------------------\n",
      "Observations                  131                       131           \n",
      "R2                          0.30486                   0.35833         \n",
      "Adjusted R2                 0.27123                   0.26179         \n",
      "Residual Std. Error    0.59735 (df = 124)       0.60121 (df = 113)    \n",
      "F Statistic         9.06365*** (df = 6; 124) 3.71190*** (df = 17; 113)\n",
      "======================================================================\n",
      "Note:                                      *p<0.1; **p<0.05; ***p<0.01\n"
     ]
    }
   ],
   "source": [
    "stargazer(type = \"text\",barium_imports, barium_seasonal,  single.row = TRUE, header = FALSE, digits=5)"
   ]
  },
  {
   "cell_type": "code",
   "execution_count": 8,
   "metadata": {
    "ExecuteTime": {
     "end_time": "2018-12-03T03:48:54.960233Z",
     "start_time": "2018-12-03T03:48:54.829Z"
    }
   },
   "outputs": [
    {
     "name": "stdout",
     "output_type": "stream",
     "text": [
      "\n",
      "==================================================================\n",
      "Statistic N   Mean    St. Dev.   Min    Pctl(25) Pctl(75)   Max   \n",
      "------------------------------------------------------------------\n",
      "Res.Df    2 118.50000 7.77817    113     115.8    121.2     124   \n",
      "RSS       2 42.54549  2.40642  40.84390 41.69469 43.39629 44.24709\n",
      "Df        1 11.00000           11.00000 11.00000 11.00000 11.00000\n",
      "Sum of Sq 1  3.40319           3.40319  3.40319  3.40319  3.40319 \n",
      "F         1  0.85594           0.85594  0.85594  0.85594  0.85594 \n",
      "Pr(> F)   1  0.58520           0.58520  0.58520  0.58520  0.58520 \n",
      "------------------------------------------------------------------\n"
     ]
    }
   ],
   "source": [
    "# Now, compute the anova between the two models.\n",
    "\n",
    "barium_anova <- anova(barium_imports, barium_seasonal)\n",
    "stargazer(type = \"text\",barium_anova,  single.row = TRUE, header = FALSE, digits=5)"
   ]
  },
  {
   "cell_type": "code",
   "execution_count": null,
   "metadata": {},
   "outputs": [],
   "source": []
  },
  {
   "cell_type": "markdown",
   "metadata": {},
   "source": [
    "# Example 10.3"
   ]
  },
  {
   "cell_type": "code",
   "execution_count": 3,
   "metadata": {},
   "outputs": [
    {
     "data": {
      "text/plain": [
       "\n",
       "Call:\n",
       "lm(formula = lprepop ~ lmincov + lusgnp, data = prminwge)\n",
       "\n",
       "Residuals:\n",
       "      Min        1Q    Median        3Q       Max \n",
       "-0.117133 -0.036998 -0.005943  0.028182  0.113938 \n",
       "\n",
       "Coefficients:\n",
       "            Estimate Std. Error t value Pr(>|t|)  \n",
       "(Intercept) -1.05442    0.76541  -1.378   0.1771  \n",
       "lmincov     -0.15444    0.06490  -2.380   0.0229 *\n",
       "lusgnp      -0.01219    0.08851  -0.138   0.8913  \n",
       "---\n",
       "Signif. codes:  0 ‘***’ 0.001 ‘**’ 0.01 ‘*’ 0.05 ‘.’ 0.1 ‘ ’ 1\n",
       "\n",
       "Residual standard error: 0.0557 on 35 degrees of freedom\n",
       "Multiple R-squared:  0.6605,\tAdjusted R-squared:  0.6411 \n",
       "F-statistic: 34.04 on 2 and 35 DF,  p-value: 6.17e-09\n"
      ]
     },
     "metadata": {},
     "output_type": "display_data"
    }
   ],
   "source": [
    "\n",
    "\n",
    "data(\"prminwge\")\n",
    "\n",
    "lm.10.3 <- lm(lprepop ~ lmincov + lusgnp, data = prminwge)\n",
    "summary(lm.10.3)"
   ]
  },
  {
   "cell_type": "code",
   "execution_count": null,
   "metadata": {},
   "outputs": [],
   "source": []
  },
  {
   "cell_type": "markdown",
   "metadata": {},
   "source": [
    "# Example 10.4"
   ]
  },
  {
   "cell_type": "code",
   "execution_count": 4,
   "metadata": {},
   "outputs": [
    {
     "data": {
      "text/plain": [
       "\n",
       "Call:\n",
       "lm(formula = gfr ~ pe + ww2 + pill, data = fertil3)\n",
       "\n",
       "Residuals:\n",
       "     Min       1Q   Median       3Q      Max \n",
       "-27.0187  -9.6195   0.3393   9.4746  28.0730 \n",
       "\n",
       "Coefficients:\n",
       "             Estimate Std. Error t value Pr(>|t|)    \n",
       "(Intercept)  98.68176    3.20813  30.760  < 2e-16 ***\n",
       "pe            0.08254    0.02965   2.784  0.00694 ** \n",
       "ww2         -24.23840    7.45825  -3.250  0.00180 ** \n",
       "pill        -31.59403    4.08107  -7.742 6.46e-11 ***\n",
       "---\n",
       "Signif. codes:  0 ‘***’ 0.001 ‘**’ 0.01 ‘*’ 0.05 ‘.’ 0.1 ‘ ’ 1\n",
       "\n",
       "Residual standard error: 14.69 on 68 degrees of freedom\n",
       "Multiple R-squared:  0.4734,\tAdjusted R-squared:  0.4502 \n",
       "F-statistic: 20.38 on 3 and 68 DF,  p-value: 1.575e-09\n"
      ]
     },
     "metadata": {},
     "output_type": "display_data"
    }
   ],
   "source": [
    "\n",
    "\n",
    "data(\"fertil3\")\n",
    "\n",
    "lm.10.4.1 <- lm(gfr ~ pe + ww2 + pill, data = fertil3)\n",
    "summary(lm.10.4.1)"
   ]
  },
  {
   "cell_type": "code",
   "execution_count": 5,
   "metadata": {},
   "outputs": [
    {
     "data": {
      "text/plain": [
       "\n",
       "Call:\n",
       "lm(formula = gfr ~ pe + pe_1 + pe_2 + ww2 + pill, data = fertil3)\n",
       "\n",
       "Residuals:\n",
       "     Min       1Q   Median       3Q      Max \n",
       "-24.6461  -9.5409  -0.0312   8.3378  29.1295 \n",
       "\n",
       "Coefficients:\n",
       "             Estimate Std. Error t value Pr(>|t|)    \n",
       "(Intercept)  95.87050    3.28196  29.211  < 2e-16 ***\n",
       "pe            0.07267    0.12553   0.579   0.5647    \n",
       "pe_1         -0.00578    0.15566  -0.037   0.9705    \n",
       "pe_2          0.03383    0.12626   0.268   0.7896    \n",
       "ww2         -22.12650   10.73197  -2.062   0.0433 *  \n",
       "pill        -31.30499    3.98156  -7.862 5.63e-11 ***\n",
       "---\n",
       "Signif. codes:  0 ‘***’ 0.001 ‘**’ 0.01 ‘*’ 0.05 ‘.’ 0.1 ‘ ’ 1\n",
       "\n",
       "Residual standard error: 14.27 on 64 degrees of freedom\n",
       "  (2 observations deleted due to missingness)\n",
       "Multiple R-squared:  0.4986,\tAdjusted R-squared:  0.4594 \n",
       "F-statistic: 12.73 on 5 and 64 DF,  p-value: 1.353e-08\n"
      ]
     },
     "metadata": {},
     "output_type": "display_data"
    }
   ],
   "source": [
    "lm.10.4.2 <- lm(gfr ~ pe + pe_1 + pe_2 + ww2 + pill, data = fertil3)\n",
    "summary(lm.10.4.2)"
   ]
  },
  {
   "cell_type": "code",
   "execution_count": 6,
   "metadata": {},
   "outputs": [
    {
     "data": {
      "text/html": [
       "<table>\n",
       "<thead><tr><th scope=col>Res.Df</th><th scope=col>RSS</th><th scope=col>Df</th><th scope=col>Sum of Sq</th><th scope=col>F</th><th scope=col>Pr(&gt;F)</th></tr></thead>\n",
       "<tbody>\n",
       "\t<tr><td>64        </td><td>13032.64  </td><td>NA        </td><td>       NA </td><td>      NA  </td><td>        NA</td></tr>\n",
       "\t<tr><td>67        </td><td>15459.75  </td><td>-3        </td><td>-2427.104 </td><td>3.972964  </td><td>0.01165201</td></tr>\n",
       "</tbody>\n",
       "</table>\n"
      ],
      "text/latex": [
       "\\begin{tabular}{r|llllll}\n",
       " Res.Df & RSS & Df & Sum of Sq & F & Pr(>F)\\\\\n",
       "\\hline\n",
       "\t 64         & 13032.64   & NA         &        NA  &       NA   &         NA\\\\\n",
       "\t 67         & 15459.75   & -3         & -2427.104  & 3.972964   & 0.01165201\\\\\n",
       "\\end{tabular}\n"
      ],
      "text/markdown": [
       "\n",
       "Res.Df | RSS | Df | Sum of Sq | F | Pr(>F) | \n",
       "|---|---|\n",
       "| 64         | 13032.64   | NA         |        NA  |       NA   |         NA | \n",
       "| 67         | 15459.75   | -3         | -2427.104  | 3.972964   | 0.01165201 | \n",
       "\n",
       "\n"
      ],
      "text/plain": [
       "  Res.Df RSS      Df Sum of Sq F        Pr(>F)    \n",
       "1 64     13032.64 NA        NA       NA         NA\n",
       "2 67     15459.75 -3 -2427.104 3.972964 0.01165201"
      ]
     },
     "metadata": {},
     "output_type": "display_data"
    }
   ],
   "source": [
    "# Joint significance of pe values\n",
    "lm.10.4.2res <- lm(gfr ~ ww2 + pill, data = fertil3, subset = (is.na(pe_2) == FALSE))\n",
    "anova(lm.10.4.2, lm.10.4.2res)"
   ]
  },
  {
   "cell_type": "code",
   "execution_count": 7,
   "metadata": {},
   "outputs": [
    {
     "data": {
      "text/html": [
       "<table>\n",
       "<thead><tr><th scope=col>Res.Df</th><th scope=col>RSS</th><th scope=col>Df</th><th scope=col>Sum of Sq</th><th scope=col>F</th><th scope=col>Pr(&gt;F)</th></tr></thead>\n",
       "<tbody>\n",
       "\t<tr><td>64        </td><td>13032.64  </td><td>NA        </td><td>       NA </td><td>        NA</td><td>       NA </td></tr>\n",
       "\t<tr><td>66        </td><td>13054.40  </td><td>-2        </td><td>-21.76058 </td><td>0.05343035</td><td>0.9480142 </td></tr>\n",
       "</tbody>\n",
       "</table>\n"
      ],
      "text/latex": [
       "\\begin{tabular}{r|llllll}\n",
       " Res.Df & RSS & Df & Sum of Sq & F & Pr(>F)\\\\\n",
       "\\hline\n",
       "\t 64         & 13032.64   & NA         &        NA  &         NA &        NA \\\\\n",
       "\t 66         & 13054.40   & -2         & -21.76058  & 0.05343035 & 0.9480142 \\\\\n",
       "\\end{tabular}\n"
      ],
      "text/markdown": [
       "\n",
       "Res.Df | RSS | Df | Sum of Sq | F | Pr(>F) | \n",
       "|---|---|\n",
       "| 64         | 13032.64   | NA         |        NA  |         NA |        NA  | \n",
       "| 66         | 13054.40   | -2         | -21.76058  | 0.05343035 | 0.9480142  | \n",
       "\n",
       "\n"
      ],
      "text/plain": [
       "  Res.Df RSS      Df Sum of Sq F          Pr(>F)   \n",
       "1 64     13032.64 NA        NA         NA        NA\n",
       "2 66     13054.40 -2 -21.76058 0.05343035 0.9480142"
      ]
     },
     "metadata": {},
     "output_type": "display_data"
    }
   ],
   "source": [
    "# Joint significance of lagged pe values\n",
    "lm.10.4.2res2 <- lm(gfr ~ pe + ww2 + pill, data = fertil3, subset = (is.na(pe_2) == FALSE))\n",
    "anova(lm.10.4.2, lm.10.4.2res2)"
   ]
  },
  {
   "cell_type": "code",
   "execution_count": 8,
   "metadata": {},
   "outputs": [
    {
     "data": {
      "text/plain": [
       "\n",
       "Call:\n",
       "lm(formula = gfr ~ pe + I(pe_1 - pe) + I(pe_2 - pe_1) + ww2 + \n",
       "    pill, data = fertil3)\n",
       "\n",
       "Residuals:\n",
       "     Min       1Q   Median       3Q      Max \n",
       "-24.6461  -9.5409  -0.0312   8.3378  29.1295 \n",
       "\n",
       "Coefficients:\n",
       "                Estimate Std. Error t value Pr(>|t|)    \n",
       "(Intercept)     95.87050    3.28196  29.211  < 2e-16 ***\n",
       "pe               0.10072    0.02980   3.380  0.00124 ** \n",
       "I(pe_1 - pe)     0.02805    0.11890   0.236  0.81427    \n",
       "I(pe_2 - pe_1)   0.03383    0.12626   0.268  0.78962    \n",
       "ww2            -22.12650   10.73197  -2.062  0.04330 *  \n",
       "pill           -31.30499    3.98156  -7.862 5.63e-11 ***\n",
       "---\n",
       "Signif. codes:  0 ‘***’ 0.001 ‘**’ 0.01 ‘*’ 0.05 ‘.’ 0.1 ‘ ’ 1\n",
       "\n",
       "Residual standard error: 14.27 on 64 degrees of freedom\n",
       "  (2 observations deleted due to missingness)\n",
       "Multiple R-squared:  0.4986,\tAdjusted R-squared:  0.4594 \n",
       "F-statistic: 12.73 on 5 and 64 DF,  p-value: 1.353e-08\n"
      ]
     },
     "metadata": {},
     "output_type": "display_data"
    }
   ],
   "source": [
    "# Standard error of the long run propensity\n",
    "summary(lm(gfr ~ pe + I(pe_1 - pe) + I(pe_2 - pe_1) + ww2 + pill, data = fertil3))"
   ]
  },
  {
   "cell_type": "code",
   "execution_count": null,
   "metadata": {},
   "outputs": [],
   "source": []
  },
  {
   "cell_type": "markdown",
   "metadata": {},
   "source": [
    "# Example 10.5"
   ]
  },
  {
   "cell_type": "code",
   "execution_count": 9,
   "metadata": {},
   "outputs": [
    {
     "data": {
      "text/plain": [
       "\n",
       "Call:\n",
       "lm(formula = lchnimp ~ lchempi + lgas + lrtwex + befile6 + affile6 + \n",
       "    afdec6, data = barium)\n",
       "\n",
       "Residuals:\n",
       "     Min       1Q   Median       3Q      Max \n",
       "-2.03356 -0.39080  0.03048  0.40248  1.51719 \n",
       "\n",
       "Coefficients:\n",
       "             Estimate Std. Error t value Pr(>|t|)    \n",
       "(Intercept) -17.80300   21.04537  -0.846   0.3992    \n",
       "lchempi       3.11719    0.47920   6.505 1.72e-09 ***\n",
       "lgas          0.19635    0.90662   0.217   0.8289    \n",
       "lrtwex        0.98302    0.40015   2.457   0.0154 *  \n",
       "befile6       0.05957    0.26097   0.228   0.8198    \n",
       "affile6      -0.03241    0.26430  -0.123   0.9026    \n",
       "afdec6       -0.56524    0.28584  -1.978   0.0502 .  \n",
       "---\n",
       "Signif. codes:  0 ‘***’ 0.001 ‘**’ 0.01 ‘*’ 0.05 ‘.’ 0.1 ‘ ’ 1\n",
       "\n",
       "Residual standard error: 0.5974 on 124 degrees of freedom\n",
       "Multiple R-squared:  0.3049,\tAdjusted R-squared:  0.2712 \n",
       "F-statistic: 9.064 on 6 and 124 DF,  p-value: 3.255e-08\n"
      ]
     },
     "metadata": {},
     "output_type": "display_data"
    }
   ],
   "source": [
    "# Example 10.5\n",
    "\n",
    "data(\"barium\")\n",
    "\n",
    "lm.10.5 <- lm(lchnimp ~ lchempi + lgas + lrtwex + befile6 + affile6 + afdec6, data = barium)\n",
    "summary(lm.10.5)"
   ]
  },
  {
   "cell_type": "code",
   "execution_count": null,
   "metadata": {},
   "outputs": [],
   "source": []
  },
  {
   "cell_type": "markdown",
   "metadata": {},
   "source": [
    "# Example 10.6\n"
   ]
  },
  {
   "cell_type": "code",
   "execution_count": 10,
   "metadata": {},
   "outputs": [
    {
     "data": {
      "text/plain": [
       "\n",
       "Call:\n",
       "lm(formula = demvote ~ partyWH + incum + I(partyWH * gnews) + \n",
       "    I(partyWH * inf), data = fair)\n",
       "\n",
       "Residuals:\n",
       "      Min        1Q    Median        3Q       Max \n",
       "-0.059843 -0.035554 -0.001095  0.015049  0.104859 \n",
       "\n",
       "Coefficients:\n",
       "                    Estimate Std. Error t value Pr(>|t|)    \n",
       "(Intercept)         0.484219   0.011472  42.210   <2e-16 ***\n",
       "partyWH            -0.032380   0.037550  -0.862   0.4013    \n",
       "incum               0.056369   0.023017   2.449   0.0262 *  \n",
       "I(partyWH * gnews)  0.009666   0.003807   2.539   0.0219 *  \n",
       "I(partyWH * inf)   -0.008338   0.003121  -2.672   0.0167 *  \n",
       "---\n",
       "Signif. codes:  0 ‘***’ 0.001 ‘**’ 0.01 ‘*’ 0.05 ‘.’ 0.1 ‘ ’ 1\n",
       "\n",
       "Residual standard error: 0.049 on 16 degrees of freedom\n",
       "Multiple R-squared:  0.6588,\tAdjusted R-squared:  0.5735 \n",
       "F-statistic: 7.725 on 4 and 16 DF,  p-value: 0.001151\n"
      ]
     },
     "metadata": {},
     "output_type": "display_data"
    }
   ],
   "source": [
    "# Example 10.6\n",
    "\n",
    "data(\"fair\")\n",
    "\n",
    "lm.10.6 <- lm(demvote ~ partyWH + incum + I(partyWH*gnews) + I(partyWH*inf), data = fair)\n",
    "summary(lm.10.6)"
   ]
  },
  {
   "cell_type": "markdown",
   "metadata": {},
   "source": [
    "Slightly different results since the book uses 20 observations to 1992. But the results are the same when we drop the last observation."
   ]
  },
  {
   "cell_type": "code",
   "execution_count": 11,
   "metadata": {},
   "outputs": [
    {
     "data": {
      "text/plain": [
       "\n",
       "Call:\n",
       "lm(formula = demvote ~ partyWH + incum + I(partyWH * gnews) + \n",
       "    I(partyWH * inf), data = fair, subset = (year != 1996))\n",
       "\n",
       "Residuals:\n",
       "      Min        1Q    Median        3Q       Max \n",
       "-0.059643 -0.036072 -0.005397  0.018386  0.102723 \n",
       "\n",
       "Coefficients:\n",
       "                    Estimate Std. Error t value Pr(>|t|)    \n",
       "(Intercept)         0.481062   0.012263  39.228   <2e-16 ***\n",
       "partyWH            -0.043475   0.040459  -1.075   0.2996    \n",
       "incum               0.054390   0.023417   2.323   0.0347 *  \n",
       "I(partyWH * gnews)  0.010847   0.004127   2.628   0.0190 *  \n",
       "I(partyWH * inf)   -0.007702   0.003257  -2.365   0.0319 *  \n",
       "---\n",
       "Signif. codes:  0 ‘***’ 0.001 ‘**’ 0.01 ‘*’ 0.05 ‘.’ 0.1 ‘ ’ 1\n",
       "\n",
       "Residual standard error: 0.04957 on 15 degrees of freedom\n",
       "Multiple R-squared:  0.6629,\tAdjusted R-squared:  0.573 \n",
       "F-statistic: 7.374 on 4 and 15 DF,  p-value: 0.001716\n"
      ]
     },
     "metadata": {},
     "output_type": "display_data"
    }
   ],
   "source": [
    "lm.10.6 <- lm(demvote ~ partyWH + incum + I(partyWH * gnews) + I(partyWH * inf), data = fair, subset = (year != 1996))\n",
    "summary(lm.10.6)"
   ]
  },
  {
   "cell_type": "markdown",
   "metadata": {},
   "source": [
    "# Example 10.7\n"
   ]
  },
  {
   "cell_type": "code",
   "execution_count": 12,
   "metadata": {},
   "outputs": [
    {
     "data": {
      "text/plain": [
       "\n",
       "Call:\n",
       "lm(formula = linvpc ~ lprice, data = hseinv)\n",
       "\n",
       "Residuals:\n",
       "     Min       1Q   Median       3Q      Max \n",
       "-0.45991 -0.08694 -0.01264  0.08651  0.34672 \n",
       "\n",
       "Coefficients:\n",
       "            Estimate Std. Error t value Pr(>|t|)    \n",
       "(Intercept) -0.55023    0.04303 -12.788 1.03e-15 ***\n",
       "lprice       1.24094    0.38242   3.245  0.00238 ** \n",
       "---\n",
       "Signif. codes:  0 ‘***’ 0.001 ‘**’ 0.01 ‘*’ 0.05 ‘.’ 0.1 ‘ ’ 1\n",
       "\n",
       "Residual standard error: 0.1554 on 40 degrees of freedom\n",
       "Multiple R-squared:  0.2084,\tAdjusted R-squared:  0.1886 \n",
       "F-statistic: 10.53 on 1 and 40 DF,  p-value: 0.002376\n"
      ]
     },
     "metadata": {},
     "output_type": "display_data"
    }
   ],
   "source": [
    "# Example 10.7\n",
    "\n",
    "data(\"hseinv\")\n",
    "\n",
    "lm.10.7.1 <- lm(linvpc ~ lprice, data = hseinv)\n",
    "summary(lm.10.7.1)"
   ]
  },
  {
   "cell_type": "markdown",
   "metadata": {},
   "source": [
    "Add a time trend"
   ]
  },
  {
   "cell_type": "code",
   "execution_count": 13,
   "metadata": {},
   "outputs": [
    {
     "data": {
      "text/plain": [
       "\n",
       "Call:\n",
       "lm(formula = linvpc ~ lprice + t, data = hseinv)\n",
       "\n",
       "Residuals:\n",
       "     Min       1Q   Median       3Q      Max \n",
       "-0.45092 -0.08583 -0.01734  0.08517  0.26024 \n",
       "\n",
       "Coefficients:\n",
       "             Estimate Std. Error t value Pr(>|t|)    \n",
       "(Intercept) -0.913060   0.135613  -6.733    5e-08 ***\n",
       "lprice      -0.380961   0.678835  -0.561  0.57787    \n",
       "t            0.009829   0.003512   2.798  0.00794 ** \n",
       "---\n",
       "Signif. codes:  0 ‘***’ 0.001 ‘**’ 0.01 ‘*’ 0.05 ‘.’ 0.1 ‘ ’ 1\n",
       "\n",
       "Residual standard error: 0.1436 on 39 degrees of freedom\n",
       "Multiple R-squared:  0.3408,\tAdjusted R-squared:  0.307 \n",
       "F-statistic: 10.08 on 2 and 39 DF,  p-value: 0.000296\n"
      ]
     },
     "metadata": {},
     "output_type": "display_data"
    }
   ],
   "source": [
    "lm.10.7.2 <- lm(linvpc ~ lprice + t, data = hseinv)\n",
    "summary(lm.10.7.2)"
   ]
  },
  {
   "cell_type": "code",
   "execution_count": null,
   "metadata": {},
   "outputs": [],
   "source": []
  },
  {
   "cell_type": "markdown",
   "metadata": {},
   "source": [
    "# Example 10.8"
   ]
  },
  {
   "cell_type": "code",
   "execution_count": 14,
   "metadata": {},
   "outputs": [
    {
     "data": {
      "text/plain": [
       "\n",
       "Call:\n",
       "lm(formula = gfr ~ pe + ww2 + pill + t, data = fertil3)\n",
       "\n",
       "Residuals:\n",
       "     Min       1Q   Median       3Q      Max \n",
       "-24.6418  -8.4574   0.2445   9.3819  17.2837 \n",
       "\n",
       "Coefficients:\n",
       "             Estimate Std. Error t value Pr(>|t|)    \n",
       "(Intercept) 111.76943    3.35777  33.287  < 2e-16 ***\n",
       "pe            0.27888    0.04002   6.968 1.72e-09 ***\n",
       "ww2         -35.59228    6.29738  -5.652 3.53e-07 ***\n",
       "pill          0.99745    6.26163   0.159    0.874    \n",
       "t            -1.14987    0.18790  -6.119 5.49e-08 ***\n",
       "---\n",
       "Signif. codes:  0 ‘***’ 0.001 ‘**’ 0.01 ‘*’ 0.05 ‘.’ 0.1 ‘ ’ 1\n",
       "\n",
       "Residual standard error: 11.85 on 67 degrees of freedom\n",
       "Multiple R-squared:  0.6622,\tAdjusted R-squared:  0.642 \n",
       "F-statistic: 32.84 on 4 and 67 DF,  p-value: 3.756e-15\n"
      ]
     },
     "metadata": {},
     "output_type": "display_data"
    }
   ],
   "source": [
    "# Example 10.8\n",
    "\n",
    "data(\"fertil3\")\n",
    "\n",
    "lm.10.8.1 <- lm(gfr ~ pe + ww2 + pill + t, data = fertil3)\n",
    "summary(lm.10.8.1)"
   ]
  },
  {
   "cell_type": "code",
   "execution_count": 15,
   "metadata": {},
   "outputs": [
    {
     "data": {
      "text/plain": [
       "\n",
       "Call:\n",
       "lm(formula = gfr ~ pe + ww2 + pill + t + tsq, data = fertil3)\n",
       "\n",
       "Residuals:\n",
       "     Min       1Q   Median       3Q      Max \n",
       "-25.9791  -6.9775  -0.2713   7.7975  19.9861 \n",
       "\n",
       "Coefficients:\n",
       "              Estimate Std. Error t value Pr(>|t|)    \n",
       "(Intercept) 124.091935   4.360738  28.457  < 2e-16 ***\n",
       "pe            0.347813   0.040260   8.639 1.91e-12 ***\n",
       "ww2         -35.880277   5.707921  -6.286 2.95e-08 ***\n",
       "pill        -10.119723   6.336094  -1.597 0.115008    \n",
       "t            -2.531426   0.389386  -6.501 1.24e-08 ***\n",
       "tsq           0.019613   0.004971   3.945 0.000196 ***\n",
       "---\n",
       "Signif. codes:  0 ‘***’ 0.001 ‘**’ 0.01 ‘*’ 0.05 ‘.’ 0.1 ‘ ’ 1\n",
       "\n",
       "Residual standard error: 10.74 on 66 degrees of freedom\n",
       "Multiple R-squared:  0.7267,\tAdjusted R-squared:  0.706 \n",
       "F-statistic: 35.09 on 5 and 66 DF,  p-value: < 2.2e-16\n"
      ]
     },
     "metadata": {},
     "output_type": "display_data"
    }
   ],
   "source": [
    "lm.10.8.2 <- lm(gfr ~ pe + ww2 + pill + t + tsq, data = fertil3)\n",
    "summary(lm.10.8.2)"
   ]
  },
  {
   "cell_type": "markdown",
   "metadata": {},
   "source": [
    "# Example 10.9"
   ]
  },
  {
   "cell_type": "code",
   "execution_count": null,
   "metadata": {},
   "outputs": [],
   "source": []
  },
  {
   "cell_type": "code",
   "execution_count": 16,
   "metadata": {},
   "outputs": [
    {
     "data": {
      "text/plain": [
       "\n",
       "Call:\n",
       "lm(formula = lprepop ~ lmincov + lusgnp + t, data = prminwge)\n",
       "\n",
       "Residuals:\n",
       "      Min        1Q    Median        3Q       Max \n",
       "-0.049493 -0.024425 -0.009596  0.017055  0.086354 \n",
       "\n",
       "Coefficients:\n",
       "             Estimate Std. Error t value Pr(>|t|)    \n",
       "(Intercept) -8.696298   1.295764  -6.711 1.04e-07 ***\n",
       "lmincov     -0.168695   0.044246  -3.813 0.000552 ***\n",
       "lusgnp       1.057351   0.176637   5.986 8.98e-07 ***\n",
       "t           -0.032354   0.005023  -6.442 2.31e-07 ***\n",
       "---\n",
       "Signif. codes:  0 ‘***’ 0.001 ‘**’ 0.01 ‘*’ 0.05 ‘.’ 0.1 ‘ ’ 1\n",
       "\n",
       "Residual standard error: 0.03793 on 34 degrees of freedom\n",
       "Multiple R-squared:  0.8471,\tAdjusted R-squared:  0.8336 \n",
       "F-statistic: 62.78 on 3 and 34 DF,  p-value: 6.007e-14\n"
      ]
     },
     "metadata": {},
     "output_type": "display_data"
    }
   ],
   "source": [
    "# Example 10.9\n",
    "\n",
    "data(\"prminwge\")\n",
    "\n",
    "lm.10.9 <- lm(lprepop ~ lmincov + lusgnp + t, data = prminwge)\n",
    "summary(lm.10.9)"
   ]
  },
  {
   "cell_type": "code",
   "execution_count": null,
   "metadata": {},
   "outputs": [],
   "source": []
  },
  {
   "cell_type": "code",
   "execution_count": 17,
   "metadata": {},
   "outputs": [
    {
     "data": {
      "text/plain": [
       "\n",
       "Call:\n",
       "lm(formula = lprepop.detrend ~ lmincov.detrend + lusgnp.detrend - \n",
       "    1)\n",
       "\n",
       "Residuals:\n",
       "      Min        1Q    Median        3Q       Max \n",
       "-0.049493 -0.024425 -0.009596  0.017055  0.086354 \n",
       "\n",
       "Coefficients:\n",
       "                Estimate Std. Error t value Pr(>|t|)    \n",
       "lmincov.detrend  -0.1687     0.0430  -3.923 0.000377 ***\n",
       "lusgnp.detrend    1.0574     0.1717   6.160 4.26e-07 ***\n",
       "---\n",
       "Signif. codes:  0 ‘***’ 0.001 ‘**’ 0.01 ‘*’ 0.05 ‘.’ 0.1 ‘ ’ 1\n",
       "\n",
       "Residual standard error: 0.03686 on 36 degrees of freedom\n",
       "Multiple R-squared:  0.5327,\tAdjusted R-squared:  0.5067 \n",
       "F-statistic: 20.52 on 2 and 36 DF,  p-value: 1.129e-06\n"
      ]
     },
     "metadata": {},
     "output_type": "display_data"
    }
   ],
   "source": [
    "# Obtain results by detrending\n",
    "lprepop.detrend <- lm(lprepop ~ t, data = prminwge)$resid\n",
    "lmincov.detrend <- lm(lmincov ~ t, data = prminwge)$resid\n",
    "lusgnp.detrend <- lm(lusgnp ~ t, data = prminwge)$resid\n",
    "\n",
    "summary(lm(lprepop.detrend ~ lmincov.detrend + lusgnp.detrend - 1))"
   ]
  },
  {
   "cell_type": "code",
   "execution_count": null,
   "metadata": {},
   "outputs": [],
   "source": []
  },
  {
   "cell_type": "markdown",
   "metadata": {},
   "source": [
    "# Example 10.10"
   ]
  },
  {
   "cell_type": "code",
   "execution_count": 20,
   "metadata": {},
   "outputs": [
    {
     "data": {
      "text/plain": [
       "\n",
       "Call:\n",
       "lm(formula = dtr.linvpc ~ lprice + t, data = hseinv)\n",
       "\n",
       "Residuals:\n",
       "     Min       1Q   Median       3Q      Max \n",
       "-0.45092 -0.08583 -0.01734  0.08517  0.26024 \n",
       "\n",
       "Coefficients:\n",
       "             Estimate Std. Error t value Pr(>|t|)\n",
       "(Intercept) -0.071768   0.135613  -0.529    0.600\n",
       "lprice      -0.380961   0.678835  -0.561    0.578\n",
       "t            0.001683   0.003512   0.479    0.635\n",
       "\n",
       "Residual standard error: 0.1436 on 39 degrees of freedom\n",
       "Multiple R-squared:  0.008011,\tAdjusted R-squared:  -0.04286 \n",
       "F-statistic: 0.1575 on 2 and 39 DF,  p-value: 0.8548\n"
      ]
     },
     "metadata": {},
     "output_type": "display_data"
    }
   ],
   "source": [
    "# Example 10.10\n",
    "\n",
    "data(\"hseinv\")\n",
    "\n",
    "dtr.linvpc <- lm(linvpc ~ t, data = hseinv)$resid\n",
    "\n",
    "summary(lm(dtr.linvpc ~ lprice + t, data = hseinv))"
   ]
  },
  {
   "cell_type": "code",
   "execution_count": null,
   "metadata": {},
   "outputs": [],
   "source": []
  },
  {
   "cell_type": "markdown",
   "metadata": {},
   "source": [
    "# Example 10.11"
   ]
  },
  {
   "cell_type": "code",
   "execution_count": 21,
   "metadata": {},
   "outputs": [
    {
     "data": {
      "text/html": [
       "<table>\n",
       "<thead><tr><th scope=col>Res.Df</th><th scope=col>RSS</th><th scope=col>Df</th><th scope=col>Sum of Sq</th><th scope=col>F</th><th scope=col>Pr(&gt;F)</th></tr></thead>\n",
       "<tbody>\n",
       "\t<tr><td>113      </td><td>40.84390 </td><td> NA      </td><td>       NA</td><td>       NA</td><td>       NA</td></tr>\n",
       "\t<tr><td>124      </td><td>44.24709 </td><td>-11      </td><td>-3.403192</td><td>0.8559433</td><td>0.5852008</td></tr>\n",
       "</tbody>\n",
       "</table>\n"
      ],
      "text/latex": [
       "\\begin{tabular}{r|llllll}\n",
       " Res.Df & RSS & Df & Sum of Sq & F & Pr(>F)\\\\\n",
       "\\hline\n",
       "\t 113       & 40.84390  &  NA       &        NA &        NA &        NA\\\\\n",
       "\t 124       & 44.24709  & -11       & -3.403192 & 0.8559433 & 0.5852008\\\\\n",
       "\\end{tabular}\n"
      ],
      "text/markdown": [
       "\n",
       "Res.Df | RSS | Df | Sum of Sq | F | Pr(>F) | \n",
       "|---|---|\n",
       "| 113       | 40.84390  |  NA       |        NA |        NA |        NA | \n",
       "| 124       | 44.24709  | -11       | -3.403192 | 0.8559433 | 0.5852008 | \n",
       "\n",
       "\n"
      ],
      "text/plain": [
       "  Res.Df RSS      Df  Sum of Sq F         Pr(>F)   \n",
       "1 113    40.84390  NA        NA        NA        NA\n",
       "2 124    44.24709 -11 -3.403192 0.8559433 0.5852008"
      ]
     },
     "metadata": {},
     "output_type": "display_data"
    }
   ],
   "source": [
    "# Example 10.11\n",
    "\n",
    "data(\"barium\")\n",
    "\n",
    "lm.10.11 <- lm(lchnimp ~ lchempi + lgas + lrtwex + befile6 + affile6 + afdec6 +\n",
    " feb + mar + apr + may + jun + jul + aug + sep + oct + nov + dec, data = barium)\n",
    "lm.10.11res <- lm(lchnimp ~ lchempi + lgas + lrtwex + befile6 + affile6 + afdec6, data = barium)\n",
    "\n",
    "anova(lm.10.11, lm.10.11res)"
   ]
  },
  {
   "cell_type": "code",
   "execution_count": null,
   "metadata": {},
   "outputs": [],
   "source": []
  },
  {
   "cell_type": "code",
   "execution_count": 22,
   "metadata": {},
   "outputs": [
    {
     "name": "stdout",
     "output_type": "stream",
     "text": [
      "\n",
      "======================================================================\n",
      "                                   Dependent variable:                \n",
      "                    --------------------------------------------------\n",
      "                                         lchnimp                      \n",
      "                               (1)                      (2)           \n",
      "----------------------------------------------------------------------\n",
      "lchempi               3.26506*** (0.49293)      3.11719*** (0.47920)  \n",
      "lgas                   -1.27812 (1.38901)        0.19635 (0.90662)    \n",
      "lrtwex                  0.66305 (0.47130)       0.98302** (0.40015)   \n",
      "befile6                 0.13970 (0.26681)        0.05957 (0.26097)    \n",
      "affile6                 0.01263 (0.27869)        -0.03241 (0.26430)   \n",
      "afdec6                 -0.52130* (0.30195)      -0.56524* (0.28584)   \n",
      "feb                    -0.41771 (0.30444)                             \n",
      "mar                     0.05905 (0.26473)                             \n",
      "apr                    -0.45148* (0.26839)                            \n",
      "may                     0.03331 (0.26924)                             \n",
      "jun                    -0.20633 (0.26925)                             \n",
      "jul                     0.00384 (0.27877)                             \n",
      "aug                    -0.15707 (0.27799)                             \n",
      "sep                    -0.13416 (0.26766)                             \n",
      "oct                     0.05169 (0.26685)                             \n",
      "nov                    -0.24626 (0.26283)                             \n",
      "dec                     0.13284 (0.27142)                             \n",
      "Constant               16.77877 (32.42865)      -17.80300 (21.04537)  \n",
      "----------------------------------------------------------------------\n",
      "Observations                   131                      131           \n",
      "R2                           0.35833                  0.30486         \n",
      "Adjusted R2                  0.26179                  0.27123         \n",
      "Residual Std. Error    0.60121 (df = 113)        0.59735 (df = 124)   \n",
      "F Statistic         3.71190*** (df = 17; 113) 9.06365*** (df = 6; 124)\n",
      "======================================================================\n",
      "Note:                                      *p<0.1; **p<0.05; ***p<0.01\n"
     ]
    }
   ],
   "source": [
    "stargazer(type = \"text\",\n",
    "          lm.10.11, \n",
    "          lm.10.11res,  \n",
    "          single.row = TRUE, header = FALSE, digits=5)"
   ]
  },
  {
   "cell_type": "code",
   "execution_count": null,
   "metadata": {},
   "outputs": [],
   "source": []
  },
  {
   "cell_type": "markdown",
   "metadata": {},
   "source": [
    "# Ch10C13\n"
   ]
  },
  {
   "cell_type": "code",
   "execution_count": 2,
   "metadata": {},
   "outputs": [],
   "source": [
    "data(minwage)"
   ]
  },
  {
   "cell_type": "code",
   "execution_count": 3,
   "metadata": {},
   "outputs": [
    {
     "name": "stdout",
     "output_type": "stream",
     "text": [
      "Observations: 612\n",
      "Variables: 58\n",
      "$ emp232    <dbl> 270.6, 272.4, 268.6, 262.6, 258.0, 255.8, 246.8, 259.9, 264…\n",
      "$ wage232   <dbl> 0.86, 0.86, 0.86, 0.86, 0.87, 0.87, 0.87, 0.86, 0.88, 0.89,…\n",
      "$ emp236    <dbl> 53.1, 54.8, 52.9, 48.3, 47.6, 49.7, 50.2, 54.2, 55.2, 56.8,…\n",
      "$ wage236   <dbl> 0.99, 1.00, 0.98, 0.91, 0.93, 0.95, 0.96, 0.97, 0.98, 1.01,…\n",
      "$ emp234    <dbl> 93.4, 94.6, 95.4, 95.2, 96.3, 96.7, 94.3, 97.1, 99.1, 104.2…\n",
      "$ wage234   <dbl> 0.92, 0.92, 0.91, 0.92, 0.92, 0.93, 0.92, 0.92, 0.94, 0.95,…\n",
      "$ emp314    <dbl> 253.9, 256.6, 256.9, 253.8, 245.8, 248.6, 251.2, 259.3, 261…\n",
      "$ wage314   <dbl> 0.99, 0.98, 0.99, 0.99, 0.99, 1.01, 1.01, 1.01, 1.02, 1.03,…\n",
      "$ emp228    <dbl> 185.3, 184.7, 182.2, 179.6, 173.8, 168.8, 163.4, 164.4, 166…\n",
      "$ wage228   <dbl> 0.91, 0.94, 0.98, 0.98, 0.98, 0.97, 0.97, 0.97, 0.99, 0.99,…\n",
      "$ emp233    <dbl> 346.5, 357.6, 358.2, 326.7, 302.8, 298.4, 310.4, 340.6, 348…\n",
      "$ wage233   <dbl> 1.55, 1.57, 1.54, 1.42, 1.38, 1.41, 1.49, 1.54, 1.54, 1.54,…\n",
      "$ emp394    <dbl> 79.5, 79.5, 79.6, 78.2, 76.2, 75.1, 76.2, 81.2, 84.9, 89.3,…\n",
      "$ wage394   <dbl> 1.03, 1.04, 1.05, 1.05, 1.06, 1.07, 1.07, 1.09, 1.10, 1.10,…\n",
      "$ emp231    <dbl> 143.7, 145.8, 146.6, 145.9, 145.7, 148.3, 143.1, 149.5, 150…\n",
      "$ wage231   <dbl> 1.27, 1.27, 1.27, 1.25, 1.25, 1.24, 1.24, 1.24, 1.26, 1.27,…\n",
      "$ emp226    <dbl> 90.6, 90.7, 90.6, 89.4, 88.6, 88.0, 85.3, 85.9, 87.9, 90.1,…\n",
      "$ wage226   <dbl> 1.07, 1.08, 1.10, 1.13, 1.12, 1.13, 1.12, 1.13, 1.16, 1.16,…\n",
      "$ emp387    <dbl> 41.9, 42.4, 42.0, 41.7, 41.6, 41.3, 37.2, 40.5, 41.2, 41.6,…\n",
      "$ wage387   <dbl> 1.07, 1.07, 1.08, 1.09, 1.10, 1.12, 1.13, 1.13, 1.15, 1.16,…\n",
      "$ emp056    <dbl> 559.5, 544.0, 571.8, 582.2, 578.0, 582.2, 544.0, 528.5, 581…\n",
      "$ wage056   <dbl> 0.94, 0.94, 0.96, 0.98, 0.97, 0.99, 0.98, 0.97, 1.00, 1.01,…\n",
      "$ unem      <dbl> NA, NA, NA, NA, NA, NA, NA, NA, NA, NA, NA, NA, 3.0, 3.4, 3…\n",
      "$ cpi       <dbl> 21.5, 21.5, 21.9, 21.9, 21.9, 22.0, 22.2, 22.5, 23.0, 23.0,…\n",
      "$ minwage   <dbl> 0.4, 0.4, 0.4, 0.4, 0.4, 0.4, 0.4, 0.4, 0.4, 0.4, 0.4, 0.4,…\n",
      "$ lemp232   <dbl> 5.600642, 5.607272, 5.593223, 5.570632, 5.552959, 5.544396,…\n",
      "$ lwage232  <dbl> -0.15082288, -0.15082288, -0.15082288, -0.15082288, -0.1392…\n",
      "$ gemp232   <dbl> NA, 0.006629944, -0.014048576, -0.022591114, -0.017672539, …\n",
      "$ gwage232  <dbl> NA, 0.00000000, 0.00000000, 0.00000000, 0.01156081, 0.00000…\n",
      "$ lminwage  <dbl> -0.9162907, -0.9162907, -0.9162907, -0.9162907, -0.9162907,…\n",
      "$ gmwage    <dbl> NA, 0, 0, 0, 0, 0, 0, 0, 0, 0, 0, 0, 0, 0, 0, 0, 0, 0, 0, 0…\n",
      "$ gmwage_1  <dbl> NA, NA, 0, 0, 0, 0, 0, 0, 0, 0, 0, 0, 0, 0, 0, 0, 0, 0, 0, …\n",
      "$ gmwage_2  <dbl> NA, NA, NA, 0, 0, 0, 0, 0, 0, 0, 0, 0, 0, 0, 0, 0, 0, 0, 0,…\n",
      "$ gmwage_3  <dbl> NA, NA, NA, NA, 0, 0, 0, 0, 0, 0, 0, 0, 0, 0, 0, 0, 0, 0, 0…\n",
      "$ gmwage_4  <dbl> NA, NA, NA, NA, NA, 0, 0, 0, 0, 0, 0, 0, 0, 0, 0, 0, 0, 0, …\n",
      "$ gmwage_5  <dbl> NA, NA, NA, NA, NA, NA, 0, 0, 0, 0, 0, 0, 0, 0, 0, 0, 0, 0,…\n",
      "$ gmwage_6  <dbl> NA, NA, NA, NA, NA, NA, NA, 0, 0, 0, 0, 0, 0, 0, 0, 0, 0, 0…\n",
      "$ gmwage_7  <dbl> NA, NA, NA, NA, NA, NA, NA, NA, 0, 0, 0, 0, 0, 0, 0, 0, 0, …\n",
      "$ gmwage_8  <dbl> NA, NA, NA, NA, NA, NA, NA, NA, NA, 0, 0, 0, 0, 0, 0, 0, 0,…\n",
      "$ gmwage_9  <dbl> NA, NA, NA, NA, NA, NA, NA, NA, NA, NA, 0, 0, 0, 0, 0, 0, 0…\n",
      "$ gmwage_10 <dbl> NA, NA, NA, NA, NA, NA, NA, NA, NA, NA, NA, 0, 0, 0, 0, 0, …\n",
      "$ gmwage_11 <dbl> NA, NA, NA, NA, NA, NA, NA, NA, NA, NA, NA, NA, 0, 0, 0, 0,…\n",
      "$ gmwage_12 <dbl> NA, NA, NA, NA, NA, NA, NA, NA, NA, NA, NA, NA, NA, 0, 0, 0…\n",
      "$ lemp236   <dbl> 3.972177, 4.003690, 3.968403, 3.877432, 3.862833, 3.906005,…\n",
      "$ gcpi      <dbl> NA, 0.000000000, 0.018433571, 0.000000000, 0.000000000, 0.0…\n",
      "$ lcpi      <dbl> 3.068053, 3.068053, 3.086487, 3.086487, 3.086487, 3.091043,…\n",
      "$ lwage236  <dbl> -0.010050327, 0.000000000, -0.020202687, -0.094310649, -0.0…\n",
      "$ gemp236   <dbl> NA, 0.031513453, -0.035286903, -0.090971708, -0.014598846, …\n",
      "$ gwage236  <dbl> NA, 0.010050327, -0.020202687, -0.074107960, 0.021739967, 0…\n",
      "$ lemp234   <dbl> 4.536891, 4.549657, 4.558079, 4.555980, 4.567468, 4.571613,…\n",
      "$ lwage234  <dbl> -0.083381593, -0.083381593, -0.094310649, -0.083381593, -0.…\n",
      "$ gemp234   <dbl> NA, 0.012765884, 0.008421421, -0.002099037, 0.011488438, 0.…\n",
      "$ gwage234  <dbl> NA, 0.000000000, -0.010929056, 0.010929056, 0.000000000, 0.…\n",
      "$ lemp314   <dbl> 5.536941, 5.547518, 5.548687, 5.536547, 5.504518, 5.515845,…\n",
      "$ lwage314  <dbl> -0.010050327, -0.020202687, -0.010050327, -0.010050327, -0.…\n",
      "$ gemp314   <dbl> NA, 0.010577679, 0.001168728, -0.012140274, -0.032028675, 0…\n",
      "$ gwage314  <dbl> NA, -0.010152360, 0.010152360, 0.000000000, 0.000000000, 0.…\n",
      "$ t         <int> 1, 2, 3, 4, 5, 6, 7, 8, 9, 10, 11, 12, 13, 14, 15, 16, 17, …\n"
     ]
    }
   ],
   "source": [
    "glimpse(minwage)"
   ]
  },
  {
   "cell_type": "code",
   "execution_count": 4,
   "metadata": {},
   "outputs": [],
   "source": [
    "?minwage"
   ]
  },
  {
   "cell_type": "code",
   "execution_count": 8,
   "metadata": {},
   "outputs": [
    {
     "data": {
      "text/plain": [
       "MODEL INFO:\n",
       "Observations: 611 (1 missing obs. deleted)\n",
       "Dependent Variable: gwage232\n",
       "Type: OLS linear regression \n",
       "\n",
       "MODEL FIT:\n",
       "F(2,608) = 125.79507, p = 0.00000\n",
       "R² = 0.29269\n",
       "Adj. R² = 0.29036 \n",
       "\n",
       "Standard errors: OLS\n",
       "----------------------------------------------------------\n",
       "                       Est.      S.E.     t val.         p\n",
       "----------------- --------- --------- ---------- ---------\n",
       "(Intercept)         0.00218   0.00042    5.18486   0.00000\n",
       "gcpi                0.24352   0.08213    2.96516   0.00314\n",
       "gmwage              0.15057   0.00966   15.59135   0.00000\n",
       "----------------------------------------------------------"
      ]
     },
     "metadata": {},
     "output_type": "display_data"
    }
   ],
   "source": [
    "model_minwage_1 = lm(gwage232~gcpi+gmwage, data = minwage)\n",
    "# stargazer(model_minwage_1, \"text\")\n",
    "jtools::summ(model_minwage_1, digit = 5)"
   ]
  },
  {
   "cell_type": "code",
   "execution_count": 10,
   "metadata": {},
   "outputs": [
    {
     "data": {
      "text/plain": [
       "MODEL INFO:\n",
       "Observations: 610 (2 missing obs. deleted)\n",
       "Dependent Variable: gwage232\n",
       "Type: OLS linear regression \n",
       "\n",
       "MODEL FIT:\n",
       "F(3,606) = 85.98706, p = 0.00000\n",
       "R² = 0.29858\n",
       "Adj. R² = 0.29511 \n",
       "\n",
       "Standard errors: OLS\n",
       "--------------------------------------------------------------------\n",
       "                                 Est.      S.E.     t val.         p\n",
       "-------------------------- ---------- --------- ---------- ---------\n",
       "(Intercept)                   0.00240   0.00043    5.57214   0.00000\n",
       "gcpi                          0.26309   0.08245    3.19104   0.00149\n",
       "gmwage                        0.15185   0.00965   15.73771   0.00000\n",
       "dplyr::lag(gwage232)         -0.07791   0.03429   -2.27239   0.02341\n",
       "--------------------------------------------------------------------"
      ]
     },
     "metadata": {},
     "output_type": "display_data"
    }
   ],
   "source": [
    "model_minwage_2 = lm(gwage232~gcpi+gmwage+dplyr::lag(gwage232), data = minwage)\n",
    "\n",
    "jtools::summ(model_minwage_2, digit = 5)"
   ]
  },
  {
   "cell_type": "code",
   "execution_count": 13,
   "metadata": {},
   "outputs": [
    {
     "data": {
      "text/html": [
       "<ol class=list-inline>\n",
       "\t<li>'emp232'</li>\n",
       "\t<li>'wage232'</li>\n",
       "\t<li>'emp236'</li>\n",
       "\t<li>'wage236'</li>\n",
       "\t<li>'emp234'</li>\n",
       "\t<li>'wage234'</li>\n",
       "\t<li>'emp314'</li>\n",
       "\t<li>'wage314'</li>\n",
       "\t<li>'emp228'</li>\n",
       "\t<li>'wage228'</li>\n",
       "\t<li>'emp233'</li>\n",
       "\t<li>'wage233'</li>\n",
       "\t<li>'emp394'</li>\n",
       "\t<li>'wage394'</li>\n",
       "\t<li>'emp231'</li>\n",
       "\t<li>'wage231'</li>\n",
       "\t<li>'emp226'</li>\n",
       "\t<li>'wage226'</li>\n",
       "\t<li>'emp387'</li>\n",
       "\t<li>'wage387'</li>\n",
       "\t<li>'emp056'</li>\n",
       "\t<li>'wage056'</li>\n",
       "\t<li>'unem'</li>\n",
       "\t<li>'cpi'</li>\n",
       "\t<li>'minwage'</li>\n",
       "\t<li>'lemp232'</li>\n",
       "\t<li>'lwage232'</li>\n",
       "\t<li>'gemp232'</li>\n",
       "\t<li>'gwage232'</li>\n",
       "\t<li>'lminwage'</li>\n",
       "\t<li>'gmwage'</li>\n",
       "\t<li>'gmwage_1'</li>\n",
       "\t<li>'gmwage_2'</li>\n",
       "\t<li>'gmwage_3'</li>\n",
       "\t<li>'gmwage_4'</li>\n",
       "\t<li>'gmwage_5'</li>\n",
       "\t<li>'gmwage_6'</li>\n",
       "\t<li>'gmwage_7'</li>\n",
       "\t<li>'gmwage_8'</li>\n",
       "\t<li>'gmwage_9'</li>\n",
       "\t<li>'gmwage_10'</li>\n",
       "\t<li>'gmwage_11'</li>\n",
       "\t<li>'gmwage_12'</li>\n",
       "\t<li>'lemp236'</li>\n",
       "\t<li>'gcpi'</li>\n",
       "\t<li>'lcpi'</li>\n",
       "\t<li>'lwage236'</li>\n",
       "\t<li>'gemp236'</li>\n",
       "\t<li>'gwage236'</li>\n",
       "\t<li>'lemp234'</li>\n",
       "\t<li>'lwage234'</li>\n",
       "\t<li>'gemp234'</li>\n",
       "\t<li>'gwage234'</li>\n",
       "\t<li>'lemp314'</li>\n",
       "\t<li>'lwage314'</li>\n",
       "\t<li>'gemp314'</li>\n",
       "\t<li>'gwage314'</li>\n",
       "\t<li>'t'</li>\n",
       "</ol>\n"
      ],
      "text/latex": [
       "\\begin{enumerate*}\n",
       "\\item 'emp232'\n",
       "\\item 'wage232'\n",
       "\\item 'emp236'\n",
       "\\item 'wage236'\n",
       "\\item 'emp234'\n",
       "\\item 'wage234'\n",
       "\\item 'emp314'\n",
       "\\item 'wage314'\n",
       "\\item 'emp228'\n",
       "\\item 'wage228'\n",
       "\\item 'emp233'\n",
       "\\item 'wage233'\n",
       "\\item 'emp394'\n",
       "\\item 'wage394'\n",
       "\\item 'emp231'\n",
       "\\item 'wage231'\n",
       "\\item 'emp226'\n",
       "\\item 'wage226'\n",
       "\\item 'emp387'\n",
       "\\item 'wage387'\n",
       "\\item 'emp056'\n",
       "\\item 'wage056'\n",
       "\\item 'unem'\n",
       "\\item 'cpi'\n",
       "\\item 'minwage'\n",
       "\\item 'lemp232'\n",
       "\\item 'lwage232'\n",
       "\\item 'gemp232'\n",
       "\\item 'gwage232'\n",
       "\\item 'lminwage'\n",
       "\\item 'gmwage'\n",
       "\\item 'gmwage\\_1'\n",
       "\\item 'gmwage\\_2'\n",
       "\\item 'gmwage\\_3'\n",
       "\\item 'gmwage\\_4'\n",
       "\\item 'gmwage\\_5'\n",
       "\\item 'gmwage\\_6'\n",
       "\\item 'gmwage\\_7'\n",
       "\\item 'gmwage\\_8'\n",
       "\\item 'gmwage\\_9'\n",
       "\\item 'gmwage\\_10'\n",
       "\\item 'gmwage\\_11'\n",
       "\\item 'gmwage\\_12'\n",
       "\\item 'lemp236'\n",
       "\\item 'gcpi'\n",
       "\\item 'lcpi'\n",
       "\\item 'lwage236'\n",
       "\\item 'gemp236'\n",
       "\\item 'gwage236'\n",
       "\\item 'lemp234'\n",
       "\\item 'lwage234'\n",
       "\\item 'gemp234'\n",
       "\\item 'gwage234'\n",
       "\\item 'lemp314'\n",
       "\\item 'lwage314'\n",
       "\\item 'gemp314'\n",
       "\\item 'gwage314'\n",
       "\\item 't'\n",
       "\\end{enumerate*}\n"
      ],
      "text/markdown": [
       "1. 'emp232'\n",
       "2. 'wage232'\n",
       "3. 'emp236'\n",
       "4. 'wage236'\n",
       "5. 'emp234'\n",
       "6. 'wage234'\n",
       "7. 'emp314'\n",
       "8. 'wage314'\n",
       "9. 'emp228'\n",
       "10. 'wage228'\n",
       "11. 'emp233'\n",
       "12. 'wage233'\n",
       "13. 'emp394'\n",
       "14. 'wage394'\n",
       "15. 'emp231'\n",
       "16. 'wage231'\n",
       "17. 'emp226'\n",
       "18. 'wage226'\n",
       "19. 'emp387'\n",
       "20. 'wage387'\n",
       "21. 'emp056'\n",
       "22. 'wage056'\n",
       "23. 'unem'\n",
       "24. 'cpi'\n",
       "25. 'minwage'\n",
       "26. 'lemp232'\n",
       "27. 'lwage232'\n",
       "28. 'gemp232'\n",
       "29. 'gwage232'\n",
       "30. 'lminwage'\n",
       "31. 'gmwage'\n",
       "32. 'gmwage_1'\n",
       "33. 'gmwage_2'\n",
       "34. 'gmwage_3'\n",
       "35. 'gmwage_4'\n",
       "36. 'gmwage_5'\n",
       "37. 'gmwage_6'\n",
       "38. 'gmwage_7'\n",
       "39. 'gmwage_8'\n",
       "40. 'gmwage_9'\n",
       "41. 'gmwage_10'\n",
       "42. 'gmwage_11'\n",
       "43. 'gmwage_12'\n",
       "44. 'lemp236'\n",
       "45. 'gcpi'\n",
       "46. 'lcpi'\n",
       "47. 'lwage236'\n",
       "48. 'gemp236'\n",
       "49. 'gwage236'\n",
       "50. 'lemp234'\n",
       "51. 'lwage234'\n",
       "52. 'gemp234'\n",
       "53. 'gwage234'\n",
       "54. 'lemp314'\n",
       "55. 'lwage314'\n",
       "56. 'gemp314'\n",
       "57. 'gwage314'\n",
       "58. 't'\n",
       "\n",
       "\n"
      ],
      "text/plain": [
       " [1] \"emp232\"    \"wage232\"   \"emp236\"    \"wage236\"   \"emp234\"    \"wage234\"  \n",
       " [7] \"emp314\"    \"wage314\"   \"emp228\"    \"wage228\"   \"emp233\"    \"wage233\"  \n",
       "[13] \"emp394\"    \"wage394\"   \"emp231\"    \"wage231\"   \"emp226\"    \"wage226\"  \n",
       "[19] \"emp387\"    \"wage387\"   \"emp056\"    \"wage056\"   \"unem\"      \"cpi\"      \n",
       "[25] \"minwage\"   \"lemp232\"   \"lwage232\"  \"gemp232\"   \"gwage232\"  \"lminwage\" \n",
       "[31] \"gmwage\"    \"gmwage_1\"  \"gmwage_2\"  \"gmwage_3\"  \"gmwage_4\"  \"gmwage_5\" \n",
       "[37] \"gmwage_6\"  \"gmwage_7\"  \"gmwage_8\"  \"gmwage_9\"  \"gmwage_10\" \"gmwage_11\"\n",
       "[43] \"gmwage_12\" \"lemp236\"   \"gcpi\"      \"lcpi\"      \"lwage236\"  \"gemp236\"  \n",
       "[49] \"gwage236\"  \"lemp234\"   \"lwage234\"  \"gemp234\"   \"gwage234\"  \"lemp314\"  \n",
       "[55] \"lwage314\"  \"gemp314\"   \"gwage314\"  \"t\"        "
      ]
     },
     "metadata": {},
     "output_type": "display_data"
    }
   ],
   "source": [
    "names(minwage)"
   ]
  },
  {
   "cell_type": "code",
   "execution_count": 14,
   "metadata": {},
   "outputs": [],
   "source": [
    "minwage_ii = minwage %>% dplyr::select(gwage232, gcpi, gmwage:gmwage_12)"
   ]
  },
  {
   "cell_type": "code",
   "execution_count": 23,
   "metadata": {},
   "outputs": [],
   "source": [
    "model_minwage_3 = lm(gwage232~., data = minwage_ii)"
   ]
  },
  {
   "cell_type": "code",
   "execution_count": 20,
   "metadata": {},
   "outputs": [
    {
     "data": {
      "text/plain": [
       "MODEL INFO:\n",
       "Observations: 599 (13 missing obs. deleted)\n",
       "Dependent Variable: gwage232\n",
       "Type: OLS linear regression \n",
       "\n",
       "MODEL FIT:\n",
       "F(14,584) = 20.18, p = 0.00\n",
       "R² = 0.33\n",
       "Adj. R² = 0.31 \n",
       "\n",
       "Standard errors: OLS\n",
       "------------------------------------------------\n",
       "                     Est.   S.E.   t val.      p\n",
       "----------------- ------- ------ -------- ------\n",
       "(Intercept)          0.00   0.00     4.90   0.00\n",
       "gcpi                 0.21   0.09     2.35   0.02\n",
       "gmwage               0.15   0.01    15.74   0.00\n",
       "gmwage_1            -0.00   0.01    -0.46   0.65\n",
       "gmwage_2             0.00   0.01     0.08   0.94\n",
       "gmwage_3            -0.02   0.01    -1.98   0.05\n",
       "gmwage_4            -0.01   0.01    -0.66   0.51\n",
       "gmwage_5            -0.01   0.01    -0.78   0.44\n",
       "gmwage_6             0.00   0.01     0.16   0.87\n",
       "gmwage_7            -0.00   0.01    -0.05   0.96\n",
       "gmwage_8             0.02   0.01     2.00   0.05\n",
       "gmwage_9             0.02   0.01     1.97   0.05\n",
       "gmwage_10            0.01   0.01     1.26   0.21\n",
       "gmwage_11            0.02   0.01     1.63   0.10\n",
       "gmwage_12            0.02   0.01     1.87   0.06\n",
       "------------------------------------------------"
      ]
     },
     "metadata": {},
     "output_type": "display_data"
    }
   ],
   "source": [
    "jtools::summ(model_minwage_ii)"
   ]
  },
  {
   "cell_type": "code",
   "execution_count": 24,
   "metadata": {},
   "outputs": [
    {
     "name": "stdout",
     "output_type": "stream",
     "text": [
      "\n",
      "====================================================================================================\n",
      "                                                   Dependent variable:                              \n",
      "                     -------------------------------------------------------------------------------\n",
      "                                                        gwage232                                    \n",
      "                                (1)                        (2)                       (3)            \n",
      "----------------------------------------------------------------------------------------------------\n",
      "gcpi                    0.24352*** (0.08213)      0.26309*** (0.08245)       0.20776** (0.08859)    \n",
      "gmwage                  0.15057*** (0.00966)      0.15185*** (0.00965)       0.14930*** (0.00948)   \n",
      "dplyr::lag(gwage232)                              -0.07791** (0.03429)                              \n",
      "gmwage_1                                                                      -0.00435 (0.00948)    \n",
      "gmwage_2                                                                      0.00072 (0.00947)     \n",
      "gmwage_3                                                                     -0.01881** (0.00950)   \n",
      "gmwage_4                                                                      -0.00628 (0.00956)    \n",
      "gmwage_5                                                                      -0.00746 (0.00960)    \n",
      "gmwage_6                                                                      0.00154 (0.00955)     \n",
      "gmwage_7                                                                      -0.00046 (0.00952)    \n",
      "gmwage_8                                                                     0.01904** (0.00952)    \n",
      "gmwage_9                                                                     0.01875** (0.00952)    \n",
      "gmwage_10                                                                     0.01200 (0.00955)     \n",
      "gmwage_11                                                                     0.01566 (0.00959)     \n",
      "gmwage_12                                                                     0.01793* (0.00960)    \n",
      "Constant                0.00218*** (0.00042)      0.00240*** (0.00043)       0.00210*** (0.00043)   \n",
      "----------------------------------------------------------------------------------------------------\n",
      "Observations                    611                        610                       599            \n",
      "R2                            0.29269                    0.29858                   0.32608          \n",
      "Adjusted R2                   0.29036                    0.29511                   0.30993          \n",
      "Residual Std. Error      0.00791 (df = 608)        0.00789 (df = 606)         0.00774 (df = 584)    \n",
      "F Statistic          125.79510*** (df = 2; 608) 85.98706*** (df = 3; 606) 20.18404*** (df = 14; 584)\n",
      "====================================================================================================\n",
      "Note:                                                                    *p<0.1; **p<0.05; ***p<0.01\n"
     ]
    }
   ],
   "source": [
    "stargazer(type = \"text\",model_minwage_1, model_minwage_2,model_minwage_3,  single.row = TRUE, header = FALSE, digits=5)"
   ]
  },
  {
   "cell_type": "markdown",
   "metadata": {},
   "source": [
    "Starting around gmwage_8, the coefficient estimates are positive and the magintude of the coefficients.\n",
    "\n",
    "F-test"
   ]
  },
  {
   "cell_type": "code",
   "execution_count": 28,
   "metadata": {},
   "outputs": [],
   "source": [
    "lag_coefs = minwage %>% dplyr::select(gmwage_1:gmwage_12) %>% colnames()"
   ]
  },
  {
   "cell_type": "code",
   "execution_count": 46,
   "metadata": {},
   "outputs": [
    {
     "data": {
      "text/html": [
       "'gmwage_1+gmwage_2+gmwage_3+gmwage_4+gmwage_5+gmwage_6+gmwage_7+gmwage_8+gmwage_9+gmwage_10+gmwage_11+gmwage_12'"
      ],
      "text/latex": [
       "'gmwage\\_1+gmwage\\_2+gmwage\\_3+gmwage\\_4+gmwage\\_5+gmwage\\_6+gmwage\\_7+gmwage\\_8+gmwage\\_9+gmwage\\_10+gmwage\\_11+gmwage\\_12'"
      ],
      "text/markdown": [
       "'gmwage_1+gmwage_2+gmwage_3+gmwage_4+gmwage_5+gmwage_6+gmwage_7+gmwage_8+gmwage_9+gmwage_10+gmwage_11+gmwage_12'"
      ],
      "text/plain": [
       "[1] \"gmwage_1+gmwage_2+gmwage_3+gmwage_4+gmwage_5+gmwage_6+gmwage_7+gmwage_8+gmwage_9+gmwage_10+gmwage_11+gmwage_12\""
      ]
     },
     "metadata": {},
     "output_type": "display_data"
    }
   ],
   "source": [
    "paste0(lag_coefs, collapse = '+')"
   ]
  },
  {
   "cell_type": "code",
   "execution_count": 32,
   "metadata": {},
   "outputs": [
    {
     "data": {
      "text/html": [
       "<table>\n",
       "<thead><tr><th scope=col>Res.Df</th><th scope=col>RSS</th><th scope=col>Df</th><th scope=col>Sum of Sq</th><th scope=col>F</th><th scope=col>Pr(&gt;F)</th></tr></thead>\n",
       "<tbody>\n",
       "\t<tr><td>596        </td><td>0.03620615 </td><td>NA         </td><td>         NA</td><td>      NA   </td><td>        NA </td></tr>\n",
       "\t<tr><td>584        </td><td>0.03496764 </td><td>12         </td><td>0.001238516</td><td>1.723721   </td><td>0.05820022 </td></tr>\n",
       "</tbody>\n",
       "</table>\n"
      ],
      "text/latex": [
       "\\begin{tabular}{r|llllll}\n",
       " Res.Df & RSS & Df & Sum of Sq & F & Pr(>F)\\\\\n",
       "\\hline\n",
       "\t 596         & 0.03620615  & NA          &          NA &       NA    &         NA \\\\\n",
       "\t 584         & 0.03496764  & 12          & 0.001238516 & 1.723721    & 0.05820022 \\\\\n",
       "\\end{tabular}\n"
      ],
      "text/markdown": [
       "\n",
       "Res.Df | RSS | Df | Sum of Sq | F | Pr(>F) | \n",
       "|---|---|\n",
       "| 596         | 0.03620615  | NA          |          NA |       NA    |         NA  | \n",
       "| 584         | 0.03496764  | 12          | 0.001238516 | 1.723721    | 0.05820022  | \n",
       "\n",
       "\n"
      ],
      "text/plain": [
       "  Res.Df RSS        Df Sum of Sq   F        Pr(>F)    \n",
       "1 596    0.03620615 NA          NA       NA         NA\n",
       "2 584    0.03496764 12 0.001238516 1.723721 0.05820022"
      ]
     },
     "metadata": {},
     "output_type": "display_data"
    }
   ],
   "source": [
    "car::linearHypothesis(model_minwage_3, lag_coefs)"
   ]
  },
  {
   "cell_type": "markdown",
   "metadata": {},
   "source": [
    "Long-run effect, add up all of the gmwages coefficients. "
   ]
  },
  {
   "cell_type": "code",
   "execution_count": 34,
   "metadata": {},
   "outputs": [],
   "source": [
    "model_3_lr = tidy(model_minwage_3)  %>% slice(3:15)"
   ]
  },
  {
   "cell_type": "code",
   "execution_count": 42,
   "metadata": {},
   "outputs": [
    {
     "data": {
      "text/html": [
       "<table>\n",
       "<thead><tr><th scope=col>term</th><th scope=col>estimate</th><th scope=col>std.error</th><th scope=col>statistic</th><th scope=col>p.value</th></tr></thead>\n",
       "<tbody>\n",
       "\t<tr><td>gmwage       </td><td> 0.1493018738</td><td>0.009484038  </td><td>15.74243690  </td><td>8.376884e-47 </td></tr>\n",
       "\t<tr><td>gmwage_1     </td><td>-0.0043450860</td><td>0.009483794  </td><td>-0.45815903  </td><td>6.470086e-01 </td></tr>\n",
       "\t<tr><td>gmwage_2     </td><td> 0.0007167480</td><td>0.009466089  </td><td> 0.07571744  </td><td>9.396698e-01 </td></tr>\n",
       "\t<tr><td>gmwage_3     </td><td>-0.0188112839</td><td>0.009497978  </td><td>-1.98055664  </td><td>4.810981e-02 </td></tr>\n",
       "\t<tr><td>gmwage_4     </td><td>-0.0062754035</td><td>0.009564615  </td><td>-0.65610624  </td><td>5.120142e-01 </td></tr>\n",
       "\t<tr><td>gmwage_5     </td><td>-0.0074584425</td><td>0.009604786  </td><td>-0.77653392  </td><td>4.377482e-01 </td></tr>\n",
       "\t<tr><td>gmwage_6     </td><td> 0.0015449389</td><td>0.009550310  </td><td> 0.16176846  </td><td>8.715441e-01 </td></tr>\n",
       "\t<tr><td>gmwage_7     </td><td>-0.0004577764</td><td>0.009517538  </td><td>-0.04809820  </td><td>9.616544e-01 </td></tr>\n",
       "\t<tr><td>gmwage_8     </td><td> 0.0190363548</td><td>0.009523449  </td><td> 1.99889287  </td><td>4.608293e-02 </td></tr>\n",
       "\t<tr><td>gmwage_9     </td><td> 0.0187524219</td><td>0.009519804  </td><td> 1.96983268  </td><td>4.932967e-02 </td></tr>\n",
       "\t<tr><td>gmwage_10    </td><td> 0.0120034064</td><td>0.009545220  </td><td> 1.25753064  </td><td>2.090642e-01 </td></tr>\n",
       "\t<tr><td>gmwage_11    </td><td> 0.0156648717</td><td>0.009589121  </td><td> 1.63360866  </td><td>1.028800e-01 </td></tr>\n",
       "\t<tr><td>gmwage_12    </td><td> 0.0179263585</td><td>0.009597859  </td><td> 1.86774550  </td><td>6.229819e-02 </td></tr>\n",
       "</tbody>\n",
       "</table>\n"
      ],
      "text/latex": [
       "\\begin{tabular}{r|lllll}\n",
       " term & estimate & std.error & statistic & p.value\\\\\n",
       "\\hline\n",
       "\t gmwage        &  0.1493018738 & 0.009484038   & 15.74243690   & 8.376884e-47 \\\\\n",
       "\t gmwage\\_1    & -0.0043450860 & 0.009483794   & -0.45815903   & 6.470086e-01 \\\\\n",
       "\t gmwage\\_2    &  0.0007167480 & 0.009466089   &  0.07571744   & 9.396698e-01 \\\\\n",
       "\t gmwage\\_3    & -0.0188112839 & 0.009497978   & -1.98055664   & 4.810981e-02 \\\\\n",
       "\t gmwage\\_4    & -0.0062754035 & 0.009564615   & -0.65610624   & 5.120142e-01 \\\\\n",
       "\t gmwage\\_5    & -0.0074584425 & 0.009604786   & -0.77653392   & 4.377482e-01 \\\\\n",
       "\t gmwage\\_6    &  0.0015449389 & 0.009550310   &  0.16176846   & 8.715441e-01 \\\\\n",
       "\t gmwage\\_7    & -0.0004577764 & 0.009517538   & -0.04809820   & 9.616544e-01 \\\\\n",
       "\t gmwage\\_8    &  0.0190363548 & 0.009523449   &  1.99889287   & 4.608293e-02 \\\\\n",
       "\t gmwage\\_9    &  0.0187524219 & 0.009519804   &  1.96983268   & 4.932967e-02 \\\\\n",
       "\t gmwage\\_10   &  0.0120034064 & 0.009545220   &  1.25753064   & 2.090642e-01 \\\\\n",
       "\t gmwage\\_11   &  0.0156648717 & 0.009589121   &  1.63360866   & 1.028800e-01 \\\\\n",
       "\t gmwage\\_12   &  0.0179263585 & 0.009597859   &  1.86774550   & 6.229819e-02 \\\\\n",
       "\\end{tabular}\n"
      ],
      "text/markdown": [
       "\n",
       "term | estimate | std.error | statistic | p.value | \n",
       "|---|---|---|---|---|---|---|---|---|---|---|---|---|\n",
       "| gmwage        |  0.1493018738 | 0.009484038   | 15.74243690   | 8.376884e-47  | \n",
       "| gmwage_1      | -0.0043450860 | 0.009483794   | -0.45815903   | 6.470086e-01  | \n",
       "| gmwage_2      |  0.0007167480 | 0.009466089   |  0.07571744   | 9.396698e-01  | \n",
       "| gmwage_3      | -0.0188112839 | 0.009497978   | -1.98055664   | 4.810981e-02  | \n",
       "| gmwage_4      | -0.0062754035 | 0.009564615   | -0.65610624   | 5.120142e-01  | \n",
       "| gmwage_5      | -0.0074584425 | 0.009604786   | -0.77653392   | 4.377482e-01  | \n",
       "| gmwage_6      |  0.0015449389 | 0.009550310   |  0.16176846   | 8.715441e-01  | \n",
       "| gmwage_7      | -0.0004577764 | 0.009517538   | -0.04809820   | 9.616544e-01  | \n",
       "| gmwage_8      |  0.0190363548 | 0.009523449   |  1.99889287   | 4.608293e-02  | \n",
       "| gmwage_9      |  0.0187524219 | 0.009519804   |  1.96983268   | 4.932967e-02  | \n",
       "| gmwage_10     |  0.0120034064 | 0.009545220   |  1.25753064   | 2.090642e-01  | \n",
       "| gmwage_11     |  0.0156648717 | 0.009589121   |  1.63360866   | 1.028800e-01  | \n",
       "| gmwage_12     |  0.0179263585 | 0.009597859   |  1.86774550   | 6.229819e-02  | \n",
       "\n",
       "\n"
      ],
      "text/plain": [
       "   term      estimate      std.error   statistic   p.value     \n",
       "1  gmwage     0.1493018738 0.009484038 15.74243690 8.376884e-47\n",
       "2  gmwage_1  -0.0043450860 0.009483794 -0.45815903 6.470086e-01\n",
       "3  gmwage_2   0.0007167480 0.009466089  0.07571744 9.396698e-01\n",
       "4  gmwage_3  -0.0188112839 0.009497978 -1.98055664 4.810981e-02\n",
       "5  gmwage_4  -0.0062754035 0.009564615 -0.65610624 5.120142e-01\n",
       "6  gmwage_5  -0.0074584425 0.009604786 -0.77653392 4.377482e-01\n",
       "7  gmwage_6   0.0015449389 0.009550310  0.16176846 8.715441e-01\n",
       "8  gmwage_7  -0.0004577764 0.009517538 -0.04809820 9.616544e-01\n",
       "9  gmwage_8   0.0190363548 0.009523449  1.99889287 4.608293e-02\n",
       "10 gmwage_9   0.0187524219 0.009519804  1.96983268 4.932967e-02\n",
       "11 gmwage_10  0.0120034064 0.009545220  1.25753064 2.090642e-01\n",
       "12 gmwage_11  0.0156648717 0.009589121  1.63360866 1.028800e-01\n",
       "13 gmwage_12  0.0179263585 0.009597859  1.86774550 6.229819e-02"
      ]
     },
     "metadata": {},
     "output_type": "display_data"
    }
   ],
   "source": [
    "model_3_lr"
   ]
  },
  {
   "cell_type": "code",
   "execution_count": 43,
   "metadata": {},
   "outputs": [],
   "source": [
    "model_3_lr = tidy(model_minwage_3)  %>% slice(3:15) %>% dplyr::select(estimate) %>% sum() %>% round(digits =3)"
   ]
  },
  {
   "cell_type": "code",
   "execution_count": 44,
   "metadata": {},
   "outputs": [
    {
     "data": {
      "text/html": [
       "0.198"
      ],
      "text/latex": [
       "0.198"
      ],
      "text/markdown": [
       "0.198"
      ],
      "text/plain": [
       "[1] 0.198"
      ]
     },
     "metadata": {},
     "output_type": "display_data"
    }
   ],
   "source": [
    "model_3_lr"
   ]
  },
  {
   "cell_type": "markdown",
   "metadata": {},
   "source": [
    "long run effect: sum("
   ]
  },
  {
   "cell_type": "code",
   "execution_count": 50,
   "metadata": {},
   "outputs": [],
   "source": [
    "model_3_lr_f =car::linearHypothesis(model_minwage_3,\n",
    "                                   \n",
    "                                   \"gmwage+gmwage_1+gmwage_2+gmwage_3+gmwage_4+gmwage_5+gmwage_6+gmwage_7+gmwage_8+gmwage_9+gmwage_10+gmwage_11+gmwage_12 =0\")"
   ]
  },
  {
   "cell_type": "code",
   "execution_count": 51,
   "metadata": {},
   "outputs": [
    {
     "name": "stdout",
     "output_type": "stream",
     "text": [
      "Linear hypothesis test\n",
      "\n",
      "Hypothesis:\n",
      "gmwage  + gmwage_1  + gmwage_2  + gmwage_3  + gmwage_4  + gmwage_5  + gmwage_6  + gmwage_7  + gmwage_8  + gmwage_9  + gmwage_10  + gmwage_11  + gmwage_12 = 0\n",
      "\n",
      "Model 1: restricted model\n",
      "Model 2: gwage232 ~ gcpi + gmwage + gmwage_1 + gmwage_2 + gmwage_3 + gmwage_4 + \n",
      "    gmwage_5 + gmwage_6 + gmwage_7 + gmwage_8 + gmwage_9 + gmwage_10 + \n",
      "    gmwage_11 + gmwage_12\n",
      "\n",
      "  Res.Df      RSS Df Sum of Sq      F    Pr(>F)    \n",
      "1    585 0.036541                                  \n",
      "2    584 0.034968  1 0.0015732 26.275 4.032e-07 ***\n",
      "---\n",
      "Signif. codes:  0 ‘***’ 0.001 ‘**’ 0.01 ‘*’ 0.05 ‘.’ 0.1 ‘ ’ 1\n"
     ]
    }
   ],
   "source": [
    "print(model_3_lr_f)"
   ]
  },
  {
   "cell_type": "markdown",
   "metadata": {},
   "source": [
    "min wage did increase the growth in wage232\n",
    "\n",
    "gemp23 growth in employement"
   ]
  },
  {
   "cell_type": "code",
   "execution_count": 56,
   "metadata": {},
   "outputs": [
    {
     "data": {
      "text/plain": [
       "MODEL INFO:\n",
       "Observations: 611 (1 missing obs. deleted)\n",
       "Dependent Variable: gemp232\n",
       "Type: OLS linear regression \n",
       "\n",
       "MODEL FIT:\n",
       "F(2,608) = 0.00, p = 1.00\n",
       "R² = 0.00\n",
       "Adj. R² = -0.00 \n",
       "\n",
       "Standard errors: OLS\n",
       "------------------------------------------------\n",
       "                     Est.   S.E.   t val.      p\n",
       "----------------- ------- ------ -------- ------\n",
       "(Intercept)         -0.00   0.00    -0.45   0.66\n",
       "gcpi                -0.01   0.19    -0.03   0.98\n",
       "gmwage              -0.00   0.02    -0.08   0.93\n",
       "------------------------------------------------"
      ]
     },
     "metadata": {},
     "output_type": "display_data"
    }
   ],
   "source": [
    "model_minwage_em = lm(gemp232 ~ gcpi + gmwage, data = minwage)\n",
    "jtools::summ(model_minwage_em, digit = 5, confint = T)"
   ]
  },
  {
   "cell_type": "markdown",
   "metadata": {},
   "source": [
    "not significant on employment"
   ]
  },
  {
   "cell_type": "code",
   "execution_count": 58,
   "metadata": {},
   "outputs": [
    {
     "data": {
      "text/plain": [
       "MODEL INFO:\n",
       "Observations: 599 (13 missing obs. deleted)\n",
       "Dependent Variable: gemp232\n",
       "Type: OLS linear regression \n",
       "\n",
       "MODEL FIT:\n",
       "F(14,584) = 0.94478, p = 0.50981\n",
       "R² = 0.02215\n",
       "Adj. R² = -0.00129 \n",
       "\n",
       "Standard errors: OLS\n",
       "----------------------------------------------------------------------\n",
       "                        Est.       2.5%     97.5%     t val.         p\n",
       "----------------- ---------- ---------- --------- ---------- ---------\n",
       "(Intercept)         -0.00020   -0.00222   0.00182   -0.19589   0.84477\n",
       "gcpi                -0.11432   -0.53200   0.30337   -0.53755   0.59109\n",
       "gmwage              -0.00425   -0.04897   0.04046   -0.18678   0.85190\n",
       "gmwage_1             0.01319   -0.03153   0.05790    0.57925   0.56265\n",
       "gmwage_2            -0.03102   -0.07565   0.01361   -1.36489   0.17281\n",
       "gmwage_3            -0.00570   -0.05048   0.03908   -0.24987   0.80277\n",
       "gmwage_4            -0.00135   -0.04644   0.04375   -0.05871   0.95321\n",
       "gmwage_5             0.00234   -0.04294   0.04762    0.10145   0.91923\n",
       "gmwage_6             0.04540    0.00037   0.09043    1.98036   0.04813\n",
       "gmwage_7             0.02757   -0.01730   0.07244    1.20677   0.22801\n",
       "gmwage_8            -0.01732   -0.06222   0.02758   -0.75770   0.44893\n",
       "gmwage_9            -0.02484   -0.06972   0.02005   -1.08687   0.27754\n",
       "gmwage_10           -0.02300   -0.06800   0.02200   -1.00379   0.31590\n",
       "gmwage_11            0.01021   -0.03500   0.05542    0.44334   0.65768\n",
       "gmwage_12            0.03451   -0.01074   0.07976    1.49793   0.13469\n",
       "----------------------------------------------------------------------"
      ]
     },
     "metadata": {},
     "output_type": "display_data"
    }
   ],
   "source": [
    "minwage_em = minwage %>% dplyr::select(gemp232, gcpi, gmwage:gmwage_12)\n",
    "\n",
    "model_minwage_em_f = lm(gemp232 ~., data = minwage_em)\n",
    "jtools::summ(model_minwage_em_f, digit = 5, confint = T)"
   ]
  },
  {
   "cell_type": "code",
   "execution_count": 60,
   "metadata": {},
   "outputs": [
    {
     "name": "stdout",
     "output_type": "stream",
     "text": [
      "Linear hypothesis test\n",
      "\n",
      "Hypothesis:\n",
      "gmwage_1 = 0\n",
      "gmwage_2 = 0\n",
      "gmwage_3 = 0\n",
      "gmwage_4 = 0\n",
      "gmwage_5 = 0\n",
      "gmwage_6 = 0\n",
      "gmwage_7 = 0\n",
      "gmwage_8 = 0\n",
      "gmwage_9 = 0\n",
      "gmwage_10 = 0\n",
      "gmwage_11 = 0\n",
      "gmwage_12 = 0\n",
      "\n",
      "Model 1: restricted model\n",
      "Model 2: gemp232 ~ gcpi + gmwage + gmwage_1 + gmwage_2 + gmwage_3 + gmwage_4 + \n",
      "    gmwage_5 + gmwage_6 + gmwage_7 + gmwage_8 + gmwage_9 + gmwage_10 + \n",
      "    gmwage_11 + gmwage_12\n",
      "\n",
      "  Res.Df     RSS Df Sum of Sq      F Pr(>F)\n",
      "1    596 0.20604                           \n",
      "2    584 0.20150 12 0.0045323 1.0946 0.3618\n"
     ]
    }
   ],
   "source": [
    "car::linearHypothesis(model_minwage_em_f, lag_coefs) %>% print()"
   ]
  },
  {
   "cell_type": "markdown",
   "metadata": {},
   "source": [
    "    No significant long run effect of mwage on employment"
   ]
  },
  {
   "cell_type": "code",
   "execution_count": null,
   "metadata": {},
   "outputs": [],
   "source": []
  },
  {
   "cell_type": "code",
   "execution_count": null,
   "metadata": {},
   "outputs": [],
   "source": []
  },
  {
   "cell_type": "code",
   "execution_count": null,
   "metadata": {},
   "outputs": [],
   "source": []
  },
  {
   "cell_type": "code",
   "execution_count": null,
   "metadata": {},
   "outputs": [],
   "source": []
  },
  {
   "cell_type": "code",
   "execution_count": null,
   "metadata": {},
   "outputs": [],
   "source": []
  }
 ],
 "metadata": {
  "kernelspec": {
   "display_name": "R",
   "language": "R",
   "name": "ir"
  },
  "language_info": {
   "codemirror_mode": "r",
   "file_extension": ".r",
   "mimetype": "text/x-r-source",
   "name": "R",
   "pygments_lexer": "r",
   "version": "3.5.1"
  }
 },
 "nbformat": 4,
 "nbformat_minor": 2
}
