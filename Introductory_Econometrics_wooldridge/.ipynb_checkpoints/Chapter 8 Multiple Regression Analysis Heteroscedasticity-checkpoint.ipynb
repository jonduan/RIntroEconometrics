{
 "cells": [
  {
   "cell_type": "code",
   "execution_count": 15,
   "metadata": {
    "ExecuteTime": {
     "end_time": "2019-01-16T06:06:02.607576Z",
     "start_time": "2019-01-16T06:06:02.540Z"
    }
   },
   "outputs": [
    {
     "name": "stderr",
     "output_type": "stream",
     "text": [
      "\n",
      "Attaching package: 'wooldridge'\n",
      "\n",
      "The following objects are masked _by_ '.GlobalEnv':\n",
      "\n",
      "    gpa3, hprice1\n",
      "\n",
      "\n",
      "Please cite as: \n",
      "\n",
      " Hlavac, Marek (2018). stargazer: Well-Formatted Regression and Summary Statistics Tables.\n",
      " R package version 5.2.2. https://CRAN.R-project.org/package=stargazer \n",
      "\n"
     ]
    }
   ],
   "source": [
    "library(wooldridge)\n",
    "library(stargazer)\n",
    "library(knitr)"
   ]
  },
  {
   "cell_type": "markdown",
   "metadata": {},
   "source": [
    "## Example-8-2"
   ]
  },
  {
   "cell_type": "code",
   "execution_count": 1,
   "metadata": {
    "ExecuteTime": {
     "end_time": "2019-01-16T05:59:35.969559Z",
     "start_time": "2019-01-16T05:59:35.108Z"
    }
   },
   "outputs": [
    {
     "name": "stderr",
     "output_type": "stream",
     "text": [
      "Loading required package: zoo\n",
      "\n",
      "Attaching package: 'zoo'\n",
      "\n",
      "The following objects are masked from 'package:base':\n",
      "\n",
      "    as.Date, as.Date.numeric\n",
      "\n",
      "Loading required package: carData\n"
     ]
    },
    {
     "data": {
      "text/plain": [
       "\n",
       "t test of coefficients:\n",
       "\n",
       "               Estimate  Std. Error t value  Pr(>|t|)    \n",
       "(Intercept)  1.47006477  0.22980308  6.3971 4.942e-10 ***\n",
       "sat          0.00114073  0.00017856  6.3885 5.197e-10 ***\n",
       "hsperc      -0.00856636  0.00124042 -6.9060 2.275e-11 ***\n",
       "tothrs       0.00250400  0.00073099  3.4255 0.0006847 ***\n",
       "female       0.30343329  0.05902033  5.1412 4.497e-07 ***\n",
       "black       -0.12828369  0.14737012 -0.8705 0.3846163    \n",
       "white       -0.05872173  0.14098956 -0.4165 0.6772953    \n",
       "---\n",
       "Signif. codes:  0 '***' 0.001 '**' 0.01 '*' 0.05 '.' 0.1 ' ' 1\n"
      ]
     },
     "metadata": {},
     "output_type": "display_data"
    }
   ],
   "source": [
    "library(foreign)\n",
    "gpa3 <- read.dta(\"http://fmwww.bc.edu/ec-p/data/wooldridge/gpa3.dta\")\n",
    "\n",
    "# load packages (which need to be installed!)\n",
    "library(lmtest); library(car)\n",
    "\n",
    "# Estimate model (only for spring data)\n",
    "reg <- lm(cumgpa~sat+hsperc+tothrs+female+black+white, \n",
    "                                     data=gpa3, subset=(spring==1))\n",
    "# Usual SE:\n",
    "coeftest(reg)\n"
   ]
  },
  {
   "cell_type": "code",
   "execution_count": 2,
   "metadata": {
    "ExecuteTime": {
     "end_time": "2019-01-16T05:59:38.816309Z",
     "start_time": "2019-01-16T05:59:38.659Z"
    }
   },
   "outputs": [
    {
     "data": {
      "text/plain": [
       "\n",
       "t test of coefficients:\n",
       "\n",
       "               Estimate  Std. Error t value  Pr(>|t|)    \n",
       "(Intercept)  1.47006477  0.22938036  6.4089 4.611e-10 ***\n",
       "sat          0.00114073  0.00019532  5.8402 1.169e-08 ***\n",
       "hsperc      -0.00856636  0.00144359 -5.9341 6.963e-09 ***\n",
       "tothrs       0.00250400  0.00074930  3.3418   0.00092 ***\n",
       "female       0.30343329  0.06003964  5.0539 6.911e-07 ***\n",
       "black       -0.12828369  0.12818828 -1.0007   0.31762    \n",
       "white       -0.05872173  0.12043522 -0.4876   0.62615    \n",
       "---\n",
       "Signif. codes:  0 '***' 0.001 '**' 0.01 '*' 0.05 '.' 0.1 ' ' 1\n"
      ]
     },
     "metadata": {},
     "output_type": "display_data"
    }
   ],
   "source": [
    "# Refined White heteroscedasticity-robust SE:\n",
    "coeftest(reg, vcov=hccm)\n"
   ]
  },
  {
   "cell_type": "code",
   "execution_count": 3,
   "metadata": {
    "ExecuteTime": {
     "end_time": "2019-01-16T06:00:12.355115Z",
     "start_time": "2019-01-16T06:00:12.326Z"
    }
   },
   "outputs": [
    {
     "data": {
      "text/html": [
       "<table>\n",
       "<thead><tr><th scope=col>Res.Df</th><th scope=col>RSS</th><th scope=col>Df</th><th scope=col>Sum of Sq</th><th scope=col>F</th><th scope=col>Pr(&gt;F)</th></tr></thead>\n",
       "<tbody>\n",
       "\t<tr><td>361      </td><td>79.36167 </td><td>NA       </td><td>       NA</td><td>       NA</td><td>       NA</td></tr>\n",
       "\t<tr><td>359      </td><td>79.06233 </td><td> 2       </td><td>0.2993375</td><td>0.6796042</td><td>0.5074684</td></tr>\n",
       "</tbody>\n",
       "</table>\n"
      ],
      "text/latex": [
       "\\begin{tabular}{r|llllll}\n",
       " Res.Df & RSS & Df & Sum of Sq & F & Pr(>F)\\\\\n",
       "\\hline\n",
       "\t 361       & 79.36167  & NA        &        NA &        NA &        NA\\\\\n",
       "\t 359       & 79.06233  &  2        & 0.2993375 & 0.6796042 & 0.5074684\\\\\n",
       "\\end{tabular}\n"
      ],
      "text/markdown": [
       "\n",
       "Res.Df | RSS | Df | Sum of Sq | F | Pr(>F) | \n",
       "|---|---|\n",
       "| 361       | 79.36167  | NA        |        NA |        NA |        NA | \n",
       "| 359       | 79.06233  |  2        | 0.2993375 | 0.6796042 | 0.5074684 | \n",
       "\n",
       "\n"
      ],
      "text/plain": [
       "  Res.Df RSS      Df Sum of Sq F         Pr(>F)   \n",
       "1 361    79.36167 NA        NA        NA        NA\n",
       "2 359    79.06233  2 0.2993375 0.6796042 0.5074684"
      ]
     },
     "metadata": {},
     "output_type": "display_data"
    }
   ],
   "source": [
    "# F-Tests using different variance-covariance formulas:\n",
    "myH0 <- c(\"black\",\"white\")\n",
    "# Ususal VCOV\n",
    "linearHypothesis(reg, myH0)\n"
   ]
  },
  {
   "cell_type": "code",
   "execution_count": 4,
   "metadata": {
    "ExecuteTime": {
     "end_time": "2019-01-16T06:00:21.671619Z",
     "start_time": "2019-01-16T06:00:21.647Z"
    }
   },
   "outputs": [
    {
     "data": {
      "text/html": [
       "<table>\n",
       "<thead><tr><th scope=col>Res.Df</th><th scope=col>Df</th><th scope=col>F</th><th scope=col>Pr(&gt;F)</th></tr></thead>\n",
       "<tbody>\n",
       "\t<tr><td>361      </td><td>NA       </td><td>       NA</td><td>       NA</td></tr>\n",
       "\t<tr><td>359      </td><td> 2       </td><td>0.6724693</td><td>0.5110884</td></tr>\n",
       "</tbody>\n",
       "</table>\n"
      ],
      "text/latex": [
       "\\begin{tabular}{r|llll}\n",
       " Res.Df & Df & F & Pr(>F)\\\\\n",
       "\\hline\n",
       "\t 361       & NA        &        NA &        NA\\\\\n",
       "\t 359       &  2        & 0.6724693 & 0.5110884\\\\\n",
       "\\end{tabular}\n"
      ],
      "text/markdown": [
       "\n",
       "Res.Df | Df | F | Pr(>F) | \n",
       "|---|---|\n",
       "| 361       | NA        |        NA |        NA | \n",
       "| 359       |  2        | 0.6724693 | 0.5110884 | \n",
       "\n",
       "\n"
      ],
      "text/plain": [
       "  Res.Df Df F         Pr(>F)   \n",
       "1 361    NA        NA        NA\n",
       "2 359     2 0.6724693 0.5110884"
      ]
     },
     "metadata": {},
     "output_type": "display_data"
    }
   ],
   "source": [
    "# Refined White VCOV\n",
    "linearHypothesis(reg, myH0, vcov=hccm)\n",
    "\n"
   ]
  },
  {
   "cell_type": "code",
   "execution_count": 5,
   "metadata": {
    "ExecuteTime": {
     "end_time": "2019-01-16T06:00:22.489407Z",
     "start_time": "2019-01-16T06:00:22.462Z"
    }
   },
   "outputs": [
    {
     "data": {
      "text/html": [
       "<table>\n",
       "<thead><tr><th scope=col>Res.Df</th><th scope=col>Df</th><th scope=col>F</th><th scope=col>Pr(&gt;F)</th></tr></thead>\n",
       "<tbody>\n",
       "\t<tr><td>361      </td><td>NA       </td><td>      NA </td><td>       NA</td></tr>\n",
       "\t<tr><td>359      </td><td> 2       </td><td>0.747797 </td><td>0.4741443</td></tr>\n",
       "</tbody>\n",
       "</table>\n"
      ],
      "text/latex": [
       "\\begin{tabular}{r|llll}\n",
       " Res.Df & Df & F & Pr(>F)\\\\\n",
       "\\hline\n",
       "\t 361       & NA        &       NA  &        NA\\\\\n",
       "\t 359       &  2        & 0.747797  & 0.4741443\\\\\n",
       "\\end{tabular}\n"
      ],
      "text/markdown": [
       "\n",
       "Res.Df | Df | F | Pr(>F) | \n",
       "|---|---|\n",
       "| 361       | NA        |       NA  |        NA | \n",
       "| 359       |  2        | 0.747797  | 0.4741443 | \n",
       "\n",
       "\n"
      ],
      "text/plain": [
       "  Res.Df Df F        Pr(>F)   \n",
       "1 361    NA       NA        NA\n",
       "2 359     2 0.747797 0.4741443"
      ]
     },
     "metadata": {},
     "output_type": "display_data"
    }
   ],
   "source": [
    "# Classical White VCOV\n",
    "linearHypothesis(reg, myH0, vcov=hccm(reg,type=\"hc0\"))"
   ]
  },
  {
   "cell_type": "code",
   "execution_count": null,
   "metadata": {},
   "outputs": [],
   "source": []
  },
  {
   "cell_type": "markdown",
   "metadata": {},
   "source": [
    "## Example-8-4\n"
   ]
  },
  {
   "cell_type": "code",
   "execution_count": 6,
   "metadata": {
    "ExecuteTime": {
     "end_time": "2019-01-16T06:01:24.819019Z",
     "start_time": "2019-01-16T06:01:24.624Z"
    }
   },
   "outputs": [
    {
     "data": {
      "text/plain": [
       "\n",
       "Call:\n",
       "lm(formula = price ~ lotsize + sqrft + bdrms, data = hprice1)\n",
       "\n",
       "Coefficients:\n",
       "(Intercept)      lotsize        sqrft        bdrms  \n",
       " -21.770308     0.002068     0.122778    13.852522  \n"
      ]
     },
     "metadata": {},
     "output_type": "display_data"
    }
   ],
   "source": [
    "library(foreign)\n",
    "hprice1<-read.dta(\"http://fmwww.bc.edu/ec-p/data/wooldridge/hprice1.dta\")\n",
    "\n",
    "# Estimate model\n",
    "reg <- lm(price~lotsize+sqrft+bdrms, data=hprice1)\n",
    "reg\n"
   ]
  },
  {
   "cell_type": "code",
   "execution_count": 7,
   "metadata": {
    "ExecuteTime": {
     "end_time": "2019-01-16T06:01:31.774147Z",
     "start_time": "2019-01-16T06:01:31.731Z"
    }
   },
   "outputs": [
    {
     "data": {
      "text/plain": [
       "\n",
       "\tstudentized Breusch-Pagan test\n",
       "\n",
       "data:  reg\n",
       "BP = 14.092, df = 3, p-value = 0.002782\n"
      ]
     },
     "metadata": {},
     "output_type": "display_data"
    }
   ],
   "source": [
    "\n",
    "# Automatic BP test\n",
    "library(lmtest)\n",
    "bptest(reg)\n",
    "\n"
   ]
  },
  {
   "cell_type": "code",
   "execution_count": 8,
   "metadata": {
    "ExecuteTime": {
     "end_time": "2019-01-16T06:01:31.983585Z",
     "start_time": "2019-01-16T06:01:31.955Z"
    }
   },
   "outputs": [
    {
     "data": {
      "text/plain": [
       "\n",
       "Call:\n",
       "lm(formula = resid(reg)^2 ~ lotsize + sqrft + bdrms, data = hprice1)\n",
       "\n",
       "Residuals:\n",
       "   Min     1Q Median     3Q    Max \n",
       " -9044  -2212  -1256    -97  42582 \n",
       "\n",
       "Coefficients:\n",
       "              Estimate Std. Error t value Pr(>|t|)   \n",
       "(Intercept) -5.523e+03  3.259e+03  -1.694  0.09390 . \n",
       "lotsize      2.015e-01  7.101e-02   2.838  0.00569 **\n",
       "sqrft        1.691e+00  1.464e+00   1.155  0.25128   \n",
       "bdrms        1.042e+03  9.964e+02   1.046  0.29877   \n",
       "---\n",
       "Signif. codes:  0 '***' 0.001 '**' 0.01 '*' 0.05 '.' 0.1 ' ' 1\n",
       "\n",
       "Residual standard error: 6617 on 84 degrees of freedom\n",
       "Multiple R-squared:  0.1601,\tAdjusted R-squared:  0.1301 \n",
       "F-statistic: 5.339 on 3 and 84 DF,  p-value: 0.002048\n"
      ]
     },
     "metadata": {},
     "output_type": "display_data"
    }
   ],
   "source": [
    "# Manual regression of squared residuals \n",
    "summary(lm( resid(reg)^2 ~ lotsize+sqrft+bdrms, data=hprice1))\n"
   ]
  },
  {
   "cell_type": "code",
   "execution_count": 9,
   "metadata": {
    "ExecuteTime": {
     "end_time": "2019-01-16T06:02:27.598021Z",
     "start_time": "2019-01-16T06:02:27.575Z"
    }
   },
   "outputs": [
    {
     "data": {
      "text/html": [
       "13.4484"
      ],
      "text/latex": [
       "13.4484"
      ],
      "text/markdown": [
       "13.4484"
      ],
      "text/plain": [
       "[1] 13.4484"
      ]
     },
     "metadata": {},
     "output_type": "display_data"
    }
   ],
   "source": [
    "0.1601 * 84"
   ]
  },
  {
   "cell_type": "code",
   "execution_count": null,
   "metadata": {},
   "outputs": [],
   "source": []
  },
  {
   "cell_type": "markdown",
   "metadata": {},
   "source": [
    "## Example-8-5"
   ]
  },
  {
   "cell_type": "code",
   "execution_count": 10,
   "metadata": {
    "ExecuteTime": {
     "end_time": "2019-01-16T06:03:24.170416Z",
     "start_time": "2019-01-16T06:03:23.987Z"
    }
   },
   "outputs": [
    {
     "data": {
      "text/plain": [
       "\n",
       "Call:\n",
       "lm(formula = log(price) ~ log(lotsize) + log(sqrft) + bdrms, \n",
       "    data = hprice1)\n",
       "\n",
       "Coefficients:\n",
       " (Intercept)  log(lotsize)    log(sqrft)         bdrms  \n",
       "    -1.29704       0.16797       0.70023       0.03696  \n"
      ]
     },
     "metadata": {},
     "output_type": "display_data"
    }
   ],
   "source": [
    "library(foreign)\n",
    "hprice1<-read.dta(\"http://fmwww.bc.edu/ec-p/data/wooldridge/hprice1.dta\")\n",
    "\n",
    "# Estimate model\n",
    "reg <- lm(log(price)~log(lotsize)+log(sqrft)+bdrms, data=hprice1)\n",
    "reg\n",
    "\n"
   ]
  },
  {
   "cell_type": "code",
   "execution_count": 11,
   "metadata": {
    "ExecuteTime": {
     "end_time": "2019-01-16T06:03:28.452803Z",
     "start_time": "2019-01-16T06:03:28.427Z"
    }
   },
   "outputs": [
    {
     "data": {
      "text/plain": [
       "\n",
       "\tstudentized Breusch-Pagan test\n",
       "\n",
       "data:  reg\n",
       "BP = 4.2232, df = 3, p-value = 0.2383\n"
      ]
     },
     "metadata": {},
     "output_type": "display_data"
    }
   ],
   "source": [
    "# BP test\n",
    "library(lmtest)\n",
    "bptest(reg)\n",
    "\n",
    "\n"
   ]
  },
  {
   "cell_type": "code",
   "execution_count": 12,
   "metadata": {
    "ExecuteTime": {
     "end_time": "2019-01-16T06:03:30.136464Z",
     "start_time": "2019-01-16T06:03:30.115Z"
    }
   },
   "outputs": [
    {
     "data": {
      "text/plain": [
       "\n",
       "\tstudentized Breusch-Pagan test\n",
       "\n",
       "data:  reg\n",
       "BP = 3.4473, df = 2, p-value = 0.1784\n"
      ]
     },
     "metadata": {},
     "output_type": "display_data"
    }
   ],
   "source": [
    "# White test\n",
    "bptest(reg, ~ fitted(reg) + I(fitted(reg)^2) )"
   ]
  },
  {
   "cell_type": "markdown",
   "metadata": {},
   "source": [
    "Fail reject the null hypothesis "
   ]
  },
  {
   "cell_type": "code",
   "execution_count": null,
   "metadata": {},
   "outputs": [],
   "source": []
  },
  {
   "cell_type": "markdown",
   "metadata": {},
   "source": [
    "## Example-8-6"
   ]
  },
  {
   "cell_type": "code",
   "execution_count": 16,
   "metadata": {
    "ExecuteTime": {
     "end_time": "2019-01-16T06:06:34.212479Z",
     "start_time": "2019-01-16T06:06:33.564Z"
    }
   },
   "outputs": [
    {
     "ename": "ERROR",
     "evalue": "Error in eval(expr, envir, enclos): object 'OLS' not found\n",
     "output_type": "error",
     "traceback": [
      "Error in eval(expr, envir, enclos): object 'OLS' not found\nTraceback:\n"
     ]
    }
   ],
   "source": [
    "library(foreign)\n",
    "d401k<-read.dta(\"http://fmwww.bc.edu/ec-p/data/wooldridge/401ksubs.dta\")\n",
    "\n",
    "# OLS (only for singles: fsize==1)\n",
    "OLS1 = lm(nettfa ~ inc + I((age-25)^2) + male + e401k, \n",
    "                                         data=d401k, subset=(fsize==1))\n",
    "OLS1\n",
    "\n"
   ]
  },
  {
   "cell_type": "code",
   "execution_count": 17,
   "metadata": {
    "ExecuteTime": {
     "end_time": "2019-01-16T06:06:51.066742Z",
     "start_time": "2019-01-16T06:06:51.041Z"
    }
   },
   "outputs": [
    {
     "data": {
      "text/plain": [
       "\n",
       "Call:\n",
       "lm(formula = nettfa ~ inc + I((age - 25)^2) + male + e401k, data = d401k, \n",
       "    subset = (fsize == 1), weights = 1/inc)\n",
       "\n",
       "Coefficients:\n",
       "    (Intercept)              inc  I((age - 25)^2)             male  \n",
       "      -16.70252          0.74038          0.01754          1.84053  \n",
       "          e401k  \n",
       "        5.18828  \n"
      ]
     },
     "metadata": {},
     "output_type": "display_data"
    }
   ],
   "source": [
    "# WLS\n",
    "WLS1 =lm(nettfa ~ inc + I((age-25)^2) + male + e401k, weight=1/inc, \n",
    "                                         data=d401k, subset=(fsize==1))\n",
    "WLS1"
   ]
  },
  {
   "cell_type": "code",
   "execution_count": 18,
   "metadata": {
    "ExecuteTime": {
     "end_time": "2019-01-16T06:07:02.428340Z",
     "start_time": "2019-01-16T06:07:02.119Z"
    }
   },
   "outputs": [
    {
     "name": "stdout",
     "output_type": "stream",
     "text": [
      "\n",
      "=============================================================================\n",
      "                                             Dependent variable:             \n",
      "                                ---------------------------------------------\n",
      "                                                   nettfa                    \n",
      "                                         (1)                    (2)          \n",
      "-----------------------------------------------------------------------------\n",
      "inc                              0.77058*** (0.06145)   0.74038*** (0.06430) \n",
      "I((age - 25)2)                   0.02513*** (0.00259)   0.01754*** (0.00193) \n",
      "male                              2.47793 (2.04778)      1.84053 (1.56359)   \n",
      "e401k                            6.88622*** (2.12327)   5.18828*** (1.70343) \n",
      "Constant                        -20.98499*** (2.47202) -16.70252*** (1.95799)\n",
      "-----------------------------------------------------------------------------\n",
      "Observations                            2,017                  2,017         \n",
      "R2                                     0.12787                0.11151        \n",
      "Adjusted R2                            0.12613                0.10974        \n",
      "Residual Std. Error (df = 2012)        44.48805               7.06499        \n",
      "F Statistic (df = 4; 2012)           73.74763***            63.12735***      \n",
      "=============================================================================\n",
      "Note:                                             *p<0.1; **p<0.05; ***p<0.01\n"
     ]
    }
   ],
   "source": [
    "stargazer(type = \"text\",\n",
    "          OLS1, \n",
    "          WLS1,  \n",
    "          single.row = TRUE, header = FALSE, digits=5)"
   ]
  },
  {
   "cell_type": "code",
   "execution_count": null,
   "metadata": {},
   "outputs": [],
   "source": []
  },
  {
   "cell_type": "markdown",
   "metadata": {},
   "source": [
    "\n",
    "## Example-8-7"
   ]
  },
  {
   "cell_type": "code",
   "execution_count": 19,
   "metadata": {
    "ExecuteTime": {
     "end_time": "2019-01-16T06:07:57.021409Z",
     "start_time": "2019-01-16T06:07:56.753Z"
    }
   },
   "outputs": [
    {
     "data": {
      "text/plain": [
       "\n",
       "Call:\n",
       "lm(formula = cigs ~ log(income) + log(cigpric) + educ + age + \n",
       "    I(age^2) + restaurn, data = smoke)\n",
       "\n",
       "Coefficients:\n",
       " (Intercept)   log(income)  log(cigpric)          educ           age  \n",
       "   -3.639826      0.880268     -0.750862     -0.501498      0.770694  \n",
       "    I(age^2)      restaurn  \n",
       "   -0.009023     -2.825085  \n"
      ]
     },
     "metadata": {},
     "output_type": "display_data"
    }
   ],
   "source": [
    "library(foreign)\n",
    "smoke <- read.dta(\"http://fmwww.bc.edu/ec-p/data/wooldridge/smoke.dta\")\n",
    "\n",
    "# OLS\n",
    "olsreg<-lm(cigs~log(income)+log(cigpric)+educ+age+I(age^2)+restaurn, \n",
    "                                                            data=smoke)\n",
    "olsreg\n",
    "\n",
    "\n"
   ]
  },
  {
   "cell_type": "code",
   "execution_count": 21,
   "metadata": {
    "ExecuteTime": {
     "end_time": "2019-01-16T06:08:57.091876Z",
     "start_time": "2019-01-16T06:08:57.056Z"
    }
   },
   "outputs": [
    {
     "data": {
      "text/plain": [
       "\n",
       "\tstudentized Breusch-Pagan test\n",
       "\n",
       "data:  olsreg\n",
       "BP = 32.258, df = 6, p-value = 1.456e-05\n"
      ]
     },
     "metadata": {},
     "output_type": "display_data"
    },
    {
     "data": {
      "text/plain": [
       "\n",
       "Call:\n",
       "lm(formula = cigs ~ log(income) + log(cigpric) + educ + age + \n",
       "    I(age^2) + restaurn, data = smoke, weights = w)\n",
       "\n",
       "Coefficients:\n",
       " (Intercept)   log(income)  log(cigpric)          educ           age  \n",
       "    5.635463      1.295239     -2.940312     -0.463446      0.481948  \n",
       "    I(age^2)      restaurn  \n",
       "   -0.005627     -3.461064  \n"
      ]
     },
     "metadata": {},
     "output_type": "display_data"
    }
   ],
   "source": [
    "# BP test\n",
    "library(lmtest)\n",
    "bptest(olsreg)\n",
    "\n",
    "# FGLS: estimation of the variance function\n",
    "logu2 <- log(resid(olsreg)^2)\n",
    "varreg<-lm(logu2~log(income)+log(cigpric)+educ+age+I(age^2)+restaurn, \n",
    "                                                            data=smoke)\n",
    "\n",
    "# FGLS: WLS\n",
    "w <- 1/exp(fitted(varreg))\n",
    "FGLS1=lm(cigs~log(income)+log(cigpric)+educ+age+I(age^2)+restaurn, \n",
    "                                                  weight=w ,data=smoke)\n",
    "FGLS1"
   ]
  },
  {
   "cell_type": "code",
   "execution_count": 23,
   "metadata": {
    "ExecuteTime": {
     "end_time": "2019-01-16T06:09:32.097803Z",
     "start_time": "2019-01-16T06:09:31.873Z"
    }
   },
   "outputs": [
    {
     "name": "stdout",
     "output_type": "stream",
     "text": [
      "\n",
      "==========================================================================\n",
      "                                           Dependent variable:            \n",
      "                               -------------------------------------------\n",
      "                                                  cigs                    \n",
      "                                        (1)                   (2)         \n",
      "--------------------------------------------------------------------------\n",
      "log(income)                      0.88027 (0.72778)   1.29524*** (0.43701) \n",
      "log(cigpric)                    -0.75086 (5.77334)    -2.94031 (4.46014)  \n",
      "educ                           -0.50150*** (0.16708) -0.46345*** (0.12016)\n",
      "age                            0.77069*** (0.16012)  0.48195*** (0.09681) \n",
      "I(age2)                        -0.00902*** (0.00174) -0.00563*** (0.00094)\n",
      "restaurn                       -2.82508** (1.11179)  -3.46106*** (0.79551)\n",
      "Constant                        -3.63983 (24.07866)   5.63546 (17.80314)  \n",
      "--------------------------------------------------------------------------\n",
      "Observations                            807                   807         \n",
      "R2                                    0.05274               0.11341       \n",
      "Adjusted R2                           0.04563               0.10676       \n",
      "Residual Std. Error (df = 800)       13.40479               1.57870       \n",
      "F Statistic (df = 6; 800)           7.42306***            17.05549***     \n",
      "==========================================================================\n",
      "Note:                                          *p<0.1; **p<0.05; ***p<0.01\n"
     ]
    }
   ],
   "source": [
    "stargazer(type = \"text\",\n",
    "          olsreg, \n",
    "          FGLS1,  \n",
    "          single.row = TRUE, header = FALSE, digits=5)"
   ]
  },
  {
   "cell_type": "code",
   "execution_count": null,
   "metadata": {},
   "outputs": [],
   "source": []
  },
  {
   "cell_type": "code",
   "execution_count": null,
   "metadata": {},
   "outputs": [],
   "source": []
  },
  {
   "cell_type": "code",
   "execution_count": null,
   "metadata": {},
   "outputs": [],
   "source": []
  }
 ],
 "metadata": {
  "kernelspec": {
   "display_name": "R",
   "language": "R",
   "name": "ir"
  },
  "language_info": {
   "codemirror_mode": "r",
   "file_extension": ".r",
   "mimetype": "text/x-r-source",
   "name": "R",
   "pygments_lexer": "r",
   "version": "3.5.1"
  }
 },
 "nbformat": 4,
 "nbformat_minor": 2
}
