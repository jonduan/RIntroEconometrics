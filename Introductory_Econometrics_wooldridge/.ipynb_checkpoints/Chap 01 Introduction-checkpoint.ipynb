{
 "cells": [
  {
   "cell_type": "markdown",
   "metadata": {},
   "source": [
    "## Wooldridge Introductory Economics\n",
    "\n",
    "https://cran.r-project.org/web/packages/wooldridge/vignettes/Introductory-Econometrics-Examples.html\n",
    "\n",
    "https://rdrr.io/cran/wooldridge/f/inst/doc/Introductory-Econometrics-Examples.Rmd"
   ]
  },
  {
   "cell_type": "code",
   "execution_count": 1,
   "metadata": {},
   "outputs": [
    {
     "name": "stderr",
     "output_type": "stream",
     "text": [
      "Installing package into ‘/home/jupyter/R/x86_64-pc-linux-gnu-library/3.5’\n",
      "(as ‘lib’ is unspecified)\n",
      "also installing the dependency ‘remotes’\n",
      "\n"
     ]
    }
   ],
   "source": [
    "install.packages(\"pacman\")"
   ]
  },
  {
   "cell_type": "code",
   "execution_count": 11,
   "metadata": {},
   "outputs": [],
   "source": [
    "pacman::p_load(wooldridge,stargazer,tidyverse)"
   ]
  },
  {
   "cell_type": "code",
   "execution_count": 8,
   "metadata": {},
   "outputs": [],
   "source": [
    "data(\"wage1\")\n",
    "\n",
    "?wage1"
   ]
  },
  {
   "cell_type": "code",
   "execution_count": 9,
   "metadata": {},
   "outputs": [
    {
     "name": "stdout",
     "output_type": "stream",
     "text": [
      "'data.frame':\t526 obs. of  24 variables:\n",
      " $ wage    : num  3.1 3.24 3 6 5.3 ...\n",
      " $ educ    : int  11 12 11 8 12 16 18 12 12 17 ...\n",
      " $ exper   : int  2 22 2 44 7 9 15 5 26 22 ...\n",
      " $ tenure  : int  0 2 0 28 2 8 7 3 4 21 ...\n",
      " $ nonwhite: int  0 0 0 0 0 0 0 0 0 0 ...\n",
      " $ female  : int  1 1 0 0 0 0 0 1 1 0 ...\n",
      " $ married : int  0 1 0 1 1 1 0 0 0 1 ...\n",
      " $ numdep  : int  2 3 2 0 1 0 0 0 2 0 ...\n",
      " $ smsa    : int  1 1 0 1 0 1 1 1 1 1 ...\n",
      " $ northcen: int  0 0 0 0 0 0 0 0 0 0 ...\n",
      " $ south   : int  0 0 0 0 0 0 0 0 0 0 ...\n",
      " $ west    : int  1 1 1 1 1 1 1 1 1 1 ...\n",
      " $ construc: int  0 0 0 0 0 0 0 0 0 0 ...\n",
      " $ ndurman : int  0 0 0 0 0 0 0 0 0 0 ...\n",
      " $ trcommpu: int  0 0 0 0 0 0 0 0 0 0 ...\n",
      " $ trade   : int  0 0 1 0 0 0 1 0 1 0 ...\n",
      " $ services: int  0 1 0 0 0 0 0 0 0 0 ...\n",
      " $ profserv: int  0 0 0 0 0 1 0 0 0 0 ...\n",
      " $ profocc : int  0 0 0 0 0 1 1 1 1 1 ...\n",
      " $ clerocc : int  0 0 0 1 0 0 0 0 0 0 ...\n",
      " $ servocc : int  0 1 0 0 0 0 0 0 0 0 ...\n",
      " $ lwage   : num  1.13 1.18 1.1 1.79 1.67 ...\n",
      " $ expersq : int  4 484 4 1936 49 81 225 25 676 484 ...\n",
      " $ tenursq : int  0 4 0 784 4 64 49 9 16 441 ...\n",
      " - attr(*, \"time.stamp\")= chr \"25 Jun 2011 23:03\"\n"
     ]
    }
   ],
   "source": [
    " str(wage1)"
   ]
  },
  {
   "cell_type": "code",
   "execution_count": 10,
   "metadata": {},
   "outputs": [
    {
     "data": {
      "text/html": [
       "<table>\n",
       "<thead><tr><th scope=col>wage</th><th scope=col>educ</th><th scope=col>exper</th><th scope=col>tenure</th><th scope=col>nonwhite</th><th scope=col>female</th><th scope=col>married</th><th scope=col>numdep</th><th scope=col>smsa</th><th scope=col>northcen</th><th scope=col>⋯</th><th scope=col>trcommpu</th><th scope=col>trade</th><th scope=col>services</th><th scope=col>profserv</th><th scope=col>profocc</th><th scope=col>clerocc</th><th scope=col>servocc</th><th scope=col>lwage</th><th scope=col>expersq</th><th scope=col>tenursq</th></tr></thead>\n",
       "<tbody>\n",
       "\t<tr><td>3.10    </td><td>11      </td><td> 2      </td><td> 0      </td><td>0       </td><td>1       </td><td>0       </td><td>2       </td><td>1       </td><td>0       </td><td>⋯       </td><td>0       </td><td>0       </td><td>0       </td><td>0       </td><td>0       </td><td>0       </td><td>0       </td><td>1.131402</td><td>   4    </td><td>  0     </td></tr>\n",
       "\t<tr><td>3.24    </td><td>12      </td><td>22      </td><td> 2      </td><td>0       </td><td>1       </td><td>1       </td><td>3       </td><td>1       </td><td>0       </td><td>⋯       </td><td>0       </td><td>0       </td><td>1       </td><td>0       </td><td>0       </td><td>0       </td><td>1       </td><td>1.175573</td><td> 484    </td><td>  4     </td></tr>\n",
       "\t<tr><td>3.00    </td><td>11      </td><td> 2      </td><td> 0      </td><td>0       </td><td>0       </td><td>0       </td><td>2       </td><td>0       </td><td>0       </td><td>⋯       </td><td>0       </td><td>1       </td><td>0       </td><td>0       </td><td>0       </td><td>0       </td><td>0       </td><td>1.098612</td><td>   4    </td><td>  0     </td></tr>\n",
       "\t<tr><td>6.00    </td><td> 8      </td><td>44      </td><td>28      </td><td>0       </td><td>0       </td><td>1       </td><td>0       </td><td>1       </td><td>0       </td><td>⋯       </td><td>0       </td><td>0       </td><td>0       </td><td>0       </td><td>0       </td><td>1       </td><td>0       </td><td>1.791759</td><td>1936    </td><td>784     </td></tr>\n",
       "\t<tr><td>5.30    </td><td>12      </td><td> 7      </td><td> 2      </td><td>0       </td><td>0       </td><td>1       </td><td>1       </td><td>0       </td><td>0       </td><td>⋯       </td><td>0       </td><td>0       </td><td>0       </td><td>0       </td><td>0       </td><td>0       </td><td>0       </td><td>1.667707</td><td>  49    </td><td>  4     </td></tr>\n",
       "\t<tr><td>8.75    </td><td>16      </td><td> 9      </td><td> 8      </td><td>0       </td><td>0       </td><td>1       </td><td>0       </td><td>1       </td><td>0       </td><td>⋯       </td><td>0       </td><td>0       </td><td>0       </td><td>1       </td><td>1       </td><td>0       </td><td>0       </td><td>2.169054</td><td>  81    </td><td> 64     </td></tr>\n",
       "</tbody>\n",
       "</table>\n"
      ],
      "text/latex": [
       "\\begin{tabular}{r|llllllllllllllllllllllll}\n",
       " wage & educ & exper & tenure & nonwhite & female & married & numdep & smsa & northcen & ⋯ & trcommpu & trade & services & profserv & profocc & clerocc & servocc & lwage & expersq & tenursq\\\\\n",
       "\\hline\n",
       "\t 3.10     & 11       &  2       &  0       & 0        & 1        & 0        & 2        & 1        & 0        & ⋯        & 0        & 0        & 0        & 0        & 0        & 0        & 0        & 1.131402 &    4     &   0     \\\\\n",
       "\t 3.24     & 12       & 22       &  2       & 0        & 1        & 1        & 3        & 1        & 0        & ⋯        & 0        & 0        & 1        & 0        & 0        & 0        & 1        & 1.175573 &  484     &   4     \\\\\n",
       "\t 3.00     & 11       &  2       &  0       & 0        & 0        & 0        & 2        & 0        & 0        & ⋯        & 0        & 1        & 0        & 0        & 0        & 0        & 0        & 1.098612 &    4     &   0     \\\\\n",
       "\t 6.00     &  8       & 44       & 28       & 0        & 0        & 1        & 0        & 1        & 0        & ⋯        & 0        & 0        & 0        & 0        & 0        & 1        & 0        & 1.791759 & 1936     & 784     \\\\\n",
       "\t 5.30     & 12       &  7       &  2       & 0        & 0        & 1        & 1        & 0        & 0        & ⋯        & 0        & 0        & 0        & 0        & 0        & 0        & 0        & 1.667707 &   49     &   4     \\\\\n",
       "\t 8.75     & 16       &  9       &  8       & 0        & 0        & 1        & 0        & 1        & 0        & ⋯        & 0        & 0        & 0        & 1        & 1        & 0        & 0        & 2.169054 &   81     &  64     \\\\\n",
       "\\end{tabular}\n"
      ],
      "text/markdown": [
       "\n",
       "wage | educ | exper | tenure | nonwhite | female | married | numdep | smsa | northcen | ⋯ | trcommpu | trade | services | profserv | profocc | clerocc | servocc | lwage | expersq | tenursq | \n",
       "|---|---|---|---|---|---|\n",
       "| 3.10     | 11       |  2       |  0       | 0        | 1        | 0        | 2        | 1        | 0        | ⋯        | 0        | 0        | 0        | 0        | 0        | 0        | 0        | 1.131402 |    4     |   0      | \n",
       "| 3.24     | 12       | 22       |  2       | 0        | 1        | 1        | 3        | 1        | 0        | ⋯        | 0        | 0        | 1        | 0        | 0        | 0        | 1        | 1.175573 |  484     |   4      | \n",
       "| 3.00     | 11       |  2       |  0       | 0        | 0        | 0        | 2        | 0        | 0        | ⋯        | 0        | 1        | 0        | 0        | 0        | 0        | 0        | 1.098612 |    4     |   0      | \n",
       "| 6.00     |  8       | 44       | 28       | 0        | 0        | 1        | 0        | 1        | 0        | ⋯        | 0        | 0        | 0        | 0        | 0        | 1        | 0        | 1.791759 | 1936     | 784      | \n",
       "| 5.30     | 12       |  7       |  2       | 0        | 0        | 1        | 1        | 0        | 0        | ⋯        | 0        | 0        | 0        | 0        | 0        | 0        | 0        | 1.667707 |   49     |   4      | \n",
       "| 8.75     | 16       |  9       |  8       | 0        | 0        | 1        | 0        | 1        | 0        | ⋯        | 0        | 0        | 0        | 1        | 1        | 0        | 0        | 2.169054 |   81     |  64      | \n",
       "\n",
       "\n"
      ],
      "text/plain": [
       "  wage educ exper tenure nonwhite female married numdep smsa northcen ⋯\n",
       "1 3.10 11    2     0     0        1      0       2      1    0        ⋯\n",
       "2 3.24 12   22     2     0        1      1       3      1    0        ⋯\n",
       "3 3.00 11    2     0     0        0      0       2      0    0        ⋯\n",
       "4 6.00  8   44    28     0        0      1       0      1    0        ⋯\n",
       "5 5.30 12    7     2     0        0      1       1      0    0        ⋯\n",
       "6 8.75 16    9     8     0        0      1       0      1    0        ⋯\n",
       "  trcommpu trade services profserv profocc clerocc servocc lwage    expersq\n",
       "1 0        0     0        0        0       0       0       1.131402    4   \n",
       "2 0        0     1        0        0       0       1       1.175573  484   \n",
       "3 0        1     0        0        0       0       0       1.098612    4   \n",
       "4 0        0     0        0        0       1       0       1.791759 1936   \n",
       "5 0        0     0        0        0       0       0       1.667707   49   \n",
       "6 0        0     0        1        1       0       0       2.169054   81   \n",
       "  tenursq\n",
       "1   0    \n",
       "2   4    \n",
       "3   0    \n",
       "4 784    \n",
       "5   4    \n",
       "6  64    "
      ]
     },
     "metadata": {},
     "output_type": "display_data"
    }
   ],
   "source": [
    "head(wage1)"
   ]
  },
  {
   "cell_type": "code",
   "execution_count": 12,
   "metadata": {},
   "outputs": [
    {
     "name": "stdout",
     "output_type": "stream",
     "text": [
      "Observations: 526\n",
      "Variables: 24\n",
      "$ wage     <dbl> 3.10, 3.24, 3.00, 6.00, 5.30, 8.75, 11.25, 5.00, 3.60, 18....\n",
      "$ educ     <int> 11, 12, 11, 8, 12, 16, 18, 12, 12, 17, 16, 13, 12, 12, 12,...\n",
      "$ exper    <int> 2, 22, 2, 44, 7, 9, 15, 5, 26, 22, 8, 3, 15, 18, 31, 14, 1...\n",
      "$ tenure   <int> 0, 2, 0, 28, 2, 8, 7, 3, 4, 21, 2, 0, 0, 3, 15, 0, 0, 10, ...\n",
      "$ nonwhite <int> 0, 0, 0, 0, 0, 0, 0, 0, 0, 0, 0, 0, 0, 0, 0, 0, 0, 0, 0, 0...\n",
      "$ female   <int> 1, 1, 0, 0, 0, 0, 0, 1, 1, 0, 1, 1, 0, 0, 0, 0, 1, 1, 1, 1...\n",
      "$ married  <int> 0, 1, 0, 1, 1, 1, 0, 0, 0, 1, 0, 0, 1, 0, 1, 1, 1, 0, 1, 1...\n",
      "$ numdep   <int> 2, 3, 2, 0, 1, 0, 0, 0, 2, 0, 0, 0, 2, 0, 1, 1, 0, 0, 3, 0...\n",
      "$ smsa     <int> 1, 1, 0, 1, 0, 1, 1, 1, 1, 1, 1, 1, 1, 1, 1, 1, 1, 1, 1, 1...\n",
      "$ northcen <int> 0, 0, 0, 0, 0, 0, 0, 0, 0, 0, 0, 0, 0, 0, 0, 0, 0, 0, 0, 0...\n",
      "$ south    <int> 0, 0, 0, 0, 0, 0, 0, 0, 0, 0, 0, 0, 0, 0, 0, 0, 0, 0, 0, 0...\n",
      "$ west     <int> 1, 1, 1, 1, 1, 1, 1, 1, 1, 1, 1, 1, 1, 1, 1, 1, 1, 1, 1, 1...\n",
      "$ construc <int> 0, 0, 0, 0, 0, 0, 0, 0, 0, 0, 0, 0, 0, 0, 0, 0, 0, 0, 0, 0...\n",
      "$ ndurman  <int> 0, 0, 0, 0, 0, 0, 0, 0, 0, 0, 0, 0, 0, 0, 0, 0, 0, 0, 0, 0...\n",
      "$ trcommpu <int> 0, 0, 0, 0, 0, 0, 0, 0, 0, 0, 0, 0, 0, 0, 0, 0, 0, 0, 0, 0...\n",
      "$ trade    <int> 0, 0, 1, 0, 0, 0, 1, 0, 1, 0, 1, 0, 0, 0, 0, 0, 0, 0, 0, 0...\n",
      "$ services <int> 0, 1, 0, 0, 0, 0, 0, 0, 0, 0, 0, 0, 0, 0, 0, 0, 0, 0, 0, 0...\n",
      "$ profserv <int> 0, 0, 0, 0, 0, 1, 0, 0, 0, 0, 0, 1, 0, 0, 0, 1, 0, 1, 0, 1...\n",
      "$ profocc  <int> 0, 0, 0, 0, 0, 1, 1, 1, 1, 1, 1, 0, 0, 0, 1, 1, 0, 1, 0, 0...\n",
      "$ clerocc  <int> 0, 0, 0, 1, 0, 0, 0, 0, 0, 0, 0, 1, 0, 0, 0, 0, 1, 0, 0, 0...\n",
      "$ servocc  <int> 0, 1, 0, 0, 0, 0, 0, 0, 0, 0, 0, 0, 0, 0, 0, 0, 0, 0, 0, 1...\n",
      "$ lwage    <dbl> 1.1314021, 1.1755733, 1.0986123, 1.7917595, 1.6677068, 2.1...\n",
      "$ expersq  <int> 4, 484, 4, 1936, 49, 81, 225, 25, 676, 484, 64, 9, 225, 32...\n",
      "$ tenursq  <int> 0, 4, 0, 784, 4, 64, 49, 9, 16, 441, 4, 0, 0, 9, 225, 0, 0...\n"
     ]
    }
   ],
   "source": [
    "glimpse(wage1)"
   ]
  },
  {
   "cell_type": "code",
   "execution_count": null,
   "metadata": {},
   "outputs": [],
   "source": []
  },
  {
   "cell_type": "code",
   "execution_count": 13,
   "metadata": {},
   "outputs": [],
   "source": [
    "data(\"intdef\")\n",
    "?intdef"
   ]
  },
  {
   "cell_type": "code",
   "execution_count": null,
   "metadata": {},
   "outputs": [],
   "source": []
  },
  {
   "cell_type": "code",
   "execution_count": null,
   "metadata": {},
   "outputs": [],
   "source": []
  },
  {
   "cell_type": "code",
   "execution_count": null,
   "metadata": {},
   "outputs": [],
   "source": []
  },
  {
   "cell_type": "code",
   "execution_count": 3,
   "metadata": {},
   "outputs": [],
   "source": [
    "data(\"jtrain\")"
   ]
  },
  {
   "cell_type": "code",
   "execution_count": 4,
   "metadata": {},
   "outputs": [],
   "source": [
    "?jtrain"
   ]
  },
  {
   "cell_type": "code",
   "execution_count": 5,
   "metadata": {},
   "outputs": [
    {
     "name": "stdout",
     "output_type": "stream",
     "text": [
      "'data.frame':\t471 obs. of  30 variables:\n",
      " $ year    : int  1987 1988 1989 1987 1988 1989 1987 1988 1989 1987 ...\n",
      " $ fcode   : num  410032 410032 410032 410440 410440 ...\n",
      " $ employ  : int  100 131 123 12 13 14 20 25 24 200 ...\n",
      " $ sales   : num  47000000 43000000 49000000 1560000 1970000 ...\n",
      " $ avgsal  : num  35000 37000 39000 10500 11000 ...\n",
      " $ scrap   : num  NA NA NA NA NA NA NA NA NA NA ...\n",
      " $ rework  : num  NA NA NA NA NA NA NA NA NA NA ...\n",
      " $ tothrs  : int  12 8 8 12 12 10 50 50 50 0 ...\n",
      " $ union   : int  0 0 0 0 0 0 0 0 0 0 ...\n",
      " $ grant   : int  0 0 0 0 0 0 0 0 0 0 ...\n",
      " $ d89     : int  0 0 1 0 0 1 0 0 1 0 ...\n",
      " $ d88     : int  0 1 0 0 1 0 0 1 0 0 ...\n",
      " $ totrain : int  100 50 50 12 13 14 15 10 20 0 ...\n",
      " $ hrsemp  : num  12 3.05 3.25 12 12 ...\n",
      " $ lscrap  : num  NA NA NA NA NA NA NA NA NA NA ...\n",
      " $ lemploy : num  4.61 4.88 4.81 2.48 2.56 ...\n",
      " $ lsales  : num  17.7 17.6 17.7 14.3 14.5 ...\n",
      " $ lrework : num  NA NA NA NA NA NA NA NA NA NA ...\n",
      " $ lhrsemp : num  2.56 1.4 1.45 2.56 2.56 ...\n",
      " $ lscrap_1: num  NA NA NA NA NA NA NA NA NA NA ...\n",
      " $ grant_1 : int  0 0 0 0 0 0 0 0 0 0 ...\n",
      " $ clscrap : num  NA NA NA NA NA NA NA NA NA NA ...\n",
      " $ cgrant  : int  0 0 0 0 0 0 0 0 0 0 ...\n",
      " $ clemploy: num  NA 0.27 -0.063 NA 0.08 ...\n",
      " $ clsales : num  NA -0.0889 0.1306 NA 0.2333 ...\n",
      " $ lavgsal : num  10.46 10.52 10.57 9.26 9.31 ...\n",
      " $ clavgsal: num  NA 0.0556 0.0526 NA 0.0465 ...\n",
      " $ cgrant_1: int  NA 0 0 NA 0 0 NA 0 0 NA ...\n",
      " $ chrsemp : num  NA -8.947 0.199 NA 0 ...\n",
      " $ clhrsemp: num  NA -1.1654 0.0478 NA 0 ...\n",
      " - attr(*, \"time.stamp\")= chr \"25 Jun 2011 23:03\"\n"
     ]
    }
   ],
   "source": [
    " str(jtrain)"
   ]
  },
  {
   "cell_type": "code",
   "execution_count": 6,
   "metadata": {},
   "outputs": [
    {
     "data": {
      "text/html": [
       "<table>\n",
       "<thead><tr><th scope=col>year</th><th scope=col>fcode</th><th scope=col>employ</th><th scope=col>sales</th><th scope=col>avgsal</th><th scope=col>scrap</th><th scope=col>rework</th><th scope=col>tothrs</th><th scope=col>union</th><th scope=col>grant</th><th scope=col>⋯</th><th scope=col>grant_1</th><th scope=col>clscrap</th><th scope=col>cgrant</th><th scope=col>clemploy</th><th scope=col>clsales</th><th scope=col>lavgsal</th><th scope=col>clavgsal</th><th scope=col>cgrant_1</th><th scope=col>chrsemp</th><th scope=col>clhrsemp</th></tr></thead>\n",
       "<tbody>\n",
       "\t<tr><td>1987       </td><td>410032     </td><td>100        </td><td>47000000   </td><td>35000      </td><td>NA         </td><td>NA         </td><td>12         </td><td>0          </td><td>0          </td><td>⋯          </td><td>0          </td><td>NA         </td><td>0          </td><td>         NA</td><td>        NA </td><td>10.463103  </td><td>        NA </td><td>NA         </td><td>        NA </td><td>         NA</td></tr>\n",
       "\t<tr><td>1988       </td><td>410032     </td><td>131        </td><td>43000000   </td><td>37000      </td><td>NA         </td><td>NA         </td><td> 8         </td><td>0          </td><td>0          </td><td>⋯          </td><td>0          </td><td>NA         </td><td>0          </td><td> 0.27002716</td><td>-0.0889492 </td><td>10.518673  </td><td>0.05556965 </td><td> 0         </td><td>-8.9465647 </td><td>-1.16538453</td></tr>\n",
       "\t<tr><td>1989       </td><td>410032     </td><td>123        </td><td>49000000   </td><td>39000      </td><td>NA         </td><td>NA         </td><td> 8         </td><td>0          </td><td>0          </td><td>⋯          </td><td>0          </td><td>NA         </td><td>0          </td><td>-0.06301308</td><td> 0.1306210 </td><td>10.571317  </td><td>0.05264378 </td><td> 0         </td><td> 0.1985974 </td><td> 0.04783237</td></tr>\n",
       "\t<tr><td>1987       </td><td>410440     </td><td> 12        </td><td> 1560000   </td><td>10500      </td><td>NA         </td><td>NA         </td><td>12         </td><td>0          </td><td>0          </td><td>⋯          </td><td>0          </td><td>NA         </td><td>0          </td><td>         NA</td><td>        NA </td><td> 9.259130  </td><td>        NA </td><td>NA         </td><td>        NA </td><td>         NA</td></tr>\n",
       "\t<tr><td>1988       </td><td>410440     </td><td> 13        </td><td> 1970000   </td><td>11000      </td><td>NA         </td><td>NA         </td><td>12         </td><td>0          </td><td>0          </td><td>⋯          </td><td>0          </td><td>NA         </td><td>0          </td><td> 0.08004260</td><td> 0.2333469 </td><td> 9.305651  </td><td>0.04652023 </td><td> 0         </td><td> 0.0000000 </td><td> 0.00000000</td></tr>\n",
       "\t<tr><td>1989       </td><td>410440     </td><td> 14        </td><td> 2350000   </td><td>11500      </td><td>NA         </td><td>NA         </td><td>10         </td><td>0          </td><td>0          </td><td>⋯          </td><td>0          </td><td>NA         </td><td>0          </td><td> 0.07410812</td><td> 0.1763821 </td><td> 9.350102  </td><td>0.04445171 </td><td> 0         </td><td>-2.0000000 </td><td>-0.16705394</td></tr>\n",
       "</tbody>\n",
       "</table>\n"
      ],
      "text/latex": [
       "\\begin{tabular}{r|llllllllllllllllllllllllllllll}\n",
       " year & fcode & employ & sales & avgsal & scrap & rework & tothrs & union & grant & ⋯ & grant\\_1 & clscrap & cgrant & clemploy & clsales & lavgsal & clavgsal & cgrant\\_1 & chrsemp & clhrsemp\\\\\n",
       "\\hline\n",
       "\t 1987        & 410032      & 100         & 47000000    & 35000       & NA          & NA          & 12          & 0           & 0           & ⋯           & 0           & NA          & 0           &          NA &         NA  & 10.463103   &         NA  & NA          &         NA  &          NA\\\\\n",
       "\t 1988        & 410032      & 131         & 43000000    & 37000       & NA          & NA          &  8          & 0           & 0           & ⋯           & 0           & NA          & 0           &  0.27002716 & -0.0889492  & 10.518673   & 0.05556965  &  0          & -8.9465647  & -1.16538453\\\\\n",
       "\t 1989        & 410032      & 123         & 49000000    & 39000       & NA          & NA          &  8          & 0           & 0           & ⋯           & 0           & NA          & 0           & -0.06301308 &  0.1306210  & 10.571317   & 0.05264378  &  0          &  0.1985974  &  0.04783237\\\\\n",
       "\t 1987        & 410440      &  12         &  1560000    & 10500       & NA          & NA          & 12          & 0           & 0           & ⋯           & 0           & NA          & 0           &          NA &         NA  &  9.259130   &         NA  & NA          &         NA  &          NA\\\\\n",
       "\t 1988        & 410440      &  13         &  1970000    & 11000       & NA          & NA          & 12          & 0           & 0           & ⋯           & 0           & NA          & 0           &  0.08004260 &  0.2333469  &  9.305651   & 0.04652023  &  0          &  0.0000000  &  0.00000000\\\\\n",
       "\t 1989        & 410440      &  14         &  2350000    & 11500       & NA          & NA          & 10          & 0           & 0           & ⋯           & 0           & NA          & 0           &  0.07410812 &  0.1763821  &  9.350102   & 0.04445171  &  0          & -2.0000000  & -0.16705394\\\\\n",
       "\\end{tabular}\n"
      ],
      "text/markdown": [
       "\n",
       "year | fcode | employ | sales | avgsal | scrap | rework | tothrs | union | grant | ⋯ | grant_1 | clscrap | cgrant | clemploy | clsales | lavgsal | clavgsal | cgrant_1 | chrsemp | clhrsemp | \n",
       "|---|---|---|---|---|---|\n",
       "| 1987        | 410032      | 100         | 47000000    | 35000       | NA          | NA          | 12          | 0           | 0           | ⋯           | 0           | NA          | 0           |          NA |         NA  | 10.463103   |         NA  | NA          |         NA  |          NA | \n",
       "| 1988        | 410032      | 131         | 43000000    | 37000       | NA          | NA          |  8          | 0           | 0           | ⋯           | 0           | NA          | 0           |  0.27002716 | -0.0889492  | 10.518673   | 0.05556965  |  0          | -8.9465647  | -1.16538453 | \n",
       "| 1989        | 410032      | 123         | 49000000    | 39000       | NA          | NA          |  8          | 0           | 0           | ⋯           | 0           | NA          | 0           | -0.06301308 |  0.1306210  | 10.571317   | 0.05264378  |  0          |  0.1985974  |  0.04783237 | \n",
       "| 1987        | 410440      |  12         |  1560000    | 10500       | NA          | NA          | 12          | 0           | 0           | ⋯           | 0           | NA          | 0           |          NA |         NA  |  9.259130   |         NA  | NA          |         NA  |          NA | \n",
       "| 1988        | 410440      |  13         |  1970000    | 11000       | NA          | NA          | 12          | 0           | 0           | ⋯           | 0           | NA          | 0           |  0.08004260 |  0.2333469  |  9.305651   | 0.04652023  |  0          |  0.0000000  |  0.00000000 | \n",
       "| 1989        | 410440      |  14         |  2350000    | 11500       | NA          | NA          | 10          | 0           | 0           | ⋯           | 0           | NA          | 0           |  0.07410812 |  0.1763821  |  9.350102   | 0.04445171  |  0          | -2.0000000  | -0.16705394 | \n",
       "\n",
       "\n"
      ],
      "text/plain": [
       "  year fcode  employ sales    avgsal scrap rework tothrs union grant ⋯ grant_1\n",
       "1 1987 410032 100    47000000 35000  NA    NA     12     0     0     ⋯ 0      \n",
       "2 1988 410032 131    43000000 37000  NA    NA      8     0     0     ⋯ 0      \n",
       "3 1989 410032 123    49000000 39000  NA    NA      8     0     0     ⋯ 0      \n",
       "4 1987 410440  12     1560000 10500  NA    NA     12     0     0     ⋯ 0      \n",
       "5 1988 410440  13     1970000 11000  NA    NA     12     0     0     ⋯ 0      \n",
       "6 1989 410440  14     2350000 11500  NA    NA     10     0     0     ⋯ 0      \n",
       "  clscrap cgrant clemploy    clsales    lavgsal   clavgsal   cgrant_1\n",
       "1 NA      0               NA         NA 10.463103         NA NA      \n",
       "2 NA      0       0.27002716 -0.0889492 10.518673 0.05556965  0      \n",
       "3 NA      0      -0.06301308  0.1306210 10.571317 0.05264378  0      \n",
       "4 NA      0               NA         NA  9.259130         NA NA      \n",
       "5 NA      0       0.08004260  0.2333469  9.305651 0.04652023  0      \n",
       "6 NA      0       0.07410812  0.1763821  9.350102 0.04445171  0      \n",
       "  chrsemp    clhrsemp   \n",
       "1         NA          NA\n",
       "2 -8.9465647 -1.16538453\n",
       "3  0.1985974  0.04783237\n",
       "4         NA          NA\n",
       "5  0.0000000  0.00000000\n",
       "6 -2.0000000 -0.16705394"
      ]
     },
     "metadata": {},
     "output_type": "display_data"
    }
   ],
   "source": [
    "head( jtrain)"
   ]
  },
  {
   "cell_type": "code",
   "execution_count": null,
   "metadata": {},
   "outputs": [],
   "source": [
    "linear_model <- lm(lscrap ~ hrsemp + lsales + lemploy, data = jtrain_clean)"
   ]
  },
  {
   "cell_type": "code",
   "execution_count": null,
   "metadata": {},
   "outputs": [],
   "source": []
  },
  {
   "cell_type": "code",
   "execution_count": null,
   "metadata": {},
   "outputs": [],
   "source": []
  }
 ],
 "metadata": {
  "kernelspec": {
   "display_name": "R",
   "language": "R",
   "name": "ir"
  },
  "language_info": {
   "codemirror_mode": "r",
   "file_extension": ".r",
   "mimetype": "text/x-r-source",
   "name": "R",
   "pygments_lexer": "r",
   "version": "3.5.1"
  }
 },
 "nbformat": 4,
 "nbformat_minor": 2
}
