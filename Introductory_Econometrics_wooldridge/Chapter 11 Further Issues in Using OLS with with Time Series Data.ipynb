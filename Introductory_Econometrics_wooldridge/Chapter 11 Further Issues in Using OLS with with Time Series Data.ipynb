{
 "cells": [
  {
   "cell_type": "code",
   "execution_count": 2,
   "metadata": {
    "ExecuteTime": {
     "end_time": "2018-12-03T03:50:26.223982Z",
     "start_time": "2018-12-03T03:50:26.118Z"
    }
   },
   "outputs": [
    {
     "name": "stderr",
     "output_type": "stream",
     "text": [
      "\n",
      "Please cite as: \n",
      "\n",
      " Hlavac, Marek (2018). stargazer: Well-Formatted Regression and Summary Statistics Tables.\n",
      " R package version 5.2.2. https://CRAN.R-project.org/package=stargazer \n",
      "\n"
     ]
    }
   ],
   "source": [
    "library(wooldridge)\n",
    "library(stargazer)\n",
    "library(knitr)"
   ]
  },
  {
   "cell_type": "code",
   "execution_count": null,
   "metadata": {},
   "outputs": [],
   "source": []
  },
  {
   "cell_type": "markdown",
   "metadata": {},
   "source": [
    "# Example 11.7: Wages and Productivity\n",
    "$$\\widehat{log(hrwage_t)} = \\beta_0 + \\beta_1log(outphr_t) + \\beta_2t + \\mu_t$$ Data from the Economic Report of the President, 1989, Table B-47. The data are for the non-farm business sector."
   ]
  },
  {
   "cell_type": "code",
   "execution_count": 3,
   "metadata": {
    "ExecuteTime": {
     "end_time": "2018-12-03T03:50:27.598154Z",
     "start_time": "2018-12-03T03:50:27.408Z"
    }
   },
   "outputs": [
    {
     "name": "stdout",
     "output_type": "stream",
     "text": [
      "\n",
      "================================================================================\n",
      "                                             Dependent variable:                \n",
      "                              --------------------------------------------------\n",
      "                                       lhrwage               diff(lhrwage)      \n",
      "                                         (1)                      (2)           \n",
      "--------------------------------------------------------------------------------\n",
      "loutphr                         1.63964*** (0.09335)                            \n",
      "t                               -0.01823*** (0.00175)                           \n",
      "diff(loutphr)                                             0.80932*** (0.17345)  \n",
      "Constant                        -5.32845*** (0.37445)      -0.00366 (0.00422)   \n",
      "--------------------------------------------------------------------------------\n",
      "Observations                             41                        40           \n",
      "R2                                     0.97122                  0.36424         \n",
      "Adjusted R2                            0.96971                  0.34750         \n",
      "Residual Std. Error (df = 38)          0.02854                  0.01695         \n",
      "F Statistic                   641.22430*** (df = 2; 38) 21.77054*** (df = 1; 38)\n",
      "================================================================================\n",
      "Note:                                                *p<0.1; **p<0.05; ***p<0.01\n"
     ]
    }
   ],
   "source": [
    "data(\"earns\")\n",
    "\n",
    "wage_time <- lm(lhrwage ~ loutphr + t, data = earns)\n",
    "wage_diff <- lm(diff(lhrwage) ~ diff(loutphr), data = earns)\n",
    "stargazer(type = \"text\",wage_time, wage_diff,  single.row = TRUE, header = FALSE, digits=5)"
   ]
  },
  {
   "cell_type": "code",
   "execution_count": null,
   "metadata": {},
   "outputs": [],
   "source": []
  },
  {
   "cell_type": "code",
   "execution_count": null,
   "metadata": {},
   "outputs": [],
   "source": []
  },
  {
   "cell_type": "code",
   "execution_count": null,
   "metadata": {},
   "outputs": [],
   "source": []
  },
  {
   "cell_type": "code",
   "execution_count": null,
   "metadata": {},
   "outputs": [],
   "source": []
  }
 ],
 "metadata": {
  "kernelspec": {
   "display_name": "R",
   "language": "R",
   "name": "ir"
  },
  "language_info": {
   "codemirror_mode": "r",
   "file_extension": ".r",
   "mimetype": "text/x-r-source",
   "name": "R",
   "pygments_lexer": "r",
   "version": "3.5.1"
  }
 },
 "nbformat": 4,
 "nbformat_minor": 2
}
