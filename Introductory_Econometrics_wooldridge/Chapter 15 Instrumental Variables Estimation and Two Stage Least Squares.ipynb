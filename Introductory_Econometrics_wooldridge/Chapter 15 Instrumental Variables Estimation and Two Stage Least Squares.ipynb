{
 "cells": [
  {
   "cell_type": "code",
   "execution_count": 2,
   "metadata": {
    "ExecuteTime": {
     "end_time": "2018-12-03T04:40:33.749658Z",
     "start_time": "2018-12-03T04:40:33.666Z"
    }
   },
   "outputs": [
    {
     "name": "stderr",
     "output_type": "stream",
     "text": [
      "\n",
      "Please cite as: \n",
      "\n",
      " Hlavac, Marek (2018). stargazer: Well-Formatted Regression and Summary Statistics Tables.\n",
      " R package version 5.2.2. https://CRAN.R-project.org/package=stargazer \n",
      "\n"
     ]
    }
   ],
   "source": [
    "library(wooldridge)\n",
    "library(stargazer)\n",
    "library(knitr)"
   ]
  },
  {
   "cell_type": "code",
   "execution_count": null,
   "metadata": {},
   "outputs": [],
   "source": []
  },
  {
   "cell_type": "code",
   "execution_count": null,
   "metadata": {},
   "outputs": [],
   "source": []
  },
  {
   "cell_type": "markdown",
   "metadata": {},
   "source": [
    "# Example 15.1: Estimating the Return to Education for Married Women\n",
    "T.A. Mroz (1987), The Sensitivity of an Empirical Model of Married Women's Hours of Work to Economic and Statistical Assumptions, Econometrica 55, 765-799. Professor Ernst R. Berndt, of MIT, kindly provided the data, which he obtained from Professor Mroz.\n",
    "\n",
    "$$log(wage) = \\beta_0 + \\beta_1educ + \\mu$$"
   ]
  },
  {
   "cell_type": "code",
   "execution_count": 3,
   "metadata": {
    "ExecuteTime": {
     "end_time": "2018-12-03T04:40:35.416215Z",
     "start_time": "2018-12-03T04:40:35.289Z"
    }
   },
   "outputs": [],
   "source": [
    "data(\"mroz\")\n",
    "?mroz\n",
    "wage_educ_model <- lm(lwage ~ educ, data = mroz)"
   ]
  },
  {
   "cell_type": "markdown",
   "metadata": {},
   "source": [
    "\n",
    "\n",
    "$$\\widehat{educ} = \\beta_0 + \\beta_1fatheduc$$\n",
    "\n",
    "We run the typical linear model, but notice the use of the subset argument. inlf is a binary variable in which a value of 1 means they are \"In the Labor Force\". By sub-setting the mroz data.frame by observations in which inlf==1, only working women will be in the sample."
   ]
  },
  {
   "cell_type": "code",
   "execution_count": 4,
   "metadata": {
    "ExecuteTime": {
     "end_time": "2018-12-03T04:41:10.617854Z",
     "start_time": "2018-12-03T04:41:10.599Z"
    }
   },
   "outputs": [],
   "source": [
    "fatheduc_model <- lm(educ ~ fatheduc, data = mroz, subset = (inlf==1))"
   ]
  },
  {
   "cell_type": "code",
   "execution_count": 5,
   "metadata": {
    "ExecuteTime": {
     "end_time": "2018-12-03T04:41:43.620493Z",
     "start_time": "2018-12-03T04:41:41.220Z"
    }
   },
   "outputs": [
    {
     "name": "stderr",
     "output_type": "stream",
     "text": [
      "Loading required package: car\n",
      "Loading required package: carData\n",
      "Loading required package: lmtest\n",
      "Loading required package: zoo\n",
      "\n",
      "Attaching package: 'zoo'\n",
      "\n",
      "The following objects are masked from 'package:base':\n",
      "\n",
      "    as.Date, as.Date.numeric\n",
      "\n",
      "Loading required package: sandwich\n",
      "Loading required package: survival\n"
     ]
    },
    {
     "name": "stdout",
     "output_type": "stream",
     "text": [
      "\n",
      "============================================================================================\n",
      "                                                    Dependent variable:                     \n",
      "                               -------------------------------------------------------------\n",
      "                                      lwage                 educ                lwage       \n",
      "                                       OLS                   OLS             instrumental   \n",
      "                                                                               variable     \n",
      "                                       (1)                   (2)                 (3)        \n",
      "--------------------------------------------------------------------------------------------\n",
      "educ                           0.10865*** (0.01440)                       0.05917* (0.03514)\n",
      "fatheduc                                            0.26944*** (0.02859)                    \n",
      "Constant                        -0.18520 (0.18523)  10.23705*** (0.27594) 0.44110 (0.44610) \n",
      "--------------------------------------------------------------------------------------------\n",
      "Observations                           428                   428                 428        \n",
      "R2                                   0.11788               0.17256             0.09344      \n",
      "Adjusted R2                          0.11581               0.17062             0.09131      \n",
      "Residual Std. Error (df = 426)       0.68003               2.08130             0.68939      \n",
      "F Statistic (df = 1; 426)          56.92892***           88.84076***                        \n",
      "============================================================================================\n",
      "Note:                                                            *p<0.1; **p<0.05; ***p<0.01\n"
     ]
    }
   ],
   "source": [
    "# In this section, we will perform an Instrumental-Variable Regression, using the ivreg function in the AER (Applied Econometrics with R) package. See the bibliography for more information.\n",
    "\n",
    "library(\"AER\")\n",
    "wage_educ_IV <- ivreg(lwage ~ educ | fatheduc, data = mroz)\n",
    "stargazer(type = \"text\",wage_educ_model, fatheduc_model, wage_educ_IV, single.row = TRUE, header = FALSE, digits=5)"
   ]
  },
  {
   "cell_type": "markdown",
   "metadata": {},
   "source": [
    "# Example 15.2: Estimating the Return to Education for Men\n",
    "Data from M. Blackburn and D. Neumark (1992), Unobserved Ability, Efficiency Wages, and Interindustry Wage Differentials, Quarterly Journal of Economics 107, 1421-1436. Professor Neumark kindly provided the data, of which Wooldridge uses the data for 1980.\n",
    "\n",
    "$$\\widehat{educ} = \\beta_0 + sibs$$"
   ]
  },
  {
   "cell_type": "code",
   "execution_count": 7,
   "metadata": {
    "ExecuteTime": {
     "end_time": "2018-12-03T04:43:20.663452Z",
     "start_time": "2018-12-03T04:43:20.537Z"
    }
   },
   "outputs": [],
   "source": [
    "data(\"wage2\")\n",
    "?wage2\n",
    "\n",
    "educ_sibs_model <- lm(educ ~ sibs, data = wage2)"
   ]
  },
  {
   "cell_type": "markdown",
   "metadata": {},
   "source": [
    "$$\\widehat{log(wage)} = \\beta_0 + educ$$\n",
    "\n",
    "Again, estimate the model using the ivreg function in the AER (Applied Econometrics with R) package."
   ]
  },
  {
   "cell_type": "code",
   "execution_count": 8,
   "metadata": {
    "ExecuteTime": {
     "end_time": "2018-12-03T04:43:48.075463Z",
     "start_time": "2018-12-03T04:43:47.793Z"
    }
   },
   "outputs": [
    {
     "name": "stdout",
     "output_type": "stream",
     "text": [
      "\n",
      "=====================================================================================\n",
      "                                           Dependent variable:                       \n",
      "                    -----------------------------------------------------------------\n",
      "                              educ                             lwage                 \n",
      "                               OLS                         instrumental              \n",
      "                                                             variable                \n",
      "                               (1)                    (2)                 (3)        \n",
      "-------------------------------------------------------------------------------------\n",
      "sibs                  -0.22792*** (0.03028)                                          \n",
      "educ                                          0.12243*** (0.02635) 0.05917* (0.03514)\n",
      "Constant              14.13879*** (0.11314)   5.13003*** (0.35517) 0.44110 (0.44610) \n",
      "-------------------------------------------------------------------------------------\n",
      "Observations                   935                    935                 428        \n",
      "R2                           0.05726                -0.00917            0.09344      \n",
      "Adjusted R2                  0.05625                -0.01026            0.09131      \n",
      "Residual Std. Error    2.13398 (df = 933)      0.42330 (df = 933)  0.68939 (df = 426)\n",
      "F Statistic         56.66715*** (df = 1; 933)                                        \n",
      "=====================================================================================\n",
      "Note:                                                     *p<0.1; **p<0.05; ***p<0.01\n"
     ]
    }
   ],
   "source": [
    "library(\"AER\")\n",
    "educ_sibs_IV <- ivreg(lwage ~ educ | sibs, data = wage2)\n",
    "stargazer(type = \"text\",educ_sibs_model, educ_sibs_IV, wage_educ_IV,  single.row = TRUE, header = FALSE, digits=5)"
   ]
  },
  {
   "cell_type": "markdown",
   "metadata": {},
   "source": [
    "# Example 15.5: Return to Education for Working Women\n",
    "$$\\widehat{log(wage)} = \\beta_0 + \\beta_1educ + \\beta_2exper + \\beta_3exper^2$$\n",
    "\n",
    "Use the ivreg function in the AER (Applied Econometrics with R) package to estima"
   ]
  },
  {
   "cell_type": "code",
   "execution_count": 9,
   "metadata": {
    "ExecuteTime": {
     "end_time": "2018-12-03T04:44:39.806781Z",
     "start_time": "2018-12-03T04:44:39.629Z"
    }
   },
   "outputs": [
    {
     "name": "stdout",
     "output_type": "stream",
     "text": [
      "\n",
      "===============================================\n",
      "                        Dependent variable:    \n",
      "                    ---------------------------\n",
      "                               lwage           \n",
      "-----------------------------------------------\n",
      "educ                    0.06140* (0.03144)     \n",
      "exper                  0.04417*** (0.01343)    \n",
      "expersq                -0.00090** (0.00040)    \n",
      "Constant                 0.04810 (0.40033)     \n",
      "-----------------------------------------------\n",
      "Observations                    428            \n",
      "R2                            0.13571          \n",
      "Adjusted R2                   0.12959          \n",
      "Residual Std. Error     0.67471 (df = 424)     \n",
      "===============================================\n",
      "Note:               *p<0.1; **p<0.05; ***p<0.01\n"
     ]
    }
   ],
   "source": [
    "data(\"mroz\")\n",
    "wage_educ_exper_IV <- ivreg(lwage ~ educ + exper + expersq | exper + expersq + motheduc + fatheduc, data = mroz)\n",
    "stargazer(type = \"text\",wage_educ_exper_IV,  single.row = TRUE, header = FALSE, digits=5)"
   ]
  },
  {
   "cell_type": "code",
   "execution_count": null,
   "metadata": {},
   "outputs": [],
   "source": []
  },
  {
   "cell_type": "code",
   "execution_count": null,
   "metadata": {},
   "outputs": [],
   "source": []
  },
  {
   "cell_type": "code",
   "execution_count": null,
   "metadata": {},
   "outputs": [],
   "source": []
  },
  {
   "cell_type": "code",
   "execution_count": null,
   "metadata": {},
   "outputs": [],
   "source": []
  },
  {
   "cell_type": "code",
   "execution_count": null,
   "metadata": {},
   "outputs": [],
   "source": []
  }
 ],
 "metadata": {
  "kernelspec": {
   "display_name": "R",
   "language": "R",
   "name": "ir"
  },
  "language_info": {
   "codemirror_mode": "r",
   "file_extension": ".r",
   "mimetype": "text/x-r-source",
   "name": "R",
   "pygments_lexer": "r",
   "version": "3.5.1"
  }
 },
 "nbformat": 4,
 "nbformat_minor": 2
}
