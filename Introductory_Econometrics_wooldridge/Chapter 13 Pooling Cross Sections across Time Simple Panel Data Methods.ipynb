{
 "cells": [
  {
   "cell_type": "code",
   "execution_count": 2,
   "metadata": {
    "ExecuteTime": {
     "end_time": "2018-12-03T04:14:23.229010Z",
     "start_time": "2018-12-03T04:14:23.149Z"
    }
   },
   "outputs": [],
   "source": [
    "library(wooldridge)\n",
    "library(stargazer)\n",
    "library(knitr)"
   ]
  },
  {
   "cell_type": "code",
   "execution_count": 8,
   "metadata": {},
   "outputs": [
    {
     "name": "stderr",
     "output_type": "stream",
     "text": [
      "Installing package into ‘/home/jupyter/R/x86_64-pc-linux-gnu-library/3.5’\n",
      "(as ‘lib’ is unspecified)\n",
      "also installing the dependencies ‘miscTools’, ‘bibtex’, ‘gbRd’, ‘bdsmatrix’, ‘maxLik’, ‘Rdpack’\n",
      "\n",
      "\n",
      "plm installed\n"
     ]
    }
   ],
   "source": [
    "pacman::p_load(wooldridge,stargazer,broom,tidyverse,ggplot2,\n",
    "               dplyr,tidyr,moderndive,jtools,sjPlot,dotwhisker,FSA,\n",
    "               car,QuantPsyc,lmtest,sandwich,tseries, \n",
    "              dynlm,prais,clubSandwich,orcutt,plm)"
   ]
  },
  {
   "cell_type": "markdown",
   "metadata": {},
   "source": [
    "\n",
    "# Chapter 13:\n",
    "\n",
    "    Example-13-2.R\n",
    "    Example-13-3-1.R\n",
    "    Example-13-3-2.R\n",
    "    Example-13-9.R\n",
    "    Example-FD.R\n",
    "    Example-PLM-Calcs.R\n",
    "    PDataFrame.R\n",
    "\n"
   ]
  },
  {
   "cell_type": "markdown",
   "metadata": {},
   "source": [
    "\n",
    "\n",
    "# Example-13-2.R"
   ]
  },
  {
   "cell_type": "code",
   "execution_count": 3,
   "metadata": {},
   "outputs": [
    {
     "data": {
      "text/plain": [
       "\n",
       "Call:\n",
       "lm(formula = lwage ~ y85 * (educ + female) + exper + I((exper^2)/100) + \n",
       "    union, data = cps78_85)\n",
       "\n",
       "Residuals:\n",
       "     Min       1Q   Median       3Q      Max \n",
       "-2.56098 -0.25828  0.00864  0.26571  2.11669 \n",
       "\n",
       "Coefficients:\n",
       "                  Estimate Std. Error t value Pr(>|t|)    \n",
       "(Intercept)       0.458933   0.093449   4.911 1.05e-06 ***\n",
       "y85               0.117806   0.123782   0.952   0.3415    \n",
       "educ              0.074721   0.006676  11.192  < 2e-16 ***\n",
       "female           -0.316709   0.036621  -8.648  < 2e-16 ***\n",
       "exper             0.029584   0.003567   8.293 3.27e-16 ***\n",
       "I((exper^2)/100) -0.039943   0.007754  -5.151 3.08e-07 ***\n",
       "union             0.202132   0.030294   6.672 4.03e-11 ***\n",
       "y85:educ          0.018461   0.009354   1.974   0.0487 *  \n",
       "y85:female        0.085052   0.051309   1.658   0.0977 .  \n",
       "---\n",
       "Signif. codes:  0 ‘***’ 0.001 ‘**’ 0.01 ‘*’ 0.05 ‘.’ 0.1 ‘ ’ 1\n",
       "\n",
       "Residual standard error: 0.4127 on 1075 degrees of freedom\n",
       "Multiple R-squared:  0.4262,\tAdjusted R-squared:  0.4219 \n",
       "F-statistic:  99.8 on 8 and 1075 DF,  p-value: < 2.2e-16\n"
      ]
     },
     "metadata": {},
     "output_type": "display_data"
    }
   ],
   "source": [
    "data(cps78_85, package='wooldridge')\n",
    "\n",
    "# Detailed OLS results including interaction terms\n",
    "summary( lm(lwage ~ y85*(educ+female) +exper+ I((exper^2)/100) + union, \n",
    "                                                        data=cps78_85) )"
   ]
  },
  {
   "cell_type": "code",
   "execution_count": null,
   "metadata": {},
   "outputs": [],
   "source": []
  },
  {
   "cell_type": "markdown",
   "metadata": {},
   "source": [
    "# Example-13-3-1.R"
   ]
  },
  {
   "cell_type": "code",
   "execution_count": 4,
   "metadata": {},
   "outputs": [
    {
     "data": {
      "text/html": [
       "<dl class=dl-horizontal>\n",
       "\t<dt>(Intercept)</dt>\n",
       "\t\t<dd>82517.2276422764</dd>\n",
       "\t<dt>nearinc</dt>\n",
       "\t\t<dd>-18824.3704994193</dd>\n",
       "</dl>\n"
      ],
      "text/latex": [
       "\\begin{description*}\n",
       "\\item[(Intercept)] 82517.2276422764\n",
       "\\item[nearinc] -18824.3704994193\n",
       "\\end{description*}\n"
      ],
      "text/markdown": [
       "(Intercept)\n",
       ":   82517.2276422764nearinc\n",
       ":   -18824.3704994193\n",
       "\n"
      ],
      "text/plain": [
       "(Intercept)     nearinc \n",
       "   82517.23   -18824.37 "
      ]
     },
     "metadata": {},
     "output_type": "display_data"
    },
    {
     "data": {
      "text/html": [
       "<dl class=dl-horizontal>\n",
       "\t<dt>(Intercept)</dt>\n",
       "\t\t<dd>101307.513595282</dd>\n",
       "\t<dt>nearinc</dt>\n",
       "\t\t<dd>-30688.2737515319</dd>\n",
       "</dl>\n"
      ],
      "text/latex": [
       "\\begin{description*}\n",
       "\\item[(Intercept)] 101307.513595282\n",
       "\\item[nearinc] -30688.2737515319\n",
       "\\end{description*}\n"
      ],
      "text/markdown": [
       "(Intercept)\n",
       ":   101307.513595282nearinc\n",
       ":   -30688.2737515319\n",
       "\n"
      ],
      "text/plain": [
       "(Intercept)     nearinc \n",
       "  101307.51   -30688.27 "
      ]
     },
     "metadata": {},
     "output_type": "display_data"
    },
    {
     "data": {
      "text/plain": [
       "\n",
       "t test of coefficients:\n",
       "\n",
       "            Estimate Std. Error t value  Pr(>|t|)    \n",
       "(Intercept)  82517.2     2726.9 30.2603 < 2.2e-16 ***\n",
       "nearinc     -18824.4     4875.3 -3.8612 0.0001368 ***\n",
       "y81          18790.3     4050.1  4.6395 5.117e-06 ***\n",
       "nearinc:y81 -11863.9     7456.6 -1.5911 0.1125948    \n",
       "---\n",
       "Signif. codes:  0 ‘***’ 0.001 ‘**’ 0.01 ‘*’ 0.05 ‘.’ 0.1 ‘ ’ 1\n"
      ]
     },
     "metadata": {},
     "output_type": "display_data"
    }
   ],
   "source": [
    "data(kielmc, package='wooldridge')\n",
    "\n",
    "# Separate regressions for 1978 and 1981: report coeeficients only\n",
    "coef( lm(rprice~nearinc, data=kielmc, subset=(year==1978)) )\n",
    "coef( lm(rprice~nearinc, data=kielmc, subset=(year==1981)) )\n",
    "\n",
    "# Joint regression including an interaction term \n",
    "library(lmtest)\n",
    "coeftest( lm(rprice~nearinc*y81, data=kielmc) )"
   ]
  },
  {
   "cell_type": "markdown",
   "metadata": {},
   "source": [
    "# Example-13-3-2.R"
   ]
  },
  {
   "cell_type": "code",
   "execution_count": 6,
   "metadata": {},
   "outputs": [
    {
     "name": "stdout",
     "output_type": "stream",
     "text": [
      "\n",
      "====================================================================\n",
      "                                  Dependent variable:               \n",
      "                    ------------------------------------------------\n",
      "                                      log(rprice)                   \n",
      "                              (1)                     (2)           \n",
      "--------------------------------------------------------------------\n",
      "nearinc                    -0.340***                 0.032          \n",
      "                            (0.055)                 (0.047)         \n",
      "                                                                    \n",
      "y81                        0.193***                 0.162***        \n",
      "                            (0.045)                 (0.028)         \n",
      "                                                                    \n",
      "age                                                -0.008***        \n",
      "                                                    (0.001)         \n",
      "                                                                    \n",
      "I(age2)                                            0.00004***       \n",
      "                                                   (0.00001)        \n",
      "                                                                    \n",
      "log(intst)                                          -0.061*         \n",
      "                                                    (0.032)         \n",
      "                                                                    \n",
      "log(land)                                           0.100***        \n",
      "                                                    (0.024)         \n",
      "                                                                    \n",
      "log(area)                                           0.351***        \n",
      "                                                    (0.051)         \n",
      "                                                                    \n",
      "rooms                                               0.047***        \n",
      "                                                    (0.017)         \n",
      "                                                                    \n",
      "baths                                               0.094***        \n",
      "                                                    (0.028)         \n",
      "                                                                    \n",
      "nearinc:y81                 -0.063                  -0.132**        \n",
      "                            (0.083)                 (0.052)         \n",
      "                                                                    \n",
      "Constant                   11.285***                7.652***        \n",
      "                            (0.031)                 (0.416)         \n",
      "                                                                    \n",
      "--------------------------------------------------------------------\n",
      "Observations                  321                     321           \n",
      "R2                           0.246                   0.733          \n",
      "Adjusted R2                  0.239                   0.724          \n",
      "Residual Std. Error    0.338 (df = 317)         0.204 (df = 310)    \n",
      "F Statistic         34.470*** (df = 3; 317) 84.915*** (df = 10; 310)\n",
      "====================================================================\n",
      "Note:                                    *p<0.1; **p<0.05; ***p<0.01\n"
     ]
    }
   ],
   "source": [
    "DiD      <- lm(log(rprice)~nearinc*y81                     , data=kielmc)\n",
    "DiDcontr <- lm(log(rprice)~nearinc*y81+age+I(age^2)+log(intst)+\n",
    "                            log(land)+log(area)+rooms+baths, data=kielmc)\n",
    "library(stargazer)\n",
    "stargazer(DiD,DiDcontr,type=\"text\")"
   ]
  },
  {
   "cell_type": "code",
   "execution_count": null,
   "metadata": {},
   "outputs": [],
   "source": []
  },
  {
   "cell_type": "code",
   "execution_count": null,
   "metadata": {},
   "outputs": [],
   "source": []
  },
  {
   "cell_type": "code",
   "execution_count": null,
   "metadata": {},
   "outputs": [],
   "source": []
  },
  {
   "cell_type": "markdown",
   "metadata": {},
   "source": [
    "# Example 13.7: Effect of Drunk Driving Laws on Traffic Fatalities\n",
    "Wooldridge collected these data from two sources, the 1992 Statistical Abstract of the United States (Tables 1009, 1012) and A Digest of State Alcohol-Highway Safety Related Legislation, 1985 and 1990, published by the U.S. National Highway Traffic Safety Administration. $$\\widehat{\\Delta{dthrte}} = \\beta_0 + \\Delta{open} + \\Delta{admin}$$"
   ]
  },
  {
   "cell_type": "code",
   "execution_count": 2,
   "metadata": {
    "ExecuteTime": {
     "end_time": "2018-12-03T04:37:10.025622Z",
     "start_time": "2018-12-03T04:37:09.766Z"
    }
   },
   "outputs": [
    {
     "name": "stdout",
     "output_type": "stream",
     "text": [
      "\n",
      "===============================================\n",
      "                        Dependent variable:    \n",
      "                    ---------------------------\n",
      "                              cdthrte          \n",
      "-----------------------------------------------\n",
      "copen                  -0.41968** (0.20559)    \n",
      "cadmn                   -0.15060 (0.11682)     \n",
      "Constant               -0.49679*** (0.05243)   \n",
      "-----------------------------------------------\n",
      "Observations                    51             \n",
      "R2                            0.11867          \n",
      "Adjusted R2                   0.08194          \n",
      "Residual Std. Error      0.34350 (df = 48)     \n",
      "F Statistic           3.23144** (df = 2; 48)   \n",
      "===============================================\n",
      "Note:               *p<0.1; **p<0.05; ***p<0.01\n"
     ]
    }
   ],
   "source": [
    "data(\"traffic1\")\n",
    "?traffic1\n",
    "DD_model <- lm(cdthrte ~ copen + cadmn, data = traffic1)\n",
    "stargazer(type = \"text\",DD_model,  single.row = TRUE, header = FALSE, digits=5)"
   ]
  },
  {
   "cell_type": "code",
   "execution_count": null,
   "metadata": {},
   "outputs": [],
   "source": []
  },
  {
   "cell_type": "code",
   "execution_count": null,
   "metadata": {},
   "outputs": [],
   "source": []
  },
  {
   "cell_type": "code",
   "execution_count": null,
   "metadata": {},
   "outputs": [],
   "source": []
  },
  {
   "cell_type": "markdown",
   "metadata": {},
   "source": [
    "$$\\widehat{unemp_t} = \\beta_0 + \\beta_1unem_{t-1}$$\n",
    "\n",
    "Estimate the linear model in the usual way and note the use of the subset argument to define data equal to and before the year 1996.\n",
    "\n",
    "\n",
    "$$\\widehat{unemp_t} = \\beta_0 + \\beta_1unem_{t-1} + \\beta_2inf_{t-1}$$\n",
    "\n"
   ]
  },
  {
   "cell_type": "code",
   "execution_count": 6,
   "metadata": {
    "ExecuteTime": {
     "end_time": "2018-12-03T04:12:55.391521Z",
     "start_time": "2018-12-03T04:12:55.363Z"
    }
   },
   "outputs": [],
   "source": [
    "phillips_train <- subset(phillips, year <= 1996)\n",
    "\n",
    "unem_AR1 <- lm(unem ~ unem_1, data = phillips_train)"
   ]
  },
  {
   "cell_type": "code",
   "execution_count": null,
   "metadata": {},
   "outputs": [],
   "source": []
  },
  {
   "cell_type": "code",
   "execution_count": 7,
   "metadata": {
    "ExecuteTime": {
     "end_time": "2018-12-03T04:12:56.946470Z",
     "start_time": "2018-12-03T04:12:56.782Z"
    }
   },
   "outputs": [
    {
     "name": "stdout",
     "output_type": "stream",
     "text": [
      "\n",
      "=====================================================================\n",
      "                                   Dependent variable:               \n",
      "                    -------------------------------------------------\n",
      "                                          unem                       \n",
      "                              (1)                      (2)           \n",
      "---------------------------------------------------------------------\n",
      "unem_1                0.73235*** (0.09689)     0.64703*** (0.08381)  \n",
      "inf_1                                          0.18358*** (0.04118)  \n",
      "Constant              1.57174*** (0.57712)     1.30380** (0.48969)   \n",
      "---------------------------------------------------------------------\n",
      "Observations                   48                       48           \n",
      "R2                          0.55397                  0.69059         \n",
      "Adjusted R2                 0.54427                  0.67684         \n",
      "Residual Std. Error    1.04857 (df = 46)        0.88298 (df = 45)    \n",
      "F Statistic         57.13184*** (df = 1; 46) 50.21941*** (df = 2; 45)\n",
      "=====================================================================\n",
      "Note:                                     *p<0.1; **p<0.05; ***p<0.01\n"
     ]
    }
   ],
   "source": [
    "unem_inf_VAR1 <- lm(unem ~ unem_1 + inf_1, data = phillips_train)\n",
    "stargazer(type = \"text\",unem_AR1, unem_inf_VAR1,  single.row = TRUE, header = FALSE, digits=5)"
   ]
  },
  {
   "cell_type": "code",
   "execution_count": null,
   "metadata": {},
   "outputs": [],
   "source": []
  },
  {
   "cell_type": "markdown",
   "metadata": {},
   "source": [
    "# Example-13-9.R"
   ]
  },
  {
   "cell_type": "code",
   "execution_count": 9,
   "metadata": {},
   "outputs": [
    {
     "data": {
      "text/plain": [
       "Balanced Panel: n = 90, T = 7, N = 630"
      ]
     },
     "metadata": {},
     "output_type": "display_data"
    },
    {
     "data": {
      "text/html": [
       "<table>\n",
       "<thead><tr><th></th><th scope=col>county</th><th scope=col>year</th><th scope=col>crmrte</th><th scope=col>dcrmrte</th></tr></thead>\n",
       "<tbody>\n",
       "\t<tr><th scope=row>1-81</th><td>1            </td><td>81           </td><td>0.0398849    </td><td>           NA</td></tr>\n",
       "\t<tr><th scope=row>1-82</th><td>1            </td><td>82           </td><td>0.0383449    </td><td>-0.0015399978</td></tr>\n",
       "\t<tr><th scope=row>1-83</th><td>1            </td><td>83           </td><td>0.0303048    </td><td>-0.0080401003</td></tr>\n",
       "\t<tr><th scope=row>1-84</th><td>1            </td><td>84           </td><td>0.0347259    </td><td> 0.0044211000</td></tr>\n",
       "\t<tr><th scope=row>1-85</th><td>1            </td><td>85           </td><td>0.0365730    </td><td> 0.0018470995</td></tr>\n",
       "\t<tr><th scope=row>1-86</th><td>1            </td><td>86           </td><td>0.0347524    </td><td>-0.0018206015</td></tr>\n",
       "\t<tr><th scope=row>1-87</th><td>1            </td><td>87           </td><td>0.0356036    </td><td> 0.0008512028</td></tr>\n",
       "\t<tr><th scope=row>3-81</th><td>3            </td><td>81           </td><td>0.0163921    </td><td>           NA</td></tr>\n",
       "\t<tr><th scope=row>3-82</th><td>3            </td><td>82           </td><td>0.0190651    </td><td> 0.0026730001</td></tr>\n",
       "</tbody>\n",
       "</table>\n"
      ],
      "text/latex": [
       "\\begin{tabular}{r|llll}\n",
       "  & county & year & crmrte & dcrmrte\\\\\n",
       "\\hline\n",
       "\t1-81 & 1             & 81            & 0.0398849     &            NA\\\\\n",
       "\t1-82 & 1             & 82            & 0.0383449     & -0.0015399978\\\\\n",
       "\t1-83 & 1             & 83            & 0.0303048     & -0.0080401003\\\\\n",
       "\t1-84 & 1             & 84            & 0.0347259     &  0.0044211000\\\\\n",
       "\t1-85 & 1             & 85            & 0.0365730     &  0.0018470995\\\\\n",
       "\t1-86 & 1             & 86            & 0.0347524     & -0.0018206015\\\\\n",
       "\t1-87 & 1             & 87            & 0.0356036     &  0.0008512028\\\\\n",
       "\t3-81 & 3             & 81            & 0.0163921     &            NA\\\\\n",
       "\t3-82 & 3             & 82            & 0.0190651     &  0.0026730001\\\\\n",
       "\\end{tabular}\n"
      ],
      "text/markdown": [
       "\n",
       "| <!--/--> | county | year | crmrte | dcrmrte | \n",
       "|---|---|---|---|---|---|---|---|---|\n",
       "| 1-81 | 1             | 81            | 0.0398849     |            NA | \n",
       "| 1-82 | 1             | 82            | 0.0383449     | -0.0015399978 | \n",
       "| 1-83 | 1             | 83            | 0.0303048     | -0.0080401003 | \n",
       "| 1-84 | 1             | 84            | 0.0347259     |  0.0044211000 | \n",
       "| 1-85 | 1             | 85            | 0.0365730     |  0.0018470995 | \n",
       "| 1-86 | 1             | 86            | 0.0347524     | -0.0018206015 | \n",
       "| 1-87 | 1             | 87            | 0.0356036     |  0.0008512028 | \n",
       "| 3-81 | 3             | 81            | 0.0163921     |            NA | \n",
       "| 3-82 | 3             | 82            | 0.0190651     |  0.0026730001 | \n",
       "\n",
       "\n"
      ],
      "text/plain": [
       "     county year crmrte    dcrmrte      \n",
       "1-81 1      81   0.0398849            NA\n",
       "1-82 1      82   0.0383449 -0.0015399978\n",
       "1-83 1      83   0.0303048 -0.0080401003\n",
       "1-84 1      84   0.0347259  0.0044211000\n",
       "1-85 1      85   0.0365730  0.0018470995\n",
       "1-86 1      86   0.0347524 -0.0018206015\n",
       "1-87 1      87   0.0356036  0.0008512028\n",
       "3-81 3      81   0.0163921            NA\n",
       "3-82 3      82   0.0190651  0.0026730001"
      ]
     },
     "metadata": {},
     "output_type": "display_data"
    },
    {
     "data": {
      "text/plain": [
       "\n",
       "t test of coefficients:\n",
       "\n",
       "              Estimate Std. Error  t value  Pr(>|t|)    \n",
       "(Intercept)  0.0077134  0.0170579   0.4522 0.6513193    \n",
       "d83         -0.0998658  0.0238953  -4.1793 3.421e-05 ***\n",
       "d84         -0.1478033  0.0412794  -3.5806 0.0003744 ***\n",
       "d85         -0.1524144  0.0584000  -2.6098 0.0093152 ** \n",
       "d86         -0.1249001  0.0760042  -1.6433 0.1009087    \n",
       "d87         -0.0840734  0.0940003  -0.8944 0.3715175    \n",
       "lprbarr     -0.3274942  0.0299801 -10.9237 < 2.2e-16 ***\n",
       "lprbconv    -0.2381066  0.0182341 -13.0583 < 2.2e-16 ***\n",
       "lprbpris    -0.1650463  0.0259690  -6.3555 4.488e-10 ***\n",
       "lavgsen     -0.0217606  0.0220909  -0.9850 0.3250506    \n",
       "lpolpc       0.3984264  0.0268820  14.8213 < 2.2e-16 ***\n",
       "---\n",
       "Signif. codes:  0 ‘***’ 0.001 ‘**’ 0.01 ‘*’ 0.05 ‘.’ 0.1 ‘ ’ 1\n"
      ]
     },
     "metadata": {},
     "output_type": "display_data"
    }
   ],
   "source": [
    "library(plm);library(lmtest)\n",
    "data(crime4, package='wooldridge')\n",
    "\n",
    "crime4.p <- pdata.frame(crime4, index=c(\"county\",\"year\") )\n",
    "pdim(crime4.p)\n",
    "\n",
    "# manually calculate first differences of crime rate:\n",
    "crime4.p$dcrmrte <- diff(crime4.p$crmrte)\n",
    "\n",
    "# Display selected variables for observations 1-9:\n",
    "crime4.p[1:9, c(\"county\",\"year\",\"crmrte\",\"dcrmrte\")]\n"
   ]
  },
  {
   "cell_type": "code",
   "execution_count": 10,
   "metadata": {},
   "outputs": [
    {
     "data": {
      "text/plain": [
       "\n",
       "t test of coefficients:\n",
       "\n",
       "              Estimate Std. Error  t value  Pr(>|t|)    \n",
       "(Intercept)  0.0077134  0.0170579   0.4522 0.6513193    \n",
       "d83         -0.0998658  0.0238953  -4.1793 3.421e-05 ***\n",
       "d84         -0.1478033  0.0412794  -3.5806 0.0003744 ***\n",
       "d85         -0.1524144  0.0584000  -2.6098 0.0093152 ** \n",
       "d86         -0.1249001  0.0760042  -1.6433 0.1009087    \n",
       "d87         -0.0840734  0.0940003  -0.8944 0.3715175    \n",
       "lprbarr     -0.3274942  0.0299801 -10.9237 < 2.2e-16 ***\n",
       "lprbconv    -0.2381066  0.0182341 -13.0583 < 2.2e-16 ***\n",
       "lprbpris    -0.1650463  0.0259690  -6.3555 4.488e-10 ***\n",
       "lavgsen     -0.0217606  0.0220909  -0.9850 0.3250506    \n",
       "lpolpc       0.3984264  0.0268820  14.8213 < 2.2e-16 ***\n",
       "---\n",
       "Signif. codes:  0 ‘***’ 0.001 ‘**’ 0.01 ‘*’ 0.05 ‘.’ 0.1 ‘ ’ 1\n"
      ]
     },
     "metadata": {},
     "output_type": "display_data"
    }
   ],
   "source": [
    "\n",
    "# Estimate FD model:\n",
    "coeftest( plm(log(crmrte)~d83+d84+d85+d86+d87+lprbarr+lprbconv+ \n",
    "                  lprbpris+lavgsen+lpolpc,data=crime4.p, model=\"fd\") )\n"
   ]
  },
  {
   "cell_type": "code",
   "execution_count": null,
   "metadata": {},
   "outputs": [],
   "source": []
  },
  {
   "cell_type": "code",
   "execution_count": 11,
   "metadata": {},
   "outputs": [
    {
     "data": {
      "text/plain": [
       "Balanced Panel: n = 46, T = 2, N = 92"
      ]
     },
     "metadata": {},
     "output_type": "display_data"
    },
    {
     "data": {
      "text/html": [
       "<table>\n",
       "<thead><tr><th></th><th scope=col>id</th><th scope=col>time</th><th scope=col>year</th><th scope=col>pop</th><th scope=col>crimes</th><th scope=col>crmrte</th><th scope=col>unem</th></tr></thead>\n",
       "<tbody>\n",
       "\t<tr><th scope=row>1-1</th><td>1       </td><td>1       </td><td>82      </td><td>229528  </td><td>17136   </td><td>74.65756</td><td>8.2     </td></tr>\n",
       "\t<tr><th scope=row>1-2</th><td>1       </td><td>2       </td><td>87      </td><td>246815  </td><td>17306   </td><td>70.11729</td><td>3.7     </td></tr>\n",
       "\t<tr><th scope=row>2-1</th><td>2       </td><td>1       </td><td>82      </td><td>814054  </td><td>75654   </td><td>92.93487</td><td>8.1     </td></tr>\n",
       "\t<tr><th scope=row>2-2</th><td>2       </td><td>2       </td><td>87      </td><td>933177  </td><td>83960   </td><td>89.97221</td><td>5.4     </td></tr>\n",
       "\t<tr><th scope=row>3-1</th><td>3       </td><td>1       </td><td>82      </td><td>374974  </td><td>31352   </td><td>83.61113</td><td>9.0     </td></tr>\n",
       "\t<tr><th scope=row>3-2</th><td>3       </td><td>2       </td><td>87      </td><td>406297  </td><td>31364   </td><td>77.19476</td><td>5.9     </td></tr>\n",
       "</tbody>\n",
       "</table>\n"
      ],
      "text/latex": [
       "\\begin{tabular}{r|lllllll}\n",
       "  & id & time & year & pop & crimes & crmrte & unem\\\\\n",
       "\\hline\n",
       "\t1-1 & 1        & 1        & 82       & 229528   & 17136    & 74.65756 & 8.2     \\\\\n",
       "\t1-2 & 1        & 2        & 87       & 246815   & 17306    & 70.11729 & 3.7     \\\\\n",
       "\t2-1 & 2        & 1        & 82       & 814054   & 75654    & 92.93487 & 8.1     \\\\\n",
       "\t2-2 & 2        & 2        & 87       & 933177   & 83960    & 89.97221 & 5.4     \\\\\n",
       "\t3-1 & 3        & 1        & 82       & 374974   & 31352    & 83.61113 & 9.0     \\\\\n",
       "\t3-2 & 3        & 2        & 87       & 406297   & 31364    & 77.19476 & 5.9     \\\\\n",
       "\\end{tabular}\n"
      ],
      "text/markdown": [
       "\n",
       "| <!--/--> | id | time | year | pop | crimes | crmrte | unem | \n",
       "|---|---|---|---|---|---|\n",
       "| 1-1 | 1        | 1        | 82       | 229528   | 17136    | 74.65756 | 8.2      | \n",
       "| 1-2 | 1        | 2        | 87       | 246815   | 17306    | 70.11729 | 3.7      | \n",
       "| 2-1 | 2        | 1        | 82       | 814054   | 75654    | 92.93487 | 8.1      | \n",
       "| 2-2 | 2        | 2        | 87       | 933177   | 83960    | 89.97221 | 5.4      | \n",
       "| 3-1 | 3        | 1        | 82       | 374974   | 31352    | 83.61113 | 9.0      | \n",
       "| 3-2 | 3        | 2        | 87       | 406297   | 31364    | 77.19476 | 5.9      | \n",
       "\n",
       "\n"
      ],
      "text/plain": [
       "    id time year pop    crimes crmrte   unem\n",
       "1-1 1  1    82   229528 17136  74.65756 8.2 \n",
       "1-2 1  2    87   246815 17306  70.11729 3.7 \n",
       "2-1 2  1    82   814054 75654  92.93487 8.1 \n",
       "2-2 2  2    87   933177 83960  89.97221 5.4 \n",
       "3-1 3  1    82   374974 31352  83.61113 9.0 \n",
       "3-2 3  2    87   406297 31364  77.19476 5.9 "
      ]
     },
     "metadata": {},
     "output_type": "display_data"
    }
   ],
   "source": [
    "library(plm)\n",
    "data(crime2, package='wooldridge')\n",
    "\n",
    "# Define panel data frame\n",
    "crime2.p <- pdata.frame(crime2, index=46 )\n",
    "\n",
    "# Panel dimensions:\n",
    "pdim(crime2.p)\n",
    "\n",
    "# Observation 1-6: new \"id\" and \"time\" and some other variables:\n",
    "crime2.p[1:6,c(\"id\",\"time\",\"year\",\"pop\",\"crimes\",\"crmrte\",\"unem\")]"
   ]
  },
  {
   "cell_type": "code",
   "execution_count": 14,
   "metadata": {},
   "outputs": [
    {
     "name": "stdout",
     "output_type": "stream",
     "text": [
      "Observations: 92\n",
      "Variables: 36\n",
      "$ pop      <pseries> 229528, 246815, 814054, 933177, 374974, 406297, 176496, …\n",
      "$ crimes   <pseries> 17136, 17306, 75654, 83960, 31352, 31364, 15698, 16953, …\n",
      "$ unem     <pseries> 8.2, 3.7, 8.1, 5.4, 9.0, 5.9, 12.6, 5.7, 12.6, 7.4, 13.9…\n",
      "$ officers <pseries> 326, 321, 1621, 1803, 633, 685, 245, 259, 504, 563, 186,…\n",
      "$ pcinc    <pseries> 8532, 12155, 7551, 11363, 8343, 11729, 7592, 10802, 7558…\n",
      "$ west     <pseries> 1, 1, 1, 1, 1, 1, 1, 1, 1, 1, 1, 1, 1, 1, 1, 1, 1, 1, 1,…\n",
      "$ nrtheast <pseries> 0, 0, 0, 0, 0, 0, 0, 0, 0, 0, 0, 0, 0, 0, 0, 0, 0, 0, 0,…\n",
      "$ south    <pseries> 0, 0, 0, 0, 0, 0, 0, 0, 0, 0, 0, 0, 0, 0, 0, 0, 0, 0, 0,…\n",
      "$ year     <pseries> 82, 87, 82, 87, 82, 87, 82, 87, 82, 87, 82, 87, 82, 87, …\n",
      "$ area     <pseries> 44.6, 44.6, 375.0, 375.0, 49.8, 49.8, 74.0, 74.0, 97.3, …\n",
      "$ d87      <pseries> 0, 1, 0, 1, 0, 1, 0, 1, 0, 1, 0, 1, 0, 1, 0, 1, 0, 1, 0,…\n",
      "$ popden   <pseries> 5146.368, 5533.969, 2170.811, 2488.472, 7529.599, 8158.5…\n",
      "$ crmrte   <pseries> 74.65756, 70.11729, 92.93487, 89.97221, 83.61113, 77.194…\n",
      "$ offarea  <pseries> 7.309417, 7.197309, 4.322667, 4.808000, 12.710844, 13.75…\n",
      "$ lawexpc  <pseries> 850.8599, 2262.4399, 875.0800, 1069.6400, 1121.8999, 154…\n",
      "$ polpc    <pseries> 1.420306, 1.300569, 1.991268, 1.932109, 1.688117, 1.6859…\n",
      "$ lpop     <pseries> 12.34378, 12.41639, 13.60978, 13.74635, 12.83461, 12.914…\n",
      "$ loffic   <pseries> 5.786897, 5.771441, 7.390799, 7.497207, 6.450470, 6.5294…\n",
      "$ lpcinc   <pseries> 9.051579, 9.405496, 8.929436, 9.338118, 9.029179, 9.3698…\n",
      "$ llawexpc <pseries> 6.746247, 7.724199, 6.774315, 6.975078, 7.022779, 7.3431…\n",
      "$ lpopden  <pseries> 8.546046, 8.618661, 7.682856, 7.819424, 8.926597, 9.0068…\n",
      "$ lcrimes  <pseries> 9.748937, 9.758808, 11.233926, 11.338096, 10.353033, 10.…\n",
      "$ larea    <pseries> 3.797734, 3.797734, 5.926926, 5.926926, 3.908015, 3.9080…\n",
      "$ lcrmrte  <pseries> 4.312912, 4.250169, 4.531899, 4.499501, 4.426177, 4.3463…\n",
      "$ clcrimes <pseries> NA, 0.0098714828, NA, 0.1041698456, NA, 0.0003833771, NA…\n",
      "$ clpop    <pseries> NA, 0.0726137161, NA, 0.1365680695, NA, 0.0802278519, NA…\n",
      "$ clcrmrte <pseries> NA, -0.06274271, NA, -0.03239822, NA, -0.07984495, NA, -…\n",
      "$ lpolpc   <pseries> 0.3508723, 0.2628021, 0.6887718, 0.6586123, 0.5236138, 0…\n",
      "$ clpolpc  <pseries> NA, -0.088070214, NA, -0.030159533, NA, -0.001279354, NA…\n",
      "$ cllawexp <pseries> NA, 0.9779520, NA, 0.2007623, NA, 0.3203883, NA, 0.13138…\n",
      "$ cunem    <pseries> NA, -4.5000000, NA, -2.7000003, NA, -3.0999999, NA, -6.9…\n",
      "$ clpopden <pseries> NA, 0.0726146698, NA, 0.1365680695, NA, 0.0802278519, NA…\n",
      "$ lcrmrt_1 <pseries> NA, 4.312912, NA, 4.531899, NA, 4.426177, NA, 4.487990, …\n",
      "$ ccrmrte  <pseries> NA, -4.540268, NA, -2.962654, NA, -6.416374, NA, -4.9015…\n",
      "$ id       <fct> 1, 1, 2, 2, 3, 3, 4, 4, 5, 5, 6, 6, 7, 7, 8, 8, 9, 9, 10, 10…\n",
      "$ time     <fct> 1, 2, 1, 2, 1, 2, 1, 2, 1, 2, 1, 2, 1, 2, 1, 2, 1, 2, 1, 2, …\n"
     ]
    }
   ],
   "source": [
    "glimpse(crime2.p)"
   ]
  },
  {
   "cell_type": "code",
   "execution_count": 12,
   "metadata": {},
   "outputs": [
    {
     "data": {
      "text/plain": [
       "\n",
       "t test of coefficients:\n",
       "\n",
       "              Estimate Std. Error  t value  Pr(>|t|)    \n",
       "(Intercept)  0.0077134  0.0170579   0.4522 0.6513193    \n",
       "d83         -0.0998658  0.0238953  -4.1793 3.421e-05 ***\n",
       "d84         -0.1478033  0.0412794  -3.5806 0.0003744 ***\n",
       "d85         -0.1524144  0.0584000  -2.6098 0.0093152 ** \n",
       "d86         -0.1249001  0.0760042  -1.6433 0.1009087    \n",
       "d87         -0.0840734  0.0940003  -0.8944 0.3715175    \n",
       "lprbarr     -0.3274942  0.0299801 -10.9237 < 2.2e-16 ***\n",
       "lprbconv    -0.2381066  0.0182341 -13.0583 < 2.2e-16 ***\n",
       "lprbpris    -0.1650463  0.0259690  -6.3555 4.488e-10 ***\n",
       "lavgsen     -0.0217606  0.0220909  -0.9850 0.3250506    \n",
       "lpolpc       0.3984264  0.0268820  14.8213 < 2.2e-16 ***\n",
       "---\n",
       "Signif. codes:  0 ‘***’ 0.001 ‘**’ 0.01 ‘*’ 0.05 ‘.’ 0.1 ‘ ’ 1\n"
      ]
     },
     "metadata": {},
     "output_type": "display_data"
    },
    {
     "data": {
      "text/plain": [
       "\n",
       "t test of coefficients:\n",
       "\n",
       "              Estimate Std. Error t value  Pr(>|t|)    \n",
       "(Intercept)  0.0077134  0.0135800  0.5680 0.5702805    \n",
       "d83         -0.0998658  0.0219261 -4.5547 6.519e-06 ***\n",
       "d84         -0.1478033  0.0355659 -4.1558 3.781e-05 ***\n",
       "d85         -0.1524144  0.0505404 -3.0157 0.0026871 ** \n",
       "d86         -0.1249001  0.0623827 -2.0022 0.0457778 *  \n",
       "d87         -0.0840734  0.0773366 -1.0871 0.2774836    \n",
       "lprbarr     -0.3274942  0.0555908 -5.8912 6.828e-09 ***\n",
       "lprbconv    -0.2381066  0.0389969 -6.1058 1.982e-09 ***\n",
       "lprbpris    -0.1650463  0.0451128 -3.6585 0.0002791 ***\n",
       "lavgsen     -0.0217606  0.0254368 -0.8555 0.3926740    \n",
       "lpolpc       0.3984264  0.1014068  3.9290 9.662e-05 ***\n",
       "---\n",
       "Signif. codes:  0 ‘***’ 0.001 ‘**’ 0.01 ‘*’ 0.05 ‘.’ 0.1 ‘ ’ 1\n"
      ]
     },
     "metadata": {},
     "output_type": "display_data"
    },
    {
     "data": {
      "text/plain": [
       "\n",
       "t test of coefficients:\n",
       "\n",
       "              Estimate Std. Error t value  Pr(>|t|)    \n",
       "(Intercept)  0.0077134  0.0137846  0.5596 0.5760131    \n",
       "d83         -0.0998658  0.0222563 -4.4871 8.865e-06 ***\n",
       "d84         -0.1478033  0.0361016 -4.0941 4.901e-05 ***\n",
       "d85         -0.1524144  0.0513017 -2.9709 0.0031038 ** \n",
       "d86         -0.1249001  0.0633224 -1.9724 0.0490789 *  \n",
       "d87         -0.0840734  0.0785015 -1.0710 0.2846678    \n",
       "lprbarr     -0.3274942  0.0564281 -5.8037 1.118e-08 ***\n",
       "lprbconv    -0.2381066  0.0395843 -6.0152 3.356e-09 ***\n",
       "lprbpris    -0.1650463  0.0457923 -3.6042 0.0003427 ***\n",
       "lavgsen     -0.0217606  0.0258200 -0.8428 0.3997305    \n",
       "lpolpc       0.3984264  0.1029342  3.8707 0.0001221 ***\n",
       "---\n",
       "Signif. codes:  0 ‘***’ 0.001 ‘**’ 0.01 ‘*’ 0.05 ‘.’ 0.1 ‘ ’ 1\n"
      ]
     },
     "metadata": {},
     "output_type": "display_data"
    }
   ],
   "source": [
    "library(plm);library(lmtest)\n",
    "data(crime4, package='wooldridge')\n",
    "\n",
    "# Generate pdata.frame:\n",
    "crime4.p <- pdata.frame(crime4, index=c(\"county\",\"year\") )\n",
    "\n",
    "# Estimate FD model:\n",
    "reg <- ( plm(log(crmrte)~d83+d84+d85+d86+d87+lprbarr+lprbconv+ \n",
    "                   lprbpris+lavgsen+lpolpc,data=crime4.p, model=\"fd\") )\n",
    "# Regression table with standard SE\n",
    "coeftest(reg)\n",
    "# Regression table with \"clustered\" SE (default type HC0):\n",
    "coeftest(reg, vcovHC)\n"
   ]
  },
  {
   "cell_type": "code",
   "execution_count": 13,
   "metadata": {},
   "outputs": [
    {
     "data": {
      "text/plain": [
       "\n",
       "t test of coefficients:\n",
       "\n",
       "              Estimate Std. Error t value  Pr(>|t|)    \n",
       "(Intercept)  0.0077134  0.0137846  0.5596 0.5760131    \n",
       "d83         -0.0998658  0.0222563 -4.4871 8.865e-06 ***\n",
       "d84         -0.1478033  0.0361016 -4.0941 4.901e-05 ***\n",
       "d85         -0.1524144  0.0513017 -2.9709 0.0031038 ** \n",
       "d86         -0.1249001  0.0633224 -1.9724 0.0490789 *  \n",
       "d87         -0.0840734  0.0785015 -1.0710 0.2846678    \n",
       "lprbarr     -0.3274942  0.0564281 -5.8037 1.118e-08 ***\n",
       "lprbconv    -0.2381066  0.0395843 -6.0152 3.356e-09 ***\n",
       "lprbpris    -0.1650463  0.0457923 -3.6042 0.0003427 ***\n",
       "lavgsen     -0.0217606  0.0258200 -0.8428 0.3997305    \n",
       "lpolpc       0.3984264  0.1029342  3.8707 0.0001221 ***\n",
       "---\n",
       "Signif. codes:  0 ‘***’ 0.001 ‘**’ 0.01 ‘*’ 0.05 ‘.’ 0.1 ‘ ’ 1\n"
      ]
     },
     "metadata": {},
     "output_type": "display_data"
    }
   ],
   "source": [
    "# Regression table with \"clustered\" SE (small-sample correction)\n",
    "# This is the default version used by Stata and reported by Wooldridge:\n",
    "coeftest(reg, vcovHC(reg, type=\"sss\"))"
   ]
  },
  {
   "cell_type": "code",
   "execution_count": null,
   "metadata": {},
   "outputs": [],
   "source": []
  },
  {
   "cell_type": "code",
   "execution_count": null,
   "metadata": {},
   "outputs": [],
   "source": []
  },
  {
   "cell_type": "code",
   "execution_count": null,
   "metadata": {},
   "outputs": [],
   "source": [
    "\n",
    "Stata Textbook Examples\n",
    "Introductory Econometrics: A Modern Approach by Jeffrey M. Wooldridge (1st & 2nd eds.)\n",
    "Chapter 13 - Pooling Cross Sections Across Time. Simple Panel Data Methods\n",
    "\n",
    "    Example 13.1: Woman's Fertility Over Time\n",
    "\n",
    "use http://fmwww.bc.edu/ec-p/data/wooldridge/fertil1\n",
    "\n",
    "reg kids educ age agesq black east northcen west farm othrural town smcity y74 y76 y78 y80 y82 y84\n",
    "\n",
    "      Source |       SS       df       MS              Number of obs =    1129\n",
    "-------------+------------------------------           F( 17,  1111) =    9.72\n",
    "       Model |  399.610888    17  23.5065228           Prob > F      =  0.0000\n",
    "    Residual |  2685.89841  1111  2.41755033           R-squared     =  0.1295\n",
    "-------------+------------------------------           Adj R-squared =  0.1162\n",
    "       Total |   3085.5093  1128  2.73538059           Root MSE      =  1.5548\n",
    "\n",
    "------------------------------------------------------------------------------\n",
    "        kids |      Coef.   Std. Err.      t    P>|t|     [95% Conf. Interval]\n",
    "-------------+----------------------------------------------------------------\n",
    "        educ |  -.1284268   .0183486    -7.00   0.000    -.1644286    -.092425\n",
    "         age |   .5321346   .1383863     3.85   0.000     .2606065    .8036626\n",
    "       agesq |   -.005804   .0015643    -3.71   0.000    -.0088733   -.0027347\n",
    "       black |   1.075658   .1735356     6.20   0.000     .7351631    1.416152\n",
    "        east |    .217324   .1327878     1.64   0.102    -.0432192    .4778672\n",
    "    northcen |    .363114   .1208969     3.00   0.003      .125902    .6003261\n",
    "        west |   .1976032   .1669134     1.18   0.237    -.1298978    .5251041\n",
    "        farm |  -.0525575     .14719    -0.36   0.721    -.3413592    .2362443\n",
    "    othrural |  -.1628537    .175442    -0.93   0.353    -.5070887    .1813814\n",
    "        town |   .0843532    .124531     0.68   0.498    -.1599893    .3286957\n",
    "      smcity |   .2118791    .160296     1.32   0.187    -.1026379    .5263961\n",
    "         y74 |   .2681825    .172716     1.55   0.121    -.0707039    .6070689\n",
    "         y76 |  -.0973795   .1790456    -0.54   0.587     -.448685    .2539261\n",
    "         y78 |  -.0686665   .1816837    -0.38   0.706    -.4251483    .2878154\n",
    "         y80 |  -.0713053   .1827707    -0.39   0.697      -.42992    .2873093\n",
    "         y82 |  -.5224842   .1724361    -3.03   0.003    -.8608214    -.184147\n",
    "         y84 |  -.5451661   .1745162    -3.12   0.002    -.8875846   -.2027477\n",
    "       _cons |  -7.742457   3.051767    -2.54   0.011    -13.73033   -1.754579\n",
    "------------------------------------------------------------------------------\n",
    "\n",
    "test y74 y76 y78 y80 y82 y84\n",
    "\n",
    " ( 1)  y74 = 0.0\n",
    " ( 2)  y76 = 0.0\n",
    " ( 3)  y78 = 0.0\n",
    " ( 4)  y80 = 0.0\n",
    " ( 5)  y82 = 0.0\n",
    " ( 6)  y84 = 0.0\n",
    "\n",
    "       F(  6,  1111) =    5.87\n",
    "            Prob > F =    0.0000\n",
    "\n",
    "    Example 13.2: Changes in the Return to Education and the Gender Wage Gap\n",
    "\n",
    "use http://fmwww.bc.edu/ec-p/data/wooldridge/cps78_85\n",
    "\n",
    "reg lwage y85 educ y85educ exper expersq union female y85fem\n",
    "\n",
    "      Source |       SS       df       MS              Number of obs =    1084\n",
    "-------------+------------------------------           F(  8,  1075) =   99.80\n",
    "       Model |  135.992074     8  16.9990092           Prob > F      =  0.0000\n",
    "    Residual |  183.099094  1075  .170324738           R-squared     =  0.4262\n",
    "-------------+------------------------------           Adj R-squared =  0.4219\n",
    "       Total |  319.091167  1083   .29463635           Root MSE      =   .4127\n",
    "\n",
    "------------------------------------------------------------------------------\n",
    "       lwage |      Coef.   Std. Err.      t    P>|t|     [95% Conf. Interval]\n",
    "-------------+----------------------------------------------------------------\n",
    "         y85 |   .1178062   .1237817     0.95   0.341     -.125075    .3606874\n",
    "        educ |   .0747209   .0066764    11.19   0.000     .0616206    .0878212\n",
    "     y85educ |   .0184605   .0093542     1.97   0.049      .000106     .036815\n",
    "       exper |   .0295843   .0035673     8.29   0.000     .0225846     .036584\n",
    "     expersq |  -.0003994   .0000775    -5.15   0.000    -.0005516   -.0002473\n",
    "       union |   .2021319   .0302945     6.67   0.000     .1426888    .2615749\n",
    "      female |  -.3167086   .0366215    -8.65   0.000    -.3885663    -.244851\n",
    "      y85fem |    .085052    .051309     1.66   0.098    -.0156251     .185729\n",
    "       _cons |   .4589329   .0934485     4.91   0.000     .2755707     .642295\n",
    "------------------------------------------------------------------------------\n",
    "\n",
    "    Example 13.3: Effect of a Garbage Incinerator's Location on Housing Prices\n",
    "\n",
    "use http://fmwww.bc.edu/ec-p/data/wooldridge/kielmc\n",
    "\n",
    "reg rprice nearinc if year==1981\n",
    "\n",
    "      Source |       SS       df       MS              Number of obs =     142\n",
    "-------------+------------------------------           F(  1,   140) =   27.73\n",
    "       Model |  2.7059e+10     1  2.7059e+10           Prob > F      =  0.0000\n",
    "    Residual |  1.3661e+11   140   975815069           R-squared     =  0.1653\n",
    "-------------+------------------------------           Adj R-squared =  0.1594\n",
    "       Total |  1.6367e+11   141  1.1608e+09           Root MSE      =   31238\n",
    "\n",
    "------------------------------------------------------------------------------\n",
    "      rprice |      Coef.   Std. Err.      t    P>|t|     [95% Conf. Interval]\n",
    "-------------+----------------------------------------------------------------\n",
    "     nearinc |  -30688.27   5827.709    -5.27   0.000    -42209.97   -19166.58\n",
    "       _cons |   101307.5   3093.027    32.75   0.000     95192.43    107422.6\n",
    "------------------------------------------------------------------------------\n",
    "\n",
    "scalar b1=_b[nearinc]\n",
    "\n",
    "reg rprice nearinc if year==1978\n",
    "\n",
    "      Source |       SS       df       MS              Number of obs =     179\n",
    "-------------+------------------------------           F(  1,   177) =   15.74\n",
    "       Model |  1.3636e+10     1  1.3636e+10           Prob > F      =  0.0001\n",
    "    Residual |  1.5332e+11   177   866239953           R-squared     =  0.0817\n",
    "-------------+------------------------------           Adj R-squared =  0.0765\n",
    "       Total |  1.6696e+11   178   937979126           Root MSE      =   29432\n",
    "\n",
    "------------------------------------------------------------------------------\n",
    "      rprice |      Coef.   Std. Err.      t    P>|t|     [95% Conf. Interval]\n",
    "-------------+----------------------------------------------------------------\n",
    "     nearinc |  -18824.37   4744.594    -3.97   0.000    -28187.62   -9461.118\n",
    "       _cons |   82517.23    2653.79    31.09   0.000     77280.09    87754.37\n",
    "------------------------------------------------------------------------------\n",
    "\n",
    "scalar b2=_b[nearinc]\n",
    "\n",
    "    The difference in two coefficients on nearinc\n",
    "\n",
    "display b1-b2\n",
    "-11863.903\n",
    "\n",
    "reg rprice nearinc y81 y81nrinc\n",
    "\n",
    "      Source |       SS       df       MS              Number of obs =     321\n",
    "-------------+------------------------------           F(  3,   317) =   22.25\n",
    "       Model |  6.1055e+10     3  2.0352e+10           Prob > F      =  0.0000\n",
    "    Residual |  2.8994e+11   317   914632749           R-squared     =  0.1739\n",
    "-------------+------------------------------           Adj R-squared =  0.1661\n",
    "       Total |  3.5099e+11   320  1.0969e+09           Root MSE      =   30243\n",
    "\n",
    "------------------------------------------------------------------------------\n",
    "      rprice |      Coef.   Std. Err.      t    P>|t|     [95% Conf. Interval]\n",
    "-------------+----------------------------------------------------------------\n",
    "     nearinc |  -18824.37   4875.322    -3.86   0.000    -28416.45   -9232.293\n",
    "         y81 |   18790.29   4050.065     4.64   0.000     10821.88    26758.69\n",
    "    y81nrinc |   -11863.9   7456.646    -1.59   0.113    -26534.67    2806.866\n",
    "       _cons |   82517.23    2726.91    30.26   0.000      77152.1    87882.36\n",
    "------------------------------------------------------------------------------\n",
    "\n",
    "reg rprice nearinc y81 y81nrinc age agesq\n",
    "\n",
    "      Source |       SS       df       MS              Number of obs =     321\n",
    "-------------+------------------------------           F(  5,   315) =   44.59\n",
    "       Model |  1.4547e+11     5  2.9094e+10           Prob > F      =  0.0000\n",
    "    Residual |  2.0552e+11   315   652459465           R-squared     =  0.4144\n",
    "-------------+------------------------------           Adj R-squared =  0.4052\n",
    "       Total |  3.5099e+11   320  1.0969e+09           Root MSE      =   25543\n",
    "\n",
    "------------------------------------------------------------------------------\n",
    "      rprice |      Coef.   Std. Err.      t    P>|t|     [95% Conf. Interval]\n",
    "-------------+----------------------------------------------------------------\n",
    "     nearinc |   9397.936   4812.222     1.95   0.052    -70.22392     18866.1\n",
    "         y81 |   21321.04   3443.631     6.19   0.000     14545.62    28096.47\n",
    "    y81nrinc |  -21920.27   6359.745    -3.45   0.001    -34433.22   -9407.322\n",
    "         age |  -1494.424   131.8603   -11.33   0.000    -1753.862   -1234.986\n",
    "       agesq |   8.691277   .8481268    10.25   0.000     7.022567    10.35999\n",
    "       _cons |   89116.54   2406.051    37.04   0.000     84382.57     93850.5\n",
    "------------------------------------------------------------------------------\n",
    "\n",
    "reg rprice nearinc y81 y81nrinc age agesq intst land area rooms baths\n",
    "\n",
    "      Source |       SS       df       MS              Number of obs =     321\n",
    "-------------+------------------------------           F( 10,   310) =   60.19\n",
    "       Model |  2.3167e+11    10  2.3167e+10           Prob > F      =  0.0000\n",
    "    Residual |  1.1932e+11   310   384905873           R-squared     =  0.6600\n",
    "-------------+------------------------------           Adj R-squared =  0.6491\n",
    "       Total |  3.5099e+11   320  1.0969e+09           Root MSE      =   19619\n",
    "\n",
    "------------------------------------------------------------------------------\n",
    "      rprice |      Coef.   Std. Err.      t    P>|t|     [95% Conf. Interval]\n",
    "-------------+----------------------------------------------------------------\n",
    "     nearinc |   3780.334   4453.415     0.85   0.397     -4982.41    12543.08\n",
    "         y81 |   13928.48   2798.747     4.98   0.000     8421.533    19435.42\n",
    "    y81nrinc |  -14177.93   4987.267    -2.84   0.005    -23991.11   -4364.759\n",
    "         age |   -739.451   131.1272    -5.64   0.000    -997.4629   -481.4391\n",
    "       agesq |    3.45274   .8128214     4.25   0.000     1.853395    5.052084\n",
    "       intst |  -.5386353   .1963359    -2.74   0.006    -.9249549   -.1523158\n",
    "        land |   .1414196   .0310776     4.55   0.000     .0802698    .2025693\n",
    "        area |   18.08621   2.306064     7.84   0.000     13.54869    22.62373\n",
    "       rooms |   3304.225   1661.248     1.99   0.048     35.47769    6572.973\n",
    "       baths |   6977.318   2581.321     2.70   0.007     1898.192    12056.44\n",
    "       _cons |   13807.67   11166.59     1.24   0.217     -8164.23    35779.58\n",
    "------------------------------------------------------------------------------\n",
    "\n",
    "reg lprice nearinc y81 y81nrinc\n",
    "\n",
    "      Source |       SS       df       MS              Number of obs =     321\n",
    "-------------+------------------------------           F(  3,   317) =   73.15\n",
    "       Model |  25.1331556     3  8.37771854           Prob > F      =  0.0000\n",
    "    Residual |  36.3057473   317  .114529171           R-squared     =  0.4091\n",
    "-------------+------------------------------           Adj R-squared =  0.4035\n",
    "       Total |  61.4389029   320  .191996572           Root MSE      =  .33842\n",
    "\n",
    "------------------------------------------------------------------------------\n",
    "      lprice |      Coef.   Std. Err.      t    P>|t|     [95% Conf. Interval]\n",
    "-------------+----------------------------------------------------------------\n",
    "     nearinc |  -.3399216   .0545554    -6.23   0.000    -.4472581   -.2325851\n",
    "         y81 |   .4569954   .0453207    10.08   0.000      .367828    .5461628\n",
    "    y81nrinc |  -.0626505   .0834408    -0.75   0.453    -.2268181    .1015172\n",
    "       _cons |   11.28542   .0305144   369.84   0.000     11.22539    11.34546\n",
    "------------------------------------------------------------------------------\n",
    "\n",
    "    Example 13.4: Effect of Worker Compensation laws on Duration\n",
    "\n",
    "use http://fmwww.bc.edu/ec-p/data/wooldridge/injury\n",
    "\n",
    "reg ldurat afchnge highearn afhigh if ky\n",
    "\n",
    "      Source |       SS       df       MS              Number of obs =    5626\n",
    "-------------+------------------------------           F(  3,  5622) =   39.54\n",
    "       Model |  191.071427     3  63.6904757           Prob > F      =  0.0000\n",
    "    Residual |  9055.93393  5622   1.6108029           R-squared     =  0.0207\n",
    "-------------+------------------------------           Adj R-squared =  0.0201\n",
    "       Total |  9247.00536  5625  1.64391206           Root MSE      =  1.2692\n",
    "\n",
    "------------------------------------------------------------------------------\n",
    "      ldurat |      Coef.   Std. Err.      t    P>|t|     [95% Conf. Interval]\n",
    "-------------+----------------------------------------------------------------\n",
    "     afchnge |   .0076573   .0447173     0.17   0.864    -.0800058    .0953204\n",
    "    highearn |   .2564785   .0474464     5.41   0.000     .1634652    .3494918\n",
    "      afhigh |   .1906012   .0685089     2.78   0.005     .0562973    .3249051\n",
    "       _cons |   1.125615   .0307368    36.62   0.000     1.065359    1.185871\n",
    "------------------------------------------------------------------------------\n",
    "\n",
    "    Example 13.5: Sleeping Versus Working\n",
    "\n",
    "use http://fmwww.bc.edu/ec-p/data/wooldridge/slp75_81\n",
    "\n",
    "reg cslpnap ctotwrk ceduc cmarr cyngkid cgdhlth\n",
    "\n",
    "      Source |       SS       df       MS              Number of obs =     239\n",
    "-------------+------------------------------           F(  5,   233) =    8.19\n",
    "       Model |  14674698.2     5  2934939.64           Prob > F      =  0.0000\n",
    "    Residual |  83482611.7   233  358294.471           R-squared     =  0.1495\n",
    "-------------+------------------------------           Adj R-squared =  0.1313\n",
    "       Total |  98157309.9   238  412425.672           Root MSE      =  598.58\n",
    "\n",
    "------------------------------------------------------------------------------\n",
    "     cslpnap |      Coef.   Std. Err.      t    P>|t|     [95% Conf. Interval]\n",
    "-------------+----------------------------------------------------------------\n",
    "     ctotwrk |  -.2266694    .036054    -6.29   0.000    -.2977029   -.1556359\n",
    "       ceduc |  -.0244717   48.75938    -0.00   1.000    -96.09007    96.04113\n",
    "       cmarr |   104.2139   92.85536     1.12   0.263    -78.72946    287.1574\n",
    "     cyngkid |    94.6654   87.65252     1.08   0.281    -78.02738    267.3582\n",
    "     cgdhlth |   87.57785   76.59913     1.14   0.254    -63.33758    238.4933\n",
    "       _cons |  -92.63404    45.8659    -2.02   0.045    -182.9989   -2.269154\n",
    "------------------------------------------------------------------------------\n",
    "\n",
    "test ceduc cmarr cyngkid cgdhlth\n",
    "\n",
    " ( 1)  ceduc = 0.0\n",
    " ( 2)  cmarr = 0.0\n",
    " ( 3)  cyngkid = 0.0\n",
    " ( 4)  cgdhlth = 0.0\n",
    "\n",
    "       F(  4,   233) =    0.86\n",
    "            Prob > F =    0.4857\n",
    "\n",
    "    Example 13.6: Distributed Lag of Crime Rate on Clear-up Rate\n",
    "\n",
    "use http://fmwww.bc.edu/ec-p/data/wooldridge/crime3\n",
    "\n",
    "reg clcrime cclrprc1 cclrprc2\n",
    "\n",
    "      Source |       SS       df       MS              Number of obs =      53\n",
    "-------------+------------------------------           F(  2,    50) =    5.99\n",
    "       Model |  1.42294706     2  .711473529           Prob > F      =  0.0046\n",
    "    Residual |  5.93723982    50  .118744796           R-squared     =  0.1933\n",
    "-------------+------------------------------           Adj R-squared =  0.1611\n",
    "       Total |  7.36018687    52  .141542055           Root MSE      =  .34459\n",
    "\n",
    "------------------------------------------------------------------------------\n",
    "     clcrime |      Coef.   Std. Err.      t    P>|t|     [95% Conf. Interval]\n",
    "-------------+----------------------------------------------------------------\n",
    "    cclrprc1 |  -.0040475   .0047199    -0.86   0.395    -.0135276    .0054326\n",
    "    cclrprc2 |  -.0131966   .0051946    -2.54   0.014    -.0236302   -.0027629\n",
    "       _cons |   .0856556   .0637825     1.34   0.185    -.0424553    .2137665\n",
    "------------------------------------------------------------------------------\n",
    "\n",
    "    Example 13.7: Effect of Drunk Driving Laws on Traffic Fatalities\n",
    "\n",
    "use http://fmwww.bc.edu/ec-p/data/wooldridge/traffic1\n",
    "\n",
    "reg cdthrte copen cadmn\n",
    "\n",
    "      Source |       SS       df       MS              Number of obs =      51\n",
    "-------------+------------------------------           F(  2,    48) =    3.23\n",
    "       Model |  .762579679     2   .38128984           Prob > F      =  0.0482\n",
    "    Residual |   5.6636945    48  .117993635           R-squared     =  0.1187\n",
    "-------------+------------------------------           Adj R-squared =  0.0819\n",
    "       Total |  6.42627418    50  .128525484           Root MSE      =   .3435\n",
    "\n",
    "------------------------------------------------------------------------------\n",
    "     cdthrte |      Coef.   Std. Err.      t    P>|t|     [95% Conf. Interval]\n",
    "-------------+----------------------------------------------------------------\n",
    "       copen |  -.4196787   .2055948    -2.04   0.047    -.8330547   -.0063028\n",
    "       cadmn |  -.1506024   .1168223    -1.29   0.204    -.3854894    .0842846\n",
    "       _cons |  -.4967872   .0524256    -9.48   0.000    -.6021959   -.3913784\n",
    "------------------------------------------------------------------------------\n",
    "\n",
    "    Example 13.8: Effect of Enterprise Zones on Unemployment Claims\n",
    "\n",
    "use http://fmwww.bc.edu/ec-p/data/wooldridge/ezunem\n",
    "\n",
    "reg guclms d82 d83 d84 d85 d86 d87 d88 cez\n",
    "\n",
    "      Source |       SS       df       MS              Number of obs =     176\n",
    "-------------+------------------------------           F(  8,   167) =   34.50\n",
    "       Model |  12.8826331     8  1.61032914           Prob > F      =  0.0000\n",
    "    Residual |  7.79583789   167  .046681664           R-squared     =  0.6230\n",
    "-------------+------------------------------           Adj R-squared =  0.6049\n",
    "       Total |   20.678471   175  .118162691           Root MSE      =  .21606\n",
    "\n",
    "------------------------------------------------------------------------------\n",
    "      guclms |      Coef.   Std. Err.      t    P>|t|     [95% Conf. Interval]\n",
    "-------------+----------------------------------------------------------------\n",
    "         d82 |   .7787595   .0651444    11.95   0.000     .6501469    .9073721\n",
    "         d83 |  -.0331192   .0651444    -0.51   0.612    -.1617318    .0954934\n",
    "         d84 |  -.0171382   .0685455    -0.25   0.803    -.1524655     .118189\n",
    "         d85 |    .323081   .0666774     4.85   0.000     .1914418    .4547202\n",
    "         d86 |    .292154   .0651444     4.48   0.000     .1635413    .4207666\n",
    "         d87 |   .0539481   .0651444     0.83   0.409    -.0746645    .1825607\n",
    "         d88 |  -.0170526   .0651444    -0.26   0.794    -.1456652      .11156\n",
    "         cez |  -.1818775   .0781862    -2.33   0.021    -.3362382   -.0275169\n",
    "       _cons |  -.3216319    .046064    -6.98   0.000    -.4125748    -.230689\n",
    "------------------------------------------------------------------------------\n",
    "\n",
    "bpagan d82 d83 d84 d85 d86 d87 d88 cez\n",
    "\n",
    "Breusch-Pagan LM statistic:   6.58428  Chi-sq( 8)  P-value =  .5821\n",
    "\n",
    "    Example 13.9: Country Crime Rates in North Carolina\n",
    "\n",
    "use http://fmwww.bc.edu/ec-p/data/wooldridge/crime4\n",
    "\n",
    "reg clcrmrte d83 d84 d85 d86 d87 clprbarr clprbcon clprbpri clavgsen clpolpc\n",
    "\n",
    "      Source |       SS       df       MS              Number of obs =     540\n",
    "-------------+------------------------------           F( 10,   529) =   40.32\n",
    "       Model |  9.60042816    10  .960042816           Prob > F      =  0.0000\n",
    "    Residual |  12.5963761   529  .023811675           R-squared     =  0.4325\n",
    "-------------+------------------------------           Adj R-squared =  0.4218\n",
    "       Total |  22.1968043   539  .041181455           Root MSE      =  .15431\n",
    "\n",
    "------------------------------------------------------------------------------\n",
    "    clcrmrte |      Coef.   Std. Err.      t    P>|t|     [95% Conf. Interval]\n",
    "-------------+----------------------------------------------------------------\n",
    "         d83 |  -.0998658   .0238953    -4.18   0.000    -.1468071   -.0529246\n",
    "         d84 |  -.0479374   .0235021    -2.04   0.042    -.0941063   -.0017686\n",
    "         d85 |  -.0046111   .0234998    -0.20   0.845    -.0507756    .0415533\n",
    "         d86 |   .0275143   .0241494     1.14   0.255    -.0199261    .0749548\n",
    "         d87 |   .0408267   .0244153     1.67   0.095    -.0071361    .0887895\n",
    "    clprbarr |  -.3274942   .0299801   -10.92   0.000    -.3863889   -.2685994\n",
    "    clprbcon |  -.2381066   .0182341   -13.06   0.000    -.2739268   -.2022864\n",
    "    clprbpri |  -.1650462    .025969    -6.36   0.000    -.2160613   -.1140312\n",
    "    clavgsen |  -.0217607   .0220909    -0.99   0.325    -.0651574    .0216361\n",
    "     clpolpc |   .3984264    .026882    14.82   0.000     .3456177    .4512351\n",
    "       _cons |   .0077134   .0170579     0.45   0.651    -.0257961    .0412229\n",
    "------------------------------------------------------------------------------\n",
    "\n",
    "whitetst, fitted\n",
    "\n",
    "White's special test statistic :  118.4921  Chi-sq( 2)  P-value =  1.9e-26 \n",
    "\n",
    "This page prepared by Oleksandr Talavera (revised 8 Nov 2002)\n",
    "\n",
    "Send your questions/comments/suggestions to Kit Baum at baum@bc.edu\n",
    "These pages are maintained by the Faculty Micro Resource Center's GSA Program,\n",
    "a unit of Boston College Academic Technology Services\n"
   ]
  }
 ],
 "metadata": {
  "kernelspec": {
   "display_name": "R",
   "language": "R",
   "name": "ir"
  },
  "language_info": {
   "codemirror_mode": "r",
   "file_extension": ".r",
   "mimetype": "text/x-r-source",
   "name": "R",
   "pygments_lexer": "r",
   "version": "3.5.1"
  }
 },
 "nbformat": 4,
 "nbformat_minor": 2
}
