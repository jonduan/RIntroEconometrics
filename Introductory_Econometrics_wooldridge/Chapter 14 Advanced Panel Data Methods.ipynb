{
 "cells": [
  {
   "cell_type": "code",
   "execution_count": 1,
   "metadata": {
    "ExecuteTime": {
     "end_time": "2018-12-03T04:38:18.561357Z",
     "start_time": "2018-12-03T04:38:18.485Z"
    }
   },
   "outputs": [
    {
     "name": "stderr",
     "output_type": "stream",
     "text": [
      "\n",
      "Please cite as: \n",
      "\n",
      " Hlavac, Marek (2018). stargazer: Well-Formatted Regression and Summary Statistics Tables.\n",
      " R package version 5.2.2. https://CRAN.R-project.org/package=stargazer \n",
      "\n"
     ]
    }
   ],
   "source": [
    "library(wooldridge)\n",
    "library(stargazer)\n",
    "library(knitr)"
   ]
  },
  {
   "cell_type": "code",
   "execution_count": null,
   "metadata": {},
   "outputs": [],
   "source": []
  },
  {
   "cell_type": "code",
   "execution_count": null,
   "metadata": {},
   "outputs": [],
   "source": []
  },
  {
   "cell_type": "markdown",
   "metadata": {},
   "source": [
    "# Example 14.1: Effect of Job Training on Firm Scrap Rates\n",
    "In this section, we will estimate a linear panel modeg using the plm function from the plm: Linear Models for Panel Data package. See the bibliography for more information."
   ]
  },
  {
   "cell_type": "code",
   "execution_count": 2,
   "metadata": {
    "ExecuteTime": {
     "end_time": "2018-12-03T04:38:44.608519Z",
     "start_time": "2018-12-03T04:38:43.605Z"
    }
   },
   "outputs": [
    {
     "name": "stderr",
     "output_type": "stream",
     "text": [
      "Loading required package: Formula\n"
     ]
    },
    {
     "name": "stdout",
     "output_type": "stream",
     "text": [
      "\n",
      "========================================\n",
      "                 Dependent variable:    \n",
      "             ---------------------------\n",
      "                       lscrap           \n",
      "----------------------------------------\n",
      "d88              -0.08022 (0.10948)     \n",
      "d89              -0.24720* (0.13322)    \n",
      "grant            -0.25231* (0.15063)    \n",
      "grant_1         -0.42159** (0.21020)    \n",
      "----------------------------------------\n",
      "Observations             162            \n",
      "R2                     0.20105          \n",
      "Adjusted R2           -0.23684          \n",
      "F Statistic   6.54259*** (df = 4; 104)  \n",
      "========================================\n",
      "Note:        *p<0.1; **p<0.05; ***p<0.01\n"
     ]
    }
   ],
   "source": [
    "library(plm)\n",
    "data(\"jtrain\")\n",
    "scrap_panel <- plm(lscrap ~ d88 + d89 + grant + grant_1, data = jtrain,\n",
    "            index = c('fcode','year'), model = 'within', effect ='individual')\n",
    "stargazer(type = \"text\",scrap_panel,  single.row = TRUE, header = FALSE, digits=5)"
   ]
  },
  {
   "cell_type": "code",
   "execution_count": null,
   "metadata": {},
   "outputs": [],
   "source": []
  },
  {
   "cell_type": "code",
   "execution_count": null,
   "metadata": {},
   "outputs": [],
   "source": []
  }
 ],
 "metadata": {
  "kernelspec": {
   "display_name": "R",
   "language": "R",
   "name": "ir"
  },
  "language_info": {
   "codemirror_mode": "r",
   "file_extension": ".r",
   "mimetype": "text/x-r-source",
   "name": "R",
   "pygments_lexer": "r",
   "version": "3.5.1"
  }
 },
 "nbformat": 4,
 "nbformat_minor": 2
}
