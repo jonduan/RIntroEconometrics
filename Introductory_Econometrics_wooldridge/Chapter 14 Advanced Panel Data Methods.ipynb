{
 "cells": [
  {
   "cell_type": "code",
   "execution_count": 1,
   "metadata": {
    "ExecuteTime": {
     "end_time": "2018-12-03T04:38:18.561357Z",
     "start_time": "2018-12-03T04:38:18.485Z"
    }
   },
   "outputs": [
    {
     "name": "stderr",
     "output_type": "stream",
     "text": [
      "\n",
      "Please cite as: \n",
      "\n",
      " Hlavac, Marek (2018). stargazer: Well-Formatted Regression and Summary Statistics Tables.\n",
      " R package version 5.2.2. https://CRAN.R-project.org/package=stargazer \n",
      "\n"
     ]
    }
   ],
   "source": [
    "library(wooldridge)\n",
    "library(stargazer)\n",
    "library(knitr)"
   ]
  },
  {
   "cell_type": "code",
   "execution_count": 1,
   "metadata": {},
   "outputs": [],
   "source": [
    "pacman::p_load(wooldridge,stargazer,broom,tidyverse,ggplot2,\n",
    "               dplyr,tidyr,moderndive,jtools,sjPlot,dotwhisker,FSA,\n",
    "               car,QuantPsyc,lmtest,sandwich,tseries, \n",
    "              dynlm,prais,clubSandwich,orcutt,urca,plm)"
   ]
  },
  {
   "cell_type": "markdown",
   "metadata": {},
   "source": [
    "\n",
    "# Chapter 14:\n",
    "\n",
    "    Example-13-9-ClSE.R\n",
    "    Example-14-2.R\n",
    "    Example-14-4-1.R\n",
    "    Example-14-4-2.R\n",
    "    Example-CRE-test-RE.R\n",
    "    Example-CRE2.R\n",
    "    Example-Dummy-CRE-1.R\n",
    "    Example-Dummy-CRE-2.R\n",
    "    Example-HausmTest.R\n",
    "\n"
   ]
  },
  {
   "cell_type": "markdown",
   "metadata": {},
   "source": [
    "# Example 14.1: Effect of Job Training on Firm Scrap Rates\n",
    "In this section, we will estimate a linear panel modeg using the plm function from the plm: Linear Models for Panel Data package. See the bibliography for more information."
   ]
  },
  {
   "cell_type": "code",
   "execution_count": 2,
   "metadata": {
    "ExecuteTime": {
     "end_time": "2018-12-03T04:38:44.608519Z",
     "start_time": "2018-12-03T04:38:43.605Z"
    }
   },
   "outputs": [
    {
     "name": "stdout",
     "output_type": "stream",
     "text": [
      "\n",
      "========================================\n",
      "                 Dependent variable:    \n",
      "             ---------------------------\n",
      "                       lscrap           \n",
      "----------------------------------------\n",
      "d88              -0.08022 (0.10948)     \n",
      "d89              -0.24720* (0.13322)    \n",
      "grant            -0.25231* (0.15063)    \n",
      "grant_1         -0.42159** (0.21020)    \n",
      "----------------------------------------\n",
      "Observations             162            \n",
      "R2                     0.20105          \n",
      "Adjusted R2           -0.23684          \n",
      "F Statistic   6.54259*** (df = 4; 104)  \n",
      "========================================\n",
      "Note:        *p<0.1; **p<0.05; ***p<0.01\n"
     ]
    }
   ],
   "source": [
    "library(plm)\n",
    "data(\"jtrain\")\n",
    "scrap_panel <- plm(lscrap ~ d88 + d89 + grant + grant_1, data = jtrain,\n",
    "            index = c('fcode','year'), model = 'within', effect ='individual')\n",
    "stargazer(type = \"text\",scrap_panel,  single.row = TRUE, header = FALSE, digits=5)"
   ]
  },
  {
   "cell_type": "code",
   "execution_count": 4,
   "metadata": {},
   "outputs": [
    {
     "name": "stdout",
     "output_type": "stream",
     "text": [
      "Observations: 471\n",
      "Variables: 30\n",
      "$ year     <int> 1987, 1988, 1989, 1987, 1988, 1989, 1987, 1988, 1989, 1987, …\n",
      "$ fcode    <dbl> 410032, 410032, 410032, 410440, 410440, 410440, 410495, 4104…\n",
      "$ employ   <int> 100, 131, 123, 12, 13, 14, 20, 25, 24, 200, 155, 80, NA, NA,…\n",
      "$ sales    <dbl> 47000000, 43000000, 49000000, 1560000, 1970000, 2350000, 750…\n",
      "$ avgsal   <dbl> 35000, 37000, 39000, 10500, 11000, 11500, 17680, 18720, 1976…\n",
      "$ scrap    <dbl> NA, NA, NA, NA, NA, NA, NA, NA, NA, NA, NA, NA, NA, NA, NA, …\n",
      "$ rework   <dbl> NA, NA, NA, NA, NA, NA, NA, NA, NA, NA, NA, NA, NA, NA, NA, …\n",
      "$ tothrs   <int> 12, 8, 8, 12, 12, 10, 50, 50, 50, 0, 0, 24, 0, 0, 0, 0, 0, 0…\n",
      "$ union    <int> 0, 0, 0, 0, 0, 0, 0, 0, 0, 0, 0, 0, 0, 0, 0, 0, 0, 0, 0, 0, …\n",
      "$ grant    <int> 0, 0, 0, 0, 0, 0, 0, 0, 0, 0, 0, 0, 0, 0, 0, 0, 0, 0, 0, 0, …\n",
      "$ d89      <int> 0, 0, 1, 0, 0, 1, 0, 0, 1, 0, 0, 1, 0, 0, 1, 0, 0, 1, 0, 0, …\n",
      "$ d88      <int> 0, 1, 0, 0, 1, 0, 0, 1, 0, 0, 1, 0, 0, 1, 0, 0, 1, 0, 0, 1, …\n",
      "$ totrain  <int> 100, 50, 50, 12, 13, 14, 15, 10, 20, 0, 0, 20, 10, 20, 25, 0…\n",
      "$ hrsemp   <dbl> 12.000000, 3.053435, 3.252033, 12.000000, 12.000000, 10.0000…\n",
      "$ lscrap   <dbl> NA, NA, NA, NA, NA, NA, NA, NA, NA, NA, NA, NA, NA, NA, NA, …\n",
      "$ lemploy  <dbl> 4.605170, 4.875197, 4.812184, 2.484907, 2.564949, 2.639057, …\n",
      "$ lsales   <dbl> 17.66566, 17.57671, 17.70733, 14.26020, 14.49354, 14.66993, …\n",
      "$ lrework  <dbl> NA, NA, NA, NA, NA, NA, NA, NA, NA, NA, NA, NA, NA, NA, NA, …\n",
      "$ lhrsemp  <dbl> 2.5649493, 1.3995647, 1.4473971, 2.5649493, 2.5649493, 2.397…\n",
      "$ lscrap_1 <dbl> NA, NA, NA, NA, NA, NA, NA, NA, NA, NA, NA, NA, NA, NA, NA, …\n",
      "$ grant_1  <int> 0, 0, 0, 0, 0, 0, 0, 0, 0, 0, 0, 0, 0, 0, 0, 0, 0, 0, 0, 0, …\n",
      "$ clscrap  <dbl> NA, NA, NA, NA, NA, NA, NA, NA, NA, NA, NA, NA, NA, NA, NA, …\n",
      "$ cgrant   <int> 0, 0, 0, 0, 0, 0, 0, 0, 0, 0, 0, 0, 0, 0, 0, 0, 0, 0, 0, 0, …\n",
      "$ clemploy <dbl> NA, 0.27002716, -0.06301308, NA, 0.08004260, 0.07410812, NA,…\n",
      "$ clsales  <dbl> NA, -0.088949203, 0.130620956, NA, 0.233346939, 0.176382065,…\n",
      "$ lavgsal  <dbl> 10.463103, 10.518673, 10.571317, 9.259130, 9.305651, 9.35010…\n",
      "$ clavgsal <dbl> NA, 0.05556965, 0.05264378, NA, 0.04652023, 0.04445171, NA, …\n",
      "$ cgrant_1 <int> NA, 0, 0, NA, 0, 0, NA, 0, 0, NA, 0, 0, NA, 0, 0, NA, 0, 0, …\n",
      "$ chrsemp  <dbl> NA, -8.94656467, 0.19859743, NA, 0.00000000, -2.00000000, NA…\n",
      "$ clhrsemp <dbl> NA, -1.165384531, 0.047832370, NA, 0.000000000, -0.167053938…\n"
     ]
    }
   ],
   "source": [
    "glimpse(jtrain)"
   ]
  },
  {
   "cell_type": "code",
   "execution_count": null,
   "metadata": {},
   "outputs": [],
   "source": []
  },
  {
   "cell_type": "code",
   "execution_count": null,
   "metadata": {},
   "outputs": [],
   "source": []
  },
  {
   "cell_type": "markdown",
   "metadata": {},
   "source": [
    "#     Example-14-2.R\n",
    "    Example-14-4-1.R\n",
    "    Example-14-4-2.R"
   ]
  },
  {
   "cell_type": "code",
   "execution_count": 7,
   "metadata": {},
   "outputs": [
    {
     "name": "stdout",
     "output_type": "stream",
     "text": [
      "Observations: 4,360\n",
      "Variables: 44\n",
      "$ nr       <int> 13, 13, 13, 13, 13, 13, 13, 13, 17, 17, 17, 17, 17, 17, 17, …\n",
      "$ year     <int> 1980, 1981, 1982, 1983, 1984, 1985, 1986, 1987, 1980, 1981, …\n",
      "$ agric    <int> 0, 0, 0, 0, 0, 0, 0, 0, 0, 0, 0, 0, 0, 0, 0, 0, 0, 0, 0, 0, …\n",
      "$ black    <int> 0, 0, 0, 0, 0, 0, 0, 0, 0, 0, 0, 0, 0, 0, 0, 0, 0, 0, 0, 0, …\n",
      "$ bus      <int> 1, 0, 1, 1, 0, 1, 1, 1, 0, 0, 0, 0, 0, 0, 0, 0, 0, 0, 0, 0, …\n",
      "$ construc <int> 0, 0, 0, 0, 0, 0, 0, 0, 0, 0, 0, 0, 0, 1, 1, 1, 0, 0, 0, 0, …\n",
      "$ ent      <int> 0, 0, 0, 0, 0, 0, 0, 0, 0, 0, 0, 0, 0, 0, 0, 0, 0, 0, 0, 0, …\n",
      "$ exper    <int> 1, 2, 3, 4, 5, 6, 7, 8, 4, 5, 6, 7, 8, 9, 10, 11, 4, 5, 6, 7…\n",
      "$ fin      <int> 0, 0, 0, 0, 0, 0, 0, 0, 0, 0, 0, 0, 0, 0, 0, 0, 0, 0, 0, 0, …\n",
      "$ hisp     <int> 0, 0, 0, 0, 0, 0, 0, 0, 0, 0, 0, 0, 0, 0, 0, 0, 0, 0, 0, 0, …\n",
      "$ poorhlth <int> 0, 0, 0, 0, 0, 0, 0, 0, 0, 0, 0, 0, 0, 0, 0, 0, 0, 0, 0, 0, …\n",
      "$ hours    <int> 2672, 2320, 2940, 2960, 3071, 2864, 2994, 2640, 2484, 2804, …\n",
      "$ manuf    <int> 0, 0, 0, 0, 0, 0, 0, 0, 0, 0, 0, 0, 0, 0, 0, 0, 0, 0, 1, 0, …\n",
      "$ married  <int> 0, 0, 0, 0, 0, 0, 0, 0, 0, 0, 0, 0, 0, 0, 0, 0, 1, 1, 1, 1, …\n",
      "$ min      <int> 0, 0, 0, 0, 0, 0, 0, 0, 0, 0, 0, 0, 0, 0, 0, 0, 0, 0, 0, 0, …\n",
      "$ nrthcen  <int> 0, 0, 0, 0, 0, 0, 0, 0, 0, 0, 0, 0, 0, 0, 0, 0, 0, 0, 0, 0, …\n",
      "$ nrtheast <int> 1, 1, 1, 1, 1, 1, 1, 1, 1, 1, 1, 1, 1, 1, 1, 1, 0, 0, 0, 0, …\n",
      "$ occ1     <int> 0, 0, 0, 0, 0, 0, 0, 0, 0, 0, 0, 0, 0, 0, 0, 0, 0, 0, 0, 0, …\n",
      "$ occ2     <int> 0, 0, 0, 0, 0, 1, 1, 1, 1, 1, 1, 1, 1, 0, 0, 0, 0, 0, 1, 0, …\n",
      "$ occ3     <int> 0, 0, 0, 0, 0, 0, 0, 0, 0, 0, 0, 0, 0, 0, 0, 0, 0, 0, 0, 1, …\n",
      "$ occ4     <int> 0, 0, 0, 0, 0, 0, 0, 0, 0, 0, 0, 0, 0, 0, 0, 0, 1, 1, 0, 0, …\n",
      "$ occ5     <int> 0, 0, 0, 0, 1, 0, 0, 0, 0, 0, 0, 0, 0, 0, 0, 1, 0, 0, 0, 0, …\n",
      "$ occ6     <int> 0, 0, 0, 0, 0, 0, 0, 0, 0, 0, 0, 0, 0, 0, 0, 0, 0, 0, 0, 0, …\n",
      "$ occ7     <int> 0, 0, 0, 0, 0, 0, 0, 0, 0, 0, 0, 0, 0, 1, 1, 0, 0, 0, 0, 0, …\n",
      "$ occ8     <int> 0, 0, 0, 0, 0, 0, 0, 0, 0, 0, 0, 0, 0, 0, 0, 0, 0, 0, 0, 0, …\n",
      "$ occ9     <int> 1, 1, 1, 1, 0, 0, 0, 0, 0, 0, 0, 0, 0, 0, 0, 0, 0, 0, 0, 0, …\n",
      "$ per      <int> 0, 1, 0, 0, 1, 0, 0, 0, 0, 0, 0, 0, 0, 0, 0, 0, 0, 0, 0, 0, …\n",
      "$ pro      <int> 0, 0, 0, 0, 0, 0, 0, 0, 0, 0, 0, 0, 0, 0, 0, 0, 0, 0, 0, 0, …\n",
      "$ pub      <int> 0, 0, 0, 0, 0, 0, 0, 0, 0, 0, 0, 0, 0, 0, 0, 0, 0, 0, 0, 0, …\n",
      "$ rur      <int> 0, 0, 0, 0, 0, 0, 0, 0, 0, 0, 0, 0, 0, 0, 0, 0, 0, 0, 0, 0, …\n",
      "$ south    <int> 0, 0, 0, 0, 0, 0, 0, 0, 0, 0, 0, 0, 0, 0, 0, 0, 0, 0, 0, 0, …\n",
      "$ educ     <int> 14, 14, 14, 14, 14, 14, 14, 14, 13, 13, 13, 13, 13, 13, 13, …\n",
      "$ tra      <int> 0, 0, 0, 0, 0, 0, 0, 0, 0, 0, 0, 0, 0, 0, 0, 0, 0, 0, 0, 0, …\n",
      "$ trad     <int> 0, 0, 0, 0, 0, 0, 0, 0, 1, 1, 1, 1, 1, 0, 0, 0, 1, 1, 0, 1, …\n",
      "$ union    <int> 0, 1, 0, 0, 0, 0, 0, 0, 0, 0, 0, 0, 0, 0, 0, 0, 0, 0, 0, 0, …\n",
      "$ lwage    <dbl> 1.1975402, 1.8530600, 1.3444617, 1.4332134, 1.5681251, 1.699…\n",
      "$ d81      <int> 0, 1, 0, 0, 0, 0, 0, 0, 0, 1, 0, 0, 0, 0, 0, 0, 0, 1, 0, 0, …\n",
      "$ d82      <int> 0, 0, 1, 0, 0, 0, 0, 0, 0, 0, 1, 0, 0, 0, 0, 0, 0, 0, 1, 0, …\n",
      "$ d83      <int> 0, 0, 0, 1, 0, 0, 0, 0, 0, 0, 0, 1, 0, 0, 0, 0, 0, 0, 0, 1, …\n",
      "$ d84      <int> 0, 0, 0, 0, 1, 0, 0, 0, 0, 0, 0, 0, 1, 0, 0, 0, 0, 0, 0, 0, …\n",
      "$ d85      <int> 0, 0, 0, 0, 0, 1, 0, 0, 0, 0, 0, 0, 0, 1, 0, 0, 0, 0, 0, 0, …\n",
      "$ d86      <int> 0, 0, 0, 0, 0, 0, 1, 0, 0, 0, 0, 0, 0, 0, 1, 0, 0, 0, 0, 0, …\n",
      "$ d87      <int> 0, 0, 0, 0, 0, 0, 0, 1, 0, 0, 0, 0, 0, 0, 0, 1, 0, 0, 0, 0, …\n",
      "$ expersq  <int> 1, 4, 9, 16, 25, 36, 49, 64, 16, 25, 36, 49, 64, 81, 100, 12…\n"
     ]
    }
   ],
   "source": [
    "library(plm)\n",
    "data(wagepan, package='wooldridge')\n",
    "glimpse(wagepan)"
   ]
  },
  {
   "cell_type": "code",
   "execution_count": 5,
   "metadata": {},
   "outputs": [
    {
     "data": {
      "text/plain": [
       "Balanced Panel: n = 545, T = 8, N = 4360"
      ]
     },
     "metadata": {},
     "output_type": "display_data"
    },
    {
     "data": {
      "text/plain": [
       "Oneway (individual) effect Within Model\n",
       "\n",
       "Call:\n",
       "plm(formula = lwage ~ married + union + factor(year) * educ, \n",
       "    data = wagepan.p, model = \"within\")\n",
       "\n",
       "Balanced Panel: n = 545, T = 8, N = 4360\n",
       "\n",
       "Residuals:\n",
       "     Min.   1st Qu.    Median   3rd Qu.      Max. \n",
       "-4.152111 -0.125630  0.010897  0.160800  1.483401 \n",
       "\n",
       "Coefficients:\n",
       "                        Estimate Std. Error t-value  Pr(>|t|)    \n",
       "married                0.0548205  0.0184126  2.9773  0.002926 ** \n",
       "union                  0.0829785  0.0194461  4.2671 2.029e-05 ***\n",
       "factor(year)1981      -0.0224158  0.1458885 -0.1537  0.877893    \n",
       "factor(year)1982      -0.0057611  0.1458558 -0.0395  0.968495    \n",
       "factor(year)1983       0.0104297  0.1458579  0.0715  0.942999    \n",
       "factor(year)1984       0.0843743  0.1458518  0.5785  0.562965    \n",
       "factor(year)1985       0.0497253  0.1458602  0.3409  0.733190    \n",
       "factor(year)1986       0.0656064  0.1458917  0.4497  0.652958    \n",
       "factor(year)1987       0.0904448  0.1458505  0.6201  0.535216    \n",
       "factor(year)1981:educ  0.0115854  0.0122625  0.9448  0.344827    \n",
       "factor(year)1982:educ  0.0147905  0.0122635  1.2061  0.227872    \n",
       "factor(year)1983:educ  0.0171182  0.0122633  1.3959  0.162830    \n",
       "factor(year)1984:educ  0.0165839  0.0122657  1.3521  0.176437    \n",
       "factor(year)1985:educ  0.0237085  0.0122738  1.9316  0.053479 .  \n",
       "factor(year)1986:educ  0.0274123  0.0122740  2.2334  0.025583 *  \n",
       "factor(year)1987:educ  0.0304332  0.0122723  2.4798  0.013188 *  \n",
       "---\n",
       "Signif. codes:  0 ‘***’ 0.001 ‘**’ 0.01 ‘*’ 0.05 ‘.’ 0.1 ‘ ’ 1\n",
       "\n",
       "Total Sum of Squares:    572.05\n",
       "Residual Sum of Squares: 474.35\n",
       "R-Squared:      0.1708\n",
       "Adj. R-Squared: 0.048567\n",
       "F-statistic: 48.9069 on 16 and 3799 DF, p-value: < 2.22e-16"
      ]
     },
     "metadata": {},
     "output_type": "display_data"
    }
   ],
   "source": [
    "\n",
    "\n",
    "# Generate pdata.frame:\n",
    "wagepan.p <- pdata.frame(wagepan, index=c(\"nr\",\"year\") )\n",
    "\n",
    "pdim(wagepan.p)\n",
    "\n",
    "# Estimate FE model\n",
    "summary( plm(lwage~married+union+factor(year)*educ, \n",
    "                                        data=wagepan.p, model=\"within\") )"
   ]
  },
  {
   "cell_type": "code",
   "execution_count": 6,
   "metadata": {},
   "outputs": [
    {
     "data": {
      "text/html": [
       "<table>\n",
       "<thead><tr><th scope=col>term</th><th scope=col>estimate</th><th scope=col>std.error</th><th scope=col>statistic</th><th scope=col>p.value</th></tr></thead>\n",
       "<tbody>\n",
       "\t<tr><td>married              </td><td> 0.054820477         </td><td>0.01841257           </td><td> 2.97733965          </td><td>2.925979e-03         </td></tr>\n",
       "\t<tr><td>union                </td><td> 0.082978472         </td><td>0.01944609           </td><td> 4.26710413          </td><td>2.028558e-05         </td></tr>\n",
       "\t<tr><td>factor(year)1981     </td><td>-0.022415835         </td><td>0.14588847           </td><td>-0.15365049          </td><td>8.778935e-01         </td></tr>\n",
       "\t<tr><td>factor(year)1982     </td><td>-0.005761061         </td><td>0.14585579           </td><td>-0.03949834          </td><td>9.684952e-01         </td></tr>\n",
       "\t<tr><td>factor(year)1983     </td><td> 0.010429718         </td><td>0.14585792           </td><td> 0.07150601          </td><td>9.429988e-01         </td></tr>\n",
       "\t<tr><td>factor(year)1984     </td><td> 0.084374320         </td><td>0.14585182           </td><td> 0.57849343          </td><td>5.629653e-01         </td></tr>\n",
       "\t<tr><td>factor(year)1985     </td><td> 0.049725289         </td><td>0.14586018           </td><td> 0.34091064          </td><td>7.331897e-01         </td></tr>\n",
       "\t<tr><td>factor(year)1986     </td><td> 0.065606423         </td><td>0.14589174           </td><td> 0.44969252          </td><td>6.529578e-01         </td></tr>\n",
       "\t<tr><td>factor(year)1987     </td><td> 0.090444839         </td><td>0.14585053           </td><td> 0.62012006          </td><td>5.352159e-01         </td></tr>\n",
       "\t<tr><td>factor(year)1981:educ</td><td> 0.011585424         </td><td>0.01226246           </td><td> 0.94478819          </td><td>3.448271e-01         </td></tr>\n",
       "\t<tr><td>factor(year)1982:educ</td><td> 0.014790475         </td><td>0.01226353           </td><td> 1.20605380          </td><td>2.278719e-01         </td></tr>\n",
       "\t<tr><td>factor(year)1983:educ</td><td> 0.017118202         </td><td>0.01226330           </td><td> 1.39588840          </td><td>1.628297e-01         </td></tr>\n",
       "\t<tr><td>factor(year)1984:educ</td><td> 0.016583929         </td><td>0.01226569           </td><td> 1.35205880          </td><td>1.764370e-01         </td></tr>\n",
       "\t<tr><td>factor(year)1985:educ</td><td> 0.023708543         </td><td>0.01227382           </td><td> 1.93163477          </td><td>5.347889e-02         </td></tr>\n",
       "\t<tr><td>factor(year)1986:educ</td><td> 0.027412292         </td><td>0.01227398           </td><td> 2.23336560          </td><td>2.558285e-02         </td></tr>\n",
       "\t<tr><td>factor(year)1987:educ</td><td> 0.030433178         </td><td>0.01227234           </td><td> 2.47981874          </td><td>1.318795e-02         </td></tr>\n",
       "</tbody>\n",
       "</table>\n"
      ],
      "text/latex": [
       "\\begin{tabular}{r|lllll}\n",
       " term & estimate & std.error & statistic & p.value\\\\\n",
       "\\hline\n",
       "\t married               &  0.054820477          & 0.01841257            &  2.97733965           & 2.925979e-03         \\\\\n",
       "\t union                 &  0.082978472          & 0.01944609            &  4.26710413           & 2.028558e-05         \\\\\n",
       "\t factor(year)1981      & -0.022415835          & 0.14588847            & -0.15365049           & 8.778935e-01         \\\\\n",
       "\t factor(year)1982      & -0.005761061          & 0.14585579            & -0.03949834           & 9.684952e-01         \\\\\n",
       "\t factor(year)1983      &  0.010429718          & 0.14585792            &  0.07150601           & 9.429988e-01         \\\\\n",
       "\t factor(year)1984      &  0.084374320          & 0.14585182            &  0.57849343           & 5.629653e-01         \\\\\n",
       "\t factor(year)1985      &  0.049725289          & 0.14586018            &  0.34091064           & 7.331897e-01         \\\\\n",
       "\t factor(year)1986      &  0.065606423          & 0.14589174            &  0.44969252           & 6.529578e-01         \\\\\n",
       "\t factor(year)1987      &  0.090444839          & 0.14585053            &  0.62012006           & 5.352159e-01         \\\\\n",
       "\t factor(year)1981:educ &  0.011585424          & 0.01226246            &  0.94478819           & 3.448271e-01         \\\\\n",
       "\t factor(year)1982:educ &  0.014790475          & 0.01226353            &  1.20605380           & 2.278719e-01         \\\\\n",
       "\t factor(year)1983:educ &  0.017118202          & 0.01226330            &  1.39588840           & 1.628297e-01         \\\\\n",
       "\t factor(year)1984:educ &  0.016583929          & 0.01226569            &  1.35205880           & 1.764370e-01         \\\\\n",
       "\t factor(year)1985:educ &  0.023708543          & 0.01227382            &  1.93163477           & 5.347889e-02         \\\\\n",
       "\t factor(year)1986:educ &  0.027412292          & 0.01227398            &  2.23336560           & 2.558285e-02         \\\\\n",
       "\t factor(year)1987:educ &  0.030433178          & 0.01227234            &  2.47981874           & 1.318795e-02         \\\\\n",
       "\\end{tabular}\n"
      ],
      "text/markdown": [
       "\n",
       "term | estimate | std.error | statistic | p.value | \n",
       "|---|---|---|---|---|---|---|---|---|---|---|---|---|---|---|---|\n",
       "| married               |  0.054820477          | 0.01841257            |  2.97733965           | 2.925979e-03          | \n",
       "| union                 |  0.082978472          | 0.01944609            |  4.26710413           | 2.028558e-05          | \n",
       "| factor(year)1981      | -0.022415835          | 0.14588847            | -0.15365049           | 8.778935e-01          | \n",
       "| factor(year)1982      | -0.005761061          | 0.14585579            | -0.03949834           | 9.684952e-01          | \n",
       "| factor(year)1983      |  0.010429718          | 0.14585792            |  0.07150601           | 9.429988e-01          | \n",
       "| factor(year)1984      |  0.084374320          | 0.14585182            |  0.57849343           | 5.629653e-01          | \n",
       "| factor(year)1985      |  0.049725289          | 0.14586018            |  0.34091064           | 7.331897e-01          | \n",
       "| factor(year)1986      |  0.065606423          | 0.14589174            |  0.44969252           | 6.529578e-01          | \n",
       "| factor(year)1987      |  0.090444839          | 0.14585053            |  0.62012006           | 5.352159e-01          | \n",
       "| factor(year)1981:educ |  0.011585424          | 0.01226246            |  0.94478819           | 3.448271e-01          | \n",
       "| factor(year)1982:educ |  0.014790475          | 0.01226353            |  1.20605380           | 2.278719e-01          | \n",
       "| factor(year)1983:educ |  0.017118202          | 0.01226330            |  1.39588840           | 1.628297e-01          | \n",
       "| factor(year)1984:educ |  0.016583929          | 0.01226569            |  1.35205880           | 1.764370e-01          | \n",
       "| factor(year)1985:educ |  0.023708543          | 0.01227382            |  1.93163477           | 5.347889e-02          | \n",
       "| factor(year)1986:educ |  0.027412292          | 0.01227398            |  2.23336560           | 2.558285e-02          | \n",
       "| factor(year)1987:educ |  0.030433178          | 0.01227234            |  2.47981874           | 1.318795e-02          | \n",
       "\n",
       "\n"
      ],
      "text/plain": [
       "   term                  estimate     std.error  statistic   p.value     \n",
       "1  married                0.054820477 0.01841257  2.97733965 2.925979e-03\n",
       "2  union                  0.082978472 0.01944609  4.26710413 2.028558e-05\n",
       "3  factor(year)1981      -0.022415835 0.14588847 -0.15365049 8.778935e-01\n",
       "4  factor(year)1982      -0.005761061 0.14585579 -0.03949834 9.684952e-01\n",
       "5  factor(year)1983       0.010429718 0.14585792  0.07150601 9.429988e-01\n",
       "6  factor(year)1984       0.084374320 0.14585182  0.57849343 5.629653e-01\n",
       "7  factor(year)1985       0.049725289 0.14586018  0.34091064 7.331897e-01\n",
       "8  factor(year)1986       0.065606423 0.14589174  0.44969252 6.529578e-01\n",
       "9  factor(year)1987       0.090444839 0.14585053  0.62012006 5.352159e-01\n",
       "10 factor(year)1981:educ  0.011585424 0.01226246  0.94478819 3.448271e-01\n",
       "11 factor(year)1982:educ  0.014790475 0.01226353  1.20605380 2.278719e-01\n",
       "12 factor(year)1983:educ  0.017118202 0.01226330  1.39588840 1.628297e-01\n",
       "13 factor(year)1984:educ  0.016583929 0.01226569  1.35205880 1.764370e-01\n",
       "14 factor(year)1985:educ  0.023708543 0.01227382  1.93163477 5.347889e-02\n",
       "15 factor(year)1986:educ  0.027412292 0.01227398  2.23336560 2.558285e-02\n",
       "16 factor(year)1987:educ  0.030433178 0.01227234  2.47981874 1.318795e-02"
      ]
     },
     "metadata": {},
     "output_type": "display_data"
    }
   ],
   "source": [
    "# Estimate FE model\n",
    "tidy( plm(lwage~married+union+factor(year)*educ, \n",
    "                                        data=wagepan.p, model=\"within\") )"
   ]
  },
  {
   "cell_type": "code",
   "execution_count": null,
   "metadata": {},
   "outputs": [],
   "source": []
  },
  {
   "cell_type": "code",
   "execution_count": null,
   "metadata": {},
   "outputs": [],
   "source": []
  },
  {
   "cell_type": "code",
   "execution_count": null,
   "metadata": {},
   "outputs": [],
   "source": []
  },
  {
   "cell_type": "markdown",
   "metadata": {},
   "source": [
    "#     Example-14-4-1.R\n"
   ]
  },
  {
   "cell_type": "code",
   "execution_count": 8,
   "metadata": {},
   "outputs": [
    {
     "data": {
      "text/plain": [
       "Balanced Panel: n = 545, T = 8, N = 4360"
      ]
     },
     "metadata": {},
     "output_type": "display_data"
    },
    {
     "data": {
      "text/plain": [
       "no time variation:       nr black hisp educ \n",
       "no individual variation: year d81 d82 d83 d84 d85 d86 d87 "
      ]
     },
     "metadata": {},
     "output_type": "display_data"
    }
   ],
   "source": [
    "library(plm);library(stargazer)\n",
    "data(wagepan, package='wooldridge')\n",
    "\n",
    "# Generate pdata.frame:\n",
    "wagepan.p <- pdata.frame(wagepan, index=c(\"nr\",\"year\") )\n",
    "\n",
    "pdim(wagepan.p)\n",
    "\n",
    "# Check variation of variables within individuals\n",
    "pvar(wagepan.p)"
   ]
  },
  {
   "cell_type": "markdown",
   "metadata": {},
   "source": [
    "#     Example-14-4-2.R"
   ]
  },
  {
   "cell_type": "code",
   "execution_count": 9,
   "metadata": {},
   "outputs": [
    {
     "name": "stdout",
     "output_type": "stream",
     "text": [
      "\n",
      "==========================================\n",
      "                  Dependent variable:     \n",
      "             -----------------------------\n",
      "                         lwage            \n",
      "                OLS       RE        FE    \n",
      "                (1)       (2)       (3)   \n",
      "------------------------------------------\n",
      "educ         0.091***  0.092***           \n",
      "              (0.005)   (0.011)           \n",
      "                                          \n",
      "black        -0.139*** -0.139***          \n",
      "              (0.024)   (0.048)           \n",
      "                                          \n",
      "hisp           0.016     0.022            \n",
      "              (0.021)   (0.043)           \n",
      "                                          \n",
      "exper        0.067***  0.106***           \n",
      "              (0.014)   (0.015)           \n",
      "                                          \n",
      "I(exper2)    -0.002*** -0.005*** -0.005***\n",
      "              (0.001)   (0.001)   (0.001) \n",
      "                                          \n",
      "married      0.108***  0.064***   0.047** \n",
      "              (0.016)   (0.017)   (0.018) \n",
      "                                          \n",
      "union        0.182***  0.106***  0.080*** \n",
      "              (0.017)   (0.018)   (0.019) \n",
      "                                          \n",
      "------------------------------------------\n",
      "Observations   4,360     4,360     4,360  \n",
      "R2             0.189     0.181     0.181  \n",
      "==========================================\n",
      "Note:          *p<0.1; **p<0.05; ***p<0.01\n"
     ]
    }
   ],
   "source": [
    "# Estimate different models\n",
    "wagepan.p$yr<-factor(wagepan.p$year)\n",
    "\n",
    "reg.ols<- (plm(lwage~educ+black+hisp+exper+I(exper^2)+married+union+yr, \n",
    "                                      data=wagepan.p, model=\"pooling\") )\n",
    "reg.re <- (plm(lwage~educ+black+hisp+exper+I(exper^2)+married+union+yr, \n",
    "                                      data=wagepan.p, model=\"random\") )\n",
    "reg.fe <- (plm(lwage~                      I(exper^2)+married+union+yr, \n",
    "                                      data=wagepan.p, model=\"within\") )\n",
    "\n",
    "# Pretty table of selected results (not reporting year dummies)\n",
    "stargazer(reg.ols,reg.re,reg.fe, type=\"text\", \n",
    "          column.labels=c(\"OLS\",\"RE\",\"FE\"),keep.stat=c(\"n\",\"rsq\"),\n",
    "          keep=c(\"ed\",\"bl\",\"hi\",\"exp\",\"mar\",\"un\"))"
   ]
  },
  {
   "cell_type": "markdown",
   "metadata": {},
   "source": [
    "#     Example-Dummy-CRE-1.R\n"
   ]
  },
  {
   "cell_type": "code",
   "execution_count": 12,
   "metadata": {},
   "outputs": [],
   "source": [
    "library(plm);library(stargazer)\n",
    "data(wagepan, package='wooldridge')\n",
    "\n",
    "# Generate pdata.frame:\n",
    "wagepan.p <- pdata.frame(wagepan, index=c(\"nr\",\"year\") )\n",
    "\n",
    "# Estimate FE parameter in 3 different ways:\n",
    "wagepan.p$yr<-factor(wagepan.p$year)\n",
    "reg.fe <-(plm(lwage~married+union+yr*educ,data=wagepan.p, model=\"within\"))\n",
    "reg.dum<-( lm(lwage~married+union+yr*educ+factor(nr), data=wagepan.p))\n",
    "reg.re <-(plm(lwage~married+union+yr*educ,data=wagepan.p, model=\"random\"))\n",
    "reg.cre<-(plm(lwage~married+union+yr*educ+Between(married)+Between(union)\n",
    "                                         ,data=wagepan.p, model=\"random\"))"
   ]
  },
  {
   "cell_type": "code",
   "execution_count": 15,
   "metadata": {},
   "outputs": [
    {
     "name": "stdout",
     "output_type": "stream",
     "text": [
      "\n",
      "=====================================================\n",
      "                         Dependent variable:         \n",
      "                 ------------------------------------\n",
      "                                lwage                \n",
      "                    OLS       RE       FE      CRE   \n",
      "                    (1)      (2)      (3)      (4)   \n",
      "-----------------------------------------------------\n",
      "educ             0.091***  0.059***          0.059***\n",
      "                  (0.005)  (0.012)           (0.012) \n",
      "                                                     \n",
      "black            -0.139***                           \n",
      "                  (0.024)                            \n",
      "                                                     \n",
      "hisp               0.016                             \n",
      "                  (0.021)                            \n",
      "                                                     \n",
      "exper            0.067***                            \n",
      "                  (0.014)                            \n",
      "                                                     \n",
      "I(exper2)        -0.002***                           \n",
      "                  (0.001)                            \n",
      "                                                     \n",
      "Between(married)                             0.127***\n",
      "                                             (0.044) \n",
      "                                                     \n",
      "Between(union)                               0.160***\n",
      "                                             (0.050) \n",
      "                                                     \n",
      "yr1981:educ                 0.011    0.012    0.012  \n",
      "                           (0.012)  (0.012)  (0.012) \n",
      "                                                     \n",
      "yr1982:educ                 0.014    0.015    0.015  \n",
      "                           (0.012)  (0.012)  (0.012) \n",
      "                                                     \n",
      "yr1983:educ                 0.017    0.017    0.017  \n",
      "                           (0.012)  (0.012)  (0.012) \n",
      "                                                     \n",
      "yr1984:educ                 0.016    0.017    0.017  \n",
      "                           (0.012)  (0.012)  (0.012) \n",
      "                                                     \n",
      "yr1985:educ                 0.023*   0.024*   0.024* \n",
      "                           (0.012)  (0.012)  (0.012) \n",
      "                                                     \n",
      "yr1986:educ                0.026**  0.027**  0.027** \n",
      "                           (0.012)  (0.012)  (0.012) \n",
      "                                                     \n",
      "yr1987:educ                0.030**  0.030**  0.030** \n",
      "                           (0.012)  (0.012)  (0.012) \n",
      "                                                     \n",
      "married          0.108***  0.078*** 0.055*** 0.055***\n",
      "                  (0.016)  (0.017)  (0.018)  (0.018) \n",
      "                                                     \n",
      "union            0.182***  0.108*** 0.083*** 0.083***\n",
      "                  (0.017)  (0.018)  (0.019)  (0.019) \n",
      "                                                     \n",
      "-----------------------------------------------------\n",
      "Observations       4,360    4,360    4,360    4,360  \n",
      "R2                 0.189    0.170    0.171    0.174  \n",
      "=====================================================\n",
      "Note:                     *p<0.1; **p<0.05; ***p<0.01\n"
     ]
    }
   ],
   "source": [
    "stargazer(reg.ols,reg.re,reg.fe,reg.cre, type=\"text\", \n",
    "          column.labels=c(\"OLS\",\"RE\",\"FE\", \"CRE\"),keep.stat=c(\"n\",\"rsq\"),\n",
    "          keep=c(\"ed\",\"bl\",\"hi\",\"exp\",\"mar\",\"un\"))"
   ]
  },
  {
   "cell_type": "markdown",
   "metadata": {},
   "source": [
    "#     Example-CRE-test-RE.R\n"
   ]
  },
  {
   "cell_type": "code",
   "execution_count": 13,
   "metadata": {},
   "outputs": [
    {
     "data": {
      "text/html": [
       "<table>\n",
       "<thead><tr><th scope=col>Res.Df</th><th scope=col>Df</th><th scope=col>Chisq</th><th scope=col>Pr(&gt;Chisq)</th></tr></thead>\n",
       "<tbody>\n",
       "\t<tr><td>4342        </td><td>NA          </td><td>      NA    </td><td>          NA</td></tr>\n",
       "\t<tr><td>4340        </td><td> 2          </td><td>19.81395    </td><td>4.982598e-05</td></tr>\n",
       "</tbody>\n",
       "</table>\n"
      ],
      "text/latex": [
       "\\begin{tabular}{r|llll}\n",
       " Res.Df & Df & Chisq & Pr(>Chisq)\\\\\n",
       "\\hline\n",
       "\t 4342         & NA           &       NA     &           NA\\\\\n",
       "\t 4340         &  2           & 19.81395     & 4.982598e-05\\\\\n",
       "\\end{tabular}\n"
      ],
      "text/markdown": [
       "\n",
       "Res.Df | Df | Chisq | Pr(>Chisq) | \n",
       "|---|---|\n",
       "| 4342         | NA           |       NA     |           NA | \n",
       "| 4340         |  2           | 19.81395     | 4.982598e-05 | \n",
       "\n",
       "\n"
      ],
      "text/plain": [
       "  Res.Df Df Chisq    Pr(>Chisq)  \n",
       "1 4342   NA       NA           NA\n",
       "2 4340    2 19.81395 4.982598e-05"
      ]
     },
     "metadata": {},
     "output_type": "display_data"
    }
   ],
   "source": [
    "# Note that the estimates \"reg.cre\" are calculated in\n",
    "# Script \"Example-Dummy-CRE-1.R\" which has to be run first.\n",
    "\n",
    "# RE test as an F test on the \"Between\" coefficients \n",
    "library(car)\n",
    "linearHypothesis(reg.cre, matchCoefs(reg.cre,\"Between\"))"
   ]
  },
  {
   "cell_type": "markdown",
   "metadata": {},
   "source": [
    "#    Example-CRE2.R\n",
    "\n"
   ]
  },
  {
   "cell_type": "code",
   "execution_count": 11,
   "metadata": {},
   "outputs": [
    {
     "data": {
      "text/plain": [
       "Oneway (individual) effect Random Effect Model \n",
       "   (Swamy-Arora's transformation)\n",
       "\n",
       "Call:\n",
       "plm(formula = lwage ~ married + union + educ + black + hisp + \n",
       "    Between(married) + Between(union), data = wagepan.p, model = \"random\")\n",
       "\n",
       "Balanced Panel: n = 545, T = 8, N = 4360\n",
       "\n",
       "Effects:\n",
       "                 var std.dev share\n",
       "idiosyncratic 0.1426  0.3776 0.577\n",
       "individual    0.1044  0.3231 0.423\n",
       "theta: 0.6182\n",
       "\n",
       "Residuals:\n",
       "     Min.   1st Qu.    Median   3rd Qu.      Max. \n",
       "-4.530129 -0.161868  0.026625  0.202817  1.648168 \n",
       "\n",
       "Coefficients:\n",
       "                   Estimate Std. Error z-value  Pr(>|z|)    \n",
       "(Intercept)       0.6325629  0.1081545  5.8487 4.954e-09 ***\n",
       "married           0.2416845  0.0176735 13.6750 < 2.2e-16 ***\n",
       "union             0.0700438  0.0207240  3.3798 0.0007253 ***\n",
       "educ              0.0760374  0.0087787  8.6616 < 2.2e-16 ***\n",
       "black            -0.1295162  0.0488981 -2.6487 0.0080802 ** \n",
       "hisp              0.0116700  0.0428188  0.2725 0.7852042    \n",
       "Between(married) -0.0797386  0.0442674 -1.8013 0.0716566 .  \n",
       "Between(union)    0.1918545  0.0506522  3.7877 0.0001521 ***\n",
       "---\n",
       "Signif. codes:  0 ‘***’ 0.001 ‘**’ 0.01 ‘*’ 0.05 ‘.’ 0.1 ‘ ’ 1\n",
       "\n",
       "Total Sum of Squares:    668.91\n",
       "Residual Sum of Squares: 620.38\n",
       "R-Squared:      0.072556\n",
       "Adj. R-Squared: 0.071064\n",
       "Chisq: 340.466 on 7 DF, p-value: < 2.22e-16"
      ]
     },
     "metadata": {},
     "output_type": "display_data"
    }
   ],
   "source": [
    "library(plm)\n",
    "data(wagepan, package='wooldridge')\n",
    "\n",
    "# Generate pdata.frame:\n",
    "wagepan.p <- pdata.frame(wagepan, index=c(\"nr\",\"year\") )\n",
    "\n",
    "# Estimate CRE parameters\n",
    "wagepan.p$yr<-factor(wagepan.p$year)\n",
    "summary(plm(lwage~married+union+educ+black+hisp+Between(married)+\n",
    "                         Between(union), data=wagepan.p, model=\"random\"))"
   ]
  },
  {
   "cell_type": "code",
   "execution_count": null,
   "metadata": {},
   "outputs": [],
   "source": []
  },
  {
   "cell_type": "code",
   "execution_count": null,
   "metadata": {},
   "outputs": [],
   "source": []
  },
  {
   "cell_type": "code",
   "execution_count": null,
   "metadata": {},
   "outputs": [],
   "source": []
  },
  {
   "cell_type": "markdown",
   "metadata": {},
   "source": [
    "#     Example-Dummy-CRE-2.R"
   ]
  },
  {
   "cell_type": "code",
   "execution_count": 17,
   "metadata": {},
   "outputs": [
    {
     "name": "stdout",
     "output_type": "stream",
     "text": [
      "\n",
      "====================================================\n",
      "                         Dependent variable:        \n",
      "                 -----------------------------------\n",
      "                                lwage               \n",
      "                  Within  Dummies    CRE       RE   \n",
      "                   (1)      (2)      (3)      (4)   \n",
      "----------------------------------------------------\n",
      "married          0.055*** 0.055*** 0.055*** 0.078***\n",
      "                 (0.018)  (0.018)  (0.018)  (0.017) \n",
      "                                                    \n",
      "union            0.083*** 0.083*** 0.083*** 0.108***\n",
      "                 (0.019)  (0.019)  (0.019)  (0.018) \n",
      "                                                    \n",
      "Between(married)                   0.127***         \n",
      "                                   (0.044)          \n",
      "                                                    \n",
      "Between(union)                     0.160***         \n",
      "                                   (0.050)          \n",
      "                                                    \n",
      "yr1981:educ       0.012    0.012    0.012    0.011  \n",
      "                 (0.012)  (0.012)  (0.012)  (0.012) \n",
      "                                                    \n",
      "yr1982:educ       0.015    0.015    0.015    0.014  \n",
      "                 (0.012)  (0.012)  (0.012)  (0.012) \n",
      "                                                    \n",
      "yr1983:educ       0.017    0.017    0.017    0.017  \n",
      "                 (0.012)  (0.012)  (0.012)  (0.012) \n",
      "                                                    \n",
      "yr1984:educ       0.017    0.017    0.017    0.016  \n",
      "                 (0.012)  (0.012)  (0.012)  (0.012) \n",
      "                                                    \n",
      "yr1985:educ       0.024*   0.024*   0.024*   0.023* \n",
      "                 (0.012)  (0.012)  (0.012)  (0.012) \n",
      "                                                    \n",
      "yr1986:educ      0.027**  0.027**  0.027**  0.026** \n",
      "                 (0.012)  (0.012)  (0.012)  (0.012) \n",
      "                                                    \n",
      "yr1987:educ      0.030**  0.030**  0.030**  0.030** \n",
      "                 (0.012)  (0.012)  (0.012)  (0.012) \n",
      "                                                    \n",
      "----------------------------------------------------\n",
      "Observations      4,360    4,360    4,360    4,360  \n",
      "R2                0.171    0.616    0.174    0.170  \n",
      "====================================================\n",
      "Note:                    *p<0.1; **p<0.05; ***p<0.01\n"
     ]
    }
   ],
   "source": [
    "stargazer(reg.fe,reg.dum,reg.cre,reg.re,type=\"text\",model.names=FALSE,\n",
    "          keep=c(\"married\",\"union\",\":educ\"),keep.stat=c(\"n\",\"rsq\"),\n",
    "          column.labels=c(\"Within\",\"Dummies\",\"CRE\",\"RE\"))"
   ]
  },
  {
   "cell_type": "code",
   "execution_count": null,
   "metadata": {},
   "outputs": [],
   "source": []
  },
  {
   "cell_type": "markdown",
   "metadata": {},
   "source": [
    " #   Example-HausmTest.R"
   ]
  },
  {
   "cell_type": "code",
   "execution_count": 16,
   "metadata": {},
   "outputs": [
    {
     "data": {
      "text/plain": [
       "\n",
       "\tHausman Test\n",
       "\n",
       "data:  lwage ~ married + union + yr * educ\n",
       "chisq = 20.231, df = 16, p-value = 0.21\n",
       "alternative hypothesis: one model is inconsistent\n"
      ]
     },
     "metadata": {},
     "output_type": "display_data"
    }
   ],
   "source": [
    "# Note that the estimates \"reg.fe\" and \"reg.re\" are calculated in\n",
    "# Example 14.4. The scripts have to be run first.\n",
    "\n",
    "# Hausman test of RE vs. FE:\n",
    "phtest(reg.fe, reg.re)"
   ]
  },
  {
   "cell_type": "code",
   "execution_count": null,
   "metadata": {},
   "outputs": [],
   "source": []
  },
  {
   "cell_type": "code",
   "execution_count": null,
   "metadata": {},
   "outputs": [],
   "source": [
    "\n",
    "Stata Textbook Examples\n",
    "Introductory Econometrics: A Modern Approach by Jeffrey M. Wooldridge (1st & 2nd eds.)\n",
    "Chapter 14 - Advanced Panel Data Methods\n",
    "\n",
    "    Example 14.1: Effect of Job Training on Firm Scrap Rates\n",
    "\n",
    "use http://fmwww.bc.edu/ec-p/data/wooldridge/jtrain\n",
    "\n",
    "iis fcode\n",
    "\n",
    "tis year\n",
    "\n",
    "xtreg lscrap d88 d89 grant grant_1, fe\n",
    "\n",
    "Fixed-effects (within) regression               Number of obs      =       162\n",
    "Group variable (i) : fcode                      Number of groups   =        54\n",
    "\n",
    "R-sq:  within  = 0.2010                         Obs per group: min =         3\n",
    "       between = 0.0079                                        avg =       3.0\n",
    "       overall = 0.0068                                        max =         3\n",
    "\n",
    "                                                F(4,104)           =      6.54\n",
    "corr(u_i, Xb)  = -0.0714                        Prob > F           =    0.0001\n",
    "\n",
    "------------------------------------------------------------------------------\n",
    "      lscrap |      Coef.   Std. Err.      t    P>|t|     [95% Conf. Interval]\n",
    "-------------+----------------------------------------------------------------\n",
    "         d88 |  -.0802157   .1094751    -0.73   0.465    -.2973089    .1368776\n",
    "         d89 |  -.2472028   .1332183    -1.86   0.066    -.5113797     .016974\n",
    "       grant |  -.2523149    .150629    -1.68   0.097    -.5510178     .046388\n",
    "     grant_1 |  -.4215895      .2102    -2.01   0.047    -.8384239   -.0047551\n",
    "       _cons |    .597434   .0677344     8.82   0.000     .4631142    .7317539\n",
    "-------------+----------------------------------------------------------------\n",
    "     sigma_u |   1.438982\n",
    "     sigma_e |   .4977442\n",
    "         rho |  .89313867   (fraction of variance due to u_i)\n",
    "------------------------------------------------------------------------------\n",
    "F test that all u_i=0:     F(53, 104) =    24.66             Prob > F = 0.0000\n",
    "\n",
    "    Change in firm's scrap rate in 1989 if the training grant was received in 1988\n",
    "\n",
    "display exp(_b[grant_1])-1\n",
    "\n",
    "-.34399671\n",
    "\n",
    "xtreg lscrap d88 d89 grant, fe\n",
    "\n",
    "Fixed-effects (within) regression               Number of obs      =       162\n",
    "Group variable (i) : fcode                      Number of groups   =        54\n",
    "\n",
    "R-sq:  within  = 0.1701                         Obs per group: min =         3\n",
    "       between = 0.0189                                        avg =       3.0\n",
    "       overall = 0.0130                                        max =         3\n",
    "\n",
    "                                                F(3,105)           =      7.18\n",
    "corr(u_i, Xb)  = -0.0109                        Prob > F           =    0.0002\n",
    "\n",
    "------------------------------------------------------------------------------\n",
    "      lscrap |      Coef.   Std. Err.      t    P>|t|     [95% Conf. Interval]\n",
    "-------------+----------------------------------------------------------------\n",
    "         d88 |  -.1400659    .106835    -1.31   0.193    -.3518999    .0717681\n",
    "         d89 |    -.42704   .0999338    -4.27   0.000    -.6251903   -.2288897\n",
    "       grant |  -.0822141   .1262632    -0.65   0.516    -.3325706    .1681424\n",
    "       _cons |    .597434   .0687024     8.70   0.000     .4612098    .7336583\n",
    "-------------+----------------------------------------------------------------\n",
    "     sigma_u |  1.4283441\n",
    "     sigma_e |  .50485773\n",
    "         rho |  .88894293   (fraction of variance due to u_i)\n",
    "------------------------------------------------------------------------------\n",
    "F test that all u_i=0:     F(53, 105) =    23.90             Prob > F = 0.0000\n",
    "\n",
    "    Example 14.2: Has the Return to Education Changed Over Time\n",
    "\n",
    "use http://fmwww.bc.edu/ec-p/data/wooldridge/wagepan\n",
    "\n",
    "iis nr\n",
    "\n",
    "tis year\n",
    "\n",
    "gen edd81 = educ*d81\n",
    "\n",
    "gen edd82 = educ*d82\n",
    "\n",
    "gen edd83 = educ*d83\n",
    "\n",
    "gen edd84 = educ*d84\n",
    "\n",
    "gen edd85 = educ*d85\n",
    "\n",
    "gen edd86 = educ*d86\n",
    "\n",
    "gen edd87 = educ*d87\n",
    "\n",
    "xtreg lwage expersq union married d81-d87 edd81-edd87, fe\n",
    "\n",
    "Fixed-effects (within) regression               Number of obs      =      4360\n",
    "Group variable (i) : nr                         Number of groups   =       545\n",
    "\n",
    "R-sq:  within  = 0.1814                         Obs per group: min =         8\n",
    "       between = 0.0211                                        avg =       8.0\n",
    "       overall = 0.0784                                        max =         8\n",
    "\n",
    "                                                F(17,3798)         =     49.49\n",
    "corr(u_i, Xb)  = -0.1732                        Prob > F           =    0.0000\n",
    "\n",
    "------------------------------------------------------------------------------\n",
    "       lwage |      Coef.   Std. Err.      t    P>|t|     [95% Conf. Interval]\n",
    "-------------+----------------------------------------------------------------\n",
    "     expersq |  -.0060437   .0008633    -7.00   0.000    -.0077362   -.0043512\n",
    "       union |   .0789759   .0193328     4.09   0.000     .0410722    .1168796\n",
    "     married |   .0474337   .0183277     2.59   0.010     .0115006    .0833668\n",
    "         d81 |     .09842    .145999     0.67   0.500     -.187824     .384664\n",
    "         d82 |   .2472014   .1493785     1.65   0.098    -.0456685    .5400712\n",
    "         d83 |   .4088129   .1557146     2.63   0.009     .1035206    .7141052\n",
    "         d84 |   .6399246   .1652396     3.87   0.000     .3159577    .9638916\n",
    "         d85 |   .7729394   .1779911     4.34   0.000      .423972    1.121907\n",
    "         d86 |   .9699322   .1941747     5.00   0.000     .5892354    1.350629\n",
    "         d87 |   1.188776   .2135856     5.57   0.000     .7700229     1.60753\n",
    "       edd81 |   .0049906    .012222     0.41   0.683    -.0189718     .028953\n",
    "       edd82 |    .001651   .0123304     0.13   0.893    -.0225239    .0258259\n",
    "       edd83 |  -.0026621   .0125098    -0.21   0.831    -.0271886    .0218644\n",
    "       edd84 |  -.0098257   .0127593    -0.77   0.441    -.0348414      .01519\n",
    "       edd85 |  -.0092145   .0130721    -0.70   0.481    -.0348436    .0164146\n",
    "       edd86 |  -.0121382   .0134419    -0.90   0.367    -.0384922    .0142159\n",
    "       edd87 |  -.0157891    .013868    -1.14   0.255    -.0429785    .0114002\n",
    "       _cons |   1.436283   .0192766    74.51   0.000     1.398489    1.474076\n",
    "-------------+----------------------------------------------------------------\n",
    "     sigma_u |  .39876324\n",
    "     sigma_e |  .35114511\n",
    "         rho |   .5632436   (fraction of variance due to u_i)\n",
    "------------------------------------------------------------------------------\n",
    "F test that all u_i=0:     F(544, 3798) =     8.25           Prob > F = 0.0000\n",
    "\n",
    "test edd81 edd82 edd83 edd84 edd85 edd86 edd87\n",
    "\n",
    " ( 1)  edd81 = 0.0\n",
    " ( 2)  edd82 = 0.0\n",
    " ( 3)  edd83 = 0.0\n",
    " ( 4)  edd84 = 0.0\n",
    " ( 5)  edd85 = 0.0\n",
    " ( 6)  edd86 = 0.0\n",
    " ( 7)  edd87 = 0.0\n",
    "\n",
    "       F(  7,  3798) =    0.52\n",
    "            Prob > F =    0.8202\n",
    "\n",
    "    Example 14.3: Effect of Job Training on Firm Scrap Rates\n",
    "\n",
    "use http://fmwww.bc.edu/ec-p/data/wooldridge/jtrain\n",
    "\n",
    "iis fcode\n",
    "\n",
    "tis year\n",
    "\n",
    "xtreg lscrap d88 d89 grant grant_1 lsales lemploy, fe\n",
    "\n",
    "Fixed-effects (within) regression               Number of obs      =       148\n",
    "Group variable (i) : fcode                      Number of groups   =        51\n",
    "\n",
    "R-sq:  within  = 0.2131                         Obs per group: min =         1\n",
    "       between = 0.0341                                        avg =       2.9\n",
    "       overall = 0.0004                                        max =         3\n",
    "\n",
    "                                                F(6,91)            =      4.11\n",
    "corr(u_i, Xb)  = -0.2258                        Prob > F           =    0.0011\n",
    "\n",
    "------------------------------------------------------------------------------\n",
    "      lscrap |      Coef.   Std. Err.      t    P>|t|     [95% Conf. Interval]\n",
    "-------------+----------------------------------------------------------------\n",
    "         d88 |  -.0039605   .1195487    -0.03   0.974    -.2414293    .2335083\n",
    "         d89 |  -.1321925   .1536863    -0.86   0.392    -.4374715    .1730865\n",
    "       grant |  -.2967544    .157086    -1.89   0.062    -.6087866    .0152777\n",
    "     grant_1 |  -.5355783    .224206    -2.39   0.019    -.9809359   -.0902207\n",
    "      lsales |  -.0868607   .2596993    -0.33   0.739    -.6027214    .4290001\n",
    "     lemploy |  -.0763642   .3502912    -0.22   0.828    -.7721747    .6194462\n",
    "       _cons |   2.115513   3.108438     0.68   0.498    -4.059017    8.290043\n",
    "-------------+----------------------------------------------------------------\n",
    "     sigma_u |  1.4415147\n",
    "     sigma_e |  .49149052\n",
    "         rho |  .89585684   (fraction of variance due to u_i)\n",
    "------------------------------------------------------------------------------\n",
    "F test that all u_i=0:     F(50, 91) =    20.75              Prob > F = 0.0000\n",
    "\n",
    "    Example 14.4: Has the Return to Education Changed Over Time\n",
    "\n",
    "use http://fmwww.bc.edu/ec-p/data/wooldridge/wagepan\n",
    "\n",
    "iis nr\n",
    "\n",
    "tis year\n",
    "\n",
    "reg lwage educ black hisp exper expersq married union d81-d87\n",
    "\n",
    "     Source |       SS       df       MS              Number of obs =    4360\n",
    "-------------+------------------------------           F( 14,  4345) =   72.46\n",
    "       Model |  234.048277    14  16.7177341           Prob > F      =  0.0000\n",
    "    Residual |  1002.48136  4345  .230720682           R-squared     =  0.1893\n",
    "-------------+------------------------------           Adj R-squared =  0.1867\n",
    "       Total |  1236.52964  4359  .283672779           Root MSE      =  .48033\n",
    "\n",
    "------------------------------------------------------------------------------\n",
    "       lwage |      Coef.   Std. Err.      t    P>|t|     [95% Conf. Interval]\n",
    "-------------+----------------------------------------------------------------\n",
    "        educ |   .0913498   .0052374    17.44   0.000     .0810819    .1016177\n",
    "       black |  -.1392342   .0235796    -5.90   0.000    -.1854622   -.0930062\n",
    "        hisp |   .0160195   .0207971     0.77   0.441    -.0247535    .0567925\n",
    "       exper |   .0672345   .0136948     4.91   0.000     .0403856    .0940834\n",
    "     expersq |  -.0024117     .00082    -2.94   0.003    -.0040192   -.0008042\n",
    "     married |   .1082529   .0156894     6.90   0.000     .0774937    .1390122\n",
    "       union |   .1824613   .0171568    10.63   0.000     .1488253    .2160973\n",
    "         d81 |     .05832   .0303536     1.92   0.055    -.0011886    .1178286\n",
    "         d82 |   .0627744   .0332141     1.89   0.059    -.0023421    .1278909\n",
    "         d83 |   .0620117   .0366601     1.69   0.091    -.0098608    .1338843\n",
    "         d84 |   .0904672   .0400907     2.26   0.024      .011869    .1690654\n",
    "         d85 |   .1092463   .0433525     2.52   0.012     .0242533    .1942393\n",
    "         d86 |   .1419596    .046423     3.06   0.002     .0509469    .2329723\n",
    "         d87 |   .1738334    .049433     3.52   0.000     .0769194    .2707474\n",
    "       _cons |   .0920558   .0782701     1.18   0.240    -.0613935    .2455051\n",
    "------------------------------------------------------------------------------\n",
    "\n",
    "xtreg lwage educ black hisp exper expersq married union, re\n",
    "\n",
    "Random-effects GLS regression                   Number of obs      =      4360\n",
    "Group variable (i) : nr                         Number of groups   =       545\n",
    "\n",
    "R-sq:  within  = 0.1799                         Obs per group: min =         8\n",
    "       between = 0.1860                                        avg =       8.0\n",
    "       overall = 0.1830                                        max =         8\n",
    "\n",
    "Random effects u_i ~ Gaussian                   Wald chi2(14)      =    957.77\n",
    "corr(u_i, X)       = 0 (assumed)                Prob > chi2        =    0.0000\n",
    "\n",
    "------------------------------------------------------------------------------\n",
    "       lwage |      Coef.   Std. Err.      z    P>|z|     [95% Conf. Interval]\n",
    "-------------+----------------------------------------------------------------\n",
    "        educ |   .0918763   .0106597     8.62   0.000     .0709836    .1127689\n",
    "       black |  -.1393767   .0477228    -2.92   0.003    -.2329117   -.0458417\n",
    "        hisp |   .0217317   .0426063     0.51   0.610    -.0617751    .1052385\n",
    "       exper |   .1057545   .0153668     6.88   0.000     .0756361    .1358729\n",
    "     expersq |  -.0047239   .0006895    -6.85   0.000    -.0060753   -.0033726\n",
    "     married |    .063986   .0167742     3.81   0.000     .0311091    .0968629\n",
    "       union |   .1061344   .0178539     5.94   0.000     .0711415    .1411273\n",
    "         d81 |    .040462   .0246946     1.64   0.101    -.0079385    .0888626\n",
    "         d82 |   .0309212   .0323416     0.96   0.339    -.0324672    .0943096\n",
    "         d83 |   .0202806    .041582     0.49   0.626    -.0612186    .1017798\n",
    "         d84 |   .0431187   .0513163     0.84   0.401    -.0574595    .1436969\n",
    "         d85 |   .0578155   .0612323     0.94   0.345    -.0621977    .1778286\n",
    "         d86 |   .0919476   .0712293     1.29   0.197    -.0476592    .2315544\n",
    "         d87 |   .1349289   .0813135     1.66   0.097    -.0244427    .2943005\n",
    "       _cons |   .0235864   .1506683     0.16   0.876     -.271718    .3188907\n",
    "-------------+----------------------------------------------------------------\n",
    "     sigma_u |  .32460315\n",
    "     sigma_e |  .35099001\n",
    "         rho |  .46100216   (fraction of variance due to u_i)\n",
    "------------------------------------------------------------------------------\n",
    "\n",
    "xtreg lwage expersq married union d81-d87, fe \n",
    "\n",
    "Fixed-effects (within) regression               Number of obs      =      4360\n",
    "Group variable (i) : nr                         Number of groups   =       545\n",
    "\n",
    "R-sq:  within  = 0.1806                         Obs per group: min =         8\n",
    "       between = 0.0286                                        avg =       8.0\n",
    "       overall = 0.0888                                        max =         8\n",
    "\n",
    "                                                F(10,3805)         =     83.85\n",
    "corr(u_i, Xb)  = -0.1222                        Prob > F           =    0.0000\n",
    "\n",
    "------------------------------------------------------------------------------\n",
    "       lwage |      Coef.   Std. Err.      t    P>|t|     [95% Conf. Interval]\n",
    "-------------+----------------------------------------------------------------\n",
    "     expersq |  -.0051855   .0007044    -7.36   0.000    -.0065666   -.0038044\n",
    "     married |   .0466804   .0183104     2.55   0.011     .0107811    .0825796\n",
    "       union |   .0800019   .0193103     4.14   0.000     .0421423    .1178614\n",
    "         d81 |   .1511912   .0219489     6.89   0.000     .1081584     .194224\n",
    "         d82 |   .2529709   .0244185    10.36   0.000     .2050963    .3008454\n",
    "         d83 |   .3544437   .0292419    12.12   0.000     .2971125    .4117749\n",
    "         d84 |   .4901148   .0362266    13.53   0.000     .4190894    .5611402\n",
    "         d85 |   .6174823   .0452435    13.65   0.000     .5287784    .7061861\n",
    "         d86 |   .7654966   .0561277    13.64   0.000     .6554532    .8755399\n",
    "         d87 |   .9250249   .0687731    13.45   0.000     .7901893    1.059861\n",
    "       _cons |   1.426019   .0183415    77.75   0.000     1.390058    1.461979\n",
    "-------------+----------------------------------------------------------------\n",
    "     sigma_u |  .39176195\n",
    "     sigma_e |  .35099001\n",
    "         rho |  .55472817   (fraction of variance due to u_i)\n",
    "------------------------------------------------------------------------------\n",
    "F test that all u_i=0:     F(544, 3805) =     9.16           Prob > F = 0.0000\n",
    "\n",
    "This page prepared by Oleksandr Talavera (revised 8 Nov 2002)\n",
    "\n",
    "Send your questions/comments/suggestions to Kit Baum at baum@bc.edu\n",
    "These pages are maintained by the Faculty Micro Resource Center's GSA Program,\n",
    "a unit of Boston College Academic Technology Services\n"
   ]
  }
 ],
 "metadata": {
  "kernelspec": {
   "display_name": "R",
   "language": "R",
   "name": "ir"
  },
  "language_info": {
   "codemirror_mode": "r",
   "file_extension": ".r",
   "mimetype": "text/x-r-source",
   "name": "R",
   "pygments_lexer": "r",
   "version": "3.5.1"
  }
 },
 "nbformat": 4,
 "nbformat_minor": 2
}
