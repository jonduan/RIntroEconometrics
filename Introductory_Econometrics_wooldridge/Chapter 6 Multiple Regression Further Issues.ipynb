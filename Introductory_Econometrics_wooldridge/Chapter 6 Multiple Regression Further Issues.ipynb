{
 "cells": [
  {
   "cell_type": "code",
   "execution_count": 1,
   "metadata": {
    "ExecuteTime": {
     "end_time": "2018-12-03T03:25:02.186556Z",
     "start_time": "2018-12-03T03:25:02.072Z"
    }
   },
   "outputs": [
    {
     "name": "stderr",
     "output_type": "stream",
     "text": [
      "\n",
      "Please cite as: \n",
      "\n",
      " Hlavac, Marek (2018). stargazer: Well-Formatted Regression and Summary Statistics Tables.\n",
      " R package version 5.2.2. https://CRAN.R-project.org/package=stargazer \n",
      "\n"
     ]
    }
   ],
   "source": [
    "library(wooldridge)\n",
    "library(stargazer)\n",
    "library(knitr)"
   ]
  },
  {
   "cell_type": "code",
   "execution_count": 2,
   "metadata": {},
   "outputs": [],
   "source": [
    "pacman::p_load(wooldridge,stargazer,broom,tidyverse,ggplot2,\n",
    "               dplyr,tidyr,moderndive,jtools,sjPlot,dotwhisker,FSA)"
   ]
  },
  {
   "cell_type": "code",
   "execution_count": null,
   "metadata": {},
   "outputs": [],
   "source": []
  },
  {
   "cell_type": "markdown",
   "metadata": {},
   "source": [
    "# Example 6.1: Effects of Pollution on Housing Prices, standardized."
   ]
  },
  {
   "cell_type": "code",
   "execution_count": 3,
   "metadata": {
    "ExecuteTime": {
     "end_time": "2018-12-03T03:25:33.389906Z",
     "start_time": "2018-12-03T03:25:33.259Z"
    }
   },
   "outputs": [],
   "source": [
    "data(\"hprice2\")\n",
    "?hprice2"
   ]
  },
  {
   "cell_type": "markdown",
   "metadata": {},
   "source": [
    "$$price = \\beta_0 + \\beta_1nox + \\beta_2crime + \\beta_3rooms + \\beta_4dist + \\beta_5stratio + \\mu$$\n",
    "\n",
    "Estimate the usual lm model.\n",
    "\n",
    "\n",
    "Estimate the same model, but standardized coefficients by wrapping each variable with R's scale function:\n",
    "\n",
    "$$\\widehat{zprice} = \\beta_1znox + \\beta_2zcrime + \\beta_3zrooms + \\beta_4zdist + \\beta_5zstratio$$\n",
    "\n",
    "\n",
    "Compare results, and observe"
   ]
  },
  {
   "cell_type": "code",
   "execution_count": 4,
   "metadata": {
    "ExecuteTime": {
     "end_time": "2018-12-03T03:26:34.357268Z",
     "start_time": "2018-12-03T03:26:34.329Z"
    }
   },
   "outputs": [],
   "source": [
    "housing_level <- lm(price ~ nox + crime + rooms + dist + stratio, data = hprice2)"
   ]
  },
  {
   "cell_type": "code",
   "execution_count": 5,
   "metadata": {
    "ExecuteTime": {
     "end_time": "2018-12-03T03:26:34.729345Z",
     "start_time": "2018-12-03T03:26:34.704Z"
    }
   },
   "outputs": [],
   "source": [
    "housing_standardized <- lm(scale(price) ~ 0 + scale(nox) + scale(crime) + scale(rooms) + scale(dist) + scale(stratio), data = hprice2)"
   ]
  },
  {
   "cell_type": "code",
   "execution_count": 6,
   "metadata": {
    "ExecuteTime": {
     "end_time": "2018-12-03T03:27:13.223764Z",
     "start_time": "2018-12-03T03:27:13.196Z"
    }
   },
   "outputs": [
    {
     "data": {
      "text/plain": [
       "\n",
       "Call:\n",
       "lm(formula = price ~ nox + crime + rooms + dist + stratio, data = hprice2)\n",
       "\n",
       "Residuals:\n",
       "   Min     1Q Median     3Q    Max \n",
       "-13914  -3201   -662   2110  38064 \n",
       "\n",
       "Coefficients:\n",
       "            Estimate Std. Error t value Pr(>|t|)    \n",
       "(Intercept) 20871.13    5054.60   4.129 4.27e-05 ***\n",
       "nox         -2706.43     354.09  -7.643 1.09e-13 ***\n",
       "crime        -153.60      32.93  -4.665 3.97e-06 ***\n",
       "rooms        6735.50     393.60  17.112  < 2e-16 ***\n",
       "dist        -1026.81     188.11  -5.459 7.57e-08 ***\n",
       "stratio     -1149.20     127.43  -9.018  < 2e-16 ***\n",
       "---\n",
       "Signif. codes:  0 ‘***’ 0.001 ‘**’ 0.01 ‘*’ 0.05 ‘.’ 0.1 ‘ ’ 1\n",
       "\n",
       "Residual standard error: 5586 on 500 degrees of freedom\n",
       "Multiple R-squared:  0.6357,\tAdjusted R-squared:  0.632 \n",
       "F-statistic: 174.5 on 5 and 500 DF,  p-value: < 2.2e-16\n"
      ]
     },
     "metadata": {},
     "output_type": "display_data"
    }
   ],
   "source": [
    "summary(housing_level)"
   ]
  },
  {
   "cell_type": "code",
   "execution_count": 7,
   "metadata": {
    "ExecuteTime": {
     "end_time": "2018-12-03T03:27:17.624424Z",
     "start_time": "2018-12-03T03:27:17.604Z"
    }
   },
   "outputs": [
    {
     "data": {
      "text/plain": [
       "\n",
       "Call:\n",
       "lm(formula = scale(price) ~ 0 + scale(nox) + scale(crime) + scale(rooms) + \n",
       "    scale(dist) + scale(stratio), data = hprice2)\n",
       "\n",
       "Residuals:\n",
       "    Min      1Q  Median      3Q     Max \n",
       "-1.5110 -0.3476 -0.0719  0.2291  4.1334 \n",
       "\n",
       "Coefficients:\n",
       "               Estimate Std. Error t value Pr(>|t|)    \n",
       "scale(nox)     -0.34045    0.04450  -7.651 1.03e-13 ***\n",
       "scale(crime)   -0.14328    0.03069  -4.669 3.89e-06 ***\n",
       "scale(rooms)    0.51389    0.03000  17.129  < 2e-16 ***\n",
       "scale(dist)    -0.23484    0.04298  -5.464 7.35e-08 ***\n",
       "scale(stratio) -0.27028    0.02994  -9.027  < 2e-16 ***\n",
       "---\n",
       "Signif. codes:  0 ‘***’ 0.001 ‘**’ 0.01 ‘*’ 0.05 ‘.’ 0.1 ‘ ’ 1\n",
       "\n",
       "Residual standard error: 0.606 on 501 degrees of freedom\n",
       "Multiple R-squared:  0.6357,\tAdjusted R-squared:  0.632 \n",
       "F-statistic: 174.8 on 5 and 501 DF,  p-value: < 2.2e-16\n"
      ]
     },
     "metadata": {},
     "output_type": "display_data"
    }
   ],
   "source": [
    "summary(housing_standardized)"
   ]
  },
  {
   "cell_type": "code",
   "execution_count": 8,
   "metadata": {
    "ExecuteTime": {
     "end_time": "2018-12-03T03:27:22.095219Z",
     "start_time": "2018-12-03T03:27:21.812Z"
    }
   },
   "outputs": [
    {
     "name": "stdout",
     "output_type": "stream",
     "text": [
      "\n",
      "============================================================================\n",
      "                                      Dependent variable:                   \n",
      "                    --------------------------------------------------------\n",
      "                                price                    scale(price)       \n",
      "                                 (1)                         (2)            \n",
      "----------------------------------------------------------------------------\n",
      "nox                  -2,706.43300*** (354.08690)                            \n",
      "crime                 -153.60100*** (32.92883)                              \n",
      "rooms                6,735.49800*** (393.60370)                             \n",
      "dist                 -1,026.80600*** (188.10790)                            \n",
      "stratio              -1,149.20400*** (127.42870)                            \n",
      "scale(nox)                                          -0.34045*** (0.04450)   \n",
      "scale(crime)                                        -0.14328*** (0.03069)   \n",
      "scale(rooms)                                         0.51389*** (0.03000)   \n",
      "scale(dist)                                         -0.23484*** (0.04298)   \n",
      "scale(stratio)                                      -0.27028*** (0.02994)   \n",
      "Constant            20,871.13000*** (5,054.59900)                           \n",
      "----------------------------------------------------------------------------\n",
      "Observations                     506                         506            \n",
      "R2                             0.63567                     0.63567          \n",
      "Adjusted R2                    0.63202                     0.63203          \n",
      "Residual Std. Error    5,586.19800 (df = 500)         0.60601 (df = 501)    \n",
      "F Statistic          174.47330*** (df = 5; 500)   174.82220*** (df = 5; 501)\n",
      "============================================================================\n",
      "Note:                                            *p<0.1; **p<0.05; ***p<0.01\n"
     ]
    }
   ],
   "source": [
    "\n",
    "\n",
    "stargazer(type = \"text\",housing_level, housing_standardized,  single.row = TRUE, header = FALSE, digits=5)"
   ]
  },
  {
   "cell_type": "code",
   "execution_count": 17,
   "metadata": {},
   "outputs": [
    {
     "data": {
      "text/plain": [
       "MODEL INFO:\n",
       "Observations: 506\n",
       "Dependent Variable: price\n",
       "Type: OLS linear regression \n",
       "\n",
       "MODEL FIT:\n",
       "F(5,500) = 174.47, p = 0.00\n",
       "R² = 0.64\n",
       "Adj. R² = 0.63 \n",
       "\n",
       "Standard errors: OLS\n",
       "------------------------------------------------------\n",
       "                        Est.      S.E.   t val.      p\n",
       "----------------- ---------- --------- -------- ------\n",
       "(Intercept)         20871.13   5054.60     4.13   0.00\n",
       "nox                 -2706.43    354.09    -7.64   0.00\n",
       "crime                -153.60     32.93    -4.66   0.00\n",
       "rooms                6735.50    393.60    17.11   0.00\n",
       "dist                -1026.81    188.11    -5.46   0.00\n",
       "stratio             -1149.20    127.43    -9.02   0.00\n",
       "------------------------------------------------------"
      ]
     },
     "metadata": {},
     "output_type": "display_data"
    }
   ],
   "source": [
    "jtools::summ(housing_level)"
   ]
  },
  {
   "cell_type": "code",
   "execution_count": 19,
   "metadata": {},
   "outputs": [
    {
     "data": {
      "text/plain": [
       "MODEL INFO:\n",
       "Observations: 506\n",
       "Dependent Variable: price\n",
       "Type: OLS linear regression \n",
       "\n",
       "MODEL FIT:\n",
       "F(5,500) = 174.47, p = 0.00\n",
       "R² = 0.64\n",
       "Adj. R² = 0.63 \n",
       "\n",
       "Standard errors: OLS\n",
       "-----------------------------------------------------\n",
       "                        Est.     S.E.   t val.      p\n",
       "----------------- ---------- -------- -------- ------\n",
       "(Intercept)         22511.51   248.34    90.65   0.00\n",
       "nox                 -3135.12   410.17    -7.64   0.00\n",
       "crime               -1319.47   282.87    -4.66   0.00\n",
       "rooms                4732.32   276.54    17.11   0.00\n",
       "dist                -2162.59   396.18    -5.46   0.00\n",
       "stratio             -2488.97   275.99    -9.02   0.00\n",
       "-----------------------------------------------------\n",
       "\n",
       "Continuous predictors are mean-centered and scaled by 1 s.d."
      ]
     },
     "metadata": {},
     "output_type": "display_data"
    }
   ],
   "source": [
    "jtools::summ(housing_level, scale = TRUE)"
   ]
  },
  {
   "cell_type": "code",
   "execution_count": 18,
   "metadata": {},
   "outputs": [
    {
     "data": {
      "text/plain": [
       "MODEL INFO:\n",
       "Observations: 506\n",
       "Dependent Variable: scale(price)\n",
       "Type: OLS linear regression \n",
       "\n",
       "MODEL FIT:\n",
       "F(5,501) = 174.82, p = 0.00\n",
       "R² = 0.64\n",
       "Adj. R² = 0.63 \n",
       "\n",
       "Standard errors: OLS\n",
       "---------------------------------------------------\n",
       "                        Est.   S.E.   t val.      p\n",
       "-------------------- ------- ------ -------- ------\n",
       "scale(nox)             -0.34   0.04    -7.65   0.00\n",
       "scale(crime)           -0.14   0.03    -4.67   0.00\n",
       "scale(rooms)            0.51   0.03    17.13   0.00\n",
       "scale(dist)            -0.23   0.04    -5.46   0.00\n",
       "scale(stratio)         -0.27   0.03    -9.03   0.00\n",
       "---------------------------------------------------"
      ]
     },
     "metadata": {},
     "output_type": "display_data"
    }
   ],
   "source": [
    "jtools::summ(housing_standardized)"
   ]
  },
  {
   "cell_type": "code",
   "execution_count": null,
   "metadata": {},
   "outputs": [],
   "source": []
  },
  {
   "cell_type": "code",
   "execution_count": null,
   "metadata": {},
   "outputs": [],
   "source": []
  },
  {
   "cell_type": "code",
   "execution_count": 15,
   "metadata": {},
   "outputs": [
    {
     "data": {},
     "metadata": {},
     "output_type": "display_data"
    },
    {
     "data": {
      "image/png": "[encoded data removed]",
      "text/plain": [
       "plot without title"
      ]
     },
     "metadata": {},
     "output_type": "display_data"
    }
   ],
   "source": [
    "jtools::plot_coefs(housing_level, scale = FALSE, plot.distributions = TRUE, inner_ci_level = .95)"
   ]
  },
  {
   "cell_type": "code",
   "execution_count": 14,
   "metadata": {},
   "outputs": [
    {
     "data": {},
     "metadata": {},
     "output_type": "display_data"
    },
    {
     "data": {
      "image/png": "[encoded data removed]",
      "text/plain": [
       "plot without title"
      ]
     },
     "metadata": {},
     "output_type": "display_data"
    }
   ],
   "source": [
    "jtools::plot_coefs(housing_level, scale = TRUE, plot.distributions = TRUE, inner_ci_level = .95)"
   ]
  },
  {
   "cell_type": "code",
   "execution_count": 16,
   "metadata": {},
   "outputs": [
    {
     "data": {},
     "metadata": {},
     "output_type": "display_data"
    },
    {
     "data": {
      "image/png": "[encoded data removed]",
      "text/plain": [
       "plot without title"
      ]
     },
     "metadata": {},
     "output_type": "display_data"
    }
   ],
   "source": [
    "jtools::plot_coefs(housing_standardized, scale = TRUE, plot.distributions = TRUE, inner_ci_level = .95)"
   ]
  },
  {
   "cell_type": "code",
   "execution_count": null,
   "metadata": {},
   "outputs": [],
   "source": []
  },
  {
   "cell_type": "code",
   "execution_count": null,
   "metadata": {},
   "outputs": [],
   "source": []
  },
  {
   "cell_type": "code",
   "execution_count": null,
   "metadata": {},
   "outputs": [],
   "source": []
  },
  {
   "cell_type": "markdown",
   "metadata": {},
   "source": [
    "# Example 6.2: Effects of Pollution on Housing Prices, Quadratic Interactive Term\n",
    "Modify the housing model from example 4.5, adding a quadratic term in rooms:\n",
    "\n",
    "$$log(price) = \\beta_0 + \\beta_1log(nox) + \\beta_2log(dist) + \\beta_3rooms + \\beta_4rooms^2 + \\beta_5stratio + \\mu$$"
   ]
  },
  {
   "cell_type": "code",
   "execution_count": 9,
   "metadata": {
    "ExecuteTime": {
     "end_time": "2018-12-03T03:27:51.102756Z",
     "start_time": "2018-12-03T03:27:51.081Z"
    }
   },
   "outputs": [],
   "source": [
    "housing_model_4.5 <- lm(lprice ~ lnox + log(dist) + rooms + stratio, data = hprice2)\n",
    "\n",
    "housing_model_6.2 <- lm(lprice ~ lnox + log(dist) + rooms + I(rooms^2) + stratio, \n",
    "                        data = hprice2)"
   ]
  },
  {
   "cell_type": "code",
   "execution_count": 10,
   "metadata": {
    "ExecuteTime": {
     "end_time": "2018-12-03T03:28:06.423400Z",
     "start_time": "2018-12-03T03:28:06.395Z"
    }
   },
   "outputs": [
    {
     "data": {
      "text/plain": [
       "\n",
       "Call:\n",
       "lm(formula = lprice ~ lnox + log(dist) + rooms + stratio, data = hprice2)\n",
       "\n",
       "Residuals:\n",
       "     Min       1Q   Median       3Q      Max \n",
       "-1.05890 -0.12427  0.02128  0.12882  1.32531 \n",
       "\n",
       "Coefficients:\n",
       "             Estimate Std. Error t value Pr(>|t|)    \n",
       "(Intercept) 11.083862   0.318111  34.843  < 2e-16 ***\n",
       "lnox        -0.953539   0.116742  -8.168 2.57e-15 ***\n",
       "log(dist)   -0.134339   0.043103  -3.117  0.00193 ** \n",
       "rooms        0.254527   0.018530  13.736  < 2e-16 ***\n",
       "stratio     -0.052451   0.005897  -8.894  < 2e-16 ***\n",
       "---\n",
       "Signif. codes:  0 ‘***’ 0.001 ‘**’ 0.01 ‘*’ 0.05 ‘.’ 0.1 ‘ ’ 1\n",
       "\n",
       "Residual standard error: 0.265 on 501 degrees of freedom\n",
       "Multiple R-squared:  0.584,\tAdjusted R-squared:  0.5807 \n",
       "F-statistic: 175.9 on 4 and 501 DF,  p-value: < 2.2e-16\n"
      ]
     },
     "metadata": {},
     "output_type": "display_data"
    }
   ],
   "source": [
    "summary(housing_model_4.5)\n"
   ]
  },
  {
   "cell_type": "code",
   "execution_count": 11,
   "metadata": {
    "ExecuteTime": {
     "end_time": "2018-12-03T03:28:06.629500Z",
     "start_time": "2018-12-03T03:28:06.603Z"
    }
   },
   "outputs": [
    {
     "data": {
      "text/plain": [
       "\n",
       "Call:\n",
       "lm(formula = lprice ~ lnox + log(dist) + rooms + I(rooms^2) + \n",
       "    stratio, data = hprice2)\n",
       "\n",
       "Residuals:\n",
       "     Min       1Q   Median       3Q      Max \n",
       "-1.04285 -0.12774  0.02038  0.12650  1.25272 \n",
       "\n",
       "Coefficients:\n",
       "             Estimate Std. Error t value Pr(>|t|)    \n",
       "(Intercept) 13.385478   0.566473  23.630  < 2e-16 ***\n",
       "lnox        -0.901682   0.114687  -7.862 2.34e-14 ***\n",
       "log(dist)   -0.086781   0.043281  -2.005  0.04549 *  \n",
       "rooms       -0.545113   0.165454  -3.295  0.00106 ** \n",
       "I(rooms^2)   0.062261   0.012805   4.862 1.56e-06 ***\n",
       "stratio     -0.047590   0.005854  -8.129 3.42e-15 ***\n",
       "---\n",
       "Signif. codes:  0 ‘***’ 0.001 ‘**’ 0.01 ‘*’ 0.05 ‘.’ 0.1 ‘ ’ 1\n",
       "\n",
       "Residual standard error: 0.2592 on 500 degrees of freedom\n",
       "Multiple R-squared:  0.6028,\tAdjusted R-squared:  0.5988 \n",
       "F-statistic: 151.8 on 5 and 500 DF,  p-value: < 2.2e-16\n"
      ]
     },
     "metadata": {},
     "output_type": "display_data"
    }
   ],
   "source": [
    "summary(housing_model_6.2)"
   ]
  },
  {
   "cell_type": "code",
   "execution_count": 12,
   "metadata": {},
   "outputs": [
    {
     "name": "stdout",
     "output_type": "stream",
     "text": [
      "\n",
      "=========================================================================\n",
      "                                     Dependent variable:                 \n",
      "                    -----------------------------------------------------\n",
      "                                           lprice                        \n",
      "                               (1)                        (2)            \n",
      "-------------------------------------------------------------------------\n",
      "lnox                  -0.95354*** (0.11674)      -0.90168*** (0.11469)   \n",
      "log(dist)             -0.13434*** (0.04310)       -0.08678** (0.04328)   \n",
      "rooms                  0.25453*** (0.01853)      -0.54511*** (0.16545)   \n",
      "I(rooms2)                                         0.06226*** (0.01280)   \n",
      "stratio               -0.05245*** (0.00590)      -0.04759*** (0.00585)   \n",
      "Constant              11.08386*** (0.31811)      13.38548*** (0.56647)   \n",
      "-------------------------------------------------------------------------\n",
      "Observations                   506                        506            \n",
      "R2                           0.58403                    0.60281          \n",
      "Adjusted R2                  0.58071                    0.59884          \n",
      "Residual Std. Error     0.26500 (df = 501)         0.25921 (df = 500)    \n",
      "F Statistic         175.85520*** (df = 4; 501) 151.77040*** (df = 5; 500)\n",
      "=========================================================================\n",
      "Note:                                         *p<0.1; **p<0.05; ***p<0.01\n"
     ]
    }
   ],
   "source": [
    "stargazer(type = \"text\",housing_model_4.5, housing_model_6.2,  single.row = TRUE, header = FALSE, digits=5)"
   ]
  },
  {
   "cell_type": "code",
   "execution_count": null,
   "metadata": {},
   "outputs": [],
   "source": []
  },
  {
   "cell_type": "markdown",
   "metadata": {},
   "source": [
    "Estimate the minimum turning point at which the rooms interactive term changes from negative to positive.\n",
    "\n",
    "$$x = \\frac{\\hat{\\beta_1}}{2\\hat{\\beta_2}}$$\n",
    "\n"
   ]
  },
  {
   "cell_type": "code",
   "execution_count": 13,
   "metadata": {
    "ExecuteTime": {
     "end_time": "2018-12-03T03:28:37.440541Z",
     "start_time": "2018-12-03T03:28:37.417Z"
    }
   },
   "outputs": [
    {
     "name": "stdout",
     "output_type": "stream",
     "text": [
      "[1] 4.37763\n"
     ]
    }
   ],
   "source": [
    "beta_1 <- summary(housing_model_6.2)$coefficients[\"rooms\",1] \n",
    "beta_2 <- summary(housing_model_6.2)$coefficients[\"I(rooms^2)\",1]\n",
    "turning_point <- abs(beta_1 / (2*beta_2))\n",
    "\n",
    "print(turning_point)"
   ]
  },
  {
   "cell_type": "code",
   "execution_count": 13,
   "metadata": {
    "ExecuteTime": {
     "end_time": "2018-12-03T03:29:41.991125Z",
     "start_time": "2018-12-03T03:29:41.950Z"
    }
   },
   "outputs": [
    {
     "data": {
      "text/plain": [
       "\n",
       "\n",
       "|   Rooms| Percent.Change|\n",
       "|-------:|--------------:|\n",
       "| 3.56000|     -10.181324|\n",
       "| 4.00000|      -4.702338|\n",
       "| 4.37763|       0.000000|\n",
       "| 5.00000|       7.749903|\n",
       "| 5.50000|      13.976023|\n",
       "| 6.45000|      25.805651|\n",
       "| 7.50000|      38.880503|\n",
       "| 8.78000|      54.819367|"
      ]
     },
     "metadata": {},
     "output_type": "display_data"
    }
   ],
   "source": [
    "#Compute the percent change across a range of average rooms. Include the smallest, turning point, and largest.\n",
    "\n",
    "Rooms <- c(min(hprice2$rooms), 4, turning_point, 5, 5.5, 6.45, 7.5, max(hprice2$rooms))\n",
    "Percent.Change <- 100*(beta_1 + 2*beta_2*Rooms)\n",
    "\n",
    "kable(data.frame(Rooms, Percent.Change))\n",
    "from <- min(hprice2$rooms)\n",
    "to <- max(hprice2$rooms)\n",
    "rooms <- seq(from=from, to =to, by = ((to - from)/(NROW(hprice2)-1)))\n",
    "quadratic <- abs(100*summary(housing_model_6.2)$coefficients[\"rooms\",1] + 200*summary(housing_model_6.2)$coefficients[\"I(rooms^2)\",1]*rooms)\n",
    "\n",
    "housing_model_frame <- model.frame(housing_model_6.2)\n",
    "\n",
    "housing_sq <- abs(beta_1*housing_model_frame[,\"rooms\"]) + \n",
    "              beta_2*housing_model_frame[,\"I(rooms^2)\"]\n",
    "\n",
    "#plot(y=hprice2$lprice, x=housing_sq)"
   ]
  },
  {
   "cell_type": "code",
   "execution_count": 14,
   "metadata": {
    "ExecuteTime": {
     "end_time": "2018-12-03T03:30:02.127360Z",
     "start_time": "2018-12-03T03:30:01.964Z"
    }
   },
   "outputs": [
    {
     "data": {
      "image/png": "[encoded data removed]",
      "text/plain": [
       "Plot with title \"lprice ~ rooms + I(rooms^2)\""
      ]
     },
     "metadata": {},
     "output_type": "display_data"
    }
   ],
   "source": [
    "# Graph the log of the selling price against the number of rooms. Superimpose a simple model as well as a quadratic model and examine the difference.\n",
    "\n",
    "rooms_interaction <- lm(lprice ~ rooms + I(rooms^2), data = hprice2)\n",
    "\n",
    "par(mfrow=c(1,2))\n",
    "\n",
    "plot(y = hprice2$lprice, x = hprice2$rooms, xaxt=\"n\", pch = 21, bg = \"lightgrey\",\n",
    "     frame = FALSE, main = \"lprice ~ rooms\", xlab = \"Rooms\", ylab = \"\")\n",
    "mtext(side=2, line=2, \"Log( selling price )\", cex=1.25)\n",
    "axis(side = 1, at = c(min(hprice2$rooms), 4, 5, 6, 7, 8, max(hprice2$rooms)))\n",
    "abline(lm(lprice ~ rooms, data = hprice2), col=\"red\", lwd=2.5)\n",
    "\n",
    "plot(y = hprice2$lprice, x = hprice2$rooms, xaxt=\"n\", pch = 21, bg = \"lightgrey\",\n",
    "     frame = FALSE, main = \"lprice ~ rooms + I(rooms^2)\", xlab = \"Rooms\", ylab = \" \")\n",
    "axis(side = 1, at = c(min(hprice2$rooms), 4, 5, 6, 7, 8, max(hprice2$rooms)))\n",
    "lines(sort(hprice2$rooms), sort(fitted(rooms_interaction)), col = \"red\", lwd=2.5)"
   ]
  },
  {
   "cell_type": "code",
   "execution_count": null,
   "metadata": {},
   "outputs": [],
   "source": []
  },
  {
   "cell_type": "code",
   "execution_count": null,
   "metadata": {},
   "outputs": [],
   "source": []
  },
  {
   "cell_type": "code",
   "execution_count": null,
   "metadata": {},
   "outputs": [],
   "source": []
  }
 ],
 "metadata": {
  "kernelspec": {
   "display_name": "R",
   "language": "R",
   "name": "ir"
  },
  "language_info": {
   "codemirror_mode": "r",
   "file_extension": ".r",
   "mimetype": "text/x-r-source",
   "name": "R",
   "pygments_lexer": "r",
   "version": "3.5.1"
  }
 },
 "nbformat": 4,
 "nbformat_minor": 2
}
