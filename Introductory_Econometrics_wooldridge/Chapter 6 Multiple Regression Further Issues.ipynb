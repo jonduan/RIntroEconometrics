{
 "cells": [
  {
   "cell_type": "code",
   "execution_count": 3,
   "metadata": {
    "ExecuteTime": {
     "end_time": "2018-12-03T03:25:02.186556Z",
     "start_time": "2018-12-03T03:25:02.072Z"
    }
   },
   "outputs": [
    {
     "name": "stderr",
     "output_type": "stream",
     "text": [
      "\n",
      "Please cite as: \n",
      "\n",
      " Hlavac, Marek (2018). stargazer: Well-Formatted Regression and Summary Statistics Tables.\n",
      " R package version 5.2.2. https://CRAN.R-project.org/package=stargazer \n",
      "\n"
     ]
    }
   ],
   "source": [
    "library(wooldridge)\n",
    "library(stargazer)\n",
    "library(knitr)"
   ]
  },
  {
   "cell_type": "code",
   "execution_count": 4,
   "metadata": {},
   "outputs": [],
   "source": [
    "pacman::p_load(wooldridge,stargazer,broom,tidyverse,ggplot2,\n",
    "               dplyr,tidyr,moderndive,jtools,sjPlot,dotwhisker,FSA,QuantPsyc)"
   ]
  },
  {
   "cell_type": "markdown",
   "metadata": {},
   "source": [
    "When the dependent variable y takes on strictly positive values, models based on the logged form of the dependent variable log(y) often satisfy the CLM assumptions more closely than those using y. Further, models using dependent variables that are strictly positive often suffer from heteroskedasticity. \n",
    "\n",
    "Using log(y)\n",
    " can often attenuate these problems.\n",
    " \n",
    "Taking the log of a variable also narrows its range. Narrowing the ranges of both the dependent and independent variables can make the OLS estimates less sensitive to extreme values.\n",
    "\n",
    "Since the log function is not defined for values less than zero, using a model with log(y)\n",
    "\n",
    " when y\n",
    " can take on negative values will not work without further transformations to the dependent variable.\n",
    " \n",
    " \n",
    "For values of y\n",
    " less than 1, and especially those close to zero, the logged value of the dependent variable can become very large in absolute value relative to the level value of the dependent variable.\n",
    " \n",
    " \n",
    " \n",
    " %Δy=(100β2)Δx\n",
    " \n",
    " \n",
    " \n",
    " \n",
    " The exact change in the predicted value of the dependent variable yˆ, for a given change in the dependent variable x2\n",
    ", can be calculated using the following formula:\n",
    "\n",
    "\n",
    "\n",
    "%Δyˆ=100×(exp(β2ˆΔx2)−1)\n",
    "\n",
    "\n",
    "\n"
   ]
  },
  {
   "cell_type": "markdown",
   "metadata": {},
   "source": [
    "# Example 6.1: Effects of Pollution on Housing Prices, standardized.\n",
    "http://fmwww.bc.edu/gstat/examples/wooldridge/\n",
    "\n",
    "    Example 6.1: Effect of Pollution on Housing Prices\n",
    "\n",
    "use http://fmwww.bc.edu/ec-p/data/wooldridge/hprice2\n",
    "\n",
    "reg price nox crime rooms dist stratio, beta\n",
    "\n"
   ]
  },
  {
   "cell_type": "code",
   "execution_count": 90,
   "metadata": {
    "ExecuteTime": {
     "end_time": "2018-12-03T03:25:33.389906Z",
     "start_time": "2018-12-03T03:25:33.259Z"
    }
   },
   "outputs": [],
   "source": [
    "data(\"hprice2\")\n",
    "?hprice2"
   ]
  },
  {
   "cell_type": "markdown",
   "metadata": {},
   "source": [
    "$$price = \\beta_0 + \\beta_1nox + \\beta_2crime + \\beta_3rooms + \\beta_4dist + \\beta_5stratio + \\mu$$\n",
    "\n",
    "Estimate the usual lm model.\n",
    "\n",
    "\n",
    "Estimate the same model, but standardized coefficients by wrapping each variable with R's scale function:\n",
    "\n",
    "$$\\widehat{zprice} = \\beta_1znox + \\beta_2zcrime + \\beta_3zrooms + \\beta_4zdist + \\beta_5zstratio$$\n",
    "\n",
    "\n",
    "Compare results, and observe"
   ]
  },
  {
   "cell_type": "code",
   "execution_count": 44,
   "metadata": {
    "ExecuteTime": {
     "end_time": "2018-12-03T03:26:34.357268Z",
     "start_time": "2018-12-03T03:26:34.329Z"
    }
   },
   "outputs": [],
   "source": [
    "housing_level <- lm(price ~ nox + crime + rooms + dist + stratio, data = hprice2)"
   ]
  },
  {
   "cell_type": "code",
   "execution_count": 47,
   "metadata": {},
   "outputs": [
    {
     "data": {
      "text/html": [
       "<dl class=dl-horizontal>\n",
       "\t<dt>nox</dt>\n",
       "\t\t<dd>-0.340446014232654</dd>\n",
       "\t<dt>crime</dt>\n",
       "\t\t<dd>-0.143282752201109</dd>\n",
       "\t<dt>rooms</dt>\n",
       "\t\t<dd>0.513887832588758</dd>\n",
       "\t<dt>dist</dt>\n",
       "\t\t<dd>-0.234838528511225</dd>\n",
       "\t<dt>stratio</dt>\n",
       "\t\t<dd>-0.270279887013458</dd>\n",
       "</dl>\n"
      ],
      "text/latex": [
       "\\begin{description*}\n",
       "\\item[nox] -0.340446014232654\n",
       "\\item[crime] -0.143282752201109\n",
       "\\item[rooms] 0.513887832588758\n",
       "\\item[dist] -0.234838528511225\n",
       "\\item[stratio] -0.270279887013458\n",
       "\\end{description*}\n"
      ],
      "text/markdown": [
       "nox\n",
       ":   -0.340446014232654crime\n",
       ":   -0.143282752201109rooms\n",
       ":   0.513887832588758dist\n",
       ":   -0.234838528511225stratio\n",
       ":   -0.270279887013458\n",
       "\n"
      ],
      "text/plain": [
       "       nox      crime      rooms       dist    stratio \n",
       "-0.3404460 -0.1432828  0.5138878 -0.2348385 -0.2702799 "
      ]
     },
     "metadata": {},
     "output_type": "display_data"
    }
   ],
   "source": [
    "QuantPsyc::lm.beta(housing_level) # Beta coefficients with no standard errors."
   ]
  },
  {
   "cell_type": "markdown",
   "metadata": {},
   "source": [
    "### Beta coefficients (Example 6.1)\n",
    "\n",
    "To estimate beta coefficients I use the QuantPsyc package. Its lm.beta function is neat, however, it does not provide standard errors of the coefficients. Thus, I use the Make.Z() function to obtain z-values for the whole sample, turn it into a data frame and estimate the model as usual."
   ]
  },
  {
   "cell_type": "code",
   "execution_count": 15,
   "metadata": {},
   "outputs": [
    {
     "data": {
      "text/plain": [
       "\n",
       "Call:\n",
       "lm(formula = scale(price) ~ 0 + scale(nox) + scale(crime) + scale(rooms) + \n",
       "    scale(dist) + scale(stratio), data = hprice2)\n",
       "\n",
       "Coefficients:\n",
       "    scale(nox)    scale(crime)    scale(rooms)     scale(dist)  scale(stratio)  \n",
       "       -0.3404         -0.1433          0.5139         -0.2348         -0.2703  \n"
      ]
     },
     "metadata": {},
     "output_type": "display_data"
    }
   ],
   "source": [
    "data(hprice2, package='wooldridge')\n",
    "\n",
    "# Estimate model with standardized variables:\n",
    "lm(scale(price) ~ 0+scale(nox)+scale(crime)+scale(rooms)+\n",
    "                              scale(dist)+scale(stratio), data=hprice2)"
   ]
  },
  {
   "cell_type": "code",
   "execution_count": 16,
   "metadata": {},
   "outputs": [
    {
     "name": "stderr",
     "output_type": "stream",
     "text": [
      "Loading required package: carData\n",
      "\n",
      "Attaching package: ‘car’\n",
      "\n",
      "The following object is masked from ‘package:boot’:\n",
      "\n",
      "    logit\n",
      "\n",
      "The following object is masked from ‘package:FSA’:\n",
      "\n",
      "    bootCase\n",
      "\n",
      "The following object is masked from ‘package:dplyr’:\n",
      "\n",
      "    recode\n",
      "\n",
      "The following object is masked from ‘package:purrr’:\n",
      "\n",
      "    some\n",
      "\n"
     ]
    },
    {
     "data": {
      "text/html": [
       "<table>\n",
       "<thead><tr><th scope=col>Res.Df</th><th scope=col>RSS</th><th scope=col>Df</th><th scope=col>Sum of Sq</th><th scope=col>F</th><th scope=col>Pr(&gt;F)</th></tr></thead>\n",
       "<tbody>\n",
       "\t<tr><td>502         </td><td>48.43305    </td><td>NA          </td><td>      NA    </td><td>      NA    </td><td>          NA</td></tr>\n",
       "\t<tr><td>500         </td><td>33.59498    </td><td> 2          </td><td>14.83807    </td><td>110.4188    </td><td>1.919325e-40</td></tr>\n",
       "</tbody>\n",
       "</table>\n"
      ],
      "text/latex": [
       "\\begin{tabular}{r|llllll}\n",
       " Res.Df & RSS & Df & Sum of Sq & F & Pr(>F)\\\\\n",
       "\\hline\n",
       "\t 502          & 48.43305     & NA           &       NA     &       NA     &           NA\\\\\n",
       "\t 500          & 33.59498     &  2           & 14.83807     & 110.4188     & 1.919325e-40\\\\\n",
       "\\end{tabular}\n"
      ],
      "text/markdown": [
       "\n",
       "Res.Df | RSS | Df | Sum of Sq | F | Pr(>F) | \n",
       "|---|---|\n",
       "| 502          | 48.43305     | NA           |       NA     |       NA     |           NA | \n",
       "| 500          | 33.59498     |  2           | 14.83807     | 110.4188     | 1.919325e-40 | \n",
       "\n",
       "\n"
      ],
      "text/plain": [
       "  Res.Df RSS      Df Sum of Sq F        Pr(>F)      \n",
       "1 502    48.43305 NA       NA        NA           NA\n",
       "2 500    33.59498  2 14.83807  110.4188 1.919325e-40"
      ]
     },
     "metadata": {},
     "output_type": "display_data"
    },
    {
     "data": {
      "text/html": [
       "<table>\n",
       "<thead><tr><th></th><th scope=col>Sum Sq</th><th scope=col>Df</th><th scope=col>F value</th><th scope=col>Pr(&gt;F)</th></tr></thead>\n",
       "<tbody>\n",
       "\t<tr><th scope=row>log(nox)</th><td> 4.1532032  </td><td>  1         </td><td> 61.81285   </td><td>2.340671e-14</td></tr>\n",
       "\t<tr><th scope=row>log(dist)</th><td> 0.2701272  </td><td>  1         </td><td>  4.02035   </td><td>4.549288e-02</td></tr>\n",
       "\t<tr><th scope=row>poly(rooms, 2, raw = TRUE)</th><td>14.8380674  </td><td>  2         </td><td>110.41878   </td><td>1.919325e-40</td></tr>\n",
       "\t<tr><th scope=row>stratio</th><td> 4.4402330  </td><td>  1         </td><td> 66.08477   </td><td>3.423303e-15</td></tr>\n",
       "\t<tr><th scope=row>Residuals</th><td>33.5949807  </td><td>500         </td><td>       NA   </td><td>          NA</td></tr>\n",
       "</tbody>\n",
       "</table>\n"
      ],
      "text/latex": [
       "\\begin{tabular}{r|llll}\n",
       "  & Sum Sq & Df & F value & Pr(>F)\\\\\n",
       "\\hline\n",
       "\tlog(nox) &  4.1532032   &   1          &  61.81285    & 2.340671e-14\\\\\n",
       "\tlog(dist) &  0.2701272   &   1          &   4.02035    & 4.549288e-02\\\\\n",
       "\tpoly(rooms, 2, raw = TRUE) & 14.8380674   &   2          & 110.41878    & 1.919325e-40\\\\\n",
       "\tstratio &  4.4402330   &   1          &  66.08477    & 3.423303e-15\\\\\n",
       "\tResiduals & 33.5949807   & 500          &        NA    &           NA\\\\\n",
       "\\end{tabular}\n"
      ],
      "text/markdown": [
       "\n",
       "| <!--/--> | Sum Sq | Df | F value | Pr(>F) | \n",
       "|---|---|---|---|---|\n",
       "| log(nox) |  4.1532032   |   1          |  61.81285    | 2.340671e-14 | \n",
       "| log(dist) |  0.2701272   |   1          |   4.02035    | 4.549288e-02 | \n",
       "| poly(rooms, 2, raw = TRUE) | 14.8380674   |   2          | 110.41878    | 1.919325e-40 | \n",
       "| stratio |  4.4402330   |   1          |  66.08477    | 3.423303e-15 | \n",
       "| Residuals | 33.5949807   | 500          |        NA    |           NA | \n",
       "\n",
       "\n"
      ],
      "text/plain": [
       "                           Sum Sq     Df  F value   Pr(>F)      \n",
       "log(nox)                    4.1532032   1  61.81285 2.340671e-14\n",
       "log(dist)                   0.2701272   1   4.02035 4.549288e-02\n",
       "poly(rooms, 2, raw = TRUE) 14.8380674   2 110.41878 1.919325e-40\n",
       "stratio                     4.4402330   1  66.08477 3.423303e-15\n",
       "Residuals                  33.5949807 500        NA           NA"
      ]
     },
     "metadata": {},
     "output_type": "display_data"
    }
   ],
   "source": [
    "library(car)\n",
    "data(hprice2, package='wooldridge')\n",
    "res <- lm(log(price)~log(nox)+log(dist)+poly(rooms,2,raw=TRUE)+\n",
    "           stratio,data=hprice2)\n",
    "\n",
    "# Manual F test for rooms:\n",
    "linearHypothesis(res, matchCoefs(res,\"rooms\"))\n",
    "\n",
    "# ANOVA (type 2) table:\n",
    "Anova(res)"
   ]
  },
  {
   "cell_type": "code",
   "execution_count": null,
   "metadata": {},
   "outputs": [],
   "source": []
  },
  {
   "cell_type": "code",
   "execution_count": null,
   "metadata": {},
   "outputs": [],
   "source": []
  },
  {
   "cell_type": "code",
   "execution_count": 5,
   "metadata": {
    "ExecuteTime": {
     "end_time": "2018-12-03T03:26:34.729345Z",
     "start_time": "2018-12-03T03:26:34.704Z"
    }
   },
   "outputs": [],
   "source": [
    "housing_standardized <- lm(scale(price) ~ 0 + scale(nox) + scale(crime) + scale(rooms) + scale(dist) + scale(stratio), data = hprice2)"
   ]
  },
  {
   "cell_type": "code",
   "execution_count": 6,
   "metadata": {
    "ExecuteTime": {
     "end_time": "2018-12-03T03:27:13.223764Z",
     "start_time": "2018-12-03T03:27:13.196Z"
    }
   },
   "outputs": [
    {
     "data": {
      "text/plain": [
       "\n",
       "Call:\n",
       "lm(formula = price ~ nox + crime + rooms + dist + stratio, data = hprice2)\n",
       "\n",
       "Residuals:\n",
       "   Min     1Q Median     3Q    Max \n",
       "-13914  -3201   -662   2110  38064 \n",
       "\n",
       "Coefficients:\n",
       "            Estimate Std. Error t value Pr(>|t|)    \n",
       "(Intercept) 20871.13    5054.60   4.129 4.27e-05 ***\n",
       "nox         -2706.43     354.09  -7.643 1.09e-13 ***\n",
       "crime        -153.60      32.93  -4.665 3.97e-06 ***\n",
       "rooms        6735.50     393.60  17.112  < 2e-16 ***\n",
       "dist        -1026.81     188.11  -5.459 7.57e-08 ***\n",
       "stratio     -1149.20     127.43  -9.018  < 2e-16 ***\n",
       "---\n",
       "Signif. codes:  0 ‘***’ 0.001 ‘**’ 0.01 ‘*’ 0.05 ‘.’ 0.1 ‘ ’ 1\n",
       "\n",
       "Residual standard error: 5586 on 500 degrees of freedom\n",
       "Multiple R-squared:  0.6357,\tAdjusted R-squared:  0.632 \n",
       "F-statistic: 174.5 on 5 and 500 DF,  p-value: < 2.2e-16\n"
      ]
     },
     "metadata": {},
     "output_type": "display_data"
    }
   ],
   "source": [
    "summary(housing_level)"
   ]
  },
  {
   "cell_type": "code",
   "execution_count": 7,
   "metadata": {
    "ExecuteTime": {
     "end_time": "2018-12-03T03:27:17.624424Z",
     "start_time": "2018-12-03T03:27:17.604Z"
    }
   },
   "outputs": [
    {
     "data": {
      "text/plain": [
       "\n",
       "Call:\n",
       "lm(formula = scale(price) ~ 0 + scale(nox) + scale(crime) + scale(rooms) + \n",
       "    scale(dist) + scale(stratio), data = hprice2)\n",
       "\n",
       "Residuals:\n",
       "    Min      1Q  Median      3Q     Max \n",
       "-1.5110 -0.3476 -0.0719  0.2291  4.1334 \n",
       "\n",
       "Coefficients:\n",
       "               Estimate Std. Error t value Pr(>|t|)    \n",
       "scale(nox)     -0.34045    0.04450  -7.651 1.03e-13 ***\n",
       "scale(crime)   -0.14328    0.03069  -4.669 3.89e-06 ***\n",
       "scale(rooms)    0.51389    0.03000  17.129  < 2e-16 ***\n",
       "scale(dist)    -0.23484    0.04298  -5.464 7.35e-08 ***\n",
       "scale(stratio) -0.27028    0.02994  -9.027  < 2e-16 ***\n",
       "---\n",
       "Signif. codes:  0 ‘***’ 0.001 ‘**’ 0.01 ‘*’ 0.05 ‘.’ 0.1 ‘ ’ 1\n",
       "\n",
       "Residual standard error: 0.606 on 501 degrees of freedom\n",
       "Multiple R-squared:  0.6357,\tAdjusted R-squared:  0.632 \n",
       "F-statistic: 174.8 on 5 and 501 DF,  p-value: < 2.2e-16\n"
      ]
     },
     "metadata": {},
     "output_type": "display_data"
    }
   ],
   "source": [
    "summary(housing_standardized)"
   ]
  },
  {
   "cell_type": "code",
   "execution_count": 8,
   "metadata": {
    "ExecuteTime": {
     "end_time": "2018-12-03T03:27:22.095219Z",
     "start_time": "2018-12-03T03:27:21.812Z"
    }
   },
   "outputs": [
    {
     "name": "stdout",
     "output_type": "stream",
     "text": [
      "\n",
      "============================================================================\n",
      "                                      Dependent variable:                   \n",
      "                    --------------------------------------------------------\n",
      "                                price                    scale(price)       \n",
      "                                 (1)                         (2)            \n",
      "----------------------------------------------------------------------------\n",
      "nox                  -2,706.43300*** (354.08690)                            \n",
      "crime                 -153.60100*** (32.92883)                              \n",
      "rooms                6,735.49800*** (393.60370)                             \n",
      "dist                 -1,026.80600*** (188.10790)                            \n",
      "stratio              -1,149.20400*** (127.42870)                            \n",
      "scale(nox)                                          -0.34045*** (0.04450)   \n",
      "scale(crime)                                        -0.14328*** (0.03069)   \n",
      "scale(rooms)                                         0.51389*** (0.03000)   \n",
      "scale(dist)                                         -0.23484*** (0.04298)   \n",
      "scale(stratio)                                      -0.27028*** (0.02994)   \n",
      "Constant            20,871.13000*** (5,054.59900)                           \n",
      "----------------------------------------------------------------------------\n",
      "Observations                     506                         506            \n",
      "R2                             0.63567                     0.63567          \n",
      "Adjusted R2                    0.63202                     0.63203          \n",
      "Residual Std. Error    5,586.19800 (df = 500)         0.60601 (df = 501)    \n",
      "F Statistic          174.47330*** (df = 5; 500)   174.82220*** (df = 5; 501)\n",
      "============================================================================\n",
      "Note:                                            *p<0.1; **p<0.05; ***p<0.01\n"
     ]
    }
   ],
   "source": [
    "\n",
    "\n",
    "stargazer(type = \"text\",housing_level, housing_standardized,  single.row = TRUE, header = FALSE, digits=5)"
   ]
  },
  {
   "cell_type": "code",
   "execution_count": 17,
   "metadata": {},
   "outputs": [
    {
     "data": {
      "text/plain": [
       "MODEL INFO:\n",
       "Observations: 506\n",
       "Dependent Variable: price\n",
       "Type: OLS linear regression \n",
       "\n",
       "MODEL FIT:\n",
       "F(5,500) = 174.47, p = 0.00\n",
       "R² = 0.64\n",
       "Adj. R² = 0.63 \n",
       "\n",
       "Standard errors: OLS\n",
       "------------------------------------------------------\n",
       "                        Est.      S.E.   t val.      p\n",
       "----------------- ---------- --------- -------- ------\n",
       "(Intercept)         20871.13   5054.60     4.13   0.00\n",
       "nox                 -2706.43    354.09    -7.64   0.00\n",
       "crime                -153.60     32.93    -4.66   0.00\n",
       "rooms                6735.50    393.60    17.11   0.00\n",
       "dist                -1026.81    188.11    -5.46   0.00\n",
       "stratio             -1149.20    127.43    -9.02   0.00\n",
       "------------------------------------------------------"
      ]
     },
     "metadata": {},
     "output_type": "display_data"
    }
   ],
   "source": [
    "jtools::summ(housing_level)"
   ]
  },
  {
   "cell_type": "code",
   "execution_count": 19,
   "metadata": {},
   "outputs": [
    {
     "data": {
      "text/plain": [
       "MODEL INFO:\n",
       "Observations: 506\n",
       "Dependent Variable: price\n",
       "Type: OLS linear regression \n",
       "\n",
       "MODEL FIT:\n",
       "F(5,500) = 174.47, p = 0.00\n",
       "R² = 0.64\n",
       "Adj. R² = 0.63 \n",
       "\n",
       "Standard errors: OLS\n",
       "-----------------------------------------------------\n",
       "                        Est.     S.E.   t val.      p\n",
       "----------------- ---------- -------- -------- ------\n",
       "(Intercept)         22511.51   248.34    90.65   0.00\n",
       "nox                 -3135.12   410.17    -7.64   0.00\n",
       "crime               -1319.47   282.87    -4.66   0.00\n",
       "rooms                4732.32   276.54    17.11   0.00\n",
       "dist                -2162.59   396.18    -5.46   0.00\n",
       "stratio             -2488.97   275.99    -9.02   0.00\n",
       "-----------------------------------------------------\n",
       "\n",
       "Continuous predictors are mean-centered and scaled by 1 s.d."
      ]
     },
     "metadata": {},
     "output_type": "display_data"
    }
   ],
   "source": [
    "jtools::summ(housing_level, scale = TRUE)"
   ]
  },
  {
   "cell_type": "code",
   "execution_count": 18,
   "metadata": {},
   "outputs": [
    {
     "data": {
      "text/plain": [
       "MODEL INFO:\n",
       "Observations: 506\n",
       "Dependent Variable: scale(price)\n",
       "Type: OLS linear regression \n",
       "\n",
       "MODEL FIT:\n",
       "F(5,501) = 174.82, p = 0.00\n",
       "R² = 0.64\n",
       "Adj. R² = 0.63 \n",
       "\n",
       "Standard errors: OLS\n",
       "---------------------------------------------------\n",
       "                        Est.   S.E.   t val.      p\n",
       "-------------------- ------- ------ -------- ------\n",
       "scale(nox)             -0.34   0.04    -7.65   0.00\n",
       "scale(crime)           -0.14   0.03    -4.67   0.00\n",
       "scale(rooms)            0.51   0.03    17.13   0.00\n",
       "scale(dist)            -0.23   0.04    -5.46   0.00\n",
       "scale(stratio)         -0.27   0.03    -9.03   0.00\n",
       "---------------------------------------------------"
      ]
     },
     "metadata": {},
     "output_type": "display_data"
    }
   ],
   "source": [
    "jtools::summ(housing_standardized)"
   ]
  },
  {
   "cell_type": "code",
   "execution_count": null,
   "metadata": {},
   "outputs": [],
   "source": []
  },
  {
   "cell_type": "code",
   "execution_count": null,
   "metadata": {},
   "outputs": [],
   "source": []
  },
  {
   "cell_type": "code",
   "execution_count": 15,
   "metadata": {},
   "outputs": [
    {
     "data": {},
     "metadata": {},
     "output_type": "display_data"
    },
    {
     "data": {
      "image/png": "[encoded data removed]",
      "text/plain": [
       "plot without title"
      ]
     },
     "metadata": {},
     "output_type": "display_data"
    }
   ],
   "source": [
    "jtools::plot_coefs(housing_level, scale = FALSE, plot.distributions = TRUE, inner_ci_level = .95)"
   ]
  },
  {
   "cell_type": "code",
   "execution_count": 14,
   "metadata": {},
   "outputs": [
    {
     "data": {},
     "metadata": {},
     "output_type": "display_data"
    },
    {
     "data": {
      "image/png": "[encoded data removed]",
      "text/plain": [
       "plot without title"
      ]
     },
     "metadata": {},
     "output_type": "display_data"
    }
   ],
   "source": [
    "jtools::plot_coefs(housing_level, scale = TRUE, plot.distributions = TRUE, inner_ci_level = .95)"
   ]
  },
  {
   "cell_type": "code",
   "execution_count": 16,
   "metadata": {},
   "outputs": [
    {
     "data": {},
     "metadata": {},
     "output_type": "display_data"
    },
    {
     "data": {
      "image/png": "[encoded data removed]",
      "text/plain": [
       "plot without title"
      ]
     },
     "metadata": {},
     "output_type": "display_data"
    }
   ],
   "source": [
    "jtools::plot_coefs(housing_standardized, scale = TRUE, plot.distributions = TRUE, inner_ci_level = .95)"
   ]
  },
  {
   "cell_type": "code",
   "execution_count": null,
   "metadata": {},
   "outputs": [],
   "source": []
  },
  {
   "cell_type": "code",
   "execution_count": null,
   "metadata": {},
   "outputs": [],
   "source": []
  },
  {
   "cell_type": "code",
   "execution_count": null,
   "metadata": {},
   "outputs": [],
   "source": []
  },
  {
   "cell_type": "markdown",
   "metadata": {},
   "source": [
    "# Example 6.2: Effects of Pollution on Housing Prices, Quadratic Interactive Term\n",
    "Modify the housing model from example 4.5, adding a quadratic term in rooms:\n",
    "\n",
    "$$log(price) = \\beta_0 + \\beta_1log(nox) + \\beta_2log(dist) + \\beta_3rooms + \\beta_4rooms^2 + \\beta_5stratio + \\mu$$\n",
    "\n",
    "\n",
    "The estimated change in yˆ for a given change in x (specifically, Δx) is given by the derivative of yˆ with respect to x, multiplied by the change in x. In this case, this is (β1ˆ+2β2ˆx)Δx. From this equation you can see that the effect on y of a change in x depends on the beginning value of x, as well as the magnitude of the change in x.\n",
    "\n",
    "\n",
    "\n",
    "\n",
    "    Example 6.2: Effect of Pollution on Housing Prices\n",
    "\n",
    "use http://fmwww.bc.edu/ec-p/data/wooldridge/hprice2\n",
    "\n",
    "gen rooms2=rooms*rooms\n",
    "\n",
    "gen ldist=log(dist)\n",
    "\n",
    "reg lprice lnox ldist rooms rooms2 stratio\n",
    "\n",
    "\n",
    "\n",
    "\n"
   ]
  },
  {
   "cell_type": "code",
   "execution_count": 18,
   "metadata": {},
   "outputs": [
    {
     "data": {
      "text/html": [
       "<table>\n",
       "<thead><tr><th scope=col>Res.Df</th><th scope=col>RSS</th><th scope=col>Df</th><th scope=col>Sum of Sq</th><th scope=col>F</th><th scope=col>Pr(&gt;F)</th></tr></thead>\n",
       "<tbody>\n",
       "\t<tr><td>502         </td><td>48.43305    </td><td>NA          </td><td>      NA    </td><td>      NA    </td><td>          NA</td></tr>\n",
       "\t<tr><td>500         </td><td>33.59498    </td><td> 2          </td><td>14.83807    </td><td>110.4188    </td><td>1.919325e-40</td></tr>\n",
       "</tbody>\n",
       "</table>\n"
      ],
      "text/latex": [
       "\\begin{tabular}{r|llllll}\n",
       " Res.Df & RSS & Df & Sum of Sq & F & Pr(>F)\\\\\n",
       "\\hline\n",
       "\t 502          & 48.43305     & NA           &       NA     &       NA     &           NA\\\\\n",
       "\t 500          & 33.59498     &  2           & 14.83807     & 110.4188     & 1.919325e-40\\\\\n",
       "\\end{tabular}\n"
      ],
      "text/markdown": [
       "\n",
       "Res.Df | RSS | Df | Sum of Sq | F | Pr(>F) | \n",
       "|---|---|\n",
       "| 502          | 48.43305     | NA           |       NA     |       NA     |           NA | \n",
       "| 500          | 33.59498     |  2           | 14.83807     | 110.4188     | 1.919325e-40 | \n",
       "\n",
       "\n"
      ],
      "text/plain": [
       "  Res.Df RSS      Df Sum of Sq F        Pr(>F)      \n",
       "1 502    48.43305 NA       NA        NA           NA\n",
       "2 500    33.59498  2 14.83807  110.4188 1.919325e-40"
      ]
     },
     "metadata": {},
     "output_type": "display_data"
    },
    {
     "data": {
      "text/html": [
       "<table>\n",
       "<thead><tr><th></th><th scope=col>Sum Sq</th><th scope=col>Df</th><th scope=col>F value</th><th scope=col>Pr(&gt;F)</th></tr></thead>\n",
       "<tbody>\n",
       "\t<tr><th scope=row>log(nox)</th><td> 4.1532032  </td><td>  1         </td><td> 61.81285   </td><td>2.340671e-14</td></tr>\n",
       "\t<tr><th scope=row>log(dist)</th><td> 0.2701272  </td><td>  1         </td><td>  4.02035   </td><td>4.549288e-02</td></tr>\n",
       "\t<tr><th scope=row>poly(rooms, 2, raw = TRUE)</th><td>14.8380674  </td><td>  2         </td><td>110.41878   </td><td>1.919325e-40</td></tr>\n",
       "\t<tr><th scope=row>stratio</th><td> 4.4402330  </td><td>  1         </td><td> 66.08477   </td><td>3.423303e-15</td></tr>\n",
       "\t<tr><th scope=row>Residuals</th><td>33.5949807  </td><td>500         </td><td>       NA   </td><td>          NA</td></tr>\n",
       "</tbody>\n",
       "</table>\n"
      ],
      "text/latex": [
       "\\begin{tabular}{r|llll}\n",
       "  & Sum Sq & Df & F value & Pr(>F)\\\\\n",
       "\\hline\n",
       "\tlog(nox) &  4.1532032   &   1          &  61.81285    & 2.340671e-14\\\\\n",
       "\tlog(dist) &  0.2701272   &   1          &   4.02035    & 4.549288e-02\\\\\n",
       "\tpoly(rooms, 2, raw = TRUE) & 14.8380674   &   2          & 110.41878    & 1.919325e-40\\\\\n",
       "\tstratio &  4.4402330   &   1          &  66.08477    & 3.423303e-15\\\\\n",
       "\tResiduals & 33.5949807   & 500          &        NA    &           NA\\\\\n",
       "\\end{tabular}\n"
      ],
      "text/markdown": [
       "\n",
       "| <!--/--> | Sum Sq | Df | F value | Pr(>F) | \n",
       "|---|---|---|---|---|\n",
       "| log(nox) |  4.1532032   |   1          |  61.81285    | 2.340671e-14 | \n",
       "| log(dist) |  0.2701272   |   1          |   4.02035    | 4.549288e-02 | \n",
       "| poly(rooms, 2, raw = TRUE) | 14.8380674   |   2          | 110.41878    | 1.919325e-40 | \n",
       "| stratio |  4.4402330   |   1          |  66.08477    | 3.423303e-15 | \n",
       "| Residuals | 33.5949807   | 500          |        NA    |           NA | \n",
       "\n",
       "\n"
      ],
      "text/plain": [
       "                           Sum Sq     Df  F value   Pr(>F)      \n",
       "log(nox)                    4.1532032   1  61.81285 2.340671e-14\n",
       "log(dist)                   0.2701272   1   4.02035 4.549288e-02\n",
       "poly(rooms, 2, raw = TRUE) 14.8380674   2 110.41878 1.919325e-40\n",
       "stratio                     4.4402330   1  66.08477 3.423303e-15\n",
       "Residuals                  33.5949807 500        NA           NA"
      ]
     },
     "metadata": {},
     "output_type": "display_data"
    }
   ],
   "source": [
    "library(car)\n",
    "data(hprice2, package='wooldridge')\n",
    "res <- lm(log(price)~log(nox)+log(dist)+poly(rooms,2,raw=TRUE)+\n",
    "           stratio,data=hprice2)\n",
    "\n",
    "# Manual F test for rooms:\n",
    "linearHypothesis(res, matchCoefs(res,\"rooms\"))\n",
    "\n",
    "# ANOVA (type 2) table:\n",
    "Anova(res)"
   ]
  },
  {
   "cell_type": "code",
   "execution_count": null,
   "metadata": {},
   "outputs": [],
   "source": []
  },
  {
   "cell_type": "code",
   "execution_count": 17,
   "metadata": {},
   "outputs": [
    {
     "data": {
      "text/plain": [
       "\n",
       "Call:\n",
       "lm(formula = log(price) ~ log(nox) + log(dist) + rooms + I(rooms^2) + \n",
       "    stratio, data = hprice2)\n",
       "\n",
       "Residuals:\n",
       "     Min       1Q   Median       3Q      Max \n",
       "-1.04285 -0.12774  0.02038  0.12650  1.25272 \n",
       "\n",
       "Coefficients:\n",
       "             Estimate Std. Error t value Pr(>|t|)    \n",
       "(Intercept) 13.385477   0.566473  23.630  < 2e-16 ***\n",
       "log(nox)    -0.901682   0.114687  -7.862 2.34e-14 ***\n",
       "log(dist)   -0.086781   0.043281  -2.005  0.04549 *  \n",
       "rooms       -0.545113   0.165454  -3.295  0.00106 ** \n",
       "I(rooms^2)   0.062261   0.012805   4.862 1.56e-06 ***\n",
       "stratio     -0.047590   0.005854  -8.129 3.42e-15 ***\n",
       "---\n",
       "Signif. codes:  0 ‘***’ 0.001 ‘**’ 0.01 ‘*’ 0.05 ‘.’ 0.1 ‘ ’ 1\n",
       "\n",
       "Residual standard error: 0.2592 on 500 degrees of freedom\n",
       "Multiple R-squared:  0.6028,\tAdjusted R-squared:  0.5988 \n",
       "F-statistic: 151.8 on 5 and 500 DF,  p-value: < 2.2e-16\n"
      ]
     },
     "metadata": {},
     "output_type": "display_data"
    },
    {
     "data": {
      "text/plain": [
       "\n",
       "Call:\n",
       "lm(formula = log(price) ~ log(nox) + log(dist) + poly(rooms, \n",
       "    2, raw = TRUE) + stratio, data = hprice2)\n",
       "\n",
       "Residuals:\n",
       "     Min       1Q   Median       3Q      Max \n",
       "-1.04285 -0.12774  0.02038  0.12650  1.25272 \n",
       "\n",
       "Coefficients:\n",
       "                             Estimate Std. Error t value Pr(>|t|)    \n",
       "(Intercept)                 13.385477   0.566473  23.630  < 2e-16 ***\n",
       "log(nox)                    -0.901682   0.114687  -7.862 2.34e-14 ***\n",
       "log(dist)                   -0.086781   0.043281  -2.005  0.04549 *  \n",
       "poly(rooms, 2, raw = TRUE)1 -0.545113   0.165454  -3.295  0.00106 ** \n",
       "poly(rooms, 2, raw = TRUE)2  0.062261   0.012805   4.862 1.56e-06 ***\n",
       "stratio                     -0.047590   0.005854  -8.129 3.42e-15 ***\n",
       "---\n",
       "Signif. codes:  0 ‘***’ 0.001 ‘**’ 0.01 ‘*’ 0.05 ‘.’ 0.1 ‘ ’ 1\n",
       "\n",
       "Residual standard error: 0.2592 on 500 degrees of freedom\n",
       "Multiple R-squared:  0.6028,\tAdjusted R-squared:  0.5988 \n",
       "F-statistic: 151.8 on 5 and 500 DF,  p-value: < 2.2e-16\n"
      ]
     },
     "metadata": {},
     "output_type": "display_data"
    }
   ],
   "source": [
    "data(hprice2, package='wooldridge')\n",
    "\n",
    "res <- lm(log(price)~log(nox)+log(dist)+rooms+I(rooms^2)+\n",
    "           stratio,data=hprice2)\n",
    "summary(res)\n",
    "\n",
    "# Using poly(...):\n",
    "res <- lm(log(price)~log(nox)+log(dist)+poly(rooms,2,raw=TRUE)+\n",
    "           stratio,data=hprice2)\n",
    "summary(res)"
   ]
  },
  {
   "cell_type": "code",
   "execution_count": null,
   "metadata": {},
   "outputs": [],
   "source": []
  },
  {
   "cell_type": "code",
   "execution_count": 9,
   "metadata": {
    "ExecuteTime": {
     "end_time": "2018-12-03T03:27:51.102756Z",
     "start_time": "2018-12-03T03:27:51.081Z"
    }
   },
   "outputs": [],
   "source": [
    "housing_model_4.5 <- lm(lprice ~ lnox + log(dist) + rooms + stratio, data = hprice2)\n",
    "\n",
    "housing_model_6.2 <- lm(lprice ~ lnox + log(dist) + rooms + I(rooms^2) + stratio, \n",
    "                        data = hprice2)"
   ]
  },
  {
   "cell_type": "code",
   "execution_count": 10,
   "metadata": {
    "ExecuteTime": {
     "end_time": "2018-12-03T03:28:06.423400Z",
     "start_time": "2018-12-03T03:28:06.395Z"
    }
   },
   "outputs": [
    {
     "data": {
      "text/plain": [
       "\n",
       "Call:\n",
       "lm(formula = lprice ~ lnox + log(dist) + rooms + stratio, data = hprice2)\n",
       "\n",
       "Residuals:\n",
       "     Min       1Q   Median       3Q      Max \n",
       "-1.05890 -0.12427  0.02128  0.12882  1.32531 \n",
       "\n",
       "Coefficients:\n",
       "             Estimate Std. Error t value Pr(>|t|)    \n",
       "(Intercept) 11.083862   0.318111  34.843  < 2e-16 ***\n",
       "lnox        -0.953539   0.116742  -8.168 2.57e-15 ***\n",
       "log(dist)   -0.134339   0.043103  -3.117  0.00193 ** \n",
       "rooms        0.254527   0.018530  13.736  < 2e-16 ***\n",
       "stratio     -0.052451   0.005897  -8.894  < 2e-16 ***\n",
       "---\n",
       "Signif. codes:  0 ‘***’ 0.001 ‘**’ 0.01 ‘*’ 0.05 ‘.’ 0.1 ‘ ’ 1\n",
       "\n",
       "Residual standard error: 0.265 on 501 degrees of freedom\n",
       "Multiple R-squared:  0.584,\tAdjusted R-squared:  0.5807 \n",
       "F-statistic: 175.9 on 4 and 501 DF,  p-value: < 2.2e-16\n"
      ]
     },
     "metadata": {},
     "output_type": "display_data"
    }
   ],
   "source": [
    "summary(housing_model_4.5)\n"
   ]
  },
  {
   "cell_type": "code",
   "execution_count": 11,
   "metadata": {
    "ExecuteTime": {
     "end_time": "2018-12-03T03:28:06.629500Z",
     "start_time": "2018-12-03T03:28:06.603Z"
    }
   },
   "outputs": [
    {
     "data": {
      "text/plain": [
       "\n",
       "Call:\n",
       "lm(formula = lprice ~ lnox + log(dist) + rooms + I(rooms^2) + \n",
       "    stratio, data = hprice2)\n",
       "\n",
       "Residuals:\n",
       "     Min       1Q   Median       3Q      Max \n",
       "-1.04285 -0.12774  0.02038  0.12650  1.25272 \n",
       "\n",
       "Coefficients:\n",
       "             Estimate Std. Error t value Pr(>|t|)    \n",
       "(Intercept) 13.385478   0.566473  23.630  < 2e-16 ***\n",
       "lnox        -0.901682   0.114687  -7.862 2.34e-14 ***\n",
       "log(dist)   -0.086781   0.043281  -2.005  0.04549 *  \n",
       "rooms       -0.545113   0.165454  -3.295  0.00106 ** \n",
       "I(rooms^2)   0.062261   0.012805   4.862 1.56e-06 ***\n",
       "stratio     -0.047590   0.005854  -8.129 3.42e-15 ***\n",
       "---\n",
       "Signif. codes:  0 ‘***’ 0.001 ‘**’ 0.01 ‘*’ 0.05 ‘.’ 0.1 ‘ ’ 1\n",
       "\n",
       "Residual standard error: 0.2592 on 500 degrees of freedom\n",
       "Multiple R-squared:  0.6028,\tAdjusted R-squared:  0.5988 \n",
       "F-statistic: 151.8 on 5 and 500 DF,  p-value: < 2.2e-16\n"
      ]
     },
     "metadata": {},
     "output_type": "display_data"
    }
   ],
   "source": [
    "summary(housing_model_6.2)"
   ]
  },
  {
   "cell_type": "code",
   "execution_count": 12,
   "metadata": {},
   "outputs": [
    {
     "name": "stdout",
     "output_type": "stream",
     "text": [
      "\n",
      "=========================================================================\n",
      "                                     Dependent variable:                 \n",
      "                    -----------------------------------------------------\n",
      "                                           lprice                        \n",
      "                               (1)                        (2)            \n",
      "-------------------------------------------------------------------------\n",
      "lnox                  -0.95354*** (0.11674)      -0.90168*** (0.11469)   \n",
      "log(dist)             -0.13434*** (0.04310)       -0.08678** (0.04328)   \n",
      "rooms                  0.25453*** (0.01853)      -0.54511*** (0.16545)   \n",
      "I(rooms2)                                         0.06226*** (0.01280)   \n",
      "stratio               -0.05245*** (0.00590)      -0.04759*** (0.00585)   \n",
      "Constant              11.08386*** (0.31811)      13.38548*** (0.56647)   \n",
      "-------------------------------------------------------------------------\n",
      "Observations                   506                        506            \n",
      "R2                           0.58403                    0.60281          \n",
      "Adjusted R2                  0.58071                    0.59884          \n",
      "Residual Std. Error     0.26500 (df = 501)         0.25921 (df = 500)    \n",
      "F Statistic         175.85520*** (df = 4; 501) 151.77040*** (df = 5; 500)\n",
      "=========================================================================\n",
      "Note:                                         *p<0.1; **p<0.05; ***p<0.01\n"
     ]
    }
   ],
   "source": [
    "stargazer(type = \"text\",housing_model_4.5, housing_model_6.2,  single.row = TRUE, header = FALSE, digits=5)"
   ]
  },
  {
   "cell_type": "code",
   "execution_count": null,
   "metadata": {},
   "outputs": [],
   "source": []
  },
  {
   "cell_type": "markdown",
   "metadata": {},
   "source": [
    "Estimate the minimum turning point at which the rooms interactive term changes from negative to positive.\n",
    "\n",
    "$$x = \\frac{\\hat{\\beta_1}}{2\\hat{\\beta_2}}$$\n",
    "\n"
   ]
  },
  {
   "cell_type": "code",
   "execution_count": 13,
   "metadata": {
    "ExecuteTime": {
     "end_time": "2018-12-03T03:28:37.440541Z",
     "start_time": "2018-12-03T03:28:37.417Z"
    }
   },
   "outputs": [
    {
     "name": "stdout",
     "output_type": "stream",
     "text": [
      "[1] 4.37763\n"
     ]
    }
   ],
   "source": [
    "beta_1 <- summary(housing_model_6.2)$coefficients[\"rooms\",1] \n",
    "beta_2 <- summary(housing_model_6.2)$coefficients[\"I(rooms^2)\",1]\n",
    "turning_point <- abs(beta_1 / (2*beta_2))\n",
    "\n",
    "print(turning_point)"
   ]
  },
  {
   "cell_type": "code",
   "execution_count": 13,
   "metadata": {
    "ExecuteTime": {
     "end_time": "2018-12-03T03:29:41.991125Z",
     "start_time": "2018-12-03T03:29:41.950Z"
    }
   },
   "outputs": [
    {
     "data": {
      "text/plain": [
       "\n",
       "\n",
       "|   Rooms| Percent.Change|\n",
       "|-------:|--------------:|\n",
       "| 3.56000|     -10.181324|\n",
       "| 4.00000|      -4.702338|\n",
       "| 4.37763|       0.000000|\n",
       "| 5.00000|       7.749903|\n",
       "| 5.50000|      13.976023|\n",
       "| 6.45000|      25.805651|\n",
       "| 7.50000|      38.880503|\n",
       "| 8.78000|      54.819367|"
      ]
     },
     "metadata": {},
     "output_type": "display_data"
    }
   ],
   "source": [
    "#Compute the percent change across a range of average rooms. Include the smallest, turning point, and largest.\n",
    "\n",
    "Rooms <- c(min(hprice2$rooms), 4, turning_point, 5, 5.5, 6.45, 7.5, max(hprice2$rooms))\n",
    "Percent.Change <- 100*(beta_1 + 2*beta_2*Rooms)\n",
    "\n",
    "kable(data.frame(Rooms, Percent.Change))\n",
    "from <- min(hprice2$rooms)\n",
    "to <- max(hprice2$rooms)\n",
    "rooms <- seq(from=from, to =to, by = ((to - from)/(NROW(hprice2)-1)))\n",
    "quadratic <- abs(100*summary(housing_model_6.2)$coefficients[\"rooms\",1] + 200*summary(housing_model_6.2)$coefficients[\"I(rooms^2)\",1]*rooms)\n",
    "\n",
    "housing_model_frame <- model.frame(housing_model_6.2)\n",
    "\n",
    "housing_sq <- abs(beta_1*housing_model_frame[,\"rooms\"]) + \n",
    "              beta_2*housing_model_frame[,\"I(rooms^2)\"]\n",
    "\n",
    "#plot(y=hprice2$lprice, x=housing_sq)"
   ]
  },
  {
   "cell_type": "code",
   "execution_count": 14,
   "metadata": {
    "ExecuteTime": {
     "end_time": "2018-12-03T03:30:02.127360Z",
     "start_time": "2018-12-03T03:30:01.964Z"
    }
   },
   "outputs": [
    {
     "data": {
      "image/png": "[encoded data removed]",
      "text/plain": [
       "Plot with title \"lprice ~ rooms + I(rooms^2)\""
      ]
     },
     "metadata": {},
     "output_type": "display_data"
    }
   ],
   "source": [
    "# Graph the log of the selling price against the number of rooms. Superimpose a simple model as well as a quadratic model and examine the difference.\n",
    "\n",
    "rooms_interaction <- lm(lprice ~ rooms + I(rooms^2), data = hprice2)\n",
    "\n",
    "par(mfrow=c(1,2))\n",
    "\n",
    "plot(y = hprice2$lprice, x = hprice2$rooms, xaxt=\"n\", pch = 21, bg = \"lightgrey\",\n",
    "     frame = FALSE, main = \"lprice ~ rooms\", xlab = \"Rooms\", ylab = \"\")\n",
    "mtext(side=2, line=2, \"Log( selling price )\", cex=1.25)\n",
    "axis(side = 1, at = c(min(hprice2$rooms), 4, 5, 6, 7, 8, max(hprice2$rooms)))\n",
    "abline(lm(lprice ~ rooms, data = hprice2), col=\"red\", lwd=2.5)\n",
    "\n",
    "plot(y = hprice2$lprice, x = hprice2$rooms, xaxt=\"n\", pch = 21, bg = \"lightgrey\",\n",
    "     frame = FALSE, main = \"lprice ~ rooms + I(rooms^2)\", xlab = \"Rooms\", ylab = \" \")\n",
    "axis(side = 1, at = c(min(hprice2$rooms), 4, 5, 6, 7, 8, max(hprice2$rooms)))\n",
    "lines(sort(hprice2$rooms), sort(fitted(rooms_interaction)), col = \"red\", lwd=2.5)"
   ]
  },
  {
   "cell_type": "code",
   "execution_count": 9,
   "metadata": {},
   "outputs": [
    {
     "name": "stderr",
     "output_type": "stream",
     "text": [
      "Loading required package: carData\n",
      "\n",
      "Attaching package: ‘car’\n",
      "\n",
      "The following object is masked from ‘package:FSA’:\n",
      "\n",
      "    bootCase\n",
      "\n",
      "The following object is masked from ‘package:dplyr’:\n",
      "\n",
      "    recode\n",
      "\n",
      "The following object is masked from ‘package:purrr’:\n",
      "\n",
      "    some\n",
      "\n"
     ]
    },
    {
     "data": {
      "text/html": [
       "<table>\n",
       "<thead><tr><th scope=col>Res.Df</th><th scope=col>RSS</th><th scope=col>Df</th><th scope=col>Sum of Sq</th><th scope=col>F</th><th scope=col>Pr(&gt;F)</th></tr></thead>\n",
       "<tbody>\n",
       "\t<tr><td>502         </td><td>48.43305    </td><td>NA          </td><td>      NA    </td><td>      NA    </td><td>          NA</td></tr>\n",
       "\t<tr><td>500         </td><td>33.59498    </td><td> 2          </td><td>14.83807    </td><td>110.4188    </td><td>1.919325e-40</td></tr>\n",
       "</tbody>\n",
       "</table>\n"
      ],
      "text/latex": [
       "\\begin{tabular}{r|llllll}\n",
       " Res.Df & RSS & Df & Sum of Sq & F & Pr(>F)\\\\\n",
       "\\hline\n",
       "\t 502          & 48.43305     & NA           &       NA     &       NA     &           NA\\\\\n",
       "\t 500          & 33.59498     &  2           & 14.83807     & 110.4188     & 1.919325e-40\\\\\n",
       "\\end{tabular}\n"
      ],
      "text/markdown": [
       "\n",
       "Res.Df | RSS | Df | Sum of Sq | F | Pr(>F) | \n",
       "|---|---|\n",
       "| 502          | 48.43305     | NA           |       NA     |       NA     |           NA | \n",
       "| 500          | 33.59498     |  2           | 14.83807     | 110.4188     | 1.919325e-40 | \n",
       "\n",
       "\n"
      ],
      "text/plain": [
       "  Res.Df RSS      Df Sum of Sq F        Pr(>F)      \n",
       "1 502    48.43305 NA       NA        NA           NA\n",
       "2 500    33.59498  2 14.83807  110.4188 1.919325e-40"
      ]
     },
     "metadata": {},
     "output_type": "display_data"
    },
    {
     "data": {
      "text/html": [
       "<table>\n",
       "<thead><tr><th></th><th scope=col>Sum Sq</th><th scope=col>Df</th><th scope=col>F value</th><th scope=col>Pr(&gt;F)</th></tr></thead>\n",
       "<tbody>\n",
       "\t<tr><th scope=row>log(nox)</th><td> 4.1532032  </td><td>  1         </td><td> 61.81285   </td><td>2.340671e-14</td></tr>\n",
       "\t<tr><th scope=row>log(dist)</th><td> 0.2701272  </td><td>  1         </td><td>  4.02035   </td><td>4.549288e-02</td></tr>\n",
       "\t<tr><th scope=row>poly(rooms, 2, raw = TRUE)</th><td>14.8380674  </td><td>  2         </td><td>110.41878   </td><td>1.919325e-40</td></tr>\n",
       "\t<tr><th scope=row>stratio</th><td> 4.4402330  </td><td>  1         </td><td> 66.08477   </td><td>3.423303e-15</td></tr>\n",
       "\t<tr><th scope=row>Residuals</th><td>33.5949807  </td><td>500         </td><td>       NA   </td><td>          NA</td></tr>\n",
       "</tbody>\n",
       "</table>\n"
      ],
      "text/latex": [
       "\\begin{tabular}{r|llll}\n",
       "  & Sum Sq & Df & F value & Pr(>F)\\\\\n",
       "\\hline\n",
       "\tlog(nox) &  4.1532032   &   1          &  61.81285    & 2.340671e-14\\\\\n",
       "\tlog(dist) &  0.2701272   &   1          &   4.02035    & 4.549288e-02\\\\\n",
       "\tpoly(rooms, 2, raw = TRUE) & 14.8380674   &   2          & 110.41878    & 1.919325e-40\\\\\n",
       "\tstratio &  4.4402330   &   1          &  66.08477    & 3.423303e-15\\\\\n",
       "\tResiduals & 33.5949807   & 500          &        NA    &           NA\\\\\n",
       "\\end{tabular}\n"
      ],
      "text/markdown": [
       "\n",
       "| <!--/--> | Sum Sq | Df | F value | Pr(>F) | \n",
       "|---|---|---|---|---|\n",
       "| log(nox) |  4.1532032   |   1          |  61.81285    | 2.340671e-14 | \n",
       "| log(dist) |  0.2701272   |   1          |   4.02035    | 4.549288e-02 | \n",
       "| poly(rooms, 2, raw = TRUE) | 14.8380674   |   2          | 110.41878    | 1.919325e-40 | \n",
       "| stratio |  4.4402330   |   1          |  66.08477    | 3.423303e-15 | \n",
       "| Residuals | 33.5949807   | 500          |        NA    |           NA | \n",
       "\n",
       "\n"
      ],
      "text/plain": [
       "                           Sum Sq     Df  F value   Pr(>F)      \n",
       "log(nox)                    4.1532032   1  61.81285 2.340671e-14\n",
       "log(dist)                   0.2701272   1   4.02035 4.549288e-02\n",
       "poly(rooms, 2, raw = TRUE) 14.8380674   2 110.41878 1.919325e-40\n",
       "stratio                     4.4402330   1  66.08477 3.423303e-15\n",
       "Residuals                  33.5949807 500        NA           NA"
      ]
     },
     "metadata": {},
     "output_type": "display_data"
    }
   ],
   "source": [
    "library(car)\n",
    "data(hprice2, package='wooldridge')\n",
    "res <- lm(log(price)~log(nox)+log(dist)+poly(rooms,2,raw=TRUE)+\n",
    "           stratio,data=hprice2)\n",
    "\n",
    "# Manual F test for rooms:\n",
    "linearHypothesis(res, matchCoefs(res,\"rooms\"))\n",
    "\n",
    "# ANOVA (type 2) table:\n",
    "Anova(res)"
   ]
  },
  {
   "cell_type": "markdown",
   "metadata": {},
   "source": [
    "## Example-6-3\n",
    "\n",
    "This example looks at interaction terms. note that you have to use the print command since R will not return this line of code otherwise - and calculate an F-test via anova. The last line gives thee marginal effect of the attendance rate on the outcome variable.\n",
    "\n",
    "\n",
    "The problem with this coefficient is that there is no standard error for it. This is achieved by demeaning the second variable of the interaction term and estimating the model again.\n",
    "\n",
    "\n",
    "\n",
    "\n",
    "    Example 6.3: Effect of Attendance on Final Exam Performance\n",
    "\n",
    "use http://fmwww.bc.edu/ec-p/data/wooldridge/attend\n",
    "\n",
    "summ priGPA\n",
    "\n",
    "\n",
    "gen priGPA2=priGPA*priGPA\n",
    "\n",
    "gen ACT2=ACT*ACT\n",
    "\n",
    "gen priatn=priGPA*atndrte\n",
    "\n",
    "reg stndfnl atndrte priGPA ACT priGPA2 ACT2 priatn\n",
    "\n",
    "    Partial effect of atndrte on stndfnl\n",
    "\n",
    "display _b[atndrte]+_b[priatn]*2.59\n"
   ]
  },
  {
   "cell_type": "code",
   "execution_count": 19,
   "metadata": {},
   "outputs": [
    {
     "data": {
      "text/plain": [
       "\n",
       "Call:\n",
       "lm(formula = stndfnl ~ atndrte * priGPA + ACT + I(priGPA^2) + \n",
       "    I(ACT^2), data = attend)\n",
       "\n",
       "Coefficients:\n",
       "   (Intercept)         atndrte          priGPA             ACT     I(priGPA^2)  \n",
       "      2.050293       -0.006713       -1.628540       -0.128039        0.295905  \n",
       "      I(ACT^2)  atndrte:priGPA  \n",
       "      0.004533        0.005586  \n"
      ]
     },
     "metadata": {},
     "output_type": "display_data"
    },
    {
     "data": {
      "text/html": [
       "<strong>atndrte:</strong> 0.00775457222860875"
      ],
      "text/latex": [
       "\\textbf{atndrte:} 0.00775457222860875"
      ],
      "text/markdown": [
       "**atndrte:** 0.00775457222860875"
      ],
      "text/plain": [
       "    atndrte \n",
       "0.007754572 "
      ]
     },
     "metadata": {},
     "output_type": "display_data"
    },
    {
     "data": {
      "text/html": [
       "<table>\n",
       "<thead><tr><th scope=col>Res.Df</th><th scope=col>RSS</th><th scope=col>Df</th><th scope=col>Sum of Sq</th><th scope=col>F</th><th scope=col>Pr(&gt;F)</th></tr></thead>\n",
       "<tbody>\n",
       "\t<tr><td>674        </td><td>519.3398   </td><td>NA         </td><td>      NA   </td><td>      NA   </td><td>         NA</td></tr>\n",
       "\t<tr><td>673        </td><td>512.7625   </td><td> 1         </td><td>6.577213   </td><td>8.632581   </td><td>0.003414992</td></tr>\n",
       "</tbody>\n",
       "</table>\n"
      ],
      "text/latex": [
       "\\begin{tabular}{r|llllll}\n",
       " Res.Df & RSS & Df & Sum of Sq & F & Pr(>F)\\\\\n",
       "\\hline\n",
       "\t 674         & 519.3398    & NA          &       NA    &       NA    &          NA\\\\\n",
       "\t 673         & 512.7625    &  1          & 6.577213    & 8.632581    & 0.003414992\\\\\n",
       "\\end{tabular}\n"
      ],
      "text/markdown": [
       "\n",
       "Res.Df | RSS | Df | Sum of Sq | F | Pr(>F) | \n",
       "|---|---|\n",
       "| 674         | 519.3398    | NA          |       NA    |       NA    |          NA | \n",
       "| 673         | 512.7625    |  1          | 6.577213    | 8.632581    | 0.003414992 | \n",
       "\n",
       "\n"
      ],
      "text/plain": [
       "  Res.Df RSS      Df Sum of Sq F        Pr(>F)     \n",
       "1 674    519.3398 NA       NA        NA          NA\n",
       "2 673    512.7625  1 6.577213  8.632581 0.003414992"
      ]
     },
     "metadata": {},
     "output_type": "display_data"
    }
   ],
   "source": [
    "data(attend, package='wooldridge')\n",
    "\n",
    "# Estimate model with interaction effect:\n",
    "(myres<-lm(stndfnl~atndrte*priGPA+ACT+I(priGPA^2)+I(ACT^2), data=attend))\n",
    "\n",
    "# Estimate for partial effect at priGPA=2.59:\n",
    "b <- coef(myres)\n",
    "b[\"atndrte\"] + 2.59*b[\"atndrte:priGPA\"] \n",
    "\n",
    "# Test partial effect for priGPA=2.59:\n",
    "library(car)\n",
    "linearHypothesis(myres,c(\"atndrte+2.59*atndrte:priGPA\"))"
   ]
  },
  {
   "cell_type": "code",
   "execution_count": 20,
   "metadata": {},
   "outputs": [
    {
     "data": {
      "text/html": [
       "<table>\n",
       "<thead><tr><th scope=col>Res.Df</th><th scope=col>RSS</th><th scope=col>Df</th><th scope=col>Sum of Sq</th><th scope=col>F</th><th scope=col>Pr(&gt;F)</th></tr></thead>\n",
       "<tbody>\n",
       "\t<tr><td>674        </td><td>519.3398   </td><td>NA         </td><td>      NA   </td><td>      NA   </td><td>         NA</td></tr>\n",
       "\t<tr><td>673        </td><td>512.7625   </td><td> 1         </td><td>6.577213   </td><td>8.632581   </td><td>0.003414992</td></tr>\n",
       "</tbody>\n",
       "</table>\n"
      ],
      "text/latex": [
       "\\begin{tabular}{r|llllll}\n",
       " Res.Df & RSS & Df & Sum of Sq & F & Pr(>F)\\\\\n",
       "\\hline\n",
       "\t 674         & 519.3398    & NA          &       NA    &       NA    &          NA\\\\\n",
       "\t 673         & 512.7625    &  1          & 6.577213    & 8.632581    & 0.003414992\\\\\n",
       "\\end{tabular}\n"
      ],
      "text/markdown": [
       "\n",
       "Res.Df | RSS | Df | Sum of Sq | F | Pr(>F) | \n",
       "|---|---|\n",
       "| 674         | 519.3398    | NA          |       NA    |       NA    |          NA | \n",
       "| 673         | 512.7625    |  1          | 6.577213    | 8.632581    | 0.003414992 | \n",
       "\n",
       "\n"
      ],
      "text/plain": [
       "  Res.Df RSS      Df Sum of Sq F        Pr(>F)     \n",
       "1 674    519.3398 NA       NA        NA          NA\n",
       "2 673    512.7625  1 6.577213  8.632581 0.003414992"
      ]
     },
     "metadata": {},
     "output_type": "display_data"
    }
   ],
   "source": [
    "linearHypothesis(myres,c(\"atndrte+2.59*atndrte:priGPA = 0\"))"
   ]
  },
  {
   "cell_type": "code",
   "execution_count": 48,
   "metadata": {},
   "outputs": [
    {
     "data": {
      "text/plain": [
       "\n",
       "Call:\n",
       "lm(formula = stndfnl ~ atndrte + priGPA + ACT + I(priGPA^2) + \n",
       "    I(ACT^2) + I(priGPA * atndrte), data = attend)\n",
       "\n",
       "Residuals:\n",
       "    Min      1Q  Median      3Q     Max \n",
       "-3.1698 -0.5316 -0.0177  0.5737  2.3344 \n",
       "\n",
       "Coefficients:\n",
       "                     Estimate Std. Error t value Pr(>|t|)    \n",
       "(Intercept)          2.050293   1.360319   1.507 0.132225    \n",
       "atndrte             -0.006713   0.010232  -0.656 0.512005    \n",
       "priGPA              -1.628540   0.481003  -3.386 0.000751 ***\n",
       "ACT                 -0.128039   0.098492  -1.300 0.194047    \n",
       "I(priGPA^2)          0.295905   0.101049   2.928 0.003523 ** \n",
       "I(ACT^2)             0.004533   0.002176   2.083 0.037634 *  \n",
       "I(priGPA * atndrte)  0.005586   0.004317   1.294 0.196173    \n",
       "---\n",
       "Signif. codes:  0 ‘***’ 0.001 ‘**’ 0.01 ‘*’ 0.05 ‘.’ 0.1 ‘ ’ 1\n",
       "\n",
       "Residual standard error: 0.8729 on 673 degrees of freedom\n",
       "Multiple R-squared:  0.2287,\tAdjusted R-squared:  0.2218 \n",
       "F-statistic: 33.25 on 6 and 673 DF,  p-value: < 2.2e-16\n"
      ]
     },
     "metadata": {},
     "output_type": "display_data"
    }
   ],
   "source": [
    "data(\"attend\")\n",
    "\n",
    "lm.1 <- lm(stndfnl ~ atndrte + priGPA + ACT + I(priGPA^2) + I(ACT^2) + I(priGPA*atndrte), data = attend)\n",
    "lm.2 <- lm(stndfnl ~ priGPA + ACT + I(priGPA^2) + I(ACT^2), data = attend)\n",
    "summary(lm.1)"
   ]
  },
  {
   "cell_type": "code",
   "execution_count": 49,
   "metadata": {},
   "outputs": [
    {
     "data": {
      "text/html": [
       "<table>\n",
       "<thead><tr><th scope=col>Res.Df</th><th scope=col>RSS</th><th scope=col>Df</th><th scope=col>Sum of Sq</th><th scope=col>F</th><th scope=col>Pr(&gt;F)</th></tr></thead>\n",
       "<tbody>\n",
       "\t<tr><td>673       </td><td>512.7625  </td><td>NA        </td><td>       NA </td><td>      NA  </td><td>        NA</td></tr>\n",
       "\t<tr><td>675       </td><td>519.3439  </td><td>-2        </td><td>-6.581375 </td><td>4.319022  </td><td>0.01368385</td></tr>\n",
       "</tbody>\n",
       "</table>\n"
      ],
      "text/latex": [
       "\\begin{tabular}{r|llllll}\n",
       " Res.Df & RSS & Df & Sum of Sq & F & Pr(>F)\\\\\n",
       "\\hline\n",
       "\t 673        & 512.7625   & NA         &        NA  &       NA   &         NA\\\\\n",
       "\t 675        & 519.3439   & -2         & -6.581375  & 4.319022   & 0.01368385\\\\\n",
       "\\end{tabular}\n"
      ],
      "text/markdown": [
       "\n",
       "Res.Df | RSS | Df | Sum of Sq | F | Pr(>F) | \n",
       "|---|---|\n",
       "| 673        | 512.7625   | NA         |        NA  |       NA   |         NA | \n",
       "| 675        | 519.3439   | -2         | -6.581375  | 4.319022   | 0.01368385 | \n",
       "\n",
       "\n"
      ],
      "text/plain": [
       "  Res.Df RSS      Df Sum of Sq F        Pr(>F)    \n",
       "1 673    512.7625 NA        NA       NA         NA\n",
       "2 675    519.3439 -2 -6.581375 4.319022 0.01368385"
      ]
     },
     "metadata": {},
     "output_type": "display_data"
    }
   ],
   "source": [
    "anova(lm.1, lm.2)"
   ]
  },
  {
   "cell_type": "code",
   "execution_count": 51,
   "metadata": {},
   "outputs": [
    {
     "data": {
      "text/html": [
       "<strong>atndrte:</strong> 0.022186042848394"
      ],
      "text/latex": [
       "\\textbf{atndrte:} 0.022186042848394"
      ],
      "text/markdown": [
       "**atndrte:** 0.022186042848394"
      ],
      "text/plain": [
       "   atndrte \n",
       "0.02218604 "
      ]
     },
     "metadata": {},
     "output_type": "display_data"
    }
   ],
   "source": [
    "lm.1$coefficients[2] + mean(attend$priGPA) * lm.1$coefficient[7]"
   ]
  },
  {
   "cell_type": "code",
   "execution_count": 53,
   "metadata": {},
   "outputs": [
    {
     "data": {
      "text/html": [
       "<table>\n",
       "<thead><tr><th scope=col>Res.Df</th><th scope=col>Df</th><th scope=col>F</th><th scope=col>Pr(&gt;F)</th></tr></thead>\n",
       "<tbody>\n",
       "\t<tr><td>674        </td><td>NA         </td><td>      NA   </td><td>         NA</td></tr>\n",
       "\t<tr><td>673        </td><td> 1         </td><td>9.651913   </td><td>0.001971109</td></tr>\n",
       "</tbody>\n",
       "</table>\n"
      ],
      "text/latex": [
       "\\begin{tabular}{r|llll}\n",
       " Res.Df & Df & F & Pr(>F)\\\\\n",
       "\\hline\n",
       "\t 674         & NA          &       NA    &          NA\\\\\n",
       "\t 673         &  1          & 9.651913    & 0.001971109\\\\\n",
       "\\end{tabular}\n"
      ],
      "text/markdown": [
       "\n",
       "Res.Df | Df | F | Pr(>F) | \n",
       "|---|---|\n",
       "| 674         | NA          |       NA    |          NA | \n",
       "| 673         |  1          | 9.651913    | 0.001971109 | \n",
       "\n",
       "\n"
      ],
      "text/plain": [
       "  Res.Df Df F        Pr(>F)     \n",
       "1 674    NA       NA          NA\n",
       "2 673     1 9.651913 0.001971109"
      ]
     },
     "metadata": {},
     "output_type": "display_data"
    }
   ],
   "source": [
    "linearHypothesis(lm.1, c(\"atndrte=0\" ),  vcov = hccm)"
   ]
  },
  {
   "cell_type": "code",
   "execution_count": null,
   "metadata": {},
   "outputs": [],
   "source": [
    "linearHypothesis(lm.1, c(\"atndrte=0\" ),  vcov = hccm)"
   ]
  },
  {
   "cell_type": "code",
   "execution_count": 50,
   "metadata": {},
   "outputs": [
    {
     "data": {
      "text/plain": [
       "\n",
       "Call:\n",
       "lm(formula = stndfnl ~ atndrte + priGPA + ACT + I(priGPA^2) + \n",
       "    I(ACT^2) + priGPA.m.atndrte, data = attend)\n",
       "\n",
       "Residuals:\n",
       "    Min      1Q  Median      3Q     Max \n",
       "-3.1698 -0.5316 -0.0177  0.5737  2.3344 \n",
       "\n",
       "Coefficients:\n",
       "                  Estimate Std. Error t value Pr(>|t|)    \n",
       "(Intercept)       2.050293   1.360319   1.507 0.132225    \n",
       "atndrte           0.007737   0.002633   2.938 0.003412 ** \n",
       "priGPA           -1.628540   0.481003  -3.386 0.000751 ***\n",
       "ACT              -0.128039   0.098492  -1.300 0.194047    \n",
       "I(priGPA^2)       0.295905   0.101049   2.928 0.003523 ** \n",
       "I(ACT^2)          0.004533   0.002176   2.083 0.037634 *  \n",
       "priGPA.m.atndrte  0.005586   0.004317   1.294 0.196173    \n",
       "---\n",
       "Signif. codes:  0 ‘***’ 0.001 ‘**’ 0.01 ‘*’ 0.05 ‘.’ 0.1 ‘ ’ 1\n",
       "\n",
       "Residual standard error: 0.8729 on 673 degrees of freedom\n",
       "Multiple R-squared:  0.2287,\tAdjusted R-squared:  0.2218 \n",
       "F-statistic: 33.25 on 6 and 673 DF,  p-value: < 2.2e-16\n"
      ]
     },
     "metadata": {},
     "output_type": "display_data"
    }
   ],
   "source": [
    "priGPA.m.atndrte <- (attend$priGPA - mean(attend$priGPA)) * attend$atndrte\n",
    "lm.1 <- lm(stndfnl ~ atndrte + priGPA + ACT + I(priGPA^2) + I(ACT^2) + priGPA.m.atndrte, data = attend)\n",
    "summary(lm.1)"
   ]
  },
  {
   "cell_type": "markdown",
   "metadata": {},
   "source": [
    "## Equations 6.23 and 6.24\n",
    "\n",
    "See how the estimates and R-squared differ between the two models.\n",
    "\n",
    "\n",
    "\n",
    "True or False: A regression with a higher R2 will always be preferable to one with a lower R2\n",
    ".\n",
    "True\n",
    "False\n",
    "\n",
    "\n",
    "This statement is false because it is not possible to compare R2 between regressions with different dependent variables (linear vs. log–log models). Furthermore, a model with 100 explanatory variables will likely have a higher R2 than one with 10 explanatory variables. However, if the addition of these extra 90 variables leads to only a minor increase in R2, but causes a big decrease in the precision of the estimates (multicollinearity, loss of degrees of freedom), then the model with the lower R2 may actually be preferable."
   ]
  },
  {
   "cell_type": "code",
   "execution_count": 91,
   "metadata": {},
   "outputs": [
    {
     "data": {
      "text/plain": [
       "\n",
       "Call:\n",
       "lm(formula = rdintens ~ lsales, data = rdchem)\n",
       "\n",
       "Residuals:\n",
       "    Min      1Q  Median      3Q     Max \n",
       "-1.9710 -1.4323 -0.5639  0.9874  5.7748 \n",
       "\n",
       "Coefficients:\n",
       "            Estimate Std. Error t value Pr(>|t|)\n",
       "(Intercept)   1.1043     1.5782     0.7    0.490\n",
       "lsales        0.3017     0.2155     1.4    0.172\n",
       "\n",
       "Residual standard error: 1.845 on 30 degrees of freedom\n",
       "Multiple R-squared:  0.06133,\tAdjusted R-squared:  0.03004 \n",
       "F-statistic:  1.96 on 1 and 30 DF,  p-value: 0.1718\n"
      ]
     },
     "metadata": {},
     "output_type": "display_data"
    }
   ],
   "source": [
    "data(\"rdchem\")\n",
    "\n",
    "lm.1 <- lm(rdintens ~ lsales, data = rdchem)\n",
    "lm.2 <- lm(rdintens ~ sales + salessq, data = rdchem)\n",
    "summary(lm.1)"
   ]
  },
  {
   "cell_type": "code",
   "execution_count": 92,
   "metadata": {},
   "outputs": [
    {
     "data": {
      "text/plain": [
       "\n",
       "Call:\n",
       "lm(formula = rdintens ~ sales + salessq, data = rdchem)\n",
       "\n",
       "Residuals:\n",
       "    Min      1Q  Median      3Q     Max \n",
       "-2.1418 -1.3630 -0.2257  1.0688  5.5808 \n",
       "\n",
       "Coefficients:\n",
       "              Estimate Std. Error t value Pr(>|t|)    \n",
       "(Intercept)  2.613e+00  4.294e-01   6.084 1.27e-06 ***\n",
       "sales        3.006e-04  1.393e-04   2.158   0.0394 *  \n",
       "salessq     -6.946e-09  3.726e-09  -1.864   0.0725 .  \n",
       "---\n",
       "Signif. codes:  0 ‘***’ 0.001 ‘**’ 0.01 ‘*’ 0.05 ‘.’ 0.1 ‘ ’ 1\n",
       "\n",
       "Residual standard error: 1.788 on 29 degrees of freedom\n",
       "Multiple R-squared:  0.1484,\tAdjusted R-squared:  0.08969 \n",
       "F-statistic: 2.527 on 2 and 29 DF,  p-value: 0.09733\n"
      ]
     },
     "metadata": {},
     "output_type": "display_data"
    }
   ],
   "source": [
    "summary(lm.2)"
   ]
  },
  {
   "cell_type": "code",
   "execution_count": 93,
   "metadata": {},
   "outputs": [
    {
     "name": "stdout",
     "output_type": "stream",
     "text": [
      "\n",
      "==============================================================\n",
      "                               Dependent variable:            \n",
      "                    ------------------------------------------\n",
      "                                     rdintens                 \n",
      "                            (1)                   (2)         \n",
      "--------------------------------------------------------------\n",
      "lsales               0.30173 (0.21552)                        \n",
      "sales                                     0.00030** (0.00014) \n",
      "salessq                                   -0.00000* (0.00000) \n",
      "Constant             1.10431 (1.57825)   2.61251*** (0.42944) \n",
      "--------------------------------------------------------------\n",
      "Observations                 32                   32          \n",
      "R2                        0.06133               0.14842       \n",
      "Adjusted R2               0.03004               0.08969       \n",
      "Residual Std. Error  1.84534 (df = 30)     1.78770 (df = 29)  \n",
      "F Statistic         1.96012 (df = 1; 30) 2.52721* (df = 2; 29)\n",
      "==============================================================\n",
      "Note:                              *p<0.1; **p<0.05; ***p<0.01\n"
     ]
    }
   ],
   "source": [
    "stargazer(type = \"text\",\n",
    "          lm.1, \n",
    "          lm.2,  \n",
    "          single.row = TRUE, header = FALSE, digits=5)"
   ]
  },
  {
   "cell_type": "markdown",
   "metadata": {},
   "source": [
    "## Example 6.4\n",
    "\n",
    "\n",
    "\n",
    "    Example 6.4: CEO Compensation and Firm Performance\n",
    "\n",
    "use http://fmwww.bc.edu/ec-p/data/wooldridge/ceosal\n",
    "\n",
    "reg salary sales roe\n",
    "\n",
    "\n",
    "reg lsalary lsales roe\n",
    "\n",
    "\n",
    "\n",
    "\n",
    "\n",
    "See how the estimates and R-squared differ between the following models.\n",
    "\n",
    "\n",
    "\n",
    "The formula for the R2‒\n",
    " of a regression is:\n",
    "R2‒=1−(1−R2)/(n−1)n−k−1\n",
    "\n",
    "where k\n",
    " is the number of slope parameters in the model, n is the number of observations, and R2 is the (unadjusted) R-squared. Plugging in the values for these variables yields:\n",
    " \n",
    " \n",
    " \n",
    " True or False: R2‒ is an unbiased estimator of the population R-squared, ρ2\n",
    ".\n",
    "True\n",
    "CorrectFalse\n",
    " \n",
    " \n",
    " The R2‒ for a regression is generally not considered to be a better estimator of ρ2 than the R2. Although the R2‒ contains unbiased estimators of the error population error variance and population variance in the dependent variable, the R2‒ is still a biased estimator of the population R2\n",
    " \n",
    " \n",
    " \n",
    " "
   ]
  },
  {
   "cell_type": "code",
   "execution_count": 94,
   "metadata": {},
   "outputs": [
    {
     "data": {
      "text/plain": [
       "\n",
       "Call:\n",
       "lm(formula = salary ~ sales + roe, data = ceosal1)\n",
       "\n",
       "Residuals:\n",
       "    Min      1Q  Median      3Q     Max \n",
       "-1501.8  -492.6  -232.0   123.3 13575.2 \n",
       "\n",
       "Coefficients:\n",
       "             Estimate Std. Error t value Pr(>|t|)    \n",
       "(Intercept) 8.306e+02  2.239e+02   3.710 0.000267 ***\n",
       "sales       1.634e-02  8.874e-03   1.842 0.066973 .  \n",
       "roe         1.963e+01  1.108e+01   1.772 0.077823 .  \n",
       "---\n",
       "Signif. codes:  0 ‘***’ 0.001 ‘**’ 0.01 ‘*’ 0.05 ‘.’ 0.1 ‘ ’ 1\n",
       "\n",
       "Residual standard error: 1359 on 206 degrees of freedom\n",
       "Multiple R-squared:  0.02917,\tAdjusted R-squared:  0.01975 \n",
       "F-statistic: 3.095 on 2 and 206 DF,  p-value: 0.04739\n"
      ]
     },
     "metadata": {},
     "output_type": "display_data"
    }
   ],
   "source": [
    "data(\"ceosal1\")\n",
    "\n",
    "lm.1 <- lm(salary ~ sales + roe, data = ceosal1)\n",
    "lm.2 <- lm(lsalary ~ lsales + roe, data = ceosal1)\n",
    "summary(lm.1)"
   ]
  },
  {
   "cell_type": "code",
   "execution_count": 95,
   "metadata": {},
   "outputs": [
    {
     "data": {
      "text/plain": [
       "\n",
       "Call:\n",
       "lm(formula = lsalary ~ lsales + roe, data = ceosal1)\n",
       "\n",
       "Residuals:\n",
       "    Min      1Q  Median      3Q     Max \n",
       "-0.9464 -0.2888 -0.0322  0.2261  2.7830 \n",
       "\n",
       "Coefficients:\n",
       "            Estimate Std. Error t value Pr(>|t|)    \n",
       "(Intercept) 4.362167   0.293878  14.843  < 2e-16 ***\n",
       "lsales      0.275087   0.033254   8.272 1.62e-14 ***\n",
       "roe         0.017872   0.003955   4.519 1.05e-05 ***\n",
       "---\n",
       "Signif. codes:  0 ‘***’ 0.001 ‘**’ 0.01 ‘*’ 0.05 ‘.’ 0.1 ‘ ’ 1\n",
       "\n",
       "Residual standard error: 0.4822 on 206 degrees of freedom\n",
       "Multiple R-squared:  0.282,\tAdjusted R-squared:  0.275 \n",
       "F-statistic: 40.45 on 2 and 206 DF,  p-value: 1.519e-15\n"
      ]
     },
     "metadata": {},
     "output_type": "display_data"
    }
   ],
   "source": [
    "summary(lm.2)"
   ]
  },
  {
   "cell_type": "code",
   "execution_count": 96,
   "metadata": {},
   "outputs": [
    {
     "data": {
      "text/html": [
       "0.0197461690013924"
      ],
      "text/latex": [
       "0.0197461690013924"
      ],
      "text/markdown": [
       "0.0197461690013924"
      ],
      "text/plain": [
       "[1] 0.01974617"
      ]
     },
     "metadata": {},
     "output_type": "display_data"
    }
   ],
   "source": [
    "summary(lm.1)$adj.r.squared"
   ]
  },
  {
   "cell_type": "code",
   "execution_count": 97,
   "metadata": {},
   "outputs": [
    {
     "data": {
      "text/html": [
       "0.27501776172601"
      ],
      "text/latex": [
       "0.27501776172601"
      ],
      "text/markdown": [
       "0.27501776172601"
      ],
      "text/plain": [
       "[1] 0.2750178"
      ]
     },
     "metadata": {},
     "output_type": "display_data"
    }
   ],
   "source": [
    "summary(lm.2)$adj.r.squared"
   ]
  },
  {
   "cell_type": "code",
   "execution_count": 98,
   "metadata": {},
   "outputs": [
    {
     "name": "stdout",
     "output_type": "stream",
     "text": [
      "\n",
      "============================================================================\n",
      "                                            Dependent variable:             \n",
      "                               ---------------------------------------------\n",
      "                                        salary                lsalary       \n",
      "                                         (1)                    (2)         \n",
      "----------------------------------------------------------------------------\n",
      "sales                             0.01634* (0.00887)                        \n",
      "lsales                                                  0.27509*** (0.03325)\n",
      "roe                              19.63097* (11.07655)   0.01787*** (0.00396)\n",
      "Constant                       830.63130*** (223.90490) 4.36217*** (0.29388)\n",
      "----------------------------------------------------------------------------\n",
      "Observations                             209                    209         \n",
      "R2                                     0.02917                0.28199       \n",
      "Adjusted R2                            0.01975                0.27502       \n",
      "Residual Std. Error (df = 206)       1,358.72800              0.48224       \n",
      "F Statistic (df = 2; 206)             3.09497**             40.45179***     \n",
      "============================================================================\n",
      "Note:                                            *p<0.1; **p<0.05; ***p<0.01\n"
     ]
    }
   ],
   "source": [
    "stargazer(type = \"text\",\n",
    "          lm.1, \n",
    "          lm.2,  \n",
    "          single.row = TRUE, header = FALSE, digits=5)"
   ]
  },
  {
   "cell_type": "markdown",
   "metadata": {},
   "source": [
    "Comparisons of the R2 and R2‒ of two models cannot be used to choose between different functional forms of the dependent variable. The reason for this is rather straightforward: The models essentially use two different dependent variables, so each model has a different amount of variation in y to explain. \n",
    "\n",
    "Therefore, the two R2 values measure the explained proportion of two different amounts of variation in two different functions of the dependent variation."
   ]
  },
  {
   "cell_type": "code",
   "execution_count": null,
   "metadata": {},
   "outputs": [],
   "source": []
  },
  {
   "cell_type": "markdown",
   "metadata": {},
   "source": [
    "## Example 6.5\n",
    "\n",
    "\n",
    "    Example 6.5: Confidence Interval for Predicted College GPA (Approach in Book)\n",
    "\n",
    "use http://fmwww.bc.edu/ec-p/data/wooldridge/gpa2\n",
    "\n",
    "gen hsize2=hsize*hsize\n",
    "\n",
    "reg colgpa sat hsperc hsize hsize2\n",
    "\n",
    "    Predicted college GPA\n",
    "\n",
    "display _b[_cons]+_b[sat]*1200+_b[hsperc]*30+_b[hsize]*5+_b[hsize2]*25\n",
    "2.7000755\n",
    "\n",
    "gen sat0=sat-1200\n",
    "\n",
    "gen hsperc0=hsperc-30\n",
    "\n",
    "gen hsize0=hsize-5\n",
    "\n",
    "gen hsize20=hsize2-25\n",
    "\n",
    "reg colgpa sat0 hsperc0 hsize0 hsize20\n",
    "\n",
    "\n",
    "\n",
    "    Example 6.5: Confidence Interval for Predicted College GPA (Another Approach)\n",
    "\n",
    "use http://fmwww.bc.edu/ec-p/data/wooldridge/gpa2\n",
    "\n",
    "gen hsize2=hsize*hsize\n",
    "\n",
    "reg colgpa sat hsperc hsize hsize2\n",
    "\n",
    "set obs 4138\n",
    "\n",
    "replace sat=1200 in 4138/4138\n",
    "\n",
    "replace hsperc=30 in 4138/4138\n",
    "\n",
    "replace hsize=5 in 4138/4138\n",
    "\n",
    "replace hsize2=25 in 4138/4138\n",
    "\n",
    "regress\n",
    "\n",
    "predict colgpahat in 4138/4138,stdp \n",
    "\n",
    "predict colgpahatt in 4138/4138,xb\n",
    "\n",
    "gen lb =  colgpahatt-1.96* colgpahat in 4138/4138\n",
    "\n",
    "gen ub =  colgpahatt+1.96* colgpahat in 4138/4138\n",
    "\n",
    "list  colgpahat lb colgpahatt ub in 4138/4138\n",
    "\n",
    "\n",
    "\n",
    "\n",
    "Compare the usual estimation of a model with a regression, where interesting values - like means - are subtracted from each variable before the estimation.\n",
    "\n",
    "\n",
    "\n",
    "Based on the R2, since 0.303 > 0.300, model 2 would appear to explain more of the variation in the dependent variable. However, since model 2 has one more parameter than model 1, a simple comparison of only the R2 of each model is not appropriate. For cases such as this, the adjusted R2\n",
    "\n",
    " would be better to compare these two models since it cannot decrease when irrelevant variables are added to the model.\n",
    "Based on the R2‒\n",
    ", since 0.004 > 0.001, model 1 is the preferred model.\n",
    "\n",
    "\n",
    "\n"
   ]
  },
  {
   "cell_type": "code",
   "execution_count": 21,
   "metadata": {},
   "outputs": [
    {
     "data": {
      "text/plain": [
       "\n",
       "Call:\n",
       "lm(formula = colgpa ~ sat + hsperc + hsize + I(hsize^2), data = gpa2)\n",
       "\n",
       "Coefficients:\n",
       "(Intercept)          sat       hsperc        hsize   I(hsize^2)  \n",
       "   1.492652     0.001492    -0.013856    -0.060881     0.005460  \n"
      ]
     },
     "metadata": {},
     "output_type": "display_data"
    }
   ],
   "source": [
    "data(gpa2, package='wooldridge')\n",
    "\n",
    "# Regress and report coefficients\n",
    "reg <- lm(colgpa~sat+hsperc+hsize+I(hsize^2),data=gpa2)\n",
    "reg\n"
   ]
  },
  {
   "cell_type": "code",
   "execution_count": 23,
   "metadata": {},
   "outputs": [
    {
     "data": {
      "text/html": [
       "<strong>1:</strong> 2.70007548213186"
      ],
      "text/latex": [
       "\\textbf{1:} 2.70007548213186"
      ],
      "text/markdown": [
       "**1:** 2.70007548213186"
      ],
      "text/plain": [
       "       1 \n",
       "2.700075 "
      ]
     },
     "metadata": {},
     "output_type": "display_data"
    }
   ],
   "source": [
    "\n",
    "# Generate data set containing the regressor values for predictions\n",
    "cvalues <- data.frame(sat=1200, hsperc=30, hsize=5)\n",
    "\n",
    "# Point estimate of prediction\n",
    "predict(reg, cvalues)\n",
    "\n"
   ]
  },
  {
   "cell_type": "code",
   "execution_count": 24,
   "metadata": {},
   "outputs": [
    {
     "data": {
      "text/html": [
       "<table>\n",
       "<thead><tr><th></th><th scope=col>fit</th><th scope=col>lwr</th><th scope=col>upr</th></tr></thead>\n",
       "<tbody>\n",
       "\t<tr><th scope=row>1</th><td>2.700075</td><td>2.661104</td><td>2.739047</td></tr>\n",
       "</tbody>\n",
       "</table>\n"
      ],
      "text/latex": [
       "\\begin{tabular}{r|lll}\n",
       "  & fit & lwr & upr\\\\\n",
       "\\hline\n",
       "\t1 & 2.700075 & 2.661104 & 2.739047\\\\\n",
       "\\end{tabular}\n"
      ],
      "text/markdown": [
       "\n",
       "| <!--/--> | fit | lwr | upr | \n",
       "|---|\n",
       "| 1 | 2.700075 | 2.661104 | 2.739047 | \n",
       "\n",
       "\n"
      ],
      "text/plain": [
       "  fit      lwr      upr     \n",
       "1 2.700075 2.661104 2.739047"
      ]
     },
     "metadata": {},
     "output_type": "display_data"
    }
   ],
   "source": [
    "# Point estimate and 95% confidence interval\n",
    "predict(reg, cvalues, interval = \"confidence\")\n",
    "\n"
   ]
  },
  {
   "cell_type": "code",
   "execution_count": 25,
   "metadata": {},
   "outputs": [
    {
     "data": {
      "text/html": [
       "<table>\n",
       "<thead><tr><th scope=col>sat</th><th scope=col>hsperc</th><th scope=col>hsize</th></tr></thead>\n",
       "<tbody>\n",
       "\t<tr><td>1200</td><td>30  </td><td>5   </td></tr>\n",
       "\t<tr><td> 900</td><td>20  </td><td>3   </td></tr>\n",
       "\t<tr><td>1400</td><td> 5  </td><td>1   </td></tr>\n",
       "</tbody>\n",
       "</table>\n"
      ],
      "text/latex": [
       "\\begin{tabular}{r|lll}\n",
       " sat & hsperc & hsize\\\\\n",
       "\\hline\n",
       "\t 1200 & 30   & 5   \\\\\n",
       "\t  900 & 20   & 3   \\\\\n",
       "\t 1400 &  5   & 1   \\\\\n",
       "\\end{tabular}\n"
      ],
      "text/markdown": [
       "\n",
       "sat | hsperc | hsize | \n",
       "|---|---|---|\n",
       "| 1200 | 30   | 5    | \n",
       "|  900 | 20   | 3    | \n",
       "| 1400 |  5   | 1    | \n",
       "\n",
       "\n"
      ],
      "text/plain": [
       "  sat  hsperc hsize\n",
       "1 1200 30     5    \n",
       "2  900 20     3    \n",
       "3 1400  5     1    "
      ]
     },
     "metadata": {},
     "output_type": "display_data"
    }
   ],
   "source": [
    "# Define three sets of regressor variables\n",
    "cvalues <- data.frame(sat=c(1200,900,1400), hsperc=c(30,20,5), \n",
    "                                                 hsize=c(5,3,1))\n",
    "cvalues\n",
    "\n"
   ]
  },
  {
   "cell_type": "code",
   "execution_count": 26,
   "metadata": {},
   "outputs": [
    {
     "data": {
      "text/html": [
       "<table>\n",
       "<thead><tr><th></th><th scope=col>fit</th><th scope=col>lwr</th><th scope=col>upr</th></tr></thead>\n",
       "<tbody>\n",
       "\t<tr><th scope=row>1</th><td>2.700075</td><td>2.648850</td><td>2.751301</td></tr>\n",
       "\t<tr><th scope=row>2</th><td>2.425282</td><td>2.388540</td><td>2.462025</td></tr>\n",
       "\t<tr><th scope=row>3</th><td>3.457448</td><td>3.385572</td><td>3.529325</td></tr>\n",
       "</tbody>\n",
       "</table>\n"
      ],
      "text/latex": [
       "\\begin{tabular}{r|lll}\n",
       "  & fit & lwr & upr\\\\\n",
       "\\hline\n",
       "\t1 & 2.700075 & 2.648850 & 2.751301\\\\\n",
       "\t2 & 2.425282 & 2.388540 & 2.462025\\\\\n",
       "\t3 & 3.457448 & 3.385572 & 3.529325\\\\\n",
       "\\end{tabular}\n"
      ],
      "text/markdown": [
       "\n",
       "| <!--/--> | fit | lwr | upr | \n",
       "|---|---|---|\n",
       "| 1 | 2.700075 | 2.648850 | 2.751301 | \n",
       "| 2 | 2.425282 | 2.388540 | 2.462025 | \n",
       "| 3 | 3.457448 | 3.385572 | 3.529325 | \n",
       "\n",
       "\n"
      ],
      "text/plain": [
       "  fit      lwr      upr     \n",
       "1 2.700075 2.648850 2.751301\n",
       "2 2.425282 2.388540 2.462025\n",
       "3 3.457448 3.385572 3.529325"
      ]
     },
     "metadata": {},
     "output_type": "display_data"
    }
   ],
   "source": [
    "# Point estimates and 99% confidence intervals for these\n",
    "predict(reg, cvalues, interval = \"confidence\", level=0.99)"
   ]
  },
  {
   "cell_type": "code",
   "execution_count": null,
   "metadata": {},
   "outputs": [],
   "source": []
  },
  {
   "cell_type": "code",
   "execution_count": 99,
   "metadata": {},
   "outputs": [
    {
     "data": {
      "text/plain": [
       "\n",
       "Call:\n",
       "lm(formula = colgpa ~ sat + hsperc + hsize + hsizesq, data = gpa2)\n",
       "\n",
       "Residuals:\n",
       "     Min       1Q   Median       3Q      Max \n",
       "-2.57543 -0.35081  0.03342  0.39945  1.81683 \n",
       "\n",
       "Coefficients:\n",
       "              Estimate Std. Error t value Pr(>|t|)    \n",
       "(Intercept)  1.493e+00  7.534e-02  19.812  < 2e-16 ***\n",
       "sat          1.492e-03  6.521e-05  22.886  < 2e-16 ***\n",
       "hsperc      -1.386e-02  5.610e-04 -24.698  < 2e-16 ***\n",
       "hsize       -6.088e-02  1.650e-02  -3.690 0.000228 ***\n",
       "hsizesq      5.460e-03  2.270e-03   2.406 0.016191 *  \n",
       "---\n",
       "Signif. codes:  0 ‘***’ 0.001 ‘**’ 0.01 ‘*’ 0.05 ‘.’ 0.1 ‘ ’ 1\n",
       "\n",
       "Residual standard error: 0.5599 on 4132 degrees of freedom\n",
       "Multiple R-squared:  0.2781,\tAdjusted R-squared:  0.2774 \n",
       "F-statistic:   398 on 4 and 4132 DF,  p-value: < 2.2e-16\n"
      ]
     },
     "metadata": {},
     "output_type": "display_data"
    }
   ],
   "source": [
    "data(\"gpa2\")\n",
    "\n",
    "lm.1 <- lm(colgpa ~ sat + hsperc + hsize + hsizesq, data = gpa2)\n",
    "summary(lm.1)"
   ]
  },
  {
   "cell_type": "code",
   "execution_count": 100,
   "metadata": {},
   "outputs": [
    {
     "data": {
      "text/html": [
       "0.559863844418932"
      ],
      "text/latex": [
       "0.559863844418932"
      ],
      "text/markdown": [
       "0.559863844418932"
      ],
      "text/plain": [
       "[1] 0.5598638"
      ]
     },
     "metadata": {},
     "output_type": "display_data"
    }
   ],
   "source": [
    "summary(lm.1)$sigma"
   ]
  },
  {
   "cell_type": "code",
   "execution_count": 101,
   "metadata": {},
   "outputs": [
    {
     "data": {
      "text/html": [
       "<dl class=dl-horizontal>\n",
       "\t<dt>(Intercept)</dt>\n",
       "\t\t<dd>1.49265220901213</dd>\n",
       "\t<dt>sat</dt>\n",
       "\t\t<dd>0.00149249719187953</dd>\n",
       "\t<dt>hsperc</dt>\n",
       "\t\t<dd>-0.0138557817868286</dd>\n",
       "\t<dt>hsize</dt>\n",
       "\t\t<dd>-0.060881453228959</dd>\n",
       "\t<dt>hsizesq</dt>\n",
       "\t\t<dd>0.00546029453484367</dd>\n",
       "</dl>\n"
      ],
      "text/latex": [
       "\\begin{description*}\n",
       "\\item[(Intercept)] 1.49265220901213\n",
       "\\item[sat] 0.00149249719187953\n",
       "\\item[hsperc] -0.0138557817868286\n",
       "\\item[hsize] -0.060881453228959\n",
       "\\item[hsizesq] 0.00546029453484367\n",
       "\\end{description*}\n"
      ],
      "text/markdown": [
       "(Intercept)\n",
       ":   1.49265220901213sat\n",
       ":   0.00149249719187953hsperc\n",
       ":   -0.0138557817868286hsize\n",
       ":   -0.060881453228959hsizesq\n",
       ":   0.00546029453484367\n",
       "\n"
      ],
      "text/plain": [
       " (Intercept)          sat       hsperc        hsize      hsizesq \n",
       " 1.492652209  0.001492497 -0.013855782 -0.060881453  0.005460295 "
      ]
     },
     "metadata": {},
     "output_type": "display_data"
    }
   ],
   "source": [
    "lm.1$coefficients"
   ]
  },
  {
   "cell_type": "code",
   "execution_count": 102,
   "metadata": {},
   "outputs": [
    {
     "data": {
      "text/html": [
       "<strong>(Intercept):</strong> 2.70007548288901"
      ],
      "text/latex": [
       "\\textbf{(Intercept):} 2.70007548288901"
      ],
      "text/markdown": [
       "**(Intercept):** 2.70007548288901"
      ],
      "text/plain": [
       "(Intercept) \n",
       "   2.700075 "
      ]
     },
     "metadata": {},
     "output_type": "display_data"
    }
   ],
   "source": [
    "lm.1$coefficients[1] + lm.1$coefficients[2] * 1200 + lm.1$coefficients[3] * 30 + \n",
    "  lm.1$coefficients[4] * 5 + lm.1$coefficients[5] * 5^2"
   ]
  },
  {
   "cell_type": "code",
   "execution_count": 103,
   "metadata": {},
   "outputs": [
    {
     "data": {
      "text/plain": [
       "\n",
       "Call:\n",
       "lm(formula = colgpa ~ I(sat - 1200) + I(hsperc - 30) + I(hsize - \n",
       "    5) + I(hsizesq - 25), data = gpa2)\n",
       "\n",
       "Residuals:\n",
       "     Min       1Q   Median       3Q      Max \n",
       "-2.57543 -0.35081  0.03342  0.39945  1.81683 \n",
       "\n",
       "Coefficients:\n",
       "                  Estimate Std. Error t value Pr(>|t|)    \n",
       "(Intercept)      2.700e+00  1.988e-02 135.833  < 2e-16 ***\n",
       "I(sat - 1200)    1.492e-03  6.521e-05  22.886  < 2e-16 ***\n",
       "I(hsperc - 30)  -1.386e-02  5.610e-04 -24.698  < 2e-16 ***\n",
       "I(hsize - 5)    -6.088e-02  1.650e-02  -3.690 0.000228 ***\n",
       "I(hsizesq - 25)  5.460e-03  2.270e-03   2.406 0.016191 *  \n",
       "---\n",
       "Signif. codes:  0 ‘***’ 0.001 ‘**’ 0.01 ‘*’ 0.05 ‘.’ 0.1 ‘ ’ 1\n",
       "\n",
       "Residual standard error: 0.5599 on 4132 degrees of freedom\n",
       "Multiple R-squared:  0.2781,\tAdjusted R-squared:  0.2774 \n",
       "F-statistic:   398 on 4 and 4132 DF,  p-value: < 2.2e-16\n"
      ]
     },
     "metadata": {},
     "output_type": "display_data"
    }
   ],
   "source": [
    "lm.2 <- lm(colgpa ~ I(sat - 1200) + I(hsperc - 30) + I(hsize - 5) + I(hsizesq - 25), data = gpa2) # Estimate the model\n",
    "\n",
    "s.2 <- summary(lm.2)\n",
    "s.2"
   ]
  },
  {
   "cell_type": "code",
   "execution_count": 104,
   "metadata": {},
   "outputs": [
    {
     "data": {
      "text/html": [
       "<ol class=list-inline>\n",
       "\t<li>2.66111491412545</li>\n",
       "\t<li>2.73903605165257</li>\n",
       "</ol>\n"
      ],
      "text/latex": [
       "\\begin{enumerate*}\n",
       "\\item 2.66111491412545\n",
       "\\item 2.73903605165257\n",
       "\\end{enumerate*}\n"
      ],
      "text/markdown": [
       "1. 2.66111491412545\n",
       "2. 2.73903605165257\n",
       "\n",
       "\n"
      ],
      "text/plain": [
       "[1] 2.661115 2.739036"
      ]
     },
     "metadata": {},
     "output_type": "display_data"
    }
   ],
   "source": [
    "ci.low <- s.2$coefficients[1, 1] - 1.96 * s.2$coefficients[1, 2] # Create confidence intervals\n",
    "ci.high <- s.2$coefficients[1, 1] + 1.96 * s.2$coefficients[1, 2]\n",
    "c(ci.low, ci.high)"
   ]
  },
  {
   "cell_type": "code",
   "execution_count": 105,
   "metadata": {},
   "outputs": [
    {
     "name": "stdout",
     "output_type": "stream",
     "text": [
      "\n",
      "===========================================================================\n",
      "                                            Dependent variable:            \n",
      "                                -------------------------------------------\n",
      "                                                  colgpa                   \n",
      "                                         (1)                   (2)         \n",
      "---------------------------------------------------------------------------\n",
      "sat                             0.00149*** (0.00007)                       \n",
      "hsperc                          -0.01386*** (0.00056)                      \n",
      "hsize                           -0.06088*** (0.01650)                      \n",
      "hsizesq                          0.00546** (0.00227)                       \n",
      "I(sat - 1200)                                         0.00149*** (0.00007) \n",
      "I(hsperc - 30)                                        -0.01386*** (0.00056)\n",
      "I(hsize - 5)                                          -0.06088*** (0.01650)\n",
      "I(hsizesq - 25)                                        0.00546** (0.00227) \n",
      "Constant                        1.49265*** (0.07534)  2.70008*** (0.01988) \n",
      "---------------------------------------------------------------------------\n",
      "Observations                            4,137                 4,137        \n",
      "R2                                     0.27814               0.27814       \n",
      "Adjusted R2                            0.27744               0.27744       \n",
      "Residual Std. Error (df = 4132)        0.55986               0.55986       \n",
      "F Statistic (df = 4; 4132)          398.01760***          398.01760***     \n",
      "===========================================================================\n",
      "Note:                                           *p<0.1; **p<0.05; ***p<0.01\n"
     ]
    }
   ],
   "source": [
    "stargazer(type = \"text\",\n",
    "          lm.1, \n",
    "          lm.2,  \n",
    "          single.row = TRUE, header = FALSE, digits=5)"
   ]
  },
  {
   "cell_type": "code",
   "execution_count": null,
   "metadata": {},
   "outputs": [],
   "source": []
  },
  {
   "cell_type": "markdown",
   "metadata": {},
   "source": [
    "True or False: Given your hypothesis, you should include a variable for cigarette consumption in your model.\n",
    "True\n",
    "CorrectFalse\n",
    "\n",
    "\n",
    "Different models serve different purposes. In this case, the model is intended to measure the effect of cigarette taxes on the rates of lung cancer, holding percentage of population above the age of 18 constant. Since cigarette consumption is in the error term, it is allowed to vary as the level of cigarette taxes varies. This is done intentionally, since your hypothesis is that individuals change their cigarette consumption based in the size of the cigarette tax.\n",
    "\n",
    "\n",
    "\n",
    "Controlling for cigarette consumption, by including it as a variable in the regression, would change the interpretation of β1ˆ\n",
    ". \n",
    "\n",
    "β1ˆ would then estimate the effect of cigarette taxes on the rate of lung cancer, holding cigarette consumption fixed. \n",
    "\n",
    "Since the tax would likely affect the rate of lung cancer only by reducing cigarette consumption, the estimate of β1ˆ would become much less useful."
   ]
  },
  {
   "cell_type": "code",
   "execution_count": null,
   "metadata": {},
   "outputs": [],
   "source": []
  },
  {
   "cell_type": "code",
   "execution_count": null,
   "metadata": {},
   "outputs": [],
   "source": []
  },
  {
   "cell_type": "markdown",
   "metadata": {},
   "source": [
    "## Example-6-6\n",
    "\n",
    "\n",
    "    Example 6.6: Confidence Interval for Future College GPA\n",
    "\n",
    "use http://fmwww.bc.edu/ec-p/data/wooldridge/gpa2\n",
    "\n",
    "gen hsize2=hsize*hsize\n",
    "\n",
    "reg colgpa sat hsperc hsize hsize2\n",
    "\n",
    "set obs 4138\n",
    "\n",
    "replace sat=1200 in 4138/4138\n",
    "\n",
    "replace hsperc=30 in 4138/4138\n",
    "\n",
    "replace hsize=5 in 4138/4138\n",
    "\n",
    "replace hsize2=25 in 4138/4138\n",
    "\n",
    "regress\n",
    "\n",
    "\n",
    "predict cc in 4138/4138,stdf \n",
    "\n",
    "predict colgpahatt in 4138/4138,xb\n",
    "\n",
    "gen lb1 =  colgpahatt-1.96* cc in 4138/4138\n",
    "\n",
    "gen ub1 =  colgpahatt+1.96* cc in 4138/4138\n",
    "\n",
    "list  cc lb1 colgpahatt ub1 in 4138/4138\n",
    "\n",
    "\n",
    "\n"
   ]
  },
  {
   "cell_type": "code",
   "execution_count": null,
   "metadata": {},
   "outputs": [],
   "source": []
  },
  {
   "cell_type": "code",
   "execution_count": 107,
   "metadata": {},
   "outputs": [
    {
     "data": {
      "text/html": [
       "<table>\n",
       "<thead><tr><th></th><th scope=col>fit</th><th scope=col>lwr</th><th scope=col>upr</th></tr></thead>\n",
       "<tbody>\n",
       "\t<tr><th scope=row>1</th><td>2.700075</td><td>1.601749</td><td>3.798402</td></tr>\n",
       "\t<tr><th scope=row>2</th><td>2.425282</td><td>1.327292</td><td>3.523273</td></tr>\n",
       "\t<tr><th scope=row>3</th><td>3.457448</td><td>2.358452</td><td>4.556444</td></tr>\n",
       "\t<tr><th scope=row>4</th><td>2.631527</td><td>1.532210</td><td>3.730844</td></tr>\n",
       "</tbody>\n",
       "</table>\n"
      ],
      "text/latex": [
       "\\begin{tabular}{r|lll}\n",
       "  & fit & lwr & upr\\\\\n",
       "\\hline\n",
       "\t1 & 2.700075 & 1.601749 & 3.798402\\\\\n",
       "\t2 & 2.425282 & 1.327292 & 3.523273\\\\\n",
       "\t3 & 3.457448 & 2.358452 & 4.556444\\\\\n",
       "\t4 & 2.631527 & 1.532210 & 3.730844\\\\\n",
       "\\end{tabular}\n"
      ],
      "text/markdown": [
       "\n",
       "| <!--/--> | fit | lwr | upr | \n",
       "|---|---|---|---|\n",
       "| 1 | 2.700075 | 1.601749 | 3.798402 | \n",
       "| 2 | 2.425282 | 1.327292 | 3.523273 | \n",
       "| 3 | 3.457448 | 2.358452 | 4.556444 | \n",
       "| 4 | 2.631527 | 1.532210 | 3.730844 | \n",
       "\n",
       "\n"
      ],
      "text/plain": [
       "  fit      lwr      upr     \n",
       "1 2.700075 1.601749 3.798402\n",
       "2 2.425282 1.327292 3.523273\n",
       "3 3.457448 2.358452 4.556444\n",
       "4 2.631527 1.532210 3.730844"
      ]
     },
     "metadata": {},
     "output_type": "display_data"
    }
   ],
   "source": [
    "data(gpa2, package='wooldridge')\n",
    "\n",
    "# Regress (as before)\n",
    "reg <- lm(colgpa~sat+hsperc+hsize+I(hsize^2),data=gpa2)\n",
    "\n"
   ]
  },
  {
   "cell_type": "code",
   "execution_count": 108,
   "metadata": {},
   "outputs": [
    {
     "data": {
      "text/html": [
       "<table>\n",
       "<thead><tr><th scope=col>term</th><th scope=col>estimate</th><th scope=col>std.error</th><th scope=col>statistic</th><th scope=col>p.value</th></tr></thead>\n",
       "<tbody>\n",
       "\t<tr><td>(Intercept)  </td><td> 1.492652214 </td><td>7.534142e-02 </td><td> 19.811840   </td><td> 1.585528e-83</td></tr>\n",
       "\t<tr><td>sat          </td><td> 0.001492497 </td><td>6.521336e-05 </td><td> 22.886370   </td><td>3.027519e-109</td></tr>\n",
       "\t<tr><td>hsperc       </td><td>-0.013855782 </td><td>5.610052e-04 </td><td>-24.698136   </td><td>9.760760e-126</td></tr>\n",
       "\t<tr><td>hsize        </td><td>-0.060881457 </td><td>1.650123e-02 </td><td> -3.689509   </td><td> 2.275799e-04</td></tr>\n",
       "\t<tr><td>I(hsize^2)   </td><td> 0.005460295 </td><td>2.269848e-03 </td><td>  2.405578   </td><td> 1.619059e-02</td></tr>\n",
       "</tbody>\n",
       "</table>\n"
      ],
      "text/latex": [
       "\\begin{tabular}{r|lllll}\n",
       " term & estimate & std.error & statistic & p.value\\\\\n",
       "\\hline\n",
       "\t (Intercept)   &  1.492652214  & 7.534142e-02  &  19.811840    &  1.585528e-83\\\\\n",
       "\t sat           &  0.001492497  & 6.521336e-05  &  22.886370    & 3.027519e-109\\\\\n",
       "\t hsperc        & -0.013855782  & 5.610052e-04  & -24.698136    & 9.760760e-126\\\\\n",
       "\t hsize         & -0.060881457  & 1.650123e-02  &  -3.689509    &  2.275799e-04\\\\\n",
       "\t I(hsize\\textasciicircum{}2)  &  0.005460295                  & 2.269848e-03                  &   2.405578                    &  1.619059e-02                \\\\\n",
       "\\end{tabular}\n"
      ],
      "text/markdown": [
       "\n",
       "term | estimate | std.error | statistic | p.value | \n",
       "|---|---|---|---|---|\n",
       "| (Intercept)   |  1.492652214  | 7.534142e-02  |  19.811840    |  1.585528e-83 | \n",
       "| sat           |  0.001492497  | 6.521336e-05  |  22.886370    | 3.027519e-109 | \n",
       "| hsperc        | -0.013855782  | 5.610052e-04  | -24.698136    | 9.760760e-126 | \n",
       "| hsize         | -0.060881457  | 1.650123e-02  |  -3.689509    |  2.275799e-04 | \n",
       "| I(hsize^2)    |  0.005460295  | 2.269848e-03  |   2.405578    |  1.619059e-02 | \n",
       "\n",
       "\n"
      ],
      "text/plain": [
       "  term        estimate     std.error    statistic  p.value      \n",
       "1 (Intercept)  1.492652214 7.534142e-02  19.811840  1.585528e-83\n",
       "2 sat          0.001492497 6.521336e-05  22.886370 3.027519e-109\n",
       "3 hsperc      -0.013855782 5.610052e-04 -24.698136 9.760760e-126\n",
       "4 hsize       -0.060881457 1.650123e-02  -3.689509  2.275799e-04\n",
       "5 I(hsize^2)   0.005460295 2.269848e-03   2.405578  1.619059e-02"
      ]
     },
     "metadata": {},
     "output_type": "display_data"
    }
   ],
   "source": [
    "tidy(reg)"
   ]
  },
  {
   "cell_type": "code",
   "execution_count": null,
   "metadata": {},
   "outputs": [],
   "source": [
    "# Define three sets of regressor variables (as before)\n",
    "cvalues <- data.frame(sat=c(1200,900,1400, 1120), hsperc=c(30,20,5,27), \n",
    "                                                 hsize=c(5,3,1,7))\n",
    "\n",
    "# Point estimates and 95% prediction intervals for these\n",
    "predict(reg, cvalues, interval = \"prediction\")"
   ]
  },
  {
   "cell_type": "code",
   "execution_count": null,
   "metadata": {},
   "outputs": [],
   "source": []
  },
  {
   "cell_type": "markdown",
   "metadata": {},
   "source": [
    "#### Prediction interval \n",
    "\n",
    "In general, three quantities are needed to construct a confidence interval around a parameter estimate: the parameter estimate itself θ0ˆ, the standard error of the parameter estimate se(θ0ˆ), and the critical value c. In this case, the parameter estimate for which you would like to construct a confidence interval is a predicted value of a dependent variable. \n",
    "\n",
    "\n",
    "The confidence interval around this expected value of college GPA would be\n",
    "\n",
    "\n",
    "Unlike confidence intervals around slope coefficient estimates, the standard error for the predicted value of the dependent variable, θ0ˆ\n",
    ", is not always readily available. However, it can be calculated with a new regression fairly easily.\n",
    "\n",
    "\n",
    "\n",
    "\n",
    "The parameter you are estimating, and would like a confidence interval around, is the predicted value for θ0\n",
    ". This represents the expected value of colgpa\n",
    ", given the previously mentioned values of the explanatory variable:\n",
    "θ0\n",
    "\t = \n",
    "\tβ0+β11,120+β227+β3 7+β472\n",
    "\t = \n",
    "\tE(colgpa | sat=1,120, hsperc=27, hsize=7)\n",
    "β0\n",
    "\t = \n",
    "\tθ0−β11,120−β227−β37−β472\n",
    "    \n",
    "    \n",
    "What you would like to obtain is the standard error of θ0ˆ\n",
    " to use in your confidence interval. Plugging β0\n",
    " back into the regression equation gives:\n",
    "colgpa\n",
    "\t = \n",
    "\tθ0+β1 (sat−1,120)+β2 (hsperc−27)+β3 (hsize−7)+β4 (hsize2−72)\n",
    "    \n",
    "    \n",
    "In other words, by regressing colgpa\n",
    " on the transformed explanatory variables and a constant, you would get:\n",
    "colgpaˆ\n",
    "\t = \n",
    "\tθ0ˆ+β1ˆ (sat−1,120)+β2ˆ (hsperc−27)+β3ˆ (hsize−7)+β4ˆ (hsize2−72)\n",
    "    \n",
    "    \n",
    "Therefore, a regression of colgpa\n",
    " on sat−1,120, hsperc−27, hsize−7, and hsize2−72 will yield an intercept parameter estimate θ0ˆ that is equal to the predicted value of colgpa, given the relevant values of the explanatory variables. More importantly, this regression will yield the standard error for θ0ˆ, which is needed to construct a confidence interval around θ0ˆ\n",
    ".\n",
    "\n",
    "\n",
    "In this case, θ0ˆ=1.853\n",
    ", se(θ0ˆ)=0.01, and c is given as 1.96. Therefore, the confidence interval is 1.853 ± (0.01×1.96). This represents a range in which the population parameter θ0 would fall, in 95% of samples.\n",
    "\n",
    "\n",
    "Now suppose you would like to construct a 95% confidence interval around the college GPA for someone with sat=1,160, hsperc=30, and hsize=5, and not  just the expected value of college GPA for these values of the explanatory variables.\n",
    "\n",
    "\n",
    "\n",
    "In general, for a predicted value of the dependent variable y0\n",
    ", the 95% prediction interval can be found using the following formula:\n",
    "yˆ0 ± c×se(eˆ0)\n",
    "\n",
    "where c\n",
    " is the relevant critical value from the t-distribution and se(eˆ0)\n",
    " is:\n",
    "se(eˆ0)\n",
    "\t = \n",
    "\t(se(yˆ0)2+σˆ2)1/2\n",
    "\t = \n",
    "\t(0.012+0.452)1/2\n",
    "\t = \n",
    "\t0.20261/2\n",
    "\t = \n",
    "\t0.4501\n",
    "since se(yˆ0)=0.01\n",
    " and σˆ=0.45\n",
    ".\n",
    "\n",
    "The 95% critical value for the t distribution is 1.96, so the prediction interval is 1.853±1.96×0.4501\n",
    ".\n",
    "(Note: Most of the variation in the confidence interval comes from the regression error, suggesting that an individual’s future college GPA cannot be accurately pinned down using just SAT score, high school rank, and class size. This means that the unobserved characteristics that affect college GPA vary widely among individuals with the same SAT score, high school rank, and class size.)"
   ]
  },
  {
   "cell_type": "code",
   "execution_count": 71,
   "metadata": {},
   "outputs": [
    {
     "data": {
      "text/html": [
       "0.560216612444287"
      ],
      "text/latex": [
       "0.560216612444287"
      ],
      "text/markdown": [
       "0.560216612444287"
      ],
      "text/plain": [
       "[1] 0.5602166"
      ]
     },
     "metadata": {},
     "output_type": "display_data"
    }
   ],
   "source": [
    "data(\"gpa2\")\n",
    "\n",
    "lm.2 <- lm(colgpa ~ I(sat - 1200) + I(hsperc - 30) + I(hsize - 5) + I(hsizesq - 25), data = gpa2)\n",
    "s.2 <- summary(lm.2)\n",
    "\n",
    "se <- sqrt(s.2$coefficients[1, 2]^2 + s.2$sigma^2)\n",
    "se"
   ]
  },
  {
   "cell_type": "code",
   "execution_count": 72,
   "metadata": {},
   "outputs": [
    {
     "data": {
      "text/html": [
       "<ol class=list-inline>\n",
       "\t<li>1.60205092249821</li>\n",
       "\t<li>3.79810004327981</li>\n",
       "</ol>\n"
      ],
      "text/latex": [
       "\\begin{enumerate*}\n",
       "\\item 1.60205092249821\n",
       "\\item 3.79810004327981\n",
       "\\end{enumerate*}\n"
      ],
      "text/markdown": [
       "1. 1.60205092249821\n",
       "2. 3.79810004327981\n",
       "\n",
       "\n"
      ],
      "text/plain": [
       "[1] 1.602051 3.798100"
      ]
     },
     "metadata": {},
     "output_type": "display_data"
    }
   ],
   "source": [
    "ci.low <- s.2$coefficients[1, 1] - 1.96 * se\n",
    "ci.high <- s.2$coefficients[1, 1] + 1.96 * se\n",
    "c(ci.low, ci.high)"
   ]
  },
  {
   "cell_type": "markdown",
   "metadata": {},
   "source": [
    "#### Example from page 203"
   ]
  },
  {
   "cell_type": "code",
   "execution_count": 73,
   "metadata": {},
   "outputs": [
    {
     "data": {
      "text/html": [
       "-120.026447053272"
      ],
      "text/latex": [
       "-120.026447053272"
      ],
      "text/markdown": [
       "-120.026447053272"
      ],
      "text/plain": [
       "[1] -120.0264"
      ]
     },
     "metadata": {},
     "output_type": "display_data"
    }
   ],
   "source": [
    "data(\"hprice1\")\n",
    "\n",
    "lm.1 <- lm(price ~ lotsize + sqrft + bdrms, data = hprice1)\n",
    "min(lm.1$residuals)"
   ]
  },
  {
   "cell_type": "markdown",
   "metadata": {},
   "source": [
    "## Example 6.7 \n",
    "\n",
    "\n",
    "    Example 6.7: Predicting CEO Salaries\n",
    "\n",
    "use http://fmwww.bc.edu/ec-p/data/wooldridge/ceosal2\n",
    "\n",
    "reg lsalary lsales lmktval ceoten\n",
    "\n",
    "predict lsal, xb\n",
    "\n",
    "gen mhat=exp(lsal)\n",
    "\n",
    "    Predicted salary\n",
    "\n",
    "display _b[_cons]+_b[lsales]*log(5000)+_b[lmktval]*log(10000)+_b[ceoten]*10\n",
    "7.014077\n",
    "\n",
    "reg salary mhat, noconstant\n",
    "\n",
    "\n",
    "    Predicted salary\n",
    "\n",
    "display _b[mhat]*exp(7.013)\n",
    "\n"
   ]
  },
  {
   "cell_type": "code",
   "execution_count": 74,
   "metadata": {},
   "outputs": [
    {
     "data": {
      "text/plain": [
       "\n",
       "Call:\n",
       "lm(formula = lsalary ~ lsales + lmktval + ceoten, data = ceosal2)\n",
       "\n",
       "Residuals:\n",
       "     Min       1Q   Median       3Q      Max \n",
       "-2.49693 -0.29472  0.00964  0.30417  1.85286 \n",
       "\n",
       "Coefficients:\n",
       "            Estimate Std. Error t value Pr(>|t|)    \n",
       "(Intercept) 4.503795   0.257234  17.509  < 2e-16 ***\n",
       "lsales      0.162854   0.039242   4.150 5.21e-05 ***\n",
       "lmktval     0.109243   0.049595   2.203   0.0289 *  \n",
       "ceoten      0.011705   0.005326   2.198   0.0293 *  \n",
       "---\n",
       "Signif. codes:  0 ‘***’ 0.001 ‘**’ 0.01 ‘*’ 0.05 ‘.’ 0.1 ‘ ’ 1\n",
       "\n",
       "Residual standard error: 0.5048 on 173 degrees of freedom\n",
       "Multiple R-squared:  0.3182,\tAdjusted R-squared:  0.3063 \n",
       "F-statistic: 26.91 on 3 and 173 DF,  p-value: 2.474e-14\n"
      ]
     },
     "metadata": {},
     "output_type": "display_data"
    }
   ],
   "source": [
    "data(\"ceosal2\")\n",
    "\n",
    "lm.1 <- lm(lsalary ~ lsales + lmktval + ceoten, data = ceosal2)\n",
    "summary(lm.1)"
   ]
  },
  {
   "cell_type": "code",
   "execution_count": 75,
   "metadata": {},
   "outputs": [
    {
     "data": {
      "text/plain": [
       "\n",
       "Call:\n",
       "lm(formula = salary ~ m - 1, data = ceosal2)\n",
       "\n",
       "Residuals:\n",
       "    Min      1Q  Median      3Q     Max \n",
       "-1256.4  -240.9   -73.7   217.5  4371.1 \n",
       "\n",
       "Coefficients:\n",
       "  Estimate Std. Error t value Pr(>|t|)    \n",
       "m   1.1169     0.0471   23.71   <2e-16 ***\n",
       "---\n",
       "Signif. codes:  0 ‘***’ 0.001 ‘**’ 0.01 ‘*’ 0.05 ‘.’ 0.1 ‘ ’ 1\n",
       "\n",
       "Residual standard error: 511.9 on 176 degrees of freedom\n",
       "Multiple R-squared:  0.7616,\tAdjusted R-squared:  0.7603 \n",
       "F-statistic: 562.4 on 1 and 176 DF,  p-value: < 2.2e-16\n"
      ]
     },
     "metadata": {},
     "output_type": "display_data"
    }
   ],
   "source": [
    "a.1 <- sum(exp(lm.1$residuals)) / 177\n",
    "\n",
    "m <- exp(lm.1$fitted.values)\n",
    "summary(lm.3 <- lm(salary ~ m - 1, data = ceosal2))"
   ]
  },
  {
   "cell_type": "code",
   "execution_count": 76,
   "metadata": {},
   "outputs": [
    {
     "data": {
      "text/html": [
       "<strong>(Intercept):</strong> 7.01407705234802"
      ],
      "text/latex": [
       "\\textbf{(Intercept):} 7.01407705234802"
      ],
      "text/markdown": [
       "**(Intercept):** 7.01407705234802"
      ],
      "text/plain": [
       "(Intercept) \n",
       "   7.014077 "
      ]
     },
     "metadata": {},
     "output_type": "display_data"
    }
   ],
   "source": [
    "a.2 <- summary(lm.3 <- lm(salary ~ m - 1, data = ceosal2))$coefficient[1]\n",
    "\n",
    "lm.1$coefficients[1] + lm.1$coefficients[2] * log(5000) + lm.1$coefficients[3] * log(10000) + lm.1$coefficients[4] * 10"
   ]
  },
  {
   "cell_type": "code",
   "execution_count": 77,
   "metadata": {},
   "outputs": [
    {
     "data": {
      "text/html": [
       "<strong>(Intercept):</strong> 1112.17968873813"
      ],
      "text/latex": [
       "\\textbf{(Intercept):} 1112.17968873813"
      ],
      "text/markdown": [
       "**(Intercept):** 1112.17968873813"
      ],
      "text/plain": [
       "(Intercept) \n",
       "    1112.18 "
      ]
     },
     "metadata": {},
     "output_type": "display_data"
    }
   ],
   "source": [
    "exp(lm.1$coefficients[1] + lm.1$coefficients[2] * log(5000) + lm.1$coefficients[3] * log(10000) + lm.1$coefficients[4] * 10)"
   ]
  },
  {
   "cell_type": "code",
   "execution_count": 78,
   "metadata": {},
   "outputs": [
    {
     "data": {
      "text/html": [
       "<strong>(Intercept):</strong> 1263.05946080008"
      ],
      "text/latex": [
       "\\textbf{(Intercept):} 1263.05946080008"
      ],
      "text/markdown": [
       "**(Intercept):** 1263.05946080008"
      ],
      "text/plain": [
       "(Intercept) \n",
       "   1263.059 "
      ]
     },
     "metadata": {},
     "output_type": "display_data"
    }
   ],
   "source": [
    "a.1 * exp(lm.1$coefficients[1] + lm.1$coefficients[2] * log(5000) + lm.1$coefficients[3] * log(10000) + lm.1$coefficients[4] * 10)"
   ]
  },
  {
   "cell_type": "code",
   "execution_count": 79,
   "metadata": {},
   "outputs": [
    {
     "data": {
      "text/html": [
       "<strong>(Intercept):</strong> 1242.14529304834"
      ],
      "text/latex": [
       "\\textbf{(Intercept):} 1242.14529304834"
      ],
      "text/markdown": [
       "**(Intercept):** 1242.14529304834"
      ],
      "text/plain": [
       "(Intercept) \n",
       "   1242.145 "
      ]
     },
     "metadata": {},
     "output_type": "display_data"
    }
   ],
   "source": [
    "a.2 * exp(lm.1$coefficients[1] + lm.1$coefficients[2] * log(5000) + lm.1$coefficients[3] * log(10000) + lm.1$coefficients[4] * 10)"
   ]
  },
  {
   "cell_type": "code",
   "execution_count": null,
   "metadata": {},
   "outputs": [],
   "source": [
    "stargazer(type = \"text\",\n",
    "          lm.1, \n",
    "          lm.2,  \n",
    "          single.row = TRUE, header = FALSE, digits=5)"
   ]
  },
  {
   "cell_type": "markdown",
   "metadata": {},
   "source": [
    "## Example 6.8\n",
    "\n",
    "    Example 6.8: Predicting CEO Salaries\n",
    "\n",
    "use http://fmwww.bc.edu/ec-p/data/wooldridge/ceosal2\n",
    "\n",
    "reg salary sales mktval ceoten\n",
    "\n",
    "\n",
    "Prediction interval\n"
   ]
  },
  {
   "cell_type": "code",
   "execution_count": 109,
   "metadata": {},
   "outputs": [
    {
     "data": {
      "text/html": [
       "0.243080779586798"
      ],
      "text/latex": [
       "0.243080779586798"
      ],
      "text/markdown": [
       "0.243080779586798"
      ],
      "text/plain": [
       "[1] 0.2430808"
      ]
     },
     "metadata": {},
     "output_type": "display_data"
    }
   ],
   "source": [
    "data(\"ceosal2\")\n",
    "\n",
    "lm.1 <- lm(lsalary ~ lsales + lmktval + ceoten, data = ceosal2)\n",
    "m <- exp(lm.1$fitted.values)\n",
    "cor(ceosal2$salary, m)^2"
   ]
  },
  {
   "cell_type": "code",
   "execution_count": 110,
   "metadata": {},
   "outputs": [
    {
     "data": {
      "text/html": [
       "0.291621862012744"
      ],
      "text/latex": [
       "0.291621862012744"
      ],
      "text/markdown": [
       "0.291621862012744"
      ],
      "text/plain": [
       "[1] 0.2916219"
      ]
     },
     "metadata": {},
     "output_type": "display_data"
    }
   ],
   "source": [
    "cor(ceosal2$lsalary, m)^2"
   ]
  },
  {
   "cell_type": "code",
   "execution_count": 111,
   "metadata": {},
   "outputs": [
    {
     "data": {
      "text/html": [
       "0.318150783808945"
      ],
      "text/latex": [
       "0.318150783808945"
      ],
      "text/markdown": [
       "0.318150783808945"
      ],
      "text/plain": [
       "[1] 0.3181508"
      ]
     },
     "metadata": {},
     "output_type": "display_data"
    }
   ],
   "source": [
    "summary(lm.1)$r.squared"
   ]
  },
  {
   "cell_type": "code",
   "execution_count": 112,
   "metadata": {},
   "outputs": [
    {
     "data": {
      "text/html": [
       "0.201274391396765"
      ],
      "text/latex": [
       "0.201274391396765"
      ],
      "text/markdown": [
       "0.201274391396765"
      ],
      "text/plain": [
       "[1] 0.2012744"
      ]
     },
     "metadata": {},
     "output_type": "display_data"
    }
   ],
   "source": [
    "lm.2 <- lm(salary ~ sales + mktval + ceoten, data = ceosal2)\n",
    "summary(lm.2)$r.squared"
   ]
  },
  {
   "cell_type": "code",
   "execution_count": 113,
   "metadata": {},
   "outputs": [
    {
     "data": {
      "text/html": [
       "0.504768989139101"
      ],
      "text/latex": [
       "0.504768989139101"
      ],
      "text/markdown": [
       "0.504768989139101"
      ],
      "text/plain": [
       "[1] 0.504769"
      ]
     },
     "metadata": {},
     "output_type": "display_data"
    }
   ],
   "source": [
    "ceosal2.2 <- ceosal2\n",
    "ceosal2.2$lsales <- ceosal2.2$lsales - log(5000)\n",
    "ceosal2.2$lmktval <- ceosal2.2$lmktval - log(10000)\n",
    "ceosal2.2$ceoten <- ceosal2.2$ceoten - 10\n",
    "\n",
    "lm.3 <- lm(lsalary ~ lsales + lmktval + ceoten, data = ceosal2.2)\n",
    "s.3 <- summary(lm.3)\n",
    "\n",
    "s.3$sigma"
   ]
  },
  {
   "cell_type": "code",
   "execution_count": 114,
   "metadata": {},
   "outputs": [
    {
     "data": {
      "text/html": [
       "0.0745555993844182"
      ],
      "text/latex": [
       "0.0745555993844182"
      ],
      "text/markdown": [
       "0.0745555993844182"
      ],
      "text/plain": [
       "[1] 0.0745556"
      ]
     },
     "metadata": {},
     "output_type": "display_data"
    }
   ],
   "source": [
    "s.3$coefficients[1, 2]"
   ]
  },
  {
   "cell_type": "code",
   "execution_count": null,
   "metadata": {},
   "outputs": [],
   "source": []
  },
  {
   "cell_type": "markdown",
   "metadata": {},
   "source": [
    "\n",
    "In general, for a predicted value of the dependent variable y0\n",
    ", the 95% prediction interval can be found using the following formula:\n",
    "yˆ0 ± c×se(eˆ0)\n",
    "\n",
    "where c\n",
    " is the relevant critical value from the t-distribution and se(eˆ0)\n",
    " is:\n",
    "se(eˆ0)\n",
    "\t = \n",
    "\t(se(yˆ0)2+σˆ2)1/2\n",
    "\t = \n",
    "\t(0.012+0.452)1/2\n",
    "\t = \n",
    "\t0.20261/2\n",
    "\t = \n",
    "\t0.4501\n",
    "since se(yˆ0)=0.01\n",
    " and σˆ=0.45\n",
    ".\n",
    "\n",
    "The 95% critical value for the t distribution is 1.96, so the prediction interval is 1.853±1.96×0.4501\n",
    ".\n",
    "(Note: Most of the variation in the confidence interval comes from the regression error, suggesting that an individual’s future college GPA cannot be accurately pinned down using just SAT score, high school rank, and class size. This means that the unobserved characteristics that affect college GPA vary widely among individuals with the same SAT score, high school rank, and class size.)"
   ]
  },
  {
   "cell_type": "code",
   "execution_count": 115,
   "metadata": {},
   "outputs": [
    {
     "data": {
      "text/html": [
       "0.510245303551223"
      ],
      "text/latex": [
       "0.510245303551223"
      ],
      "text/markdown": [
       "0.510245303551223"
      ],
      "text/plain": [
       "[1] 0.5102453"
      ]
     },
     "metadata": {},
     "output_type": "display_data"
    }
   ],
   "source": [
    "se <- sqrt(s.3$coefficients[1, 2]^2 + s.3$sigma^2)\n",
    "se"
   ]
  },
  {
   "cell_type": "code",
   "execution_count": 116,
   "metadata": {},
   "outputs": [
    {
     "data": {
      "text/html": [
       "<ol class=list-inline>\n",
       "\t<li>409.114986610721</li>\n",
       "\t<li>3023.46210851138</li>\n",
       "</ol>\n"
      ],
      "text/latex": [
       "\\begin{enumerate*}\n",
       "\\item 409.114986610721\n",
       "\\item 3023.46210851138\n",
       "\\end{enumerate*}\n"
      ],
      "text/markdown": [
       "1. 409.114986610721\n",
       "2. 3023.46210851138\n",
       "\n",
       "\n"
      ],
      "text/plain": [
       "[1]  409.115 3023.462"
      ]
     },
     "metadata": {},
     "output_type": "display_data"
    }
   ],
   "source": [
    "ci.low <- exp(-1.96 * se) * exp(s.3$coefficients[1, 1])\n",
    "ci.high <- exp(1.96 * se) * exp(s.3$coefficients[1, 1])\n",
    "c(ci.low, ci.high)"
   ]
  },
  {
   "cell_type": "code",
   "execution_count": null,
   "metadata": {},
   "outputs": [],
   "source": []
  },
  {
   "cell_type": "code",
   "execution_count": 117,
   "metadata": {},
   "outputs": [
    {
     "name": "stdout",
     "output_type": "stream",
     "text": [
      "\n",
      "================================================================================================\n",
      "                                                      Dependent variable:                       \n",
      "                               -----------------------------------------------------------------\n",
      "                                     lsalary                salary                lsalary       \n",
      "                                       (1)                    (2)                   (3)         \n",
      "------------------------------------------------------------------------------------------------\n",
      "lsales                         0.16285*** (0.03924)                         0.16285*** (0.03924)\n",
      "lmktval                        0.10924** (0.04959)                          0.10924** (0.04959) \n",
      "sales                                                 0.01902* (0.01006)                        \n",
      "mktval                                                0.02340** (0.00948)                       \n",
      "ceoten                         0.01171** (0.00533)   12.70337** (5.61805)   0.01171** (0.00533) \n",
      "Constant                       4.50379*** (0.25723) 613.43610*** (65.23685) 7.01408*** (0.07456)\n",
      "------------------------------------------------------------------------------------------------\n",
      "Observations                           177                    177                   177         \n",
      "R2                                   0.31815                0.20127               0.31815       \n",
      "Adjusted R2                          0.30633                0.18742               0.30633       \n",
      "Residual Std. Error (df = 173)       0.50477               529.67070              0.50477       \n",
      "F Statistic (df = 3; 173)          26.90726***            14.53168***           26.90726***     \n",
      "================================================================================================\n",
      "Note:                                                                *p<0.1; **p<0.05; ***p<0.01\n"
     ]
    }
   ],
   "source": [
    "stargazer(type = \"text\",\n",
    "          lm.1, \n",
    "          lm.2, \n",
    "          lm.3,\n",
    "          single.row = TRUE, header = FALSE, digits=5)"
   ]
  },
  {
   "cell_type": "markdown",
   "metadata": {},
   "source": [
    "\n",
    "\n",
    "\n",
    "The observation with the highest residual is the observation for which the value of yi−yiˆ\n",
    " is the highest, or most positive.\n",
    "In this context, a high residual indicates that a player's predicted salary, based only on performance, is substantially lower than what that player is actually being paid. This implies that the player is overpaid relative to his performance. Since yi\n",
    " = a player's actual salary and yiˆ\n",
    " = a player's predicted salary, the player with the highest residual would be the most overpaid of all players based on his performance.\n",
    "Note that before drawing meaningful conclusions from such an analysis, the original regression of performance statistics on salary must be carefully examined. If the original regression does a poor job of predicting salaries (based on performance statistics) then you have a poor benchmark with which to say what a player “should” be paid. In that case, you cannot say whether a player is truly overpaid.\n",
    "\n",
    "\n",
    "\n",
    "The observation with the highest residual is the observation for which the value of yi−yiˆ\n",
    " is the highest, or most positive.\n",
    " \n",
    "In this context, a high residual indicates that a car’s predicted price, based only on its features, is substantially lower than the actual asking price of the car. Thus, since yi\n",
    " = a car's actual price and yiˆ = a car's predicted price, the car with the highest residual would be the most overpriced relative to its features."
   ]
  },
  {
   "cell_type": "code",
   "execution_count": null,
   "metadata": {},
   "outputs": [],
   "source": []
  },
  {
   "cell_type": "code",
   "execution_count": 3,
   "metadata": {},
   "outputs": [],
   "source": [
    "data(ceosal1)"
   ]
  },
  {
   "cell_type": "code",
   "execution_count": 5,
   "metadata": {},
   "outputs": [
    {
     "data": {
      "text/html": [
       "<table>\n",
       "<thead><tr><th scope=col>salary</th><th scope=col>pcsalary</th><th scope=col>sales</th><th scope=col>roe</th><th scope=col>pcroe</th><th scope=col>ros</th><th scope=col>indus</th><th scope=col>finance</th><th scope=col>consprod</th><th scope=col>utility</th><th scope=col>lsalary</th><th scope=col>lsales</th></tr></thead>\n",
       "<tbody>\n",
       "\t<tr><td>1095     </td><td>20       </td><td>27595.0  </td><td>14.1     </td><td>106.4    </td><td>191      </td><td>1        </td><td>0        </td><td>0        </td><td>0        </td><td>6.998509 </td><td>10.225389</td></tr>\n",
       "\t<tr><td>1001     </td><td>32       </td><td> 9958.0  </td><td>10.9     </td><td>-30.6    </td><td> 13      </td><td>1        </td><td>0        </td><td>0        </td><td>0        </td><td>6.908755 </td><td> 9.206132</td></tr>\n",
       "\t<tr><td>1122     </td><td> 9       </td><td> 6125.9  </td><td>23.5     </td><td>-16.3    </td><td> 14      </td><td>1        </td><td>0        </td><td>0        </td><td>0        </td><td>7.022868 </td><td> 8.720281</td></tr>\n",
       "\t<tr><td> 578     </td><td>-9       </td><td>16246.0  </td><td> 5.9     </td><td>-25.7    </td><td>-21      </td><td>1        </td><td>0        </td><td>0        </td><td>0        </td><td>6.359574 </td><td> 9.695602</td></tr>\n",
       "\t<tr><td>1368     </td><td> 7       </td><td>21783.2  </td><td>13.8     </td><td> -3.0    </td><td> 56      </td><td>1        </td><td>0        </td><td>0        </td><td>0        </td><td>7.221105 </td><td> 9.988894</td></tr>\n",
       "\t<tr><td>1145     </td><td> 5       </td><td> 6021.4  </td><td>20.0     </td><td>  1.0    </td><td> 55      </td><td>1        </td><td>0        </td><td>0        </td><td>0        </td><td>7.043160 </td><td> 8.703075</td></tr>\n",
       "</tbody>\n",
       "</table>\n"
      ],
      "text/latex": [
       "\\begin{tabular}{r|llllllllllll}\n",
       " salary & pcsalary & sales & roe & pcroe & ros & indus & finance & consprod & utility & lsalary & lsales\\\\\n",
       "\\hline\n",
       "\t 1095      & 20        & 27595.0   & 14.1      & 106.4     & 191       & 1         & 0         & 0         & 0         & 6.998509  & 10.225389\\\\\n",
       "\t 1001      & 32        &  9958.0   & 10.9      & -30.6     &  13       & 1         & 0         & 0         & 0         & 6.908755  &  9.206132\\\\\n",
       "\t 1122      &  9        &  6125.9   & 23.5      & -16.3     &  14       & 1         & 0         & 0         & 0         & 7.022868  &  8.720281\\\\\n",
       "\t  578      & -9        & 16246.0   &  5.9      & -25.7     & -21       & 1         & 0         & 0         & 0         & 6.359574  &  9.695602\\\\\n",
       "\t 1368      &  7        & 21783.2   & 13.8      &  -3.0     &  56       & 1         & 0         & 0         & 0         & 7.221105  &  9.988894\\\\\n",
       "\t 1145      &  5        &  6021.4   & 20.0      &   1.0     &  55       & 1         & 0         & 0         & 0         & 7.043160  &  8.703075\\\\\n",
       "\\end{tabular}\n"
      ],
      "text/markdown": [
       "\n",
       "salary | pcsalary | sales | roe | pcroe | ros | indus | finance | consprod | utility | lsalary | lsales | \n",
       "|---|---|---|---|---|---|\n",
       "| 1095      | 20        | 27595.0   | 14.1      | 106.4     | 191       | 1         | 0         | 0         | 0         | 6.998509  | 10.225389 | \n",
       "| 1001      | 32        |  9958.0   | 10.9      | -30.6     |  13       | 1         | 0         | 0         | 0         | 6.908755  |  9.206132 | \n",
       "| 1122      |  9        |  6125.9   | 23.5      | -16.3     |  14       | 1         | 0         | 0         | 0         | 7.022868  |  8.720281 | \n",
       "|  578      | -9        | 16246.0   |  5.9      | -25.7     | -21       | 1         | 0         | 0         | 0         | 6.359574  |  9.695602 | \n",
       "| 1368      |  7        | 21783.2   | 13.8      |  -3.0     |  56       | 1         | 0         | 0         | 0         | 7.221105  |  9.988894 | \n",
       "| 1145      |  5        |  6021.4   | 20.0      |   1.0     |  55       | 1         | 0         | 0         | 0         | 7.043160  |  8.703075 | \n",
       "\n",
       "\n"
      ],
      "text/plain": [
       "  salary pcsalary sales   roe  pcroe ros indus finance consprod utility\n",
       "1 1095   20       27595.0 14.1 106.4 191 1     0       0        0      \n",
       "2 1001   32        9958.0 10.9 -30.6  13 1     0       0        0      \n",
       "3 1122    9        6125.9 23.5 -16.3  14 1     0       0        0      \n",
       "4  578   -9       16246.0  5.9 -25.7 -21 1     0       0        0      \n",
       "5 1368    7       21783.2 13.8  -3.0  56 1     0       0        0      \n",
       "6 1145    5        6021.4 20.0   1.0  55 1     0       0        0      \n",
       "  lsalary  lsales   \n",
       "1 6.998509 10.225389\n",
       "2 6.908755  9.206132\n",
       "3 7.022868  8.720281\n",
       "4 6.359574  9.695602\n",
       "5 7.221105  9.988894\n",
       "6 7.043160  8.703075"
      ]
     },
     "metadata": {},
     "output_type": "display_data"
    }
   ],
   "source": [
    "head(ceosal1)"
   ]
  },
  {
   "cell_type": "code",
   "execution_count": 7,
   "metadata": {},
   "outputs": [],
   "source": [
    "ceosal1_m1 = lm(log(salary)~log(sales)+roe+finance+consprod+utility, data = ceosal1)"
   ]
  },
  {
   "cell_type": "code",
   "execution_count": 8,
   "metadata": {},
   "outputs": [
    {
     "data": {
      "text/plain": [
       "\n",
       "Call:\n",
       "lm(formula = log(salary) ~ log(sales) + roe + finance + consprod + \n",
       "    utility, data = ceosal1)\n",
       "\n",
       "Residuals:\n",
       "     Min       1Q   Median       3Q      Max \n",
       "-1.09465 -0.22173 -0.01973  0.17141  2.64394 \n",
       "\n",
       "Coefficients:\n",
       "            Estimate Std. Error t value Pr(>|t|)    \n",
       "(Intercept)  4.58810    0.29502  15.552  < 2e-16 ***\n",
       "log(sales)   0.25719    0.03204   8.029 7.85e-14 ***\n",
       "roe          0.01115    0.00430   2.594   0.0102 *  \n",
       "finance      0.15796    0.08900   1.775   0.0774 .  \n",
       "consprod     0.18089    0.08477   2.134   0.0340 *  \n",
       "utility     -0.28300    0.09923  -2.852   0.0048 ** \n",
       "---\n",
       "Signif. codes:  0 ‘***’ 0.001 ‘**’ 0.01 ‘*’ 0.05 ‘.’ 0.1 ‘ ’ 1\n",
       "\n",
       "Residual standard error: 0.4598 on 203 degrees of freedom\n",
       "Multiple R-squared:  0.3569,\tAdjusted R-squared:  0.341 \n",
       "F-statistic: 22.53 on 5 and 203 DF,  p-value: < 2.2e-16\n"
      ]
     },
     "metadata": {},
     "output_type": "display_data"
    }
   ],
   "source": [
    "summary(ceosal1_m1)"
   ]
  },
  {
   "cell_type": "code",
   "execution_count": 56,
   "metadata": {},
   "outputs": [
    {
     "data": {
      "text/html": [
       "0.00429957996631234"
      ],
      "text/latex": [
       "0.00429957996631234"
      ],
      "text/markdown": [
       "0.00429957996631234"
      ],
      "text/plain": [
       "[1] 0.00429958"
      ]
     },
     "metadata": {},
     "output_type": "display_data"
    }
   ],
   "source": [
    "summary(ceosal1_m1)$coefficients[3,2]"
   ]
  },
  {
   "cell_type": "code",
   "execution_count": 58,
   "metadata": {},
   "outputs": [
    {
     "data": {
      "text/html": [
       "0.00509353510573877"
      ],
      "text/latex": [
       "0.00509353510573877"
      ],
      "text/markdown": [
       "0.00509353510573877"
      ],
      "text/plain": [
       "[1] 0.005093535"
      ]
     },
     "metadata": {},
     "output_type": "display_data"
    }
   ],
   "source": [
    "summary(ceosal1_m1)$coefficients[3,4]/2"
   ]
  },
  {
   "cell_type": "code",
   "execution_count": null,
   "metadata": {},
   "outputs": [],
   "source": []
  },
  {
   "cell_type": "code",
   "execution_count": 10,
   "metadata": {},
   "outputs": [],
   "source": [
    "data(k401ksubs)"
   ]
  },
  {
   "cell_type": "code",
   "execution_count": 11,
   "metadata": {},
   "outputs": [
    {
     "data": {
      "text/html": [
       "<table>\n",
       "<thead><tr><th scope=col>e401k</th><th scope=col>inc</th><th scope=col>marr</th><th scope=col>male</th><th scope=col>age</th><th scope=col>fsize</th><th scope=col>nettfa</th><th scope=col>p401k</th><th scope=col>pira</th><th scope=col>incsq</th><th scope=col>agesq</th></tr></thead>\n",
       "<tbody>\n",
       "\t<tr><td>0        </td><td>13.170   </td><td>0        </td><td>0        </td><td>40       </td><td>1        </td><td>  4.575  </td><td>0        </td><td>1        </td><td> 173.4489</td><td>1600     </td></tr>\n",
       "\t<tr><td>1        </td><td>61.230   </td><td>0        </td><td>1        </td><td>35       </td><td>1        </td><td>154.000  </td><td>1        </td><td>0        </td><td>3749.1128</td><td>1225     </td></tr>\n",
       "\t<tr><td>0        </td><td>12.858   </td><td>1        </td><td>0        </td><td>44       </td><td>2        </td><td>  0.000  </td><td>0        </td><td>0        </td><td> 165.3282</td><td>1936     </td></tr>\n",
       "\t<tr><td>0        </td><td>98.880   </td><td>1        </td><td>1        </td><td>44       </td><td>2        </td><td> 21.800  </td><td>0        </td><td>0        </td><td>9777.2539</td><td>1936     </td></tr>\n",
       "\t<tr><td>0        </td><td>22.614   </td><td>0        </td><td>0        </td><td>53       </td><td>1        </td><td> 18.450  </td><td>0        </td><td>0        </td><td> 511.3930</td><td>2809     </td></tr>\n",
       "\t<tr><td>0        </td><td>15.000   </td><td>1        </td><td>0        </td><td>60       </td><td>3        </td><td>  0.000  </td><td>0        </td><td>0        </td><td> 225.0000</td><td>3600     </td></tr>\n",
       "</tbody>\n",
       "</table>\n"
      ],
      "text/latex": [
       "\\begin{tabular}{r|lllllllllll}\n",
       " e401k & inc & marr & male & age & fsize & nettfa & p401k & pira & incsq & agesq\\\\\n",
       "\\hline\n",
       "\t 0         & 13.170    & 0         & 0         & 40        & 1         &   4.575   & 0         & 1         &  173.4489 & 1600     \\\\\n",
       "\t 1         & 61.230    & 0         & 1         & 35        & 1         & 154.000   & 1         & 0         & 3749.1128 & 1225     \\\\\n",
       "\t 0         & 12.858    & 1         & 0         & 44        & 2         &   0.000   & 0         & 0         &  165.3282 & 1936     \\\\\n",
       "\t 0         & 98.880    & 1         & 1         & 44        & 2         &  21.800   & 0         & 0         & 9777.2539 & 1936     \\\\\n",
       "\t 0         & 22.614    & 0         & 0         & 53        & 1         &  18.450   & 0         & 0         &  511.3930 & 2809     \\\\\n",
       "\t 0         & 15.000    & 1         & 0         & 60        & 3         &   0.000   & 0         & 0         &  225.0000 & 3600     \\\\\n",
       "\\end{tabular}\n"
      ],
      "text/markdown": [
       "\n",
       "e401k | inc | marr | male | age | fsize | nettfa | p401k | pira | incsq | agesq | \n",
       "|---|---|---|---|---|---|\n",
       "| 0         | 13.170    | 0         | 0         | 40        | 1         |   4.575   | 0         | 1         |  173.4489 | 1600      | \n",
       "| 1         | 61.230    | 0         | 1         | 35        | 1         | 154.000   | 1         | 0         | 3749.1128 | 1225      | \n",
       "| 0         | 12.858    | 1         | 0         | 44        | 2         |   0.000   | 0         | 0         |  165.3282 | 1936      | \n",
       "| 0         | 98.880    | 1         | 1         | 44        | 2         |  21.800   | 0         | 0         | 9777.2539 | 1936      | \n",
       "| 0         | 22.614    | 0         | 0         | 53        | 1         |  18.450   | 0         | 0         |  511.3930 | 2809      | \n",
       "| 0         | 15.000    | 1         | 0         | 60        | 3         |   0.000   | 0         | 0         |  225.0000 | 3600      | \n",
       "\n",
       "\n"
      ],
      "text/plain": [
       "  e401k inc    marr male age fsize nettfa  p401k pira incsq     agesq\n",
       "1 0     13.170 0    0    40  1       4.575 0     1     173.4489 1600 \n",
       "2 1     61.230 0    1    35  1     154.000 1     0    3749.1128 1225 \n",
       "3 0     12.858 1    0    44  2       0.000 0     0     165.3282 1936 \n",
       "4 0     98.880 1    1    44  2      21.800 0     0    9777.2539 1936 \n",
       "5 0     22.614 0    0    53  1      18.450 0     0     511.3930 2809 \n",
       "6 0     15.000 1    0    60  3       0.000 0     0     225.0000 3600 "
      ]
     },
     "metadata": {},
     "output_type": "display_data"
    }
   ],
   "source": [
    "head(k401ksubs)"
   ]
  },
  {
   "cell_type": "code",
   "execution_count": 5,
   "metadata": {},
   "outputs": [],
   "source": [
    "k401ksubs_m1 = lm(nettfa~inc+age+I(age*age),data = subset(k401ksubs,fsize==2))"
   ]
  },
  {
   "cell_type": "code",
   "execution_count": 6,
   "metadata": {},
   "outputs": [
    {
     "data": {
      "text/plain": [
       "\n",
       "Call:\n",
       "lm(formula = nettfa ~ inc + age + I(age * age), data = subset(k401ksubs, \n",
       "    fsize == 2))\n",
       "\n",
       "Residuals:\n",
       "    Min      1Q  Median      3Q     Max \n",
       "-514.39  -25.76   -6.25   14.10 1450.55 \n",
       "\n",
       "Coefficients:\n",
       "              Estimate Std. Error t value Pr(>|t|)    \n",
       "(Intercept)  -31.91940   25.07368  -1.273   0.2031    \n",
       "inc            1.17915    0.05996  19.667   <2e-16 ***\n",
       "age           -1.14670    1.19246  -0.962   0.3363    \n",
       "I(age * age)   0.02930    0.01339   2.188   0.0288 *  \n",
       "---\n",
       "Signif. codes:  0 ‘***’ 0.001 ‘**’ 0.01 ‘*’ 0.05 ‘.’ 0.1 ‘ ’ 1\n",
       "\n",
       "Residual standard error: 74.36 on 2195 degrees of freedom\n",
       "Multiple R-squared:  0.1926,\tAdjusted R-squared:  0.1915 \n",
       "F-statistic: 174.5 on 3 and 2195 DF,  p-value: < 2.2e-16\n"
      ]
     },
     "metadata": {},
     "output_type": "display_data"
    }
   ],
   "source": [
    "summary(k401ksubs_m1)"
   ]
  },
  {
   "cell_type": "code",
   "execution_count": 7,
   "metadata": {},
   "outputs": [
    {
     "data": {
      "text/html": [
       "1.19245894854532"
      ],
      "text/latex": [
       "1.19245894854532"
      ],
      "text/markdown": [
       "1.19245894854532"
      ],
      "text/plain": [
       "[1] 1.192459"
      ]
     },
     "metadata": {},
     "output_type": "display_data"
    }
   ],
   "source": [
    "summary(k401ksubs_m1)$coefficients[3,2]"
   ]
  },
  {
   "cell_type": "code",
   "execution_count": 8,
   "metadata": {},
   "outputs": [
    {
     "data": {
      "text/html": [
       "<table>\n",
       "<thead><tr><th scope=col>std.error</th></tr></thead>\n",
       "<tbody>\n",
       "\t<tr><td>1.192459</td></tr>\n",
       "</tbody>\n",
       "</table>\n"
      ],
      "text/latex": [
       "\\begin{tabular}{r|l}\n",
       " std.error\\\\\n",
       "\\hline\n",
       "\t 1.192459\\\\\n",
       "\\end{tabular}\n"
      ],
      "text/markdown": [
       "\n",
       "std.error | \n",
       "|---|\n",
       "| 1.192459 | \n",
       "\n",
       "\n"
      ],
      "text/plain": [
       "  std.error\n",
       "1 1.192459 "
      ]
     },
     "metadata": {},
     "output_type": "display_data"
    }
   ],
   "source": [
    "tidy(k401ksubs_m1)[3,3]"
   ]
  },
  {
   "cell_type": "code",
   "execution_count": 9,
   "metadata": {},
   "outputs": [
    {
     "name": "stdout",
     "output_type": "stream",
     "text": [
      " Named num -1.15\n",
      " - attr(*, \"names\")= chr \"age\"\n"
     ]
    }
   ],
   "source": [
    "str(coef(k401ksubs_m1)[3])"
   ]
  },
  {
   "cell_type": "code",
   "execution_count": 10,
   "metadata": {},
   "outputs": [
    {
     "data": {
      "text/html": [
       "<strong>I(age * age):</strong> 0.0293037245641309"
      ],
      "text/latex": [
       "\\textbf{I(age * age):} 0.0293037245641309"
      ],
      "text/markdown": [
       "**I(age * age):** 0.0293037245641309"
      ],
      "text/plain": [
       "I(age * age) \n",
       "  0.02930372 "
      ]
     },
     "metadata": {},
     "output_type": "display_data"
    }
   ],
   "source": [
    "coef(k401ksubs_m1)[4]"
   ]
  },
  {
   "cell_type": "code",
   "execution_count": 14,
   "metadata": {},
   "outputs": [
    {
     "ename": "ERROR",
     "evalue": "Error in linearHypothesis(res, matchCoefs(res, \"rooms\")): could not find function \"linearHypothesis\"\n",
     "output_type": "error",
     "traceback": [
      "Error in linearHypothesis(res, matchCoefs(res, \"rooms\")): could not find function \"linearHypothesis\"\nTraceback:\n"
     ]
    }
   ],
   "source": [
    "# Manual t test for rooms:\n",
    "linearHypothesis(res, matchCoefs(res,\"rooms\"))"
   ]
  },
  {
   "cell_type": "code",
   "execution_count": null,
   "metadata": {},
   "outputs": [],
   "source": []
  },
  {
   "cell_type": "code",
   "execution_count": 41,
   "metadata": {},
   "outputs": [
    {
     "data": {
      "text/html": [
       "<strong>age:</strong> -0.123018964590653"
      ],
      "text/latex": [
       "\\textbf{age:} -0.123018964590653"
      ],
      "text/markdown": [
       "**age:** -0.123018964590653"
      ],
      "text/plain": [
       "      age \n",
       "-0.123019 "
      ]
     },
     "metadata": {},
     "output_type": "display_data"
    }
   ],
   "source": [
    "(coef(k401ksubs_m1)[3]-(-1))/summary(k401ksubs_m1)$coefficients[3,2]"
   ]
  },
  {
   "cell_type": "code",
   "execution_count": 43,
   "metadata": {},
   "outputs": [
    {
     "data": {
      "text/html": [
       "<strong>age:</strong> 0.451046040230681"
      ],
      "text/latex": [
       "\\textbf{age:} 0.451046040230681"
      ],
      "text/markdown": [
       "**age:** 0.451046040230681"
      ],
      "text/plain": [
       "     age \n",
       "0.451046 "
      ]
     },
     "metadata": {},
     "output_type": "display_data"
    }
   ],
   "source": [
    "pnorm((coef(k401ksubs_m1)[3]-(-1))/summary(k401ksubs_m1)$coefficients[3,2])"
   ]
  },
  {
   "cell_type": "code",
   "execution_count": 88,
   "metadata": {},
   "outputs": [
    {
     "data": {
      "text/html": [
       "0.568312185490169"
      ],
      "text/latex": [
       "0.568312185490169"
      ],
      "text/markdown": [
       "0.568312185490169"
      ],
      "text/plain": [
       "[1] 0.5683122"
      ]
     },
     "metadata": {},
     "output_type": "display_data"
    }
   ],
   "source": [
    "exp(0.45)-1"
   ]
  },
  {
   "cell_type": "code",
   "execution_count": 89,
   "metadata": {},
   "outputs": [
    {
     "data": {
      "text/html": [
       "-0.362371848378227"
      ],
      "text/latex": [
       "-0.362371848378227"
      ],
      "text/markdown": [
       "-0.362371848378227"
      ],
      "text/plain": [
       "[1] -0.3623718"
      ]
     },
     "metadata": {},
     "output_type": "display_data"
    }
   ],
   "source": [
    "exp(-0.45)-1"
   ]
  },
  {
   "cell_type": "code",
   "execution_count": null,
   "metadata": {},
   "outputs": [],
   "source": []
  }
 ],
 "metadata": {
  "kernelspec": {
   "display_name": "R",
   "language": "R",
   "name": "ir"
  },
  "language_info": {
   "codemirror_mode": "r",
   "file_extension": ".r",
   "mimetype": "text/x-r-source",
   "name": "R",
   "pygments_lexer": "r",
   "version": "3.5.1"
  }
 },
 "nbformat": 4,
 "nbformat_minor": 2
}
