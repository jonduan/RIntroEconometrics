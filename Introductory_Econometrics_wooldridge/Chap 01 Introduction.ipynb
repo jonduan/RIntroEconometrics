{
 "cells": [
  {
   "cell_type": "markdown",
   "metadata": {},
   "source": [
    "## Wooldridge Introductory Economics\n",
    "\n",
    "https://cran.r-project.org/web/packages/wooldridge/vignettes/Introductory-Econometrics-Examples.html\n",
    "\n",
    "https://rdrr.io/cran/wooldridge/f/inst/doc/Introductory-Econometrics-Examples.Rmd"
   ]
  },
  {
   "cell_type": "code",
   "execution_count": 1,
   "metadata": {},
   "outputs": [
    {
     "name": "stderr",
     "output_type": "stream",
     "text": [
      "Installing package into ‘/home/jupyter/R/x86_64-pc-linux-gnu-library/3.5’\n",
      "(as ‘lib’ is unspecified)\n",
      "also installing the dependency ‘remotes’\n",
      "\n"
     ]
    }
   ],
   "source": [
    "install.packages(\"pacman\")"
   ]
  },
  {
   "cell_type": "code",
   "execution_count": 11,
   "metadata": {},
   "outputs": [],
   "source": [
    "pacman::p_load(wooldridge,stargazer,tidyverse)"
   ]
  },
  {
   "cell_type": "code",
   "execution_count": 8,
   "metadata": {},
   "outputs": [],
   "source": [
    "data(\"wage1\")\n",
    "\n",
    "?wage1"
   ]
  },
  {
   "cell_type": "code",
   "execution_count": 9,
   "metadata": {},
   "outputs": [
    {
     "name": "stdout",
     "output_type": "stream",
     "text": [
      "'data.frame':\t526 obs. of  24 variables:\n",
      " $ wage    : num  3.1 3.24 3 6 5.3 ...\n",
      " $ educ    : int  11 12 11 8 12 16 18 12 12 17 ...\n",
      " $ exper   : int  2 22 2 44 7 9 15 5 26 22 ...\n",
      " $ tenure  : int  0 2 0 28 2 8 7 3 4 21 ...\n",
      " $ nonwhite: int  0 0 0 0 0 0 0 0 0 0 ...\n",
      " $ female  : int  1 1 0 0 0 0 0 1 1 0 ...\n",
      " $ married : int  0 1 0 1 1 1 0 0 0 1 ...\n",
      " $ numdep  : int  2 3 2 0 1 0 0 0 2 0 ...\n",
      " $ smsa    : int  1 1 0 1 0 1 1 1 1 1 ...\n",
      " $ northcen: int  0 0 0 0 0 0 0 0 0 0 ...\n",
      " $ south   : int  0 0 0 0 0 0 0 0 0 0 ...\n",
      " $ west    : int  1 1 1 1 1 1 1 1 1 1 ...\n",
      " $ construc: int  0 0 0 0 0 0 0 0 0 0 ...\n",
      " $ ndurman : int  0 0 0 0 0 0 0 0 0 0 ...\n",
      " $ trcommpu: int  0 0 0 0 0 0 0 0 0 0 ...\n",
      " $ trade   : int  0 0 1 0 0 0 1 0 1 0 ...\n",
      " $ services: int  0 1 0 0 0 0 0 0 0 0 ...\n",
      " $ profserv: int  0 0 0 0 0 1 0 0 0 0 ...\n",
      " $ profocc : int  0 0 0 0 0 1 1 1 1 1 ...\n",
      " $ clerocc : int  0 0 0 1 0 0 0 0 0 0 ...\n",
      " $ servocc : int  0 1 0 0 0 0 0 0 0 0 ...\n",
      " $ lwage   : num  1.13 1.18 1.1 1.79 1.67 ...\n",
      " $ expersq : int  4 484 4 1936 49 81 225 25 676 484 ...\n",
      " $ tenursq : int  0 4 0 784 4 64 49 9 16 441 ...\n",
      " - attr(*, \"time.stamp\")= chr \"25 Jun 2011 23:03\"\n"
     ]
    }
   ],
   "source": [
    " str(wage1)"
   ]
  },
  {
   "cell_type": "code",
   "execution_count": 10,
   "metadata": {},
   "outputs": [
    {
     "data": {
      "text/html": [
       "<table>\n",
       "<thead><tr><th scope=col>wage</th><th scope=col>educ</th><th scope=col>exper</th><th scope=col>tenure</th><th scope=col>nonwhite</th><th scope=col>female</th><th scope=col>married</th><th scope=col>numdep</th><th scope=col>smsa</th><th scope=col>northcen</th><th scope=col>⋯</th><th scope=col>trcommpu</th><th scope=col>trade</th><th scope=col>services</th><th scope=col>profserv</th><th scope=col>profocc</th><th scope=col>clerocc</th><th scope=col>servocc</th><th scope=col>lwage</th><th scope=col>expersq</th><th scope=col>tenursq</th></tr></thead>\n",
       "<tbody>\n",
       "\t<tr><td>3.10    </td><td>11      </td><td> 2      </td><td> 0      </td><td>0       </td><td>1       </td><td>0       </td><td>2       </td><td>1       </td><td>0       </td><td>⋯       </td><td>0       </td><td>0       </td><td>0       </td><td>0       </td><td>0       </td><td>0       </td><td>0       </td><td>1.131402</td><td>   4    </td><td>  0     </td></tr>\n",
       "\t<tr><td>3.24    </td><td>12      </td><td>22      </td><td> 2      </td><td>0       </td><td>1       </td><td>1       </td><td>3       </td><td>1       </td><td>0       </td><td>⋯       </td><td>0       </td><td>0       </td><td>1       </td><td>0       </td><td>0       </td><td>0       </td><td>1       </td><td>1.175573</td><td> 484    </td><td>  4     </td></tr>\n",
       "\t<tr><td>3.00    </td><td>11      </td><td> 2      </td><td> 0      </td><td>0       </td><td>0       </td><td>0       </td><td>2       </td><td>0       </td><td>0       </td><td>⋯       </td><td>0       </td><td>1       </td><td>0       </td><td>0       </td><td>0       </td><td>0       </td><td>0       </td><td>1.098612</td><td>   4    </td><td>  0     </td></tr>\n",
       "\t<tr><td>6.00    </td><td> 8      </td><td>44      </td><td>28      </td><td>0       </td><td>0       </td><td>1       </td><td>0       </td><td>1       </td><td>0       </td><td>⋯       </td><td>0       </td><td>0       </td><td>0       </td><td>0       </td><td>0       </td><td>1       </td><td>0       </td><td>1.791759</td><td>1936    </td><td>784     </td></tr>\n",
       "\t<tr><td>5.30    </td><td>12      </td><td> 7      </td><td> 2      </td><td>0       </td><td>0       </td><td>1       </td><td>1       </td><td>0       </td><td>0       </td><td>⋯       </td><td>0       </td><td>0       </td><td>0       </td><td>0       </td><td>0       </td><td>0       </td><td>0       </td><td>1.667707</td><td>  49    </td><td>  4     </td></tr>\n",
       "\t<tr><td>8.75    </td><td>16      </td><td> 9      </td><td> 8      </td><td>0       </td><td>0       </td><td>1       </td><td>0       </td><td>1       </td><td>0       </td><td>⋯       </td><td>0       </td><td>0       </td><td>0       </td><td>1       </td><td>1       </td><td>0       </td><td>0       </td><td>2.169054</td><td>  81    </td><td> 64     </td></tr>\n",
       "</tbody>\n",
       "</table>\n"
      ],
      "text/latex": [
       "\\begin{tabular}{r|llllllllllllllllllllllll}\n",
       " wage & educ & exper & tenure & nonwhite & female & married & numdep & smsa & northcen & ⋯ & trcommpu & trade & services & profserv & profocc & clerocc & servocc & lwage & expersq & tenursq\\\\\n",
       "\\hline\n",
       "\t 3.10     & 11       &  2       &  0       & 0        & 1        & 0        & 2        & 1        & 0        & ⋯        & 0        & 0        & 0        & 0        & 0        & 0        & 0        & 1.131402 &    4     &   0     \\\\\n",
       "\t 3.24     & 12       & 22       &  2       & 0        & 1        & 1        & 3        & 1        & 0        & ⋯        & 0        & 0        & 1        & 0        & 0        & 0        & 1        & 1.175573 &  484     &   4     \\\\\n",
       "\t 3.00     & 11       &  2       &  0       & 0        & 0        & 0        & 2        & 0        & 0        & ⋯        & 0        & 1        & 0        & 0        & 0        & 0        & 0        & 1.098612 &    4     &   0     \\\\\n",
       "\t 6.00     &  8       & 44       & 28       & 0        & 0        & 1        & 0        & 1        & 0        & ⋯        & 0        & 0        & 0        & 0        & 0        & 1        & 0        & 1.791759 & 1936     & 784     \\\\\n",
       "\t 5.30     & 12       &  7       &  2       & 0        & 0        & 1        & 1        & 0        & 0        & ⋯        & 0        & 0        & 0        & 0        & 0        & 0        & 0        & 1.667707 &   49     &   4     \\\\\n",
       "\t 8.75     & 16       &  9       &  8       & 0        & 0        & 1        & 0        & 1        & 0        & ⋯        & 0        & 0        & 0        & 1        & 1        & 0        & 0        & 2.169054 &   81     &  64     \\\\\n",
       "\\end{tabular}\n"
      ],
      "text/markdown": [
       "\n",
       "wage | educ | exper | tenure | nonwhite | female | married | numdep | smsa | northcen | ⋯ | trcommpu | trade | services | profserv | profocc | clerocc | servocc | lwage | expersq | tenursq | \n",
       "|---|---|---|---|---|---|\n",
       "| 3.10     | 11       |  2       |  0       | 0        | 1        | 0        | 2        | 1        | 0        | ⋯        | 0        | 0        | 0        | 0        | 0        | 0        | 0        | 1.131402 |    4     |   0      | \n",
       "| 3.24     | 12       | 22       |  2       | 0        | 1        | 1        | 3        | 1        | 0        | ⋯        | 0        | 0        | 1        | 0        | 0        | 0        | 1        | 1.175573 |  484     |   4      | \n",
       "| 3.00     | 11       |  2       |  0       | 0        | 0        | 0        | 2        | 0        | 0        | ⋯        | 0        | 1        | 0        | 0        | 0        | 0        | 0        | 1.098612 |    4     |   0      | \n",
       "| 6.00     |  8       | 44       | 28       | 0        | 0        | 1        | 0        | 1        | 0        | ⋯        | 0        | 0        | 0        | 0        | 0        | 1        | 0        | 1.791759 | 1936     | 784      | \n",
       "| 5.30     | 12       |  7       |  2       | 0        | 0        | 1        | 1        | 0        | 0        | ⋯        | 0        | 0        | 0        | 0        | 0        | 0        | 0        | 1.667707 |   49     |   4      | \n",
       "| 8.75     | 16       |  9       |  8       | 0        | 0        | 1        | 0        | 1        | 0        | ⋯        | 0        | 0        | 0        | 1        | 1        | 0        | 0        | 2.169054 |   81     |  64      | \n",
       "\n",
       "\n"
      ],
      "text/plain": [
       "  wage educ exper tenure nonwhite female married numdep smsa northcen ⋯\n",
       "1 3.10 11    2     0     0        1      0       2      1    0        ⋯\n",
       "2 3.24 12   22     2     0        1      1       3      1    0        ⋯\n",
       "3 3.00 11    2     0     0        0      0       2      0    0        ⋯\n",
       "4 6.00  8   44    28     0        0      1       0      1    0        ⋯\n",
       "5 5.30 12    7     2     0        0      1       1      0    0        ⋯\n",
       "6 8.75 16    9     8     0        0      1       0      1    0        ⋯\n",
       "  trcommpu trade services profserv profocc clerocc servocc lwage    expersq\n",
       "1 0        0     0        0        0       0       0       1.131402    4   \n",
       "2 0        0     1        0        0       0       1       1.175573  484   \n",
       "3 0        1     0        0        0       0       0       1.098612    4   \n",
       "4 0        0     0        0        0       1       0       1.791759 1936   \n",
       "5 0        0     0        0        0       0       0       1.667707   49   \n",
       "6 0        0     0        1        1       0       0       2.169054   81   \n",
       "  tenursq\n",
       "1   0    \n",
       "2   4    \n",
       "3   0    \n",
       "4 784    \n",
       "5   4    \n",
       "6  64    "
      ]
     },
     "metadata": {},
     "output_type": "display_data"
    }
   ],
   "source": [
    "head(wage1)"
   ]
  },
  {
   "cell_type": "code",
   "execution_count": 12,
   "metadata": {},
   "outputs": [
    {
     "name": "stdout",
     "output_type": "stream",
     "text": [
      "Observations: 526\n",
      "Variables: 24\n",
      "$ wage     <dbl> 3.10, 3.24, 3.00, 6.00, 5.30, 8.75, 11.25, 5.00, 3.60, 18....\n",
      "$ educ     <int> 11, 12, 11, 8, 12, 16, 18, 12, 12, 17, 16, 13, 12, 12, 12,...\n",
      "$ exper    <int> 2, 22, 2, 44, 7, 9, 15, 5, 26, 22, 8, 3, 15, 18, 31, 14, 1...\n",
      "$ tenure   <int> 0, 2, 0, 28, 2, 8, 7, 3, 4, 21, 2, 0, 0, 3, 15, 0, 0, 10, ...\n",
      "$ nonwhite <int> 0, 0, 0, 0, 0, 0, 0, 0, 0, 0, 0, 0, 0, 0, 0, 0, 0, 0, 0, 0...\n",
      "$ female   <int> 1, 1, 0, 0, 0, 0, 0, 1, 1, 0, 1, 1, 0, 0, 0, 0, 1, 1, 1, 1...\n",
      "$ married  <int> 0, 1, 0, 1, 1, 1, 0, 0, 0, 1, 0, 0, 1, 0, 1, 1, 1, 0, 1, 1...\n",
      "$ numdep   <int> 2, 3, 2, 0, 1, 0, 0, 0, 2, 0, 0, 0, 2, 0, 1, 1, 0, 0, 3, 0...\n",
      "$ smsa     <int> 1, 1, 0, 1, 0, 1, 1, 1, 1, 1, 1, 1, 1, 1, 1, 1, 1, 1, 1, 1...\n",
      "$ northcen <int> 0, 0, 0, 0, 0, 0, 0, 0, 0, 0, 0, 0, 0, 0, 0, 0, 0, 0, 0, 0...\n",
      "$ south    <int> 0, 0, 0, 0, 0, 0, 0, 0, 0, 0, 0, 0, 0, 0, 0, 0, 0, 0, 0, 0...\n",
      "$ west     <int> 1, 1, 1, 1, 1, 1, 1, 1, 1, 1, 1, 1, 1, 1, 1, 1, 1, 1, 1, 1...\n",
      "$ construc <int> 0, 0, 0, 0, 0, 0, 0, 0, 0, 0, 0, 0, 0, 0, 0, 0, 0, 0, 0, 0...\n",
      "$ ndurman  <int> 0, 0, 0, 0, 0, 0, 0, 0, 0, 0, 0, 0, 0, 0, 0, 0, 0, 0, 0, 0...\n",
      "$ trcommpu <int> 0, 0, 0, 0, 0, 0, 0, 0, 0, 0, 0, 0, 0, 0, 0, 0, 0, 0, 0, 0...\n",
      "$ trade    <int> 0, 0, 1, 0, 0, 0, 1, 0, 1, 0, 1, 0, 0, 0, 0, 0, 0, 0, 0, 0...\n",
      "$ services <int> 0, 1, 0, 0, 0, 0, 0, 0, 0, 0, 0, 0, 0, 0, 0, 0, 0, 0, 0, 0...\n",
      "$ profserv <int> 0, 0, 0, 0, 0, 1, 0, 0, 0, 0, 0, 1, 0, 0, 0, 1, 0, 1, 0, 1...\n",
      "$ profocc  <int> 0, 0, 0, 0, 0, 1, 1, 1, 1, 1, 1, 0, 0, 0, 1, 1, 0, 1, 0, 0...\n",
      "$ clerocc  <int> 0, 0, 0, 1, 0, 0, 0, 0, 0, 0, 0, 1, 0, 0, 0, 0, 1, 0, 0, 0...\n",
      "$ servocc  <int> 0, 1, 0, 0, 0, 0, 0, 0, 0, 0, 0, 0, 0, 0, 0, 0, 0, 0, 0, 1...\n",
      "$ lwage    <dbl> 1.1314021, 1.1755733, 1.0986123, 1.7917595, 1.6677068, 2.1...\n",
      "$ expersq  <int> 4, 484, 4, 1936, 49, 81, 225, 25, 676, 484, 64, 9, 225, 32...\n",
      "$ tenursq  <int> 0, 4, 0, 784, 4, 64, 49, 9, 16, 441, 4, 0, 0, 9, 225, 0, 0...\n"
     ]
    }
   ],
   "source": [
    "glimpse(wage1)"
   ]
  },
  {
   "cell_type": "markdown",
   "metadata": {},
   "source": [
    "Effects of Inflation and Deficits on Interest Rates"
   ]
  },
  {
   "cell_type": "code",
   "execution_count": 14,
   "metadata": {},
   "outputs": [],
   "source": [
    "data(\"intdef\")\n",
    "?intdef"
   ]
  },
  {
   "cell_type": "code",
   "execution_count": 15,
   "metadata": {},
   "outputs": [
    {
     "name": "stdout",
     "output_type": "stream",
     "text": [
      "'data.frame':\t56 obs. of  13 variables:\n",
      " $ year : int  1948 1949 1950 1951 1952 1953 1954 1955 1956 1957 ...\n",
      " $ i3   : num  1.04 1.1 1.22 1.55 1.77 ...\n",
      " $ inf  : num  8.1 -1.2 1.3 7.9 1.9 ...\n",
      " $ rec  : num  16.2 14.5 14.4 16.1 19 ...\n",
      " $ out  : num  11.6 14.3 15.6 14.2 19.4 ...\n",
      " $ def  : num  -4.6 -0.2 1.2 -1.9 0.4 ...\n",
      " $ i3_1 : num  NA 1.04 1.1 1.22 1.55 ...\n",
      " $ inf_1: num  NA 8.1 -1.2 1.3 7.9 ...\n",
      " $ def_1: num  NA -4.6 -0.2 1.2 -1.9 ...\n",
      " $ ci3  : num  NA 0.06 0.12 0.33 0.22 ...\n",
      " $ cinf : num  NA -9.3 2.5 6.6 -6 ...\n",
      " $ cdef : num  NA 4.4 1.4 -3.1 2.3 ...\n",
      " $ y77  : int  0 0 0 0 0 0 0 0 0 0 ...\n",
      " - attr(*, \"time.stamp\")= chr \"25 Jun 2011 23:03\"\n"
     ]
    }
   ],
   "source": [
    "str(intdef)"
   ]
  },
  {
   "cell_type": "code",
   "execution_count": 16,
   "metadata": {},
   "outputs": [
    {
     "data": {
      "text/html": [
       "<table>\n",
       "<thead><tr><th scope=col>year</th><th scope=col>i3</th><th scope=col>inf</th><th scope=col>rec</th><th scope=col>out</th><th scope=col>def</th><th scope=col>i3_1</th><th scope=col>inf_1</th><th scope=col>def_1</th><th scope=col>ci3</th><th scope=col>cinf</th><th scope=col>cdef</th><th scope=col>y77</th></tr></thead>\n",
       "<tbody>\n",
       "\t<tr><td>1948      </td><td>1.04      </td><td> 8.1      </td><td>16.2      </td><td>11.6      </td><td>-4.6000004</td><td>  NA      </td><td>  NA      </td><td>        NA</td><td>        NA</td><td>  NA      </td><td>       NA </td><td>0         </td></tr>\n",
       "\t<tr><td>1949      </td><td>1.10      </td><td>-1.2      </td><td>14.5      </td><td>14.3      </td><td>-0.1999998</td><td>1.04      </td><td> 8.1      </td><td>-4.6000004</td><td>0.06000006</td><td>-9.3      </td><td> 4.400001 </td><td>0         </td></tr>\n",
       "\t<tr><td>1950      </td><td>1.22      </td><td> 1.3      </td><td>14.4      </td><td>15.6      </td><td> 1.2000008</td><td>1.10      </td><td>-1.2      </td><td>-0.1999998</td><td>0.12000000</td><td> 2.5      </td><td> 1.400001 </td><td>0         </td></tr>\n",
       "\t<tr><td>1951      </td><td>1.55      </td><td> 7.9      </td><td>16.1      </td><td>14.2      </td><td>-1.9000006</td><td>1.22      </td><td> 1.3      </td><td> 1.2000008</td><td>0.32999992</td><td> 6.6      </td><td>-3.100001 </td><td>0         </td></tr>\n",
       "\t<tr><td>1952      </td><td>1.77      </td><td> 1.9      </td><td>19.0      </td><td>19.4      </td><td> 0.3999996</td><td>1.55      </td><td> 7.9      </td><td>-1.9000006</td><td>0.22000003</td><td>-6.0      </td><td> 2.300000 </td><td>0         </td></tr>\n",
       "\t<tr><td>1953      </td><td>1.93      </td><td> 0.8      </td><td>18.7      </td><td>20.4      </td><td> 1.6999989</td><td>1.77      </td><td> 1.9      </td><td> 0.3999996</td><td>0.15999997</td><td>-1.1      </td><td> 1.299999 </td><td>0         </td></tr>\n",
       "</tbody>\n",
       "</table>\n"
      ],
      "text/latex": [
       "\\begin{tabular}{r|lllllllllllll}\n",
       " year & i3 & inf & rec & out & def & i3\\_1 & inf\\_1 & def\\_1 & ci3 & cinf & cdef & y77\\\\\n",
       "\\hline\n",
       "\t 1948       & 1.04       &  8.1       & 16.2       & 11.6       & -4.6000004 &   NA       &   NA       &         NA &         NA &   NA       &        NA  & 0         \\\\\n",
       "\t 1949       & 1.10       & -1.2       & 14.5       & 14.3       & -0.1999998 & 1.04       &  8.1       & -4.6000004 & 0.06000006 & -9.3       &  4.400001  & 0         \\\\\n",
       "\t 1950       & 1.22       &  1.3       & 14.4       & 15.6       &  1.2000008 & 1.10       & -1.2       & -0.1999998 & 0.12000000 &  2.5       &  1.400001  & 0         \\\\\n",
       "\t 1951       & 1.55       &  7.9       & 16.1       & 14.2       & -1.9000006 & 1.22       &  1.3       &  1.2000008 & 0.32999992 &  6.6       & -3.100001  & 0         \\\\\n",
       "\t 1952       & 1.77       &  1.9       & 19.0       & 19.4       &  0.3999996 & 1.55       &  7.9       & -1.9000006 & 0.22000003 & -6.0       &  2.300000  & 0         \\\\\n",
       "\t 1953       & 1.93       &  0.8       & 18.7       & 20.4       &  1.6999989 & 1.77       &  1.9       &  0.3999996 & 0.15999997 & -1.1       &  1.299999  & 0         \\\\\n",
       "\\end{tabular}\n"
      ],
      "text/markdown": [
       "\n",
       "year | i3 | inf | rec | out | def | i3_1 | inf_1 | def_1 | ci3 | cinf | cdef | y77 | \n",
       "|---|---|---|---|---|---|\n",
       "| 1948       | 1.04       |  8.1       | 16.2       | 11.6       | -4.6000004 |   NA       |   NA       |         NA |         NA |   NA       |        NA  | 0          | \n",
       "| 1949       | 1.10       | -1.2       | 14.5       | 14.3       | -0.1999998 | 1.04       |  8.1       | -4.6000004 | 0.06000006 | -9.3       |  4.400001  | 0          | \n",
       "| 1950       | 1.22       |  1.3       | 14.4       | 15.6       |  1.2000008 | 1.10       | -1.2       | -0.1999998 | 0.12000000 |  2.5       |  1.400001  | 0          | \n",
       "| 1951       | 1.55       |  7.9       | 16.1       | 14.2       | -1.9000006 | 1.22       |  1.3       |  1.2000008 | 0.32999992 |  6.6       | -3.100001  | 0          | \n",
       "| 1952       | 1.77       |  1.9       | 19.0       | 19.4       |  0.3999996 | 1.55       |  7.9       | -1.9000006 | 0.22000003 | -6.0       |  2.300000  | 0          | \n",
       "| 1953       | 1.93       |  0.8       | 18.7       | 20.4       |  1.6999989 | 1.77       |  1.9       |  0.3999996 | 0.15999997 | -1.1       |  1.299999  | 0          | \n",
       "\n",
       "\n"
      ],
      "text/plain": [
       "  year i3   inf  rec  out  def        i3_1 inf_1 def_1      ci3        cinf\n",
       "1 1948 1.04  8.1 16.2 11.6 -4.6000004   NA   NA          NA         NA   NA\n",
       "2 1949 1.10 -1.2 14.5 14.3 -0.1999998 1.04  8.1  -4.6000004 0.06000006 -9.3\n",
       "3 1950 1.22  1.3 14.4 15.6  1.2000008 1.10 -1.2  -0.1999998 0.12000000  2.5\n",
       "4 1951 1.55  7.9 16.1 14.2 -1.9000006 1.22  1.3   1.2000008 0.32999992  6.6\n",
       "5 1952 1.77  1.9 19.0 19.4  0.3999996 1.55  7.9  -1.9000006 0.22000003 -6.0\n",
       "6 1953 1.93  0.8 18.7 20.4  1.6999989 1.77  1.9   0.3999996 0.15999997 -1.1\n",
       "  cdef      y77\n",
       "1        NA 0  \n",
       "2  4.400001 0  \n",
       "3  1.400001 0  \n",
       "4 -3.100001 0  \n",
       "5  2.300000 0  \n",
       "6  1.299999 0  "
      ]
     },
     "metadata": {},
     "output_type": "display_data"
    }
   ],
   "source": [
    "head((intdef))"
   ]
  },
  {
   "cell_type": "code",
   "execution_count": 17,
   "metadata": {},
   "outputs": [
    {
     "name": "stdout",
     "output_type": "stream",
     "text": [
      "Observations: 56\n",
      "Variables: 13\n",
      "$ year  <int> 1948, 1949, 1950, 1951, 1952, 1953, 1954, 1955, 1956, 1957, 1...\n",
      "$ i3    <dbl> 1.04, 1.10, 1.22, 1.55, 1.77, 1.93, 0.95, 1.75, 2.66, 3.27, 1...\n",
      "$ inf   <dbl> 8.1, -1.2, 1.3, 7.9, 1.9, 0.8, 0.7, -0.4, 1.5, 3.3, 2.8, 0.7,...\n",
      "$ rec   <dbl> 16.2, 14.5, 14.4, 16.1, 19.0, 18.7, 18.5, 16.5, 17.5, 17.7, 1...\n",
      "$ out   <dbl> 11.6, 14.3, 15.6, 14.2, 19.4, 20.4, 18.8, 17.3, 16.5, 17.0, 1...\n",
      "$ def   <dbl> -4.6000004, -0.1999998, 1.2000008, -1.9000006, 0.3999996, 1.6...\n",
      "$ i3_1  <dbl> NA, 1.04, 1.10, 1.22, 1.55, 1.77, 1.93, 0.95, 1.75, 2.66, 3.2...\n",
      "$ inf_1 <dbl> NA, 8.1, -1.2, 1.3, 7.9, 1.9, 0.8, 0.7, -0.4, 1.5, 3.3, 2.8, ...\n",
      "$ def_1 <dbl> NA, -4.6000004, -0.1999998, 1.2000008, -1.9000006, 0.3999996,...\n",
      "$ ci3   <dbl> NA, 0.06000006, 0.12000000, 0.32999992, 0.22000003, 0.1599999...\n",
      "$ cinf  <dbl> NA, -9.3000002, 2.5000000, 6.6000004, -6.0000000, -1.0999999,...\n",
      "$ cdef  <dbl> NA, 4.40000057, 1.40000057, -3.10000134, 2.30000019, 1.299999...\n",
      "$ y77   <int> 0, 0, 0, 0, 0, 0, 0, 0, 0, 0, 0, 0, 0, 0, 0, 0, 0, 0, 0, 0, 0...\n"
     ]
    }
   ],
   "source": [
    "glimpse((intdef))"
   ]
  },
  {
   "cell_type": "code",
   "execution_count": null,
   "metadata": {},
   "outputs": [],
   "source": []
  },
  {
   "cell_type": "markdown",
   "metadata": {},
   "source": [
    "## Chapter 13: Pooling Cross Sections across Time: Simple Panel Data Methods\n",
    "### Example 13.7: Effect of Drunk Driving Laws on Traffic Fatalities\n",
    "Wooldridge collected these data from two sources, the 1992 Statistical Abstract of the United States (Tables 1009, 1012) and A Digest of State Alcohol-Highway Safety Related Legislation, 1985 and 1990, published by the U.S. National Highway Traffic Safety Administration.\n"
   ]
  },
  {
   "cell_type": "code",
   "execution_count": 18,
   "metadata": {},
   "outputs": [],
   "source": [
    "data(\"traffic1\")\n",
    "?traffic1"
   ]
  },
  {
   "cell_type": "code",
   "execution_count": 19,
   "metadata": {},
   "outputs": [
    {
     "name": "stdout",
     "output_type": "stream",
     "text": [
      "'data.frame':\t51 obs. of  13 variables:\n",
      " $ state   : chr  \"AL\" \"AK\" \"AZ\" \"AR\" ...\n",
      " $ admn90  : int  0 1 1 0 1 1 1 1 1 1 ...\n",
      " $ admn85  : int  0 1 0 0 0 1 0 1 1 0 ...\n",
      " $ open90  : int  0 1 0 0 1 0 0 0 0 1 ...\n",
      " $ open85  : int  0 0 0 0 1 0 0 0 0 0 ...\n",
      " $ dthrte90: num  2.6 2.1 2.5 2.9 2 ...\n",
      " $ dthrte85: num  2.9 3.2 4.4 3.4 2.6 ...\n",
      " $ speed90 : int  1 0 1 1 1 1 0 0 0 1 ...\n",
      " $ speed85 : int  0 0 0 0 0 0 0 0 0 0 ...\n",
      " $ cdthrte : num  -0.3 -1.1 -1.9 -0.5 -0.6 ...\n",
      " $ cadmn   : int  0 0 1 0 1 0 1 0 0 1 ...\n",
      " $ copen   : int  0 1 0 0 0 0 0 0 0 1 ...\n",
      " $ cspeed  : int  1 0 1 1 1 1 0 0 0 1 ...\n",
      " - attr(*, \"time.stamp\")= chr \"25 Jun 2011 23:03\"\n"
     ]
    }
   ],
   "source": [
    "str(traffic1)"
   ]
  },
  {
   "cell_type": "code",
   "execution_count": null,
   "metadata": {},
   "outputs": [],
   "source": [
    "head((traffic1))"
   ]
  },
  {
   "cell_type": "code",
   "execution_count": 20,
   "metadata": {},
   "outputs": [
    {
     "name": "stdout",
     "output_type": "stream",
     "text": [
      "Observations: 51\n",
      "Variables: 13\n",
      "$ state    <chr> \"AL\", \"AK\", \"AZ\", \"AR\", \"CA\", \"CO\", \"CT\", \"DE\", \"DC\", \"FL\"...\n",
      "$ admn90   <int> 0, 1, 1, 0, 1, 1, 1, 1, 1, 1, 0, 0, 0, 1, 1, 1, 1, 0, 1, 1...\n",
      "$ admn85   <int> 0, 1, 0, 0, 0, 1, 0, 1, 1, 0, 0, 0, 0, 0, 1, 1, 0, 0, 1, 1...\n",
      "$ open90   <int> 0, 1, 0, 0, 1, 0, 0, 0, 0, 1, 0, 1, 1, 1, 0, 1, 1, 0, 0, 0...\n",
      "$ open85   <int> 0, 0, 0, 0, 1, 0, 0, 0, 0, 0, 0, 1, 1, 1, 0, 1, 1, 0, 0, 0...\n",
      "$ dthrte90 <dbl> 2.6, 2.1, 2.5, 2.9, 2.0, 1.9, 1.5, 2.2, 1.6, 2.7, 2.0, 2.3...\n",
      "$ dthrte85 <dbl> 2.9, 3.2, 4.4, 3.4, 2.6, 2.4, 2.0, 2.2, 3.0, 3.4, 2.7, 2.0...\n",
      "$ speed90  <int> 1, 0, 1, 1, 1, 1, 0, 0, 0, 1, 1, 0, 1, 1, 1, 1, 1, 1, 1, 1...\n",
      "$ speed85  <int> 0, 0, 0, 0, 0, 0, 0, 0, 0, 0, 0, 0, 0, 0, 0, 0, 0, 0, 0, 0...\n",
      "$ cdthrte  <dbl> -0.3000002, -1.1000001, -1.9000001, -0.5000000, -0.5999999...\n",
      "$ cadmn    <int> 0, 0, 1, 0, 1, 0, 1, 0, 0, 1, 0, 0, 0, 1, 0, 0, 1, 0, 0, 0...\n",
      "$ copen    <int> 0, 1, 0, 0, 0, 0, 0, 0, 0, 1, 0, 0, 0, 0, 0, 0, 0, 0, 0, 0...\n",
      "$ cspeed   <int> 1, 0, 1, 1, 1, 1, 0, 0, 0, 1, 1, 0, 1, 1, 1, 1, 1, 1, 1, 1...\n"
     ]
    }
   ],
   "source": [
    "glimpse((traffic1))"
   ]
  },
  {
   "cell_type": "code",
   "execution_count": null,
   "metadata": {},
   "outputs": [],
   "source": []
  },
  {
   "cell_type": "code",
   "execution_count": null,
   "metadata": {},
   "outputs": [],
   "source": []
  },
  {
   "cell_type": "code",
   "execution_count": 3,
   "metadata": {},
   "outputs": [],
   "source": [
    "data(\"jtrain\")"
   ]
  },
  {
   "cell_type": "code",
   "execution_count": 4,
   "metadata": {},
   "outputs": [],
   "source": [
    "?jtrain"
   ]
  },
  {
   "cell_type": "code",
   "execution_count": 5,
   "metadata": {},
   "outputs": [
    {
     "name": "stdout",
     "output_type": "stream",
     "text": [
      "'data.frame':\t471 obs. of  30 variables:\n",
      " $ year    : int  1987 1988 1989 1987 1988 1989 1987 1988 1989 1987 ...\n",
      " $ fcode   : num  410032 410032 410032 410440 410440 ...\n",
      " $ employ  : int  100 131 123 12 13 14 20 25 24 200 ...\n",
      " $ sales   : num  47000000 43000000 49000000 1560000 1970000 ...\n",
      " $ avgsal  : num  35000 37000 39000 10500 11000 ...\n",
      " $ scrap   : num  NA NA NA NA NA NA NA NA NA NA ...\n",
      " $ rework  : num  NA NA NA NA NA NA NA NA NA NA ...\n",
      " $ tothrs  : int  12 8 8 12 12 10 50 50 50 0 ...\n",
      " $ union   : int  0 0 0 0 0 0 0 0 0 0 ...\n",
      " $ grant   : int  0 0 0 0 0 0 0 0 0 0 ...\n",
      " $ d89     : int  0 0 1 0 0 1 0 0 1 0 ...\n",
      " $ d88     : int  0 1 0 0 1 0 0 1 0 0 ...\n",
      " $ totrain : int  100 50 50 12 13 14 15 10 20 0 ...\n",
      " $ hrsemp  : num  12 3.05 3.25 12 12 ...\n",
      " $ lscrap  : num  NA NA NA NA NA NA NA NA NA NA ...\n",
      " $ lemploy : num  4.61 4.88 4.81 2.48 2.56 ...\n",
      " $ lsales  : num  17.7 17.6 17.7 14.3 14.5 ...\n",
      " $ lrework : num  NA NA NA NA NA NA NA NA NA NA ...\n",
      " $ lhrsemp : num  2.56 1.4 1.45 2.56 2.56 ...\n",
      " $ lscrap_1: num  NA NA NA NA NA NA NA NA NA NA ...\n",
      " $ grant_1 : int  0 0 0 0 0 0 0 0 0 0 ...\n",
      " $ clscrap : num  NA NA NA NA NA NA NA NA NA NA ...\n",
      " $ cgrant  : int  0 0 0 0 0 0 0 0 0 0 ...\n",
      " $ clemploy: num  NA 0.27 -0.063 NA 0.08 ...\n",
      " $ clsales : num  NA -0.0889 0.1306 NA 0.2333 ...\n",
      " $ lavgsal : num  10.46 10.52 10.57 9.26 9.31 ...\n",
      " $ clavgsal: num  NA 0.0556 0.0526 NA 0.0465 ...\n",
      " $ cgrant_1: int  NA 0 0 NA 0 0 NA 0 0 NA ...\n",
      " $ chrsemp : num  NA -8.947 0.199 NA 0 ...\n",
      " $ clhrsemp: num  NA -1.1654 0.0478 NA 0 ...\n",
      " - attr(*, \"time.stamp\")= chr \"25 Jun 2011 23:03\"\n"
     ]
    }
   ],
   "source": [
    " str(jtrain)"
   ]
  },
  {
   "cell_type": "code",
   "execution_count": 6,
   "metadata": {},
   "outputs": [
    {
     "data": {
      "text/html": [
       "<table>\n",
       "<thead><tr><th scope=col>year</th><th scope=col>fcode</th><th scope=col>employ</th><th scope=col>sales</th><th scope=col>avgsal</th><th scope=col>scrap</th><th scope=col>rework</th><th scope=col>tothrs</th><th scope=col>union</th><th scope=col>grant</th><th scope=col>⋯</th><th scope=col>grant_1</th><th scope=col>clscrap</th><th scope=col>cgrant</th><th scope=col>clemploy</th><th scope=col>clsales</th><th scope=col>lavgsal</th><th scope=col>clavgsal</th><th scope=col>cgrant_1</th><th scope=col>chrsemp</th><th scope=col>clhrsemp</th></tr></thead>\n",
       "<tbody>\n",
       "\t<tr><td>1987       </td><td>410032     </td><td>100        </td><td>47000000   </td><td>35000      </td><td>NA         </td><td>NA         </td><td>12         </td><td>0          </td><td>0          </td><td>⋯          </td><td>0          </td><td>NA         </td><td>0          </td><td>         NA</td><td>        NA </td><td>10.463103  </td><td>        NA </td><td>NA         </td><td>        NA </td><td>         NA</td></tr>\n",
       "\t<tr><td>1988       </td><td>410032     </td><td>131        </td><td>43000000   </td><td>37000      </td><td>NA         </td><td>NA         </td><td> 8         </td><td>0          </td><td>0          </td><td>⋯          </td><td>0          </td><td>NA         </td><td>0          </td><td> 0.27002716</td><td>-0.0889492 </td><td>10.518673  </td><td>0.05556965 </td><td> 0         </td><td>-8.9465647 </td><td>-1.16538453</td></tr>\n",
       "\t<tr><td>1989       </td><td>410032     </td><td>123        </td><td>49000000   </td><td>39000      </td><td>NA         </td><td>NA         </td><td> 8         </td><td>0          </td><td>0          </td><td>⋯          </td><td>0          </td><td>NA         </td><td>0          </td><td>-0.06301308</td><td> 0.1306210 </td><td>10.571317  </td><td>0.05264378 </td><td> 0         </td><td> 0.1985974 </td><td> 0.04783237</td></tr>\n",
       "\t<tr><td>1987       </td><td>410440     </td><td> 12        </td><td> 1560000   </td><td>10500      </td><td>NA         </td><td>NA         </td><td>12         </td><td>0          </td><td>0          </td><td>⋯          </td><td>0          </td><td>NA         </td><td>0          </td><td>         NA</td><td>        NA </td><td> 9.259130  </td><td>        NA </td><td>NA         </td><td>        NA </td><td>         NA</td></tr>\n",
       "\t<tr><td>1988       </td><td>410440     </td><td> 13        </td><td> 1970000   </td><td>11000      </td><td>NA         </td><td>NA         </td><td>12         </td><td>0          </td><td>0          </td><td>⋯          </td><td>0          </td><td>NA         </td><td>0          </td><td> 0.08004260</td><td> 0.2333469 </td><td> 9.305651  </td><td>0.04652023 </td><td> 0         </td><td> 0.0000000 </td><td> 0.00000000</td></tr>\n",
       "\t<tr><td>1989       </td><td>410440     </td><td> 14        </td><td> 2350000   </td><td>11500      </td><td>NA         </td><td>NA         </td><td>10         </td><td>0          </td><td>0          </td><td>⋯          </td><td>0          </td><td>NA         </td><td>0          </td><td> 0.07410812</td><td> 0.1763821 </td><td> 9.350102  </td><td>0.04445171 </td><td> 0         </td><td>-2.0000000 </td><td>-0.16705394</td></tr>\n",
       "</tbody>\n",
       "</table>\n"
      ],
      "text/latex": [
       "\\begin{tabular}{r|llllllllllllllllllllllllllllll}\n",
       " year & fcode & employ & sales & avgsal & scrap & rework & tothrs & union & grant & ⋯ & grant\\_1 & clscrap & cgrant & clemploy & clsales & lavgsal & clavgsal & cgrant\\_1 & chrsemp & clhrsemp\\\\\n",
       "\\hline\n",
       "\t 1987        & 410032      & 100         & 47000000    & 35000       & NA          & NA          & 12          & 0           & 0           & ⋯           & 0           & NA          & 0           &          NA &         NA  & 10.463103   &         NA  & NA          &         NA  &          NA\\\\\n",
       "\t 1988        & 410032      & 131         & 43000000    & 37000       & NA          & NA          &  8          & 0           & 0           & ⋯           & 0           & NA          & 0           &  0.27002716 & -0.0889492  & 10.518673   & 0.05556965  &  0          & -8.9465647  & -1.16538453\\\\\n",
       "\t 1989        & 410032      & 123         & 49000000    & 39000       & NA          & NA          &  8          & 0           & 0           & ⋯           & 0           & NA          & 0           & -0.06301308 &  0.1306210  & 10.571317   & 0.05264378  &  0          &  0.1985974  &  0.04783237\\\\\n",
       "\t 1987        & 410440      &  12         &  1560000    & 10500       & NA          & NA          & 12          & 0           & 0           & ⋯           & 0           & NA          & 0           &          NA &         NA  &  9.259130   &         NA  & NA          &         NA  &          NA\\\\\n",
       "\t 1988        & 410440      &  13         &  1970000    & 11000       & NA          & NA          & 12          & 0           & 0           & ⋯           & 0           & NA          & 0           &  0.08004260 &  0.2333469  &  9.305651   & 0.04652023  &  0          &  0.0000000  &  0.00000000\\\\\n",
       "\t 1989        & 410440      &  14         &  2350000    & 11500       & NA          & NA          & 10          & 0           & 0           & ⋯           & 0           & NA          & 0           &  0.07410812 &  0.1763821  &  9.350102   & 0.04445171  &  0          & -2.0000000  & -0.16705394\\\\\n",
       "\\end{tabular}\n"
      ],
      "text/markdown": [
       "\n",
       "year | fcode | employ | sales | avgsal | scrap | rework | tothrs | union | grant | ⋯ | grant_1 | clscrap | cgrant | clemploy | clsales | lavgsal | clavgsal | cgrant_1 | chrsemp | clhrsemp | \n",
       "|---|---|---|---|---|---|\n",
       "| 1987        | 410032      | 100         | 47000000    | 35000       | NA          | NA          | 12          | 0           | 0           | ⋯           | 0           | NA          | 0           |          NA |         NA  | 10.463103   |         NA  | NA          |         NA  |          NA | \n",
       "| 1988        | 410032      | 131         | 43000000    | 37000       | NA          | NA          |  8          | 0           | 0           | ⋯           | 0           | NA          | 0           |  0.27002716 | -0.0889492  | 10.518673   | 0.05556965  |  0          | -8.9465647  | -1.16538453 | \n",
       "| 1989        | 410032      | 123         | 49000000    | 39000       | NA          | NA          |  8          | 0           | 0           | ⋯           | 0           | NA          | 0           | -0.06301308 |  0.1306210  | 10.571317   | 0.05264378  |  0          |  0.1985974  |  0.04783237 | \n",
       "| 1987        | 410440      |  12         |  1560000    | 10500       | NA          | NA          | 12          | 0           | 0           | ⋯           | 0           | NA          | 0           |          NA |         NA  |  9.259130   |         NA  | NA          |         NA  |          NA | \n",
       "| 1988        | 410440      |  13         |  1970000    | 11000       | NA          | NA          | 12          | 0           | 0           | ⋯           | 0           | NA          | 0           |  0.08004260 |  0.2333469  |  9.305651   | 0.04652023  |  0          |  0.0000000  |  0.00000000 | \n",
       "| 1989        | 410440      |  14         |  2350000    | 11500       | NA          | NA          | 10          | 0           | 0           | ⋯           | 0           | NA          | 0           |  0.07410812 |  0.1763821  |  9.350102   | 0.04445171  |  0          | -2.0000000  | -0.16705394 | \n",
       "\n",
       "\n"
      ],
      "text/plain": [
       "  year fcode  employ sales    avgsal scrap rework tothrs union grant ⋯ grant_1\n",
       "1 1987 410032 100    47000000 35000  NA    NA     12     0     0     ⋯ 0      \n",
       "2 1988 410032 131    43000000 37000  NA    NA      8     0     0     ⋯ 0      \n",
       "3 1989 410032 123    49000000 39000  NA    NA      8     0     0     ⋯ 0      \n",
       "4 1987 410440  12     1560000 10500  NA    NA     12     0     0     ⋯ 0      \n",
       "5 1988 410440  13     1970000 11000  NA    NA     12     0     0     ⋯ 0      \n",
       "6 1989 410440  14     2350000 11500  NA    NA     10     0     0     ⋯ 0      \n",
       "  clscrap cgrant clemploy    clsales    lavgsal   clavgsal   cgrant_1\n",
       "1 NA      0               NA         NA 10.463103         NA NA      \n",
       "2 NA      0       0.27002716 -0.0889492 10.518673 0.05556965  0      \n",
       "3 NA      0      -0.06301308  0.1306210 10.571317 0.05264378  0      \n",
       "4 NA      0               NA         NA  9.259130         NA NA      \n",
       "5 NA      0       0.08004260  0.2333469  9.305651 0.04652023  0      \n",
       "6 NA      0       0.07410812  0.1763821  9.350102 0.04445171  0      \n",
       "  chrsemp    clhrsemp   \n",
       "1         NA          NA\n",
       "2 -8.9465647 -1.16538453\n",
       "3  0.1985974  0.04783237\n",
       "4         NA          NA\n",
       "5  0.0000000  0.00000000\n",
       "6 -2.0000000 -0.16705394"
      ]
     },
     "metadata": {},
     "output_type": "display_data"
    }
   ],
   "source": [
    "head( jtrain)"
   ]
  },
  {
   "cell_type": "code",
   "execution_count": null,
   "metadata": {},
   "outputs": [],
   "source": [
    "linear_model <- lm(lscrap ~ hrsemp + lsales + lemploy, data = jtrain_clean)"
   ]
  },
  {
   "cell_type": "code",
   "execution_count": null,
   "metadata": {},
   "outputs": [],
   "source": []
  },
  {
   "cell_type": "code",
   "execution_count": null,
   "metadata": {},
   "outputs": [],
   "source": []
  }
 ],
 "metadata": {
  "kernelspec": {
   "display_name": "R",
   "language": "R",
   "name": "ir"
  },
  "language_info": {
   "codemirror_mode": "r",
   "file_extension": ".r",
   "mimetype": "text/x-r-source",
   "name": "R",
   "pygments_lexer": "r",
   "version": "3.5.1"
  }
 },
 "nbformat": 4,
 "nbformat_minor": 2
}
