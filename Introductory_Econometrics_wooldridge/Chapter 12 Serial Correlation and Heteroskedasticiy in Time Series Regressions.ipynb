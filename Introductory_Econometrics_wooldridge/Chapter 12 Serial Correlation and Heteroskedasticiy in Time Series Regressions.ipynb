{
 "cells": [
  {
   "cell_type": "code",
   "execution_count": 1,
   "metadata": {
    "ExecuteTime": {
     "end_time": "2018-12-03T04:05:42.956117Z",
     "start_time": "2018-12-03T04:05:42.892Z"
    }
   },
   "outputs": [
    {
     "name": "stderr",
     "output_type": "stream",
     "text": [
      "\n",
      "Please cite as: \n",
      "\n",
      " Hlavac, Marek (2018). stargazer: Well-Formatted Regression and Summary Statistics Tables.\n",
      " R package version 5.2.2. https://CRAN.R-project.org/package=stargazer \n",
      "\n"
     ]
    }
   ],
   "source": [
    "library(wooldridge)\n",
    "library(stargazer)\n",
    "library(knitr)"
   ]
  },
  {
   "cell_type": "code",
   "execution_count": 48,
   "metadata": {},
   "outputs": [
    {
     "name": "stderr",
     "output_type": "stream",
     "text": [
      "Installing package into ‘/home/jupyter/R/x86_64-pc-linux-gnu-library/3.5’\n",
      "(as ‘lib’ is unspecified)\n",
      "\n",
      "orcutt installed\n"
     ]
    }
   ],
   "source": [
    "pacman::p_load(wooldridge,stargazer,broom,tidyverse,ggplot2,\n",
    "               dplyr,tidyr,moderndive,jtools,sjPlot,dotwhisker,FSA,\n",
    "               car,QuantPsyc,lmtest,sandwich,tseries, \n",
    "              dynlm,prais,clubSandwich,orcutt)"
   ]
  },
  {
   "cell_type": "code",
   "execution_count": 5,
   "metadata": {
    "ExecuteTime": {
     "end_time": "2018-12-03T04:07:03.307600Z",
     "start_time": "2018-12-03T04:06:57.908Z"
    }
   },
   "outputs": [
    {
     "name": "stderr",
     "output_type": "stream",
     "text": [
      "Installing package into 'C:/Users/oldyu/R/win-library/3.5'\n",
      "(as 'lib' is unspecified)\n"
     ]
    },
    {
     "name": "stdout",
     "output_type": "stream",
     "text": [
      "package 'prais' successfully unpacked and MD5 sums checked\n",
      "\n",
      "The downloaded binary packages are in\n",
      "\tC:\\Users\\oldyu\\AppData\\Local\\Temp\\RtmpMxXRQ0\\downloaded_packages\n"
     ]
    }
   ],
   "source": [
    "install.packages(\"prais\")"
   ]
  },
  {
   "cell_type": "markdown",
   "metadata": {},
   "source": [
    "# Example 12.1: The Puerto Rican Minimum Wage\n",
    "\n",
    "\n",
    "\n",
    "Heteroskedasticity and autocorrelation consistent (HAC) estimation of the covariance matrix of the coefficient estimates in a (generalized) linear regression model.\n",
    "\n",
    "\n",
    "fm <- lm(y ~ x)\n",
    "\n",
    "vcovHAC(fm)\n",
    "\n",
    "vcov(fm)\n",
    "\n",
    " clubSandwich ::coef_test\n",
    "\n",
    "Test all or selected regression coefficients in a fitted model\n",
    "\n",
    "coef_test reports t-tests for each coefficient estimate in a fitted linear regression model, using a sandwich estimator for the standard errors and a small sample correction for the p-value. The small-sample correction is based on a Satterthwaite approximation or a saddlepoint approximation.\n",
    "\n",
    "Usage\n",
    "\n",
    "coef_test(obj, vcov, test = \"Satterthwaite\", coefs = \"All\",\n",
    "  p_values = TRUE, ...)\n",
    "\n"
   ]
  },
  {
   "cell_type": "code",
   "execution_count": null,
   "metadata": {},
   "outputs": [],
   "source": [
    "data(\"prminwge\")"
   ]
  },
  {
   "cell_type": "code",
   "execution_count": 10,
   "metadata": {},
   "outputs": [],
   "source": [
    "?prminwge"
   ]
  },
  {
   "cell_type": "code",
   "execution_count": 7,
   "metadata": {},
   "outputs": [
    {
     "name": "stdout",
     "output_type": "stream",
     "text": [
      "Observations: 38\n",
      "Variables: 25\n",
      "$ year     <int> 1950, 1951, 1952, 1953, 1954, 1955, 1956, 1957, 1958, 1959, …\n",
      "$ avgmin   <dbl> 0.198, 0.209, 0.225, 0.311, 0.313, 0.369, 0.447, 0.488, 0.55…\n",
      "$ avgwage  <dbl> 0.398, 0.410, 0.421, 0.480, 0.508, 0.547, 0.601, 0.685, 0.71…\n",
      "$ kaitz    <dbl> 0.155, 0.164, 0.180, 0.229, 0.211, 0.231, 0.257, 0.251, 0.25…\n",
      "$ avgcov   <dbl> 0.201, 0.207, 0.226, 0.231, 0.224, 0.236, 0.245, 0.244, 0.23…\n",
      "$ covt     <dbl> 0.29, 0.29, 0.29, 0.29, 0.29, 0.29, 0.29, 0.29, 0.29, 0.29, …\n",
      "$ mfgwage  <dbl> 0.43, 0.45, 0.48, 0.50, 0.52, 0.57, 0.64, 0.76, 0.83, 0.87, …\n",
      "$ prdef    <dbl> 0.859, 0.881, 0.953, 0.970, 1.000, 1.003, 1.011, 1.035, 1.08…\n",
      "$ prepop   <dbl> 0.470, 0.449, 0.434, 0.428, 0.415, 0.419, 0.412, 0.412, 0.39…\n",
      "$ prepopf  <dbl> 0.470, 0.449, 0.434, 0.428, 0.415, 0.419, 0.412, 0.412, 0.39…\n",
      "$ prgnp    <dbl> 878.7, 925.0, 1015.9, 1081.3, 1104.4, 1138.5, 1185.1, 1221.8…\n",
      "$ prunemp  <dbl> 15.4, 16.0, 14.8, 14.5, 15.3, 13.2, 13.3, 12.8, 14.2, 13.3, …\n",
      "$ usgnp    <dbl> 1203.7, 1328.2, 1380.0, 1435.3, 1416.2, 1494.9, 1525.6, 1551…\n",
      "$ t        <int> 1, 2, 3, 4, 5, 6, 7, 8, 9, 10, 11, 12, 13, 14, 15, 16, 17, 1…\n",
      "$ post74   <int> 0, 0, 0, 0, 0, 0, 0, 0, 0, 0, 0, 0, 0, 0, 0, 0, 0, 0, 0, 0, …\n",
      "$ lprunemp <dbl> 2.734367, 2.772589, 2.694627, 2.674149, 2.727853, 2.580217, …\n",
      "$ lprgnp   <dbl> 6.778443, 6.829794, 6.923530, 6.985919, 7.007058, 7.037467, …\n",
      "$ lusgnp   <dbl> 7.093155, 7.191580, 7.229839, 7.269129, 7.255733, 7.309814, …\n",
      "$ lkaitz   <dbl> -1.8643302, -1.8078889, -1.7147983, -1.4740332, -1.5558971, …\n",
      "$ lprun_1  <dbl> NA, -1.870803, -1.832582, -1.910543, -1.931022, -1.877317, -…\n",
      "$ lprepop  <dbl> -0.7550226, -0.8007324, -0.8347108, -0.8486321, -0.8794768, …\n",
      "$ lprep_1  <dbl> NA, -0.7550226, -0.8007324, -0.8347108, -0.8486321, -0.87947…\n",
      "$ mincov   <dbl> 0.09999498, 0.10551952, 0.12078384, 0.14966875, 0.13801575, …\n",
      "$ lmincov  <dbl> -2.3026352, -2.2488594, -2.1137528, -1.8993307, -1.9803874, …\n",
      "$ lavgmin  <dbl> -1.61948824, -1.56542099, -1.49165487, -1.16796243, -1.16155…\n"
     ]
    }
   ],
   "source": [
    "glimpse(prminwge)"
   ]
  },
  {
   "cell_type": "code",
   "execution_count": 11,
   "metadata": {},
   "outputs": [
    {
     "data": {
      "text/plain": [
       "\n",
       "Call:\n",
       "lm(formula = lprepop ~ lmincov + lusgnp + lprgnp + t, data = prminwge)\n",
       "\n",
       "Residuals:\n",
       "      Min        1Q    Median        3Q       Max \n",
       "-0.054679 -0.023653 -0.004039  0.018638  0.076947 \n",
       "\n",
       "Coefficients:\n",
       "             Estimate Std. Error t value Pr(>|t|)    \n",
       "(Intercept) -6.663432   1.257831  -5.298 7.67e-06 ***\n",
       "lmincov     -0.212261   0.040152  -5.286 7.92e-06 ***\n",
       "lusgnp       0.486046   0.221983   2.190   0.0357 *  \n",
       "lprgnp       0.285239   0.080492   3.544   0.0012 ** \n",
       "t           -0.026663   0.004627  -5.763 1.94e-06 ***\n",
       "---\n",
       "Signif. codes:  0 ‘***’ 0.001 ‘**’ 0.01 ‘*’ 0.05 ‘.’ 0.1 ‘ ’ 1\n",
       "\n",
       "Residual standard error: 0.03277 on 33 degrees of freedom\n",
       "Multiple R-squared:  0.8892,\tAdjusted R-squared:  0.8758 \n",
       "F-statistic: 66.23 on 4 and 33 DF,  p-value: 2.677e-15\n"
      ]
     },
     "metadata": {},
     "output_type": "display_data"
    }
   ],
   "source": [
    "\n",
    "\n",
    "lm.12.1 <- lm(lprepop  ~ lmincov + lusgnp + lprgnp+t, data = prminwge)\n",
    "summary(lm.12.1 )"
   ]
  },
  {
   "cell_type": "code",
   "execution_count": 35,
   "metadata": {},
   "outputs": [
    {
     "data": {
      "text/html": [
       "<table>\n",
       "<thead><tr><th></th><th scope=col>(Intercept)</th><th scope=col>lmincov</th><th scope=col>lusgnp</th><th scope=col>lprgnp</th><th scope=col>t</th></tr></thead>\n",
       "<tbody>\n",
       "\t<tr><th scope=row>(Intercept)</th><td> 2.841552038 </td><td> 3.446714e-02</td><td>-0.510891872 </td><td> 0.1280964927</td><td> 8.231351e-03</td></tr>\n",
       "\t<tr><th scope=row>lmincov</th><td> 0.034467136 </td><td> 2.122299e-03</td><td>-0.005290986 </td><td> 0.0011158990</td><td> 2.580249e-05</td></tr>\n",
       "\t<tr><th scope=row>lusgnp</th><td>-0.510891872 </td><td>-5.290986e-03</td><td> 0.096655218 </td><td>-0.0278272361</td><td>-1.422111e-03</td></tr>\n",
       "\t<tr><th scope=row>lprgnp</th><td> 0.128096493 </td><td> 1.115899e-03</td><td>-0.027827236 </td><td> 0.0107102031</td><td> 2.870062e-04</td></tr>\n",
       "\t<tr><th scope=row>t</th><td> 0.008231351 </td><td> 2.580249e-05</td><td>-0.001422111 </td><td> 0.0002870062</td><td> 2.948585e-05</td></tr>\n",
       "</tbody>\n",
       "</table>\n"
      ],
      "text/latex": [
       "\\begin{tabular}{r|lllll}\n",
       "  & (Intercept) & lmincov & lusgnp & lprgnp & t\\\\\n",
       "\\hline\n",
       "\t(Intercept) &  2.841552038  &  3.446714e-02 & -0.510891872  &  0.1280964927 &  8.231351e-03\\\\\n",
       "\tlmincov &  0.034467136  &  2.122299e-03 & -0.005290986  &  0.0011158990 &  2.580249e-05\\\\\n",
       "\tlusgnp & -0.510891872  & -5.290986e-03 &  0.096655218  & -0.0278272361 & -1.422111e-03\\\\\n",
       "\tlprgnp &  0.128096493  &  1.115899e-03 & -0.027827236  &  0.0107102031 &  2.870062e-04\\\\\n",
       "\tt &  0.008231351  &  2.580249e-05 & -0.001422111  &  0.0002870062 &  2.948585e-05\\\\\n",
       "\\end{tabular}\n"
      ],
      "text/markdown": [
       "\n",
       "| <!--/--> | (Intercept) | lmincov | lusgnp | lprgnp | t | \n",
       "|---|---|---|---|---|\n",
       "| (Intercept) |  2.841552038  |  3.446714e-02 | -0.510891872  |  0.1280964927 |  8.231351e-03 | \n",
       "| lmincov |  0.034467136  |  2.122299e-03 | -0.005290986  |  0.0011158990 |  2.580249e-05 | \n",
       "| lusgnp | -0.510891872  | -5.290986e-03 |  0.096655218  | -0.0278272361 | -1.422111e-03 | \n",
       "| lprgnp |  0.128096493  |  1.115899e-03 | -0.027827236  |  0.0107102031 |  2.870062e-04 | \n",
       "| t |  0.008231351  |  2.580249e-05 | -0.001422111  |  0.0002870062 |  2.948585e-05 | \n",
       "\n",
       "\n"
      ],
      "text/plain": [
       "            (Intercept)  lmincov       lusgnp       lprgnp        t            \n",
       "(Intercept)  2.841552038  3.446714e-02 -0.510891872  0.1280964927  8.231351e-03\n",
       "lmincov      0.034467136  2.122299e-03 -0.005290986  0.0011158990  2.580249e-05\n",
       "lusgnp      -0.510891872 -5.290986e-03  0.096655218 -0.0278272361 -1.422111e-03\n",
       "lprgnp       0.128096493  1.115899e-03 -0.027827236  0.0107102031  2.870062e-04\n",
       "t            0.008231351  2.580249e-05 -0.001422111  0.0002870062  2.948585e-05"
      ]
     },
     "metadata": {},
     "output_type": "display_data"
    }
   ],
   "source": [
    "vcovHAC(lm.12.1)"
   ]
  },
  {
   "cell_type": "code",
   "execution_count": 12,
   "metadata": {},
   "outputs": [
    {
     "data": {
      "text/plain": [
       "\n",
       "t test of coefficients:\n",
       "\n",
       "              Estimate Std. Error t value  Pr(>|t|)    \n",
       "(Intercept) -6.6634319  1.6856904 -3.9529 0.0003845 ***\n",
       "lmincov     -0.2122612  0.0460684 -4.6075 5.835e-05 ***\n",
       "lusgnp       0.4860463  0.3108942  1.5634 0.1275031    \n",
       "lprgnp       0.2852386  0.1034901  2.7562 0.0094496 ** \n",
       "t           -0.0266633  0.0054301 -4.9103 2.402e-05 ***\n",
       "---\n",
       "Signif. codes:  0 ‘***’ 0.001 ‘**’ 0.01 ‘*’ 0.05 ‘.’ 0.1 ‘ ’ 1\n"
      ]
     },
     "metadata": {},
     "output_type": "display_data"
    }
   ],
   "source": [
    "coeftest( lm.12.1 , vcov = vcovHAC(lm.12.1))\n"
   ]
  },
  {
   "cell_type": "code",
   "execution_count": 54,
   "metadata": {},
   "outputs": [
    {
     "data": {
      "text/plain": [
       "\n",
       "t test of coefficients:\n",
       "\n",
       "                Estimate Std. Error t value  Pr(>|t|)    \n",
       "(Intercept)   -6.6634416  1.2578286 -5.2976 7.667e-06 ***\n",
       "log(mincov)   -0.2122612  0.0401523 -5.2864 7.924e-06 ***\n",
       "log(prgnp)     0.2852380  0.0804921  3.5437  0.001203 ** \n",
       "log(usgnp)     0.4860483  0.2219825  2.1896  0.035731 *  \n",
       "trend(tsdata) -0.0266633  0.0046267 -5.7629 1.940e-06 ***\n",
       "---\n",
       "Signif. codes:  0 ‘***’ 0.001 ‘**’ 0.01 ‘*’ 0.05 ‘.’ 0.1 ‘ ’ 1\n"
      ]
     },
     "metadata": {},
     "output_type": "display_data"
    },
    {
     "data": {
      "text/plain": [
       "\n",
       "t test of coefficients:\n",
       "\n",
       "                Estimate Std. Error t value  Pr(>|t|)    \n",
       "(Intercept)   -6.6634416  1.6856885 -3.9529 0.0003845 ***\n",
       "log(mincov)   -0.2122612  0.0460684 -4.6075 5.835e-05 ***\n",
       "log(prgnp)     0.2852380  0.1034901  2.7562 0.0094497 ** \n",
       "log(usgnp)     0.4860483  0.3108940  1.5634 0.1275013    \n",
       "trend(tsdata) -0.0266633  0.0054301 -4.9103 2.402e-05 ***\n",
       "---\n",
       "Signif. codes:  0 ‘***’ 0.001 ‘**’ 0.01 ‘*’ 0.05 ‘.’ 0.1 ‘ ’ 1\n"
      ]
     },
     "metadata": {},
     "output_type": "display_data"
    }
   ],
   "source": [
    "library(dynlm);library(lmtest);library(sandwich)\n",
    "data(prminwge, package='wooldridge')\n",
    "\n",
    "tsdata <- ts(prminwge, start=1950)\n",
    "\n",
    "# OLS regression\n",
    "reg<-dynlm(log(prepop)~log(mincov)+log(prgnp)+log(usgnp)+trend(tsdata), \n",
    "                                                          data=tsdata )\n",
    "# results with usual SE\n",
    "coeftest(reg)\n",
    "# results with HAC SE\n",
    "coeftest(reg, vcovHAC)"
   ]
  },
  {
   "cell_type": "code",
   "execution_count": 64,
   "metadata": {},
   "outputs": [
    {
     "data": {
      "text/plain": [
       "\n",
       "Call:\n",
       "lm(formula = lm.12.2.res ~ lmincov + lusgnp + lprgnp + t + lm.12.2.res_1, \n",
       "    data = prminwge)\n",
       "\n",
       "Residuals:\n",
       "      Min        1Q    Median        3Q       Max \n",
       "-0.041317 -0.018004 -0.004599  0.012378  0.067226 \n",
       "\n",
       "Coefficients:\n",
       "               Estimate Std. Error t value Pr(>|t|)   \n",
       "(Intercept)   -0.850772   1.092691  -0.779  0.44212   \n",
       "lmincov        0.037500   0.035212   1.065  0.29511   \n",
       "lusgnp         0.203932   0.195159   1.045  0.30412   \n",
       "lprgnp        -0.078466   0.070524  -1.113  0.27443   \n",
       "t             -0.003466   0.004074  -0.851  0.40134   \n",
       "lm.12.2.res_1  0.480509   0.166444   2.887  0.00703 **\n",
       "---\n",
       "Signif. codes:  0 ‘***’ 0.001 ‘**’ 0.01 ‘*’ 0.05 ‘.’ 0.1 ‘ ’ 1\n",
       "\n",
       "Residual standard error: 0.02755 on 31 degrees of freedom\n",
       "  (1 observation deleted due to missingness)\n",
       "Multiple R-squared:  0.2424,\tAdjusted R-squared:  0.1202 \n",
       "F-statistic: 1.983 on 5 and 31 DF,  p-value: 0.1089\n"
      ]
     },
     "metadata": {},
     "output_type": "display_data"
    }
   ],
   "source": [
    "data(\"prminwge\")\n",
    "\n",
    "lm.12.2 <- lm(lprepop ~ lmincov + lusgnp + lprgnp + t, data = prminwge)\n",
    "lm.12.2.res <- lm.12.2$res\n",
    "lm.12.2.res_1 <- c(NA, lm.12.2$res[-length(lm.12.2.res)])\n",
    "lm.12.2.test <- lm(lm.12.2.res ~ lmincov + lusgnp + lprgnp + t + lm.12.2.res_1, data = prminwge)\n",
    "summary(lm.12.2.test)"
   ]
  },
  {
   "cell_type": "code",
   "execution_count": 65,
   "metadata": {},
   "outputs": [
    {
     "data": {
      "text/plain": [
       "\n",
       "Call:\n",
       "lm(formula = lm.12.2.res ~ lm.12.2.res_1)\n",
       "\n",
       "Residuals:\n",
       "      Min        1Q    Median        3Q       Max \n",
       "-0.043815 -0.024235 -0.002278  0.015155  0.063480 \n",
       "\n",
       "Coefficients:\n",
       "                Estimate Std. Error t value Pr(>|t|)  \n",
       "(Intercept)   -0.0008953  0.0044883  -0.199   0.8431  \n",
       "lm.12.2.res_1  0.4173219  0.1589351   2.626   0.0127 *\n",
       "---\n",
       "Signif. codes:  0 ‘***’ 0.001 ‘**’ 0.01 ‘*’ 0.05 ‘.’ 0.1 ‘ ’ 1\n",
       "\n",
       "Residual standard error: 0.02723 on 35 degrees of freedom\n",
       "  (1 observation deleted due to missingness)\n",
       "Multiple R-squared:  0.1646,\tAdjusted R-squared:  0.1407 \n",
       "F-statistic: 6.895 on 1 and 35 DF,  p-value: 0.01274\n"
      ]
     },
     "metadata": {},
     "output_type": "display_data"
    }
   ],
   "source": [
    "#For comparison the test with strict exogenous regressors\n",
    "\n",
    "summary(lm(lm.12.2.res ~ lm.12.2.res_1))"
   ]
  },
  {
   "cell_type": "code",
   "execution_count": null,
   "metadata": {},
   "outputs": [],
   "source": []
  },
  {
   "cell_type": "code",
   "execution_count": null,
   "metadata": {},
   "outputs": [],
   "source": []
  },
  {
   "cell_type": "code",
   "execution_count": null,
   "metadata": {},
   "outputs": [],
   "source": []
  },
  {
   "cell_type": "markdown",
   "metadata": {},
   "source": [
    "# Example 12.2: Static Phillips curve"
   ]
  },
  {
   "cell_type": "code",
   "execution_count": 3,
   "metadata": {},
   "outputs": [
    {
     "data": {
      "text/plain": [
       "\n",
       "Call:\n",
       "lm(formula = res.static ~ res.static_1)\n",
       "\n",
       "Residuals:\n",
       "   Min     1Q Median     3Q    Max \n",
       "-8.047 -1.104 -0.248  1.028  6.684 \n",
       "\n",
       "Coefficients:\n",
       "             Estimate Std. Error t value Pr(>|t|)    \n",
       "(Intercept)   -0.1118     0.3180  -0.352    0.727    \n",
       "res.static_1   0.5725     0.1084   5.283 2.43e-06 ***\n",
       "---\n",
       "Signif. codes:  0 ‘***’ 0.001 ‘**’ 0.01 ‘*’ 0.05 ‘.’ 0.1 ‘ ’ 1\n",
       "\n",
       "Residual standard error: 2.358 on 53 degrees of freedom\n",
       "  (1 observation deleted due to missingness)\n",
       "Multiple R-squared:  0.345,\tAdjusted R-squared:  0.3326 \n",
       "F-statistic: 27.91 on 1 and 53 DF,  p-value: 2.43e-06\n"
      ]
     },
     "metadata": {},
     "output_type": "display_data"
    }
   ],
   "source": [
    "data(\"phillips\")\n",
    "lm.12.1.1 <- lm(inf ~ unem, data = phillips)\n",
    "res.static <- lm.12.1.1$res\n",
    "res.static_1 <- c(NA, lm.12.1.1$res[-(length(res.static))])\n",
    "lm.12.1.1.test <- lm(res.static ~ res.static_1)\n",
    "summary(lm.12.1.1.test)"
   ]
  },
  {
   "cell_type": "code",
   "execution_count": 6,
   "metadata": {},
   "outputs": [
    {
     "data": {
      "text/plain": [
       "\n",
       "t test of coefficients:\n",
       "\n",
       "              Estimate Std. Error t value  Pr(>|t|)    \n",
       "(Intercept)   -0.11340    0.35940 -0.3155    0.7538    \n",
       "L(residual.s)  0.57297    0.11613  4.9337 1.098e-05 ***\n",
       "---\n",
       "Signif. codes:  0 ‘***’ 0.001 ‘**’ 0.01 ‘*’ 0.05 ‘.’ 0.1 ‘ ’ 1\n"
      ]
     },
     "metadata": {},
     "output_type": "display_data"
    },
    {
     "data": {
      "text/plain": [
       "\n",
       "t test of coefficients:\n",
       "\n",
       "                Estimate Std. Error t value Pr(>|t|)\n",
       "(Intercept)     0.194166   0.300384  0.6464   0.5213\n",
       "L(residual.ea) -0.035593   0.123891 -0.2873   0.7752\n"
      ]
     },
     "metadata": {},
     "output_type": "display_data"
    }
   ],
   "source": [
    "library(dynlm);library(lmtest)\n",
    "data(phillips, package='wooldridge')\n",
    "\n",
    "# Define Yearly time series beginning in 1948\n",
    "tsdata <- ts(phillips, start=1948)\n",
    "\n",
    "# Estimation of static Phillips curve:\n",
    "reg.s <- dynlm( inf ~ unem, data=tsdata, end=1996)\n",
    "# residuals and AR(1) test:\n",
    "residual.s <- resid(reg.s)\n",
    "coeftest( dynlm(residual.s ~ L(residual.s)) )\n",
    "\n",
    "# Same with expectations-augmented Phillips curve:\n",
    "reg.ea <- dynlm( d(inf) ~ unem, data=tsdata, end=1996)\n",
    "residual.ea <- resid(reg.ea)\n",
    "coeftest( dynlm(residual.ea ~ L(residual.ea)) )"
   ]
  },
  {
   "cell_type": "markdown",
   "metadata": {},
   "source": [
    "# 12.3b The Durbin-Watson Test under Classical Assumption"
   ]
  },
  {
   "cell_type": "code",
   "execution_count": 13,
   "metadata": {},
   "outputs": [
    {
     "data": {
      "text/plain": [
       "\n",
       "\tDurbin-Watson test\n",
       "\n",
       "data:  reg.s\n",
       "DW = 0.8027, p-value = 7.552e-07\n",
       "alternative hypothesis: true autocorrelation is greater than 0\n"
      ]
     },
     "metadata": {},
     "output_type": "display_data"
    },
    {
     "data": {
      "text/plain": [
       "\n",
       "\tDurbin-Watson test\n",
       "\n",
       "data:  reg.ea\n",
       "DW = 1.7696, p-value = 0.1783\n",
       "alternative hypothesis: true autocorrelation is greater than 0\n"
      ]
     },
     "metadata": {},
     "output_type": "display_data"
    }
   ],
   "source": [
    "library(dynlm);library(lmtest)\n",
    "data(phillips, package='wooldridge')\n",
    "\n",
    "tsdata <- ts(phillips, start=1948)\n",
    "\n",
    "# Estimation of both Phillips curve models:\n",
    "reg.s <- dynlm( inf ~ unem, data=tsdata, end=1996)\n",
    "reg.ea <- dynlm( d(inf) ~ unem, data=tsdata, end=1996)\n",
    "\n",
    "# DW tests\n",
    "dwtest(reg.s)\n",
    "dwtest(reg.ea)"
   ]
  },
  {
   "cell_type": "code",
   "execution_count": 62,
   "metadata": {},
   "outputs": [
    {
     "data": {
      "text/plain": [
       "\n",
       "\tDurbin-Watson test\n",
       "\n",
       "data:  inf ~ unem\n",
       "DW = 0.80148, p-value = 1.486e-07\n",
       "alternative hypothesis: true autocorrelation is greater than 0\n"
      ]
     },
     "metadata": {},
     "output_type": "display_data"
    }
   ],
   "source": [
    "# from package lmtest\n",
    "dwtest(inf ~ unem, data = phillips)"
   ]
  },
  {
   "cell_type": "code",
   "execution_count": 63,
   "metadata": {},
   "outputs": [
    {
     "data": {
      "text/plain": [
       "\n",
       "\tDurbin-Watson test\n",
       "\n",
       "data:  I(inf - inf_1) ~ unem\n",
       "DW = 1.771, p-value = 0.1673\n",
       "alternative hypothesis: true autocorrelation is greater than 0\n"
      ]
     },
     "metadata": {},
     "output_type": "display_data"
    }
   ],
   "source": [
    "dwtest(I(inf - inf_1) ~ unem, data = phillips)"
   ]
  },
  {
   "cell_type": "code",
   "execution_count": null,
   "metadata": {},
   "outputs": [],
   "source": []
  },
  {
   "cell_type": "code",
   "execution_count": null,
   "metadata": {},
   "outputs": [],
   "source": []
  },
  {
   "cell_type": "markdown",
   "metadata": {},
   "source": [
    "# Example 12.3: Testing for AR(1) SC in the minimum wage equation"
   ]
  },
  {
   "cell_type": "code",
   "execution_count": 15,
   "metadata": {},
   "outputs": [],
   "source": [
    "uthat = resid(lm.12.1 )"
   ]
  },
  {
   "cell_type": "code",
   "execution_count": 41,
   "metadata": {},
   "outputs": [],
   "source": [
    "# prminwge"
   ]
  },
  {
   "cell_type": "code",
   "execution_count": 42,
   "metadata": {},
   "outputs": [],
   "source": [
    "# lm.12.3 = \n",
    "# prminwge[-1,]"
   ]
  },
  {
   "cell_type": "code",
   "execution_count": 28,
   "metadata": {},
   "outputs": [],
   "source": [
    "tsprminwge <- ts(prminwge, start=1950)"
   ]
  },
  {
   "cell_type": "code",
   "execution_count": 30,
   "metadata": {},
   "outputs": [],
   "source": [
    "res.static <- lm.12.1$res\n",
    "res.static_1 <- c(NA, lm.12.1$res[-(length(res.static))])"
   ]
  },
  {
   "cell_type": "code",
   "execution_count": 33,
   "metadata": {},
   "outputs": [
    {
     "data": {
      "text/plain": [
       "\n",
       "t test of coefficients:\n",
       "\n",
       "               Estimate Std. Error t value Pr(>|t|)   \n",
       "(Intercept)  -0.8507721  1.0926905 -0.7786 0.442117   \n",
       "res.static_1  0.4805093  0.1664442  2.8869 0.007029 **\n",
       "lmincov       0.0375001  0.0352123  1.0650 0.295114   \n",
       "lusgnp        0.2039325  0.1951588  1.0450 0.304123   \n",
       "lprgnp       -0.0784656  0.0705240 -1.1126 0.274430   \n",
       "t            -0.0034662  0.0040736 -0.8509 0.401345   \n",
       "---\n",
       "Signif. codes:  0 ‘***’ 0.001 ‘**’ 0.01 ‘*’ 0.05 ‘.’ 0.1 ‘ ’ 1\n"
      ]
     },
     "metadata": {},
     "output_type": "display_data"
    }
   ],
   "source": [
    "coeftest( lm(res.static  ~ res.static_1 + lmincov + lusgnp + lprgnp+t, data=prminwge))"
   ]
  },
  {
   "cell_type": "code",
   "execution_count": null,
   "metadata": {},
   "outputs": [],
   "source": []
  },
  {
   "cell_type": "code",
   "execution_count": 78,
   "metadata": {},
   "outputs": [
    {
     "data": {
      "text/plain": [
       "\n",
       "Call:\n",
       "lm(formula = lprepop ~ lmincov + lusgnp + lprgnp + t, data = prminwge)\n",
       "\n",
       "Residuals:\n",
       "      Min        1Q    Median        3Q       Max \n",
       "-0.054679 -0.023653 -0.004039  0.018638  0.076947 \n",
       "\n",
       "Coefficients:\n",
       "             Estimate Std. Error t value Pr(>|t|)    \n",
       "(Intercept) -6.663432   1.257831  -5.298 7.67e-06 ***\n",
       "lmincov     -0.212261   0.040152  -5.286 7.92e-06 ***\n",
       "lusgnp       0.486046   0.221983   2.190   0.0357 *  \n",
       "lprgnp       0.285239   0.080492   3.544   0.0012 ** \n",
       "t           -0.026663   0.004627  -5.763 1.94e-06 ***\n",
       "---\n",
       "Signif. codes:  0 ‘***’ 0.001 ‘**’ 0.01 ‘*’ 0.05 ‘.’ 0.1 ‘ ’ 1\n",
       "\n",
       "Residual standard error: 0.03277 on 33 degrees of freedom\n",
       "Multiple R-squared:  0.8892,\tAdjusted R-squared:  0.8758 \n",
       "F-statistic: 66.23 on 4 and 33 DF,  p-value: 2.677e-15\n"
      ]
     },
     "metadata": {},
     "output_type": "display_data"
    }
   ],
   "source": [
    "data(\"prminwge\")\n",
    "\n",
    "lm.12.7.1 <- lm(lprepop ~ lmincov + lusgnp + lprgnp + t, data = prminwge)\n",
    "summary(lm.12.7.1)"
   ]
  },
  {
   "cell_type": "code",
   "execution_count": 79,
   "metadata": {},
   "outputs": [
    {
     "name": "stdout",
     "output_type": "stream",
     "text": [
      "Iteration 0: rho = 0\n",
      "Iteration 1: rho = 0.4197\n",
      "Iteration 2: rho = 0.5325\n",
      "Iteration 3: rho = 0.5796\n",
      "Iteration 4: rho = 0.5999\n",
      "Iteration 5: rho = 0.6086\n",
      "Iteration 6: rho = 0.6123\n",
      "Iteration 7: rho = 0.6139\n",
      "Iteration 8: rho = 0.6146\n",
      "Iteration 9: rho = 0.6149\n",
      "Iteration 10: rho = 0.615\n",
      "Iteration 11: rho = 0.6151\n",
      "Iteration 12: rho = 0.6151\n",
      "Iteration 13: rho = 0.6151\n",
      "Iteration 14: rho = 0.6151\n",
      "Iteration 15: rho = 0.6151\n",
      "Iteration 16: rho = 0.6151\n"
     ]
    }
   ],
   "source": [
    "# Still looking for the SC/heteroskedasticiy robust se.\n",
    "\n",
    "pw_12_7_1 <- prais_winsten(lprepop ~ lmincov + lusgnp + lprgnp + t, data = prminwge)"
   ]
  },
  {
   "cell_type": "code",
   "execution_count": 80,
   "metadata": {},
   "outputs": [
    {
     "data": {
      "text/plain": [
       "\n",
       "Call:\n",
       "prais_winsten(formula = lprepop ~ lmincov + lusgnp + lprgnp + \n",
       "    t, data = prminwge)\n",
       "\n",
       "Residuals:\n",
       "      Min        1Q    Median        3Q       Max \n",
       "-0.079574 -0.028121 -0.004816  0.005918  0.075978 \n",
       "\n",
       "AR(1) coefficient rho after 16 Iterations: 0.6151\n",
       "\n",
       "Coefficients:\n",
       "             Estimate Std. Error t value Pr(>|t|)   \n",
       "(Intercept) -4.652853   1.376470  -3.380  0.00188 **\n",
       "lmincov     -0.147711   0.045842  -3.222  0.00286 **\n",
       "lusgnp       0.255711   0.231750   1.103  0.27784   \n",
       "lprgnp       0.251383   0.116462   2.158  0.03826 * \n",
       "t           -0.020502   0.005856  -3.501  0.00135 **\n",
       "---\n",
       "Signif. codes:  0 ‘***’ 0.001 ‘**’ 0.01 ‘*’ 0.05 ‘.’ 0.1 ‘ ’ 1\n",
       "\n",
       "Residual standard error: 0.02852 on 33 degrees of freedom\n",
       "Multiple R-squared:  0.7509,\tAdjusted R-squared:  0.7207 \n",
       "F-statistic: 24.87 on 4 and 33 DF,  p-value: 1.47e-09\n",
       "\n",
       "Durbin-Watson statistic (original): 1.014 \n",
       "Durbin-Watson statistic (transformed): 1.736\n"
      ]
     },
     "metadata": {},
     "output_type": "display_data"
    }
   ],
   "source": [
    "summary(pw_12_7_1)"
   ]
  },
  {
   "cell_type": "code",
   "execution_count": null,
   "metadata": {},
   "outputs": [],
   "source": []
  },
  {
   "cell_type": "code",
   "execution_count": null,
   "metadata": {},
   "outputs": [],
   "source": []
  },
  {
   "cell_type": "code",
   "execution_count": null,
   "metadata": {},
   "outputs": [],
   "source": []
  },
  {
   "cell_type": "code",
   "execution_count": null,
   "metadata": {},
   "outputs": [],
   "source": [
    "library(dynlm);library(car);library(lmtest)\n",
    "data(barium, package='wooldridge')\n",
    "\n",
    "tsdata <- ts(barium, start=c(1978,2), frequency=12)\n",
    "\n",
    "reg <- dynlm(log(chnimp)~log(chempi)+log(gas)+log(rtwex)+\n",
    "                                  befile6+affile6+afdec6, data=tsdata )\n",
    "\n",
    "# Pedestrian test: \n",
    "residual <- resid(reg)\n",
    "resreg <- dynlm(residual ~ L(residual)+L(residual,2)+L(residual,3)+\n",
    "                           log(chempi)+log(gas)+log(rtwex)+befile6+\n",
    "                                          affile6+afdec6, data=tsdata )\n",
    "linearHypothesis(resreg, \n",
    "                 c(\"L(residual)\",\"L(residual, 2)\",\"L(residual, 3)\"))\n",
    "\n",
    "# Automatic test:\n",
    "bgtest(reg, order=3, type=\"F\")"
   ]
  },
  {
   "cell_type": "markdown",
   "metadata": {},
   "source": [
    "# Example 12.4: Testing for AR(3) SC\n",
    "\n",
    "\n",
    "Automatic test: bgtest\n",
    "\n",
    "\n",
    "Basically you need the sandwich package, which computes robust covariance matrix estimators. You also need some way to use the variance estimator in a linear model, and the lmtest package is the solution. You will not get the same results as Stata, however, unless you use the HC1 estimator; the default is HC3, for reasons explained in ?vcovHC."
   ]
  },
  {
   "cell_type": "code",
   "execution_count": 38,
   "metadata": {},
   "outputs": [
    {
     "data": {
      "text/html": [
       "<table>\n",
       "<thead><tr><th scope=col>Res.Df</th><th scope=col>RSS</th><th scope=col>Df</th><th scope=col>Sum of Sq</th><th scope=col>F</th><th scope=col>Pr(&gt;F)</th></tr></thead>\n",
       "<tbody>\n",
       "\t<tr><td>121        </td><td>43.39419   </td><td>NA         </td><td>      NA   </td><td>      NA   </td><td>         NA</td></tr>\n",
       "\t<tr><td>118        </td><td>38.39367   </td><td> 3         </td><td>5.000522   </td><td>5.122907   </td><td>0.002289803</td></tr>\n",
       "</tbody>\n",
       "</table>\n"
      ],
      "text/latex": [
       "\\begin{tabular}{r|llllll}\n",
       " Res.Df & RSS & Df & Sum of Sq & F & Pr(>F)\\\\\n",
       "\\hline\n",
       "\t 121         & 43.39419    & NA          &       NA    &       NA    &          NA\\\\\n",
       "\t 118         & 38.39367    &  3          & 5.000522    & 5.122907    & 0.002289803\\\\\n",
       "\\end{tabular}\n"
      ],
      "text/markdown": [
       "\n",
       "Res.Df | RSS | Df | Sum of Sq | F | Pr(>F) | \n",
       "|---|---|\n",
       "| 121         | 43.39419    | NA          |       NA    |       NA    |          NA | \n",
       "| 118         | 38.39367    |  3          | 5.000522    | 5.122907    | 0.002289803 | \n",
       "\n",
       "\n"
      ],
      "text/plain": [
       "  Res.Df RSS      Df Sum of Sq F        Pr(>F)     \n",
       "1 121    43.39419 NA       NA        NA          NA\n",
       "2 118    38.39367  3 5.000522  5.122907 0.002289803"
      ]
     },
     "metadata": {},
     "output_type": "display_data"
    },
    {
     "data": {
      "text/plain": [
       "\n",
       "\tBreusch-Godfrey test for serial correlation of order up to 3\n",
       "\n",
       "data:  reg\n",
       "LM test = 5.1247, df1 = 3, df2 = 121, p-value = 0.002264\n"
      ]
     },
     "metadata": {},
     "output_type": "display_data"
    }
   ],
   "source": [
    "library(dynlm);library(car);library(lmtest)\n",
    "data(barium, package='wooldridge')\n",
    "\n",
    "tsdata <- ts(barium, start=c(1978,2), frequency=12)\n",
    "\n",
    "lm.10.22=reg <- dynlm(log(chnimp)~log(chempi)+log(gas)+log(rtwex)+\n",
    "                                  befile6+affile6+afdec6, data=tsdata )\n",
    "\n",
    "# Pedestrian test: \n",
    "residual <- resid(reg)\n",
    "resreg <- dynlm(residual ~ L(residual)+L(residual,2)+L(residual,3)+\n",
    "                           log(chempi)+log(gas)+log(rtwex)+befile6+\n",
    "                                          affile6+afdec6, data=tsdata )\n",
    "linearHypothesis(resreg, \n",
    "                 c(\"L(residual)\",\"L(residual, 2)\",\"L(residual, 3)\"))\n",
    "\n",
    "# Automatic test:\n",
    "bgtest(reg, order=3, type=\"F\")"
   ]
  },
  {
   "cell_type": "code",
   "execution_count": null,
   "metadata": {},
   "outputs": [],
   "source": []
  },
  {
   "cell_type": "code",
   "execution_count": 66,
   "metadata": {},
   "outputs": [
    {
     "data": {
      "text/html": [
       "<table>\n",
       "<thead><tr><th scope=col>Res.Df</th><th scope=col>RSS</th><th scope=col>Df</th><th scope=col>Sum of Sq</th><th scope=col>F</th><th scope=col>Pr(&gt;F)</th></tr></thead>\n",
       "<tbody>\n",
       "\t<tr><td>118        </td><td>38.39366   </td><td>NA         </td><td>       NA  </td><td>      NA   </td><td>         NA</td></tr>\n",
       "\t<tr><td>121        </td><td>43.39419   </td><td>-3         </td><td>-5.000528  </td><td>5.122914   </td><td>0.002289782</td></tr>\n",
       "</tbody>\n",
       "</table>\n"
      ],
      "text/latex": [
       "\\begin{tabular}{r|llllll}\n",
       " Res.Df & RSS & Df & Sum of Sq & F & Pr(>F)\\\\\n",
       "\\hline\n",
       "\t 118         & 38.39366    & NA          &        NA   &       NA    &          NA\\\\\n",
       "\t 121         & 43.39419    & -3          & -5.000528   & 5.122914    & 0.002289782\\\\\n",
       "\\end{tabular}\n"
      ],
      "text/markdown": [
       "\n",
       "Res.Df | RSS | Df | Sum of Sq | F | Pr(>F) | \n",
       "|---|---|\n",
       "| 118         | 38.39366    | NA          |        NA   |       NA    |          NA | \n",
       "| 121         | 43.39419    | -3          | -5.000528   | 5.122914    | 0.002289782 | \n",
       "\n",
       "\n"
      ],
      "text/plain": [
       "  Res.Df RSS      Df Sum of Sq F        Pr(>F)     \n",
       "1 118    38.39366 NA        NA       NA          NA\n",
       "2 121    43.39419 -3 -5.000528 5.122914 0.002289782"
      ]
     },
     "metadata": {},
     "output_type": "display_data"
    }
   ],
   "source": [
    "data(\"barium\")\n",
    "\n",
    "lm.12.3 <- lm(lchnimp ~ lchempi + lgas + lrtwex + befile6 + affile6 + afdec6, data = barium)\n",
    "\n",
    "lm.12.3.res <- lm.12.3$res\n",
    "lm.12.3.res_1 <- c(NA,lm.12.3$res[1:(length(lm.12.3.res)-1)])\n",
    "lm.12.3.res_2 <- c(NA,NA,lm.12.3$res[1:(length(lm.12.3.res)-2)])\n",
    "lm.12.3.res_3 <- c(NA,NA,NA,lm.12.3$res[1:(length(lm.12.3.res)-3)])\n",
    "\n",
    "data <- cbind(barium, lm.12.3.res)\n",
    "data <- cbind(data, lm.12.3.res_1)\n",
    "data <- cbind(data, lm.12.3.res_2)\n",
    "data <- cbind(data, lm.12.3.res_3)\n",
    "\n",
    "lm.12.3.test <- lm(lm.12.3.res ~ lchempi + lgas + lrtwex + befile6 + affile6 + afdec6 +\n",
    " lm.12.3.res_1 + lm.12.3.res_2 + lm.12.3.res_3, data = data)\n",
    "\n",
    "lm.12.3.test.res <- lm(lm.12.3.res ~ lchempi + lgas + lrtwex + befile6 + affile6 + afdec6,\n",
    " data = data[-(1:3),]) # Drop first 3 observations to make test statistics comparable\n",
    "\n",
    "anova(lm.12.3.test, lm.12.3.test.res)"
   ]
  },
  {
   "cell_type": "code",
   "execution_count": 67,
   "metadata": {},
   "outputs": [
    {
     "data": {
      "text/plain": [
       "\n",
       "Call:\n",
       "lm(formula = lm.12.3.res ~ lm.12.3.res_12, data = data)\n",
       "\n",
       "Residuals:\n",
       "     Min       1Q   Median       3Q      Max \n",
       "-1.96217 -0.33069  0.03732  0.36389  1.46367 \n",
       "\n",
       "Coefficients:\n",
       "               Estimate Std. Error t value Pr(>|t|)  \n",
       "(Intercept)     0.03789    0.05047   0.751    0.454  \n",
       "lm.12.3.res_12 -0.18744    0.08425  -2.225    0.028 *\n",
       "---\n",
       "Signif. codes:  0 ‘***’ 0.001 ‘**’ 0.01 ‘*’ 0.05 ‘.’ 0.1 ‘ ’ 1\n",
       "\n",
       "Residual standard error: 0.5506 on 117 degrees of freedom\n",
       "  (12 observations deleted due to missingness)\n",
       "Multiple R-squared:  0.04059,\tAdjusted R-squared:  0.03239 \n",
       "F-statistic:  4.95 on 1 and 117 DF,  p-value: 0.02801\n"
      ]
     },
     "metadata": {},
     "output_type": "display_data"
    }
   ],
   "source": [
    "#Seasonal autocorrelation\n",
    "\n",
    "data <- cbind(data, lm.12.3.res_12 = c(rep(NA, 12), lm.12.3$res[1:(length(lm.12.3.res) - 12)]))\n",
    "summary(lm(lm.12.3.res ~ lm.12.3.res_12, data = data))"
   ]
  },
  {
   "cell_type": "code",
   "execution_count": 68,
   "metadata": {},
   "outputs": [
    {
     "data": {
      "text/plain": [
       "\n",
       "Call:\n",
       "lm(formula = lm.12.3.res ~ lchempi + lgas + lrtwex + befile6 + \n",
       "    affile6 + afdec6 + lm.12.3.res_12, data = data)\n",
       "\n",
       "Residuals:\n",
       "    Min      1Q  Median      3Q     Max \n",
       "-2.0259 -0.3467  0.0158  0.3770  1.3676 \n",
       "\n",
       "Coefficients:\n",
       "                Estimate Std. Error t value Pr(>|t|)  \n",
       "(Intercept)    -28.57195   22.64780  -1.262   0.2097  \n",
       "lchempi         -0.92803    0.54647  -1.698   0.0923 .\n",
       "lgas             1.50251    1.01497   1.480   0.1416  \n",
       "lrtwex          -0.27439    0.38127  -0.720   0.4732  \n",
       "befile6          0.04437    0.24581   0.180   0.8571  \n",
       "affile6          0.06253    0.24600   0.254   0.7998  \n",
       "afdec6           0.17231    0.27038   0.637   0.5253  \n",
       "lm.12.3.res_12  -0.17002    0.08670  -1.961   0.0524 .\n",
       "---\n",
       "Signif. codes:  0 ‘***’ 0.001 ‘**’ 0.01 ‘*’ 0.05 ‘.’ 0.1 ‘ ’ 1\n",
       "\n",
       "Residual standard error: 0.5541 on 111 degrees of freedom\n",
       "  (12 observations deleted due to missingness)\n",
       "Multiple R-squared:  0.07811,\tAdjusted R-squared:  0.01997 \n",
       "F-statistic: 1.344 on 7 and 111 DF,  p-value: 0.2367\n"
      ]
     },
     "metadata": {},
     "output_type": "display_data"
    }
   ],
   "source": [
    "#Include regressors\n",
    "\n",
    "summary(lm(lm.12.3.res ~ lchempi + lgas + lrtwex + befile6 + affile6 + afdec6 +\n",
    " lm.12.3.res_12, data = data))"
   ]
  },
  {
   "cell_type": "code",
   "execution_count": null,
   "metadata": {},
   "outputs": [],
   "source": []
  },
  {
   "cell_type": "markdown",
   "metadata": {},
   "source": [
    "# Example 12.4.1: Testing for AR(3) SC\n",
    "\n",
    "`"
   ]
  },
  {
   "cell_type": "code",
   "execution_count": 36,
   "metadata": {},
   "outputs": [
    {
     "data": {
      "text/plain": [
       "\n",
       "\tBreusch-Godfrey test for serial correlation of order up to 12\n",
       "\n",
       "data:  reg\n",
       "LM test = 2.0865, df1 = 12, df2 = 112, p-value = 0.02319\n"
      ]
     },
     "metadata": {},
     "output_type": "display_data"
    }
   ],
   "source": [
    "# Automatic test:\n",
    "bgtest(reg, order=12, type=\"F\")"
   ]
  },
  {
   "cell_type": "code",
   "execution_count": 39,
   "metadata": {},
   "outputs": [
    {
     "data": {
      "text/plain": [
       "\n",
       "Time series regression with \"ts\" data:\n",
       "Start = 1979(2), End = 1988(12)\n",
       "\n",
       "Call:\n",
       "dynlm(formula = residual ~ L(residual, 12), data = tsdata)\n",
       "\n",
       "Residuals:\n",
       "     Min       1Q   Median       3Q      Max \n",
       "-1.96217 -0.33069  0.03732  0.36389  1.46367 \n",
       "\n",
       "Coefficients:\n",
       "                Estimate Std. Error t value Pr(>|t|)  \n",
       "(Intercept)      0.03789    0.05047   0.751    0.454  \n",
       "L(residual, 12) -0.18744    0.08425  -2.225    0.028 *\n",
       "---\n",
       "Signif. codes:  0 ‘***’ 0.001 ‘**’ 0.01 ‘*’ 0.05 ‘.’ 0.1 ‘ ’ 1\n",
       "\n",
       "Residual standard error: 0.5506 on 117 degrees of freedom\n",
       "Multiple R-squared:  0.04059,\tAdjusted R-squared:  0.03239 \n",
       "F-statistic:  4.95 on 1 and 117 DF,  p-value: 0.02801\n"
      ]
     },
     "metadata": {},
     "output_type": "display_data"
    }
   ],
   "source": [
    "\n",
    "resreg <- dynlm(residual ~ L(residual,12), data=tsdata )\n",
    "\n",
    "summary(resreg)\n"
   ]
  },
  {
   "cell_type": "code",
   "execution_count": 44,
   "metadata": {},
   "outputs": [
    {
     "data": {
      "text/plain": [
       "\n",
       "Time series regression with \"ts\" data:\n",
       "Start = 1979(2), End = 1988(12)\n",
       "\n",
       "Call:\n",
       "dynlm(formula = residual ~ L(residual, 12) + log(chempi) + log(gas) + \n",
       "    log(rtwex) + befile6 + affile6 + afdec6, data = tsdata)\n",
       "\n",
       "Residuals:\n",
       "    Min      1Q  Median      3Q     Max \n",
       "-2.0259 -0.3467  0.0158  0.3770  1.3676 \n",
       "\n",
       "Coefficients:\n",
       "                 Estimate Std. Error t value Pr(>|t|)  \n",
       "(Intercept)     -28.57203   22.64780  -1.262   0.2097  \n",
       "L(residual, 12)  -0.17002    0.08670  -1.961   0.0524 .\n",
       "log(chempi)      -0.92803    0.54647  -1.698   0.0923 .\n",
       "log(gas)          1.50252    1.01497   1.480   0.1416  \n",
       "log(rtwex)       -0.27439    0.38127  -0.720   0.4732  \n",
       "befile6           0.04437    0.24581   0.180   0.8571  \n",
       "affile6           0.06253    0.24600   0.254   0.7998  \n",
       "afdec6            0.17231    0.27038   0.637   0.5253  \n",
       "---\n",
       "Signif. codes:  0 ‘***’ 0.001 ‘**’ 0.01 ‘*’ 0.05 ‘.’ 0.1 ‘ ’ 1\n",
       "\n",
       "Residual standard error: 0.5541 on 111 degrees of freedom\n",
       "Multiple R-squared:  0.07811,\tAdjusted R-squared:  0.01997 \n",
       "F-statistic: 1.344 on 7 and 111 DF,  p-value: 0.2367\n"
      ]
     },
     "metadata": {},
     "output_type": "display_data"
    }
   ],
   "source": [
    "# Pedestrian test: \n",
    "residual <- resid(reg)\n",
    "resreg <- dynlm(residual ~ L(residual,12)+\n",
    "                           log(chempi)+log(gas)+log(rtwex)+befile6+\n",
    "                                          affile6+afdec6, data=tsdata )\n",
    "\n",
    "summary(resreg)\n",
    "# linearHypothesis(resreg, \n",
    "#                  c(\"L(residual)\",\"L(residual, 12)\",\"L(residual, 3)\"))"
   ]
  },
  {
   "cell_type": "code",
   "execution_count": 50,
   "metadata": {},
   "outputs": [
    {
     "name": "stderr",
     "output_type": "stream",
     "text": [
      "Warning message in diag(se):\n",
      "“NAs introduced by coercion”"
     ]
    },
    {
     "ename": "ERROR",
     "evalue": "Error in diag(se): invalid 'nrow' value (too large or NA)\n",
     "output_type": "error",
     "traceback": [
      "Error in diag(se): invalid 'nrow' value (too large or NA)\nTraceback:\n",
      "1. coeftest(resreg, vcov = \"HC1\")",
      "2. coeftest.default(resreg, vcov = \"HC1\")",
      "3. diag(se)"
     ]
    }
   ],
   "source": [
    "coeftest(resreg, vcov =  'HC1') #vcovHAC(resreg) )"
   ]
  },
  {
   "cell_type": "code",
   "execution_count": 49,
   "metadata": {},
   "outputs": [
    {
     "data": {
      "text/plain": [
       "Cochrane-orcutt estimation for first order autocorrelation \n",
       " \n",
       "Call:\n",
       "dynlm(formula = log(chnimp) ~ log(chempi) + log(gas) + log(rtwex) + \n",
       "    befile6 + affile6 + afdec6, data = tsdata)\n",
       "\n",
       " number of interaction: 8\n",
       " rho 0.293362\n",
       "\n",
       "Durbin-Watson statistic \n",
       "(original):    1.45841 , p-value: 1.688e-04\n",
       "(transformed): 2.06330 , p-value: 4.91e-01\n",
       " \n",
       " coefficients: \n",
       "(Intercept) log(chempi)    log(gas)  log(rtwex)     befile6     affile6 \n",
       " -37.322241    2.947434    1.054858    1.136918   -0.016372   -0.033082 \n",
       "     afdec6 \n",
       "  -0.577158 "
      ]
     },
     "metadata": {},
     "output_type": "display_data"
    }
   ],
   "source": [
    "library(dynlm);library(car);library(orcutt)\n",
    "data(barium, package='wooldridge')\n",
    "\n",
    "tsdata <- ts(barium, start=c(1978,2), frequency=12)\n",
    "\n",
    "# OLS estimation\n",
    "olsres <- dynlm(log(chnimp)~log(chempi)+log(gas)+log(rtwex)+\n",
    "      befile6+affile6+afdec6, data=tsdata)\n",
    "\n",
    "# Cochrane-Orcutt estimation\n",
    "cochrane.orcutt(olsres)"
   ]
  },
  {
   "cell_type": "markdown",
   "metadata": {},
   "source": [
    "# Example 12.5: Prais-Winsten Estimation in the Event Study"
   ]
  },
  {
   "cell_type": "code",
   "execution_count": 3,
   "metadata": {
    "ExecuteTime": {
     "end_time": "2018-12-03T04:06:45.391586Z",
     "start_time": "2018-12-03T04:06:45.355Z"
    }
   },
   "outputs": [],
   "source": [
    "data(\"barium\")\n",
    "\n",
    "barium_model <- lm(lchnimp ~ lchempi + lgas + lrtwex + befile6 + affile6 + afdec6, \n",
    "                   data = barium)\n"
   ]
  },
  {
   "cell_type": "code",
   "execution_count": 7,
   "metadata": {
    "ExecuteTime": {
     "end_time": "2018-12-03T04:07:33.201421Z",
     "start_time": "2018-12-03T04:07:33.043Z"
    }
   },
   "outputs": [
    {
     "name": "stdout",
     "output_type": "stream",
     "text": [
      "\n",
      "===============================================\n",
      "                        Dependent variable:    \n",
      "                    ---------------------------\n",
      "                              lchnimp          \n",
      "-----------------------------------------------\n",
      "lchempi                3.11719*** (0.47920)    \n",
      "lgas                     0.19635 (0.90662)     \n",
      "lrtwex                  0.98302** (0.40015)    \n",
      "befile6                  0.05957 (0.26097)     \n",
      "affile6                 -0.03241 (0.26430)     \n",
      "afdec6                  -0.56524* (0.28584)    \n",
      "Constant               -17.80300 (21.04537)    \n",
      "-----------------------------------------------\n",
      "Observations                    131            \n",
      "R2                            0.30486          \n",
      "Adjusted R2                   0.27123          \n",
      "Residual Std. Error     0.59735 (df = 124)     \n",
      "F Statistic          9.06365*** (df = 6; 124)  \n",
      "===============================================\n",
      "Note:               *p<0.1; **p<0.05; ***p<0.01\n"
     ]
    }
   ],
   "source": [
    "stargazer(type = \"text\", barium_model, single.row = TRUE, header = FALSE, digits=5)\n"
   ]
  },
  {
   "cell_type": "code",
   "execution_count": 52,
   "metadata": {
    "ExecuteTime": {
     "end_time": "2018-12-03T04:07:36.850413Z",
     "start_time": "2018-12-03T04:07:36.812Z"
    }
   },
   "outputs": [
    {
     "name": "stdout",
     "output_type": "stream",
     "text": [
      "Iteration 0: rho = 0\n",
      "Iteration 1: rho = 0.2708\n",
      "Iteration 2: rho = 0.291\n",
      "Iteration 3: rho = 0.293\n",
      "Iteration 4: rho = 0.2932\n",
      "Iteration 5: rho = 0.2932\n",
      "Iteration 6: rho = 0.2932\n",
      "Iteration 7: rho = 0.2932\n"
     ]
    }
   ],
   "source": [
    "# Load the prais package, use the prais_winsten function to estimate.\n",
    "\n",
    "library(prais)\n",
    "barium_prais_winsten <- prais_winsten(lchnimp ~ lchempi + lgas + lrtwex + befile6 + affile6 + afdec6, data = barium)\n"
   ]
  },
  {
   "cell_type": "code",
   "execution_count": 53,
   "metadata": {
    "ExecuteTime": {
     "end_time": "2018-12-03T04:07:39.410715Z",
     "start_time": "2018-12-03T04:07:39.380Z"
    }
   },
   "outputs": [
    {
     "data": {
      "text/plain": [
       "\n",
       "Call:\n",
       "prais_winsten(formula = lchnimp ~ lchempi + lgas + lrtwex + befile6 + \n",
       "    affile6 + afdec6, data = barium)\n",
       "\n",
       "Residuals:\n",
       "     Min       1Q   Median       3Q      Max \n",
       "-1.99386 -0.32219  0.03747  0.40226  1.50281 \n",
       "\n",
       "AR(1) coefficient rho after 7 Iterations: 0.2932\n",
       "\n",
       "Coefficients:\n",
       "             Estimate Std. Error t value Pr(>|t|)    \n",
       "(Intercept) -37.07770   22.77830  -1.628   0.1061    \n",
       "lchempi       2.94095    0.63284   4.647 8.46e-06 ***\n",
       "lgas          1.04638    0.97734   1.071   0.2864    \n",
       "lrtwex        1.13279    0.50666   2.236   0.0272 *  \n",
       "befile6      -0.01648    0.31938  -0.052   0.9589    \n",
       "affile6      -0.03316    0.32181  -0.103   0.9181    \n",
       "afdec6       -0.57681    0.34199  -1.687   0.0942 .  \n",
       "---\n",
       "Signif. codes:  0 ‘***’ 0.001 ‘**’ 0.01 ‘*’ 0.05 ‘.’ 0.1 ‘ ’ 1\n",
       "\n",
       "Residual standard error: 0.5733 on 124 degrees of freedom\n",
       "Multiple R-squared:  0.2021,\tAdjusted R-squared:  0.1635 \n",
       "F-statistic: 5.235 on 6 and 124 DF,  p-value: 7.764e-05\n",
       "\n",
       "Durbin-Watson statistic (original): 1.458 \n",
       "Durbin-Watson statistic (transformed): 2.087\n"
      ]
     },
     "metadata": {},
     "output_type": "display_data"
    }
   ],
   "source": [
    "summary(barium_prais_winsten)"
   ]
  },
  {
   "cell_type": "code",
   "execution_count": 51,
   "metadata": {},
   "outputs": [
    {
     "data": {
      "text/plain": [
       "Cochrane-orcutt estimation for first order autocorrelation \n",
       " \n",
       "Call:\n",
       "dynlm(formula = log(chnimp) ~ log(chempi) + log(gas) + log(rtwex) + \n",
       "    befile6 + affile6 + afdec6, data = tsdata)\n",
       "\n",
       " number of interaction: 8\n",
       " rho 0.293362\n",
       "\n",
       "Durbin-Watson statistic \n",
       "(original):    1.45841 , p-value: 1.688e-04\n",
       "(transformed): 2.06330 , p-value: 4.91e-01\n",
       " \n",
       " coefficients: \n",
       "(Intercept) log(chempi)    log(gas)  log(rtwex)     befile6     affile6 \n",
       " -37.322241    2.947434    1.054858    1.136918   -0.016372   -0.033082 \n",
       "     afdec6 \n",
       "  -0.577158 "
      ]
     },
     "metadata": {},
     "output_type": "display_data"
    }
   ],
   "source": [
    "library(dynlm);library(car);library(orcutt)\n",
    "data(barium, package='wooldridge')\n",
    "\n",
    "tsdata <- ts(barium, start=c(1978,2), frequency=12)\n",
    "\n",
    "# OLS estimation\n",
    "olsres <- dynlm(log(chnimp)~log(chempi)+log(gas)+log(rtwex)+\n",
    "      befile6+affile6+afdec6, data=tsdata)\n",
    "\n",
    "# Cochrane-Orcutt estimation\n",
    "cochrane.orcutt(olsres)"
   ]
  },
  {
   "cell_type": "markdown",
   "metadata": {},
   "source": [
    "# Example 12.5 Static Philips Curves"
   ]
  },
  {
   "cell_type": "code",
   "execution_count": 58,
   "metadata": {},
   "outputs": [
    {
     "data": {
      "text/plain": [
       "\n",
       "Time series regression with \"ts\" data:\n",
       "Start = 1948, End = 2003\n",
       "\n",
       "Call:\n",
       "dynlm(formula = inf ~ unem, data = tsdata, end = 2006)\n",
       "\n",
       "Residuals:\n",
       "    Min      1Q  Median      3Q     Max \n",
       "-5.2176 -1.7812 -0.6659  1.1473  8.8795 \n",
       "\n",
       "Coefficients:\n",
       "            Estimate Std. Error t value Pr(>|t|)  \n",
       "(Intercept)   1.0536     1.5480   0.681   0.4990  \n",
       "unem          0.5024     0.2656   1.892   0.0639 .\n",
       "---\n",
       "Signif. codes:  0 ‘***’ 0.001 ‘**’ 0.01 ‘*’ 0.05 ‘.’ 0.1 ‘ ’ 1\n",
       "\n",
       "Residual standard error: 2.972 on 54 degrees of freedom\n",
       "Multiple R-squared:  0.06215,\tAdjusted R-squared:  0.04479 \n",
       "F-statistic: 3.579 on 1 and 54 DF,  p-value: 0.06389\n"
      ]
     },
     "metadata": {},
     "output_type": "display_data"
    },
    {
     "data": {
      "text/plain": [
       "\n",
       "t test of coefficients:\n",
       "\n",
       "              Estimate Std. Error t value Pr(>|t|)    \n",
       "(Intercept)   -0.11181    0.31799 -0.3516   0.7265    \n",
       "L(residual.s)  0.57247    0.10835  5.2833 2.43e-06 ***\n",
       "---\n",
       "Signif. codes:  0 ‘***’ 0.001 ‘**’ 0.01 ‘*’ 0.05 ‘.’ 0.1 ‘ ’ 1\n"
      ]
     },
     "metadata": {},
     "output_type": "display_data"
    },
    {
     "data": {
      "text/plain": [
       "\n",
       "Time series regression with \"ts\" data:\n",
       "Start = 1949, End = 2003\n",
       "\n",
       "Call:\n",
       "dynlm(formula = d(inf) ~ unem, data = tsdata, end = 2006)\n",
       "\n",
       "Residuals:\n",
       "    Min      1Q  Median      3Q     Max \n",
       "-9.0741 -0.9241  0.0189  0.8606  5.4800 \n",
       "\n",
       "Coefficients:\n",
       "            Estimate Std. Error t value Pr(>|t|)  \n",
       "(Intercept)   2.8282     1.2249   2.309   0.0249 *\n",
       "unem         -0.5176     0.2090  -2.476   0.0165 *\n",
       "---\n",
       "Signif. codes:  0 ‘***’ 0.001 ‘**’ 0.01 ‘*’ 0.05 ‘.’ 0.1 ‘ ’ 1\n",
       "\n",
       "Residual standard error: 2.307 on 53 degrees of freedom\n",
       "Multiple R-squared:  0.1037,\tAdjusted R-squared:  0.08679 \n",
       "F-statistic: 6.132 on 1 and 53 DF,  p-value: 0.0165\n"
      ]
     },
     "metadata": {},
     "output_type": "display_data"
    },
    {
     "data": {
      "text/plain": [
       "\n",
       "t test of coefficients:\n",
       "\n",
       "                Estimate Std. Error t value Pr(>|t|)\n",
       "(Intercept)     0.167446   0.265478  0.6307   0.5310\n",
       "L(residual.ea) -0.032697   0.116358 -0.2810   0.7798\n"
      ]
     },
     "metadata": {},
     "output_type": "display_data"
    }
   ],
   "source": [
    "library(dynlm);library(lmtest)\n",
    "data(phillips, package='wooldridge')\n",
    "\n",
    "# Define Yearly time series beginning in 1948\n",
    "tsdata <- ts(phillips, start=1948)\n",
    "\n",
    "# Estimation of static Phillips curve:\n",
    "reg.s <- dynlm( inf ~ unem, data=tsdata, end=2006)\n",
    "summary(reg.s)\n",
    "# residuals and AR(1) test:\n",
    "residual.s <- resid(reg.s)\n",
    "coeftest( dynlm(residual.s ~ L(residual.s)) )\n",
    "\n",
    "# Same with expectations-augmented Phillips curve:\n",
    "reg.ea <- dynlm( d(inf) ~ unem, data=tsdata, end=2006)\n",
    "summary(reg.ea)\n",
    "residual.ea <- resid(reg.ea)\n",
    "coeftest( dynlm(residual.ea ~ L(residual.ea)) )"
   ]
  },
  {
   "cell_type": "code",
   "execution_count": 61,
   "metadata": {},
   "outputs": [
    {
     "data": {
      "text/plain": [
       "\n",
       "Time series regression with \"ts\" data:\n",
       "Start = 1949, End = 2003\n",
       "\n",
       "Call:\n",
       "dynlm(formula = d(inf) ~ d(unem), data = tsdata, end = 2006)\n",
       "\n",
       "Residuals:\n",
       "    Min      1Q  Median      3Q     Max \n",
       "-7.4790 -0.9441  0.1384  1.0889  5.4551 \n",
       "\n",
       "Coefficients:\n",
       "            Estimate Std. Error t value Pr(>|t|)   \n",
       "(Intercept) -0.07214    0.30584  -0.236  0.81443   \n",
       "d(unem)     -0.83281    0.28984  -2.873  0.00583 **\n",
       "---\n",
       "Signif. codes:  0 ‘***’ 0.001 ‘**’ 0.01 ‘*’ 0.05 ‘.’ 0.1 ‘ ’ 1\n",
       "\n",
       "Residual standard error: 2.267 on 53 degrees of freedom\n",
       "Multiple R-squared:  0.1348,\tAdjusted R-squared:  0.1185 \n",
       "F-statistic: 8.256 on 1 and 53 DF,  p-value: 0.005831\n"
      ]
     },
     "metadata": {},
     "output_type": "display_data"
    }
   ],
   "source": [
    "summary(dynlm( d(inf) ~ d(unem), data=tsdata, end=2006))"
   ]
  },
  {
   "cell_type": "code",
   "execution_count": 56,
   "metadata": {},
   "outputs": [
    {
     "data": {
      "text/plain": [
       "Cochrane-orcutt estimation for first order autocorrelation \n",
       " \n",
       "Call:\n",
       "dynlm(formula = inf ~ unem, data = tsdata, end = 1996)\n",
       "\n",
       " number of interaction: 13\n",
       " rho 0.774051\n",
       "\n",
       "Durbin-Watson statistic \n",
       "(original):    0.80270 , p-value: 7.552e-07\n",
       "(transformed): 1.59363 , p-value: 7.447e-02\n",
       " \n",
       " coefficients: \n",
       "(Intercept)        unem \n",
       "   7.583459   -0.665336 "
      ]
     },
     "metadata": {},
     "output_type": "display_data"
    }
   ],
   "source": [
    "# Cochrane-Orcutt estimation\n",
    "cochrane.orcutt(reg.s )"
   ]
  },
  {
   "cell_type": "code",
   "execution_count": 57,
   "metadata": {},
   "outputs": [
    {
     "data": {
      "text/plain": [
       "Cochrane-orcutt estimation for first order autocorrelation \n",
       " \n",
       "Call:\n",
       "dynlm(formula = d(inf) ~ unem, data = tsdata, end = 1996)\n",
       "\n",
       " number of interaction: 5\n",
       " rho -0.037924\n",
       "\n",
       "Durbin-Watson statistic \n",
       "(original):    1.76965 , p-value: 1.783e-01\n",
       "(transformed): 1.84956 , p-value: 2.612e-01\n",
       " \n",
       " coefficients: \n",
       "(Intercept)        unem \n",
       "   3.102203   -0.522611 "
      ]
     },
     "metadata": {},
     "output_type": "display_data"
    }
   ],
   "source": [
    "# Cochrane-Orcutt estimation\n",
    "cochrane.orcutt(reg.ea)"
   ]
  },
  {
   "cell_type": "code",
   "execution_count": 71,
   "metadata": {},
   "outputs": [
    {
     "data": {
      "text/plain": [
       "\n",
       "Call:\n",
       "lm(formula = inf ~ unem, data = phillips)\n",
       "\n",
       "Residuals:\n",
       "    Min      1Q  Median      3Q     Max \n",
       "-5.2176 -1.7812 -0.6659  1.1473  8.8795 \n",
       "\n",
       "Coefficients:\n",
       "            Estimate Std. Error t value Pr(>|t|)  \n",
       "(Intercept)   1.0536     1.5480   0.681   0.4990  \n",
       "unem          0.5024     0.2656   1.892   0.0639 .\n",
       "---\n",
       "Signif. codes:  0 ‘***’ 0.001 ‘**’ 0.01 ‘*’ 0.05 ‘.’ 0.1 ‘ ’ 1\n",
       "\n",
       "Residual standard error: 2.972 on 54 degrees of freedom\n",
       "Multiple R-squared:  0.06215,\tAdjusted R-squared:  0.04479 \n",
       "F-statistic: 3.579 on 1 and 54 DF,  p-value: 0.06389\n"
      ]
     },
     "metadata": {},
     "output_type": "display_data"
    },
    {
     "name": "stdout",
     "output_type": "stream",
     "text": [
      "Iteration 0: rho = 0\n",
      "Iteration 1: rho = 0.5721\n",
      "Iteration 2: rho = 0.735\n",
      "Iteration 3: rho = 0.7792\n",
      "Iteration 4: rho = 0.7871\n",
      "Iteration 5: rho = 0.7883\n",
      "Iteration 6: rho = 0.7885\n",
      "Iteration 7: rho = 0.7885\n",
      "Iteration 8: rho = 0.7885\n",
      "Iteration 9: rho = 0.7885\n"
     ]
    }
   ],
   "source": [
    "#First column\n",
    "\n",
    "lm.12.5 <- lm(inf ~ unem, data = phillips)\n",
    "summary(lm.12.5)\n",
    "# Second column\n",
    "pw_2 <- prais_winsten(inf ~ unem, data=phillips)"
   ]
  },
  {
   "cell_type": "code",
   "execution_count": 70,
   "metadata": {},
   "outputs": [
    {
     "data": {
      "text/plain": [
       "\n",
       "Call:\n",
       "prais_winsten(formula = inf ~ unem, data = phillips)\n",
       "\n",
       "Residuals:\n",
       "   Min     1Q Median     3Q    Max \n",
       "-5.258 -2.447 -1.073  1.463 10.570 \n",
       "\n",
       "AR(1) coefficient rho after 9 Iterations: 0.7885\n",
       "\n",
       "Coefficients:\n",
       "            Estimate Std. Error t value Pr(>|t|)    \n",
       "(Intercept)   7.9994     2.0483   3.905 0.000264 ***\n",
       "unem         -0.7140     0.2898  -2.464 0.016965 *  \n",
       "---\n",
       "Signif. codes:  0 ‘***’ 0.001 ‘**’ 0.01 ‘*’ 0.05 ‘.’ 0.1 ‘ ’ 1\n",
       "\n",
       "Residual standard error: 2.138 on 54 degrees of freedom\n",
       "Multiple R-squared:  0.1345,\tAdjusted R-squared:  0.1185 \n",
       "F-statistic: 8.393 on 1 and 54 DF,  p-value: 0.00543\n",
       "\n",
       "Durbin-Watson statistic (original): 0.8015 \n",
       "Durbin-Watson statistic (transformed): 1.914\n"
      ]
     },
     "metadata": {},
     "output_type": "display_data"
    }
   ],
   "source": [
    "summary(pw_2)"
   ]
  },
  {
   "cell_type": "code",
   "execution_count": null,
   "metadata": {},
   "outputs": [],
   "source": []
  },
  {
   "cell_type": "code",
   "execution_count": 59,
   "metadata": {},
   "outputs": [
    {
     "name": "stdout",
     "output_type": "stream",
     "text": [
      "Iteration 0: rho = 0\n",
      "Iteration 1: rho = 0.5721\n",
      "Iteration 2: rho = 0.735\n",
      "Iteration 3: rho = 0.7792\n",
      "Iteration 4: rho = 0.7871\n",
      "Iteration 5: rho = 0.7883\n",
      "Iteration 6: rho = 0.7885\n",
      "Iteration 7: rho = 0.7885\n",
      "Iteration 8: rho = 0.7885\n",
      "Iteration 9: rho = 0.7885\n"
     ]
    }
   ],
   "source": [
    "phillips_prais_winsten <- prais_winsten(inf ~ unem, data=tsdata)\n"
   ]
  },
  {
   "cell_type": "code",
   "execution_count": 60,
   "metadata": {},
   "outputs": [
    {
     "data": {
      "text/plain": [
       "\n",
       "Call:\n",
       "prais_winsten(formula = inf ~ unem, data = tsdata)\n",
       "\n",
       "Residuals:\n",
       "   Min     1Q Median     3Q    Max \n",
       "-5.258 -2.447 -1.073  1.463 10.570 \n",
       "\n",
       "AR(1) coefficient rho after 9 Iterations: 0.7885\n",
       "\n",
       "Coefficients:\n",
       "            Estimate Std. Error t value Pr(>|t|)    \n",
       "(Intercept)   7.9994     2.0483   3.905 0.000264 ***\n",
       "unem         -0.7140     0.2898  -2.464 0.016965 *  \n",
       "---\n",
       "Signif. codes:  0 ‘***’ 0.001 ‘**’ 0.01 ‘*’ 0.05 ‘.’ 0.1 ‘ ’ 1\n",
       "\n",
       "Residual standard error: 2.138 on 54 degrees of freedom\n",
       "Multiple R-squared:  0.1345,\tAdjusted R-squared:  0.1185 \n",
       "F-statistic: 8.393 on 1 and 54 DF,  p-value: 0.00543\n",
       "\n",
       "Durbin-Watson statistic (original): 0.8015 \n",
       "Durbin-Watson statistic (transformed): 1.914\n"
      ]
     },
     "metadata": {},
     "output_type": "display_data"
    }
   ],
   "source": [
    "summary(phillips_prais_winsten)"
   ]
  },
  {
   "cell_type": "code",
   "execution_count": null,
   "metadata": {},
   "outputs": [],
   "source": []
  },
  {
   "cell_type": "markdown",
   "metadata": {},
   "source": [
    "# Example 12.7 Differencing the interest rate equation"
   ]
  },
  {
   "cell_type": "code",
   "execution_count": 72,
   "metadata": {},
   "outputs": [
    {
     "data": {
      "text/plain": [
       "\n",
       "Call:\n",
       "lm(formula = i3 ~ inf + def, data = intdef)\n",
       "\n",
       "Residuals:\n",
       "    Min      1Q  Median      3Q     Max \n",
       "-3.9948 -1.1694  0.1959  0.9602  4.7224 \n",
       "\n",
       "Coefficients:\n",
       "            Estimate Std. Error t value Pr(>|t|)    \n",
       "(Intercept)  1.73327    0.43197   4.012  0.00019 ***\n",
       "inf          0.60587    0.08213   7.376 1.12e-09 ***\n",
       "def          0.51306    0.11838   4.334 6.57e-05 ***\n",
       "---\n",
       "Signif. codes:  0 ‘***’ 0.001 ‘**’ 0.01 ‘*’ 0.05 ‘.’ 0.1 ‘ ’ 1\n",
       "\n",
       "Residual standard error: 1.843 on 53 degrees of freedom\n",
       "Multiple R-squared:  0.6021,\tAdjusted R-squared:  0.5871 \n",
       "F-statistic: 40.09 on 2 and 53 DF,  p-value: 2.483e-11\n"
      ]
     },
     "metadata": {},
     "output_type": "display_data"
    }
   ],
   "source": [
    "data(\"intdef\")\n",
    "\n",
    "summary(lm.12.7.1 <- lm(i3 ~ inf + def, data = intdef))"
   ]
  },
  {
   "cell_type": "code",
   "execution_count": 73,
   "metadata": {},
   "outputs": [
    {
     "data": {
      "text/plain": [
       "\n",
       "Call:\n",
       "lm(formula = res ~ -1 + res_1)\n",
       "\n",
       "Residuals:\n",
       "    Min      1Q  Median      3Q     Max \n",
       "-2.8010 -0.6616  0.0179  0.8721  4.5901 \n",
       "\n",
       "Coefficients:\n",
       "      Estimate Std. Error t value Pr(>|t|)    \n",
       "res_1   0.6229     0.1087    5.73 4.61e-07 ***\n",
       "---\n",
       "Signif. codes:  0 ‘***’ 0.001 ‘**’ 0.01 ‘*’ 0.05 ‘.’ 0.1 ‘ ’ 1\n",
       "\n",
       "Residual standard error: 1.397 on 54 degrees of freedom\n",
       "  (1 observation deleted due to missingness)\n",
       "Multiple R-squared:  0.3781,\tAdjusted R-squared:  0.3666 \n",
       "F-statistic: 32.83 on 1 and 54 DF,  p-value: 4.612e-07\n"
      ]
     },
     "metadata": {},
     "output_type": "display_data"
    }
   ],
   "source": [
    "res <- lm.12.7.1$residuals\n",
    "res_1 <- c(NA, res[-length(res)])\n",
    "summary(lm(res ~ -1 + res_1))"
   ]
  },
  {
   "cell_type": "code",
   "execution_count": 74,
   "metadata": {},
   "outputs": [
    {
     "data": {
      "text/plain": [
       "\n",
       "Call:\n",
       "lm(formula = I(diff(i3)) ~ I(diff(inf)) + I(diff(def)), data = intdef)\n",
       "\n",
       "Residuals:\n",
       "     Min       1Q   Median       3Q      Max \n",
       "-2.53316 -0.96248 -0.08658  0.75884  2.93846 \n",
       "\n",
       "Coefficients:\n",
       "             Estimate Std. Error t value Pr(>|t|)\n",
       "(Intercept)   0.04177    0.17139   0.244    0.808\n",
       "I(diff(inf))  0.14949    0.09216   1.622    0.111\n",
       "I(diff(def)) -0.18132    0.14768  -1.228    0.225\n",
       "\n",
       "Residual standard error: 1.265 on 52 degrees of freedom\n",
       "Multiple R-squared:  0.1763,\tAdjusted R-squared:  0.1446 \n",
       "F-statistic: 5.566 on 2 and 52 DF,  p-value: 0.006451\n"
      ]
     },
     "metadata": {},
     "output_type": "display_data"
    }
   ],
   "source": [
    "lm.12.7.2 <- lm(I(diff(i3)) ~ I(diff(inf)) + I(diff(def)), data = intdef)\n",
    "summary(lm.12.7.2)"
   ]
  },
  {
   "cell_type": "code",
   "execution_count": 75,
   "metadata": {},
   "outputs": [
    {
     "data": {
      "text/html": [
       "0.884503317965253"
      ],
      "text/latex": [
       "0.884503317965253"
      ],
      "text/markdown": [
       "0.884503317965253"
      ],
      "text/plain": [
       "[1] 0.8845033"
      ]
     },
     "metadata": {},
     "output_type": "display_data"
    }
   ],
   "source": [
    "#Correlation between i3t and i3t−1\n",
    "\n",
    "cor(intdef$i3, c(NA, intdef$i3[-length(intdef$i3)]), use = \"pairwise.complete.obs\")"
   ]
  },
  {
   "cell_type": "code",
   "execution_count": 77,
   "metadata": {},
   "outputs": [
    {
     "data": {
      "text/plain": [
       "\n",
       "Call:\n",
       "lm(formula = res ~ -1 + res_1)\n",
       "\n",
       "Residuals:\n",
       "    Min      1Q  Median      3Q     Max \n",
       "-2.7439 -0.9833 -0.1421  0.7773  2.8453 \n",
       "\n",
       "Coefficients:\n",
       "      Estimate Std. Error t value Pr(>|t|)\n",
       "res_1  0.07172    0.13305   0.539    0.592\n",
       "\n",
       "Residual standard error: 1.212 on 53 degrees of freedom\n",
       "  (1 observation deleted due to missingness)\n",
       "Multiple R-squared:  0.005454,\tAdjusted R-squared:  -0.01331 \n",
       "F-statistic: 0.2906 on 1 and 53 DF,  p-value: 0.5921\n"
      ]
     },
     "metadata": {},
     "output_type": "display_data"
    }
   ],
   "source": [
    "#Regression of et on et−1\n",
    "\n",
    "res <- lm.12.7.2$residuals\n",
    "res_1 <- res_1 <- c(NA, res[-length(res)])\n",
    "summary(lm(res ~ -1 + res_1))"
   ]
  },
  {
   "cell_type": "code",
   "execution_count": null,
   "metadata": {},
   "outputs": [],
   "source": []
  },
  {
   "cell_type": "code",
   "execution_count": null,
   "metadata": {},
   "outputs": [],
   "source": []
  },
  {
   "cell_type": "code",
   "execution_count": null,
   "metadata": {},
   "outputs": [],
   "source": []
  },
  {
   "cell_type": "code",
   "execution_count": null,
   "metadata": {},
   "outputs": [],
   "source": []
  },
  {
   "cell_type": "markdown",
   "metadata": {},
   "source": [
    "# Example 12.8: Heteroskedasticity and the Efficient Markets Hypothesis\n",
    "These are Wednesday closing prices of value-weighted NYSE average, available in many publications. Wooldridge does not recall the particular source used when he collected these data at MIT, but notes probably the easiest way to get similar data is to go to the NYSE web site, www.nyse.com.\n",
    "\n",
    "$$return_t = \\beta_0 + \\beta_1return_{t-1} + \\mu_t$$"
   ]
  },
  {
   "cell_type": "code",
   "execution_count": 10,
   "metadata": {
    "ExecuteTime": {
     "end_time": "2018-12-03T04:08:48.825660Z",
     "start_time": "2018-12-03T04:08:48.720Z"
    }
   },
   "outputs": [],
   "source": [
    "data(\"nyse\")\n",
    "?nyse \n",
    "return_AR1 <-lm(return ~ return_1, data = nyse)"
   ]
  },
  {
   "cell_type": "markdown",
   "metadata": {},
   "source": [
    "$$\\hat{\\mu^2_t} = \\beta_0 + \\beta_1return_{t-1} + residual_t$$"
   ]
  },
  {
   "cell_type": "code",
   "execution_count": 11,
   "metadata": {
    "ExecuteTime": {
     "end_time": "2018-12-03T04:09:20.342910Z",
     "start_time": "2018-12-03T04:09:20.178Z"
    }
   },
   "outputs": [
    {
     "name": "stdout",
     "output_type": "stream",
     "text": [
      "\n",
      "========================================================================\n",
      "                                          Dependent variable:           \n",
      "                               -----------------------------------------\n",
      "                                     return             return_mu2      \n",
      "                                       (1)                  (2)         \n",
      "------------------------------------------------------------------------\n",
      "return_1                        0.05890 (0.03802)  -1.10413*** (0.20140)\n",
      "Constant                       0.17963** (0.08074) 4.65650*** (0.42768) \n",
      "------------------------------------------------------------------------\n",
      "Observations                           689                  689         \n",
      "R2                                   0.00348              0.04191       \n",
      "Adjusted R2                          0.00203              0.04052       \n",
      "Residual Std. Error (df = 687)       2.11040             11.17847       \n",
      "F Statistic (df = 1; 687)            2.39946            30.05460***     \n",
      "========================================================================\n",
      "Note:                                        *p<0.1; **p<0.05; ***p<0.01\n"
     ]
    }
   ],
   "source": [
    "return_mu <- residuals(return_AR1)\n",
    "mu2_hat_model <- lm(return_mu^2 ~ return_1, data = return_AR1$model)\n",
    "stargazer(type = \"text\",return_AR1, mu2_hat_model,  single.row = TRUE, header = FALSE, digits=5)"
   ]
  },
  {
   "cell_type": "code",
   "execution_count": null,
   "metadata": {},
   "outputs": [],
   "source": []
  },
  {
   "cell_type": "code",
   "execution_count": 81,
   "metadata": {},
   "outputs": [
    {
     "data": {
      "text/plain": [
       "\n",
       "Call:\n",
       "lm(formula = return ~ return_1, data = nyse)\n",
       "\n",
       "Residuals:\n",
       "    Min      1Q  Median      3Q     Max \n",
       "-15.261  -1.302   0.098   1.316   8.065 \n",
       "\n",
       "Coefficients:\n",
       "            Estimate Std. Error t value Pr(>|t|)  \n",
       "(Intercept)  0.17963    0.08074   2.225   0.0264 *\n",
       "return_1     0.05890    0.03802   1.549   0.1218  \n",
       "---\n",
       "Signif. codes:  0 ‘***’ 0.001 ‘**’ 0.01 ‘*’ 0.05 ‘.’ 0.1 ‘ ’ 1\n",
       "\n",
       "Residual standard error: 2.11 on 687 degrees of freedom\n",
       "  (2 observations deleted due to missingness)\n",
       "Multiple R-squared:  0.003481,\tAdjusted R-squared:  0.00203 \n",
       "F-statistic: 2.399 on 1 and 687 DF,  p-value: 0.1218\n"
      ]
     },
     "metadata": {},
     "output_type": "display_data"
    }
   ],
   "source": [
    "data(\"nyse\")\n",
    "\n",
    "lm.12.8 <- lm(return ~ return_1, data = nyse)\n",
    "summary(lm.12.8)"
   ]
  },
  {
   "cell_type": "code",
   "execution_count": 82,
   "metadata": {},
   "outputs": [
    {
     "data": {
      "text/plain": [
       "\n",
       "Call:\n",
       "lm(formula = res ~ return_1, data = na.omit(nyse))\n",
       "\n",
       "Residuals:\n",
       "    Min      1Q  Median      3Q     Max \n",
       " -9.689  -3.929  -2.021   0.960 223.730 \n",
       "\n",
       "Coefficients:\n",
       "            Estimate Std. Error t value Pr(>|t|)    \n",
       "(Intercept)   4.6565     0.4277  10.888  < 2e-16 ***\n",
       "return_1     -1.1041     0.2014  -5.482  5.9e-08 ***\n",
       "---\n",
       "Signif. codes:  0 ‘***’ 0.001 ‘**’ 0.01 ‘*’ 0.05 ‘.’ 0.1 ‘ ’ 1\n",
       "\n",
       "Residual standard error: 11.18 on 687 degrees of freedom\n",
       "Multiple R-squared:  0.04191,\tAdjusted R-squared:  0.04052 \n",
       "F-statistic: 30.05 on 1 and 687 DF,  p-value: 5.905e-08\n"
      ]
     },
     "metadata": {},
     "output_type": "display_data"
    }
   ],
   "source": [
    "res <- lm.12.8$residuals^2\n",
    "\n",
    "lm.12.8.bp <- lm(res ~ return_1, data = na.omit(nyse))\n",
    "summary(lm.12.8.bp)"
   ]
  },
  {
   "cell_type": "code",
   "execution_count": null,
   "metadata": {},
   "outputs": [],
   "source": []
  },
  {
   "cell_type": "markdown",
   "metadata": {},
   "source": [
    "# Example 12.9: ARCH in Stock Returns\n",
    "$$\\hat{\\mu^2_t} = \\beta_0 + \\hat{\\mu^2_{t-1}} + residual_t$$\n",
    "\n",
    "We still have return_mu in the working environment so we can use it to create $\\hat{\\mu^2_t}$, (mu2_hat) and $\\hat{\\mu^2_{t-1}}$ (mu2_hat_1). Notice the use R's matrix subset operations to perform the lag operation. We drop the first observation of mu2_hat and squared the results. Next, we remove the last observation of mu2_hat_1 using the subtraction operator combined with a call to the NROW function on return_mu. Now, both contain $688$ observations and we can estimate a standard linear model."
   ]
  },
  {
   "cell_type": "code",
   "execution_count": 12,
   "metadata": {
    "ExecuteTime": {
     "end_time": "2018-12-03T04:11:04.423622Z",
     "start_time": "2018-12-03T04:11:04.280Z"
    }
   },
   "outputs": [
    {
     "name": "stdout",
     "output_type": "stream",
     "text": [
      "\n",
      "===============================================\n",
      "                        Dependent variable:    \n",
      "                    ---------------------------\n",
      "                              mu2_hat          \n",
      "-----------------------------------------------\n",
      "mu2_hat_1              0.33706*** (0.03595)    \n",
      "Constant               2.94743*** (0.44023)    \n",
      "-----------------------------------------------\n",
      "Observations                    688            \n",
      "R2                            0.11361          \n",
      "Adjusted R2                   0.11231          \n",
      "Residual Std. Error     10.75907 (df = 686)    \n",
      "F Statistic          87.92263*** (df = 1; 686) \n",
      "===============================================\n",
      "Note:               *p<0.1; **p<0.05; ***p<0.01\n"
     ]
    }
   ],
   "source": [
    "mu2_hat  <- return_mu[-1]^2\n",
    "mu2_hat_1 <- return_mu[-NROW(return_mu)]^2\n",
    "arch_model <- lm(mu2_hat ~ mu2_hat_1)\n",
    "stargazer(type = \"text\",arch_model, single.row = TRUE, header = FALSE, digits=5)"
   ]
  },
  {
   "cell_type": "code",
   "execution_count": null,
   "metadata": {},
   "outputs": [],
   "source": []
  },
  {
   "cell_type": "code",
   "execution_count": 83,
   "metadata": {},
   "outputs": [
    {
     "data": {
      "text/plain": [
       "\n",
       "Call:\n",
       "lm(formula = return ~ return_1, data = nyse)\n",
       "\n",
       "Residuals:\n",
       "    Min      1Q  Median      3Q     Max \n",
       "-15.261  -1.302   0.098   1.316   8.065 \n",
       "\n",
       "Coefficients:\n",
       "            Estimate Std. Error t value Pr(>|t|)  \n",
       "(Intercept)  0.17963    0.08074   2.225   0.0264 *\n",
       "return_1     0.05890    0.03802   1.549   0.1218  \n",
       "---\n",
       "Signif. codes:  0 ‘***’ 0.001 ‘**’ 0.01 ‘*’ 0.05 ‘.’ 0.1 ‘ ’ 1\n",
       "\n",
       "Residual standard error: 2.11 on 687 degrees of freedom\n",
       "  (2 observations deleted due to missingness)\n",
       "Multiple R-squared:  0.003481,\tAdjusted R-squared:  0.00203 \n",
       "F-statistic: 2.399 on 1 and 687 DF,  p-value: 0.1218\n"
      ]
     },
     "metadata": {},
     "output_type": "display_data"
    }
   ],
   "source": [
    "data(\"nyse\")\n",
    "\n",
    "lm.12.9 <- lm(return ~ return_1, data = nyse)\n",
    "summary(lm.12.9)"
   ]
  },
  {
   "cell_type": "code",
   "execution_count": 84,
   "metadata": {},
   "outputs": [
    {
     "data": {
      "text/plain": [
       "\n",
       "Call:\n",
       "lm(formula = usq ~ usq_1)\n",
       "\n",
       "Residuals:\n",
       "    Min      1Q  Median      3Q     Max \n",
       "-23.337  -3.292  -2.157   0.556 223.981 \n",
       "\n",
       "Coefficients:\n",
       "            Estimate Std. Error t value Pr(>|t|)    \n",
       "(Intercept)  2.94743    0.44023   6.695 4.49e-11 ***\n",
       "usq_1        0.33706    0.03595   9.377  < 2e-16 ***\n",
       "---\n",
       "Signif. codes:  0 ‘***’ 0.001 ‘**’ 0.01 ‘*’ 0.05 ‘.’ 0.1 ‘ ’ 1\n",
       "\n",
       "Residual standard error: 10.76 on 686 degrees of freedom\n",
       "  (1 observation deleted due to missingness)\n",
       "Multiple R-squared:  0.1136,\tAdjusted R-squared:  0.1123 \n",
       "F-statistic: 87.92 on 1 and 686 DF,  p-value: < 2.2e-16\n"
      ]
     },
     "metadata": {},
     "output_type": "display_data"
    }
   ],
   "source": [
    "u <- lm.12.8$residuals\n",
    "u_1 <- c(NA, u[-length(u)])\n",
    "usq <- lm.12.8$residuals^2\n",
    "usq_1 <- c(NA, usq[-length(usq)])\n",
    "\n",
    "lm.12.9.arch <- lm(usq ~ usq_1)\n",
    "summary(lm.12.9.arch)\n"
   ]
  },
  {
   "cell_type": "code",
   "execution_count": 85,
   "metadata": {},
   "outputs": [
    {
     "data": {
      "text/plain": [
       "\n",
       "Call:\n",
       "lm(formula = u ~ u_1)\n",
       "\n",
       "Residuals:\n",
       "     Min       1Q   Median       3Q      Max \n",
       "-15.2538  -1.3024   0.0912   1.3217   8.0613 \n",
       "\n",
       "Coefficients:\n",
       "             Estimate Std. Error t value Pr(>|t|)\n",
       "(Intercept) -0.001171   0.080508  -0.015    0.988\n",
       "u_1          0.001405   0.038177   0.037    0.971\n",
       "\n",
       "Residual standard error: 2.112 on 686 degrees of freedom\n",
       "  (1 observation deleted due to missingness)\n",
       "Multiple R-squared:  1.974e-06,\tAdjusted R-squared:  -0.001456 \n",
       "F-statistic: 0.001354 on 1 and 686 DF,  p-value: 0.9707\n"
      ]
     },
     "metadata": {},
     "output_type": "display_data"
    }
   ],
   "source": [
    "lm.12.9.3 <- lm(u ~ u_1)\n",
    "summary(lm.12.9.3)"
   ]
  },
  {
   "cell_type": "code",
   "execution_count": null,
   "metadata": {},
   "outputs": [],
   "source": []
  }
 ],
 "metadata": {
  "kernelspec": {
   "display_name": "R",
   "language": "R",
   "name": "ir"
  },
  "language_info": {
   "codemirror_mode": "r",
   "file_extension": ".r",
   "mimetype": "text/x-r-source",
   "name": "R",
   "pygments_lexer": "r",
   "version": "3.5.1"
  }
 },
 "nbformat": 4,
 "nbformat_minor": 2
}
