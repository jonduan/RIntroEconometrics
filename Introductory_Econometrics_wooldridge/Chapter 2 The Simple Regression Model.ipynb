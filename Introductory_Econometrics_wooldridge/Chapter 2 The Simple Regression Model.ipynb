{
 "cells": [
  {
   "cell_type": "code",
   "execution_count": 2,
   "metadata": {
    "ExecuteTime": {
     "end_time": "2018-12-03T03:04:39.432933Z",
     "start_time": "2018-12-03T03:04:24.445Z"
    }
   },
   "outputs": [
    {
     "name": "stderr",
     "output_type": "stream",
     "text": [
      "Installing package into 'C:/Users/oldyu/R/win-library/3.5'\n",
      "(as 'lib' is unspecified)\n"
     ]
    },
    {
     "name": "stdout",
     "output_type": "stream",
     "text": [
      "package 'wooldridge' successfully unpacked and MD5 sums checked\n",
      "\n",
      "The downloaded binary packages are in\n",
      "\tC:\\Users\\oldyu\\AppData\\Local\\Temp\\RtmpgNTPas\\downloaded_packages\n"
     ]
    }
   ],
   "source": [
    "install.packages(\"wooldridge\")"
   ]
  },
  {
   "cell_type": "code",
   "execution_count": 3,
   "metadata": {
    "ExecuteTime": {
     "end_time": "2018-12-03T03:04:54.612282Z",
     "start_time": "2018-12-03T03:04:54.515Z"
    }
   },
   "outputs": [
    {
     "name": "stderr",
     "output_type": "stream",
     "text": [
      "\n",
      "Please cite as: \n",
      "\n",
      " Hlavac, Marek (2018). stargazer: Well-Formatted Regression and Summary Statistics Tables.\n",
      " R package version 5.2.2. https://CRAN.R-project.org/package=stargazer \n",
      "\n"
     ]
    }
   ],
   "source": [
    "library(wooldridge)\n",
    "library(stargazer)\n",
    "library(knitr)"
   ]
  },
  {
   "cell_type": "code",
   "execution_count": 4,
   "metadata": {
    "ExecuteTime": {
     "end_time": "2018-12-03T03:05:00.905986Z",
     "start_time": "2018-12-03T03:05:00.347Z"
    }
   },
   "outputs": [],
   "source": [
    "data(\"wage1\")\n",
    "\n",
    "?wage1"
   ]
  },
  {
   "cell_type": "code",
   "execution_count": 5,
   "metadata": {
    "ExecuteTime": {
     "end_time": "2018-12-03T03:05:23.759381Z",
     "start_time": "2018-12-03T03:05:23.579Z"
    }
   },
   "outputs": [
    {
     "data": {
      "image/png": "[encoded data removed]",
      "text/plain": [
       "Plot with title \"Wages vs. Education, 1976\""
      ]
     },
     "metadata": {},
     "output_type": "display_data"
    }
   ],
   "source": [
    "plot(y = wage1$wage, x = wage1$educ, col = \"darkgreen\", pch = 21, \n",
    "     bg = \"lightgrey\",     \n",
    "     cex=1.25, xaxt=\"n\", frame = FALSE, main = \"Wages vs. Education, 1976\", \n",
    "     xlab = \"years of education\", ylab = \"Hourly wages\")\n",
    "axis(side = 1, at = c(0,6,12,18))\n",
    "rug(wage1$wage, side=2, col=\"darkgreen\")"
   ]
  },
  {
   "cell_type": "code",
   "execution_count": 7,
   "metadata": {
    "ExecuteTime": {
     "end_time": "2018-12-03T03:07:20.632932Z",
     "start_time": "2018-12-03T03:07:20.609Z"
    }
   },
   "outputs": [
    {
     "data": {
      "text/plain": [
       "\n",
       "Call:\n",
       "lm(formula = lwage ~ educ, data = wage1)\n",
       "\n",
       "Residuals:\n",
       "     Min       1Q   Median       3Q      Max \n",
       "-2.21158 -0.36393 -0.07263  0.29712  1.52339 \n",
       "\n",
       "Coefficients:\n",
       "            Estimate Std. Error t value Pr(>|t|)    \n",
       "(Intercept) 0.583773   0.097336   5.998 3.74e-09 ***\n",
       "educ        0.082744   0.007567  10.935  < 2e-16 ***\n",
       "---\n",
       "Signif. codes:  0 '***' 0.001 '**' 0.01 '*' 0.05 '.' 0.1 ' ' 1\n",
       "\n",
       "Residual standard error: 0.4801 on 524 degrees of freedom\n",
       "Multiple R-squared:  0.1858,\tAdjusted R-squared:  0.1843 \n",
       "F-statistic: 119.6 on 1 and 524 DF,  p-value: < 2.2e-16\n"
      ]
     },
     "metadata": {},
     "output_type": "display_data"
    }
   ],
   "source": [
    "log_wage_model <- lm(lwage ~ educ, data = wage1)\n",
    "summary(log_wage_model)\n",
    "# stargazer(type = \"html\", log_wage_model, single.row = TRUE, header = FALSE, digits = 5)"
   ]
  },
  {
   "cell_type": "code",
   "execution_count": 8,
   "metadata": {
    "ExecuteTime": {
     "end_time": "2018-12-03T03:07:28.003750Z",
     "start_time": "2018-12-03T03:07:27.851Z"
    }
   },
   "outputs": [
    {
     "name": "stdout",
     "output_type": "stream",
     "text": [
      "\n",
      "===============================================\n",
      "                        Dependent variable:    \n",
      "                    ---------------------------\n",
      "                               lwage           \n",
      "-----------------------------------------------\n",
      "educ                   0.08274*** (0.00757)    \n",
      "Constant               0.58377*** (0.09734)    \n",
      "-----------------------------------------------\n",
      "Observations                    526            \n",
      "R2                            0.18581          \n",
      "Adjusted R2                   0.18425          \n",
      "Residual Std. Error     0.48008 (df = 524)     \n",
      "F Statistic         119.58160*** (df = 1; 524) \n",
      "===============================================\n",
      "Note:               *p<0.1; **p<0.05; ***p<0.01\n"
     ]
    }
   ],
   "source": [
    "stargazer(type = \"text\", log_wage_model, single.row = TRUE, header = FALSE, digits = 5)"
   ]
  },
  {
   "cell_type": "code",
   "execution_count": 9,
   "metadata": {
    "ExecuteTime": {
     "end_time": "2018-12-03T03:07:50.485566Z",
     "start_time": "2018-12-03T03:07:50.347Z"
    }
   },
   "outputs": [
    {
     "data": {
      "image/png": "[encoded data removed]",
      "text/plain": [
       "Plot with title \"A Log Wage Equation\""
      ]
     },
     "metadata": {},
     "output_type": "display_data"
    }
   ],
   "source": [
    "plot(y = wage1$lwage, x = wage1$educ, main = \"A Log Wage Equation\", \n",
    "     col = \"darkgreen\", pch = 21, bg = \"lightgrey\", cex=1.25,\n",
    "     xlab = \"years of education\", ylab = \"log of average hourly wages\",\n",
    "     xaxt=\"n\", frame = FALSE)\n",
    "axis(side = 1, at = c(0,6,12,18))\n",
    "abline(log_wage_model, col = \"blue\", lwd=2)\n",
    "rug(wage1$lwage, side=2, col=\"darkgreen\")"
   ]
  },
  {
   "cell_type": "code",
   "execution_count": null,
   "metadata": {},
   "outputs": [],
   "source": []
  },
  {
   "cell_type": "code",
   "execution_count": null,
   "metadata": {},
   "outputs": [],
   "source": []
  },
  {
   "cell_type": "code",
   "execution_count": null,
   "metadata": {},
   "outputs": [],
   "source": []
  },
  {
   "cell_type": "code",
   "execution_count": null,
   "metadata": {},
   "outputs": [],
   "source": []
  },
  {
   "cell_type": "code",
   "execution_count": null,
   "metadata": {},
   "outputs": [],
   "source": []
  }
 ],
 "metadata": {
  "kernelspec": {
   "display_name": "R",
   "language": "R",
   "name": "ir"
  },
  "language_info": {
   "codemirror_mode": "r",
   "file_extension": ".r",
   "mimetype": "text/x-r-source",
   "name": "R",
   "pygments_lexer": "r",
   "version": "3.5.1"
  }
 },
 "nbformat": 4,
 "nbformat_minor": 2
}
