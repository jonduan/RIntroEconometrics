{
 "cells": [
  {
   "cell_type": "code",
   "execution_count": 1,
   "metadata": {
    "ExecuteTime": {
     "end_time": "2018-12-03T03:35:37.462456Z",
     "start_time": "2018-12-03T03:35:37.393Z"
    }
   },
   "outputs": [
    {
     "name": "stderr",
     "output_type": "stream",
     "text": [
      "\n",
      "Please cite as: \n",
      "\n",
      " Hlavac, Marek (2018). stargazer: Well-Formatted Regression and Summary Statistics Tables.\n",
      " R package version 5.2.2. https://CRAN.R-project.org/package=stargazer \n",
      "\n"
     ]
    }
   ],
   "source": [
    "library(wooldridge)\n",
    "library(stargazer)\n",
    "library(knitr)"
   ]
  },
  {
   "cell_type": "code",
   "execution_count": null,
   "metadata": {},
   "outputs": [],
   "source": []
  },
  {
   "cell_type": "markdown",
   "metadata": {},
   "source": [
    "# Example 7.4: Housing Price Regression, Qualitative Binary variable"
   ]
  },
  {
   "cell_type": "code",
   "execution_count": null,
   "metadata": {},
   "outputs": [],
   "source": []
  },
  {
   "cell_type": "code",
   "execution_count": 2,
   "metadata": {
    "ExecuteTime": {
     "end_time": "2018-12-03T03:35:58.461589Z",
     "start_time": "2018-12-03T03:35:58.331Z"
    }
   },
   "outputs": [],
   "source": [
    "data(\"hprice1\")\n",
    "?hprice1"
   ]
  },
  {
   "cell_type": "code",
   "execution_count": null,
   "metadata": {},
   "outputs": [],
   "source": []
  },
  {
   "cell_type": "code",
   "execution_count": 4,
   "metadata": {
    "ExecuteTime": {
     "end_time": "2018-12-03T03:37:23.478157Z",
     "start_time": "2018-12-03T03:37:23.344Z"
    }
   },
   "outputs": [
    {
     "data": {
      "image/png": "[encoded data removed]",
      "text/plain": [
       "Plot with title \"Log(home size)\""
      ]
     },
     "metadata": {},
     "output_type": "display_data"
    }
   ],
   "source": [
    "par(mfrow=c(2,2))\n",
    "\n",
    "palette(rainbow(6, alpha = 0.8))\n",
    "plot(y = hprice1$lprice, x = hprice1$llotsize, col=hprice1$bdrms, pch = 19,\n",
    "     frame = FALSE, main = \"Log(lot size)\", xlab = \"\", ylab = \"\")\n",
    "mtext(side=2, line=2, \"Log( selling price )\", cex=1.25)\n",
    "\n",
    "\n",
    "plot(y = hprice1$lprice, x = hprice1$lsqrft, col=hprice1$bdrms, pch=19,\n",
    "     frame = FALSE, main = \"Log(home size)\", xlab = \"Rooms\", ylab = \" \")\n",
    "legend(8, 5.8, sort(unique(hprice1$bdrms)), col = 1:length(hprice1$bdrms), \n",
    "       pch=19, title = \"bdrms\")\n",
    "\n",
    "hprice1$colonial <- as.factor(hprice1$colonial)\n",
    "\n",
    "palette(rainbow(2, alpha = 0.8))\n",
    "plot(y = hprice1$lprice, x = hprice1$llotsize, col=hprice1$colonial, pch = 19, bg = \"lightgrey\",\n",
    "     frame = FALSE, main = \"Log(lot size)\", xlab = \"\", ylab = \"\")\n",
    "mtext(side=2, line=2, \"Log( selling price )\", cex=1.25)\n",
    "\n",
    "\n",
    "plot(y = hprice1$lprice, x = hprice1$lsqrft, col=hprice1$colonial, pch=19,\n",
    "     frame = FALSE, main = \"Log(home size)\", xlab = \"Rooms\", ylab = \" \")\n",
    "legend(8, 5.25, unique(hprice1$colonial), col=1:length(hprice1$colonial), pch=19, title = \"colonial\")"
   ]
  },
  {
   "cell_type": "markdown",
   "metadata": {},
   "source": [
    "$$\\widehat{log(price)} = \\beta_0 + \\beta_1log(lotsize) + \\beta_2log(sqrft) + \\beta_3bdrms + \\beta_4colonial $$\n",
    "\n",
    "Estimate the coefficients of the above linear model on the hprice data set.\n"
   ]
  },
  {
   "cell_type": "code",
   "execution_count": 6,
   "metadata": {
    "ExecuteTime": {
     "end_time": "2018-12-03T03:39:33.978327Z",
     "start_time": "2018-12-03T03:39:33.829Z"
    }
   },
   "outputs": [
    {
     "data": {
      "text/plain": [
       "\n",
       "Call:\n",
       "lm(formula = lprice ~ llotsize + lsqrft + bdrms + colonial, data = hprice1)\n",
       "\n",
       "Residuals:\n",
       "     Min       1Q   Median       3Q      Max \n",
       "-0.69479 -0.09750 -0.01619  0.09151  0.70228 \n",
       "\n",
       "Coefficients:\n",
       "            Estimate Std. Error t value Pr(>|t|)    \n",
       "(Intercept) -1.34959    0.65104  -2.073   0.0413 *  \n",
       "llotsize     0.16782    0.03818   4.395 3.25e-05 ***\n",
       "lsqrft       0.70719    0.09280   7.620 3.69e-11 ***\n",
       "bdrms        0.02683    0.02872   0.934   0.3530    \n",
       "colonial1    0.05380    0.04477   1.202   0.2330    \n",
       "---\n",
       "Signif. codes:  0 '***' 0.001 '**' 0.01 '*' 0.05 '.' 0.1 ' ' 1\n",
       "\n",
       "Residual standard error: 0.1841 on 83 degrees of freedom\n",
       "Multiple R-squared:  0.6491,\tAdjusted R-squared:  0.6322 \n",
       "F-statistic: 38.38 on 4 and 83 DF,  p-value: < 2.2e-16\n"
      ]
     },
     "metadata": {},
     "output_type": "display_data"
    },
    {
     "name": "stdout",
     "output_type": "stream",
     "text": [
      "\n",
      "===============================================\n",
      "                        Dependent variable:    \n",
      "                    ---------------------------\n",
      "                              lprice           \n",
      "-----------------------------------------------\n",
      "llotsize               0.16782*** (0.03818)    \n",
      "lsqrft                 0.70719*** (0.09280)    \n",
      "bdrms                    0.02683 (0.02872)     \n",
      "colonial1                0.05380 (0.04477)     \n",
      "Constant               -1.34959** (0.65104)    \n",
      "-----------------------------------------------\n",
      "Observations                    88             \n",
      "R2                            0.64907          \n",
      "Adjusted R2                   0.63216          \n",
      "Residual Std. Error      0.18412 (df = 83)     \n",
      "F Statistic          38.37846*** (df = 4; 83)  \n",
      "===============================================\n",
      "Note:               *p<0.1; **p<0.05; ***p<0.01\n"
     ]
    }
   ],
   "source": [
    "\n",
    "housing_qualitative <- lm(lprice ~ llotsize + lsqrft + bdrms + colonial, data = hprice1)\n",
    "summary(housing_qualitative)\n",
    "stargazer(type = \"text\",housing_qualitative,  single.row = TRUE, header = FALSE, digits=5)"
   ]
  },
  {
   "cell_type": "code",
   "execution_count": null,
   "metadata": {},
   "outputs": [],
   "source": []
  },
  {
   "cell_type": "code",
   "execution_count": null,
   "metadata": {},
   "outputs": [],
   "source": []
  },
  {
   "cell_type": "code",
   "execution_count": null,
   "metadata": {},
   "outputs": [],
   "source": []
  },
  {
   "cell_type": "code",
   "execution_count": null,
   "metadata": {},
   "outputs": [],
   "source": []
  }
 ],
 "metadata": {
  "kernelspec": {
   "display_name": "R",
   "language": "R",
   "name": "ir"
  },
  "language_info": {
   "codemirror_mode": "r",
   "file_extension": ".r",
   "mimetype": "text/x-r-source",
   "name": "R",
   "pygments_lexer": "r",
   "version": "3.5.1"
  }
 },
 "nbformat": 4,
 "nbformat_minor": 2
}
