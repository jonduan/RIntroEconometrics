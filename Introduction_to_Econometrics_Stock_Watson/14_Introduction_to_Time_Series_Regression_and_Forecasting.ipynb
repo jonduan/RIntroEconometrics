{
 "cells": [
  {
   "cell_type": "code",
   "execution_count": 3,
   "metadata": {
    "ExecuteTime": {
     "end_time": "2018-11-29T01:04:29.865679Z",
     "start_time": "2018-11-29T01:04:27.937Z"
    }
   },
   "outputs": [
    {
     "name": "stderr",
     "output_type": "stream",
     "text": [
      "\n",
      "Please cite as: \n",
      "\n",
      " Hlavac, Marek (2018). stargazer: Well-Formatted Regression and Summary Statistics Tables.\n",
      " R package version 5.2.2. https://CRAN.R-project.org/package=stargazer \n",
      "\n",
      "Loading required package: xts\n",
      "Loading required package: TTR\n",
      "Version 0.4-0 included new data defaults. See ?getSymbols.\n"
     ]
    }
   ],
   "source": [
    "library(AER)\n",
    "library(dynlm)\n",
    "library(forecast)\n",
    "library(readxl)\n",
    "library(stargazer)\n",
    "library(scales)\n",
    "library(quantmod)\n",
    "library(urca)"
   ]
  },
  {
   "cell_type": "code",
   "execution_count": 4,
   "metadata": {
    "ExecuteTime": {
     "end_time": "2018-11-29T01:04:39.010183Z",
     "start_time": "2018-11-29T01:04:38.988Z"
    }
   },
   "outputs": [],
   "source": [
    "# install.packages(\"dynlm\")"
   ]
  },
  {
   "cell_type": "code",
   "execution_count": 5,
   "metadata": {
    "ExecuteTime": {
     "end_time": "2018-11-29T01:11:37.100325Z",
     "start_time": "2018-11-29T01:11:37.033Z"
    }
   },
   "outputs": [
    {
     "data": {
      "text/plain": [
       "\n",
       "Call:\n",
       "lm(formula = score ~ STR, data = CASchools)\n",
       "\n",
       "Coefficients:\n",
       "(Intercept)          STR  \n",
       "     698.93        -2.28  \n"
      ]
     },
     "metadata": {},
     "output_type": "display_data"
    }
   ],
   "source": [
    "library(AER)\n",
    "data(CASchools)   \n",
    "CASchools$STR <- CASchools$students/CASchools$teachers       \n",
    "CASchools$score <- (CASchools$read + CASchools$math)/2\n",
    "\n",
    "mod <- lm(score ~ STR, data = CASchools)\n",
    "mod"
   ]
  },
  {
   "cell_type": "code",
   "execution_count": 6,
   "metadata": {
    "ExecuteTime": {
     "end_time": "2018-11-29T01:11:58.050334Z",
     "start_time": "2018-11-29T01:11:58.028Z"
    }
   },
   "outputs": [
    {
     "data": {
      "text/html": [
       "<strong>1:</strong> 641.937745773376"
      ],
      "text/latex": [
       "\\textbf{1:} 641.937745773376"
      ],
      "text/markdown": [
       "**1:** 641.937745773376"
      ],
      "text/plain": [
       "       1 \n",
       "641.9377 "
      ]
     },
     "metadata": {},
     "output_type": "display_data"
    }
   ],
   "source": [
    "predict(mod, newdata = data.frame(\"STR\" = 25))"
   ]
  },
  {
   "cell_type": "code",
   "execution_count": 7,
   "metadata": {
    "ExecuteTime": {
     "end_time": "2018-11-29T01:46:40.151575Z",
     "start_time": "2018-11-29T01:46:40.131Z"
    }
   },
   "outputs": [],
   "source": [
    "# attach the package 'quantmod'\n",
    "library(quantmod)"
   ]
  },
  {
   "cell_type": "markdown",
   "metadata": {},
   "source": [
    "https://www.princeton.edu/~mwatson/Stock-Watson_3u/Students/Stock-Watson-EmpiricalExercises-DataSets.htm\n",
    "\n"
   ]
  },
  {
   "cell_type": "code",
   "execution_count": 10,
   "metadata": {
    "ExecuteTime": {
     "end_time": "2018-11-29T01:51:59.982871Z",
     "start_time": "2018-11-29T01:51:59.915Z"
    }
   },
   "outputs": [],
   "source": [
    "# load US macroeconomic data\n",
    "USMacroSWQ <- read_xlsx(\"data/us_macro_quarterly.xlsx\",\n",
    "                         sheet = 1,\n",
    "                         col_types = c(\"text\", rep(\"numeric\", 9)))\n",
    "\n",
    "# format date column\n",
    "USMacroSWQ$X__1 <- as.yearqtr(USMacroSWQ$X__1, format = \"%Y:0%q\")\n",
    "\n",
    "# adjust column names\n",
    "colnames(USMacroSWQ) <- c(\"Date\", \"GDPC96\", \"JAPAN_IP\", \"PCECTPI\", \n",
    "                          \"GS10\", \"GS1\", \"TB3MS\", \"UNRATE\", \"EXUSUK\", \"CPIAUCSL\")"
   ]
  },
  {
   "cell_type": "markdown",
   "metadata": {},
   "source": [
    "between Yt  and Yt−1 .\n",
    "\n",
    "The definitions made in Key Concept 14.1 are useful because of two properties that are common to many economic time series:\n",
    "\n",
    "Exponential growth: some economic series grow approximately exponentially such that their logarithm is approximately linear.\n",
    "\n",
    "The standard deviation of many economic time series is approximately proportional to their level. Therefore, the standard deviation of the logarithm of such a series is approximately constant.\n",
    "\n",
    "\n",
    "Furthermore, it is common to report growth rates in macroeconomic series which is why  \n",
    "log  -differences are often used."
   ]
  },
  {
   "cell_type": "code",
   "execution_count": 11,
   "metadata": {
    "ExecuteTime": {
     "end_time": "2018-11-29T01:53:10.821937Z",
     "start_time": "2018-11-29T01:53:10.760Z"
    }
   },
   "outputs": [],
   "source": [
    "# GDP series as xts object\n",
    "GDP <- xts(USMacroSWQ$GDPC96, USMacroSWQ$Date)[\"1960::2013\"]\n",
    "\n",
    "# GDP growth series as xts object\n",
    "GDPGrowth <- xts(400 * log(GDP/lag(GDP))) # It may be convenient to work with the first difference in logarithms of a series. "
   ]
  },
  {
   "cell_type": "code",
   "execution_count": 12,
   "metadata": {
    "ExecuteTime": {
     "end_time": "2018-11-29T01:53:43.796030Z",
     "start_time": "2018-11-29T01:53:43.681Z"
    }
   },
   "outputs": [
    {
     "data": {
      "image/png": "[encoded data removed]",
      "text/plain": [
       "Plot with title \"U.S. Quarterly Real GDP\""
      ]
     },
     "metadata": {},
     "output_type": "display_data"
    }
   ],
   "source": [
    "# reproduce Figure 14.1 (a) of the book\n",
    "plot(log(as.zoo(GDP)),\n",
    "     col = \"steelblue\",\n",
    "     lwd = 2,\n",
    "     ylab = \"Logarithm\",\n",
    "     xlab = \"Date\",\n",
    "     main = \"U.S. Quarterly Real GDP\")"
   ]
  },
  {
   "cell_type": "code",
   "execution_count": 13,
   "metadata": {
    "ExecuteTime": {
     "end_time": "2018-11-29T01:53:51.659379Z",
     "start_time": "2018-11-29T01:53:51.599Z"
    }
   },
   "outputs": [
    {
     "data": {
      "image/png": "[encoded data removed]",
      "text/plain": [
       "Plot with title \"U.S. Real GDP Growth Rates\""
      ]
     },
     "metadata": {},
     "output_type": "display_data"
    }
   ],
   "source": [
    "# reproduce Figure 14.1 (b) of the book\n",
    "plot(as.zoo(GDPGrowth),\n",
    "     col = \"steelblue\",\n",
    "     lwd = 2,\n",
    "     ylab = \"Logarithm\",\n",
    "     xlab = \"Date\",\n",
    "     main = \"U.S. Real GDP Growth Rates\")"
   ]
  },
  {
   "cell_type": "code",
   "execution_count": 14,
   "metadata": {
    "ExecuteTime": {
     "end_time": "2018-11-29T01:58:07.947497Z",
     "start_time": "2018-11-29T01:58:07.924Z"
    }
   },
   "outputs": [],
   "source": [
    "# compute logarithms, annual growth rates and 1st lag of growth rates\n",
    "quants <- function(series) {\n",
    "  s <- series\n",
    "  return(\n",
    "    data.frame(\"Level\" = s,\n",
    "               \"Logarithm\" = log(s),\n",
    "               \"AnnualGrowthRate\" = 400 * log(s / lag(s)),\n",
    "               \"1stLagAnnualGrowthRate\" = lag(400 * log(s / lag(s))))\n",
    "    )\n",
    "}"
   ]
  },
  {
   "cell_type": "code",
   "execution_count": 15,
   "metadata": {
    "ExecuteTime": {
     "end_time": "2018-11-29T01:58:43.781899Z",
     "start_time": "2018-11-29T01:58:43.753Z"
    }
   },
   "outputs": [
    {
     "data": {
      "text/html": [
       "<table>\n",
       "<thead><tr><th></th><th scope=col>Level</th><th scope=col>Logarithm</th><th scope=col>AnnualGrowthRate</th><th scope=col>X1stLagAnnualGrowthRate</th></tr></thead>\n",
       "<tbody>\n",
       "\t<tr><th scope=row>2011 Q3</th><td>15062.14 </td><td>9.619940 </td><td>       NA</td><td>       NA</td></tr>\n",
       "\t<tr><th scope=row>2011 Q4</th><td>15242.14 </td><td>9.631819 </td><td>4.7518062</td><td>       NA</td></tr>\n",
       "\t<tr><th scope=row>2012 Q1</th><td>15381.56 </td><td>9.640925 </td><td>3.6422231</td><td>4.7518062</td></tr>\n",
       "\t<tr><th scope=row>2012 Q2</th><td>15427.67 </td><td>9.643918 </td><td>1.1972004</td><td>3.6422231</td></tr>\n",
       "\t<tr><th scope=row>2012 Q3</th><td>15533.99 </td><td>9.650785 </td><td>2.7470216</td><td>1.1972004</td></tr>\n",
       "\t<tr><th scope=row>2012 Q4</th><td>15539.63 </td><td>9.651149 </td><td>0.1452808</td><td>2.7470216</td></tr>\n",
       "\t<tr><th scope=row>2013 Q1</th><td>15583.95 </td><td>9.653997 </td><td>1.1392015</td><td>0.1452808</td></tr>\n",
       "</tbody>\n",
       "</table>\n"
      ],
      "text/latex": [
       "\\begin{tabular}{r|llll}\n",
       "  & Level & Logarithm & AnnualGrowthRate & X1stLagAnnualGrowthRate\\\\\n",
       "\\hline\n",
       "\t2011 Q3 & 15062.14  & 9.619940  &        NA &        NA\\\\\n",
       "\t2011 Q4 & 15242.14  & 9.631819  & 4.7518062 &        NA\\\\\n",
       "\t2012 Q1 & 15381.56  & 9.640925  & 3.6422231 & 4.7518062\\\\\n",
       "\t2012 Q2 & 15427.67  & 9.643918  & 1.1972004 & 3.6422231\\\\\n",
       "\t2012 Q3 & 15533.99  & 9.650785  & 2.7470216 & 1.1972004\\\\\n",
       "\t2012 Q4 & 15539.63  & 9.651149  & 0.1452808 & 2.7470216\\\\\n",
       "\t2013 Q1 & 15583.95  & 9.653997  & 1.1392015 & 0.1452808\\\\\n",
       "\\end{tabular}\n"
      ],
      "text/markdown": [
       "\n",
       "| <!--/--> | Level | Logarithm | AnnualGrowthRate | X1stLagAnnualGrowthRate | \n",
       "|---|---|---|---|---|---|---|\n",
       "| 2011 Q3 | 15062.14  | 9.619940  |        NA |        NA | \n",
       "| 2011 Q4 | 15242.14  | 9.631819  | 4.7518062 |        NA | \n",
       "| 2012 Q1 | 15381.56  | 9.640925  | 3.6422231 | 4.7518062 | \n",
       "| 2012 Q2 | 15427.67  | 9.643918  | 1.1972004 | 3.6422231 | \n",
       "| 2012 Q3 | 15533.99  | 9.650785  | 2.7470216 | 1.1972004 | \n",
       "| 2012 Q4 | 15539.63  | 9.651149  | 0.1452808 | 2.7470216 | \n",
       "| 2013 Q1 | 15583.95  | 9.653997  | 1.1392015 | 0.1452808 | \n",
       "\n",
       "\n"
      ],
      "text/plain": [
       "        Level    Logarithm AnnualGrowthRate X1stLagAnnualGrowthRate\n",
       "2011 Q3 15062.14 9.619940         NA               NA              \n",
       "2011 Q4 15242.14 9.631819  4.7518062               NA              \n",
       "2012 Q1 15381.56 9.640925  3.6422231        4.7518062              \n",
       "2012 Q2 15427.67 9.643918  1.1972004        3.6422231              \n",
       "2012 Q3 15533.99 9.650785  2.7470216        1.1972004              \n",
       "2012 Q4 15539.63 9.651149  0.1452808        2.7470216              \n",
       "2013 Q1 15583.95 9.653997  1.1392015        0.1452808              "
      ]
     },
     "metadata": {},
     "output_type": "display_data"
    }
   ],
   "source": [
    "# obtain a data.frame with level, logarithm, annual growth rate and its 1st lag of GDP\n",
    "quants(GDP[\"2011-07::2013-01\"])"
   ]
  },
  {
   "cell_type": "code",
   "execution_count": null,
   "metadata": {},
   "outputs": [],
   "source": []
  },
  {
   "cell_type": "code",
   "execution_count": 16,
   "metadata": {
    "ExecuteTime": {
     "end_time": "2018-11-29T01:59:54.087899Z",
     "start_time": "2018-11-29T01:59:53.956Z"
    }
   },
   "outputs": [],
   "source": [
    "# define series as xts objects\n",
    "USUnemp <- xts(USMacroSWQ$UNRATE, USMacroSWQ$Date)[\"1960::2013\"]\n",
    "\n",
    "DollarPoundFX <- xts(USMacroSWQ$EXUSUK, USMacroSWQ$Date)[\"1960::2013\"]\n",
    "  \n",
    "JPIndProd <- xts(log(USMacroSWQ$JAPAN_IP), USMacroSWQ$Date)[\"1960::2013\"]\n",
    "\n",
    "# attach NYSESW data\n",
    "data(\"NYSESW\")  \n",
    "NYSESW <- xts(Delt(NYSESW))"
   ]
  },
  {
   "cell_type": "code",
   "execution_count": 17,
   "metadata": {
    "ExecuteTime": {
     "end_time": "2018-11-29T02:00:24.389422Z",
     "start_time": "2018-11-29T02:00:24.140Z"
    }
   },
   "outputs": [
    {
     "data": {
      "image/png": "[encoded data removed]",
      "text/plain": [
       "Plot with title \"New York Stock Exchange Composite Index\""
      ]
     },
     "metadata": {},
     "output_type": "display_data"
    }
   ],
   "source": [
    "# divide plotting area into 2x2 matrix\n",
    "par(mfrow = c(2, 2))\n",
    "\n",
    "# plot the series\n",
    "plot(as.zoo(USUnemp),\n",
    "     col = \"steelblue\",\n",
    "     lwd = 2,\n",
    "     ylab = \"Percent\",\n",
    "     xlab = \"Date\",\n",
    "     main = \"US Unemployment Rate\",\n",
    "     cex.main = 1)\n",
    "\n",
    "plot(as.zoo(DollarPoundFX),\n",
    "     col = \"steelblue\",\n",
    "     lwd = 2,\n",
    "     ylab = \"Dollar per pound\",\n",
    "     xlab = \"Date\",\n",
    "     main = \"U.S. Dollar / B. Pound Exchange Rate\",\n",
    "     cex.main = 1)\n",
    "\n",
    "plot(as.zoo(JPIndProd),\n",
    "     col = \"steelblue\",\n",
    "     lwd = 2,\n",
    "     ylab = \"Logarithm\",\n",
    "     xlab = \"Date\",\n",
    "     main = \"Japanese Industrial Production\",\n",
    "     cex.main = 1)\n",
    "\n",
    "plot(as.zoo(NYSESW),\n",
    "     col = \"steelblue\",\n",
    "     lwd = 2,\n",
    "     ylab = \"Percent per Day\",\n",
    "     xlab = \"Date\",\n",
    "     main = \"New York Stock Exchange Composite Index\",\n",
    "     cex.main = 1)"
   ]
  },
  {
   "cell_type": "code",
   "execution_count": 18,
   "metadata": {
    "ExecuteTime": {
     "end_time": "2018-11-29T02:02:38.675083Z",
     "start_time": "2018-11-29T02:02:38.619Z"
    }
   },
   "outputs": [
    {
     "data": {
      "text/plain": [
       "\n",
       "Autocorrelations of series 'na.omit(NYSESW)', by lag\n",
       "\n",
       "     0      1      2      3      4      5      6      7      8      9     10 \n",
       " 1.000  0.040 -0.016 -0.023  0.000 -0.036 -0.027 -0.059  0.013  0.017  0.004 "
      ]
     },
     "metadata": {},
     "output_type": "display_data"
    }
   ],
   "source": [
    "# compute sample autocorrelation for the NYSESW series\n",
    "acf(na.omit(NYSESW), plot = F, lag.max = 10)"
   ]
  },
  {
   "cell_type": "code",
   "execution_count": 19,
   "metadata": {
    "ExecuteTime": {
     "end_time": "2018-11-29T02:02:52.075184Z",
     "start_time": "2018-11-29T02:02:52.021Z"
    }
   },
   "outputs": [
    {
     "data": {
      "image/png": "[encoded data removed]",
      "text/plain": [
       "Plot with title \"Sample Autocorrelation for NYSESW Data\""
      ]
     },
     "metadata": {},
     "output_type": "display_data"
    }
   ],
   "source": [
    "# plot sample autocorrelation for the NYSESW series\n",
    "acf(na.omit(NYSESW), main = \"Sample Autocorrelation for NYSESW Data\")"
   ]
  },
  {
   "cell_type": "markdown",
   "metadata": {},
   "source": [
    "Furthermore, the NYSESW series exhibits what econometricians call volatility clustering: there are periods of high and periods of low variance. This is common for many financial time series.\n",
    "\n"
   ]
  },
  {
   "cell_type": "code",
   "execution_count": 20,
   "metadata": {
    "ExecuteTime": {
     "end_time": "2018-11-29T02:03:39.018228Z",
     "start_time": "2018-11-29T02:03:38.992Z"
    }
   },
   "outputs": [
    {
     "data": {
      "text/plain": [
       "\n",
       "Call:\n",
       "ar.ols(x = GDPGRSub, order.max = 1, demean = F, intercept = T)\n",
       "\n",
       "Coefficients:\n",
       "     1  \n",
       "0.3384  \n",
       "\n",
       "Intercept: 1.995 (0.2993) \n",
       "\n",
       "Order selected 1  sigma^2 estimated as  9.886"
      ]
     },
     "metadata": {},
     "output_type": "display_data"
    }
   ],
   "source": [
    "# subset data\n",
    "GDPGRSub <- GDPGrowth[\"1962::2012\"]\n",
    "\n",
    "# estimate the model\n",
    "ar.ols(GDPGRSub, \n",
    "       order.max = 1, \n",
    "       demean = F, \n",
    "       intercept = T)"
   ]
  },
  {
   "cell_type": "code",
   "execution_count": 21,
   "metadata": {
    "ExecuteTime": {
     "end_time": "2018-11-29T02:03:52.977291Z",
     "start_time": "2018-11-29T02:03:52.950Z"
    }
   },
   "outputs": [
    {
     "data": {
      "text/plain": [
       "\n",
       "Call:\n",
       "lm(formula = GDPGR_level ~ GDPGR_lags)\n",
       "\n",
       "Coefficients:\n",
       "(Intercept)   GDPGR_lags  \n",
       "     1.9950       0.3384  \n"
      ]
     },
     "metadata": {},
     "output_type": "display_data"
    }
   ],
   "source": [
    "# length of data set\n",
    "N <-length(GDPGRSub)\n",
    "\n",
    "GDPGR_level <- as.numeric(GDPGRSub[-1])\n",
    "GDPGR_lags <- as.numeric(GDPGRSub[-N])\n",
    "\n",
    "# estimate the model\n",
    "armod <- lm(GDPGR_level ~ GDPGR_lags)\n",
    "armod"
   ]
  },
  {
   "cell_type": "code",
   "execution_count": 22,
   "metadata": {
    "ExecuteTime": {
     "end_time": "2018-11-29T02:04:30.094568Z",
     "start_time": "2018-11-29T02:04:30.069Z"
    }
   },
   "outputs": [
    {
     "data": {
      "text/plain": [
       "\n",
       "t test of coefficients:\n",
       "\n",
       "            Estimate Std. Error t value  Pr(>|t|)    \n",
       "(Intercept) 1.994986   0.351274  5.6793 4.691e-08 ***\n",
       "GDPGR_lags  0.338436   0.076188  4.4421 1.470e-05 ***\n",
       "---\n",
       "Signif. codes:  0 '***' 0.001 '**' 0.01 '*' 0.05 '.' 0.1 ' ' 1\n"
      ]
     },
     "metadata": {},
     "output_type": "display_data"
    }
   ],
   "source": [
    "# robust summary\n",
    "coeftest(armod, vcov. = vcovHC, type = \"HC1\")"
   ]
  },
  {
   "cell_type": "code",
   "execution_count": null,
   "metadata": {},
   "outputs": [],
   "source": []
  },
  {
   "cell_type": "code",
   "execution_count": null,
   "metadata": {},
   "outputs": [],
   "source": []
  },
  {
   "cell_type": "code",
   "execution_count": 23,
   "metadata": {
    "ExecuteTime": {
     "end_time": "2018-11-29T02:07:16.527671Z",
     "start_time": "2018-11-29T02:07:16.499Z"
    }
   },
   "outputs": [
    {
     "data": {
      "text/plain": [
       "  Point Forecast     Lo 80    Hi 80     Lo 95    Hi 95\n",
       "1       2.044155 -2.036225 6.124534 -4.213414 8.301723"
      ]
     },
     "metadata": {},
     "output_type": "display_data"
    }
   ],
   "source": [
    "library(forecast)\n",
    "\n",
    "# assign GDP growth rate in 2012:Q4\n",
    "new <- data.frame(\"GDPGR_lags\" = GDPGR_level[N-1])\n",
    "\n",
    "# forecast GDP growth rate in 2013:Q1\n",
    "forecast(armod, newdata = new)"
   ]
  },
  {
   "cell_type": "code",
   "execution_count": 24,
   "metadata": {
    "ExecuteTime": {
     "end_time": "2018-11-29T02:10:06.040234Z",
     "start_time": "2018-11-29T02:10:06.011Z"
    }
   },
   "outputs": [
    {
     "data": {
      "text/plain": [
       "                x\n",
       "2013 Q1 0.9049532"
      ]
     },
     "metadata": {},
     "output_type": "display_data"
    }
   ],
   "source": [
    "# compute the forecast error\n",
    "forecast(armod, newdata = new)$mean - GDPGrowth[\"2013\"][1]"
   ]
  },
  {
   "cell_type": "code",
   "execution_count": 25,
   "metadata": {
    "ExecuteTime": {
     "end_time": "2018-11-29T02:10:27.510551Z",
     "start_time": "2018-11-29T02:10:27.487Z"
    }
   },
   "outputs": [
    {
     "data": {
      "text/html": [
       "0.114957582366008"
      ],
      "text/latex": [
       "0.114957582366008"
      ],
      "text/markdown": [
       "0.114957582366008"
      ],
      "text/plain": [
       "[1] 0.1149576"
      ]
     },
     "metadata": {},
     "output_type": "display_data"
    }
   ],
   "source": [
    "# R^2\n",
    "summary(armod)$r.squared"
   ]
  },
  {
   "cell_type": "code",
   "execution_count": 26,
   "metadata": {
    "ExecuteTime": {
     "end_time": "2018-11-29T02:10:32.106875Z",
     "start_time": "2018-11-29T02:10:32.085Z"
    }
   },
   "outputs": [
    {
     "data": {
      "text/html": [
       "3.15979032017069"
      ],
      "text/latex": [
       "3.15979032017069"
      ],
      "text/markdown": [
       "3.15979032017069"
      ],
      "text/plain": [
       "[1] 3.15979"
      ]
     },
     "metadata": {},
     "output_type": "display_data"
    }
   ],
   "source": [
    "# SER\n",
    "summary(armod)$sigma"
   ]
  },
  {
   "cell_type": "code",
   "execution_count": 43,
   "metadata": {
    "ExecuteTime": {
     "end_time": "2018-11-29T02:36:56.125491Z",
     "start_time": "2018-11-29T02:36:56.094Z"
    }
   },
   "outputs": [
    {
     "data": {
      "text/plain": [
       "\n",
       "t test of coefficients:\n",
       "\n",
       "                      Estimate Std. Error t value  Pr(>|t|)    \n",
       "(Intercept)           1.631747   0.402023  4.0588 7.096e-05 ***\n",
       "L(ts(GDPGR_level))    0.277787   0.079250  3.5052 0.0005643 ***\n",
       "L(ts(GDPGR_level), 2) 0.179269   0.079951  2.2422 0.0260560 *  \n",
       "---\n",
       "Signif. codes:  0 '***' 0.001 '**' 0.01 '*' 0.05 '.' 0.1 ' ' 1\n"
      ]
     },
     "metadata": {},
     "output_type": "display_data"
    }
   ],
   "source": [
    "# estimate the AR(2) model\n",
    "GDPGR_AR2 <- dynlm(ts(GDPGR_level) ~ L(ts(GDPGR_level)) + L(ts(GDPGR_level), 2))\n",
    "\n",
    "coeftest(GDPGR_AR2, vcov. = sandwich)"
   ]
  },
  {
   "cell_type": "code",
   "execution_count": 44,
   "metadata": {
    "ExecuteTime": {
     "end_time": "2018-11-29T02:37:02.878258Z",
     "start_time": "2018-11-29T02:37:02.855Z"
    }
   },
   "outputs": [
    {
     "data": {
      "text/html": [
       "0.142548418094604"
      ],
      "text/latex": [
       "0.142548418094604"
      ],
      "text/markdown": [
       "0.142548418094604"
      ],
      "text/plain": [
       "[1] 0.1425484"
      ]
     },
     "metadata": {},
     "output_type": "display_data"
    }
   ],
   "source": [
    "# R^2\n",
    "summary(GDPGR_AR2)$r.squared"
   ]
  },
  {
   "cell_type": "code",
   "execution_count": 45,
   "metadata": {
    "ExecuteTime": {
     "end_time": "2018-11-29T02:37:06.420235Z",
     "start_time": "2018-11-29T02:37:06.399Z"
    }
   },
   "outputs": [
    {
     "data": {
      "text/html": [
       "3.13212218424791"
      ],
      "text/latex": [
       "3.13212218424791"
      ],
      "text/markdown": [
       "3.13212218424791"
      ],
      "text/plain": [
       "[1] 3.132122"
      ]
     },
     "metadata": {},
     "output_type": "display_data"
    }
   ],
   "source": [
    "# SER\n",
    "summary(GDPGR_AR2)$sigma"
   ]
  },
  {
   "cell_type": "code",
   "execution_count": 46,
   "metadata": {
    "ExecuteTime": {
     "end_time": "2018-11-29T02:37:11.188555Z",
     "start_time": "2018-11-29T02:37:11.161Z"
    }
   },
   "outputs": [],
   "source": [
    "# AR(2) forecast of GDP growth in 2013:Q1 \n",
    "forecast <- c(\"2013:Q1\" = coef(GDPGR_AR2) %*% c(1, GDPGR_level[N-1], GDPGR_level[N-2]))"
   ]
  },
  {
   "cell_type": "code",
   "execution_count": 47,
   "metadata": {
    "ExecuteTime": {
     "end_time": "2018-11-29T02:37:15.905794Z",
     "start_time": "2018-11-29T02:37:15.882Z"
    }
   },
   "outputs": [
    {
     "data": {
      "text/plain": [
       "                x\n",
       "2013 Q1 -1.025358"
      ]
     },
     "metadata": {},
     "output_type": "display_data"
    }
   ],
   "source": [
    "# compute AR(2) forecast error \n",
    "GDPGrowth[\"2013\"][1] - forecast"
   ]
  },
  {
   "cell_type": "code",
   "execution_count": null,
   "metadata": {},
   "outputs": [],
   "source": []
  },
  {
   "cell_type": "code",
   "execution_count": null,
   "metadata": {},
   "outputs": [],
   "source": []
  },
  {
   "cell_type": "code",
   "execution_count": null,
   "metadata": {},
   "outputs": [],
   "source": []
  },
  {
   "cell_type": "code",
   "execution_count": null,
   "metadata": {},
   "outputs": [],
   "source": []
  },
  {
   "cell_type": "code",
   "execution_count": 27,
   "metadata": {
    "ExecuteTime": {
     "end_time": "2018-11-29T02:17:16.068769Z",
     "start_time": "2018-11-29T02:17:16.031Z"
    }
   },
   "outputs": [],
   "source": [
    "# read in data on stock returns\n",
    "SReturns <- read_xlsx(\"Data/Stock_Returns_1931_2002.xlsx\",\n",
    "                      sheet = 1,\n",
    "                      col_types = \"numeric\")"
   ]
  },
  {
   "cell_type": "code",
   "execution_count": 28,
   "metadata": {
    "ExecuteTime": {
     "end_time": "2018-11-29T02:17:21.458648Z",
     "start_time": "2018-11-29T02:17:21.438Z"
    }
   },
   "outputs": [],
   "source": [
    "# convert to ts object\n",
    "StockReturns <- ts(SReturns[, 3:4], \n",
    "                   start = c(1931, 1), \n",
    "                   end = c(2002, 12), \n",
    "                   frequency = 12)"
   ]
  },
  {
   "cell_type": "code",
   "execution_count": 29,
   "metadata": {
    "ExecuteTime": {
     "end_time": "2018-11-29T02:17:32.016260Z",
     "start_time": "2018-11-29T02:17:31.881Z"
    }
   },
   "outputs": [],
   "source": [
    "# estimate AR models:\n",
    "\n",
    "# AR(1)\n",
    "SR_AR1 <- dynlm(ExReturn ~ L(ExReturn), \n",
    "      data = StockReturns, start = c(1960, 1), end = c(2002, 12))\n",
    "\n",
    "# AR(2)\n",
    "SR_AR2 <- dynlm(ExReturn ~ L(ExReturn) + L(ExReturn, 2), \n",
    "      data = StockReturns, start = c(1960, 1), end = c(2002, 12))\n",
    "\n",
    "# AR(4)\n",
    "SR_AR4 <- dynlm(ExReturn ~ L(ExReturn) + L(ExReturn, 1:4), \n",
    "      data = StockReturns, start = c(1960, 1), end = c(2002, 12))"
   ]
  },
  {
   "cell_type": "code",
   "execution_count": 30,
   "metadata": {
    "ExecuteTime": {
     "end_time": "2018-11-29T02:17:44.367406Z",
     "start_time": "2018-11-29T02:17:44.347Z"
    }
   },
   "outputs": [],
   "source": [
    "# compute robust standard errors\n",
    "rob_se <- list(sqrt(diag(sandwich(SR_AR1))),\n",
    "               sqrt(diag(sandwich(SR_AR2))),\n",
    "               sqrt(diag(sandwich(SR_AR4))))"
   ]
  },
  {
   "cell_type": "code",
   "execution_count": 31,
   "metadata": {
    "ExecuteTime": {
     "end_time": "2018-11-29T02:17:51.615674Z",
     "start_time": "2018-11-29T02:17:51.356Z"
    }
   },
   "outputs": [
    {
     "name": "stdout",
     "output_type": "stream",
     "text": [
      "\n",
      "\\begin{table}[!htbp] \\centering \n",
      "  \\caption{Autoregressive Models of Monthly Excess Stock Returns} \n",
      "  \\label{} \n",
      "\\begin{tabular}{@{\\extracolsep{5pt}}lccc} \n",
      "\\\\[-1.8ex]\\hline \n",
      "\\hline \\\\[-1.8ex] \n",
      " & \\multicolumn{3}{c}{Dependent Variable: Excess Returns on the CSRP Value-Weighted Index} \\\\ \n",
      "\\cline{2-4} \n",
      " & AR(1) & AR(2) & AR(4) \\\\ \n",
      "\\hline \\\\[-1.8ex] \n",
      " $excess return_{t-1}$ & 0.050 & 0.053 & 0.054 \\\\ \n",
      "  & (0.051) & (0.051) & (0.051) \\\\ \n",
      "  & & & \\\\ \n",
      " $excess return_{t-2}$ &  & $-$0.053 &  \\\\ \n",
      "  &  & (0.048) &  \\\\ \n",
      "  & & & \\\\ \n",
      " $excess return_{t-3}$ &  &  &  \\\\ \n",
      "  &  &  &  \\\\ \n",
      "  & & & \\\\ \n",
      " $excess return_{t-4}$ &  &  & $-$0.054 \\\\ \n",
      "  &  &  & (0.048) \\\\ \n",
      "  & & & \\\\ \n",
      " Intercept &  &  & 0.009 \\\\ \n",
      "  &  &  & (0.050) \\\\ \n",
      "  & & & \\\\ \n",
      " L(ExReturn, 1:4)4 &  &  & $-$0.016 \\\\ \n",
      "  &  &  & (0.047) \\\\ \n",
      "  & & & \\\\ \n",
      " Constant & 0.312 & 0.328$^{*}$ & 0.331 \\\\ \n",
      "  & (0.197) & (0.199) & (0.202) \\\\ \n",
      "  & & & \\\\ \n",
      "\\hline \\\\[-1.8ex] \n",
      "Observations & 516 & 516 & 516 \\\\ \n",
      "Adjusted R$^{2}$ & 0.001 & 0.001 & $-$0.002 \\\\ \n",
      "Residual Std. Error & 4.334 (df = 514) & 4.332 (df = 513) & 4.340 (df = 511) \\\\ \n",
      "F Statistic & 1.306 (df = 1; 514) & 1.367 (df = 2; 513) & 0.721 (df = 4; 511) \\\\ \n",
      "\\hline \n",
      "\\hline \\\\[-1.8ex] \n",
      "\\end{tabular} \n",
      "\\end{table} \n"
     ]
    }
   ],
   "source": [
    "# generate table using 'stargazer()'\n",
    "stargazer(SR_AR1, SR_AR2, SR_AR4,\n",
    "  title = \"Autoregressive Models of Monthly Excess Stock Returns\",\n",
    "  header = FALSE, \n",
    "  model.numbers = F,\n",
    "  omit.table.layout = \"n\",\n",
    "  digits = 3, \n",
    "  column.labels = c(\"AR(1)\", \"AR(2)\", \"AR(4)\"),\n",
    "  dep.var.caption  = \"Dependent Variable: Excess Returns on the CSRP Value-Weighted Index\",\n",
    "  dep.var.labels.include = FALSE,\n",
    "  covariate.labels = c(\"$excess return_{t-1}$\", \"$excess return_{t-2}$\", \n",
    "                       \"$excess return_{t-3}$\", \"$excess return_{t-4}$\", \n",
    "                       \"Intercept\"),\n",
    "  se = rob_se,\n",
    "  omit.stat = \"rsq\") "
   ]
  },
  {
   "cell_type": "markdown",
   "metadata": {},
   "source": [
    "$$\\begin{table}[!htbp] \\centering \n",
    "  \\caption{Autoregressive Models of Monthly Excess Stock Returns} \n",
    "  \\label{} \n",
    "\\begin{tabular}{@{\\extracolsep{5pt}}lccc} \n",
    "\\\\[-1.8ex]\\hline \n",
    "\\hline \\\\[-1.8ex] \n",
    " & \\multicolumn{3}{c}{Dependent Variable: Excess Returns on the CSRP Value-Weighted Index} \\\\ \n",
    "\\cline{2-4} \n",
    " & AR(1) & AR(2) & AR(4) \\\\ \n",
    "\\hline \\\\[-1.8ex] \n",
    " $excess return_{t-1}$ & 0.050 & 0.053 & 0.054 \\\\ \n",
    "  & (0.051) & (0.051) & (0.051) \\\\ \n",
    "  & & & \\\\ \n",
    " $excess return_{t-2}$ &  & $-$0.053 &  \\\\ \n",
    "  &  & (0.048) &  \\\\ \n",
    "  & & & \\\\ \n",
    " $excess return_{t-3}$ &  &  &  \\\\ \n",
    "  &  &  &  \\\\ \n",
    "  & & & \\\\ \n",
    " $excess return_{t-4}$ &  &  & $-$0.054 \\\\ \n",
    "  &  &  & (0.048) \\\\ \n",
    "  & & & \\\\ \n",
    " Intercept &  &  & 0.009 \\\\ \n",
    "  &  &  & (0.050) \\\\ \n",
    "  & & & \\\\ \n",
    " L(ExReturn, 1:4)4 &  &  & $-$0.016 \\\\ \n",
    "  &  &  & (0.047) \\\\ \n",
    "  & & & \\\\ \n",
    " Constant & 0.312 & 0.328$^{*}$ & 0.331 \\\\ \n",
    "  & (0.197) & (0.199) & (0.202) \\\\ \n",
    "  & & & \\\\ \n",
    "\\hline \\\\[-1.8ex] \n",
    "Observations & 516 & 516 & 516 \\\\ \n",
    "Adjusted R$^{2}$ & 0.001 & 0.001 & $-$0.002 \\\\ \n",
    "Residual Std. Error & 4.334 (df = 514) & 4.332 (df = 513) & 4.340 (df = 511) \\\\ \n",
    "F Statistic & 1.306 (df = 1; 514) & 1.367 (df = 2; 513) & 0.721 (df = 4; 511) \\\\ \n",
    "\\hline \n",
    "\\hline \\\\[-1.8ex] \n",
    "\\end{tabular} \n",
    "\\end{table} $$\n"
   ]
  },
  {
   "cell_type": "markdown",
   "metadata": {},
   "source": [
    "## 14.5 Additional Predictors and The ADL Model\n",
    "Instead of only using the dependent variable’s lags as predictors, an autoregressive distributed lag (ADL) model also uses lags of other variables for forecasting.\n",
    "\n",
    "#### Forecasting GDP Growth Using the Term Spread\n",
    "Interest rates on long-term and short term treasury bonds are closely linked to macroeconomic conditions. While interest rates on both types of bonds have the same long-run tendencies, they behave quite differently in the short run. The difference in interest rates of two bonds with distinct maturity is called the term spread."
   ]
  },
  {
   "cell_type": "code",
   "execution_count": 32,
   "metadata": {
    "ExecuteTime": {
     "end_time": "2018-11-29T02:21:05.132671Z",
     "start_time": "2018-11-29T02:21:05.102Z"
    }
   },
   "outputs": [],
   "source": [
    "# 3-months Treasury bills interest rate\n",
    "TB3MS <- xts(USMacroSWQ$TB3MS, USMacroSWQ$Date)[\"1960::2012\"]\n",
    "\n",
    "# 10-years Treasury bonds interest rate\n",
    "TB10YS <- xts(USMacroSWQ$GS10, USMacroSWQ$Date)[\"1960::2012\"]\n",
    "\n",
    "# term spread\n",
    "TSpread <- TB10YS - TB3MS"
   ]
  },
  {
   "cell_type": "code",
   "execution_count": 33,
   "metadata": {
    "ExecuteTime": {
     "end_time": "2018-11-29T02:21:49.675390Z",
     "start_time": "2018-11-29T02:21:49.550Z"
    }
   },
   "outputs": [
    {
     "data": {
      "image/png": "[encoded data removed]",
      "text/plain": [
       "Plot with title \"Interest Rates\""
      ]
     },
     "metadata": {},
     "output_type": "display_data"
    }
   ],
   "source": [
    "# reproduce Figure 14.2 (a) of the book\n",
    "plot(merge(as.zoo(TB3MS), as.zoo(TB10YS)), \n",
    "     plot.type = \"single\", \n",
    "     col = c(\"darkred\", \"steelblue\"),\n",
    "     lwd = 2,\n",
    "     xlab = \"Date\",\n",
    "     ylab = \"Percent per annum\",\n",
    "     main = \"Interest Rates\")\n",
    "\n",
    "# define function that transform years to class 'yearqtr'\n",
    "YToYQTR <- function(years) {\n",
    "  return(\n",
    "      sort(as.yearqtr(sapply(years, paste, c(\"Q1\", \"Q2\", \"Q3\", \"Q4\"))))\n",
    "  )\n",
    "}\n",
    "\n",
    "# recessions\n",
    "recessions <- YToYQTR(c(1961:1962, 1970, 1974:1975, 1980:1982, 1990:1991, 2001, 2007:2008))\n",
    "          \n",
    "# add color shading for recessions\n",
    "xblocks(time(as.zoo(TB3MS)), \n",
    "        c(time(TB3MS) %in% recessions), \n",
    "        col = alpha(\"steelblue\", alpha = 0.3))\n",
    "\n",
    "# add a legend\n",
    "legend(\"topright\", \n",
    "       legend = c(\"TB3MS\", \"TB10YS\"),\n",
    "       col = c(\"darkred\", \"steelblue\"),\n",
    "       lwd = c(2, 2))"
   ]
  },
  {
   "cell_type": "code",
   "execution_count": 34,
   "metadata": {
    "ExecuteTime": {
     "end_time": "2018-11-29T02:24:44.639138Z",
     "start_time": "2018-11-29T02:24:44.575Z"
    }
   },
   "outputs": [
    {
     "data": {
      "image/png": "[encoded data removed]",
      "text/plain": [
       "Plot with title \"Term Spread\""
      ]
     },
     "metadata": {},
     "output_type": "display_data"
    }
   ],
   "source": [
    "# reproduce Figure 14.2 (b) of the book\n",
    "plot(as.zoo(TSpread), \n",
    "     col = \"steelblue\",\n",
    "     lwd = 2,\n",
    "     xlab = \"Date\",\n",
    "     ylab = \"Percent per annum\",\n",
    "     main = \"Term Spread\")\n",
    "\n",
    "# add color shading for recessions\n",
    "xblocks(time(as.zoo(TB3MS)), \n",
    "        c(time(TB3MS) %in% recessions), \n",
    "        col = alpha(\"steelblue\", alpha = 0.3))"
   ]
  },
  {
   "cell_type": "markdown",
   "metadata": {},
   "source": [
    "Before recessions, the gap between interest rates on long-term bonds and short term bills narrows and consequently the term spread declines drastically towards zero or even becomes negative in times of economic stress. This information might be used to improve GDP growth forecasts of future."
   ]
  },
  {
   "cell_type": "code",
   "execution_count": 35,
   "metadata": {
    "ExecuteTime": {
     "end_time": "2018-11-29T02:29:42.840357Z",
     "start_time": "2018-11-29T02:29:42.817Z"
    }
   },
   "outputs": [],
   "source": [
    "# convert growth and spread series to ts objects\n",
    "GDPGrowth_ts <- ts(GDPGrowth, \n",
    "                  start = c(1960, 1), \n",
    "                  end = c(2013, 4), \n",
    "                  frequency = 4)\n",
    "\n",
    "TSpread_ts <- ts(TSpread, \n",
    "                start = c(1960, 1), \n",
    "                end = c(2012, 4), \n",
    "                frequency = 4)\n",
    "\n",
    "# join both ts objects\n",
    "ADLdata <- ts.union(GDPGrowth_ts, TSpread_ts)"
   ]
  },
  {
   "cell_type": "code",
   "execution_count": 36,
   "metadata": {
    "ExecuteTime": {
     "end_time": "2018-11-29T02:29:53.934365Z",
     "start_time": "2018-11-29T02:29:53.899Z"
    }
   },
   "outputs": [
    {
     "data": {
      "text/plain": [
       "\n",
       "t test of coefficients:\n",
       "\n",
       "                   Estimate Std. Error t value Pr(>|t|)   \n",
       "(Intercept)        0.954990   0.486976  1.9611 0.051260 . \n",
       "L(GDPGrowth_ts)    0.267729   0.082562  3.2428 0.001387 **\n",
       "L(GDPGrowth_ts, 2) 0.192370   0.077683  2.4763 0.014104 * \n",
       "L(TSpread_ts)      0.444047   0.182637  2.4313 0.015925 * \n",
       "---\n",
       "Signif. codes:  0 '***' 0.001 '**' 0.01 '*' 0.05 '.' 0.1 ' ' 1\n"
      ]
     },
     "metadata": {},
     "output_type": "display_data"
    }
   ],
   "source": [
    "# estimate the ADL(2,1) model of GDP growth\n",
    "GDPGR_ADL21 <- dynlm(GDPGrowth_ts ~ L(GDPGrowth_ts) + L(GDPGrowth_ts, 2) + L(TSpread_ts), \n",
    "      start = c(1962, 1), end = c(2012, 4))\n",
    "\n",
    "coeftest(GDPGR_ADL21, vcov. = sandwich)"
   ]
  },
  {
   "cell_type": "code",
   "execution_count": 37,
   "metadata": {
    "ExecuteTime": {
     "end_time": "2018-11-29T02:33:29.076982Z",
     "start_time": "2018-11-29T02:33:29.041Z"
    }
   },
   "outputs": [
    {
     "data": {
      "text/html": [
       "<table>\n",
       "<tbody>\n",
       "\t<tr><td>2.241689</td></tr>\n",
       "</tbody>\n",
       "</table>\n"
      ],
      "text/latex": [
       "\\begin{tabular}{l}\n",
       "\t 2.241689\\\\\n",
       "\\end{tabular}\n"
      ],
      "text/markdown": [
       "\n",
       "| 2.241689 | \n",
       "\n",
       "\n"
      ],
      "text/plain": [
       "     [,1]    \n",
       "[1,] 2.241689"
      ]
     },
     "metadata": {},
     "output_type": "display_data"
    }
   ],
   "source": [
    "# 2012:Q3 / 2012:Q4 data on GDP growth and term spread\n",
    "subset <- window(ADLdata, c(2012, 3), c(2012, 4))\n",
    "\n",
    "# ADL(2,1) GDP growth forecast for 2013:Q1\n",
    "ADL21_forecast <- coef(GDPGR_ADL21) %*% c(1, subset[2, 1], subset[1, 1], subset[2, 2])\n",
    "ADL21_forecast"
   ]
  },
  {
   "cell_type": "code",
   "execution_count": 38,
   "metadata": {
    "ExecuteTime": {
     "end_time": "2018-11-29T02:34:01.698873Z",
     "start_time": "2018-11-29T02:34:01.678Z"
    }
   },
   "outputs": [
    {
     "data": {
      "text/plain": [
       "          Qtr1\n",
       "2013 -1.102487"
      ]
     },
     "metadata": {},
     "output_type": "display_data"
    }
   ],
   "source": [
    "# compute the forecast error\n",
    "window(GDPGrowth_ts, c(2013, 1), c(2013, 1)) - ADL21_forecast"
   ]
  },
  {
   "cell_type": "code",
   "execution_count": 39,
   "metadata": {
    "ExecuteTime": {
     "end_time": "2018-11-29T02:34:22.168509Z",
     "start_time": "2018-11-29T02:34:22.130Z"
    }
   },
   "outputs": [
    {
     "data": {
      "text/plain": [
       "\n",
       "t test of coefficients:\n",
       "\n",
       "                    Estimate Std. Error t value Pr(>|t|)   \n",
       "(Intercept)         0.967967   0.472470  2.0487 0.041800 * \n",
       "L(GDPGrowth_ts)     0.243175   0.077836  3.1242 0.002049 **\n",
       "L(GDPGrowth_ts, 2)  0.177070   0.077027  2.2988 0.022555 * \n",
       "L(TSpread_ts)      -0.139554   0.422162 -0.3306 0.741317   \n",
       "L(TSpread_ts, 2)    0.656347   0.429802  1.5271 0.128326   \n",
       "---\n",
       "Signif. codes:  0 '***' 0.001 '**' 0.01 '*' 0.05 '.' 0.1 ' ' 1\n"
      ]
     },
     "metadata": {},
     "output_type": "display_data"
    }
   ],
   "source": [
    "# estimate the ADL(2,2) model of GDP growth\n",
    "GDPGR_ADL22 <- dynlm(GDPGrowth_ts ~ L(GDPGrowth_ts) + L(GDPGrowth_ts, 2) \n",
    "                     + L(TSpread_ts) + L(TSpread_ts, 2), \n",
    "                     start = c(1962, 1), end = c(2012, 4))\n",
    "\n",
    "coeftest(GDPGR_ADL22, vcov. = sandwich)"
   ]
  },
  {
   "cell_type": "code",
   "execution_count": 40,
   "metadata": {
    "ExecuteTime": {
     "end_time": "2018-11-29T02:34:28.183927Z",
     "start_time": "2018-11-29T02:34:28.162Z"
    }
   },
   "outputs": [
    {
     "data": {
      "text/html": [
       "<table>\n",
       "<tbody>\n",
       "\t<tr><td>2.274407</td></tr>\n",
       "</tbody>\n",
       "</table>\n"
      ],
      "text/latex": [
       "\\begin{tabular}{l}\n",
       "\t 2.274407\\\\\n",
       "\\end{tabular}\n"
      ],
      "text/markdown": [
       "\n",
       "| 2.274407 | \n",
       "\n",
       "\n"
      ],
      "text/plain": [
       "     [,1]    \n",
       "[1,] 2.274407"
      ]
     },
     "metadata": {},
     "output_type": "display_data"
    }
   ],
   "source": [
    "# ADL(2,2) GDP growth forecast for 2013:Q1\n",
    "ADL22_forecast <- coef(GDPGR_ADL22) %*% c(1, subset[2, 1], subset[1, 1], subset[2, 2], subset[1, 2])\n",
    "ADL22_forecast"
   ]
  },
  {
   "cell_type": "code",
   "execution_count": 41,
   "metadata": {
    "ExecuteTime": {
     "end_time": "2018-11-29T02:34:32.125112Z",
     "start_time": "2018-11-29T02:34:32.099Z"
    }
   },
   "outputs": [
    {
     "data": {
      "text/plain": [
       "          Qtr1\n",
       "2013 -1.135206"
      ]
     },
     "metadata": {},
     "output_type": "display_data"
    }
   ],
   "source": [
    "# compute the forecast error\n",
    "window(GDPGrowth_ts, c(2013, 1), c(2013, 1)) - ADL22_forecast"
   ]
  },
  {
   "cell_type": "code",
   "execution_count": 48,
   "metadata": {
    "ExecuteTime": {
     "end_time": "2018-11-29T02:37:56.772760Z",
     "start_time": "2018-11-29T02:37:56.752Z"
    }
   },
   "outputs": [
    {
     "data": {
      "text/html": [
       "<dl class=dl-horizontal>\n",
       "\t<dt>Adj.R2 AR(2)</dt>\n",
       "\t\t<dd>0.142548418094604</dd>\n",
       "\t<dt>Adj.R2 ADL(2,1)</dt>\n",
       "\t\t<dd>0.174399637786483</dd>\n",
       "\t<dt>Adj.R2 ADL(2,2)</dt>\n",
       "\t\t<dd>0.185524458619494</dd>\n",
       "</dl>\n"
      ],
      "text/latex": [
       "\\begin{description*}\n",
       "\\item[Adj.R2 AR(2)] 0.142548418094604\n",
       "\\item[Adj.R2 ADL(2,1)] 0.174399637786483\n",
       "\\item[Adj.R2 ADL(2,2)] 0.185524458619494\n",
       "\\end{description*}\n"
      ],
      "text/markdown": [
       "Adj.R2 AR(2)\n",
       ":   0.142548418094604Adj.R2 ADL(2,1)\n",
       ":   0.174399637786483Adj.R2 ADL(2,2)\n",
       ":   0.185524458619494\n",
       "\n"
      ],
      "text/plain": [
       "   Adj.R2 AR(2) Adj.R2 ADL(2,1) Adj.R2 ADL(2,2) \n",
       "      0.1425484       0.1743996       0.1855245 "
      ]
     },
     "metadata": {},
     "output_type": "display_data"
    }
   ],
   "source": [
    "# compare adj. R2\n",
    "c(\"Adj.R2 AR(2)\" = summary(GDPGR_AR2)$r.squared,\n",
    "  \"Adj.R2 ADL(2,1)\" = summary(GDPGR_ADL21)$r.squared,\n",
    "  \"Adj.R2 ADL(2,2)\" = summary(GDPGR_ADL22)$r.squared)"
   ]
  },
  {
   "cell_type": "code",
   "execution_count": 49,
   "metadata": {
    "ExecuteTime": {
     "end_time": "2018-11-29T02:38:20.169439Z",
     "start_time": "2018-11-29T02:38:20.147Z"
    }
   },
   "outputs": [
    {
     "data": {
      "text/html": [
       "<dl class=dl-horizontal>\n",
       "\t<dt>SER AR(2)</dt>\n",
       "\t\t<dd>3.13212218424791</dd>\n",
       "\t<dt>SER ADL(2,1)</dt>\n",
       "\t\t<dd>3.07076034593602</dd>\n",
       "\t<dt>SER ADL(2,2)</dt>\n",
       "\t\t<dd>3.05765491375615</dd>\n",
       "</dl>\n"
      ],
      "text/latex": [
       "\\begin{description*}\n",
       "\\item[SER AR(2)] 3.13212218424791\n",
       "\\item[SER ADL(2,1)] 3.07076034593602\n",
       "\\item[SER ADL(2,2)] 3.05765491375615\n",
       "\\end{description*}\n"
      ],
      "text/markdown": [
       "SER AR(2)\n",
       ":   3.13212218424791SER ADL(2,1)\n",
       ":   3.07076034593602SER ADL(2,2)\n",
       ":   3.05765491375615\n",
       "\n"
      ],
      "text/plain": [
       "   SER AR(2) SER ADL(2,1) SER ADL(2,2) \n",
       "    3.132122     3.070760     3.057655 "
      ]
     },
     "metadata": {},
     "output_type": "display_data"
    }
   ],
   "source": [
    "# compare SER\n",
    "c(\"SER AR(2)\" = summary(GDPGR_AR2)$sigma,\n",
    "  \"SER ADL(2,1)\" = summary(GDPGR_ADL21)$sigma,\n",
    "  \"SER ADL(2,2)\" = summary(GDPGR_ADL22)$sigma)"
   ]
  },
  {
   "cell_type": "code",
   "execution_count": 50,
   "metadata": {
    "ExecuteTime": {
     "end_time": "2018-11-29T02:38:25.876751Z",
     "start_time": "2018-11-29T02:38:25.851Z"
    }
   },
   "outputs": [
    {
     "data": {
      "text/html": [
       "<table>\n",
       "<thead><tr><th scope=col>Res.Df</th><th scope=col>Df</th><th scope=col>F</th><th scope=col>Pr(&gt;F)</th></tr></thead>\n",
       "<tbody>\n",
       "\t<tr><td>201       </td><td>NA        </td><td>      NA  </td><td>        NA</td></tr>\n",
       "\t<tr><td>199       </td><td> 2        </td><td>4.434368  </td><td>0.01305745</td></tr>\n",
       "</tbody>\n",
       "</table>\n"
      ],
      "text/latex": [
       "\\begin{tabular}{r|llll}\n",
       " Res.Df & Df & F & Pr(>F)\\\\\n",
       "\\hline\n",
       "\t 201        & NA         &       NA   &         NA\\\\\n",
       "\t 199        &  2         & 4.434368   & 0.01305745\\\\\n",
       "\\end{tabular}\n"
      ],
      "text/markdown": [
       "\n",
       "Res.Df | Df | F | Pr(>F) | \n",
       "|---|---|\n",
       "| 201        | NA         |       NA   |         NA | \n",
       "| 199        |  2         | 4.434368   | 0.01305745 | \n",
       "\n",
       "\n"
      ],
      "text/plain": [
       "  Res.Df Df F        Pr(>F)    \n",
       "1 201    NA       NA         NA\n",
       "2 199     2 4.434368 0.01305745"
      ]
     },
     "metadata": {},
     "output_type": "display_data"
    }
   ],
   "source": [
    "# F-test on coefficients of term spread\n",
    "linearHypothesis(GDPGR_ADL22, \n",
    "                 c(\"L(TSpread_ts)=0\", \"L(TSpread_ts, 2)=0\"),\n",
    "                 vcov. = sandwich)"
   ]
  },
  {
   "cell_type": "code",
   "execution_count": 51,
   "metadata": {
    "ExecuteTime": {
     "end_time": "2018-11-29T02:38:33.437883Z",
     "start_time": "2018-11-29T02:38:33.413Z"
    }
   },
   "outputs": [
    {
     "data": {
      "text/html": [
       "<table>\n",
       "<thead><tr><th scope=col>Res.Df</th><th scope=col>Df</th><th scope=col>F</th><th scope=col>Pr(&gt;F)</th></tr></thead>\n",
       "<tbody>\n",
       "\t<tr><td>201       </td><td>NA        </td><td>      NA  </td><td>        NA</td></tr>\n",
       "\t<tr><td>199       </td><td> 2        </td><td>4.434368  </td><td>0.01305745</td></tr>\n",
       "</tbody>\n",
       "</table>\n"
      ],
      "text/latex": [
       "\\begin{tabular}{r|llll}\n",
       " Res.Df & Df & F & Pr(>F)\\\\\n",
       "\\hline\n",
       "\t 201        & NA         &       NA   &         NA\\\\\n",
       "\t 199        &  2         & 4.434368   & 0.01305745\\\\\n",
       "\\end{tabular}\n"
      ],
      "text/markdown": [
       "\n",
       "Res.Df | Df | F | Pr(>F) | \n",
       "|---|---|\n",
       "| 201        | NA         |       NA   |         NA | \n",
       "| 199        |  2         | 4.434368   | 0.01305745 | \n",
       "\n",
       "\n"
      ],
      "text/plain": [
       "  Res.Df Df F        Pr(>F)    \n",
       "1 201    NA       NA         NA\n",
       "2 199     2 4.434368 0.01305745"
      ]
     },
     "metadata": {},
     "output_type": "display_data"
    }
   ],
   "source": [
    "# F-test on coefficients of term spread\n",
    "linearHypothesis(GDPGR_ADL22, \n",
    "                 c(\"L(TSpread_ts)=0\", \"L(TSpread_ts, 2)=0\"),\n",
    "                 vcov. = sandwich)"
   ]
  },
  {
   "cell_type": "code",
   "execution_count": null,
   "metadata": {},
   "outputs": [],
   "source": []
  },
  {
   "cell_type": "markdown",
   "metadata": {
    "ExecuteTime": {
     "end_time": "2018-11-29T02:39:48.123028Z",
     "start_time": "2018-11-29T02:39:48.097Z"
    }
   },
   "source": [
    "Stationarity\n",
    "A time series  \n",
    "Y\n",
    "t\n",
    "  is stationary if its probability distribution is time independent, that is the joint distribution of  \n",
    "Y\n",
    "s\n",
    "+\n",
    "1\n",
    ",\n",
    "Y\n",
    "s\n",
    "+\n",
    "2\n",
    ",\n",
    "…\n",
    ",\n",
    "Y\n",
    "s\n",
    "+\n",
    "T\n",
    "  does not change as  \n",
    "s\n",
    "  is varied, regardless of  \n",
    "T\n",
    " .\n",
    "\n",
    "Similarly, two time series  \n",
    "X\n",
    "t\n",
    "  and  \n",
    "Y\n",
    "t\n",
    "  are jointly stationary if the joint distribution of  \n",
    "(\n",
    "X\n",
    "s\n",
    "+\n",
    "1\n",
    ",\n",
    "Y\n",
    "s\n",
    "+\n",
    "1\n",
    ",\n",
    "X\n",
    "s\n",
    "+\n",
    "2\n",
    ",\n",
    "Y\n",
    "s\n",
    "+\n",
    "2\n",
    "…\n",
    ",\n",
    "X\n",
    "s\n",
    "+\n",
    "T\n",
    ",\n",
    "Y\n",
    "s\n",
    "+\n",
    "T\n",
    ")\n",
    "  does not depend on  \n",
    "s\n",
    " , regardless of  \n",
    "T\n",
    " .\n",
    "\n",
    "Stationarity makes it easier to learn about the characteristics of past data.M\n",
    "\n",
    "\n",
    "For estimation we make the following assumptions:\n",
    "\n",
    "The error term  \n",
    "u\n",
    "t\n",
    "  has conditional mean zero given all regressors and their lags:\n",
    "  \n",
    "  \n",
    "  \n",
    "  The i.i.d. assumption for cross-sectional data is not (entirely) meaningful for time series data. We replace it by the following assumption witch consists of two parts:\n",
    "\n",
    "The  \n",
    "(\n",
    "Y\n",
    "t\n",
    ",\n",
    "X\n",
    "1\n",
    ",\n",
    "t\n",
    ",\n",
    "…\n",
    ",\n",
    "X\n",
    "k\n",
    ",\n",
    "t\n",
    ")\n",
    "  have a stationary distribution (the “identically distributed” part of the i.i.d. assumption for cross-setional data). If this does not hold, forecasts may be biased and inference can be strongly misleading.\n",
    "  \n",
    "  \n",
    "  (\n",
    "Y\n",
    "t\n",
    ",\n",
    "X\n",
    "1\n",
    ",\n",
    "t\n",
    ",\n",
    "…\n",
    ",\n",
    "X\n",
    "k\n",
    ",\n",
    "t\n",
    ")\n",
    "  and  \n",
    "(\n",
    "Y\n",
    "t\n",
    "−\n",
    "j\n",
    ",\n",
    "X\n",
    "1\n",
    ",\n",
    "t\n",
    "−\n",
    "j\n",
    ",\n",
    "…\n",
    ",\n",
    "X\n",
    "k\n",
    ",\n",
    "t\n",
    "−\n",
    "j\n",
    ")\n",
    "  become independent as  \n",
    "j\n",
    "  gets large (the “idependently” distributed part of the i.i.d. assumption for cross-sectional data). This assumption is also called weak dependence. It ensures that the WLLN and the CLT hold in large samples.\n",
    "  \n",
    "  \n",
    "  Large outliers are unlikely:  \n",
    "E\n",
    "(\n",
    "X\n",
    "4\n",
    "1\n",
    ",\n",
    "t\n",
    ")\n",
    ",\n",
    "E\n",
    "(\n",
    "X\n",
    "4\n",
    "2\n",
    ",\n",
    "t\n",
    ")\n",
    ",\n",
    "…\n",
    ",\n",
    "E\n",
    "(\n",
    "X\n",
    "4\n",
    "k\n",
    ",\n",
    "t\n",
    ")\n",
    "  and  \n",
    "E\n",
    "(\n",
    "Y\n",
    "4\n",
    "t\n",
    ")\n",
    "  have nonzero, finite fourth moments.\n",
    "\n",
    "No perfect multicollinearity.\n"
   ]
  },
  {
   "cell_type": "code",
   "execution_count": null,
   "metadata": {},
   "outputs": [],
   "source": []
  },
  {
   "cell_type": "code",
   "execution_count": null,
   "metadata": {},
   "outputs": [],
   "source": []
  },
  {
   "cell_type": "code",
   "execution_count": null,
   "metadata": {},
   "outputs": [],
   "source": []
  }
 ],
 "metadata": {
  "kernelspec": {
   "display_name": "R",
   "language": "R",
   "name": "ir"
  },
  "language_info": {
   "codemirror_mode": "r",
   "file_extension": ".r",
   "mimetype": "text/x-r-source",
   "name": "R",
   "pygments_lexer": "r",
   "version": "3.5.1"
  }
 },
 "nbformat": 4,
 "nbformat_minor": 2
}
