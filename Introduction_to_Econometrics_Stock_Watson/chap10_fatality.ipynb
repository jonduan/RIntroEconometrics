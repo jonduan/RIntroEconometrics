{
 "cells": [
  {
   "cell_type": "code",
   "execution_count": 2,
   "metadata": {
    "collapsed": false
   },
   "outputs": [],
   "source": [
    "#######\n",
    "## panel data estimations\n",
    "#######\n",
    "# install relevant packages\n",
    "#install.packages(\"plm\" , repos = \"http://cran.rstudio.com\")\n",
    "#install.packages(\"AER\")\n",
    "# install relevant libraries\n",
    "library(plm);library(AER); library(foreign)\n",
    "\n",
    "\n",
    "\n",
    "\n",
    "\n",
    "\n",
    "\n"
   ]
  },
  {
   "cell_type": "markdown",
   "metadata": {},
   "source": [
    "Contains data from http://fmwww.bc.edu/ec-p/data/stockwatson/fatality.dta\n",
    "  obs:           336                          \n",
    "  \n",
    " vars:            43                          30 Jul 2002 10:00\n",
    " \n",
    " size:        48,048 (99.9% of memory free)\n",
    " \n",
    "'-------------------------------------------------------------------------------\n",
    "              storage  display     value\n",
    "              \n",
    "variable name   type   format      label      variable label\n",
    "\n",
    "'-------------------------------------------------------------------------------\n",
    "state           byte   %9.0g       sid        State ID (FIPS) Code\n",
    "\n",
    "year            int    %9.0g                  Year\n",
    "\n",
    "spircons        float  %9.0g                  Spirits Consumption\n",
    "\n",
    "unrate          float  %9.0g                  Unemployment Rate\n",
    "\n",
    "perinc          float  %9.0g                  Per Capita Personal Income\n",
    "\n",
    "emppop          float  %9.0g                  Employment/Population Ratio\n",
    "\n",
    "beertax         float  %9.0g                  Tax on Case of Beer\n",
    "\n",
    "sobapt          float  %9.0g                  % Southern Baptist\n",
    "\n",
    "mormon          float  %9.0g                  % Mormon\n",
    "\n",
    "mlda            float  %9.0g                  Minimum Legal Drinking Age\n",
    "\n",
    "dry             float  %9.0g                  % Residing in Dry Counties\n",
    "\n",
    "yngdrv          float  %9.0g                  % of Drivers Aged 15-24\n",
    "\n",
    "\n",
    "vmiles          float  %9.0g                  Ave. Mile per Driver\n",
    "\n",
    "breath          byte   %9.0g                  Prelim. Breath Test Law\n",
    "\n",
    "jaild           byte   %9.0g                  Mandatory Jail Sentence\n",
    "\n",
    "comserd         byte   %9.0g                  Mandatory Community Service\n",
    "\n",
    "\n",
    "allmort         int    %9.0g                  # of Vehicle Fatalities (#VF)\n",
    "\n",
    "mrall           float  %9.0g                  Vehicle Fatality Rate (VFR)\n",
    "\n",
    "allnite         int    %9.0g                  # of Night-time VF (#NVF)\n",
    "\n",
    "mralln          float  %9.0g                  Night-time VFR (NFVR)\n",
    "\n",
    "allsvn          int    %9.0g                  # of Single VF (#SVN)\n",
    "\n",
    "a1517           int    %9.0g                  #VF, 15-17 year olds\n",
    "\n",
    "mra1517         float  %9.0g                  VFR, 15-17 year olds\n",
    "\n",
    "a1517n          byte   %9.0g                  #NVF, 15-17 year olds\n",
    "\n",
    "mra1517n        float  %9.0g                  NVFR, 15-17 year olds\n",
    "\n",
    "a1820           int    %9.0g                  #VF, 18-20 year olds\n",
    "\n",
    "a1820n          int    %9.0g                  #NVF, 18-20 year olds\n",
    "\n",
    "mra1820         float  %9.0g                  VFR, 18-20 year olds\n",
    "\n",
    "mra1820n        float  %9.0g                  NVFR, 18-20 year olds\n",
    "\n",
    "a2124           int    %9.0g                  #VF, 21-24 year olds\n",
    "\n",
    "mra2124         float  %9.0g                  VFR, 21-24 year olds\n",
    "\n",
    "a2124n          int    %9.0g                  #NVF, 21-24 year olds\n",
    "\n",
    "mra2124n        float  %9.0g                  NVFR, 21-24 year olds\n",
    "\n",
    "aidall          float  %9.0g                  # of alcohol-involved VF\n",
    "\n",
    "mraidall        float  %9.0g                  Alcohol-Involved VFR\n",
    "\n",
    "pop             float  %9.0g                  Population\n",
    "\n",
    "pop1517         float  %9.0g                  Population, 15-17 year olds\n",
    "\n",
    "pop1820         float  %9.0g                  Population, 18-20 year olds\n",
    "\n",
    "pop2124         float  %9.0g                  Population, 21-24 year olds\n",
    "\n",
    "miles           float  %9.0g                  total vehicle miles (millions\n",
    "\n",
    "unus            float  %9.0g                  U.S. unemployment rate\n",
    "\n",
    "epopus          float  %9.0g                  U.S. Emp/Pop Ratio\n",
    "\n",
    "gspch           float  %9.0g                  GSP Rate of Change\n",
    "\n",
    "'-------------------------------------------------------------------------\n",
    "\n",
    "\n",
    "## THE STATE TRAFFIC FATALITY DATA SET\n",
    "\n",
    "\n",
    "The data are for the Ňlower 48Ó U.S. states (excluding Alaska and Hawaii), \n",
    "annually for 1982 through 1988.  The traffic fatality rate is the number of \n",
    "traffic deaths in a given state in a given year, per 10,000 people living in \n",
    "that state in that year. Traffic fatality data were obtained from the U.S. \n",
    "Department of Transportation Fatal Accident Reporting System.  \n",
    "\n",
    "\n",
    "\n",
    "The beer tax is the tax on a case of beer, which is an available measure of \n",
    "state alcohol taxes more generally.  The drinking age variables in Table 8.1 \n",
    "are binary variables indicating whether the legal drinking age is 18, 19, or 20.  \n",
    "\n",
    "\n",
    "\n",
    "\n",
    "\n",
    "The two binary punishment variables in Table 8.1 describe the stateŐs minimum \n",
    "sentencing requirements for an initial drunk driving conviction:  ŇMandatory jail?Ó \n",
    "equals one if the state requires jail time and equals zero otherwise, and \n",
    "ŇMandatory community service?Ó equals one if the state requires community \n",
    "service and equals zero otherwise.  Total vehicle miles traveled annually \n",
    "by state was obtained from the Department of Transportation.  Personal income \n",
    "was obtained from the U.S. Bureau of Economic Analysis, and the unemployment \n",
    "rate was obtained from the U.S. Bureau of Labor Statistics.\n",
    "\n",
    "\n",
    "\n",
    "These data were graciously provided to us by Professor Christopher J. Ruhm of \n",
    "the Department of Economics at the University of North Carolina.\n"
   ]
  },
  {
   "cell_type": "code",
   "execution_count": 3,
   "metadata": {
    "collapsed": false
   },
   "outputs": [
    {
     "data": {
      "text/html": [
       "<table>\n",
       "<thead><tr><th scope=col>statename</th><th scope=col>state</th><th scope=col>year</th><th scope=col>spircons</th><th scope=col>unrate</th><th scope=col>perinc</th><th scope=col>emppop</th><th scope=col>beertax</th><th scope=col>sobapt</th><th scope=col>mormon</th><th scope=col>...</th><th scope=col>aidall</th><th scope=col>mraidall</th><th scope=col>pop</th><th scope=col>pop1517</th><th scope=col>pop1820</th><th scope=col>pop2124</th><th scope=col>miles</th><th scope=col>unus</th><th scope=col>epopus</th><th scope=col>gspch</th></tr></thead>\n",
       "<tbody>\n",
       "\t<tr><td>AL         </td><td>1          </td><td>1982       </td><td>1.37       </td><td>14.4       </td><td>10544.15   </td><td>50.69204   </td><td>1.539379   </td><td>30.3557    </td><td>0.32829    </td><td>...        </td><td>309.438    </td><td>7.8498e-05 </td><td>3942002    </td><td>208999.6   </td><td>221553.4   </td><td>290000.1   </td><td>28516      </td><td>9.7        </td><td>57.8       </td><td>-0.02212476</td></tr>\n",
       "\t<tr><td>AL         </td><td>1          </td><td>1983       </td><td>1.36       </td><td>13.7       </td><td>10732.80   </td><td>52.14703   </td><td>1.788991   </td><td>30.3336    </td><td>0.34341    </td><td>...        </td><td>341.834    </td><td>8.6322e-05 </td><td>3960008    </td><td>202000.1   </td><td>219125.5   </td><td>290000.2   </td><td>31032      </td><td>9.6        </td><td>57.9       </td><td> 0.04655825</td></tr>\n",
       "\t<tr><td>AL         </td><td>1          </td><td>1984       </td><td>1.32       </td><td>11.1       </td><td>11108.79   </td><td>54.16809   </td><td>1.714286   </td><td>30.3115    </td><td>0.35924    </td><td>...        </td><td>304.872    </td><td>7.6428e-05 </td><td>3988992    </td><td>197000.0   </td><td>216724.1   </td><td>288000.2   </td><td>32961      </td><td>7.5        </td><td>59.5       </td><td> 0.06279784</td></tr>\n",
       "\t<tr><td>AL         </td><td>1          </td><td>1985       </td><td>1.28       </td><td> 8.9       </td><td>11332.63   </td><td>55.27114   </td><td>1.652542   </td><td>30.2895    </td><td>0.37579    </td><td>...        </td><td>276.742    </td><td>6.8824e-05 </td><td>4021008    </td><td>194999.7   </td><td>214349.0   </td><td>284000.3   </td><td>35091      </td><td>7.2        </td><td>60.1       </td><td> 0.02748997</td></tr>\n",
       "\t<tr><td>AL         </td><td>1          </td><td>1986       </td><td>1.23       </td><td> 9.8       </td><td>11661.51   </td><td>56.51450   </td><td>1.609907   </td><td>30.2674    </td><td>0.39311    </td><td>...        </td><td>360.716    </td><td>8.9066e-05 </td><td>4049994    </td><td>203999.9   </td><td>212000.0   </td><td>263000.3   </td><td>36259      </td><td>7.0        </td><td>60.7       </td><td> 0.03214295</td></tr>\n",
       "\t<tr><td>AL         </td><td>1          </td><td>1987       </td><td>1.18       </td><td> 7.8       </td><td>11944.00   </td><td>57.50988   </td><td>1.560000   </td><td>30.2453    </td><td>0.41123    </td><td>...        </td><td>368.421    </td><td>9.0233e-05 </td><td>4082999    </td><td>204999.8   </td><td>208998.5   </td><td>258999.8   </td><td>37426      </td><td>6.2        </td><td>61.5       </td><td> 0.04897637</td></tr>\n",
       "</tbody>\n",
       "</table>\n"
      ],
      "text/latex": [
       "\\begin{tabular}{r|llllllllllllllllllllllllllllllllllllllllllll}\n",
       " statename & state & year & spircons & unrate & perinc & emppop & beertax & sobapt & mormon & ... & aidall & mraidall & pop & pop1517 & pop1820 & pop2124 & miles & unus & epopus & gspch\\\\\n",
       "\\hline\n",
       "\t AL          & 1           & 1982        & 1.37        & 14.4        & 10544.15    & 50.69204    & 1.539379    & 30.3557     & 0.32829     & ...         & 309.438     & 7.8498e-05  & 3942002     & 208999.6    & 221553.4    & 290000.1    & 28516       & 9.7         & 57.8        & -0.02212476\\\\\n",
       "\t AL          & 1           & 1983        & 1.36        & 13.7        & 10732.80    & 52.14703    & 1.788991    & 30.3336     & 0.34341     & ...         & 341.834     & 8.6322e-05  & 3960008     & 202000.1    & 219125.5    & 290000.2    & 31032       & 9.6         & 57.9        &  0.04655825\\\\\n",
       "\t AL          & 1           & 1984        & 1.32        & 11.1        & 11108.79    & 54.16809    & 1.714286    & 30.3115     & 0.35924     & ...         & 304.872     & 7.6428e-05  & 3988992     & 197000.0    & 216724.1    & 288000.2    & 32961       & 7.5         & 59.5        &  0.06279784\\\\\n",
       "\t AL          & 1           & 1985        & 1.28        &  8.9        & 11332.63    & 55.27114    & 1.652542    & 30.2895     & 0.37579     & ...         & 276.742     & 6.8824e-05  & 4021008     & 194999.7    & 214349.0    & 284000.3    & 35091       & 7.2         & 60.1        &  0.02748997\\\\\n",
       "\t AL          & 1           & 1986        & 1.23        &  9.8        & 11661.51    & 56.51450    & 1.609907    & 30.2674     & 0.39311     & ...         & 360.716     & 8.9066e-05  & 4049994     & 203999.9    & 212000.0    & 263000.3    & 36259       & 7.0         & 60.7        &  0.03214295\\\\\n",
       "\t AL          & 1           & 1987        & 1.18        &  7.8        & 11944.00    & 57.50988    & 1.560000    & 30.2453     & 0.41123     & ...         & 368.421     & 9.0233e-05  & 4082999     & 204999.8    & 208998.5    & 258999.8    & 37426       & 6.2         & 61.5        &  0.04897637\\\\\n",
       "\\end{tabular}\n"
      ],
      "text/markdown": [
       "\n",
       "statename | state | year | spircons | unrate | perinc | emppop | beertax | sobapt | mormon | ... | aidall | mraidall | pop | pop1517 | pop1820 | pop2124 | miles | unus | epopus | gspch | \n",
       "|---|---|---|---|---|---|\n",
       "| AL          | 1           | 1982        | 1.37        | 14.4        | 10544.15    | 50.69204    | 1.539379    | 30.3557     | 0.32829     | ...         | 309.438     | 7.8498e-05  | 3942002     | 208999.6    | 221553.4    | 290000.1    | 28516       | 9.7         | 57.8        | -0.02212476 | \n",
       "| AL          | 1           | 1983        | 1.36        | 13.7        | 10732.80    | 52.14703    | 1.788991    | 30.3336     | 0.34341     | ...         | 341.834     | 8.6322e-05  | 3960008     | 202000.1    | 219125.5    | 290000.2    | 31032       | 9.6         | 57.9        |  0.04655825 | \n",
       "| AL          | 1           | 1984        | 1.32        | 11.1        | 11108.79    | 54.16809    | 1.714286    | 30.3115     | 0.35924     | ...         | 304.872     | 7.6428e-05  | 3988992     | 197000.0    | 216724.1    | 288000.2    | 32961       | 7.5         | 59.5        |  0.06279784 | \n",
       "| AL          | 1           | 1985        | 1.28        |  8.9        | 11332.63    | 55.27114    | 1.652542    | 30.2895     | 0.37579     | ...         | 276.742     | 6.8824e-05  | 4021008     | 194999.7    | 214349.0    | 284000.3    | 35091       | 7.2         | 60.1        |  0.02748997 | \n",
       "| AL          | 1           | 1986        | 1.23        |  9.8        | 11661.51    | 56.51450    | 1.609907    | 30.2674     | 0.39311     | ...         | 360.716     | 8.9066e-05  | 4049994     | 203999.9    | 212000.0    | 263000.3    | 36259       | 7.0         | 60.7        |  0.03214295 | \n",
       "| AL          | 1           | 1987        | 1.18        |  7.8        | 11944.00    | 57.50988    | 1.560000    | 30.2453     | 0.41123     | ...         | 368.421     | 9.0233e-05  | 4082999     | 204999.8    | 208998.5    | 258999.8    | 37426       | 6.2         | 61.5        |  0.04897637 | \n",
       "\n",
       "\n"
      ],
      "text/plain": [
       "  statename state year spircons unrate perinc   emppop   beertax  sobapt \n",
       "1 AL        1     1982 1.37     14.4   10544.15 50.69204 1.539379 30.3557\n",
       "2 AL        1     1983 1.36     13.7   10732.80 52.14703 1.788991 30.3336\n",
       "3 AL        1     1984 1.32     11.1   11108.79 54.16809 1.714286 30.3115\n",
       "4 AL        1     1985 1.28      8.9   11332.63 55.27114 1.652542 30.2895\n",
       "5 AL        1     1986 1.23      9.8   11661.51 56.51450 1.609907 30.2674\n",
       "6 AL        1     1987 1.18      7.8   11944.00 57.50988 1.560000 30.2453\n",
       "  mormon  ... aidall  mraidall   pop     pop1517  pop1820  pop2124  miles unus\n",
       "1 0.32829 ... 309.438 7.8498e-05 3942002 208999.6 221553.4 290000.1 28516 9.7 \n",
       "2 0.34341 ... 341.834 8.6322e-05 3960008 202000.1 219125.5 290000.2 31032 9.6 \n",
       "3 0.35924 ... 304.872 7.6428e-05 3988992 197000.0 216724.1 288000.2 32961 7.5 \n",
       "4 0.37579 ... 276.742 6.8824e-05 4021008 194999.7 214349.0 284000.3 35091 7.2 \n",
       "5 0.39311 ... 360.716 8.9066e-05 4049994 203999.9 212000.0 263000.3 36259 7.0 \n",
       "6 0.41123 ... 368.421 9.0233e-05 4082999 204999.8 208998.5 258999.8 37426 6.2 \n",
       "  epopus gspch      \n",
       "1 57.8   -0.02212476\n",
       "2 57.9    0.04655825\n",
       "3 59.5    0.06279784\n",
       "4 60.1    0.02748997\n",
       "5 60.7    0.03214295\n",
       "6 61.5    0.04897637"
      ]
     },
     "metadata": {},
     "output_type": "display_data"
    }
   ],
   "source": [
    "# import data\n",
    "fatality<-read.csv(\"http://wise.xmu.edu.cn/course/gecon/fatality.csv\")\n",
    "head(fatality)\n"
   ]
  },
  {
   "cell_type": "markdown",
   "metadata": {},
   "source": [
    "## THE STATE TRAFFIC FATALITY DATA SET\n",
    "\n",
    "\n",
    "The data are for the “lower 48” U.S. states (excluding Alaska and Hawaii),\n",
    "annually for 1982 through 1988. The traffic fatality rate is the number of traffic deaths in\n",
    "a given state in a given year, per 10,000 people living in that state in that year. Traffic\n",
    "fatality data were obtained from the U.S. Department of Transportation Fatal Accident\n",
    "Reporting System. The beer tax is the tax on a case of beer, which is an available\n",
    "measure of state alcohol taxes more generally. \n",
    "\n",
    "\n",
    "\n",
    "The drinking age variables in Table 8.1\n",
    "\n",
    "are binary variables indicating whether the legal drinking age is 18, 19, or 20. The two\n",
    "binary punishment variables in Table 8.1 describe the state’s minimum sentencing\n",
    "requirements for an initial drunk driving conviction: “Mandatory jail?” equals one if the\n",
    "state requires jail time and equals zero otherwise, and “Mandatory community service?”\n",
    "equals one if the state requires community service and equals zero otherwise. Total\n",
    "vehicle miles traveled annually by state was obtained from the Department of\n",
    "Transportation. Personal income was obtained from the U.S. Bureau of Economic\n",
    "Analysis, and the unemployment rate was obtained from the U.S. Bureau of Labor\n",
    "Statistics.\n",
    "\n",
    "\n",
    "These data were graciously provided to us by Professor Christopher J. Ruhm of\n",
    "the Department of Economics at the University of North Carolina"
   ]
  },
  {
   "cell_type": "code",
   "execution_count": 4,
   "metadata": {
    "collapsed": true
   },
   "outputs": [],
   "source": [
    "fatality$mrt<-fatality$mrall*10000"
   ]
  },
  {
   "cell_type": "code",
   "execution_count": 5,
   "metadata": {
    "collapsed": true
   },
   "outputs": [],
   "source": [
    "# convert data into panel data format\n",
    "fplm<-plm.data(fatality,c(\"state\",\"year\"))\n"
   ]
  },
  {
   "cell_type": "code",
   "execution_count": 6,
   "metadata": {
    "collapsed": false
   },
   "outputs": [
    {
     "data": {},
     "metadata": {},
     "output_type": "display_data"
    },
    {
     "data": {
      "image/png": "[encoded data removed]",
      "text/plain": [
       "plot without title"
      ]
     },
     "metadata": {},
     "output_type": "display_data"
    }
   ],
   "source": [
    "library(ggplot2)\n",
    "p= ggplot(data = fatality, mapping = aes(x=beertax  , y=mrt) )\n",
    "p + geom_point()+ stat_smooth(method = \"lm\" , fill=NA)"
   ]
  },
  {
   "cell_type": "code",
   "execution_count": 7,
   "metadata": {
    "collapsed": false
   },
   "outputs": [
    {
     "data": {},
     "metadata": {},
     "output_type": "display_data"
    },
    {
     "data": {
      "image/png": "[encoded data removed]",
      "text/plain": [
       "plot without title"
      ]
     },
     "metadata": {},
     "output_type": "display_data"
    }
   ],
   "source": [
    "library(ggplot2)\n",
    "p= ggplot(data = fatality, mapping = aes(x=beertax  , y=mrt, color = as.factor(state))) \n",
    "p+ geom_point()+ stat_smooth(method = \"lm\" , fill=NA)"
   ]
  },
  {
   "cell_type": "code",
   "execution_count": 8,
   "metadata": {
    "collapsed": false
   },
   "outputs": [
    {
     "data": {
      "text/plain": [
       "\n",
       "t test of coefficients:\n",
       "\n",
       "        Estimate Std. Error t value  Pr(>|t|)    \n",
       "beertax -0.65587    0.18815 -3.4858 0.0005673 ***\n",
       "---\n",
       "Signif. codes:  0 '***' 0.001 '**' 0.01 '*' 0.05 '.' 0.1 ' ' 1\n"
      ]
     },
     "metadata": {},
     "output_type": "display_data"
    }
   ],
   "source": [
    "###########\n",
    "## estimate state fixed effects regression \n",
    "#########\n",
    "fr.fei<-plm(mrt~beertax,data=fplm,method=\"within\",effect=\"individual\")\n",
    "coeftest(fr.fei,vcovHC(fr.fei,method=\"white1\",type=\"HC1\"))"
   ]
  },
  {
   "cell_type": "code",
   "execution_count": 9,
   "metadata": {
    "collapsed": false
   },
   "outputs": [
    {
     "data": {
      "text/html": [
       "<dl class=dl-horizontal>\n",
       "\t<dt>1</dt>\n",
       "\t\t<dd>3.47762999938516</dd>\n",
       "\t<dt>4</dt>\n",
       "\t\t<dd>2.9099031769736</dd>\n",
       "\t<dt>5</dt>\n",
       "\t\t<dd>2.82267846898907</dd>\n",
       "\t<dt>6</dt>\n",
       "\t\t<dd>1.9681612650548</dd>\n",
       "\t<dt>8</dt>\n",
       "\t\t<dd>1.99334967306044</dd>\n",
       "\t<dt>9</dt>\n",
       "\t\t<dd>1.61537282720038</dd>\n",
       "\t<dt>10</dt>\n",
       "\t\t<dd>2.17002806305006</dd>\n",
       "\t<dt>12</dt>\n",
       "\t\t<dd>3.20949983627425</dd>\n",
       "\t<dt>13</dt>\n",
       "\t\t<dd>4.00223290908212</dd>\n",
       "\t<dt>16</dt>\n",
       "\t\t<dd>2.80860760011456</dd>\n",
       "\t<dt>17</dt>\n",
       "\t\t<dd>1.51600752234885</dd>\n",
       "\t<dt>18</dt>\n",
       "\t\t<dd>2.01608848859672</dd>\n",
       "\t<dt>19</dt>\n",
       "\t\t<dd>1.9336979224177</dd>\n",
       "\t<dt>20</dt>\n",
       "\t\t<dd>2.25441406381216</dd>\n",
       "\t<dt>21</dt>\n",
       "\t\t<dd>2.26011313849545</dd>\n",
       "\t<dt>22</dt>\n",
       "\t\t<dd>2.63051382144314</dd>\n",
       "\t<dt>23</dt>\n",
       "\t\t<dd>2.36968272739263</dd>\n",
       "\t<dt>24</dt>\n",
       "\t\t<dd>1.77119039510691</dd>\n",
       "\t<dt>25</dt>\n",
       "\t\t<dd>1.36788384292382</dd>\n",
       "\t<dt>26</dt>\n",
       "\t\t<dd>1.99310318368534</dd>\n",
       "\t<dt>27</dt>\n",
       "\t\t<dd>1.58041702298797</dd>\n",
       "\t<dt>28</dt>\n",
       "\t\t<dd>3.44855027674231</dd>\n",
       "\t<dt>29</dt>\n",
       "\t\t<dd>2.18136835506621</dd>\n",
       "\t<dt>30</dt>\n",
       "\t\t<dd>3.11723851187581</dd>\n",
       "\t<dt>31</dt>\n",
       "\t\t<dd>1.95545218574549</dd>\n",
       "\t<dt>32</dt>\n",
       "\t\t<dd>2.87685511422211</dd>\n",
       "\t<dt>33</dt>\n",
       "\t\t<dd>2.22317570369489</dd>\n",
       "\t<dt>34</dt>\n",
       "\t\t<dd>1.37188057774077</dd>\n",
       "\t<dt>35</dt>\n",
       "\t\t<dd>3.90400499934624</dd>\n",
       "\t<dt>36</dt>\n",
       "\t\t<dd>1.2909600964339</dd>\n",
       "\t<dt>37</dt>\n",
       "\t\t<dd>3.18716495748217</dd>\n",
       "\t<dt>38</dt>\n",
       "\t\t<dd>1.85419077450493</dd>\n",
       "\t<dt>39</dt>\n",
       "\t\t<dd>1.80321077450493</dd>\n",
       "\t<dt>40</dt>\n",
       "\t\t<dd>2.93256907899043</dd>\n",
       "\t<dt>41</dt>\n",
       "\t\t<dd>2.30963020695471</dd>\n",
       "\t<dt>42</dt>\n",
       "\t\t<dd>1.71016384292382</dd>\n",
       "\t<dt>44</dt>\n",
       "\t\t<dd>1.21257582563029</dd>\n",
       "\t<dt>45</dt>\n",
       "\t\t<dd>4.03480370261351</dd>\n",
       "\t<dt>46</dt>\n",
       "\t\t<dd>2.47390928690426</dd>\n",
       "\t<dt>47</dt>\n",
       "\t\t<dd>2.60197142258929</dd>\n",
       "\t<dt>48</dt>\n",
       "\t\t<dd>2.56015660273971</dd>\n",
       "\t<dt>49</dt>\n",
       "\t\t<dd>2.31367962904575</dd>\n",
       "\t<dt>50</dt>\n",
       "\t\t<dd>2.51158622606754</dd>\n",
       "\t<dt>51</dt>\n",
       "\t\t<dd>2.18744681483702</dd>\n",
       "\t<dt>53</dt>\n",
       "\t\t<dd>1.81810632192547</dd>\n",
       "\t<dt>54</dt>\n",
       "\t\t<dd>2.58087604315173</dd>\n",
       "\t<dt>55</dt>\n",
       "\t\t<dd>1.71836377733577</dd>\n",
       "\t<dt>56</dt>\n",
       "\t\t<dd>3.24912634690681</dd>\n",
       "</dl>\n"
      ],
      "text/latex": [
       "\\begin{description*}\n",
       "\\item[1] 3.47762999938516\n",
       "\\item[4] 2.9099031769736\n",
       "\\item[5] 2.82267846898907\n",
       "\\item[6] 1.9681612650548\n",
       "\\item[8] 1.99334967306044\n",
       "\\item[9] 1.61537282720038\n",
       "\\item[10] 2.17002806305006\n",
       "\\item[12] 3.20949983627425\n",
       "\\item[13] 4.00223290908212\n",
       "\\item[16] 2.80860760011456\n",
       "\\item[17] 1.51600752234885\n",
       "\\item[18] 2.01608848859672\n",
       "\\item[19] 1.9336979224177\n",
       "\\item[20] 2.25441406381216\n",
       "\\item[21] 2.26011313849545\n",
       "\\item[22] 2.63051382144314\n",
       "\\item[23] 2.36968272739263\n",
       "\\item[24] 1.77119039510691\n",
       "\\item[25] 1.36788384292382\n",
       "\\item[26] 1.99310318368534\n",
       "\\item[27] 1.58041702298797\n",
       "\\item[28] 3.44855027674231\n",
       "\\item[29] 2.18136835506621\n",
       "\\item[30] 3.11723851187581\n",
       "\\item[31] 1.95545218574549\n",
       "\\item[32] 2.87685511422211\n",
       "\\item[33] 2.22317570369489\n",
       "\\item[34] 1.37188057774077\n",
       "\\item[35] 3.90400499934624\n",
       "\\item[36] 1.2909600964339\n",
       "\\item[37] 3.18716495748217\n",
       "\\item[38] 1.85419077450493\n",
       "\\item[39] 1.80321077450493\n",
       "\\item[40] 2.93256907899043\n",
       "\\item[41] 2.30963020695471\n",
       "\\item[42] 1.71016384292382\n",
       "\\item[44] 1.21257582563029\n",
       "\\item[45] 4.03480370261351\n",
       "\\item[46] 2.47390928690426\n",
       "\\item[47] 2.60197142258929\n",
       "\\item[48] 2.56015660273971\n",
       "\\item[49] 2.31367962904575\n",
       "\\item[50] 2.51158622606754\n",
       "\\item[51] 2.18744681483702\n",
       "\\item[53] 1.81810632192547\n",
       "\\item[54] 2.58087604315173\n",
       "\\item[55] 1.71836377733577\n",
       "\\item[56] 3.24912634690681\n",
       "\\end{description*}\n"
      ],
      "text/markdown": [
       "1\n",
       ":   3.477629999385164\n",
       ":   2.90990317697365\n",
       ":   2.822678468989076\n",
       ":   1.96816126505488\n",
       ":   1.993349673060449\n",
       ":   1.6153728272003810\n",
       ":   2.1700280630500612\n",
       ":   3.2094998362742513\n",
       ":   4.0022329090821216\n",
       ":   2.8086076001145617\n",
       ":   1.5160075223488518\n",
       ":   2.0160884885967219\n",
       ":   1.933697922417720\n",
       ":   2.2544140638121621\n",
       ":   2.2601131384954522\n",
       ":   2.6305138214431423\n",
       ":   2.3696827273926324\n",
       ":   1.7711903951069125\n",
       ":   1.3678838429238226\n",
       ":   1.9931031836853427\n",
       ":   1.5804170229879728\n",
       ":   3.4485502767423129\n",
       ":   2.1813683550662130\n",
       ":   3.1172385118758131\n",
       ":   1.9554521857454932\n",
       ":   2.8768551142221133\n",
       ":   2.2231757036948934\n",
       ":   1.3718805777407735\n",
       ":   3.9040049993462436\n",
       ":   1.290960096433937\n",
       ":   3.1871649574821738\n",
       ":   1.8541907745049339\n",
       ":   1.8032107745049340\n",
       ":   2.9325690789904341\n",
       ":   2.3096302069547142\n",
       ":   1.7101638429238244\n",
       ":   1.2125758256302945\n",
       ":   4.0348037026135146\n",
       ":   2.4739092869042647\n",
       ":   2.6019714225892948\n",
       ":   2.5601566027397149\n",
       ":   2.3136796290457550\n",
       ":   2.5115862260675451\n",
       ":   2.1874468148370253\n",
       ":   1.8181063219254754\n",
       ":   2.5808760431517355\n",
       ":   1.7183637773357756\n",
       ":   3.24912634690681\n",
       "\n"
      ],
      "text/plain": [
       "       1        4        5        6        8        9       10       12 \n",
       "3.477630 2.909903 2.822678 1.968161 1.993350 1.615373 2.170028 3.209500 \n",
       "      13       16       17       18       19       20       21       22 \n",
       "4.002233 2.808608 1.516008 2.016088 1.933698 2.254414 2.260113 2.630514 \n",
       "      23       24       25       26       27       28       29       30 \n",
       "2.369683 1.771190 1.367884 1.993103 1.580417 3.448550 2.181368 3.117239 \n",
       "      31       32       33       34       35       36       37       38 \n",
       "1.955452 2.876855 2.223176 1.371881 3.904005 1.290960 3.187165 1.854191 \n",
       "      39       40       41       42       44       45       46       47 \n",
       "1.803211 2.932569 2.309630 1.710164 1.212576 4.034804 2.473909 2.601971 \n",
       "      48       49       50       51       53       54       55       56 \n",
       "2.560157 2.313680 2.511586 2.187447 1.818106 2.580876 1.718364 3.249126 "
      ]
     },
     "metadata": {},
     "output_type": "display_data"
    }
   ],
   "source": [
    "\n",
    "# fixed effects estimates\n",
    "fixef(fr.fei)\n"
   ]
  },
  {
   "cell_type": "code",
   "execution_count": 10,
   "metadata": {
    "collapsed": false
   },
   "outputs": [
    {
     "data": {
      "text/html": [
       "<dl class=dl-horizontal>\n",
       "\t<dt>1</dt>\n",
       "\t\t<dd>0.313356791478378</dd>\n",
       "\t<dt>4</dt>\n",
       "\t\t<dd>0.092538933341733</dd>\n",
       "\t<dt>5</dt>\n",
       "\t\t<dd>0.132125319564968</dd>\n",
       "\t<dt>6</dt>\n",
       "\t\t<dd>0.0740067855662203</dd>\n",
       "\t<dt>8</dt>\n",
       "\t\t<dd>0.0803708529333488</dd>\n",
       "\t<dt>9</dt>\n",
       "\t\t<dd>0.0839130049972223</dd>\n",
       "\t<dt>10</dt>\n",
       "\t\t<dd>0.0774569102803868</dd>\n",
       "\t<dt>12</dt>\n",
       "\t\t<dd>0.221513492588371</dd>\n",
       "\t<dt>13</dt>\n",
       "\t\t<dd>0.464031495086237</dd>\n",
       "\t<dt>16</dt>\n",
       "\t\t<dd>0.0987665988297701</dd>\n",
       "\t<dt>17</dt>\n",
       "\t\t<dd>0.0784782147229678</dd>\n",
       "\t<dt>18</dt>\n",
       "\t\t<dd>0.0886722398845905</dd>\n",
       "\t<dt>19</dt>\n",
       "\t\t<dd>0.102216824964534</dd>\n",
       "\t<dt>20</dt>\n",
       "\t\t<dd>0.108631711760386</dd>\n",
       "\t<dt>21</dt>\n",
       "\t\t<dd>0.0804616017256539</dd>\n",
       "\t<dt>22</dt>\n",
       "\t\t<dd>0.162664211356159</dd>\n",
       "\t<dt>23</dt>\n",
       "\t\t<dd>0.160064919829323</dd>\n",
       "\t<dt>24</dt>\n",
       "\t\t<dd>0.0824575944313235</dd>\n",
       "\t<dt>25</dt>\n",
       "\t\t<dd>0.0864773454063516</dd>\n",
       "\t<dt>26</dt>\n",
       "\t\t<dd>0.116631869971441</dd>\n",
       "\t<dt>27</dt>\n",
       "\t\t<dd>0.093628382038598</dd>\n",
       "\t<dt>28</dt>\n",
       "\t\t<dd>0.209362524912342</dd>\n",
       "\t<dt>29</dt>\n",
       "\t\t<dd>0.0925233377905074</dd>\n",
       "\t<dt>30</dt>\n",
       "\t\t<dd>0.0944132731828688</dd>\n",
       "\t<dt>31</dt>\n",
       "\t\t<dd>0.105505314989753</dd>\n",
       "\t<dt>32</dt>\n",
       "\t\t<dd>0.08105603473415</dd>\n",
       "\t<dt>33</dt>\n",
       "\t\t<dd>0.141142873233576</dd>\n",
       "\t<dt>34</dt>\n",
       "\t\t<dd>0.0733276070123513</dd>\n",
       "\t<dt>35</dt>\n",
       "\t\t<dd>0.101536631148494</dd>\n",
       "\t<dt>36</dt>\n",
       "\t\t<dd>0.0756293550569476</dd>\n",
       "\t<dt>37</dt>\n",
       "\t\t<dd>0.251733866895961</dd>\n",
       "\t<dt>38</dt>\n",
       "\t\t<dd>0.101928174500867</dd>\n",
       "\t<dt>39</dt>\n",
       "\t\t<dd>0.101928174500867</dd>\n",
       "\t<dt>40</dt>\n",
       "\t\t<dd>0.184284549506872</dd>\n",
       "\t<dt>41</dt>\n",
       "\t\t<dd>0.0811746034408659</dd>\n",
       "\t<dt>42</dt>\n",
       "\t\t<dd>0.0864773454063516</dd>\n",
       "\t<dt>44</dt>\n",
       "\t\t<dd>0.0775328212376551</dd>\n",
       "\t<dt>45</dt>\n",
       "\t\t<dd>0.35478921469672</dd>\n",
       "\t<dt>46</dt>\n",
       "\t\t<dd>0.141208943558688</dd>\n",
       "\t<dt>47</dt>\n",
       "\t\t<dd>0.0916241022028261</dd>\n",
       "\t<dt>48</dt>\n",
       "\t\t<dd>0.108532152901304</dd>\n",
       "\t<dt>49</dt>\n",
       "\t\t<dd>0.154532258543304</dd>\n",
       "\t<dt>50</dt>\n",
       "\t\t<dd>0.139725623357669</dd>\n",
       "\t<dt>51</dt>\n",
       "\t\t<dd>0.146641160376944</dd>\n",
       "\t<dt>53</dt>\n",
       "\t\t<dd>0.0823283497775219</dd>\n",
       "\t<dt>54</dt>\n",
       "\t\t<dd>0.107667888617228</dd>\n",
       "\t<dt>55</dt>\n",
       "\t\t<dd>0.0774569102803868</dd>\n",
       "\t<dt>56</dt>\n",
       "\t\t<dd>0.0723283270093289</dd>\n",
       "</dl>\n"
      ],
      "text/latex": [
       "\\begin{description*}\n",
       "\\item[1] 0.313356791478378\n",
       "\\item[4] 0.092538933341733\n",
       "\\item[5] 0.132125319564968\n",
       "\\item[6] 0.0740067855662203\n",
       "\\item[8] 0.0803708529333488\n",
       "\\item[9] 0.0839130049972223\n",
       "\\item[10] 0.0774569102803868\n",
       "\\item[12] 0.221513492588371\n",
       "\\item[13] 0.464031495086237\n",
       "\\item[16] 0.0987665988297701\n",
       "\\item[17] 0.0784782147229678\n",
       "\\item[18] 0.0886722398845905\n",
       "\\item[19] 0.102216824964534\n",
       "\\item[20] 0.108631711760386\n",
       "\\item[21] 0.0804616017256539\n",
       "\\item[22] 0.162664211356159\n",
       "\\item[23] 0.160064919829323\n",
       "\\item[24] 0.0824575944313235\n",
       "\\item[25] 0.0864773454063516\n",
       "\\item[26] 0.116631869971441\n",
       "\\item[27] 0.093628382038598\n",
       "\\item[28] 0.209362524912342\n",
       "\\item[29] 0.0925233377905074\n",
       "\\item[30] 0.0944132731828688\n",
       "\\item[31] 0.105505314989753\n",
       "\\item[32] 0.08105603473415\n",
       "\\item[33] 0.141142873233576\n",
       "\\item[34] 0.0733276070123513\n",
       "\\item[35] 0.101536631148494\n",
       "\\item[36] 0.0756293550569476\n",
       "\\item[37] 0.251733866895961\n",
       "\\item[38] 0.101928174500867\n",
       "\\item[39] 0.101928174500867\n",
       "\\item[40] 0.184284549506872\n",
       "\\item[41] 0.0811746034408659\n",
       "\\item[42] 0.0864773454063516\n",
       "\\item[44] 0.0775328212376551\n",
       "\\item[45] 0.35478921469672\n",
       "\\item[46] 0.141208943558688\n",
       "\\item[47] 0.0916241022028261\n",
       "\\item[48] 0.108532152901304\n",
       "\\item[49] 0.154532258543304\n",
       "\\item[50] 0.139725623357669\n",
       "\\item[51] 0.146641160376944\n",
       "\\item[53] 0.0823283497775219\n",
       "\\item[54] 0.107667888617228\n",
       "\\item[55] 0.0774569102803868\n",
       "\\item[56] 0.0723283270093289\n",
       "\\end{description*}\n"
      ],
      "text/markdown": [
       "1\n",
       ":   0.3133567914783784\n",
       ":   0.0925389333417335\n",
       ":   0.1321253195649686\n",
       ":   0.07400678556622038\n",
       ":   0.08037085293334889\n",
       ":   0.083913004997222310\n",
       ":   0.077456910280386812\n",
       ":   0.22151349258837113\n",
       ":   0.46403149508623716\n",
       ":   0.098766598829770117\n",
       ":   0.078478214722967818\n",
       ":   0.088672239884590519\n",
       ":   0.10221682496453420\n",
       ":   0.10863171176038621\n",
       ":   0.080461601725653922\n",
       ":   0.16266421135615923\n",
       ":   0.16006491982932324\n",
       ":   0.082457594431323525\n",
       ":   0.086477345406351626\n",
       ":   0.11663186997144127\n",
       ":   0.09362838203859828\n",
       ":   0.20936252491234229\n",
       ":   0.092523337790507430\n",
       ":   0.094413273182868831\n",
       ":   0.10550531498975332\n",
       ":   0.0810560347341533\n",
       ":   0.14114287323357634\n",
       ":   0.073327607012351335\n",
       ":   0.10153663114849436\n",
       ":   0.075629355056947637\n",
       ":   0.25173386689596138\n",
       ":   0.10192817450086739\n",
       ":   0.10192817450086740\n",
       ":   0.18428454950687241\n",
       ":   0.081174603440865942\n",
       ":   0.086477345406351644\n",
       ":   0.077532821237655145\n",
       ":   0.3547892146967246\n",
       ":   0.14120894355868847\n",
       ":   0.091624102202826148\n",
       ":   0.10853215290130449\n",
       ":   0.15453225854330450\n",
       ":   0.13972562335766951\n",
       ":   0.14664116037694453\n",
       ":   0.082328349777521954\n",
       ":   0.10766788861722855\n",
       ":   0.077456910280386856\n",
       ":   0.0723283270093289\n",
       "\n"
      ],
      "text/plain": [
       "         1          4          5          6          8          9         10 \n",
       "0.31335679 0.09253893 0.13212532 0.07400679 0.08037085 0.08391300 0.07745691 \n",
       "        12         13         16         17         18         19         20 \n",
       "0.22151349 0.46403150 0.09876660 0.07847821 0.08867224 0.10221682 0.10863171 \n",
       "        21         22         23         24         25         26         27 \n",
       "0.08046160 0.16266421 0.16006492 0.08245759 0.08647735 0.11663187 0.09362838 \n",
       "        28         29         30         31         32         33         34 \n",
       "0.20936252 0.09252334 0.09441327 0.10550531 0.08105603 0.14114287 0.07332761 \n",
       "        35         36         37         38         39         40         41 \n",
       "0.10153663 0.07562936 0.25173387 0.10192817 0.10192817 0.18428455 0.08117460 \n",
       "        42         44         45         46         47         48         49 \n",
       "0.08647735 0.07753282 0.35478921 0.14120894 0.09162410 0.10853215 0.15453226 \n",
       "        50         51         53         54         55         56 \n",
       "0.13972562 0.14664116 0.08232835 0.10766789 0.07745691 0.07232833 "
      ]
     },
     "metadata": {},
     "output_type": "display_data"
    }
   ],
   "source": [
    "# fixed effects estimate standard errors\n",
    "attributes(fixef(fr.fei))$se"
   ]
  },
  {
   "cell_type": "code",
   "execution_count": null,
   "metadata": {
    "collapsed": true
   },
   "outputs": [],
   "source": []
  },
  {
   "cell_type": "code",
   "execution_count": 11,
   "metadata": {
    "collapsed": false
   },
   "outputs": [
    {
     "data": {
      "text/plain": [
       "\n",
       "t test of coefficients:\n",
       "\n",
       "              Estimate Std. Error t value  Pr(>|t|)    \n",
       "(Intercept)  1.8948477  0.1060330 17.8704 < 2.2e-16 ***\n",
       "beertax      0.3663358  0.0533307  6.8691 3.253e-11 ***\n",
       "fyear1983   -0.0820359  0.1290818 -0.6355    0.5255    \n",
       "fyear1984   -0.0717331  0.1222206 -0.5869    0.5577    \n",
       "fyear1985   -0.1105458  0.1216007 -0.9091    0.3640    \n",
       "fyear1986   -0.0161184  0.1225868 -0.1315    0.8955    \n",
       "fyear1987   -0.0155355  0.1233817 -0.1259    0.8999    \n",
       "fyear1988   -0.0010271  0.1201962 -0.0085    0.9932    \n",
       "---\n",
       "Signif. codes:  0 '***' 0.001 '**' 0.01 '*' 0.05 '.' 0.1 ' ' 1\n"
      ]
     },
     "metadata": {},
     "output_type": "display_data"
    }
   ],
   "source": [
    "###########\n",
    "## estimate time fixed effects \n",
    "#########\n",
    "# using time dummies\n",
    "fyear<-factor(fatality$year) # create a set of dummies for each year\n",
    "fr.td<-lm(mrt~beertax+fyear,data=fatality)\n",
    "coeftest(fr.td,vcovHC(fr.td,type=\"HC1\"))"
   ]
  },
  {
   "cell_type": "code",
   "execution_count": 12,
   "metadata": {
    "collapsed": false
   },
   "outputs": [
    {
     "data": {
      "text/plain": [
       "\n",
       "t test of coefficients:\n",
       "\n",
       "        Estimate Std. Error t value  Pr(>|t|)    \n",
       "beertax 0.366336   0.052771  6.9421 2.077e-11 ***\n",
       "---\n",
       "Signif. codes:  0 '***' 0.001 '**' 0.01 '*' 0.05 '.' 0.1 ' ' 1\n"
      ]
     },
     "metadata": {},
     "output_type": "display_data"
    }
   ],
   "source": [
    "\n",
    "# using demeaned data\n",
    "fr.fet<-plm(mrt~beertax,data=fplm,method=\"within\",effect=\"time\")\n",
    "coeftest(fr.fet,vcovHC(fr.fet,method=\"white1\",type=\"HC1\"))"
   ]
  },
  {
   "cell_type": "code",
   "execution_count": null,
   "metadata": {
    "collapsed": true
   },
   "outputs": [],
   "source": []
  },
  {
   "cell_type": "code",
   "execution_count": 14,
   "metadata": {
    "collapsed": false
   },
   "outputs": [
    {
     "data": {
      "text/plain": [
       "\n",
       "t test of coefficients:\n",
       "\n",
       "        Estimate Std. Error t value  Pr(>|t|)    \n",
       "beertax -0.65587    0.18815 -3.4858 0.0005673 ***\n",
       "---\n",
       "Signif. codes:  0 '***' 0.001 '**' 0.01 '*' 0.05 '.' 0.1 ' ' 1\n"
      ]
     },
     "metadata": {},
     "output_type": "display_data"
    }
   ],
   "source": [
    "###########\n",
    "## estimate standard errors\n",
    "#########\n",
    "# state fixed effects\n",
    "fr.fei<-plm(mrt~beertax,data=fplm,method=\"within\",effect=\"individual\")\n",
    "# assumes no correlation across time\n",
    "coeftest(fr.fei,vcovHC(fr.fei,method=\"white1\",type=\"HC1\"))\n",
    "\n"
   ]
  },
  {
   "cell_type": "code",
   "execution_count": 15,
   "metadata": {
    "collapsed": false
   },
   "outputs": [
    {
     "data": {
      "text/plain": [
       "\n",
       "t test of coefficients:\n",
       "\n",
       "        Estimate Std. Error t value Pr(>|t|)  \n",
       "beertax -0.65587    0.28880  -2.271  0.02388 *\n",
       "---\n",
       "Signif. codes:  0 '***' 0.001 '**' 0.01 '*' 0.05 '.' 0.1 ' ' 1\n"
      ]
     },
     "metadata": {},
     "output_type": "display_data"
    }
   ],
   "source": [
    "# allows for correlation across time\n",
    "coeftest(fr.fei,vcovHC(fr.fei,method=\"arellano\",type=\"HC1\"))\n"
   ]
  },
  {
   "cell_type": "code",
   "execution_count": 17,
   "metadata": {
    "collapsed": false
   },
   "outputs": [
    {
     "data": {
      "text/plain": [
       "\n",
       "t test of coefficients:\n",
       "\n",
       "        Estimate Std. Error t value Pr(>|t|)   \n",
       "beertax -0.63998    0.23328 -2.7434 0.006473 **\n",
       "---\n",
       "Signif. codes:  0 '***' 0.001 '**' 0.01 '*' 0.05 '.' 0.1 ' ' 1\n"
      ]
     },
     "metadata": {},
     "output_type": "display_data"
    }
   ],
   "source": [
    "# two-way fixed effects\n",
    "fr.feb<-plm(mrt~beertax,data=fplm,method=\"within\",effect=\"twoways\")\n",
    "# assumes no correlation across time\n",
    "coeftest(fr.feb,vcovHC(fr.feb,method=\"white1\",type=\"HC1\"))\n"
   ]
  },
  {
   "cell_type": "code",
   "execution_count": 18,
   "metadata": {
    "collapsed": false
   },
   "outputs": [
    {
     "data": {
      "text/plain": [
       "\n",
       "t test of coefficients:\n",
       "\n",
       "        Estimate Std. Error t value Pr(>|t|)  \n",
       "beertax -0.63998    0.35015 -1.8277  0.06865 .\n",
       "---\n",
       "Signif. codes:  0 '***' 0.001 '**' 0.01 '*' 0.05 '.' 0.1 ' ' 1\n"
      ]
     },
     "metadata": {},
     "output_type": "display_data"
    }
   ],
   "source": [
    "# allows for correlation across time\n",
    "coeftest(fr.feb,vcovHC(fr.feb,method=\"arellano\",type=\"HC1\"))"
   ]
  },
  {
   "cell_type": "code",
   "execution_count": null,
   "metadata": {
    "collapsed": true
   },
   "outputs": [],
   "source": []
  },
  {
   "cell_type": "code",
   "execution_count": 20,
   "metadata": {
    "collapsed": false
   },
   "outputs": [
    {
     "data": {
      "text/plain": [
       "\n",
       "t test of coefficients:\n",
       "\n",
       "           Estimate Std. Error t value Pr(>|t|)   \n",
       "beertax   -0.639980   0.235402 -2.7187 0.006962 **\n",
       "fyear1983 -0.079903   0.046459 -1.7199 0.086560 . \n",
       "fyear1984 -0.072421   0.041816 -1.7319 0.084391 . \n",
       "fyear1985 -0.123976   0.042514 -2.9161 0.003830 **\n",
       "fyear1986 -0.037864   0.044964 -0.8421 0.400441   \n",
       "fyear1987 -0.050902   0.047698 -1.0672 0.286809   \n",
       "fyear1988 -0.051804   0.049785 -1.0405 0.298983   \n",
       "---\n",
       "Signif. codes:  0 '***' 0.001 '**' 0.01 '*' 0.05 '.' 0.1 ' ' 1\n"
      ]
     },
     "metadata": {},
     "output_type": "display_data"
    }
   ],
   "source": [
    "\n",
    "###########\n",
    "## estimate two-way fixed effects \n",
    "#########\n",
    "# using time dummies\n",
    "fr.feitd<-plm(mrt~beertax+fyear,data=fplm,method=\"within\",effect=\"individual\")\n",
    "coeftest(fr.feitd,vcovHC(fr.feitd,method=\"white1\",type=\"HC1\"))\n"
   ]
  },
  {
   "cell_type": "code",
   "execution_count": 24,
   "metadata": {
    "collapsed": false
   },
   "outputs": [
    {
     "data": {
      "text/plain": [
       "\n",
       "t test of coefficients:\n",
       "\n",
       "        Estimate Std. Error t value Pr(>|t|)   \n",
       "beertax -0.63998    0.23328 -2.7434 0.006473 **\n",
       "---\n",
       "Signif. codes:  0 '***' 0.001 '**' 0.01 '*' 0.05 '.' 0.1 ' ' 1\n"
      ]
     },
     "metadata": {},
     "output_type": "display_data"
    }
   ],
   "source": [
    "# using demeaned data\n",
    "fr.feb<-plm(mrt~beertax,data=fplm,method=\"within\",effect=\"twoways\")\n",
    "            \n",
    "            \n",
    "coeftest(fr.feb,vcovHC(fr.feb,method=\"white1\",type=\"HC1\"))"
   ]
  },
  {
   "cell_type": "code",
   "execution_count": 27,
   "metadata": {
    "collapsed": false
   },
   "outputs": [
    {
     "data": {
      "text/html": [
       "<table>\n",
       "<thead><tr><th scope=col>Res.Df</th><th scope=col>Df</th><th scope=col>Chisq</th><th scope=col>Pr(&gt;Chisq)</th></tr></thead>\n",
       "<tbody>\n",
       "\t<tr><td>287        </td><td>NA         </td><td>     NA    </td><td>         NA</td></tr>\n",
       "\t<tr><td>281        </td><td> 6         </td><td>17.3285    </td><td>0.008148831</td></tr>\n",
       "</tbody>\n",
       "</table>\n"
      ],
      "text/latex": [
       "\\begin{tabular}{r|llll}\n",
       " Res.Df & Df & Chisq & Pr(>Chisq)\\\\\n",
       "\\hline\n",
       "\t 287         & NA          &      NA     &          NA\\\\\n",
       "\t 281         &  6          & 17.3285     & 0.008148831\\\\\n",
       "\\end{tabular}\n"
      ],
      "text/markdown": [
       "\n",
       "Res.Df | Df | Chisq | Pr(>Chisq) | \n",
       "|---|---|\n",
       "| 287         | NA          |      NA     |          NA | \n",
       "| 281         |  6          | 17.3285     | 0.008148831 | \n",
       "\n",
       "\n"
      ],
      "text/plain": [
       "  Res.Df Df Chisq   Pr(>Chisq) \n",
       "1 287    NA      NA          NA\n",
       "2 281     6 17.3285 0.008148831"
      ]
     },
     "metadata": {},
     "output_type": "display_data"
    }
   ],
   "source": [
    "###########\n",
    "## testing time effects\n",
    "#########\n",
    "# construct a vector of year dummy names\n",
    "yr<-names(fr.feitd$coefficients)[2:7]\n",
    "# assumes no correlation across time\n",
    "vcov.feitd.HET<-vcovHC(fr.feitd,method=\"white1\",type=\"HC1\")\n",
    "# using linearHypothesis directly\n",
    "linearHypothesis(fr.feitd,yr,vcov=vcov.feitd.HET)"
   ]
  },
  {
   "cell_type": "code",
   "execution_count": null,
   "metadata": {
    "collapsed": false
   },
   "outputs": [],
   "source": [
    "\n"
   ]
  },
  {
   "cell_type": "code",
   "execution_count": 28,
   "metadata": {
    "collapsed": false
   },
   "outputs": [
    {
     "data": {
      "text/html": [
       "<table>\n",
       "<thead><tr><th scope=col>Res.Df</th><th scope=col>Df</th><th scope=col>Chisq</th><th scope=col>Pr(&gt;Chisq)</th></tr></thead>\n",
       "<tbody>\n",
       "\t<tr><td>287         </td><td>NA          </td><td>      NA    </td><td>          NA</td></tr>\n",
       "\t<tr><td>281         </td><td> 6          </td><td>25.85219    </td><td>0.0002372092</td></tr>\n",
       "</tbody>\n",
       "</table>\n"
      ],
      "text/latex": [
       "\\begin{tabular}{r|llll}\n",
       " Res.Df & Df & Chisq & Pr(>Chisq)\\\\\n",
       "\\hline\n",
       "\t 287          & NA           &       NA     &           NA\\\\\n",
       "\t 281          &  6           & 25.85219     & 0.0002372092\\\\\n",
       "\\end{tabular}\n"
      ],
      "text/markdown": [
       "\n",
       "Res.Df | Df | Chisq | Pr(>Chisq) | \n",
       "|---|---|\n",
       "| 287          | NA           |       NA     |           NA | \n",
       "| 281          |  6           | 25.85219     | 0.0002372092 | \n",
       "\n",
       "\n"
      ],
      "text/plain": [
       "  Res.Df Df Chisq    Pr(>Chisq)  \n",
       "1 287    NA       NA           NA\n",
       "2 281     6 25.85219 0.0002372092"
      ]
     },
     "metadata": {},
     "output_type": "display_data"
    }
   ],
   "source": [
    "# allows for correlation across time\n",
    "vcov.feitd.HAC<-vcovHC(fr.feitd,method=\"arellano\",type=\"HC1\")\n",
    "# using linearHypothesis directly\n",
    "linearHypothesis(fr.feitd,yr,vcov=vcov.feitd.HAC)"
   ]
  },
  {
   "cell_type": "code",
   "execution_count": 29,
   "metadata": {
    "collapsed": true
   },
   "outputs": [],
   "source": [
    "###########################################\n",
    "#Estimating table 10.1\n",
    "###########################################\n",
    "# transform necessary variables\n",
    "fplm$jorc<-I(fplm$jaild+fplm$comserd>0)\n",
    "fplm$lnperinc<-log(fplm$perinc)\n",
    "fplm$drinkagec <- cut(fplm$mlda, breaks = 18:22, include.lowest = TRUE, right = FALSE)\n",
    "fplm$drinkagec <- relevel(fplm$drinkagec, ref = 4)"
   ]
  },
  {
   "cell_type": "code",
   "execution_count": null,
   "metadata": {
    "collapsed": true
   },
   "outputs": [],
   "source": []
  },
  {
   "cell_type": "code",
   "execution_count": null,
   "metadata": {
    "collapsed": true
   },
   "outputs": [],
   "source": []
  },
  {
   "cell_type": "code",
   "execution_count": null,
   "metadata": {
    "collapsed": true
   },
   "outputs": [],
   "source": []
  },
  {
   "cell_type": "code",
   "execution_count": null,
   "metadata": {
    "collapsed": true
   },
   "outputs": [],
   "source": [
    "\n",
    "\n",
    "\n",
    "\n",
    "\n",
    "\n",
    "\n",
    "\n",
    "\n",
    "\n",
    "\n",
    "\n",
    "\n",
    "\n",
    "### Function for estimating robust standard errors #################\n",
    "### Ensure degree of freedom correction equal to that used in Stock and Watson #################\n",
    "lmHAC <- function(mod, robust=FALSE, cluster=NULL,digits=3){\n",
    "  X <- model.matrix(mod)\n",
    "  n <- dim(X)[1]\n",
    "  k <- dim(X)[2]\n",
    "  # homoskedastic, zero auto-correlation\n",
    "  if(robust==FALSE & length(cluster)==0){\n",
    "    vcov <- solve(crossprod(X)) * as.numeric(crossprod(mod$residuals)/(n-k))\n",
    "  }\n",
    "  # heteroskedastic, zero auto-correlation\n",
    "  if(robust==TRUE){\n",
    "    u <- matrix(mod$residuals)\n",
    "    meat1 <- t(X) %*% diag(diag(crossprod(t(u)))) %*% X\n",
    "    dfc <- n/(mod$df.residual)   \n",
    "    vcov <- dfc*solve(crossprod(X)) %*% meat1 %*% solve(crossprod(X))\n",
    "  }\n",
    "  # heteroskedastic, auto-correlation\n",
    "  if(length(cluster)!=0){\n",
    "    # code to ensure that cluster data is the same length as X and residuals\n",
    "    # only necessary when cluster is not part of the regression\n",
    "    z<-gsub(\"factor\\\\((.*)\\\\)\",\"\\\\1\",colnames(mod$model),perl=TRUE)\n",
    "    if(is.na(match(cluster,z))){\n",
    "      z<-c(z,cluster)\n",
    "    }\n",
    "    data<-eval(mod$call$data)\n",
    "    data<-na.omit(data[,z])\n",
    "    \n",
    "    clus <- cbind(X,data[,cluster],mod$residuals)\n",
    "    colnames(clus)[(dim(clus)[2]-1):dim(clus)[2]] <- c(cluster,\"resid\")\n",
    "    m <- dim(table(clus[,cluster]))\n",
    "    dfc <- (m/(m-1))*((n-1)/(mod$df.residual))\n",
    "    uclust  <- apply(mod$residuals*X,2, function(x) tapply(x, clus[,cluster], sum))\n",
    "    vcov <- solve(crossprod(X)) %*% (t(uclust) %*% uclust) %*% solve(crossprod(X))*dfc  \n",
    "  }\n",
    "  coef <- coeftest(mod, vcov)\n",
    "  return(list(vcov, coef))\n",
    "}\n",
    "###########################################\n",
    "\n",
    "# Estimates using dummies and lm function\n",
    "reg1<-lm(mrt~beertax,data=fatality)\n",
    "lmHAC(reg1,robust=T)[[2]]\n",
    "reg2<-lm(mrt~beertax+factor(state),data=fatality)\n",
    "lmHAC(reg2,robust=T)[[2]]\n",
    "reg3<-lm(mrt~beertax+factor(state)+factor(year),data=fatality)\n",
    "lmHAC(reg3,robust=T)[[2]]\n",
    "reg4<-lm(mrt~beertax+drinkagec+jaild+comserd+vmiles+unrate+lnperinc+factor(state)+factor(year),data=fatality)\n",
    "lmHAC(reg4,robust=T)[[2]]\n",
    "reg5<-lm(mrt~beertax+drinkagec+jaild+comserd+vmiles+factor(state)+factor(year),data=fatality)\n",
    "lmHAC(reg5,robust=T)[[2]]\n",
    "reg6<-lm(mrt~beertax+mlda+jorc+vmiles+unrate+lnperinc+factor(state)+factor(year),data=fatality)\n",
    "lmHAC(reg6,robust=T)[[2]]\n",
    "reg7<-lm(mrt~beertax+drinkagec+jaild+comserd+vmiles+unrate+lnperinc+factor(state)+factor(year),data=fatality)\n",
    "lmHAC(reg7,robust=T,cluster=\"state\")[[2]]\n",
    "\n",
    "# Estimates using plm function\n",
    "peg1<-plm(mrt~beertax,data=fatality,index=c(\"state\",\"year\"),model=\"pooling\")\n",
    "lmHAC(peg1,robust=T)[[2]]\n",
    "peg2<-plm(mrt~beertax,data=fatality,index=c(\"state\",\"year\"),model=\"within\")\n",
    "lmHAC(peg2,robust=T)[[2]]\n",
    "peg3<-plm(mrt~beertax,data=fatality,index=c(\"state\",\"year\"),model=\"within\",effect=\"twoways\")\n",
    "lmHAC(peg3,robust=T)[[2]]\n",
    "peg4<-plm(mrt~beertax+drinkagec+jaild+comserd+vmiles+unrate+lnperinc,data=fatality,index=c(\"state\",\"year\"),model=\"within\",effect=\"twoways\")\n",
    "lmHAC(peg4,robust=T)[[2]]\n",
    "peg5<-plm(mrt~beertax+drinkagec+jaild+comserd+vmiles,data=fatality,index=c(\"state\",\"year\"),model=\"within\",effect=\"twoways\")\n",
    "lmHAC(peg5,robust=T)[[2]]\n",
    "peg6<-plm(mrt~beertax+mlda+jorc+vmiles+unrate+lnperinc,data=fatality,index=c(\"state\",\"year\"),model=\"within\",effect=\"twoways\")\n",
    "lmHAC(peg6,robust=T)[[2]]\n",
    "peg7<-plm(mrt~beertax+drinkagec+jaild+comserd+vmiles+unrate+lnperinc,data=fatality,index=c(\"state\",\"year\"),model=\"within\",effect=\"twoways\")\n",
    "lmHAC(peg7,robust=T,cluster=\"state\")[[2]]\n",
    "\n",
    "########### Alternative tests for significant time fixed effects#################\n",
    "# these give slightly different values due to the different degree of freedom correction \n",
    "# plm has no degree of freedom correction for demeaned data\n",
    "\n",
    "########### State and time dummies ################\n",
    "fr.sdtd<-lm(mrt~beertax+factor(state)+factor(year),data=fatality)\n",
    "yr<-names(fr.sdtd$coefficients)[50:55]\n",
    "\n",
    "# assumes no correlation across time\n",
    "vcov.sdtd.HC<-lmHAC(fr.sdtd,robust=T)[[1]]\n",
    "linearHypothesis(fr.sdtd,yr,vcov=vcov.sdtd.HC,test=\"Chisq\")\n",
    "\n",
    "# allow for correlation across time\n",
    "vcov.sdtd.HAC<-lmHAC(fr.sdtd,robust=T,cluster=\"state\")[[1]]\n",
    "linearHypothesis(fr.sdtd,yr,vcov=vcov.sdtd.HAC,test=\"Chisq\")\n",
    "\n",
    "########### Time dummies ################\n",
    "fr.feitd<-plm(mrt~beertax+factor(year),data=fatality,index=c(\"state\",\"year\"),method=\"within\",effect=\"individual\")\n",
    "# construct a vector of year dummy names\n",
    "yr<-names(fr.feitd$coefficients)[2:7]\n",
    "\n",
    "# assumes no correlation across time\n",
    "vcov.feitd.HC<-lmHAC(fr.feitd,robust=T)[[1]]\n",
    "linearHypothesis(fr.feitd,yr,vcov=vcov.feitd.HC)\n",
    "\n",
    "# allow for correlation across time\n",
    "vcov.feitd.HAC<-lmHAC(fr.feitd,robust=T,cluster=\"state\")[[1]]\n",
    "linearHypothesis(fr.feitd,yr,vcov=vcov.feitd.HAC)\n"
   ]
  },
  {
   "cell_type": "code",
   "execution_count": null,
   "metadata": {
    "collapsed": true
   },
   "outputs": [],
   "source": []
  },
  {
   "cell_type": "code",
   "execution_count": null,
   "metadata": {
    "collapsed": true
   },
   "outputs": [],
   "source": []
  },
  {
   "cell_type": "code",
   "execution_count": null,
   "metadata": {
    "collapsed": true
   },
   "outputs": [],
   "source": []
  },
  {
   "cell_type": "code",
   "execution_count": null,
   "metadata": {
    "collapsed": true
   },
   "outputs": [],
   "source": []
  },
  {
   "cell_type": "code",
   "execution_count": null,
   "metadata": {
    "collapsed": true
   },
   "outputs": [],
   "source": []
  },
  {
   "cell_type": "code",
   "execution_count": null,
   "metadata": {
    "collapsed": true
   },
   "outputs": [],
   "source": []
  },
  {
   "cell_type": "code",
   "execution_count": null,
   "metadata": {
    "collapsed": true
   },
   "outputs": [],
   "source": []
  },
  {
   "cell_type": "code",
   "execution_count": null,
   "metadata": {
    "collapsed": true
   },
   "outputs": [],
   "source": []
  },
  {
   "cell_type": "code",
   "execution_count": null,
   "metadata": {
    "collapsed": true
   },
   "outputs": [],
   "source": []
  },
  {
   "cell_type": "code",
   "execution_count": null,
   "metadata": {
    "collapsed": true
   },
   "outputs": [],
   "source": []
  },
  {
   "cell_type": "code",
   "execution_count": null,
   "metadata": {
    "collapsed": true
   },
   "outputs": [],
   "source": []
  },
  {
   "cell_type": "code",
   "execution_count": null,
   "metadata": {
    "collapsed": true
   },
   "outputs": [],
   "source": []
  },
  {
   "cell_type": "code",
   "execution_count": null,
   "metadata": {
    "collapsed": true
   },
   "outputs": [],
   "source": []
  },
  {
   "cell_type": "code",
   "execution_count": null,
   "metadata": {
    "collapsed": true
   },
   "outputs": [],
   "source": []
  },
  {
   "cell_type": "code",
   "execution_count": null,
   "metadata": {
    "collapsed": true
   },
   "outputs": [],
   "source": []
  }
 ],
 "metadata": {
  "kernelspec": {
   "display_name": "R",
   "language": "R",
   "name": "ir"
  },
  "language_info": {
   "codemirror_mode": "r",
   "file_extension": ".r",
   "mimetype": "text/x-r-source",
   "name": "R",
   "pygments_lexer": "r",
   "version": "3.3.2"
  }
 },
 "nbformat": 4,
 "nbformat_minor": 2
}
