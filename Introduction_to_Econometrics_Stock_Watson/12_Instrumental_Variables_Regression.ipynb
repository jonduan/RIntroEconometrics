{
 "cells": [
  {
   "cell_type": "code",
   "execution_count": 1,
   "metadata": {
    "ExecuteTime": {
     "end_time": "2018-11-28T23:08:07.815093Z",
     "start_time": "2018-11-28T23:08:06.903Z"
    }
   },
   "outputs": [
    {
     "name": "stderr",
     "output_type": "stream",
     "text": [
      "Loading required package: car\n",
      "Loading required package: carData\n",
      "Loading required package: lmtest\n",
      "Loading required package: zoo\n",
      "\n",
      "Attaching package: 'zoo'\n",
      "\n",
      "The following objects are masked from 'package:base':\n",
      "\n",
      "    as.Date, as.Date.numeric\n",
      "\n",
      "Loading required package: sandwich\n",
      "Loading required package: survival\n",
      "\n",
      "Please cite as: \n",
      "\n",
      " Hlavac, Marek (2018). stargazer: Well-Formatted Regression and Summary Statistics Tables.\n",
      " R package version 5.2.2. https://CRAN.R-project.org/package=stargazer \n",
      "\n"
     ]
    }
   ],
   "source": [
    "library(AER)\n",
    "library(stargazer)"
   ]
  },
  {
   "cell_type": "markdown",
   "metadata": {},
   "source": [
    "Z\n",
    "  must satisfy two conditions to be a valid instrument:\n",
    "\n",
    "1. Instrument relevance condition:\n",
    "\n",
    "X  and its instrument Z must be correlated: \n",
    "\n",
    "$$\\rho_{Z_i,X_i} \\neq 0$$\n",
    "\n",
    "2. Instrument exogeneity condition:\n",
    "\n",
    "The instrument Z  must not be correlated with the error term \n",
    "\n",
    "\n",
    "$$\\rho_{Z_i,u_i} = 0$$"
   ]
  },
  {
   "cell_type": "code",
   "execution_count": 2,
   "metadata": {
    "ExecuteTime": {
     "end_time": "2018-11-28T23:10:07.234619Z",
     "start_time": "2018-11-28T23:10:06.969Z"
    }
   },
   "outputs": [
    {
     "data": {
      "text/plain": [
       "     state      year         cpi          population           packs       \n",
       " AL     : 2   1985:48   Min.   :1.076   Min.   :  478447   Min.   : 49.27  \n",
       " AR     : 2   1995:48   1st Qu.:1.076   1st Qu.: 1622606   1st Qu.: 92.45  \n",
       " AZ     : 2             Median :1.300   Median : 3697472   Median :110.16  \n",
       " CA     : 2             Mean   :1.300   Mean   : 5168866   Mean   :109.18  \n",
       " CO     : 2             3rd Qu.:1.524   3rd Qu.: 5901500   3rd Qu.:123.52  \n",
       " CT     : 2             Max.   :1.524   Max.   :31493524   Max.   :197.99  \n",
       " (Other):84                                                                \n",
       "     income               tax            price             taxs       \n",
       " Min.   :  6887097   Min.   :18.00   Min.   : 84.97   Min.   : 21.27  \n",
       " 1st Qu.: 25520384   1st Qu.:31.00   1st Qu.:102.71   1st Qu.: 34.77  \n",
       " Median : 61661644   Median :37.00   Median :137.72   Median : 41.05  \n",
       " Mean   : 99878736   Mean   :42.68   Mean   :143.45   Mean   : 48.33  \n",
       " 3rd Qu.:127313964   3rd Qu.:50.88   3rd Qu.:176.15   3rd Qu.: 59.48  \n",
       " Max.   :771470144   Max.   :99.00   Max.   :240.85   Max.   :112.63  \n",
       "                                                                      "
      ]
     },
     "metadata": {},
     "output_type": "display_data"
    }
   ],
   "source": [
    "# load the data set and get an overview\n",
    "library(AER)\n",
    "data(\"CigarettesSW\")\n",
    "summary(CigarettesSW)"
   ]
  },
  {
   "cell_type": "markdown",
   "metadata": {},
   "source": [
    "The idea is that  \n",
    "S\n",
    "a\n",
    "l\n",
    "e\n",
    "s\n",
    "T\n",
    "a\n",
    "x\n",
    "  is a relevant instrument as it is included in the after-tax average price per pack. Also, it is plausible that  \n",
    "S\n",
    "a\n",
    "l\n",
    "e\n",
    "s\n",
    "T\n",
    "a\n",
    "x\n",
    "  is exogenous since the sales tax does not influence quantity sold directly but indirectly through the price."
   ]
  },
  {
   "cell_type": "code",
   "execution_count": 3,
   "metadata": {
    "ExecuteTime": {
     "end_time": "2018-11-28T23:11:02.408549Z",
     "start_time": "2018-11-28T23:11:02.372Z"
    }
   },
   "outputs": [
    {
     "data": {
      "text/html": [
       "0.614122837422628"
      ],
      "text/latex": [
       "0.614122837422628"
      ],
      "text/markdown": [
       "0.614122837422628"
      ],
      "text/plain": [
       "[1] 0.6141228"
      ]
     },
     "metadata": {},
     "output_type": "display_data"
    }
   ],
   "source": [
    "# compute real per capita prices\n",
    "CigarettesSW$rprice <- with(CigarettesSW, price / cpi)\n",
    "\n",
    "#  compute the sales tax\n",
    "CigarettesSW$salestax <- with(CigarettesSW, (taxs - tax) / cpi)\n",
    "\n",
    "# check the correlation between sales tax and price\n",
    "cor(CigarettesSW$salestax, CigarettesSW$price)"
   ]
  },
  {
   "cell_type": "code",
   "execution_count": 4,
   "metadata": {
    "ExecuteTime": {
     "end_time": "2018-11-28T23:11:07.877652Z",
     "start_time": "2018-11-28T23:11:07.857Z"
    }
   },
   "outputs": [],
   "source": [
    "# generate a subset for the year 1995\n",
    "c1995 <- subset(CigarettesSW, year == \"1995\")"
   ]
  },
  {
   "cell_type": "code",
   "execution_count": 5,
   "metadata": {
    "ExecuteTime": {
     "end_time": "2018-11-28T23:11:12.217851Z",
     "start_time": "2018-11-28T23:11:12.181Z"
    }
   },
   "outputs": [
    {
     "data": {
      "text/plain": [
       "\n",
       "t test of coefficients:\n",
       "\n",
       "             Estimate Std. Error  t value  Pr(>|t|)    \n",
       "(Intercept) 4.6165463  0.0289177 159.6444 < 2.2e-16 ***\n",
       "salestax    0.0307289  0.0048354   6.3549 8.489e-08 ***\n",
       "---\n",
       "Signif. codes:  0 '***' 0.001 '**' 0.01 '*' 0.05 '.' 0.1 ' ' 1\n"
      ]
     },
     "metadata": {},
     "output_type": "display_data"
    }
   ],
   "source": [
    "# perform the first stage regression\n",
    "cig_s1 <- lm(log(rprice) ~ salestax, data = c1995)\n",
    "\n",
    "coeftest(cig_s1, vcov = vcovHC, type = \"HC1\")"
   ]
  },
  {
   "cell_type": "code",
   "execution_count": 6,
   "metadata": {
    "ExecuteTime": {
     "end_time": "2018-11-28T23:11:17.756770Z",
     "start_time": "2018-11-28T23:11:17.722Z"
    }
   },
   "outputs": [
    {
     "data": {
      "text/html": [
       "0.470996089770569"
      ],
      "text/latex": [
       "0.470996089770569"
      ],
      "text/markdown": [
       "0.470996089770569"
      ],
      "text/plain": [
       "[1] 0.4709961"
      ]
     },
     "metadata": {},
     "output_type": "display_data"
    }
   ],
   "source": [
    "# inspect the R^2 of the first stage regression\n",
    "summary(cig_s1)$r.squared"
   ]
  },
  {
   "cell_type": "code",
   "execution_count": 7,
   "metadata": {
    "ExecuteTime": {
     "end_time": "2018-11-28T23:11:23.247818Z",
     "start_time": "2018-11-28T23:11:23.216Z"
    }
   },
   "outputs": [],
   "source": [
    "# store the predicted values\n",
    "lcigp_pred <- cig_s1$fitted.values"
   ]
  },
  {
   "cell_type": "code",
   "execution_count": 8,
   "metadata": {
    "ExecuteTime": {
     "end_time": "2018-11-28T23:11:28.470552Z",
     "start_time": "2018-11-28T23:11:28.432Z"
    }
   },
   "outputs": [
    {
     "data": {
      "text/plain": [
       "\n",
       "t test of coefficients:\n",
       "\n",
       "            Estimate Std. Error t value  Pr(>|t|)    \n",
       "(Intercept)  9.71988    1.70304  5.7074 7.932e-07 ***\n",
       "lcigp_pred  -1.08359    0.35563 -3.0469  0.003822 ** \n",
       "---\n",
       "Signif. codes:  0 '***' 0.001 '**' 0.01 '*' 0.05 '.' 0.1 ' ' 1\n"
      ]
     },
     "metadata": {},
     "output_type": "display_data"
    }
   ],
   "source": [
    "# run the stage 2 regression\n",
    "cig_s2 <- lm(log(c1995$packs) ~ lcigp_pred)\n",
    "coeftest(cig_s2, vcov = vcovHC)"
   ]
  },
  {
   "cell_type": "code",
   "execution_count": 9,
   "metadata": {
    "ExecuteTime": {
     "end_time": "2018-11-28T23:11:40.194238Z",
     "start_time": "2018-11-28T23:11:40.170Z"
    }
   },
   "outputs": [
    {
     "data": {
      "text/plain": [
       "\n",
       "t test of coefficients:\n",
       "\n",
       "            Estimate Std. Error t value  Pr(>|t|)    \n",
       "(Intercept)  9.71988    1.70304  5.7074 7.932e-07 ***\n",
       "lcigp_pred  -1.08359    0.35563 -3.0469  0.003822 ** \n",
       "---\n",
       "Signif. codes:  0 '***' 0.001 '**' 0.01 '*' 0.05 '.' 0.1 ' ' 1\n"
      ]
     },
     "metadata": {},
     "output_type": "display_data"
    }
   ],
   "source": [
    "coeftest(cig_s2, vcov = vcovHC)"
   ]
  },
  {
   "cell_type": "markdown",
   "metadata": {},
   "source": [
    "The function ivreg() from the package AER carries out TSLS procedure automatically. It is used similarly as lm(). Instruments can be added to the usual specification of the regression formula using a vertical bar separating the model equation from the instruments. Thus, for the regression at hand the correct formula is log(packs) ~ log(rprice) | salestax."
   ]
  },
  {
   "cell_type": "code",
   "execution_count": 10,
   "metadata": {
    "ExecuteTime": {
     "end_time": "2018-11-28T23:12:03.017273Z",
     "start_time": "2018-11-28T23:12:02.974Z"
    }
   },
   "outputs": [
    {
     "data": {
      "text/plain": [
       "\n",
       "t test of coefficients:\n",
       "\n",
       "            Estimate Std. Error t value  Pr(>|t|)    \n",
       "(Intercept)  9.71988    1.52832  6.3598 8.346e-08 ***\n",
       "log(rprice) -1.08359    0.31892 -3.3977  0.001411 ** \n",
       "---\n",
       "Signif. codes:  0 '***' 0.001 '**' 0.01 '*' 0.05 '.' 0.1 ' ' 1\n"
      ]
     },
     "metadata": {},
     "output_type": "display_data"
    }
   ],
   "source": [
    "# perform TSLS using 'ivreg()'\n",
    "cig_ivreg <- ivreg(log(packs) ~ log(rprice) | salestax, data = c1995)\n",
    "\n",
    "coeftest(cig_ivreg, vcov = vcovHC, type = \"HC1\")"
   ]
  },
  {
   "cell_type": "markdown",
   "metadata": {},
   "source": [
    "suggests that an increase in cigarette prices by one percent reduces cigarette consumption by roughly  \n",
    "1.08\n",
    " percentage points, which is fairly elastic. However, we should keep in mind that this estimate might not be trustworthy even though we used IV estimation: there still might be a bias due to omitted variables. Thus a multiple IV regression approach is needed."
   ]
  },
  {
   "cell_type": "code",
   "execution_count": 11,
   "metadata": {
    "ExecuteTime": {
     "end_time": "2018-11-28T23:13:11.151405Z",
     "start_time": "2018-11-28T23:13:11.121Z"
    }
   },
   "outputs": [],
   "source": [
    "# add rincome to the dataset\n",
    "CigarettesSW$rincome <- with(CigarettesSW, income / population / cpi)\n",
    "\n",
    "c1995 <- subset(CigarettesSW, year == \"1995\")"
   ]
  },
  {
   "cell_type": "code",
   "execution_count": 12,
   "metadata": {
    "ExecuteTime": {
     "end_time": "2018-11-28T23:13:19.157614Z",
     "start_time": "2018-11-28T23:13:19.131Z"
    }
   },
   "outputs": [
    {
     "data": {
      "text/plain": [
       "\n",
       "t test of coefficients:\n",
       "\n",
       "             Estimate Std. Error t value  Pr(>|t|)    \n",
       "(Intercept)   9.43066    1.25939  7.4883 1.935e-09 ***\n",
       "log(rprice)  -1.14338    0.37230 -3.0711  0.003611 ** \n",
       "log(rincome)  0.21452    0.31175  0.6881  0.494917    \n",
       "---\n",
       "Signif. codes:  0 '***' 0.001 '**' 0.01 '*' 0.05 '.' 0.1 ' ' 1\n"
      ]
     },
     "metadata": {},
     "output_type": "display_data"
    }
   ],
   "source": [
    "# estimate the model\n",
    "cig_ivreg2 <- ivreg(log(packs) ~ log(rprice) + log(rincome) | log(rincome) + \n",
    "                    salestax, data = c1995)\n",
    "\n",
    "coeftest(cig_ivreg2, vcov = vcovHC, type = \"HC1\")"
   ]
  },
  {
   "cell_type": "code",
   "execution_count": 13,
   "metadata": {
    "ExecuteTime": {
     "end_time": "2018-11-28T23:13:29.153800Z",
     "start_time": "2018-11-28T23:13:29.133Z"
    }
   },
   "outputs": [],
   "source": [
    "# add cigtax to the data set\n",
    "CigarettesSW$cigtax <- with(CigarettesSW, tax/cpi)\n",
    "\n",
    "c1995 <- subset(CigarettesSW, year == \"1995\")"
   ]
  },
  {
   "cell_type": "code",
   "execution_count": 14,
   "metadata": {
    "ExecuteTime": {
     "end_time": "2018-11-28T23:13:40.178338Z",
     "start_time": "2018-11-28T23:13:40.142Z"
    }
   },
   "outputs": [
    {
     "data": {
      "text/plain": [
       "\n",
       "t test of coefficients:\n",
       "\n",
       "             Estimate Std. Error t value  Pr(>|t|)    \n",
       "(Intercept)   9.89496    0.95922 10.3157 1.947e-13 ***\n",
       "log(rprice)  -1.27742    0.24961 -5.1177 6.211e-06 ***\n",
       "log(rincome)  0.28040    0.25389  1.1044    0.2753    \n",
       "---\n",
       "Signif. codes:  0 '***' 0.001 '**' 0.01 '*' 0.05 '.' 0.1 ' ' 1\n"
      ]
     },
     "metadata": {},
     "output_type": "display_data"
    }
   ],
   "source": [
    "# estimate the model\n",
    "cig_ivreg3 <- ivreg(log(packs) ~ log(rprice) + log(rincome) | \n",
    "                    log(rincome) + salestax + cigtax, data = c1995)\n",
    "\n",
    "coeftest(cig_ivreg3, vcov = vcovHC, type = \"HC1\")"
   ]
  },
  {
   "cell_type": "code",
   "execution_count": 17,
   "metadata": {
    "ExecuteTime": {
     "end_time": "2018-11-28T23:15:40.458952Z",
     "start_time": "2018-11-28T23:15:40.417Z"
    }
   },
   "outputs": [
    {
     "data": {
      "text/plain": [
       "\n",
       "t test of coefficients:\n",
       "\n",
       "             Estimate Std. Error t value  Pr(>|t|)    \n",
       "(Intercept)   9.89496    0.95922 10.3157 1.947e-13 ***\n",
       "log(rprice)  -1.27742    0.24961 -5.1177 6.211e-06 ***\n",
       "log(rincome)  0.28040    0.25389  1.1044    0.2753    \n",
       "---\n",
       "Signif. codes:  0 '***' 0.001 '**' 0.01 '*' 0.05 '.' 0.1 ' ' 1\n"
      ]
     },
     "metadata": {},
     "output_type": "display_data"
    }
   ],
   "source": [
    "# estimate the model\n",
    "cig_ivreg3 <- ivreg(log(packs) ~ log(rprice) + log(rincome) | \n",
    "                   .-log(rprice) + salestax + cigtax, data = c1995)\n",
    "\n",
    "coeftest(cig_ivreg3, vcov = vcovHC, type = \"HC1\")"
   ]
  },
  {
   "cell_type": "code",
   "execution_count": null,
   "metadata": {},
   "outputs": [],
   "source": []
  },
  {
   "cell_type": "code",
   "execution_count": 18,
   "metadata": {
    "ExecuteTime": {
     "end_time": "2018-11-28T23:44:36.748165Z",
     "start_time": "2018-11-28T23:44:36.709Z"
    }
   },
   "outputs": [],
   "source": [
    "# subset data for year 1985\n",
    "c1985 <- subset(CigarettesSW, year == \"1985\")\n",
    "\n",
    "# define differences in variables\n",
    "packsdiff <- log(c1995$packs) - log(c1985$packs)\n",
    "\n",
    "pricediff <- log(c1995$price/c1995$cpi) - log(c1985$price/c1985$cpi)\n",
    "\n",
    "incomediff <- log(c1995$income/c1995$population/c1995$cpi) -\n",
    "log(c1985$income/c1985$population/c1985$cpi)\n",
    "\n",
    "salestaxdiff <- (c1995$taxs - c1995$tax)/c1995$cpi - (c1985$taxs - c1985$tax)/c1985$cpi\n",
    "\n",
    "cigtaxdiff <- c1995$tax/c1995$cpi - c1985$tax/c1985$cpi"
   ]
  },
  {
   "cell_type": "code",
   "execution_count": 19,
   "metadata": {
    "ExecuteTime": {
     "end_time": "2018-11-28T23:57:48.079242Z",
     "start_time": "2018-11-28T23:57:47.998Z"
    }
   },
   "outputs": [],
   "source": [
    "# estimate the three models\n",
    "cig_ivreg_diff1 <- ivreg(packsdiff ~ pricediff + incomediff | incomediff + \n",
    "                         salestaxdiff)\n",
    "\n",
    "cig_ivreg_diff2 <- ivreg(packsdiff ~ pricediff + incomediff | incomediff + \n",
    "                         cigtaxdiff)\n",
    "\n",
    "cig_ivreg_diff3 <- ivreg(packsdiff ~ pricediff + incomediff | incomediff + \n",
    "                         salestaxdiff + cigtaxdiff)"
   ]
  },
  {
   "cell_type": "code",
   "execution_count": 21,
   "metadata": {
    "ExecuteTime": {
     "end_time": "2018-11-29T00:40:47.552583Z",
     "start_time": "2018-11-29T00:40:47.387Z"
    }
   },
   "outputs": [
    {
     "data": {
      "text/plain": [
       "\n",
       "t test of coefficients:\n",
       "\n",
       "             Estimate Std. Error t value  Pr(>|t|)    \n",
       "(Intercept) -0.117962   0.068217 -1.7292   0.09062 .  \n",
       "pricediff   -0.938014   0.207502 -4.5205 4.454e-05 ***\n",
       "incomediff   0.525970   0.339494  1.5493   0.12832    \n",
       "---\n",
       "Signif. codes:  0 '***' 0.001 '**' 0.01 '*' 0.05 '.' 0.1 ' ' 1\n"
      ]
     },
     "metadata": {},
     "output_type": "display_data"
    }
   ],
   "source": [
    "# robust coefficient summary for 1.\n",
    "coeftest(cig_ivreg_diff1, vcov = vcovHC, type = \"HC1\")"
   ]
  },
  {
   "cell_type": "code",
   "execution_count": 22,
   "metadata": {
    "ExecuteTime": {
     "end_time": "2018-11-29T00:40:56.586074Z",
     "start_time": "2018-11-29T00:40:56.550Z"
    }
   },
   "outputs": [
    {
     "data": {
      "text/plain": [
       "\n",
       "t test of coefficients:\n",
       "\n",
       "             Estimate Std. Error t value  Pr(>|t|)    \n",
       "(Intercept) -0.017049   0.067217 -0.2536    0.8009    \n",
       "pricediff   -1.342515   0.228661 -5.8712 4.848e-07 ***\n",
       "incomediff   0.428146   0.298718  1.4333    0.1587    \n",
       "---\n",
       "Signif. codes:  0 '***' 0.001 '**' 0.01 '*' 0.05 '.' 0.1 ' ' 1\n"
      ]
     },
     "metadata": {},
     "output_type": "display_data"
    }
   ],
   "source": [
    "# robust coefficient summary for 2.\n",
    "coeftest(cig_ivreg_diff2, vcov = vcovHC, type = \"HC1\")"
   ]
  },
  {
   "cell_type": "code",
   "execution_count": 23,
   "metadata": {
    "ExecuteTime": {
     "end_time": "2018-11-29T00:41:05.060658Z",
     "start_time": "2018-11-29T00:41:05.021Z"
    }
   },
   "outputs": [
    {
     "data": {
      "text/plain": [
       "\n",
       "t test of coefficients:\n",
       "\n",
       "             Estimate Std. Error t value  Pr(>|t|)    \n",
       "(Intercept) -0.052003   0.062488 -0.8322    0.4097    \n",
       "pricediff   -1.202403   0.196943 -6.1053 2.178e-07 ***\n",
       "incomediff   0.462030   0.309341  1.4936    0.1423    \n",
       "---\n",
       "Signif. codes:  0 '***' 0.001 '**' 0.01 '*' 0.05 '.' 0.1 ' ' 1\n"
      ]
     },
     "metadata": {},
     "output_type": "display_data"
    }
   ],
   "source": [
    "# robust coefficient summary for 3.\n",
    "coeftest(cig_ivreg_diff3, vcov = vcovHC, type = \"HC1\")"
   ]
  },
  {
   "cell_type": "code",
   "execution_count": 24,
   "metadata": {
    "ExecuteTime": {
     "end_time": "2018-11-29T00:41:29.655948Z",
     "start_time": "2018-11-29T00:41:29.170Z"
    }
   },
   "outputs": [
    {
     "name": "stdout",
     "output_type": "stream",
     "text": [
      "\n",
      "<table style=\"text-align:center\"><tr><td colspan=\"4\" style=\"border-bottom: 1px solid black\"></td></tr><tr><td style=\"text-align:left\"></td><td colspan=\"3\">Dependent Variable: 1985-1995 Difference in Log per Pack Price</td></tr>\n",
      "<tr><td></td><td colspan=\"3\" style=\"border-bottom: 1px solid black\"></td></tr>\n",
      "<tr><td style=\"text-align:left\"></td><td>IV: salestax</td><td>IV: cigtax</td><td>IVs: salestax, cigtax</td></tr>\n",
      "<tr><td style=\"text-align:left\"></td><td>(1)</td><td>(2)</td><td>(3)</td></tr>\n",
      "<tr><td colspan=\"4\" style=\"border-bottom: 1px solid black\"></td></tr><tr><td style=\"text-align:left\">pricediff</td><td>-0.938<sup>***</sup></td><td>-1.343<sup>***</sup></td><td>-1.202<sup>***</sup></td></tr>\n",
      "<tr><td style=\"text-align:left\"></td><td>(0.208)</td><td>(0.229)</td><td>(0.197)</td></tr>\n",
      "<tr><td style=\"text-align:left\"></td><td></td><td></td><td></td></tr>\n",
      "<tr><td style=\"text-align:left\">incomediff</td><td>0.526</td><td>0.428</td><td>0.462</td></tr>\n",
      "<tr><td style=\"text-align:left\"></td><td>(0.339)</td><td>(0.299)</td><td>(0.309)</td></tr>\n",
      "<tr><td style=\"text-align:left\"></td><td></td><td></td><td></td></tr>\n",
      "<tr><td style=\"text-align:left\">Constant</td><td>-0.118<sup>*</sup></td><td>-0.017</td><td>-0.052</td></tr>\n",
      "<tr><td style=\"text-align:left\"></td><td>(0.068)</td><td>(0.067)</td><td>(0.062)</td></tr>\n",
      "<tr><td style=\"text-align:left\"></td><td></td><td></td><td></td></tr>\n",
      "<tr><td colspan=\"4\" style=\"border-bottom: 1px solid black\"></td></tr><tr><td style=\"text-align:left\">Observations</td><td>48</td><td>48</td><td>48</td></tr>\n",
      "<tr><td style=\"text-align:left\">R<sup>2</sup></td><td>0.550</td><td>0.520</td><td>0.547</td></tr>\n",
      "<tr><td style=\"text-align:left\">Adjusted R<sup>2</sup></td><td>0.530</td><td>0.498</td><td>0.526</td></tr>\n",
      "<tr><td style=\"text-align:left\">Residual Std. Error (df = 45)</td><td>0.091</td><td>0.094</td><td>0.091</td></tr>\n",
      "<tr><td colspan=\"4\" style=\"border-bottom: 1px solid black\"></td></tr></table>\n"
     ]
    }
   ],
   "source": [
    "# gather robust standard errors in a list\n",
    "rob_se <- list(sqrt(diag(vcovHC(cig_ivreg_diff1, type = \"HC1\"))),\n",
    "               sqrt(diag(vcovHC(cig_ivreg_diff2, type = \"HC1\"))),\n",
    "               sqrt(diag(vcovHC(cig_ivreg_diff3, type = \"HC1\"))))\n",
    "\n",
    "# generate table\n",
    "stargazer(cig_ivreg_diff1, cig_ivreg_diff2,cig_ivreg_diff3,\n",
    "  header = FALSE, \n",
    "  type = \"html\",\n",
    "  omit.table.layout = \"n\",\n",
    "  digits = 3, \n",
    "  column.labels = c(\"IV: salestax\", \"IV: cigtax\", \"IVs: salestax, cigtax\"),\n",
    "  dep.var.labels.include = FALSE,\n",
    "  dep.var.caption = \"Dependent Variable: 1985-1995 Difference in Log per Pack Price\",\n",
    "  se = rob_se)"
   ]
  },
  {
   "cell_type": "markdown",
   "metadata": {},
   "source": [
    "This hinges on the validity of the instruments used. To assess this we compute  \n",
    "F\n",
    " -statistics for the first-stage regressions of all three models to check instrument relevance."
   ]
  },
  {
   "cell_type": "code",
   "execution_count": null,
   "metadata": {},
   "outputs": [],
   "source": []
  },
  {
   "cell_type": "code",
   "execution_count": 25,
   "metadata": {
    "ExecuteTime": {
     "end_time": "2018-11-29T00:43:21.547246Z",
     "start_time": "2018-11-29T00:43:21.519Z"
    }
   },
   "outputs": [],
   "source": [
    "# first-stage regressions\n",
    "mod_relevance1 <- lm(pricediff ~ salestaxdiff + incomediff)\n",
    "mod_relevance2 <- lm(pricediff ~ cigtaxdiff + incomediff)\n",
    "mod_relevance3 <- lm(pricediff ~ incomediff + salestaxdiff + cigtaxdiff)"
   ]
  },
  {
   "cell_type": "code",
   "execution_count": 26,
   "metadata": {
    "ExecuteTime": {
     "end_time": "2018-11-29T00:43:34.520761Z",
     "start_time": "2018-11-29T00:43:34.473Z"
    }
   },
   "outputs": [
    {
     "data": {
      "text/html": [
       "<table>\n",
       "<thead><tr><th scope=col>Res.Df</th><th scope=col>Df</th><th scope=col>F</th><th scope=col>Pr(&gt;F)</th></tr></thead>\n",
       "<tbody>\n",
       "\t<tr><td>46          </td><td>NA          </td><td>     NA     </td><td>          NA</td></tr>\n",
       "\t<tr><td>45          </td><td> 1          </td><td>28.4455     </td><td>3.008616e-06</td></tr>\n",
       "</tbody>\n",
       "</table>\n"
      ],
      "text/latex": [
       "\\begin{tabular}{r|llll}\n",
       " Res.Df & Df & F & Pr(>F)\\\\\n",
       "\\hline\n",
       "\t 46           & NA           &      NA      &           NA\\\\\n",
       "\t 45           &  1           & 28.4455      & 3.008616e-06\\\\\n",
       "\\end{tabular}\n"
      ],
      "text/markdown": [
       "\n",
       "Res.Df | Df | F | Pr(>F) | \n",
       "|---|---|\n",
       "| 46           | NA           |      NA      |           NA | \n",
       "| 45           |  1           | 28.4455      | 3.008616e-06 | \n",
       "\n",
       "\n"
      ],
      "text/plain": [
       "  Res.Df Df F       Pr(>F)      \n",
       "1 46     NA      NA           NA\n",
       "2 45      1 28.4455 3.008616e-06"
      ]
     },
     "metadata": {},
     "output_type": "display_data"
    }
   ],
   "source": [
    "# check instrument relevance for model (1)\n",
    "linearHypothesis(mod_relevance1, \n",
    "                 \"salestaxdiff = 0\", \n",
    "                 vcov = vcovHC, type = \"HC1\")"
   ]
  },
  {
   "cell_type": "code",
   "execution_count": 27,
   "metadata": {
    "ExecuteTime": {
     "end_time": "2018-11-29T00:44:23.177447Z",
     "start_time": "2018-11-29T00:44:23.153Z"
    }
   },
   "outputs": [
    {
     "data": {
      "text/html": [
       "<table>\n",
       "<thead><tr><th scope=col>Res.Df</th><th scope=col>Df</th><th scope=col>F</th><th scope=col>Pr(&gt;F)</th></tr></thead>\n",
       "<tbody>\n",
       "\t<tr><td>46          </td><td>NA          </td><td>      NA    </td><td>          NA</td></tr>\n",
       "\t<tr><td>45          </td><td> 1          </td><td>98.03443    </td><td>7.090439e-13</td></tr>\n",
       "</tbody>\n",
       "</table>\n"
      ],
      "text/latex": [
       "\\begin{tabular}{r|llll}\n",
       " Res.Df & Df & F & Pr(>F)\\\\\n",
       "\\hline\n",
       "\t 46           & NA           &       NA     &           NA\\\\\n",
       "\t 45           &  1           & 98.03443     & 7.090439e-13\\\\\n",
       "\\end{tabular}\n"
      ],
      "text/markdown": [
       "\n",
       "Res.Df | Df | F | Pr(>F) | \n",
       "|---|---|\n",
       "| 46           | NA           |       NA     |           NA | \n",
       "| 45           |  1           | 98.03443     | 7.090439e-13 | \n",
       "\n",
       "\n"
      ],
      "text/plain": [
       "  Res.Df Df F        Pr(>F)      \n",
       "1 46     NA       NA           NA\n",
       "2 45      1 98.03443 7.090439e-13"
      ]
     },
     "metadata": {},
     "output_type": "display_data"
    }
   ],
   "source": [
    "# check instrument relevance for model (2)\n",
    "linearHypothesis(mod_relevance2, \n",
    "                 \"cigtaxdiff = 0\", \n",
    "                 vcov = vcovHC, type = \"HC1\")"
   ]
  },
  {
   "cell_type": "code",
   "execution_count": 28,
   "metadata": {
    "ExecuteTime": {
     "end_time": "2018-11-29T00:44:31.236042Z",
     "start_time": "2018-11-29T00:44:31.210Z"
    }
   },
   "outputs": [
    {
     "data": {
      "text/html": [
       "<table>\n",
       "<thead><tr><th scope=col>Res.Df</th><th scope=col>Df</th><th scope=col>F</th><th scope=col>Pr(&gt;F)</th></tr></thead>\n",
       "<tbody>\n",
       "\t<tr><td>46          </td><td>NA          </td><td>      NA    </td><td>          NA</td></tr>\n",
       "\t<tr><td>44          </td><td> 2          </td><td>76.91646    </td><td>4.339013e-15</td></tr>\n",
       "</tbody>\n",
       "</table>\n"
      ],
      "text/latex": [
       "\\begin{tabular}{r|llll}\n",
       " Res.Df & Df & F & Pr(>F)\\\\\n",
       "\\hline\n",
       "\t 46           & NA           &       NA     &           NA\\\\\n",
       "\t 44           &  2           & 76.91646     & 4.339013e-15\\\\\n",
       "\\end{tabular}\n"
      ],
      "text/markdown": [
       "\n",
       "Res.Df | Df | F | Pr(>F) | \n",
       "|---|---|\n",
       "| 46           | NA           |       NA     |           NA | \n",
       "| 44           |  2           | 76.91646     | 4.339013e-15 | \n",
       "\n",
       "\n"
      ],
      "text/plain": [
       "  Res.Df Df F        Pr(>F)      \n",
       "1 46     NA       NA           NA\n",
       "2 44      2 76.91646 4.339013e-15"
      ]
     },
     "metadata": {},
     "output_type": "display_data"
    }
   ],
   "source": [
    "# check instrument relevance for model (3)\n",
    "linearHypothesis(mod_relevance3, \n",
    "                 c(\"salestaxdiff = 0\", \"cigtaxdiff = 0\"), \n",
    "                 vcov = vcovHC, type = \"HC1\")"
   ]
  },
  {
   "cell_type": "markdown",
   "metadata": {},
   "source": [
    "also conduct the overidentifying restrictions test for model three which is the only model where the coefficient on the difference in log prices is overidentified (  ) such that the  J -statistic can be computed. To do this we take the residuals stored in cig_ivreg_diff3 and regress them on both instruments and the presumably exogenous regressor incomediff. We again use linearHypothesis() to test whether the coefficients on both instruments are zero which is necessary for the exogeneity assumption to be fulfilled. Note that with test = “Chisq” we obtain a chi-squared distributed test statistic instead of an  \n",
    "F -statistic."
   ]
  },
  {
   "cell_type": "code",
   "execution_count": 29,
   "metadata": {
    "ExecuteTime": {
     "end_time": "2018-11-29T00:45:19.793340Z",
     "start_time": "2018-11-29T00:45:19.734Z"
    }
   },
   "outputs": [
    {
     "data": {
      "text/html": [
       "<table>\n",
       "<thead><tr><th scope=col>Res.Df</th><th scope=col>RSS</th><th scope=col>Df</th><th scope=col>Sum of Sq</th><th scope=col>Chisq</th><th scope=col>Pr(&gt;Chisq)</th></tr></thead>\n",
       "<tbody>\n",
       "\t<tr><td>46        </td><td>0.3747215 </td><td>NA        </td><td>        NA</td><td>      NA  </td><td>        NA</td></tr>\n",
       "\t<tr><td>44        </td><td>0.3369523 </td><td> 2        </td><td>0.03776915</td><td>4.931982  </td><td>0.08492463</td></tr>\n",
       "</tbody>\n",
       "</table>\n"
      ],
      "text/latex": [
       "\\begin{tabular}{r|llllll}\n",
       " Res.Df & RSS & Df & Sum of Sq & Chisq & Pr(>Chisq)\\\\\n",
       "\\hline\n",
       "\t 46         & 0.3747215  & NA         &         NA &       NA   &         NA\\\\\n",
       "\t 44         & 0.3369523  &  2         & 0.03776915 & 4.931982   & 0.08492463\\\\\n",
       "\\end{tabular}\n"
      ],
      "text/markdown": [
       "\n",
       "Res.Df | RSS | Df | Sum of Sq | Chisq | Pr(>Chisq) | \n",
       "|---|---|\n",
       "| 46         | 0.3747215  | NA         |         NA |       NA   |         NA | \n",
       "| 44         | 0.3369523  |  2         | 0.03776915 | 4.931982   | 0.08492463 | \n",
       "\n",
       "\n"
      ],
      "text/plain": [
       "  Res.Df RSS       Df Sum of Sq  Chisq    Pr(>Chisq)\n",
       "1 46     0.3747215 NA         NA       NA         NA\n",
       "2 44     0.3369523  2 0.03776915 4.931982 0.08492463"
      ]
     },
     "metadata": {},
     "output_type": "display_data"
    }
   ],
   "source": [
    "# compute the J-statistic\n",
    "cig_iv_OR <- lm(residuals(cig_ivreg_diff3) ~ incomediff + salestaxdiff + cigtaxdiff)\n",
    "\n",
    "cig_OR_test <- linearHypothesis(cig_iv_OR, \n",
    "                               c(\"salestaxdiff = 0\", \"cigtaxdiff = 0\"), \n",
    "                               test = \"Chisq\")\n",
    "cig_OR_test"
   ]
  },
  {
   "cell_type": "markdown",
   "metadata": {},
   "source": [
    "Caution: In this case the  p -Value reported by linearHypothesis() is wrong because the degrees of freedom are set to  \n",
    "2 . This differs from the degree of overidentification (  ) so the  J -statistic is  χ21  distributed instead of following a  \n",
    "χ22  distribution as assumed defaultly by linearHypothesis(). We may compute the correct  p -Value using pchisq()."
   ]
  },
  {
   "cell_type": "code",
   "execution_count": 30,
   "metadata": {
    "ExecuteTime": {
     "end_time": "2018-11-29T00:46:38.519264Z",
     "start_time": "2018-11-29T00:46:38.479Z"
    }
   },
   "outputs": [
    {
     "data": {
      "text/html": [
       "0.0263640604020867"
      ],
      "text/latex": [
       "0.0263640604020867"
      ],
      "text/markdown": [
       "0.0263640604020867"
      ],
      "text/plain": [
       "[1] 0.02636406"
      ]
     },
     "metadata": {},
     "output_type": "display_data"
    }
   ],
   "source": [
    "# compute correct p-value for J-statistic\n",
    "pchisq(cig_OR_test[2, 5], df = 1, lower.tail = FALSE)"
   ]
  },
  {
   "cell_type": "markdown",
   "metadata": {},
   "source": [
    "Since this value is smaller than  \n",
    "0.05\n",
    "  we reject the hypothesis that both instruments are exogenous at the level of  \n",
    "5\n",
    "%\n",
    " . This means one of the following:\n",
    "\n",
    "The sales tax is an invalid instrument for the per-pack price.\n",
    "The cigarettes-specific sales tax is an invalid instrument for the per-pack price.\n",
    "Both instruments are invalid.\n",
    "The book argues that the assumption of instrument exogeneity is more likely to hold for the general sales tax (see Chapter 12.4 of the book) such that the IV estimate of the long-run elasticity of demand for cigarettes we consider the most trustworthy is  \n",
    "−\n",
    "0.94\n",
    " , the TSLS estimate obtained using the general sales tax as the only instrument.\n",
    "\n",
    "The interpretation of this estimate is that over a 10-year period, an increase in the average price per package by one percent is expected to decrease consumption by about  \n",
    "0.94\n",
    "  percentage points. This suggests that, in the long run, price increases can reduce cigarette consumption considerably."
   ]
  },
  {
   "cell_type": "code",
   "execution_count": null,
   "metadata": {},
   "outputs": [],
   "source": []
  },
  {
   "cell_type": "code",
   "execution_count": null,
   "metadata": {},
   "outputs": [],
   "source": []
  },
  {
   "cell_type": "code",
   "execution_count": null,
   "metadata": {},
   "outputs": [],
   "source": []
  }
 ],
 "metadata": {
  "kernelspec": {
   "display_name": "R",
   "language": "R",
   "name": "ir"
  },
  "language_info": {
   "codemirror_mode": "r",
   "file_extension": ".r",
   "mimetype": "text/x-r-source",
   "name": "R",
   "pygments_lexer": "r",
   "version": "3.5.1"
  }
 },
 "nbformat": 4,
 "nbformat_minor": 2
}
