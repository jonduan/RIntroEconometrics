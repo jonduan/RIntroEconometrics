{
 "cells": [
  {
   "cell_type": "code",
   "execution_count": 3,
   "metadata": {
    "ExecuteTime": {
     "end_time": "2018-11-29T01:04:29.865679Z",
     "start_time": "2018-11-29T01:04:27.937Z"
    }
   },
   "outputs": [
    {
     "name": "stderr",
     "output_type": "stream",
     "text": [
      "\n",
      "Please cite as: \n",
      "\n",
      " Hlavac, Marek (2018). stargazer: Well-Formatted Regression and Summary Statistics Tables.\n",
      " R package version 5.2.2. https://CRAN.R-project.org/package=stargazer \n",
      "\n",
      "Loading required package: xts\n",
      "Loading required package: TTR\n",
      "Version 0.4-0 included new data defaults. See ?getSymbols.\n"
     ]
    }
   ],
   "source": [
    "library(AER)\n",
    "library(dynlm)\n",
    "library(forecast)\n",
    "library(readxl)\n",
    "library(stargazer)\n",
    "library(scales)\n",
    "library(quantmod)\n",
    "library(urca)"
   ]
  },
  {
   "cell_type": "code",
   "execution_count": 4,
   "metadata": {
    "ExecuteTime": {
     "end_time": "2018-11-29T01:04:39.010183Z",
     "start_time": "2018-11-29T01:04:38.988Z"
    }
   },
   "outputs": [],
   "source": [
    "# install.packages(\"dynlm\")"
   ]
  },
  {
   "cell_type": "code",
   "execution_count": 5,
   "metadata": {
    "ExecuteTime": {
     "end_time": "2018-11-29T01:11:37.100325Z",
     "start_time": "2018-11-29T01:11:37.033Z"
    }
   },
   "outputs": [
    {
     "data": {
      "text/plain": [
       "\n",
       "Call:\n",
       "lm(formula = score ~ STR, data = CASchools)\n",
       "\n",
       "Coefficients:\n",
       "(Intercept)          STR  \n",
       "     698.93        -2.28  \n"
      ]
     },
     "metadata": {},
     "output_type": "display_data"
    }
   ],
   "source": [
    "library(AER)\n",
    "data(CASchools)   \n",
    "CASchools$STR <- CASchools$students/CASchools$teachers       \n",
    "CASchools$score <- (CASchools$read + CASchools$math)/2\n",
    "\n",
    "mod <- lm(score ~ STR, data = CASchools)\n",
    "mod"
   ]
  },
  {
   "cell_type": "code",
   "execution_count": 6,
   "metadata": {
    "ExecuteTime": {
     "end_time": "2018-11-29T01:11:58.050334Z",
     "start_time": "2018-11-29T01:11:58.028Z"
    }
   },
   "outputs": [
    {
     "data": {
      "text/html": [
       "<strong>1:</strong> 641.937745773376"
      ],
      "text/latex": [
       "\\textbf{1:} 641.937745773376"
      ],
      "text/markdown": [
       "**1:** 641.937745773376"
      ],
      "text/plain": [
       "       1 \n",
       "641.9377 "
      ]
     },
     "metadata": {},
     "output_type": "display_data"
    }
   ],
   "source": [
    "predict(mod, newdata = data.frame(\"STR\" = 25))"
   ]
  },
  {
   "cell_type": "code",
   "execution_count": 7,
   "metadata": {
    "ExecuteTime": {
     "end_time": "2018-11-29T01:46:40.151575Z",
     "start_time": "2018-11-29T01:46:40.131Z"
    }
   },
   "outputs": [],
   "source": [
    "# attach the package 'quantmod'\n",
    "library(quantmod)"
   ]
  },
  {
   "cell_type": "markdown",
   "metadata": {},
   "source": [
    "https://www.princeton.edu/~mwatson/Stock-Watson_3u/Students/Stock-Watson-EmpiricalExercises-DataSets.htm\n",
    "\n"
   ]
  },
  {
   "cell_type": "code",
   "execution_count": 10,
   "metadata": {
    "ExecuteTime": {
     "end_time": "2018-11-29T01:51:59.982871Z",
     "start_time": "2018-11-29T01:51:59.915Z"
    }
   },
   "outputs": [],
   "source": [
    "# load US macroeconomic data\n",
    "USMacroSWQ <- read_xlsx(\"data/us_macro_quarterly.xlsx\",\n",
    "                         sheet = 1,\n",
    "                         col_types = c(\"text\", rep(\"numeric\", 9)))\n",
    "\n",
    "# format date column\n",
    "USMacroSWQ$X__1 <- as.yearqtr(USMacroSWQ$X__1, format = \"%Y:0%q\")\n",
    "\n",
    "# adjust column names\n",
    "colnames(USMacroSWQ) <- c(\"Date\", \"GDPC96\", \"JAPAN_IP\", \"PCECTPI\", \n",
    "                          \"GS10\", \"GS1\", \"TB3MS\", \"UNRATE\", \"EXUSUK\", \"CPIAUCSL\")"
   ]
  },
  {
   "cell_type": "markdown",
   "metadata": {},
   "source": [
    "between Yt  and Yt−1 .\n",
    "\n",
    "The definitions made in Key Concept 14.1 are useful because of two properties that are common to many economic time series:\n",
    "\n",
    "Exponential growth: some economic series grow approximately exponentially such that their logarithm is approximately linear.\n",
    "\n",
    "The standard deviation of many economic time series is approximately proportional to their level. Therefore, the standard deviation of the logarithm of such a series is approximately constant.\n",
    "\n",
    "\n",
    "Furthermore, it is common to report growth rates in macroeconomic series which is why  \n",
    "log\n",
    " -differences are often used."
   ]
  },
  {
   "cell_type": "code",
   "execution_count": 11,
   "metadata": {
    "ExecuteTime": {
     "end_time": "2018-11-29T01:53:10.821937Z",
     "start_time": "2018-11-29T01:53:10.760Z"
    }
   },
   "outputs": [],
   "source": [
    "# GDP series as xts object\n",
    "GDP <- xts(USMacroSWQ$GDPC96, USMacroSWQ$Date)[\"1960::2013\"]\n",
    "\n",
    "# GDP growth series as xts object\n",
    "GDPGrowth <- xts(400 * log(GDP/lag(GDP))) # It may be convenient to work with the first difference in logarithms of a series. "
   ]
  },
  {
   "cell_type": "code",
   "execution_count": 12,
   "metadata": {
    "ExecuteTime": {
     "end_time": "2018-11-29T01:53:43.796030Z",
     "start_time": "2018-11-29T01:53:43.681Z"
    }
   },
   "outputs": [
    {
     "data": {
      "image/png": "[encoded data removed]",
      "text/plain": [
       "Plot with title \"U.S. Quarterly Real GDP\""
      ]
     },
     "metadata": {},
     "output_type": "display_data"
    }
   ],
   "source": [
    "# reproduce Figure 14.1 (a) of the book\n",
    "plot(log(as.zoo(GDP)),\n",
    "     col = \"steelblue\",\n",
    "     lwd = 2,\n",
    "     ylab = \"Logarithm\",\n",
    "     xlab = \"Date\",\n",
    "     main = \"U.S. Quarterly Real GDP\")"
   ]
  },
  {
   "cell_type": "code",
   "execution_count": 13,
   "metadata": {
    "ExecuteTime": {
     "end_time": "2018-11-29T01:53:51.659379Z",
     "start_time": "2018-11-29T01:53:51.599Z"
    }
   },
   "outputs": [
    {
     "data": {
      "image/png": "[encoded data removed]",
      "text/plain": [
       "Plot with title \"U.S. Real GDP Growth Rates\""
      ]
     },
     "metadata": {},
     "output_type": "display_data"
    }
   ],
   "source": [
    "# reproduce Figure 14.1 (b) of the book\n",
    "plot(as.zoo(GDPGrowth),\n",
    "     col = \"steelblue\",\n",
    "     lwd = 2,\n",
    "     ylab = \"Logarithm\",\n",
    "     xlab = \"Date\",\n",
    "     main = \"U.S. Real GDP Growth Rates\")"
   ]
  },
  {
   "cell_type": "code",
   "execution_count": null,
   "metadata": {},
   "outputs": [],
   "source": []
  },
  {
   "cell_type": "code",
   "execution_count": null,
   "metadata": {},
   "outputs": [],
   "source": []
  },
  {
   "cell_type": "code",
   "execution_count": null,
   "metadata": {},
   "outputs": [],
   "source": []
  }
 ],
 "metadata": {
  "kernelspec": {
   "display_name": "R",
   "language": "R",
   "name": "ir"
  },
  "language_info": {
   "codemirror_mode": "r",
   "file_extension": ".r",
   "mimetype": "text/x-r-source",
   "name": "R",
   "pygments_lexer": "r",
   "version": "3.5.1"
  }
 },
 "nbformat": 4,
 "nbformat_minor": 2
}
