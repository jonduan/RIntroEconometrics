{
 "cells": [
  {
   "cell_type": "markdown",
   "metadata": {},
   "source": [
    "\n",
    "\n",
    "\n",
    "https://www.econometrics-with-r.org/10-1-panel-data.html"
   ]
  },
  {
   "cell_type": "code",
   "execution_count": 2,
   "metadata": {
    "ExecuteTime": {
     "end_time": "2018-11-28T21:57:00.395285Z",
     "start_time": "2018-11-28T21:56:38.693Z"
    }
   },
   "outputs": [
    {
     "name": "stderr",
     "output_type": "stream",
     "text": [
      "Installing package into 'C:/Users/oldyu/R/win-library/3.5'\n",
      "(as 'lib' is unspecified)\n"
     ]
    },
    {
     "name": "stdout",
     "output_type": "stream",
     "text": [
      "package 'plm' successfully unpacked and MD5 sums checked\n",
      "\n",
      "The downloaded binary packages are in\n",
      "\tC:\\Users\\oldyu\\AppData\\Local\\Temp\\RtmpYXkwGS\\downloaded_packages\n"
     ]
    }
   ],
   "source": [
    "install.packages(\"plm\")"
   ]
  },
  {
   "cell_type": "code",
   "execution_count": 3,
   "metadata": {
    "ExecuteTime": {
     "end_time": "2018-11-28T21:57:03.092534Z",
     "start_time": "2018-11-28T21:57:02.678Z"
    }
   },
   "outputs": [
    {
     "name": "stderr",
     "output_type": "stream",
     "text": [
      "Loading required package: Formula\n",
      "\n",
      "Please cite as: \n",
      "\n",
      " Hlavac, Marek (2018). stargazer: Well-Formatted Regression and Summary Statistics Tables.\n",
      " R package version 5.2.2. https://CRAN.R-project.org/package=stargazer \n",
      "\n"
     ]
    }
   ],
   "source": [
    "library(AER)\n",
    "library(plm)\n",
    "library(stargazer)"
   ]
  },
  {
   "cell_type": "code",
   "execution_count": 4,
   "metadata": {
    "ExecuteTime": {
     "end_time": "2018-11-28T21:57:09.327033Z",
     "start_time": "2018-11-28T21:57:09.262Z"
    }
   },
   "outputs": [],
   "source": [
    "# load the package and the dataset\n",
    "library(AER)\n",
    "data(Fatalities)"
   ]
  },
  {
   "cell_type": "code",
   "execution_count": 5,
   "metadata": {
    "ExecuteTime": {
     "end_time": "2018-11-28T21:57:17.404678Z",
     "start_time": "2018-11-28T21:57:17.383Z"
    }
   },
   "outputs": [
    {
     "data": {
      "text/html": [
       "TRUE"
      ],
      "text/latex": [
       "TRUE"
      ],
      "text/markdown": [
       "TRUE"
      ],
      "text/plain": [
       "[1] TRUE"
      ]
     },
     "metadata": {},
     "output_type": "display_data"
    }
   ],
   "source": [
    "# obtain the dimension and inspect the structure\n",
    "is.data.frame(Fatalities)"
   ]
  },
  {
   "cell_type": "code",
   "execution_count": 6,
   "metadata": {
    "ExecuteTime": {
     "end_time": "2018-11-28T21:57:21.490671Z",
     "start_time": "2018-11-28T21:57:21.462Z"
    }
   },
   "outputs": [
    {
     "data": {
      "text/html": [
       "<ol class=list-inline>\n",
       "\t<li>336</li>\n",
       "\t<li>34</li>\n",
       "</ol>\n"
      ],
      "text/latex": [
       "\\begin{enumerate*}\n",
       "\\item 336\n",
       "\\item 34\n",
       "\\end{enumerate*}\n"
      ],
      "text/markdown": [
       "1. 336\n",
       "2. 34\n",
       "\n",
       "\n"
      ],
      "text/plain": [
       "[1] 336  34"
      ]
     },
     "metadata": {},
     "output_type": "display_data"
    }
   ],
   "source": [
    "dim(Fatalities)"
   ]
  },
  {
   "cell_type": "code",
   "execution_count": 7,
   "metadata": {
    "ExecuteTime": {
     "end_time": "2018-11-28T21:57:25.952207Z",
     "start_time": "2018-11-28T21:57:25.916Z"
    }
   },
   "outputs": [
    {
     "name": "stdout",
     "output_type": "stream",
     "text": [
      "'data.frame':\t336 obs. of  34 variables:\n",
      " $ state       : Factor w/ 48 levels \"al\",\"az\",\"ar\",..: 1 1 1 1 1 1 1 2 2 2 ...\n",
      " $ year        : Factor w/ 7 levels \"1982\",\"1983\",..: 1 2 3 4 5 6 7 1 2 3 ...\n",
      " $ spirits     : num  1.37 1.36 1.32 1.28 1.23 ...\n",
      " $ unemp       : num  14.4 13.7 11.1 8.9 9.8 ...\n",
      " $ income      : num  10544 10733 11109 11333 11662 ...\n",
      " $ emppop      : num  50.7 52.1 54.2 55.3 56.5 ...\n",
      " $ beertax     : num  1.54 1.79 1.71 1.65 1.61 ...\n",
      " $ baptist     : num  30.4 30.3 30.3 30.3 30.3 ...\n",
      " $ mormon      : num  0.328 0.343 0.359 0.376 0.393 ...\n",
      " $ drinkage    : num  19 19 19 19.7 21 ...\n",
      " $ dry         : num  25 23 24 23.6 23.5 ...\n",
      " $ youngdrivers: num  0.212 0.211 0.211 0.211 0.213 ...\n",
      " $ miles       : num  7234 7836 8263 8727 8953 ...\n",
      " $ breath      : Factor w/ 2 levels \"no\",\"yes\": 1 1 1 1 1 1 1 1 1 1 ...\n",
      " $ jail        : Factor w/ 2 levels \"no\",\"yes\": 1 1 1 1 1 1 1 2 2 2 ...\n",
      " $ service     : Factor w/ 2 levels \"no\",\"yes\": 1 1 1 1 1 1 1 2 2 2 ...\n",
      " $ fatal       : int  839 930 932 882 1081 1110 1023 724 675 869 ...\n",
      " $ nfatal      : int  146 154 165 146 172 181 139 131 112 149 ...\n",
      " $ sfatal      : int  99 98 94 98 119 114 89 76 60 81 ...\n",
      " $ fatal1517   : int  53 71 49 66 82 94 66 40 40 51 ...\n",
      " $ nfatal1517  : int  9 8 7 9 10 11 8 7 7 8 ...\n",
      " $ fatal1820   : int  99 108 103 100 120 127 105 81 83 118 ...\n",
      " $ nfatal1820  : int  34 26 25 23 23 31 24 16 19 34 ...\n",
      " $ fatal2124   : int  120 124 118 114 119 138 123 96 80 123 ...\n",
      " $ nfatal2124  : int  32 35 34 45 29 30 25 36 17 33 ...\n",
      " $ afatal      : num  309 342 305 277 361 ...\n",
      " $ pop         : num  3942002 3960008 3988992 4021008 4049994 ...\n",
      " $ pop1517     : num  209000 202000 197000 195000 204000 ...\n",
      " $ pop1820     : num  221553 219125 216724 214349 212000 ...\n",
      " $ pop2124     : num  290000 290000 288000 284000 263000 ...\n",
      " $ milestot    : num  28516 31032 32961 35091 36259 ...\n",
      " $ unempus     : num  9.7 9.6 7.5 7.2 7 ...\n",
      " $ emppopus    : num  57.8 57.9 59.5 60.1 60.7 ...\n",
      " $ gsp         : num  -0.0221 0.0466 0.0628 0.0275 0.0321 ...\n"
     ]
    }
   ],
   "source": [
    "str(Fatalities)"
   ]
  },
  {
   "cell_type": "code",
   "execution_count": 8,
   "metadata": {
    "ExecuteTime": {
     "end_time": "2018-11-28T21:57:33.928921Z",
     "start_time": "2018-11-28T21:57:33.896Z"
    }
   },
   "outputs": [
    {
     "data": {
      "text/html": [
       "<table>\n",
       "<thead><tr><th scope=col>state</th><th scope=col>year</th><th scope=col>spirits</th><th scope=col>unemp</th><th scope=col>income</th><th scope=col>emppop</th><th scope=col>beertax</th><th scope=col>baptist</th><th scope=col>mormon</th><th scope=col>drinkage</th><th scope=col>...</th><th scope=col>nfatal2124</th><th scope=col>afatal</th><th scope=col>pop</th><th scope=col>pop1517</th><th scope=col>pop1820</th><th scope=col>pop2124</th><th scope=col>milestot</th><th scope=col>unempus</th><th scope=col>emppopus</th><th scope=col>gsp</th></tr></thead>\n",
       "<tbody>\n",
       "\t<tr><td>al         </td><td>1982       </td><td>1.37       </td><td>14.4       </td><td>10544.15   </td><td>50.69204   </td><td>1.539379   </td><td>30.3557    </td><td>0.32829    </td><td>19.00      </td><td>...        </td><td>32         </td><td>309.438    </td><td>3942002    </td><td>208999.6   </td><td>221553.4   </td><td>290000.1   </td><td>28516      </td><td>9.7        </td><td>57.8       </td><td>-0.02212476</td></tr>\n",
       "\t<tr><td>al         </td><td>1983       </td><td>1.36       </td><td>13.7       </td><td>10732.80   </td><td>52.14703   </td><td>1.788991   </td><td>30.3336    </td><td>0.34341    </td><td>19.00      </td><td>...        </td><td>35         </td><td>341.834    </td><td>3960008    </td><td>202000.1   </td><td>219125.5   </td><td>290000.2   </td><td>31032      </td><td>9.6        </td><td>57.9       </td><td> 0.04655825</td></tr>\n",
       "\t<tr><td>al         </td><td>1984       </td><td>1.32       </td><td>11.1       </td><td>11108.79   </td><td>54.16809   </td><td>1.714286   </td><td>30.3115    </td><td>0.35924    </td><td>19.00      </td><td>...        </td><td>34         </td><td>304.872    </td><td>3988992    </td><td>197000.0   </td><td>216724.1   </td><td>288000.2   </td><td>32961      </td><td>7.5        </td><td>59.5       </td><td> 0.06279784</td></tr>\n",
       "\t<tr><td>al         </td><td>1985       </td><td>1.28       </td><td> 8.9       </td><td>11332.63   </td><td>55.27114   </td><td>1.652542   </td><td>30.2895    </td><td>0.37579    </td><td>19.67      </td><td>...        </td><td>45         </td><td>276.742    </td><td>4021008    </td><td>194999.7   </td><td>214349.0   </td><td>284000.3   </td><td>35091      </td><td>7.2        </td><td>60.1       </td><td> 0.02748997</td></tr>\n",
       "\t<tr><td>al         </td><td>1986       </td><td>1.23       </td><td> 9.8       </td><td>11661.51   </td><td>56.51450   </td><td>1.609907   </td><td>30.2674    </td><td>0.39311    </td><td>21.00      </td><td>...        </td><td>29         </td><td>360.716    </td><td>4049994    </td><td>203999.9   </td><td>212000.0   </td><td>263000.3   </td><td>36259      </td><td>7.0        </td><td>60.7       </td><td> 0.03214295</td></tr>\n",
       "\t<tr><td>al         </td><td>1987       </td><td>1.18       </td><td> 7.8       </td><td>11944.00   </td><td>57.50988   </td><td>1.560000   </td><td>30.2453    </td><td>0.41123    </td><td>21.00      </td><td>...        </td><td>30         </td><td>368.421    </td><td>4082999    </td><td>204999.8   </td><td>208998.5   </td><td>258999.8   </td><td>37426      </td><td>6.2        </td><td>61.5       </td><td> 0.04897637</td></tr>\n",
       "</tbody>\n",
       "</table>\n"
      ],
      "text/latex": [
       "\\begin{tabular}{r|llllllllllllllllllllllllllllllllll}\n",
       " state & year & spirits & unemp & income & emppop & beertax & baptist & mormon & drinkage & ... & nfatal2124 & afatal & pop & pop1517 & pop1820 & pop2124 & milestot & unempus & emppopus & gsp\\\\\n",
       "\\hline\n",
       "\t al          & 1982        & 1.37        & 14.4        & 10544.15    & 50.69204    & 1.539379    & 30.3557     & 0.32829     & 19.00       & ...         & 32          & 309.438     & 3942002     & 208999.6    & 221553.4    & 290000.1    & 28516       & 9.7         & 57.8        & -0.02212476\\\\\n",
       "\t al          & 1983        & 1.36        & 13.7        & 10732.80    & 52.14703    & 1.788991    & 30.3336     & 0.34341     & 19.00       & ...         & 35          & 341.834     & 3960008     & 202000.1    & 219125.5    & 290000.2    & 31032       & 9.6         & 57.9        &  0.04655825\\\\\n",
       "\t al          & 1984        & 1.32        & 11.1        & 11108.79    & 54.16809    & 1.714286    & 30.3115     & 0.35924     & 19.00       & ...         & 34          & 304.872     & 3988992     & 197000.0    & 216724.1    & 288000.2    & 32961       & 7.5         & 59.5        &  0.06279784\\\\\n",
       "\t al          & 1985        & 1.28        &  8.9        & 11332.63    & 55.27114    & 1.652542    & 30.2895     & 0.37579     & 19.67       & ...         & 45          & 276.742     & 4021008     & 194999.7    & 214349.0    & 284000.3    & 35091       & 7.2         & 60.1        &  0.02748997\\\\\n",
       "\t al          & 1986        & 1.23        &  9.8        & 11661.51    & 56.51450    & 1.609907    & 30.2674     & 0.39311     & 21.00       & ...         & 29          & 360.716     & 4049994     & 203999.9    & 212000.0    & 263000.3    & 36259       & 7.0         & 60.7        &  0.03214295\\\\\n",
       "\t al          & 1987        & 1.18        &  7.8        & 11944.00    & 57.50988    & 1.560000    & 30.2453     & 0.41123     & 21.00       & ...         & 30          & 368.421     & 4082999     & 204999.8    & 208998.5    & 258999.8    & 37426       & 6.2         & 61.5        &  0.04897637\\\\\n",
       "\\end{tabular}\n"
      ],
      "text/markdown": [
       "\n",
       "state | year | spirits | unemp | income | emppop | beertax | baptist | mormon | drinkage | ... | nfatal2124 | afatal | pop | pop1517 | pop1820 | pop2124 | milestot | unempus | emppopus | gsp | \n",
       "|---|---|---|---|---|---|\n",
       "| al          | 1982        | 1.37        | 14.4        | 10544.15    | 50.69204    | 1.539379    | 30.3557     | 0.32829     | 19.00       | ...         | 32          | 309.438     | 3942002     | 208999.6    | 221553.4    | 290000.1    | 28516       | 9.7         | 57.8        | -0.02212476 | \n",
       "| al          | 1983        | 1.36        | 13.7        | 10732.80    | 52.14703    | 1.788991    | 30.3336     | 0.34341     | 19.00       | ...         | 35          | 341.834     | 3960008     | 202000.1    | 219125.5    | 290000.2    | 31032       | 9.6         | 57.9        |  0.04655825 | \n",
       "| al          | 1984        | 1.32        | 11.1        | 11108.79    | 54.16809    | 1.714286    | 30.3115     | 0.35924     | 19.00       | ...         | 34          | 304.872     | 3988992     | 197000.0    | 216724.1    | 288000.2    | 32961       | 7.5         | 59.5        |  0.06279784 | \n",
       "| al          | 1985        | 1.28        |  8.9        | 11332.63    | 55.27114    | 1.652542    | 30.2895     | 0.37579     | 19.67       | ...         | 45          | 276.742     | 4021008     | 194999.7    | 214349.0    | 284000.3    | 35091       | 7.2         | 60.1        |  0.02748997 | \n",
       "| al          | 1986        | 1.23        |  9.8        | 11661.51    | 56.51450    | 1.609907    | 30.2674     | 0.39311     | 21.00       | ...         | 29          | 360.716     | 4049994     | 203999.9    | 212000.0    | 263000.3    | 36259       | 7.0         | 60.7        |  0.03214295 | \n",
       "| al          | 1987        | 1.18        |  7.8        | 11944.00    | 57.50988    | 1.560000    | 30.2453     | 0.41123     | 21.00       | ...         | 30          | 368.421     | 4082999     | 204999.8    | 208998.5    | 258999.8    | 37426       | 6.2         | 61.5        |  0.04897637 | \n",
       "\n",
       "\n"
      ],
      "text/plain": [
       "  state year spirits unemp income   emppop   beertax  baptist mormon  drinkage\n",
       "1 al    1982 1.37    14.4  10544.15 50.69204 1.539379 30.3557 0.32829 19.00   \n",
       "2 al    1983 1.36    13.7  10732.80 52.14703 1.788991 30.3336 0.34341 19.00   \n",
       "3 al    1984 1.32    11.1  11108.79 54.16809 1.714286 30.3115 0.35924 19.00   \n",
       "4 al    1985 1.28     8.9  11332.63 55.27114 1.652542 30.2895 0.37579 19.67   \n",
       "5 al    1986 1.23     9.8  11661.51 56.51450 1.609907 30.2674 0.39311 21.00   \n",
       "6 al    1987 1.18     7.8  11944.00 57.50988 1.560000 30.2453 0.41123 21.00   \n",
       "  ... nfatal2124 afatal  pop     pop1517  pop1820  pop2124  milestot unempus\n",
       "1 ... 32         309.438 3942002 208999.6 221553.4 290000.1 28516    9.7    \n",
       "2 ... 35         341.834 3960008 202000.1 219125.5 290000.2 31032    9.6    \n",
       "3 ... 34         304.872 3988992 197000.0 216724.1 288000.2 32961    7.5    \n",
       "4 ... 45         276.742 4021008 194999.7 214349.0 284000.3 35091    7.2    \n",
       "5 ... 29         360.716 4049994 203999.9 212000.0 263000.3 36259    7.0    \n",
       "6 ... 30         368.421 4082999 204999.8 208998.5 258999.8 37426    6.2    \n",
       "  emppopus gsp        \n",
       "1 57.8     -0.02212476\n",
       "2 57.9      0.04655825\n",
       "3 59.5      0.06279784\n",
       "4 60.1      0.02748997\n",
       "5 60.7      0.03214295\n",
       "6 61.5      0.04897637"
      ]
     },
     "metadata": {},
     "output_type": "display_data"
    }
   ],
   "source": [
    "# list the first few observations\n",
    "head(Fatalities)"
   ]
  },
  {
   "cell_type": "code",
   "execution_count": 9,
   "metadata": {
    "ExecuteTime": {
     "end_time": "2018-11-28T21:57:44.500710Z",
     "start_time": "2018-11-28T21:57:44.479Z"
    }
   },
   "outputs": [
    {
     "data": {
      "text/plain": [
       "     state       year   \n",
       " al     :  7   1982:48  \n",
       " az     :  7   1983:48  \n",
       " ar     :  7   1984:48  \n",
       " ca     :  7   1985:48  \n",
       " co     :  7   1986:48  \n",
       " ct     :  7   1987:48  \n",
       " (Other):294   1988:48  "
      ]
     },
     "metadata": {},
     "output_type": "display_data"
    }
   ],
   "source": [
    "# summarize the variables 'state' and 'year'\n",
    "summary(Fatalities[, c(1, 2)])"
   ]
  },
  {
   "cell_type": "code",
   "execution_count": 10,
   "metadata": {
    "ExecuteTime": {
     "end_time": "2018-11-28T22:04:41.776339Z",
     "start_time": "2018-11-28T22:04:41.754Z"
    }
   },
   "outputs": [],
   "source": [
    "# define the fatality rate\n",
    "Fatalities$fatal_rate <- Fatalities$fatal / Fatalities$pop * 10000\n",
    "\n",
    "# subset the data\n",
    "Fatalities1982 <- subset(Fatalities, year == \"1982\")\n",
    "Fatalities1988 <- subset(Fatalities, year == \"1988\")"
   ]
  },
  {
   "cell_type": "code",
   "execution_count": 11,
   "metadata": {
    "ExecuteTime": {
     "end_time": "2018-11-28T22:04:49.790885Z",
     "start_time": "2018-11-28T22:04:49.602Z"
    }
   },
   "outputs": [
    {
     "data": {
      "text/plain": [
       "\n",
       "t test of coefficients:\n",
       "\n",
       "            Estimate Std. Error t value Pr(>|t|)    \n",
       "(Intercept)  2.01038    0.14957 13.4408   <2e-16 ***\n",
       "beertax      0.14846    0.13261  1.1196   0.2687    \n",
       "---\n",
       "Signif. codes:  0 '***' 0.001 '**' 0.01 '*' 0.05 '.' 0.1 ' ' 1\n"
      ]
     },
     "metadata": {},
     "output_type": "display_data"
    }
   ],
   "source": [
    "# estimate simple regression models using 1982 and 1988 data\n",
    "fatal1982_mod <- lm(fatal_rate ~ beertax, data = Fatalities1982)\n",
    "fatal1988_mod <- lm(fatal_rate ~ beertax, data = Fatalities1988)\n",
    "\n",
    "coeftest(fatal1982_mod, vcov. = vcovHC, type = \"HC1\")"
   ]
  },
  {
   "cell_type": "code",
   "execution_count": 12,
   "metadata": {
    "ExecuteTime": {
     "end_time": "2018-11-28T22:05:02.033110Z",
     "start_time": "2018-11-28T22:05:02.012Z"
    }
   },
   "outputs": [
    {
     "data": {
      "text/plain": [
       "\n",
       "t test of coefficients:\n",
       "\n",
       "            Estimate Std. Error t value  Pr(>|t|)    \n",
       "(Intercept)  1.85907    0.11461 16.2205 < 2.2e-16 ***\n",
       "beertax      0.43875    0.12786  3.4314  0.001279 ** \n",
       "---\n",
       "Signif. codes:  0 '***' 0.001 '**' 0.01 '*' 0.05 '.' 0.1 ' ' 1\n"
      ]
     },
     "metadata": {},
     "output_type": "display_data"
    }
   ],
   "source": [
    "coeftest(fatal1988_mod, vcov. = vcovHC, type = \"HC1\")"
   ]
  },
  {
   "cell_type": "code",
   "execution_count": 13,
   "metadata": {
    "ExecuteTime": {
     "end_time": "2018-11-28T22:05:13.501561Z",
     "start_time": "2018-11-28T22:05:13.406Z"
    }
   },
   "outputs": [
    {
     "data": {
      "image/png": "[encoded data removed]",
      "text/plain": [
       "Plot with title \"Traffic Fatality Rates and Beer Taxes in 1982\""
      ]
     },
     "metadata": {},
     "output_type": "display_data"
    }
   ],
   "source": [
    "# plot the observations and add the estimated regression line for 1982 data\n",
    "plot(x = Fatalities1982$beertax, \n",
    "     y = Fatalities1982$fatal_rate, \n",
    "     xlab = \"Beer tax (in 1988 dollars)\",\n",
    "     ylab = \"Fatality rate (fatalities per 10000)\",\n",
    "     main = \"Traffic Fatality Rates and Beer Taxes in 1982\",\n",
    "     ylim = c(0, 4.5),\n",
    "     pch = 20, \n",
    "     col = \"steelblue\")\n",
    "\n",
    "abline(fatal1982_mod, lwd = 1.5)"
   ]
  },
  {
   "cell_type": "code",
   "execution_count": 14,
   "metadata": {
    "ExecuteTime": {
     "end_time": "2018-11-28T22:05:35.066694Z",
     "start_time": "2018-11-28T22:05:35.009Z"
    }
   },
   "outputs": [
    {
     "data": {
      "image/png": "[encoded data removed]",
      "text/plain": [
       "Plot with title \"Traffic Fatality Rates and Beer Taxes in 1988\""
      ]
     },
     "metadata": {},
     "output_type": "display_data"
    }
   ],
   "source": [
    "# plot observations and add estimated regression line for 1988 data\n",
    "plot(x = Fatalities1988$beertax, \n",
    "     y = Fatalities1988$fatal_rate, \n",
    "     xlab = \"Beer tax (in 1988 dollars)\",\n",
    "     ylab = \"Fatality rate (fatalities per 10000)\",\n",
    "     main = \"Traffic Fatality Rates and Beer Taxes in 1988\",\n",
    "     ylim = c(0, 4.5),\n",
    "     pch = 20, \n",
    "     col = \"steelblue\")\n",
    "\n",
    "abline(fatal1988_mod, lwd = 1.5)"
   ]
  },
  {
   "cell_type": "markdown",
   "metadata": {},
   "source": [
    "In both plots, each point represents observations of beer tax and fatality rate for a given state in the respective year. The regression results indicate a positive relationship between the beer tax and the fatality rate for both years. The estimated coefficient on beer tax for the 1988 data is almost three times as large as for the 1988 data set. This is contrary to our expectations: alcohol taxes are supposed to lower the rate of traffic fatalities. As we known from Chapter 6, this is possibly due to omitted variable bias, since both models do not include any covariates, e.g., economic conditions. This could be corrected for using a multiple regression approach. However, this cannot account for omitted unobservable factors that differ from state to state but can be assumed to be constant over the observation span, e.g., the populations’ attitude towards drunk driving. As shown in the next section, panel data allow us to hold such factors constant."
   ]
  },
  {
   "cell_type": "code",
   "execution_count": null,
   "metadata": {},
   "outputs": [],
   "source": []
  },
  {
   "cell_type": "code",
   "execution_count": null,
   "metadata": {},
   "outputs": [],
   "source": []
  }
 ],
 "metadata": {
  "kernelspec": {
   "display_name": "R",
   "language": "R",
   "name": "ir"
  },
  "language_info": {
   "codemirror_mode": "r",
   "file_extension": ".r",
   "mimetype": "text/x-r-source",
   "name": "R",
   "pygments_lexer": "r",
   "version": "3.5.1"
  }
 },
 "nbformat": 4,
 "nbformat_minor": 2
}
