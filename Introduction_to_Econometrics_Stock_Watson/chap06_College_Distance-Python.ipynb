{
 "cells": [
  {
   "cell_type": "code",
   "execution_count": 14,
   "metadata": {
    "collapsed": true
   },
   "outputs": [],
   "source": [
    "import pandas as pd\n",
    "import statsmodels.api as sm\n",
    "import matplotlib.pyplot as plt\n",
    "import numpy as np\n",
    "from sklearn import datasets, linear_model\n",
    "from statsmodels.formula.api import ols"
   ]
  },
  {
   "cell_type": "code",
   "execution_count": 3,
   "metadata": {
    "collapsed": true
   },
   "outputs": [],
   "source": [
    "%matplotlib notebook"
   ]
  },
  {
   "cell_type": "code",
   "execution_count": 4,
   "metadata": {
    "collapsed": true
   },
   "outputs": [],
   "source": [
    "data = pd.read_stata(\"http://wps.aw.com/wps/media/objects/11422/11696965/empirical/empex_tb/CollegeDistance.dta\")"
   ]
  },
  {
   "cell_type": "code",
   "execution_count": 5,
   "metadata": {
    "collapsed": false
   },
   "outputs": [
    {
     "ename": "NameError",
     "evalue": "name 'describe' is not defined",
     "output_type": "error",
     "traceback": [
      "\u001b[0;31m---------------------------------------------------------------------------\u001b[0m",
      "\u001b[0;31mNameError\u001b[0m                                 Traceback (most recent call last)",
      "\u001b[0;32m<ipython-input-5-22a14a641f4a>\u001b[0m in \u001b[0;36m<module>\u001b[0;34m()\u001b[0m\n\u001b[0;32m----> 1\u001b[0;31m \u001b[0mdescribe\u001b[0m\u001b[1;33m(\u001b[0m\u001b[0mdata\u001b[0m\u001b[1;33m)\u001b[0m\u001b[1;33m\u001b[0m\u001b[0m\n\u001b[0m",
      "\u001b[0;31mNameError\u001b[0m: name 'describe' is not defined"
     ]
    }
   ],
   "source": [
    "describe(data)"
   ]
  },
  {
   "cell_type": "code",
   "execution_count": 6,
   "metadata": {
    "collapsed": false
   },
   "outputs": [
    {
     "data": {
      "text/html": [
       "<div>\n",
       "<table border=\"1\" class=\"dataframe\">\n",
       "  <thead>\n",
       "    <tr style=\"text-align: right;\">\n",
       "      <th></th>\n",
       "      <th>female</th>\n",
       "      <th>black</th>\n",
       "      <th>hispanic</th>\n",
       "      <th>bytest</th>\n",
       "      <th>dadcoll</th>\n",
       "      <th>momcoll</th>\n",
       "      <th>ownhome</th>\n",
       "      <th>urban</th>\n",
       "      <th>cue80</th>\n",
       "      <th>stwmfg80</th>\n",
       "      <th>dist</th>\n",
       "      <th>tuition</th>\n",
       "      <th>incomehi</th>\n",
       "      <th>ed</th>\n",
       "    </tr>\n",
       "  </thead>\n",
       "  <tbody>\n",
       "    <tr>\n",
       "      <th>0</th>\n",
       "      <td>0.0</td>\n",
       "      <td>0.0</td>\n",
       "      <td>0.0</td>\n",
       "      <td>39.150002</td>\n",
       "      <td>1.0</td>\n",
       "      <td>0.0</td>\n",
       "      <td>1.0</td>\n",
       "      <td>1.0</td>\n",
       "      <td>6.2</td>\n",
       "      <td>8.09</td>\n",
       "      <td>0.2</td>\n",
       "      <td>0.88915</td>\n",
       "      <td>1.0</td>\n",
       "      <td>12.0</td>\n",
       "    </tr>\n",
       "    <tr>\n",
       "      <th>1</th>\n",
       "      <td>1.0</td>\n",
       "      <td>0.0</td>\n",
       "      <td>0.0</td>\n",
       "      <td>48.869999</td>\n",
       "      <td>0.0</td>\n",
       "      <td>0.0</td>\n",
       "      <td>1.0</td>\n",
       "      <td>1.0</td>\n",
       "      <td>6.2</td>\n",
       "      <td>8.09</td>\n",
       "      <td>0.2</td>\n",
       "      <td>0.88915</td>\n",
       "      <td>0.0</td>\n",
       "      <td>12.0</td>\n",
       "    </tr>\n",
       "    <tr>\n",
       "      <th>2</th>\n",
       "      <td>0.0</td>\n",
       "      <td>0.0</td>\n",
       "      <td>0.0</td>\n",
       "      <td>48.740002</td>\n",
       "      <td>0.0</td>\n",
       "      <td>0.0</td>\n",
       "      <td>1.0</td>\n",
       "      <td>1.0</td>\n",
       "      <td>6.2</td>\n",
       "      <td>8.09</td>\n",
       "      <td>0.2</td>\n",
       "      <td>0.88915</td>\n",
       "      <td>0.0</td>\n",
       "      <td>12.0</td>\n",
       "    </tr>\n",
       "    <tr>\n",
       "      <th>3</th>\n",
       "      <td>0.0</td>\n",
       "      <td>1.0</td>\n",
       "      <td>0.0</td>\n",
       "      <td>40.400002</td>\n",
       "      <td>0.0</td>\n",
       "      <td>0.0</td>\n",
       "      <td>1.0</td>\n",
       "      <td>1.0</td>\n",
       "      <td>6.2</td>\n",
       "      <td>8.09</td>\n",
       "      <td>0.2</td>\n",
       "      <td>0.88915</td>\n",
       "      <td>0.0</td>\n",
       "      <td>12.0</td>\n",
       "    </tr>\n",
       "    <tr>\n",
       "      <th>4</th>\n",
       "      <td>1.0</td>\n",
       "      <td>0.0</td>\n",
       "      <td>0.0</td>\n",
       "      <td>40.480000</td>\n",
       "      <td>0.0</td>\n",
       "      <td>0.0</td>\n",
       "      <td>0.0</td>\n",
       "      <td>1.0</td>\n",
       "      <td>5.6</td>\n",
       "      <td>8.09</td>\n",
       "      <td>0.4</td>\n",
       "      <td>0.88915</td>\n",
       "      <td>0.0</td>\n",
       "      <td>13.0</td>\n",
       "    </tr>\n",
       "  </tbody>\n",
       "</table>\n",
       "</div>"
      ],
      "text/plain": [
       "   female  black  hispanic     bytest  dadcoll  momcoll  ownhome  urban  \\\n",
       "0     0.0    0.0       0.0  39.150002      1.0      0.0      1.0    1.0   \n",
       "1     1.0    0.0       0.0  48.869999      0.0      0.0      1.0    1.0   \n",
       "2     0.0    0.0       0.0  48.740002      0.0      0.0      1.0    1.0   \n",
       "3     0.0    1.0       0.0  40.400002      0.0      0.0      1.0    1.0   \n",
       "4     1.0    0.0       0.0  40.480000      0.0      0.0      0.0    1.0   \n",
       "\n",
       "   cue80  stwmfg80  dist  tuition  incomehi    ed  \n",
       "0    6.2      8.09   0.2  0.88915       1.0  12.0  \n",
       "1    6.2      8.09   0.2  0.88915       0.0  12.0  \n",
       "2    6.2      8.09   0.2  0.88915       0.0  12.0  \n",
       "3    6.2      8.09   0.2  0.88915       0.0  12.0  \n",
       "4    5.6      8.09   0.4  0.88915       0.0  13.0  "
      ]
     },
     "execution_count": 6,
     "metadata": {},
     "output_type": "execute_result"
    }
   ],
   "source": [
    "data.head()"
   ]
  },
  {
   "cell_type": "code",
   "execution_count": 8,
   "metadata": {
    "collapsed": false
   },
   "outputs": [
    {
     "data": {
      "text/plain": [
       "(3796, 14)"
      ]
     },
     "execution_count": 8,
     "metadata": {},
     "output_type": "execute_result"
    }
   ],
   "source": [
    "data.shape    \n",
    "\n",
    "\n"
   ]
  },
  {
   "cell_type": "code",
   "execution_count": 9,
   "metadata": {
    "collapsed": false
   },
   "outputs": [
    {
     "data": {
      "text/plain": [
       "Index([u'female', u'black', u'hispanic', u'bytest', u'dadcoll', u'momcoll',\n",
       "       u'ownhome', u'urban', u'cue80', u'stwmfg80', u'dist', u'tuition',\n",
       "       u'incomehi', u'ed'],\n",
       "      dtype='object')"
      ]
     },
     "execution_count": 9,
     "metadata": {},
     "output_type": "execute_result"
    }
   ],
   "source": [
    "data.columns"
   ]
  },
  {
   "cell_type": "code",
   "execution_count": 18,
   "metadata": {
    "collapsed": true
   },
   "outputs": [],
   "source": [
    "var_names = set(data.columns)"
   ]
  },
  {
   "cell_type": "code",
   "execution_count": 19,
   "metadata": {
    "collapsed": false
   },
   "outputs": [
    {
     "data": {
      "text/plain": [
       "{'black',\n",
       " 'bytest',\n",
       " 'cue80',\n",
       " 'dadcoll',\n",
       " 'dist',\n",
       " 'ed',\n",
       " 'female',\n",
       " 'hispanic',\n",
       " 'incomehi',\n",
       " 'momcoll',\n",
       " 'ownhome',\n",
       " 'stwmfg80',\n",
       " 'tuition',\n",
       " 'urban'}"
      ]
     },
     "execution_count": 19,
     "metadata": {},
     "output_type": "execute_result"
    }
   ],
   "source": [
    "var_names"
   ]
  },
  {
   "cell_type": "code",
   "execution_count": 44,
   "metadata": {
    "collapsed": true
   },
   "outputs": [],
   "source": [
    "y_name = set([\"ed\"])"
   ]
  },
  {
   "cell_type": "code",
   "execution_count": 45,
   "metadata": {
    "collapsed": false
   },
   "outputs": [
    {
     "data": {
      "text/plain": [
       "{'ed'}"
      ]
     },
     "execution_count": 45,
     "metadata": {},
     "output_type": "execute_result"
    }
   ],
   "source": [
    "y_name"
   ]
  },
  {
   "cell_type": "code",
   "execution_count": 46,
   "metadata": {
    "collapsed": true
   },
   "outputs": [],
   "source": [
    "x_names = var_names-y_name"
   ]
  },
  {
   "cell_type": "code",
   "execution_count": 47,
   "metadata": {
    "collapsed": false
   },
   "outputs": [
    {
     "data": {
      "text/plain": [
       "{'black',\n",
       " 'bytest',\n",
       " 'cue80',\n",
       " 'dadcoll',\n",
       " 'dist',\n",
       " 'female',\n",
       " 'hispanic',\n",
       " 'incomehi',\n",
       " 'momcoll',\n",
       " 'ownhome',\n",
       " 'stwmfg80',\n",
       " 'tuition',\n",
       " 'urban'}"
      ]
     },
     "execution_count": 47,
     "metadata": {},
     "output_type": "execute_result"
    }
   ],
   "source": [
    "x_names "
   ]
  },
  {
   "cell_type": "code",
   "execution_count": null,
   "metadata": {
    "collapsed": true
   },
   "outputs": [],
   "source": []
  },
  {
   "cell_type": "code",
   "execution_count": 48,
   "metadata": {
    "collapsed": false
   },
   "outputs": [
    {
     "data": {
      "text/plain": [
       "2"
      ]
     },
     "execution_count": 48,
     "metadata": {},
     "output_type": "execute_result"
    }
   ],
   "source": [
    "data.ndim"
   ]
  },
  {
   "cell_type": "code",
   "execution_count": 49,
   "metadata": {
    "collapsed": false
   },
   "outputs": [
    {
     "data": {
      "application/javascript": [
       "/* Put everything inside the global mpl namespace */\n",
       "window.mpl = {};\n",
       "\n",
       "\n",
       "mpl.get_websocket_type = function() {\n",
       "    if (typeof(WebSocket) !== 'undefined') {\n",
       "        return WebSocket;\n",
       "    } else if (typeof(MozWebSocket) !== 'undefined') {\n",
       "        return MozWebSocket;\n",
       "    } else {\n",
       "        alert('Your browser does not have WebSocket support.' +\n",
       "              'Please try Chrome, Safari or Firefox ≥ 6. ' +\n",
       "              'Firefox 4 and 5 are also supported but you ' +\n",
       "              'have to enable WebSockets in about:config.');\n",
       "    };\n",
       "}\n",
       "\n",
       "mpl.figure = function(figure_id, websocket, ondownload, parent_element) {\n",
       "    this.id = figure_id;\n",
       "\n",
       "    this.ws = websocket;\n",
       "\n",
       "    this.supports_binary = (this.ws.binaryType != undefined);\n",
       "\n",
       "    if (!this.supports_binary) {\n",
       "        var warnings = document.getElementById(\"mpl-warnings\");\n",
       "        if (warnings) {\n",
       "            warnings.style.display = 'block';\n",
       "            warnings.textContent = (\n",
       "                \"This browser does not support binary websocket messages. \" +\n",
       "                    \"Performance may be slow.\");\n",
       "        }\n",
       "    }\n",
       "\n",
       "    this.imageObj = new Image();\n",
       "\n",
       "    this.context = undefined;\n",
       "    this.message = undefined;\n",
       "    this.canvas = undefined;\n",
       "    this.rubberband_canvas = undefined;\n",
       "    this.rubberband_context = undefined;\n",
       "    this.format_dropdown = undefined;\n",
       "\n",
       "    this.image_mode = 'full';\n",
       "\n",
       "    this.root = $('<div/>');\n",
       "    this._root_extra_style(this.root)\n",
       "    this.root.attr('style', 'display: inline-block');\n",
       "\n",
       "    $(parent_element).append(this.root);\n",
       "\n",
       "    this._init_header(this);\n",
       "    this._init_canvas(this);\n",
       "    this._init_toolbar(this);\n",
       "\n",
       "    var fig = this;\n",
       "\n",
       "    this.waiting = false;\n",
       "\n",
       "    this.ws.onopen =  function () {\n",
       "            fig.send_message(\"supports_binary\", {value: fig.supports_binary});\n",
       "            fig.send_message(\"send_image_mode\", {});\n",
       "            if (mpl.ratio != 1) {\n",
       "                fig.send_message(\"set_dpi_ratio\", {'dpi_ratio': mpl.ratio});\n",
       "            }\n",
       "            fig.send_message(\"refresh\", {});\n",
       "        }\n",
       "\n",
       "    this.imageObj.onload = function() {\n",
       "            if (fig.image_mode == 'full') {\n",
       "                // Full images could contain transparency (where diff images\n",
       "                // almost always do), so we need to clear the canvas so that\n",
       "                // there is no ghosting.\n",
       "                fig.context.clearRect(0, 0, fig.canvas.width, fig.canvas.height);\n",
       "            }\n",
       "            fig.context.drawImage(fig.imageObj, 0, 0);\n",
       "        };\n",
       "\n",
       "    this.imageObj.onunload = function() {\n",
       "        this.ws.close();\n",
       "    }\n",
       "\n",
       "    this.ws.onmessage = this._make_on_message_function(this);\n",
       "\n",
       "    this.ondownload = ondownload;\n",
       "}\n",
       "\n",
       "mpl.figure.prototype._init_header = function() {\n",
       "    var titlebar = $(\n",
       "        '<div class=\"ui-dialog-titlebar ui-widget-header ui-corner-all ' +\n",
       "        'ui-helper-clearfix\"/>');\n",
       "    var titletext = $(\n",
       "        '<div class=\"ui-dialog-title\" style=\"width: 100%; ' +\n",
       "        'text-align: center; padding: 3px;\"/>');\n",
       "    titlebar.append(titletext)\n",
       "    this.root.append(titlebar);\n",
       "    this.header = titletext[0];\n",
       "}\n",
       "\n",
       "\n",
       "\n",
       "mpl.figure.prototype._canvas_extra_style = function(canvas_div) {\n",
       "\n",
       "}\n",
       "\n",
       "\n",
       "mpl.figure.prototype._root_extra_style = function(canvas_div) {\n",
       "\n",
       "}\n",
       "\n",
       "mpl.figure.prototype._init_canvas = function() {\n",
       "    var fig = this;\n",
       "\n",
       "    var canvas_div = $('<div/>');\n",
       "\n",
       "    canvas_div.attr('style', 'position: relative; clear: both; outline: 0');\n",
       "\n",
       "    function canvas_keyboard_event(event) {\n",
       "        return fig.key_event(event, event['data']);\n",
       "    }\n",
       "\n",
       "    canvas_div.keydown('key_press', canvas_keyboard_event);\n",
       "    canvas_div.keyup('key_release', canvas_keyboard_event);\n",
       "    this.canvas_div = canvas_div\n",
       "    this._canvas_extra_style(canvas_div)\n",
       "    this.root.append(canvas_div);\n",
       "\n",
       "    var canvas = $('<canvas/>');\n",
       "    canvas.addClass('mpl-canvas');\n",
       "    canvas.attr('style', \"left: 0; top: 0; z-index: 0; outline: 0\")\n",
       "\n",
       "    this.canvas = canvas[0];\n",
       "    this.context = canvas[0].getContext(\"2d\");\n",
       "\n",
       "    var backingStore = this.context.backingStorePixelRatio ||\n",
       "\tthis.context.webkitBackingStorePixelRatio ||\n",
       "\tthis.context.mozBackingStorePixelRatio ||\n",
       "\tthis.context.msBackingStorePixelRatio ||\n",
       "\tthis.context.oBackingStorePixelRatio ||\n",
       "\tthis.context.backingStorePixelRatio || 1;\n",
       "\n",
       "    mpl.ratio = (window.devicePixelRatio || 1) / backingStore;\n",
       "\n",
       "    var rubberband = $('<canvas/>');\n",
       "    rubberband.attr('style', \"position: absolute; left: 0; top: 0; z-index: 1;\")\n",
       "\n",
       "    var pass_mouse_events = true;\n",
       "\n",
       "    canvas_div.resizable({\n",
       "        start: function(event, ui) {\n",
       "            pass_mouse_events = false;\n",
       "        },\n",
       "        resize: function(event, ui) {\n",
       "            fig.request_resize(ui.size.width, ui.size.height);\n",
       "        },\n",
       "        stop: function(event, ui) {\n",
       "            pass_mouse_events = true;\n",
       "            fig.request_resize(ui.size.width, ui.size.height);\n",
       "        },\n",
       "    });\n",
       "\n",
       "    function mouse_event_fn(event) {\n",
       "        if (pass_mouse_events)\n",
       "            return fig.mouse_event(event, event['data']);\n",
       "    }\n",
       "\n",
       "    rubberband.mousedown('button_press', mouse_event_fn);\n",
       "    rubberband.mouseup('button_release', mouse_event_fn);\n",
       "    // Throttle sequential mouse events to 1 every 20ms.\n",
       "    rubberband.mousemove('motion_notify', mouse_event_fn);\n",
       "\n",
       "    rubberband.mouseenter('figure_enter', mouse_event_fn);\n",
       "    rubberband.mouseleave('figure_leave', mouse_event_fn);\n",
       "\n",
       "    canvas_div.on(\"wheel\", function (event) {\n",
       "        event = event.originalEvent;\n",
       "        event['data'] = 'scroll'\n",
       "        if (event.deltaY < 0) {\n",
       "            event.step = 1;\n",
       "        } else {\n",
       "            event.step = -1;\n",
       "        }\n",
       "        mouse_event_fn(event);\n",
       "    });\n",
       "\n",
       "    canvas_div.append(canvas);\n",
       "    canvas_div.append(rubberband);\n",
       "\n",
       "    this.rubberband = rubberband;\n",
       "    this.rubberband_canvas = rubberband[0];\n",
       "    this.rubberband_context = rubberband[0].getContext(\"2d\");\n",
       "    this.rubberband_context.strokeStyle = \"#000000\";\n",
       "\n",
       "    this._resize_canvas = function(width, height) {\n",
       "        // Keep the size of the canvas, canvas container, and rubber band\n",
       "        // canvas in synch.\n",
       "        canvas_div.css('width', width)\n",
       "        canvas_div.css('height', height)\n",
       "\n",
       "        canvas.attr('width', width * mpl.ratio);\n",
       "        canvas.attr('height', height * mpl.ratio);\n",
       "        canvas.attr('style', 'width: ' + width + 'px; height: ' + height + 'px;');\n",
       "\n",
       "        rubberband.attr('width', width);\n",
       "        rubberband.attr('height', height);\n",
       "    }\n",
       "\n",
       "    // Set the figure to an initial 600x600px, this will subsequently be updated\n",
       "    // upon first draw.\n",
       "    this._resize_canvas(600, 600);\n",
       "\n",
       "    // Disable right mouse context menu.\n",
       "    $(this.rubberband_canvas).bind(\"contextmenu\",function(e){\n",
       "        return false;\n",
       "    });\n",
       "\n",
       "    function set_focus () {\n",
       "        canvas.focus();\n",
       "        canvas_div.focus();\n",
       "    }\n",
       "\n",
       "    window.setTimeout(set_focus, 100);\n",
       "}\n",
       "\n",
       "mpl.figure.prototype._init_toolbar = function() {\n",
       "    var fig = this;\n",
       "\n",
       "    var nav_element = $('<div/>')\n",
       "    nav_element.attr('style', 'width: 100%');\n",
       "    this.root.append(nav_element);\n",
       "\n",
       "    // Define a callback function for later on.\n",
       "    function toolbar_event(event) {\n",
       "        return fig.toolbar_button_onclick(event['data']);\n",
       "    }\n",
       "    function toolbar_mouse_event(event) {\n",
       "        return fig.toolbar_button_onmouseover(event['data']);\n",
       "    }\n",
       "\n",
       "    for(var toolbar_ind in mpl.toolbar_items) {\n",
       "        var name = mpl.toolbar_items[toolbar_ind][0];\n",
       "        var tooltip = mpl.toolbar_items[toolbar_ind][1];\n",
       "        var image = mpl.toolbar_items[toolbar_ind][2];\n",
       "        var method_name = mpl.toolbar_items[toolbar_ind][3];\n",
       "\n",
       "        if (!name) {\n",
       "            // put a spacer in here.\n",
       "            continue;\n",
       "        }\n",
       "        var button = $('<button/>');\n",
       "        button.addClass('ui-button ui-widget ui-state-default ui-corner-all ' +\n",
       "                        'ui-button-icon-only');\n",
       "        button.attr('role', 'button');\n",
       "        button.attr('aria-disabled', 'false');\n",
       "        button.click(method_name, toolbar_event);\n",
       "        button.mouseover(tooltip, toolbar_mouse_event);\n",
       "\n",
       "        var icon_img = $('<span/>');\n",
       "        icon_img.addClass('ui-button-icon-primary ui-icon');\n",
       "        icon_img.addClass(image);\n",
       "        icon_img.addClass('ui-corner-all');\n",
       "\n",
       "        var tooltip_span = $('<span/>');\n",
       "        tooltip_span.addClass('ui-button-text');\n",
       "        tooltip_span.html(tooltip);\n",
       "\n",
       "        button.append(icon_img);\n",
       "        button.append(tooltip_span);\n",
       "\n",
       "        nav_element.append(button);\n",
       "    }\n",
       "\n",
       "    var fmt_picker_span = $('<span/>');\n",
       "\n",
       "    var fmt_picker = $('<select/>');\n",
       "    fmt_picker.addClass('mpl-toolbar-option ui-widget ui-widget-content');\n",
       "    fmt_picker_span.append(fmt_picker);\n",
       "    nav_element.append(fmt_picker_span);\n",
       "    this.format_dropdown = fmt_picker[0];\n",
       "\n",
       "    for (var ind in mpl.extensions) {\n",
       "        var fmt = mpl.extensions[ind];\n",
       "        var option = $(\n",
       "            '<option/>', {selected: fmt === mpl.default_extension}).html(fmt);\n",
       "        fmt_picker.append(option)\n",
       "    }\n",
       "\n",
       "    // Add hover states to the ui-buttons\n",
       "    $( \".ui-button\" ).hover(\n",
       "        function() { $(this).addClass(\"ui-state-hover\");},\n",
       "        function() { $(this).removeClass(\"ui-state-hover\");}\n",
       "    );\n",
       "\n",
       "    var status_bar = $('<span class=\"mpl-message\"/>');\n",
       "    nav_element.append(status_bar);\n",
       "    this.message = status_bar[0];\n",
       "}\n",
       "\n",
       "mpl.figure.prototype.request_resize = function(x_pixels, y_pixels) {\n",
       "    // Request matplotlib to resize the figure. Matplotlib will then trigger a resize in the client,\n",
       "    // which will in turn request a refresh of the image.\n",
       "    this.send_message('resize', {'width': x_pixels, 'height': y_pixels});\n",
       "}\n",
       "\n",
       "mpl.figure.prototype.send_message = function(type, properties) {\n",
       "    properties['type'] = type;\n",
       "    properties['figure_id'] = this.id;\n",
       "    this.ws.send(JSON.stringify(properties));\n",
       "}\n",
       "\n",
       "mpl.figure.prototype.send_draw_message = function() {\n",
       "    if (!this.waiting) {\n",
       "        this.waiting = true;\n",
       "        this.ws.send(JSON.stringify({type: \"draw\", figure_id: this.id}));\n",
       "    }\n",
       "}\n",
       "\n",
       "\n",
       "mpl.figure.prototype.handle_save = function(fig, msg) {\n",
       "    var format_dropdown = fig.format_dropdown;\n",
       "    var format = format_dropdown.options[format_dropdown.selectedIndex].value;\n",
       "    fig.ondownload(fig, format);\n",
       "}\n",
       "\n",
       "\n",
       "mpl.figure.prototype.handle_resize = function(fig, msg) {\n",
       "    var size = msg['size'];\n",
       "    if (size[0] != fig.canvas.width || size[1] != fig.canvas.height) {\n",
       "        fig._resize_canvas(size[0], size[1]);\n",
       "        fig.send_message(\"refresh\", {});\n",
       "    };\n",
       "}\n",
       "\n",
       "mpl.figure.prototype.handle_rubberband = function(fig, msg) {\n",
       "    var x0 = msg['x0'] / mpl.ratio;\n",
       "    var y0 = (fig.canvas.height - msg['y0']) / mpl.ratio;\n",
       "    var x1 = msg['x1'] / mpl.ratio;\n",
       "    var y1 = (fig.canvas.height - msg['y1']) / mpl.ratio;\n",
       "    x0 = Math.floor(x0) + 0.5;\n",
       "    y0 = Math.floor(y0) + 0.5;\n",
       "    x1 = Math.floor(x1) + 0.5;\n",
       "    y1 = Math.floor(y1) + 0.5;\n",
       "    var min_x = Math.min(x0, x1);\n",
       "    var min_y = Math.min(y0, y1);\n",
       "    var width = Math.abs(x1 - x0);\n",
       "    var height = Math.abs(y1 - y0);\n",
       "\n",
       "    fig.rubberband_context.clearRect(\n",
       "        0, 0, fig.canvas.width, fig.canvas.height);\n",
       "\n",
       "    fig.rubberband_context.strokeRect(min_x, min_y, width, height);\n",
       "}\n",
       "\n",
       "mpl.figure.prototype.handle_figure_label = function(fig, msg) {\n",
       "    // Updates the figure title.\n",
       "    fig.header.textContent = msg['label'];\n",
       "}\n",
       "\n",
       "mpl.figure.prototype.handle_cursor = function(fig, msg) {\n",
       "    var cursor = msg['cursor'];\n",
       "    switch(cursor)\n",
       "    {\n",
       "    case 0:\n",
       "        cursor = 'pointer';\n",
       "        break;\n",
       "    case 1:\n",
       "        cursor = 'default';\n",
       "        break;\n",
       "    case 2:\n",
       "        cursor = 'crosshair';\n",
       "        break;\n",
       "    case 3:\n",
       "        cursor = 'move';\n",
       "        break;\n",
       "    }\n",
       "    fig.rubberband_canvas.style.cursor = cursor;\n",
       "}\n",
       "\n",
       "mpl.figure.prototype.handle_message = function(fig, msg) {\n",
       "    fig.message.textContent = msg['message'];\n",
       "}\n",
       "\n",
       "mpl.figure.prototype.handle_draw = function(fig, msg) {\n",
       "    // Request the server to send over a new figure.\n",
       "    fig.send_draw_message();\n",
       "}\n",
       "\n",
       "mpl.figure.prototype.handle_image_mode = function(fig, msg) {\n",
       "    fig.image_mode = msg['mode'];\n",
       "}\n",
       "\n",
       "mpl.figure.prototype.updated_canvas_event = function() {\n",
       "    // Called whenever the canvas gets updated.\n",
       "    this.send_message(\"ack\", {});\n",
       "}\n",
       "\n",
       "// A function to construct a web socket function for onmessage handling.\n",
       "// Called in the figure constructor.\n",
       "mpl.figure.prototype._make_on_message_function = function(fig) {\n",
       "    return function socket_on_message(evt) {\n",
       "        if (evt.data instanceof Blob) {\n",
       "            /* FIXME: We get \"Resource interpreted as Image but\n",
       "             * transferred with MIME type text/plain:\" errors on\n",
       "             * Chrome.  But how to set the MIME type?  It doesn't seem\n",
       "             * to be part of the websocket stream */\n",
       "            evt.data.type = \"image/png\";\n",
       "\n",
       "            /* Free the memory for the previous frames */\n",
       "            if (fig.imageObj.src) {\n",
       "                (window.URL || window.webkitURL).revokeObjectURL(\n",
       "                    fig.imageObj.src);\n",
       "            }\n",
       "\n",
       "            fig.imageObj.src = (window.URL || window.webkitURL).createObjectURL(\n",
       "                evt.data);\n",
       "            fig.updated_canvas_event();\n",
       "            fig.waiting = false;\n",
       "            return;\n",
       "        }\n",
       "        else if (typeof evt.data === 'string' && evt.data.slice(0, 21) == \"data:image/png;base64\") {\n",
       "            fig.imageObj.src = evt.data;\n",
       "            fig.updated_canvas_event();\n",
       "            fig.waiting = false;\n",
       "            return;\n",
       "        }\n",
       "\n",
       "        var msg = JSON.parse(evt.data);\n",
       "        var msg_type = msg['type'];\n",
       "\n",
       "        // Call the  \"handle_{type}\" callback, which takes\n",
       "        // the figure and JSON message as its only arguments.\n",
       "        try {\n",
       "            var callback = fig[\"handle_\" + msg_type];\n",
       "        } catch (e) {\n",
       "            console.log(\"No handler for the '\" + msg_type + \"' message type: \", msg);\n",
       "            return;\n",
       "        }\n",
       "\n",
       "        if (callback) {\n",
       "            try {\n",
       "                // console.log(\"Handling '\" + msg_type + \"' message: \", msg);\n",
       "                callback(fig, msg);\n",
       "            } catch (e) {\n",
       "                console.log(\"Exception inside the 'handler_\" + msg_type + \"' callback:\", e, e.stack, msg);\n",
       "            }\n",
       "        }\n",
       "    };\n",
       "}\n",
       "\n",
       "// from http://stackoverflow.com/questions/1114465/getting-mouse-location-in-canvas\n",
       "mpl.findpos = function(e) {\n",
       "    //this section is from http://www.quirksmode.org/js/events_properties.html\n",
       "    var targ;\n",
       "    if (!e)\n",
       "        e = window.event;\n",
       "    if (e.target)\n",
       "        targ = e.target;\n",
       "    else if (e.srcElement)\n",
       "        targ = e.srcElement;\n",
       "    if (targ.nodeType == 3) // defeat Safari bug\n",
       "        targ = targ.parentNode;\n",
       "\n",
       "    // jQuery normalizes the pageX and pageY\n",
       "    // pageX,Y are the mouse positions relative to the document\n",
       "    // offset() returns the position of the element relative to the document\n",
       "    var x = e.pageX - $(targ).offset().left;\n",
       "    var y = e.pageY - $(targ).offset().top;\n",
       "\n",
       "    return {\"x\": x, \"y\": y};\n",
       "};\n",
       "\n",
       "/*\n",
       " * return a copy of an object with only non-object keys\n",
       " * we need this to avoid circular references\n",
       " * http://stackoverflow.com/a/24161582/3208463\n",
       " */\n",
       "function simpleKeys (original) {\n",
       "  return Object.keys(original).reduce(function (obj, key) {\n",
       "    if (typeof original[key] !== 'object')\n",
       "        obj[key] = original[key]\n",
       "    return obj;\n",
       "  }, {});\n",
       "}\n",
       "\n",
       "mpl.figure.prototype.mouse_event = function(event, name) {\n",
       "    var canvas_pos = mpl.findpos(event)\n",
       "\n",
       "    if (name === 'button_press')\n",
       "    {\n",
       "        this.canvas.focus();\n",
       "        this.canvas_div.focus();\n",
       "    }\n",
       "\n",
       "    var x = canvas_pos.x * mpl.ratio;\n",
       "    var y = canvas_pos.y * mpl.ratio;\n",
       "\n",
       "    this.send_message(name, {x: x, y: y, button: event.button,\n",
       "                             step: event.step,\n",
       "                             guiEvent: simpleKeys(event)});\n",
       "\n",
       "    /* This prevents the web browser from automatically changing to\n",
       "     * the text insertion cursor when the button is pressed.  We want\n",
       "     * to control all of the cursor setting manually through the\n",
       "     * 'cursor' event from matplotlib */\n",
       "    event.preventDefault();\n",
       "    return false;\n",
       "}\n",
       "\n",
       "mpl.figure.prototype._key_event_extra = function(event, name) {\n",
       "    // Handle any extra behaviour associated with a key event\n",
       "}\n",
       "\n",
       "mpl.figure.prototype.key_event = function(event, name) {\n",
       "\n",
       "    // Prevent repeat events\n",
       "    if (name == 'key_press')\n",
       "    {\n",
       "        if (event.which === this._key)\n",
       "            return;\n",
       "        else\n",
       "            this._key = event.which;\n",
       "    }\n",
       "    if (name == 'key_release')\n",
       "        this._key = null;\n",
       "\n",
       "    var value = '';\n",
       "    if (event.ctrlKey && event.which != 17)\n",
       "        value += \"ctrl+\";\n",
       "    if (event.altKey && event.which != 18)\n",
       "        value += \"alt+\";\n",
       "    if (event.shiftKey && event.which != 16)\n",
       "        value += \"shift+\";\n",
       "\n",
       "    value += 'k';\n",
       "    value += event.which.toString();\n",
       "\n",
       "    this._key_event_extra(event, name);\n",
       "\n",
       "    this.send_message(name, {key: value,\n",
       "                             guiEvent: simpleKeys(event)});\n",
       "    return false;\n",
       "}\n",
       "\n",
       "mpl.figure.prototype.toolbar_button_onclick = function(name) {\n",
       "    if (name == 'download') {\n",
       "        this.handle_save(this, null);\n",
       "    } else {\n",
       "        this.send_message(\"toolbar_button\", {name: name});\n",
       "    }\n",
       "};\n",
       "\n",
       "mpl.figure.prototype.toolbar_button_onmouseover = function(tooltip) {\n",
       "    this.message.textContent = tooltip;\n",
       "};\n",
       "mpl.toolbar_items = [[\"Home\", \"Reset original view\", \"fa fa-home icon-home\", \"home\"], [\"Back\", \"Back to  previous view\", \"fa fa-arrow-left icon-arrow-left\", \"back\"], [\"Forward\", \"Forward to next view\", \"fa fa-arrow-right icon-arrow-right\", \"forward\"], [\"\", \"\", \"\", \"\"], [\"Pan\", \"Pan axes with left mouse, zoom with right\", \"fa fa-arrows icon-move\", \"pan\"], [\"Zoom\", \"Zoom to rectangle\", \"fa fa-square-o icon-check-empty\", \"zoom\"], [\"\", \"\", \"\", \"\"], [\"Download\", \"Download plot\", \"fa fa-floppy-o icon-save\", \"download\"]];\n",
       "\n",
       "mpl.extensions = [\"eps\", \"jpeg\", \"pdf\", \"png\", \"ps\", \"raw\", \"svg\", \"tif\"];\n",
       "\n",
       "mpl.default_extension = \"png\";var comm_websocket_adapter = function(comm) {\n",
       "    // Create a \"websocket\"-like object which calls the given IPython comm\n",
       "    // object with the appropriate methods. Currently this is a non binary\n",
       "    // socket, so there is still some room for performance tuning.\n",
       "    var ws = {};\n",
       "\n",
       "    ws.close = function() {\n",
       "        comm.close()\n",
       "    };\n",
       "    ws.send = function(m) {\n",
       "        //console.log('sending', m);\n",
       "        comm.send(m);\n",
       "    };\n",
       "    // Register the callback with on_msg.\n",
       "    comm.on_msg(function(msg) {\n",
       "        //console.log('receiving', msg['content']['data'], msg);\n",
       "        // Pass the mpl event to the overriden (by mpl) onmessage function.\n",
       "        ws.onmessage(msg['content']['data'])\n",
       "    });\n",
       "    return ws;\n",
       "}\n",
       "\n",
       "mpl.mpl_figure_comm = function(comm, msg) {\n",
       "    // This is the function which gets called when the mpl process\n",
       "    // starts-up an IPython Comm through the \"matplotlib\" channel.\n",
       "\n",
       "    var id = msg.content.data.id;\n",
       "    // Get hold of the div created by the display call when the Comm\n",
       "    // socket was opened in Python.\n",
       "    var element = $(\"#\" + id);\n",
       "    var ws_proxy = comm_websocket_adapter(comm)\n",
       "\n",
       "    function ondownload(figure, format) {\n",
       "        window.open(figure.imageObj.src);\n",
       "    }\n",
       "\n",
       "    var fig = new mpl.figure(id, ws_proxy,\n",
       "                           ondownload,\n",
       "                           element.get(0));\n",
       "\n",
       "    // Call onopen now - mpl needs it, as it is assuming we've passed it a real\n",
       "    // web socket which is closed, not our websocket->open comm proxy.\n",
       "    ws_proxy.onopen();\n",
       "\n",
       "    fig.parent_element = element.get(0);\n",
       "    fig.cell_info = mpl.find_output_cell(\"<div id='\" + id + \"'></div>\");\n",
       "    if (!fig.cell_info) {\n",
       "        console.error(\"Failed to find cell for figure\", id, fig);\n",
       "        return;\n",
       "    }\n",
       "\n",
       "    var output_index = fig.cell_info[2]\n",
       "    var cell = fig.cell_info[0];\n",
       "\n",
       "};\n",
       "\n",
       "mpl.figure.prototype.handle_close = function(fig, msg) {\n",
       "    var width = fig.canvas.width/mpl.ratio\n",
       "    fig.root.unbind('remove')\n",
       "\n",
       "    // Update the output cell to use the data from the current canvas.\n",
       "    fig.push_to_output();\n",
       "    var dataURL = fig.canvas.toDataURL();\n",
       "    // Re-enable the keyboard manager in IPython - without this line, in FF,\n",
       "    // the notebook keyboard shortcuts fail.\n",
       "    IPython.keyboard_manager.enable()\n",
       "    $(fig.parent_element).html('<img src=\"' + dataURL + '\" width=\"' + width + '\">');\n",
       "    fig.close_ws(fig, msg);\n",
       "}\n",
       "\n",
       "mpl.figure.prototype.close_ws = function(fig, msg){\n",
       "    fig.send_message('closing', msg);\n",
       "    // fig.ws.close()\n",
       "}\n",
       "\n",
       "mpl.figure.prototype.push_to_output = function(remove_interactive) {\n",
       "    // Turn the data on the canvas into data in the output cell.\n",
       "    var width = this.canvas.width/mpl.ratio\n",
       "    var dataURL = this.canvas.toDataURL();\n",
       "    this.cell_info[1]['text/html'] = '<img src=\"' + dataURL + '\" width=\"' + width + '\">';\n",
       "}\n",
       "\n",
       "mpl.figure.prototype.updated_canvas_event = function() {\n",
       "    // Tell IPython that the notebook contents must change.\n",
       "    IPython.notebook.set_dirty(true);\n",
       "    this.send_message(\"ack\", {});\n",
       "    var fig = this;\n",
       "    // Wait a second, then push the new image to the DOM so\n",
       "    // that it is saved nicely (might be nice to debounce this).\n",
       "    setTimeout(function () { fig.push_to_output() }, 1000);\n",
       "}\n",
       "\n",
       "mpl.figure.prototype._init_toolbar = function() {\n",
       "    var fig = this;\n",
       "\n",
       "    var nav_element = $('<div/>')\n",
       "    nav_element.attr('style', 'width: 100%');\n",
       "    this.root.append(nav_element);\n",
       "\n",
       "    // Define a callback function for later on.\n",
       "    function toolbar_event(event) {\n",
       "        return fig.toolbar_button_onclick(event['data']);\n",
       "    }\n",
       "    function toolbar_mouse_event(event) {\n",
       "        return fig.toolbar_button_onmouseover(event['data']);\n",
       "    }\n",
       "\n",
       "    for(var toolbar_ind in mpl.toolbar_items){\n",
       "        var name = mpl.toolbar_items[toolbar_ind][0];\n",
       "        var tooltip = mpl.toolbar_items[toolbar_ind][1];\n",
       "        var image = mpl.toolbar_items[toolbar_ind][2];\n",
       "        var method_name = mpl.toolbar_items[toolbar_ind][3];\n",
       "\n",
       "        if (!name) { continue; };\n",
       "\n",
       "        var button = $('<button class=\"btn btn-default\" href=\"#\" title=\"' + name + '\"><i class=\"fa ' + image + ' fa-lg\"></i></button>');\n",
       "        button.click(method_name, toolbar_event);\n",
       "        button.mouseover(tooltip, toolbar_mouse_event);\n",
       "        nav_element.append(button);\n",
       "    }\n",
       "\n",
       "    // Add the status bar.\n",
       "    var status_bar = $('<span class=\"mpl-message\" style=\"text-align:right; float: right;\"/>');\n",
       "    nav_element.append(status_bar);\n",
       "    this.message = status_bar[0];\n",
       "\n",
       "    // Add the close button to the window.\n",
       "    var buttongrp = $('<div class=\"btn-group inline pull-right\"></div>');\n",
       "    var button = $('<button class=\"btn btn-mini btn-primary\" href=\"#\" title=\"Stop Interaction\"><i class=\"fa fa-power-off icon-remove icon-large\"></i></button>');\n",
       "    button.click(function (evt) { fig.handle_close(fig, {}); } );\n",
       "    button.mouseover('Stop Interaction', toolbar_mouse_event);\n",
       "    buttongrp.append(button);\n",
       "    var titlebar = this.root.find($('.ui-dialog-titlebar'));\n",
       "    titlebar.prepend(buttongrp);\n",
       "}\n",
       "\n",
       "mpl.figure.prototype._root_extra_style = function(el){\n",
       "    var fig = this\n",
       "    el.on(\"remove\", function(){\n",
       "\tfig.close_ws(fig, {});\n",
       "    });\n",
       "}\n",
       "\n",
       "mpl.figure.prototype._canvas_extra_style = function(el){\n",
       "    // this is important to make the div 'focusable\n",
       "    el.attr('tabindex', 0)\n",
       "    // reach out to IPython and tell the keyboard manager to turn it's self\n",
       "    // off when our div gets focus\n",
       "\n",
       "    // location in version 3\n",
       "    if (IPython.notebook.keyboard_manager) {\n",
       "        IPython.notebook.keyboard_manager.register_events(el);\n",
       "    }\n",
       "    else {\n",
       "        // location in version 2\n",
       "        IPython.keyboard_manager.register_events(el);\n",
       "    }\n",
       "\n",
       "}\n",
       "\n",
       "mpl.figure.prototype._key_event_extra = function(event, name) {\n",
       "    var manager = IPython.notebook.keyboard_manager;\n",
       "    if (!manager)\n",
       "        manager = IPython.keyboard_manager;\n",
       "\n",
       "    // Check for shift+enter\n",
       "    if (event.shiftKey && event.which == 13) {\n",
       "        this.canvas_div.blur();\n",
       "        // select the cell after this one\n",
       "        var index = IPython.notebook.find_cell_index(this.cell_info[0]);\n",
       "        IPython.notebook.select(index + 1);\n",
       "    }\n",
       "}\n",
       "\n",
       "mpl.figure.prototype.handle_save = function(fig, msg) {\n",
       "    fig.ondownload(fig, null);\n",
       "}\n",
       "\n",
       "\n",
       "mpl.find_output_cell = function(html_output) {\n",
       "    // Return the cell and output element which can be found *uniquely* in the notebook.\n",
       "    // Note - this is a bit hacky, but it is done because the \"notebook_saving.Notebook\"\n",
       "    // IPython event is triggered only after the cells have been serialised, which for\n",
       "    // our purposes (turning an active figure into a static one), is too late.\n",
       "    var cells = IPython.notebook.get_cells();\n",
       "    var ncells = cells.length;\n",
       "    for (var i=0; i<ncells; i++) {\n",
       "        var cell = cells[i];\n",
       "        if (cell.cell_type === 'code'){\n",
       "            for (var j=0; j<cell.output_area.outputs.length; j++) {\n",
       "                var data = cell.output_area.outputs[j];\n",
       "                if (data.data) {\n",
       "                    // IPython >= 3 moved mimebundle to data attribute of output\n",
       "                    data = data.data;\n",
       "                }\n",
       "                if (data['text/html'] == html_output) {\n",
       "                    return [cell, data, j];\n",
       "                }\n",
       "            }\n",
       "        }\n",
       "    }\n",
       "}\n",
       "\n",
       "// Register the function which deals with the matplotlib target/channel.\n",
       "// The kernel may be null if the page has been refreshed.\n",
       "if (IPython.notebook.kernel != null) {\n",
       "    IPython.notebook.kernel.comm_manager.register_target('matplotlib', mpl.mpl_figure_comm);\n",
       "}\n"
      ],
      "text/plain": [
       "<IPython.core.display.Javascript object>"
      ]
     },
     "metadata": {},
     "output_type": "display_data"
    },
    {
     "data": {
      "text/html": [
       "<img src=\"data:image/png;base64,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\" width=\"640\">"
      ],
      "text/plain": [
       "<IPython.core.display.HTML object>"
      ]
     },
     "metadata": {},
     "output_type": "display_data"
    },
    {
     "data": {
      "text/plain": [
       "<matplotlib.collections.PathCollection at 0x111de4a8>"
      ]
     },
     "execution_count": 49,
     "metadata": {},
     "output_type": "execute_result"
    }
   ],
   "source": [
    "plt.scatter(data.dist,data.ed)"
   ]
  },
  {
   "cell_type": "code",
   "execution_count": 73,
   "metadata": {
    "collapsed": true
   },
   "outputs": [],
   "source": [
    "import seaborn"
   ]
  },
  {
   "cell_type": "code",
   "execution_count": 75,
   "metadata": {
    "collapsed": false
   },
   "outputs": [
    {
     "data": {
      "application/javascript": [
       "/* Put everything inside the global mpl namespace */\n",
       "window.mpl = {};\n",
       "\n",
       "\n",
       "mpl.get_websocket_type = function() {\n",
       "    if (typeof(WebSocket) !== 'undefined') {\n",
       "        return WebSocket;\n",
       "    } else if (typeof(MozWebSocket) !== 'undefined') {\n",
       "        return MozWebSocket;\n",
       "    } else {\n",
       "        alert('Your browser does not have WebSocket support.' +\n",
       "              'Please try Chrome, Safari or Firefox ≥ 6. ' +\n",
       "              'Firefox 4 and 5 are also supported but you ' +\n",
       "              'have to enable WebSockets in about:config.');\n",
       "    };\n",
       "}\n",
       "\n",
       "mpl.figure = function(figure_id, websocket, ondownload, parent_element) {\n",
       "    this.id = figure_id;\n",
       "\n",
       "    this.ws = websocket;\n",
       "\n",
       "    this.supports_binary = (this.ws.binaryType != undefined);\n",
       "\n",
       "    if (!this.supports_binary) {\n",
       "        var warnings = document.getElementById(\"mpl-warnings\");\n",
       "        if (warnings) {\n",
       "            warnings.style.display = 'block';\n",
       "            warnings.textContent = (\n",
       "                \"This browser does not support binary websocket messages. \" +\n",
       "                    \"Performance may be slow.\");\n",
       "        }\n",
       "    }\n",
       "\n",
       "    this.imageObj = new Image();\n",
       "\n",
       "    this.context = undefined;\n",
       "    this.message = undefined;\n",
       "    this.canvas = undefined;\n",
       "    this.rubberband_canvas = undefined;\n",
       "    this.rubberband_context = undefined;\n",
       "    this.format_dropdown = undefined;\n",
       "\n",
       "    this.image_mode = 'full';\n",
       "\n",
       "    this.root = $('<div/>');\n",
       "    this._root_extra_style(this.root)\n",
       "    this.root.attr('style', 'display: inline-block');\n",
       "\n",
       "    $(parent_element).append(this.root);\n",
       "\n",
       "    this._init_header(this);\n",
       "    this._init_canvas(this);\n",
       "    this._init_toolbar(this);\n",
       "\n",
       "    var fig = this;\n",
       "\n",
       "    this.waiting = false;\n",
       "\n",
       "    this.ws.onopen =  function () {\n",
       "            fig.send_message(\"supports_binary\", {value: fig.supports_binary});\n",
       "            fig.send_message(\"send_image_mode\", {});\n",
       "            if (mpl.ratio != 1) {\n",
       "                fig.send_message(\"set_dpi_ratio\", {'dpi_ratio': mpl.ratio});\n",
       "            }\n",
       "            fig.send_message(\"refresh\", {});\n",
       "        }\n",
       "\n",
       "    this.imageObj.onload = function() {\n",
       "            if (fig.image_mode == 'full') {\n",
       "                // Full images could contain transparency (where diff images\n",
       "                // almost always do), so we need to clear the canvas so that\n",
       "                // there is no ghosting.\n",
       "                fig.context.clearRect(0, 0, fig.canvas.width, fig.canvas.height);\n",
       "            }\n",
       "            fig.context.drawImage(fig.imageObj, 0, 0);\n",
       "        };\n",
       "\n",
       "    this.imageObj.onunload = function() {\n",
       "        this.ws.close();\n",
       "    }\n",
       "\n",
       "    this.ws.onmessage = this._make_on_message_function(this);\n",
       "\n",
       "    this.ondownload = ondownload;\n",
       "}\n",
       "\n",
       "mpl.figure.prototype._init_header = function() {\n",
       "    var titlebar = $(\n",
       "        '<div class=\"ui-dialog-titlebar ui-widget-header ui-corner-all ' +\n",
       "        'ui-helper-clearfix\"/>');\n",
       "    var titletext = $(\n",
       "        '<div class=\"ui-dialog-title\" style=\"width: 100%; ' +\n",
       "        'text-align: center; padding: 3px;\"/>');\n",
       "    titlebar.append(titletext)\n",
       "    this.root.append(titlebar);\n",
       "    this.header = titletext[0];\n",
       "}\n",
       "\n",
       "\n",
       "\n",
       "mpl.figure.prototype._canvas_extra_style = function(canvas_div) {\n",
       "\n",
       "}\n",
       "\n",
       "\n",
       "mpl.figure.prototype._root_extra_style = function(canvas_div) {\n",
       "\n",
       "}\n",
       "\n",
       "mpl.figure.prototype._init_canvas = function() {\n",
       "    var fig = this;\n",
       "\n",
       "    var canvas_div = $('<div/>');\n",
       "\n",
       "    canvas_div.attr('style', 'position: relative; clear: both; outline: 0');\n",
       "\n",
       "    function canvas_keyboard_event(event) {\n",
       "        return fig.key_event(event, event['data']);\n",
       "    }\n",
       "\n",
       "    canvas_div.keydown('key_press', canvas_keyboard_event);\n",
       "    canvas_div.keyup('key_release', canvas_keyboard_event);\n",
       "    this.canvas_div = canvas_div\n",
       "    this._canvas_extra_style(canvas_div)\n",
       "    this.root.append(canvas_div);\n",
       "\n",
       "    var canvas = $('<canvas/>');\n",
       "    canvas.addClass('mpl-canvas');\n",
       "    canvas.attr('style', \"left: 0; top: 0; z-index: 0; outline: 0\")\n",
       "\n",
       "    this.canvas = canvas[0];\n",
       "    this.context = canvas[0].getContext(\"2d\");\n",
       "\n",
       "    var backingStore = this.context.backingStorePixelRatio ||\n",
       "\tthis.context.webkitBackingStorePixelRatio ||\n",
       "\tthis.context.mozBackingStorePixelRatio ||\n",
       "\tthis.context.msBackingStorePixelRatio ||\n",
       "\tthis.context.oBackingStorePixelRatio ||\n",
       "\tthis.context.backingStorePixelRatio || 1;\n",
       "\n",
       "    mpl.ratio = (window.devicePixelRatio || 1) / backingStore;\n",
       "\n",
       "    var rubberband = $('<canvas/>');\n",
       "    rubberband.attr('style', \"position: absolute; left: 0; top: 0; z-index: 1;\")\n",
       "\n",
       "    var pass_mouse_events = true;\n",
       "\n",
       "    canvas_div.resizable({\n",
       "        start: function(event, ui) {\n",
       "            pass_mouse_events = false;\n",
       "        },\n",
       "        resize: function(event, ui) {\n",
       "            fig.request_resize(ui.size.width, ui.size.height);\n",
       "        },\n",
       "        stop: function(event, ui) {\n",
       "            pass_mouse_events = true;\n",
       "            fig.request_resize(ui.size.width, ui.size.height);\n",
       "        },\n",
       "    });\n",
       "\n",
       "    function mouse_event_fn(event) {\n",
       "        if (pass_mouse_events)\n",
       "            return fig.mouse_event(event, event['data']);\n",
       "    }\n",
       "\n",
       "    rubberband.mousedown('button_press', mouse_event_fn);\n",
       "    rubberband.mouseup('button_release', mouse_event_fn);\n",
       "    // Throttle sequential mouse events to 1 every 20ms.\n",
       "    rubberband.mousemove('motion_notify', mouse_event_fn);\n",
       "\n",
       "    rubberband.mouseenter('figure_enter', mouse_event_fn);\n",
       "    rubberband.mouseleave('figure_leave', mouse_event_fn);\n",
       "\n",
       "    canvas_div.on(\"wheel\", function (event) {\n",
       "        event = event.originalEvent;\n",
       "        event['data'] = 'scroll'\n",
       "        if (event.deltaY < 0) {\n",
       "            event.step = 1;\n",
       "        } else {\n",
       "            event.step = -1;\n",
       "        }\n",
       "        mouse_event_fn(event);\n",
       "    });\n",
       "\n",
       "    canvas_div.append(canvas);\n",
       "    canvas_div.append(rubberband);\n",
       "\n",
       "    this.rubberband = rubberband;\n",
       "    this.rubberband_canvas = rubberband[0];\n",
       "    this.rubberband_context = rubberband[0].getContext(\"2d\");\n",
       "    this.rubberband_context.strokeStyle = \"#000000\";\n",
       "\n",
       "    this._resize_canvas = function(width, height) {\n",
       "        // Keep the size of the canvas, canvas container, and rubber band\n",
       "        // canvas in synch.\n",
       "        canvas_div.css('width', width)\n",
       "        canvas_div.css('height', height)\n",
       "\n",
       "        canvas.attr('width', width * mpl.ratio);\n",
       "        canvas.attr('height', height * mpl.ratio);\n",
       "        canvas.attr('style', 'width: ' + width + 'px; height: ' + height + 'px;');\n",
       "\n",
       "        rubberband.attr('width', width);\n",
       "        rubberband.attr('height', height);\n",
       "    }\n",
       "\n",
       "    // Set the figure to an initial 600x600px, this will subsequently be updated\n",
       "    // upon first draw.\n",
       "    this._resize_canvas(600, 600);\n",
       "\n",
       "    // Disable right mouse context menu.\n",
       "    $(this.rubberband_canvas).bind(\"contextmenu\",function(e){\n",
       "        return false;\n",
       "    });\n",
       "\n",
       "    function set_focus () {\n",
       "        canvas.focus();\n",
       "        canvas_div.focus();\n",
       "    }\n",
       "\n",
       "    window.setTimeout(set_focus, 100);\n",
       "}\n",
       "\n",
       "mpl.figure.prototype._init_toolbar = function() {\n",
       "    var fig = this;\n",
       "\n",
       "    var nav_element = $('<div/>')\n",
       "    nav_element.attr('style', 'width: 100%');\n",
       "    this.root.append(nav_element);\n",
       "\n",
       "    // Define a callback function for later on.\n",
       "    function toolbar_event(event) {\n",
       "        return fig.toolbar_button_onclick(event['data']);\n",
       "    }\n",
       "    function toolbar_mouse_event(event) {\n",
       "        return fig.toolbar_button_onmouseover(event['data']);\n",
       "    }\n",
       "\n",
       "    for(var toolbar_ind in mpl.toolbar_items) {\n",
       "        var name = mpl.toolbar_items[toolbar_ind][0];\n",
       "        var tooltip = mpl.toolbar_items[toolbar_ind][1];\n",
       "        var image = mpl.toolbar_items[toolbar_ind][2];\n",
       "        var method_name = mpl.toolbar_items[toolbar_ind][3];\n",
       "\n",
       "        if (!name) {\n",
       "            // put a spacer in here.\n",
       "            continue;\n",
       "        }\n",
       "        var button = $('<button/>');\n",
       "        button.addClass('ui-button ui-widget ui-state-default ui-corner-all ' +\n",
       "                        'ui-button-icon-only');\n",
       "        button.attr('role', 'button');\n",
       "        button.attr('aria-disabled', 'false');\n",
       "        button.click(method_name, toolbar_event);\n",
       "        button.mouseover(tooltip, toolbar_mouse_event);\n",
       "\n",
       "        var icon_img = $('<span/>');\n",
       "        icon_img.addClass('ui-button-icon-primary ui-icon');\n",
       "        icon_img.addClass(image);\n",
       "        icon_img.addClass('ui-corner-all');\n",
       "\n",
       "        var tooltip_span = $('<span/>');\n",
       "        tooltip_span.addClass('ui-button-text');\n",
       "        tooltip_span.html(tooltip);\n",
       "\n",
       "        button.append(icon_img);\n",
       "        button.append(tooltip_span);\n",
       "\n",
       "        nav_element.append(button);\n",
       "    }\n",
       "\n",
       "    var fmt_picker_span = $('<span/>');\n",
       "\n",
       "    var fmt_picker = $('<select/>');\n",
       "    fmt_picker.addClass('mpl-toolbar-option ui-widget ui-widget-content');\n",
       "    fmt_picker_span.append(fmt_picker);\n",
       "    nav_element.append(fmt_picker_span);\n",
       "    this.format_dropdown = fmt_picker[0];\n",
       "\n",
       "    for (var ind in mpl.extensions) {\n",
       "        var fmt = mpl.extensions[ind];\n",
       "        var option = $(\n",
       "            '<option/>', {selected: fmt === mpl.default_extension}).html(fmt);\n",
       "        fmt_picker.append(option)\n",
       "    }\n",
       "\n",
       "    // Add hover states to the ui-buttons\n",
       "    $( \".ui-button\" ).hover(\n",
       "        function() { $(this).addClass(\"ui-state-hover\");},\n",
       "        function() { $(this).removeClass(\"ui-state-hover\");}\n",
       "    );\n",
       "\n",
       "    var status_bar = $('<span class=\"mpl-message\"/>');\n",
       "    nav_element.append(status_bar);\n",
       "    this.message = status_bar[0];\n",
       "}\n",
       "\n",
       "mpl.figure.prototype.request_resize = function(x_pixels, y_pixels) {\n",
       "    // Request matplotlib to resize the figure. Matplotlib will then trigger a resize in the client,\n",
       "    // which will in turn request a refresh of the image.\n",
       "    this.send_message('resize', {'width': x_pixels, 'height': y_pixels});\n",
       "}\n",
       "\n",
       "mpl.figure.prototype.send_message = function(type, properties) {\n",
       "    properties['type'] = type;\n",
       "    properties['figure_id'] = this.id;\n",
       "    this.ws.send(JSON.stringify(properties));\n",
       "}\n",
       "\n",
       "mpl.figure.prototype.send_draw_message = function() {\n",
       "    if (!this.waiting) {\n",
       "        this.waiting = true;\n",
       "        this.ws.send(JSON.stringify({type: \"draw\", figure_id: this.id}));\n",
       "    }\n",
       "}\n",
       "\n",
       "\n",
       "mpl.figure.prototype.handle_save = function(fig, msg) {\n",
       "    var format_dropdown = fig.format_dropdown;\n",
       "    var format = format_dropdown.options[format_dropdown.selectedIndex].value;\n",
       "    fig.ondownload(fig, format);\n",
       "}\n",
       "\n",
       "\n",
       "mpl.figure.prototype.handle_resize = function(fig, msg) {\n",
       "    var size = msg['size'];\n",
       "    if (size[0] != fig.canvas.width || size[1] != fig.canvas.height) {\n",
       "        fig._resize_canvas(size[0], size[1]);\n",
       "        fig.send_message(\"refresh\", {});\n",
       "    };\n",
       "}\n",
       "\n",
       "mpl.figure.prototype.handle_rubberband = function(fig, msg) {\n",
       "    var x0 = msg['x0'] / mpl.ratio;\n",
       "    var y0 = (fig.canvas.height - msg['y0']) / mpl.ratio;\n",
       "    var x1 = msg['x1'] / mpl.ratio;\n",
       "    var y1 = (fig.canvas.height - msg['y1']) / mpl.ratio;\n",
       "    x0 = Math.floor(x0) + 0.5;\n",
       "    y0 = Math.floor(y0) + 0.5;\n",
       "    x1 = Math.floor(x1) + 0.5;\n",
       "    y1 = Math.floor(y1) + 0.5;\n",
       "    var min_x = Math.min(x0, x1);\n",
       "    var min_y = Math.min(y0, y1);\n",
       "    var width = Math.abs(x1 - x0);\n",
       "    var height = Math.abs(y1 - y0);\n",
       "\n",
       "    fig.rubberband_context.clearRect(\n",
       "        0, 0, fig.canvas.width, fig.canvas.height);\n",
       "\n",
       "    fig.rubberband_context.strokeRect(min_x, min_y, width, height);\n",
       "}\n",
       "\n",
       "mpl.figure.prototype.handle_figure_label = function(fig, msg) {\n",
       "    // Updates the figure title.\n",
       "    fig.header.textContent = msg['label'];\n",
       "}\n",
       "\n",
       "mpl.figure.prototype.handle_cursor = function(fig, msg) {\n",
       "    var cursor = msg['cursor'];\n",
       "    switch(cursor)\n",
       "    {\n",
       "    case 0:\n",
       "        cursor = 'pointer';\n",
       "        break;\n",
       "    case 1:\n",
       "        cursor = 'default';\n",
       "        break;\n",
       "    case 2:\n",
       "        cursor = 'crosshair';\n",
       "        break;\n",
       "    case 3:\n",
       "        cursor = 'move';\n",
       "        break;\n",
       "    }\n",
       "    fig.rubberband_canvas.style.cursor = cursor;\n",
       "}\n",
       "\n",
       "mpl.figure.prototype.handle_message = function(fig, msg) {\n",
       "    fig.message.textContent = msg['message'];\n",
       "}\n",
       "\n",
       "mpl.figure.prototype.handle_draw = function(fig, msg) {\n",
       "    // Request the server to send over a new figure.\n",
       "    fig.send_draw_message();\n",
       "}\n",
       "\n",
       "mpl.figure.prototype.handle_image_mode = function(fig, msg) {\n",
       "    fig.image_mode = msg['mode'];\n",
       "}\n",
       "\n",
       "mpl.figure.prototype.updated_canvas_event = function() {\n",
       "    // Called whenever the canvas gets updated.\n",
       "    this.send_message(\"ack\", {});\n",
       "}\n",
       "\n",
       "// A function to construct a web socket function for onmessage handling.\n",
       "// Called in the figure constructor.\n",
       "mpl.figure.prototype._make_on_message_function = function(fig) {\n",
       "    return function socket_on_message(evt) {\n",
       "        if (evt.data instanceof Blob) {\n",
       "            /* FIXME: We get \"Resource interpreted as Image but\n",
       "             * transferred with MIME type text/plain:\" errors on\n",
       "             * Chrome.  But how to set the MIME type?  It doesn't seem\n",
       "             * to be part of the websocket stream */\n",
       "            evt.data.type = \"image/png\";\n",
       "\n",
       "            /* Free the memory for the previous frames */\n",
       "            if (fig.imageObj.src) {\n",
       "                (window.URL || window.webkitURL).revokeObjectURL(\n",
       "                    fig.imageObj.src);\n",
       "            }\n",
       "\n",
       "            fig.imageObj.src = (window.URL || window.webkitURL).createObjectURL(\n",
       "                evt.data);\n",
       "            fig.updated_canvas_event();\n",
       "            fig.waiting = false;\n",
       "            return;\n",
       "        }\n",
       "        else if (typeof evt.data === 'string' && evt.data.slice(0, 21) == \"data:image/png;base64\") {\n",
       "            fig.imageObj.src = evt.data;\n",
       "            fig.updated_canvas_event();\n",
       "            fig.waiting = false;\n",
       "            return;\n",
       "        }\n",
       "\n",
       "        var msg = JSON.parse(evt.data);\n",
       "        var msg_type = msg['type'];\n",
       "\n",
       "        // Call the  \"handle_{type}\" callback, which takes\n",
       "        // the figure and JSON message as its only arguments.\n",
       "        try {\n",
       "            var callback = fig[\"handle_\" + msg_type];\n",
       "        } catch (e) {\n",
       "            console.log(\"No handler for the '\" + msg_type + \"' message type: \", msg);\n",
       "            return;\n",
       "        }\n",
       "\n",
       "        if (callback) {\n",
       "            try {\n",
       "                // console.log(\"Handling '\" + msg_type + \"' message: \", msg);\n",
       "                callback(fig, msg);\n",
       "            } catch (e) {\n",
       "                console.log(\"Exception inside the 'handler_\" + msg_type + \"' callback:\", e, e.stack, msg);\n",
       "            }\n",
       "        }\n",
       "    };\n",
       "}\n",
       "\n",
       "// from http://stackoverflow.com/questions/1114465/getting-mouse-location-in-canvas\n",
       "mpl.findpos = function(e) {\n",
       "    //this section is from http://www.quirksmode.org/js/events_properties.html\n",
       "    var targ;\n",
       "    if (!e)\n",
       "        e = window.event;\n",
       "    if (e.target)\n",
       "        targ = e.target;\n",
       "    else if (e.srcElement)\n",
       "        targ = e.srcElement;\n",
       "    if (targ.nodeType == 3) // defeat Safari bug\n",
       "        targ = targ.parentNode;\n",
       "\n",
       "    // jQuery normalizes the pageX and pageY\n",
       "    // pageX,Y are the mouse positions relative to the document\n",
       "    // offset() returns the position of the element relative to the document\n",
       "    var x = e.pageX - $(targ).offset().left;\n",
       "    var y = e.pageY - $(targ).offset().top;\n",
       "\n",
       "    return {\"x\": x, \"y\": y};\n",
       "};\n",
       "\n",
       "/*\n",
       " * return a copy of an object with only non-object keys\n",
       " * we need this to avoid circular references\n",
       " * http://stackoverflow.com/a/24161582/3208463\n",
       " */\n",
       "function simpleKeys (original) {\n",
       "  return Object.keys(original).reduce(function (obj, key) {\n",
       "    if (typeof original[key] !== 'object')\n",
       "        obj[key] = original[key]\n",
       "    return obj;\n",
       "  }, {});\n",
       "}\n",
       "\n",
       "mpl.figure.prototype.mouse_event = function(event, name) {\n",
       "    var canvas_pos = mpl.findpos(event)\n",
       "\n",
       "    if (name === 'button_press')\n",
       "    {\n",
       "        this.canvas.focus();\n",
       "        this.canvas_div.focus();\n",
       "    }\n",
       "\n",
       "    var x = canvas_pos.x * mpl.ratio;\n",
       "    var y = canvas_pos.y * mpl.ratio;\n",
       "\n",
       "    this.send_message(name, {x: x, y: y, button: event.button,\n",
       "                             step: event.step,\n",
       "                             guiEvent: simpleKeys(event)});\n",
       "\n",
       "    /* This prevents the web browser from automatically changing to\n",
       "     * the text insertion cursor when the button is pressed.  We want\n",
       "     * to control all of the cursor setting manually through the\n",
       "     * 'cursor' event from matplotlib */\n",
       "    event.preventDefault();\n",
       "    return false;\n",
       "}\n",
       "\n",
       "mpl.figure.prototype._key_event_extra = function(event, name) {\n",
       "    // Handle any extra behaviour associated with a key event\n",
       "}\n",
       "\n",
       "mpl.figure.prototype.key_event = function(event, name) {\n",
       "\n",
       "    // Prevent repeat events\n",
       "    if (name == 'key_press')\n",
       "    {\n",
       "        if (event.which === this._key)\n",
       "            return;\n",
       "        else\n",
       "            this._key = event.which;\n",
       "    }\n",
       "    if (name == 'key_release')\n",
       "        this._key = null;\n",
       "\n",
       "    var value = '';\n",
       "    if (event.ctrlKey && event.which != 17)\n",
       "        value += \"ctrl+\";\n",
       "    if (event.altKey && event.which != 18)\n",
       "        value += \"alt+\";\n",
       "    if (event.shiftKey && event.which != 16)\n",
       "        value += \"shift+\";\n",
       "\n",
       "    value += 'k';\n",
       "    value += event.which.toString();\n",
       "\n",
       "    this._key_event_extra(event, name);\n",
       "\n",
       "    this.send_message(name, {key: value,\n",
       "                             guiEvent: simpleKeys(event)});\n",
       "    return false;\n",
       "}\n",
       "\n",
       "mpl.figure.prototype.toolbar_button_onclick = function(name) {\n",
       "    if (name == 'download') {\n",
       "        this.handle_save(this, null);\n",
       "    } else {\n",
       "        this.send_message(\"toolbar_button\", {name: name});\n",
       "    }\n",
       "};\n",
       "\n",
       "mpl.figure.prototype.toolbar_button_onmouseover = function(tooltip) {\n",
       "    this.message.textContent = tooltip;\n",
       "};\n",
       "mpl.toolbar_items = [[\"Home\", \"Reset original view\", \"fa fa-home icon-home\", \"home\"], [\"Back\", \"Back to  previous view\", \"fa fa-arrow-left icon-arrow-left\", \"back\"], [\"Forward\", \"Forward to next view\", \"fa fa-arrow-right icon-arrow-right\", \"forward\"], [\"\", \"\", \"\", \"\"], [\"Pan\", \"Pan axes with left mouse, zoom with right\", \"fa fa-arrows icon-move\", \"pan\"], [\"Zoom\", \"Zoom to rectangle\", \"fa fa-square-o icon-check-empty\", \"zoom\"], [\"\", \"\", \"\", \"\"], [\"Download\", \"Download plot\", \"fa fa-floppy-o icon-save\", \"download\"]];\n",
       "\n",
       "mpl.extensions = [\"eps\", \"jpeg\", \"pdf\", \"png\", \"ps\", \"raw\", \"svg\", \"tif\"];\n",
       "\n",
       "mpl.default_extension = \"png\";var comm_websocket_adapter = function(comm) {\n",
       "    // Create a \"websocket\"-like object which calls the given IPython comm\n",
       "    // object with the appropriate methods. Currently this is a non binary\n",
       "    // socket, so there is still some room for performance tuning.\n",
       "    var ws = {};\n",
       "\n",
       "    ws.close = function() {\n",
       "        comm.close()\n",
       "    };\n",
       "    ws.send = function(m) {\n",
       "        //console.log('sending', m);\n",
       "        comm.send(m);\n",
       "    };\n",
       "    // Register the callback with on_msg.\n",
       "    comm.on_msg(function(msg) {\n",
       "        //console.log('receiving', msg['content']['data'], msg);\n",
       "        // Pass the mpl event to the overriden (by mpl) onmessage function.\n",
       "        ws.onmessage(msg['content']['data'])\n",
       "    });\n",
       "    return ws;\n",
       "}\n",
       "\n",
       "mpl.mpl_figure_comm = function(comm, msg) {\n",
       "    // This is the function which gets called when the mpl process\n",
       "    // starts-up an IPython Comm through the \"matplotlib\" channel.\n",
       "\n",
       "    var id = msg.content.data.id;\n",
       "    // Get hold of the div created by the display call when the Comm\n",
       "    // socket was opened in Python.\n",
       "    var element = $(\"#\" + id);\n",
       "    var ws_proxy = comm_websocket_adapter(comm)\n",
       "\n",
       "    function ondownload(figure, format) {\n",
       "        window.open(figure.imageObj.src);\n",
       "    }\n",
       "\n",
       "    var fig = new mpl.figure(id, ws_proxy,\n",
       "                           ondownload,\n",
       "                           element.get(0));\n",
       "\n",
       "    // Call onopen now - mpl needs it, as it is assuming we've passed it a real\n",
       "    // web socket which is closed, not our websocket->open comm proxy.\n",
       "    ws_proxy.onopen();\n",
       "\n",
       "    fig.parent_element = element.get(0);\n",
       "    fig.cell_info = mpl.find_output_cell(\"<div id='\" + id + \"'></div>\");\n",
       "    if (!fig.cell_info) {\n",
       "        console.error(\"Failed to find cell for figure\", id, fig);\n",
       "        return;\n",
       "    }\n",
       "\n",
       "    var output_index = fig.cell_info[2]\n",
       "    var cell = fig.cell_info[0];\n",
       "\n",
       "};\n",
       "\n",
       "mpl.figure.prototype.handle_close = function(fig, msg) {\n",
       "    var width = fig.canvas.width/mpl.ratio\n",
       "    fig.root.unbind('remove')\n",
       "\n",
       "    // Update the output cell to use the data from the current canvas.\n",
       "    fig.push_to_output();\n",
       "    var dataURL = fig.canvas.toDataURL();\n",
       "    // Re-enable the keyboard manager in IPython - without this line, in FF,\n",
       "    // the notebook keyboard shortcuts fail.\n",
       "    IPython.keyboard_manager.enable()\n",
       "    $(fig.parent_element).html('<img src=\"' + dataURL + '\" width=\"' + width + '\">');\n",
       "    fig.close_ws(fig, msg);\n",
       "}\n",
       "\n",
       "mpl.figure.prototype.close_ws = function(fig, msg){\n",
       "    fig.send_message('closing', msg);\n",
       "    // fig.ws.close()\n",
       "}\n",
       "\n",
       "mpl.figure.prototype.push_to_output = function(remove_interactive) {\n",
       "    // Turn the data on the canvas into data in the output cell.\n",
       "    var width = this.canvas.width/mpl.ratio\n",
       "    var dataURL = this.canvas.toDataURL();\n",
       "    this.cell_info[1]['text/html'] = '<img src=\"' + dataURL + '\" width=\"' + width + '\">';\n",
       "}\n",
       "\n",
       "mpl.figure.prototype.updated_canvas_event = function() {\n",
       "    // Tell IPython that the notebook contents must change.\n",
       "    IPython.notebook.set_dirty(true);\n",
       "    this.send_message(\"ack\", {});\n",
       "    var fig = this;\n",
       "    // Wait a second, then push the new image to the DOM so\n",
       "    // that it is saved nicely (might be nice to debounce this).\n",
       "    setTimeout(function () { fig.push_to_output() }, 1000);\n",
       "}\n",
       "\n",
       "mpl.figure.prototype._init_toolbar = function() {\n",
       "    var fig = this;\n",
       "\n",
       "    var nav_element = $('<div/>')\n",
       "    nav_element.attr('style', 'width: 100%');\n",
       "    this.root.append(nav_element);\n",
       "\n",
       "    // Define a callback function for later on.\n",
       "    function toolbar_event(event) {\n",
       "        return fig.toolbar_button_onclick(event['data']);\n",
       "    }\n",
       "    function toolbar_mouse_event(event) {\n",
       "        return fig.toolbar_button_onmouseover(event['data']);\n",
       "    }\n",
       "\n",
       "    for(var toolbar_ind in mpl.toolbar_items){\n",
       "        var name = mpl.toolbar_items[toolbar_ind][0];\n",
       "        var tooltip = mpl.toolbar_items[toolbar_ind][1];\n",
       "        var image = mpl.toolbar_items[toolbar_ind][2];\n",
       "        var method_name = mpl.toolbar_items[toolbar_ind][3];\n",
       "\n",
       "        if (!name) { continue; };\n",
       "\n",
       "        var button = $('<button class=\"btn btn-default\" href=\"#\" title=\"' + name + '\"><i class=\"fa ' + image + ' fa-lg\"></i></button>');\n",
       "        button.click(method_name, toolbar_event);\n",
       "        button.mouseover(tooltip, toolbar_mouse_event);\n",
       "        nav_element.append(button);\n",
       "    }\n",
       "\n",
       "    // Add the status bar.\n",
       "    var status_bar = $('<span class=\"mpl-message\" style=\"text-align:right; float: right;\"/>');\n",
       "    nav_element.append(status_bar);\n",
       "    this.message = status_bar[0];\n",
       "\n",
       "    // Add the close button to the window.\n",
       "    var buttongrp = $('<div class=\"btn-group inline pull-right\"></div>');\n",
       "    var button = $('<button class=\"btn btn-mini btn-primary\" href=\"#\" title=\"Stop Interaction\"><i class=\"fa fa-power-off icon-remove icon-large\"></i></button>');\n",
       "    button.click(function (evt) { fig.handle_close(fig, {}); } );\n",
       "    button.mouseover('Stop Interaction', toolbar_mouse_event);\n",
       "    buttongrp.append(button);\n",
       "    var titlebar = this.root.find($('.ui-dialog-titlebar'));\n",
       "    titlebar.prepend(buttongrp);\n",
       "}\n",
       "\n",
       "mpl.figure.prototype._root_extra_style = function(el){\n",
       "    var fig = this\n",
       "    el.on(\"remove\", function(){\n",
       "\tfig.close_ws(fig, {});\n",
       "    });\n",
       "}\n",
       "\n",
       "mpl.figure.prototype._canvas_extra_style = function(el){\n",
       "    // this is important to make the div 'focusable\n",
       "    el.attr('tabindex', 0)\n",
       "    // reach out to IPython and tell the keyboard manager to turn it's self\n",
       "    // off when our div gets focus\n",
       "\n",
       "    // location in version 3\n",
       "    if (IPython.notebook.keyboard_manager) {\n",
       "        IPython.notebook.keyboard_manager.register_events(el);\n",
       "    }\n",
       "    else {\n",
       "        // location in version 2\n",
       "        IPython.keyboard_manager.register_events(el);\n",
       "    }\n",
       "\n",
       "}\n",
       "\n",
       "mpl.figure.prototype._key_event_extra = function(event, name) {\n",
       "    var manager = IPython.notebook.keyboard_manager;\n",
       "    if (!manager)\n",
       "        manager = IPython.keyboard_manager;\n",
       "\n",
       "    // Check for shift+enter\n",
       "    if (event.shiftKey && event.which == 13) {\n",
       "        this.canvas_div.blur();\n",
       "        // select the cell after this one\n",
       "        var index = IPython.notebook.find_cell_index(this.cell_info[0]);\n",
       "        IPython.notebook.select(index + 1);\n",
       "    }\n",
       "}\n",
       "\n",
       "mpl.figure.prototype.handle_save = function(fig, msg) {\n",
       "    fig.ondownload(fig, null);\n",
       "}\n",
       "\n",
       "\n",
       "mpl.find_output_cell = function(html_output) {\n",
       "    // Return the cell and output element which can be found *uniquely* in the notebook.\n",
       "    // Note - this is a bit hacky, but it is done because the \"notebook_saving.Notebook\"\n",
       "    // IPython event is triggered only after the cells have been serialised, which for\n",
       "    // our purposes (turning an active figure into a static one), is too late.\n",
       "    var cells = IPython.notebook.get_cells();\n",
       "    var ncells = cells.length;\n",
       "    for (var i=0; i<ncells; i++) {\n",
       "        var cell = cells[i];\n",
       "        if (cell.cell_type === 'code'){\n",
       "            for (var j=0; j<cell.output_area.outputs.length; j++) {\n",
       "                var data = cell.output_area.outputs[j];\n",
       "                if (data.data) {\n",
       "                    // IPython >= 3 moved mimebundle to data attribute of output\n",
       "                    data = data.data;\n",
       "                }\n",
       "                if (data['text/html'] == html_output) {\n",
       "                    return [cell, data, j];\n",
       "                }\n",
       "            }\n",
       "        }\n",
       "    }\n",
       "}\n",
       "\n",
       "// Register the function which deals with the matplotlib target/channel.\n",
       "// The kernel may be null if the page has been refreshed.\n",
       "if (IPython.notebook.kernel != null) {\n",
       "    IPython.notebook.kernel.comm_manager.register_target('matplotlib', mpl.mpl_figure_comm);\n",
       "}\n"
      ],
      "text/plain": [
       "<IPython.core.display.Javascript object>"
      ]
     },
     "metadata": {},
     "output_type": "display_data"
    },
    {
     "data": {
      "text/html": [
       "<img src=\"data:image/png;base64,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\" width=\"500\">"
      ],
      "text/plain": [
       "<IPython.core.display.HTML object>"
      ]
     },
     "metadata": {},
     "output_type": "display_data"
    },
    {
     "data": {
      "text/plain": [
       "<seaborn.axisgrid.FacetGrid at 0x14bd4630>"
      ]
     },
     "execution_count": 75,
     "metadata": {},
     "output_type": "execute_result"
    }
   ],
   "source": [
    "seaborn.lmplot(y='ed', x='dist', hue='female',data=data)  "
   ]
  },
  {
   "cell_type": "code",
   "execution_count": 50,
   "metadata": {
    "collapsed": false
   },
   "outputs": [],
   "source": [
    "model1 = ols(\"ed ~ dist\", data).fit()"
   ]
  },
  {
   "cell_type": "code",
   "execution_count": 51,
   "metadata": {
    "collapsed": false
   },
   "outputs": [
    {
     "name": "stdout",
     "output_type": "stream",
     "text": [
      "                            OLS Regression Results                            \n",
      "==============================================================================\n",
      "Dep. Variable:                     ed   R-squared:                       0.007\n",
      "Model:                            OLS   Adj. R-squared:                  0.007\n",
      "Method:                 Least Squares   F-statistic:                     28.48\n",
      "Date:                Sun, 04 Jun 2017   Prob (F-statistic):           1.00e-07\n",
      "Time:                        23:21:01   Log-Likelihood:                -7632.2\n",
      "No. Observations:                3796   AIC:                         1.527e+04\n",
      "Df Residuals:                    3794   BIC:                         1.528e+04\n",
      "Df Model:                           1                                         \n",
      "Covariance Type:            nonrobust                                         \n",
      "==============================================================================\n",
      "                 coef    std err          t      P>|t|      [95.0% Conf. Int.]\n",
      "------------------------------------------------------------------------------\n",
      "Intercept     13.9559      0.038    369.945      0.000        13.882    14.030\n",
      "dist          -0.0734      0.014     -5.336      0.000        -0.100    -0.046\n",
      "==============================================================================\n",
      "Omnibus:                     7187.794   Durbin-Watson:                   1.769\n",
      "Prob(Omnibus):                  0.000   Jarque-Bera (JB):              361.676\n",
      "Skew:                           0.410   Prob(JB):                     2.90e-79\n",
      "Kurtosis:                       1.729   Cond. No.                         3.73\n",
      "==============================================================================\n",
      "\n",
      "Warnings:\n",
      "[1] Standard Errors assume that the covariance matrix of the errors is correctly specified.\n"
     ]
    }
   ],
   "source": [
    "print(model1.summary())"
   ]
  },
  {
   "cell_type": "code",
   "execution_count": 53,
   "metadata": {
    "collapsed": true
   },
   "outputs": [],
   "source": [
    "\n",
    "str1 = '+'.join(x_names)"
   ]
  },
  {
   "cell_type": "code",
   "execution_count": 54,
   "metadata": {
    "collapsed": false
   },
   "outputs": [
    {
     "data": {
      "text/plain": [
       "'urban+dist+dadcoll+bytest+tuition+incomehi+hispanic+stwmfg80+female+black+ownhome+cue80+momcoll'"
      ]
     },
     "execution_count": 54,
     "metadata": {},
     "output_type": "execute_result"
    }
   ],
   "source": [
    "str1"
   ]
  },
  {
   "cell_type": "code",
   "execution_count": 55,
   "metadata": {
    "collapsed": false
   },
   "outputs": [],
   "source": [
    "model2 = ols(\"ed ~\"+ str1, data).fit()"
   ]
  },
  {
   "cell_type": "code",
   "execution_count": 56,
   "metadata": {
    "collapsed": false
   },
   "outputs": [
    {
     "name": "stdout",
     "output_type": "stream",
     "text": [
      "                            OLS Regression Results                            \n",
      "==============================================================================\n",
      "Dep. Variable:                     ed   R-squared:                       0.284\n",
      "Model:                            OLS   Adj. R-squared:                  0.281\n",
      "Method:                 Least Squares   F-statistic:                     115.3\n",
      "Date:                Sun, 04 Jun 2017   Prob (F-statistic):          2.61e-262\n",
      "Time:                        23:21:15   Log-Likelihood:                -7012.8\n",
      "No. Observations:                3796   AIC:                         1.405e+04\n",
      "Df Residuals:                    3782   BIC:                         1.414e+04\n",
      "Df Model:                          13                                         \n",
      "Covariance Type:            nonrobust                                         \n",
      "==============================================================================\n",
      "                 coef    std err          t      P>|t|      [95.0% Conf. Int.]\n",
      "------------------------------------------------------------------------------\n",
      "Intercept      8.8935      0.253     35.153      0.000         8.398     9.390\n",
      "urban          0.0652      0.064      1.024      0.306        -0.060     0.190\n",
      "dist          -0.0326      0.013     -2.446      0.015        -0.059    -0.006\n",
      "dadcoll        0.5740      0.074      7.783      0.000         0.429     0.719\n",
      "bytest         0.0931      0.003     29.251      0.000         0.087     0.099\n",
      "tuition       -0.1848      0.101     -1.829      0.067        -0.383     0.013\n",
      "incomehi       0.3741      0.061      6.157      0.000         0.255     0.493\n",
      "hispanic       0.3492      0.078      4.463      0.000         0.196     0.503\n",
      "stwmfg80      -0.0426      0.020     -2.110      0.035        -0.082    -0.003\n",
      "female         0.1439      0.050      2.853      0.004         0.045     0.243\n",
      "black          0.3384      0.072      4.685      0.000         0.197     0.480\n",
      "ownhome        0.1433      0.067      2.142      0.032         0.012     0.274\n",
      "cue80          0.0283      0.010      2.862      0.004         0.009     0.048\n",
      "momcoll        0.3787      0.082      4.645      0.000         0.219     0.539\n",
      "==============================================================================\n",
      "Omnibus:                      116.208   Durbin-Watson:                   1.928\n",
      "Prob(Omnibus):                  0.000   Jarque-Bera (JB):               98.107\n",
      "Skew:                           0.325   Prob(JB):                     4.97e-22\n",
      "Kurtosis:                       2.555   Cond. No.                         547.\n",
      "==============================================================================\n",
      "\n",
      "Warnings:\n",
      "[1] Standard Errors assume that the covariance matrix of the errors is correctly specified.\n"
     ]
    }
   ],
   "source": [
    "print(model2.summary())"
   ]
  },
  {
   "cell_type": "code",
   "execution_count": 66,
   "metadata": {
    "collapsed": false
   },
   "outputs": [
    {
     "data": {
      "text/plain": [
       "'urban,dist,dadcoll,bytest,tuition,incomehi,hispanic,stwmfg80,female,black,ownhome,cue80,momcoll'"
      ]
     },
     "execution_count": 66,
     "metadata": {},
     "output_type": "execute_result"
    }
   ],
   "source": [
    "\",\".join(x_names)"
   ]
  },
  {
   "cell_type": "code",
   "execution_count": 67,
   "metadata": {
    "collapsed": false
   },
   "outputs": [],
   "source": [
    "X = data[list(x_names)]"
   ]
  },
  {
   "cell_type": "code",
   "execution_count": 68,
   "metadata": {
    "collapsed": false
   },
   "outputs": [
    {
     "data": {
      "text/html": [
       "<div>\n",
       "<table border=\"1\" class=\"dataframe\">\n",
       "  <thead>\n",
       "    <tr style=\"text-align: right;\">\n",
       "      <th></th>\n",
       "      <th>urban</th>\n",
       "      <th>dist</th>\n",
       "      <th>dadcoll</th>\n",
       "      <th>bytest</th>\n",
       "      <th>tuition</th>\n",
       "      <th>incomehi</th>\n",
       "      <th>hispanic</th>\n",
       "      <th>stwmfg80</th>\n",
       "      <th>female</th>\n",
       "      <th>black</th>\n",
       "      <th>ownhome</th>\n",
       "      <th>cue80</th>\n",
       "      <th>momcoll</th>\n",
       "    </tr>\n",
       "  </thead>\n",
       "  <tbody>\n",
       "    <tr>\n",
       "      <th>0</th>\n",
       "      <td>1.0</td>\n",
       "      <td>0.2</td>\n",
       "      <td>1.0</td>\n",
       "      <td>39.150002</td>\n",
       "      <td>0.88915</td>\n",
       "      <td>1.0</td>\n",
       "      <td>0.0</td>\n",
       "      <td>8.09</td>\n",
       "      <td>0.0</td>\n",
       "      <td>0.0</td>\n",
       "      <td>1.0</td>\n",
       "      <td>6.2</td>\n",
       "      <td>0.0</td>\n",
       "    </tr>\n",
       "    <tr>\n",
       "      <th>1</th>\n",
       "      <td>1.0</td>\n",
       "      <td>0.2</td>\n",
       "      <td>0.0</td>\n",
       "      <td>48.869999</td>\n",
       "      <td>0.88915</td>\n",
       "      <td>0.0</td>\n",
       "      <td>0.0</td>\n",
       "      <td>8.09</td>\n",
       "      <td>1.0</td>\n",
       "      <td>0.0</td>\n",
       "      <td>1.0</td>\n",
       "      <td>6.2</td>\n",
       "      <td>0.0</td>\n",
       "    </tr>\n",
       "    <tr>\n",
       "      <th>2</th>\n",
       "      <td>1.0</td>\n",
       "      <td>0.2</td>\n",
       "      <td>0.0</td>\n",
       "      <td>48.740002</td>\n",
       "      <td>0.88915</td>\n",
       "      <td>0.0</td>\n",
       "      <td>0.0</td>\n",
       "      <td>8.09</td>\n",
       "      <td>0.0</td>\n",
       "      <td>0.0</td>\n",
       "      <td>1.0</td>\n",
       "      <td>6.2</td>\n",
       "      <td>0.0</td>\n",
       "    </tr>\n",
       "    <tr>\n",
       "      <th>3</th>\n",
       "      <td>1.0</td>\n",
       "      <td>0.2</td>\n",
       "      <td>0.0</td>\n",
       "      <td>40.400002</td>\n",
       "      <td>0.88915</td>\n",
       "      <td>0.0</td>\n",
       "      <td>0.0</td>\n",
       "      <td>8.09</td>\n",
       "      <td>0.0</td>\n",
       "      <td>1.0</td>\n",
       "      <td>1.0</td>\n",
       "      <td>6.2</td>\n",
       "      <td>0.0</td>\n",
       "    </tr>\n",
       "    <tr>\n",
       "      <th>4</th>\n",
       "      <td>1.0</td>\n",
       "      <td>0.4</td>\n",
       "      <td>0.0</td>\n",
       "      <td>40.480000</td>\n",
       "      <td>0.88915</td>\n",
       "      <td>0.0</td>\n",
       "      <td>0.0</td>\n",
       "      <td>8.09</td>\n",
       "      <td>1.0</td>\n",
       "      <td>0.0</td>\n",
       "      <td>0.0</td>\n",
       "      <td>5.6</td>\n",
       "      <td>0.0</td>\n",
       "    </tr>\n",
       "  </tbody>\n",
       "</table>\n",
       "</div>"
      ],
      "text/plain": [
       "   urban  dist  dadcoll     bytest  tuition  incomehi  hispanic  stwmfg80  \\\n",
       "0    1.0   0.2      1.0  39.150002  0.88915       1.0       0.0      8.09   \n",
       "1    1.0   0.2      0.0  48.869999  0.88915       0.0       0.0      8.09   \n",
       "2    1.0   0.2      0.0  48.740002  0.88915       0.0       0.0      8.09   \n",
       "3    1.0   0.2      0.0  40.400002  0.88915       0.0       0.0      8.09   \n",
       "4    1.0   0.4      0.0  40.480000  0.88915       0.0       0.0      8.09   \n",
       "\n",
       "   female  black  ownhome  cue80  momcoll  \n",
       "0     0.0    0.0      1.0    6.2      0.0  \n",
       "1     1.0    0.0      1.0    6.2      0.0  \n",
       "2     0.0    0.0      1.0    6.2      0.0  \n",
       "3     0.0    1.0      1.0    6.2      0.0  \n",
       "4     1.0    0.0      0.0    5.6      0.0  "
      ]
     },
     "execution_count": 68,
     "metadata": {},
     "output_type": "execute_result"
    }
   ],
   "source": [
    "X.head()"
   ]
  },
  {
   "cell_type": "code",
   "execution_count": 69,
   "metadata": {
    "collapsed": true
   },
   "outputs": [],
   "source": [
    "y = data[\"ed\"]"
   ]
  },
  {
   "cell_type": "code",
   "execution_count": 71,
   "metadata": {
    "collapsed": false
   },
   "outputs": [
    {
     "data": {
      "text/html": [
       "<table class=\"simpletable\">\n",
       "<caption>OLS Regression Results</caption>\n",
       "<tr>\n",
       "  <th>Dep. Variable:</th>           <td>ed</td>        <th>  R-squared:         </th> <td>   0.984</td> \n",
       "</tr>\n",
       "<tr>\n",
       "  <th>Model:</th>                   <td>OLS</td>       <th>  Adj. R-squared:    </th> <td>   0.984</td> \n",
       "</tr>\n",
       "<tr>\n",
       "  <th>Method:</th>             <td>Least Squares</td>  <th>  F-statistic:       </th> <td>1.782e+04</td>\n",
       "</tr>\n",
       "<tr>\n",
       "  <th>Date:</th>             <td>Sun, 04 Jun 2017</td> <th>  Prob (F-statistic):</th>  <td>  0.00</td>  \n",
       "</tr>\n",
       "<tr>\n",
       "  <th>Time:</th>                 <td>23:22:32</td>     <th>  Log-Likelihood:    </th> <td> -7549.4</td> \n",
       "</tr>\n",
       "<tr>\n",
       "  <th>No. Observations:</th>      <td>  3796</td>      <th>  AIC:               </th> <td>1.512e+04</td>\n",
       "</tr>\n",
       "<tr>\n",
       "  <th>Df Residuals:</th>          <td>  3783</td>      <th>  BIC:               </th> <td>1.521e+04</td>\n",
       "</tr>\n",
       "<tr>\n",
       "  <th>Df Model:</th>              <td>    13</td>      <th>                     </th>     <td> </td>    \n",
       "</tr>\n",
       "<tr>\n",
       "  <th>Covariance Type:</th>      <td>nonrobust</td>    <th>                     </th>     <td> </td>    \n",
       "</tr>\n",
       "</table>\n",
       "<table class=\"simpletable\">\n",
       "<tr>\n",
       "      <td></td>        <th>coef</th>     <th>std err</th>      <th>t</th>      <th>P>|t|</th> <th>[95.0% Conf. Int.]</th> \n",
       "</tr>\n",
       "<tr>\n",
       "  <th>urban</th>    <td>    0.3009</td> <td>    0.073</td> <td>    4.128</td> <td> 0.000</td> <td>    0.158     0.444</td>\n",
       "</tr>\n",
       "<tr>\n",
       "  <th>dist</th>     <td>    0.0562</td> <td>    0.015</td> <td>    3.731</td> <td> 0.000</td> <td>    0.027     0.086</td>\n",
       "</tr>\n",
       "<tr>\n",
       "  <th>dadcoll</th>  <td>    0.4872</td> <td>    0.085</td> <td>    5.738</td> <td> 0.000</td> <td>    0.321     0.654</td>\n",
       "</tr>\n",
       "<tr>\n",
       "  <th>bytest</th>   <td>    0.1604</td> <td>    0.003</td> <td>   54.853</td> <td> 0.000</td> <td>    0.155     0.166</td>\n",
       "</tr>\n",
       "<tr>\n",
       "  <th>tuition</th>  <td>    0.2777</td> <td>    0.115</td> <td>    2.406</td> <td> 0.016</td> <td>    0.051     0.504</td>\n",
       "</tr>\n",
       "<tr>\n",
       "  <th>incomehi</th> <td>    0.3451</td> <td>    0.070</td> <td>    4.933</td> <td> 0.000</td> <td>    0.208     0.482</td>\n",
       "</tr>\n",
       "<tr>\n",
       "  <th>hispanic</th> <td>    1.0194</td> <td>    0.087</td> <td>   11.665</td> <td> 0.000</td> <td>    0.848     1.191</td>\n",
       "</tr>\n",
       "<tr>\n",
       "  <th>stwmfg80</th> <td>    0.3802</td> <td>    0.019</td> <td>   20.330</td> <td> 0.000</td> <td>    0.344     0.417</td>\n",
       "</tr>\n",
       "<tr>\n",
       "  <th>female</th>   <td>    0.4525</td> <td>    0.057</td> <td>    7.909</td> <td> 0.000</td> <td>    0.340     0.565</td>\n",
       "</tr>\n",
       "<tr>\n",
       "  <th>black</th>    <td>    1.3048</td> <td>    0.077</td> <td>   16.963</td> <td> 0.000</td> <td>    1.154     1.456</td>\n",
       "</tr>\n",
       "<tr>\n",
       "  <th>ownhome</th>  <td>    0.5369</td> <td>    0.076</td> <td>    7.070</td> <td> 0.000</td> <td>    0.388     0.686</td>\n",
       "</tr>\n",
       "<tr>\n",
       "  <th>cue80</th>    <td>    0.0225</td> <td>    0.011</td> <td>    1.979</td> <td> 0.048</td> <td>    0.000     0.045</td>\n",
       "</tr>\n",
       "<tr>\n",
       "  <th>momcoll</th>  <td>    0.3025</td> <td>    0.094</td> <td>    3.223</td> <td> 0.001</td> <td>    0.118     0.487</td>\n",
       "</tr>\n",
       "</table>\n",
       "<table class=\"simpletable\">\n",
       "<tr>\n",
       "  <th>Omnibus:</th>       <td> 6.262</td> <th>  Durbin-Watson:     </th> <td>   1.720</td>\n",
       "</tr>\n",
       "<tr>\n",
       "  <th>Prob(Omnibus):</th> <td> 0.044</td> <th>  Jarque-Bera (JB):  </th> <td>   6.203</td>\n",
       "</tr>\n",
       "<tr>\n",
       "  <th>Skew:</th>          <td> 0.094</td> <th>  Prob(JB):          </th> <td>  0.0450</td>\n",
       "</tr>\n",
       "<tr>\n",
       "  <th>Kurtosis:</th>      <td> 3.063</td> <th>  Cond. No.          </th> <td>    221.</td>\n",
       "</tr>\n",
       "</table>"
      ],
      "text/plain": [
       "<class 'statsmodels.iolib.summary.Summary'>\n",
       "\"\"\"\n",
       "                            OLS Regression Results                            \n",
       "==============================================================================\n",
       "Dep. Variable:                     ed   R-squared:                       0.984\n",
       "Model:                            OLS   Adj. R-squared:                  0.984\n",
       "Method:                 Least Squares   F-statistic:                 1.782e+04\n",
       "Date:                Sun, 04 Jun 2017   Prob (F-statistic):               0.00\n",
       "Time:                        23:22:32   Log-Likelihood:                -7549.4\n",
       "No. Observations:                3796   AIC:                         1.512e+04\n",
       "Df Residuals:                    3783   BIC:                         1.521e+04\n",
       "Df Model:                          13                                         \n",
       "Covariance Type:            nonrobust                                         \n",
       "==============================================================================\n",
       "                 coef    std err          t      P>|t|      [95.0% Conf. Int.]\n",
       "------------------------------------------------------------------------------\n",
       "urban          0.3009      0.073      4.128      0.000         0.158     0.444\n",
       "dist           0.0562      0.015      3.731      0.000         0.027     0.086\n",
       "dadcoll        0.4872      0.085      5.738      0.000         0.321     0.654\n",
       "bytest         0.1604      0.003     54.853      0.000         0.155     0.166\n",
       "tuition        0.2777      0.115      2.406      0.016         0.051     0.504\n",
       "incomehi       0.3451      0.070      4.933      0.000         0.208     0.482\n",
       "hispanic       1.0194      0.087     11.665      0.000         0.848     1.191\n",
       "stwmfg80       0.3802      0.019     20.330      0.000         0.344     0.417\n",
       "female         0.4525      0.057      7.909      0.000         0.340     0.565\n",
       "black          1.3048      0.077     16.963      0.000         1.154     1.456\n",
       "ownhome        0.5369      0.076      7.070      0.000         0.388     0.686\n",
       "cue80          0.0225      0.011      1.979      0.048         0.000     0.045\n",
       "momcoll        0.3025      0.094      3.223      0.001         0.118     0.487\n",
       "==============================================================================\n",
       "Omnibus:                        6.262   Durbin-Watson:                   1.720\n",
       "Prob(Omnibus):                  0.044   Jarque-Bera (JB):                6.203\n",
       "Skew:                           0.094   Prob(JB):                       0.0450\n",
       "Kurtosis:                       3.063   Cond. No.                         221.\n",
       "==============================================================================\n",
       "\n",
       "Warnings:\n",
       "[1] Standard Errors assume that the covariance matrix of the errors is correctly specified.\n",
       "\"\"\""
      ]
     },
     "execution_count": 71,
     "metadata": {},
     "output_type": "execute_result"
    }
   ],
   "source": [
    "\n",
    "\n",
    "\n",
    "# Note the difference in argument order\n",
    "model = sm.OLS(y, X).fit()\n",
    "#predictions = model.predict(X) # make the predictions by the model\n",
    "\n",
    "# Print out the statistics\n",
    "model.summary()"
   ]
  },
  {
   "cell_type": "code",
   "execution_count": 76,
   "metadata": {
    "collapsed": true
   },
   "outputs": [],
   "source": [
    "from sklearn import linear_model"
   ]
  },
  {
   "cell_type": "code",
   "execution_count": 77,
   "metadata": {
    "collapsed": true
   },
   "outputs": [],
   "source": [
    "lm = linear_model.LinearRegression()\n",
    "model = lm.fit(X,y)"
   ]
  },
  {
   "cell_type": "code",
   "execution_count": 78,
   "metadata": {
    "collapsed": false
   },
   "outputs": [
    {
     "data": {
      "text/plain": [
       "array([ 0.06516664, -0.0325859 ,  0.57401472,  0.09306931, -0.18483438,\n",
       "        0.37411487,  0.34917659, -0.04263267,  0.14392185,  0.33836699,\n",
       "        0.14325726,  0.02825969,  0.37866986])"
      ]
     },
     "execution_count": 78,
     "metadata": {},
     "output_type": "execute_result"
    }
   ],
   "source": [
    "lm.coef_"
   ]
  },
  {
   "cell_type": "code",
   "execution_count": 79,
   "metadata": {
    "collapsed": false
   },
   "outputs": [
    {
     "data": {
      "text/plain": [
       "0.28381232323461714"
      ]
     },
     "execution_count": 79,
     "metadata": {},
     "output_type": "execute_result"
    }
   ],
   "source": [
    "lm.score(X,y)"
   ]
  },
  {
   "cell_type": "code",
   "execution_count": 80,
   "metadata": {
    "collapsed": false
   },
   "outputs": [
    {
     "data": {
      "text/plain": [
       "8.8935330147024523"
      ]
     },
     "execution_count": 80,
     "metadata": {},
     "output_type": "execute_result"
    }
   ],
   "source": [
    "lm.intercept_"
   ]
  },
  {
   "cell_type": "code",
   "execution_count": null,
   "metadata": {
    "collapsed": true
   },
   "outputs": [],
   "source": []
  },
  {
   "cell_type": "code",
   "execution_count": null,
   "metadata": {
    "collapsed": true
   },
   "outputs": [],
   "source": []
  },
  {
   "cell_type": "code",
   "execution_count": null,
   "metadata": {
    "collapsed": true
   },
   "outputs": [],
   "source": []
  },
  {
   "cell_type": "code",
   "execution_count": null,
   "metadata": {
    "collapsed": true
   },
   "outputs": [],
   "source": []
  },
  {
   "cell_type": "code",
   "execution_count": 1,
   "metadata": {
    "collapsed": false
   },
   "outputs": [
    {
     "name": "stderr",
     "output_type": "stream",
     "text": [
      "\n",
      "Attaching package: 'dplyr'\n",
      "\n",
      "The following objects are masked from 'package:stats':\n",
      "\n",
      "    filter, lag\n",
      "\n",
      "The following objects are masked from 'package:base':\n",
      "\n",
      "    intersect, setdiff, setequal, union\n",
      "\n"
     ]
    },
    {
     "name": "stdout",
     "output_type": "stream",
     "text": [
      "Observations: 3,796\n",
      "Variables: 14\n",
      "$ female   <dbl> 0, 1, 0, 0, 1, 0, 1, 1, 0, 1, 1, 1, 0, 1, 1, 0, 1, 1, 1, 1...\n",
      "$ black    <dbl> 0, 0, 0, 1, 0, 0, 0, 0, 0, 0, 0, 1, 0, 0, 1, 0, 0, 0, 0, 0...\n",
      "$ hispanic <dbl> 0, 0, 0, 0, 0, 0, 0, 0, 0, 0, 0, 0, 0, 0, 0, 0, 0, 0, 0, 0...\n",
      "$ bytest   <dbl> 39.15, 48.87, 48.74, 40.40, 40.48, 54.71, 56.07, 54.85, 64...\n",
      "$ dadcoll  <dbl> 1, 0, 0, 0, 0, 0, 0, 0, 1, 0, 0, 0, 0, 1, 1, 0, 0, 0, 0, 1...\n",
      "$ momcoll  <dbl> 0, 0, 0, 0, 0, 0, 0, 0, 0, 0, 0, 1, 0, 0, 1, 0, 0, 0, 0, 1...\n",
      "$ ownhome  <dbl> 1, 1, 1, 1, 0, 1, 1, 1, 1, 1, 1, 1, 1, 1, 1, 1, 1, 1, 1, 1...\n",
      "$ urban    <dbl> 1, 1, 1, 1, 1, 1, 0, 0, 1, 1, 1, 1, 0, 0, 0, 0, 0, 0, 0, 0...\n",
      "$ cue80    <dbl> 6.2, 6.2, 6.2, 6.2, 5.6, 5.6, 7.2, 7.2, 5.9, 5.9, 5.9, 5.9...\n",
      "$ stwmfg80 <dbl> 8.09, 8.09, 8.09, 8.09, 8.09, 8.09, 8.85, 8.85, 8.09, 8.09...\n",
      "$ dist     <dbl> 0.2, 0.2, 0.2, 0.2, 0.4, 0.4, 0.4, 0.4, 3.0, 3.0, 3.0, 3.0...\n",
      "$ tuition  <dbl> 0.88915, 0.88915, 0.88915, 0.88915, 0.88915, 0.88915, 0.84...\n",
      "$ incomehi <dbl> 1, 0, 0, 0, 0, 0, 0, 0, 0, 0, 1, 1, 0, 1, 0, 0, 1, 0, 0, 1...\n",
      "$ ed       <dbl> 12, 12, 12, 12, 13, 12, 13, 15, 13, 15, 12, 14, 15, 17, 14...\n"
     ]
    }
   ],
   "source": [
    "library(haven)\n",
    "library(dplyr)\n",
    "library(visreg)\n",
    "CollegeDistance <- read_dta(\"http://wps.aw.com/wps/media/objects/11422/11696965/empirical/empex_tb/CollegeDistance.dta\")\n",
    "glimpse(CollegeDistance)"
   ]
  },
  {
   "cell_type": "code",
   "execution_count": null,
   "metadata": {
    "collapsed": true
   },
   "outputs": [],
   "source": []
  },
  {
   "cell_type": "code",
   "execution_count": null,
   "metadata": {
    "collapsed": true
   },
   "outputs": [],
   "source": []
  },
  {
   "cell_type": "code",
   "execution_count": null,
   "metadata": {
    "collapsed": true
   },
   "outputs": [],
   "source": []
  },
  {
   "cell_type": "code",
   "execution_count": null,
   "metadata": {
    "collapsed": true
   },
   "outputs": [],
   "source": []
  },
  {
   "cell_type": "code",
   "execution_count": null,
   "metadata": {
    "collapsed": true
   },
   "outputs": [],
   "source": []
  },
  {
   "cell_type": "code",
   "execution_count": null,
   "metadata": {
    "collapsed": true
   },
   "outputs": [],
   "source": []
  },
  {
   "cell_type": "code",
   "execution_count": null,
   "metadata": {
    "collapsed": true
   },
   "outputs": [],
   "source": []
  },
  {
   "cell_type": "markdown",
   "metadata": {},
   "source": [
    "\n",
    "\n",
    "\n",
    "\n",
    "\n",
    "The datafile Lead_Mortality contains data on 172 U.S. cities in 1900. These data were provided\n",
    "by Professor Karen Clay of Carnegie Mellon University and are a subset of the data used in her\n",
    "paper with Werner Troesken and Michael Haines “Lead and Mortality,” Review of Economics\n",
    "and Statistics, 2014. \n",
    "\n",
    "\n",
    "\n",
    "https://www.princeton.edu/~mwatson/Stock-Watson_3u/Students/EE_Datasets/Lead_Mortality_Description.pdf\n",
    "\n"
   ]
  },
  {
   "cell_type": "code",
   "execution_count": 80,
   "metadata": {
    "collapsed": false,
    "scrolled": true
   },
   "outputs": [
    {
     "name": "stdout",
     "output_type": "stream",
     "text": [
      "Observations: 172\n",
      "Variables: 15\n",
      "$ year          <dbl> 1900, 1900, 1900, 1900, 1900, 1900, 1900, 1900, 1900,...\n",
      "$ city          <chr> \"Alameda\", \"Albany\", \"Allegheny\", \"Allentown\", \"Altoo...\n",
      "$ state         <chr> \"CA\", \"NY\", \"PA\", \"PA\", \"PA\", \"NY\", \"MI\", \"GA\", \"NJ\",...\n",
      "$ age           <dbl> 28.95484, 30.34768, 27.08730, 27.76405, 27.03753, 28....\n",
      "$ hardness      <dbl> 97, 43, 111, 176, 111, 43, 269, 15, 12, 120, 9, 47, 9...\n",
      "$ ph            <dbl> 7.6, 7.3, 7.3, 7.7, 7.3, 7.3, 8.0, 6.8, 6.2, 6.8, 6.9...\n",
      "$ infrate       <dbl> 0.1097561, 0.2986185, 0.4468413, 0.3841808, 0.4678663...\n",
      "$ typhoid_rate  <dbl> 0.024390243, 0.041445270, 0.093990758, 0.028248588, 0...\n",
      "$ np_tub_rate   <dbl> 0.030487806, 0.013815090, 0.027734976, 0.005649718, 0...\n",
      "$ mom_rate      <dbl> 0.1951219, 0.1795962, 0.1926040, 0.1977401, 0.1825193...\n",
      "$ population    <dbl> 164, 941, 1298, 354, 389, 209, 145, 898, 278, 303, 11...\n",
      "$ precipitation <dbl> 1.850307, 3.278735, 3.350943, 3.350943, 3.350943, 3.2...\n",
      "$ temperature   <dbl> 59.02617, 45.26791, 48.97149, 48.97149, 48.97149, 45....\n",
      "$ lead          <dbl> 0, 1, 1, 1, 0, 1, 0, 1, 0, 0, 0, 0, 0, 0, 1, 1, 1, 0,...\n",
      "$ foreign_share <dbl> 0.19354838, 0.18488371, 0.23730159, 0.07865169, 0.112...\n"
     ]
    }
   ],
   "source": [
    "library(haven)\n",
    "library(dplyr)\n",
    "library(visreg)\n",
    "lead <- read_dta(\"http://wps.aw.com/wps/media/objects/11422/11696965/data3eu/lead_mortality.dta\")\n",
    "glimpse(lead)"
   ]
  },
  {
   "cell_type": "code",
   "execution_count": 81,
   "metadata": {
    "collapsed": false
   },
   "outputs": [
    {
     "data": {
      "text/html": [
       "<table>\n",
       "<thead><tr><th scope=col>lead</th><th scope=col>avg.infrate</th></tr></thead>\n",
       "<tbody>\n",
       "\t<tr><td>0        </td><td>0.3811679</td></tr>\n",
       "\t<tr><td>1        </td><td>0.4032576</td></tr>\n",
       "</tbody>\n",
       "</table>\n"
      ],
      "text/latex": [
       "\\begin{tabular}{r|ll}\n",
       " lead & avg.infrate\\\\\n",
       "\\hline\n",
       "\t 0         & 0.3811679\\\\\n",
       "\t 1         & 0.4032576\\\\\n",
       "\\end{tabular}\n"
      ],
      "text/markdown": [
       "\n",
       "lead | avg.infrate | \n",
       "|---|---|\n",
       "| 0         | 0.3811679 | \n",
       "| 1         | 0.4032576 | \n",
       "\n",
       "\n"
      ],
      "text/plain": [
       "  lead avg.infrate\n",
       "1 0    0.3811679  \n",
       "2 1    0.4032576  "
      ]
     },
     "metadata": {},
     "output_type": "display_data"
    }
   ],
   "source": [
    "#http://stackoverflow.com/questions/26581410/dplyr-summarizing-count-and-conditional-aggregate-functions-on-the-same-factor\n",
    "\n",
    "lead  %>% mutate(infrate=as.numeric(as.character(infrate)), lead = as.factor(lead)) %>%\n",
    "   group_by(lead) %>% summarise(avg.infrate=mean(infrate,na.rm=TRUE))\n",
    "\n"
   ]
  },
  {
   "cell_type": "code",
   "execution_count": 87,
   "metadata": {
    "collapsed": false
   },
   "outputs": [
    {
     "data": {},
     "metadata": {},
     "output_type": "display_data"
    },
    {
     "data": {
      "image/png": "[encoded data removed]",
      "text/plain": [
       "plot without title"
      ]
     },
     "metadata": {},
     "output_type": "display_data"
    }
   ],
   "source": [
    "library(ggplot2)\n",
    "p= ggplot(data = lead, mapping = aes(x=ph  , y=infrate, color = as.factor(lead))) \n",
    "p+ geom_point()"
   ]
  },
  {
   "cell_type": "code",
   "execution_count": 88,
   "metadata": {
    "collapsed": false
   },
   "outputs": [
    {
     "data": {},
     "metadata": {},
     "output_type": "display_data"
    },
    {
     "data": {
      "image/png": "[encoded data removed]",
      "text/plain": [
       "plot without title"
      ]
     },
     "metadata": {},
     "output_type": "display_data"
    }
   ],
   "source": [
    "p + geom_point()+ stat_smooth(method = \"lm\" , fill=NA)\n",
    "\n",
    "# , se = FALSE"
   ]
  },
  {
   "cell_type": "code",
   "execution_count": 82,
   "metadata": {
    "collapsed": false
   },
   "outputs": [
    {
     "data": {
      "text/plain": [
       "\n",
       "\tWelch Two Sample t-test\n",
       "\n",
       "data:  lead$infrate by lead$lead\n",
       "t = -0.90387, df = 109.29, p-value = 0.3681\n",
       "alternative hypothesis: true difference in means is not equal to 0\n",
       "95 percent confidence interval:\n",
       " -0.07052551  0.02634606\n",
       "sample estimates:\n",
       "mean in group 0 mean in group 1 \n",
       "      0.3811679       0.4032576 \n"
      ]
     },
     "metadata": {},
     "output_type": "display_data"
    }
   ],
   "source": [
    "t.test(formula = lead$infrate ~ lead$lead)"
   ]
  },
  {
   "cell_type": "code",
   "execution_count": null,
   "metadata": {
    "collapsed": false
   },
   "outputs": [],
   "source": []
  },
  {
   "cell_type": "code",
   "execution_count": 83,
   "metadata": {
    "collapsed": false
   },
   "outputs": [
    {
     "data": {
      "text/plain": [
       "\n",
       "\tTwo Sample t-test\n",
       "\n",
       "data:  lead$infrate[lead$lead == 0] and lead$infrate[lead$lead == 1]\n",
       "t = -41.289, df = 170, p-value = 1\n",
       "alternative hypothesis: true difference in means is greater than 1\n",
       "95 percent confidence interval:\n",
       " -0.06303082         Inf\n",
       "sample estimates:\n",
       "mean of x mean of y \n",
       "0.3811679 0.4032576 \n"
      ]
     },
     "metadata": {},
     "output_type": "display_data"
    }
   ],
   "source": [
    "t.test(lead$infrate[lead$lead== 0], lead$infrate[lead$lead== 1], \"g\", 1, FALSE, TRUE, 0.95)"
   ]
  },
  {
   "cell_type": "code",
   "execution_count": 84,
   "metadata": {
    "collapsed": false
   },
   "outputs": [
    {
     "data": {
      "text/html": [
       "0.403257576318888"
      ],
      "text/latex": [
       "0.403257576318888"
      ],
      "text/markdown": [
       "0.403257576318888"
      ],
      "text/plain": [
       "[1] 0.4032576"
      ]
     },
     "metadata": {},
     "output_type": "display_data"
    }
   ],
   "source": [
    "\n",
    "\n",
    "mean(lead$infrate[lead$lead== 1])\n"
   ]
  },
  {
   "cell_type": "code",
   "execution_count": 93,
   "metadata": {
    "collapsed": false
   },
   "outputs": [
    {
     "data": {
      "text/plain": [
       "\n",
       "Call:\n",
       "lm(formula = infrate ~ lead + ph + I(lead * ph), data = lead)\n",
       "\n",
       "Residuals:\n",
       "     Min       1Q   Median       3Q      Max \n",
       "-0.27492 -0.09502 -0.00266  0.07965  0.35139 \n",
       "\n",
       "Coefficients:\n",
       "             Estimate Std. Error t value Pr(>|t|)    \n",
       "(Intercept)   0.91890    0.17447   5.267  4.2e-07 ***\n",
       "lead          0.46180    0.22122   2.087  0.03835 *  \n",
       "ph           -0.07518    0.02427  -3.098  0.00229 ** \n",
       "I(lead * ph) -0.05686    0.03040  -1.871  0.06312 .  \n",
       "---\n",
       "Signif. codes:  0 '***' 0.001 '**' 0.01 '*' 0.05 '.' 0.1 ' ' 1\n",
       "\n",
       "Residual standard error: 0.1303 on 168 degrees of freedom\n",
       "Multiple R-squared:  0.2719,\tAdjusted R-squared:  0.2589 \n",
       "F-statistic: 20.91 on 3 and 168 DF,  p-value: 1.467e-11\n"
      ]
     },
     "metadata": {},
     "output_type": "display_data"
    }
   ],
   "source": [
    "#p307 version4\n",
    "model1 <- lm(infrate~lead+ph+I(lead*ph),data = lead)\n",
    "summary(model1)"
   ]
  },
  {
   "cell_type": "code",
   "execution_count": 115,
   "metadata": {
    "collapsed": false
   },
   "outputs": [
    {
     "data": {
      "text/plain": [
       "\n",
       "t test of coefficients:\n",
       "\n",
       "              Estimate Std. Error t value  Pr(>|t|)    \n",
       "(Intercept)   0.918904   0.155541  5.9078 1.876e-08 ***\n",
       "lead          0.461798   0.213727  2.1607   0.03214 *  \n",
       "ph           -0.075179   0.021689 -3.4663   0.00067 ***\n",
       "I(lead * ph) -0.056862   0.028940 -1.9648   0.05108 .  \n",
       "---\n",
       "Signif. codes:  0 '***' 0.001 '**' 0.01 '*' 0.05 '.' 0.1 ' ' 1\n"
      ]
     },
     "metadata": {},
     "output_type": "display_data"
    }
   ],
   "source": [
    "#http://drewdimmery.com/robust-ses-in-r/\n",
    "#heteroskedasticity robust standard errors in R. In Stata, this is trivially easy: you simply add “, robust” to the end of your regression command (or , cluster(var) for cluster robust SEs). In R, there’s a bit more flexibility, but this comes at the cost of a little added complication. Simplest first.\n",
    "require(\"sandwich\")\n",
    "require(\"lmtest\")\n",
    "model1$newse<-vcovHC(model1)\n",
    "coeftest(model1,model1$newse)"
   ]
  },
  {
   "cell_type": "code",
   "execution_count": null,
   "metadata": {
    "collapsed": true
   },
   "outputs": [],
   "source": []
  },
  {
   "cell_type": "code",
   "execution_count": 100,
   "metadata": {
    "collapsed": false
   },
   "outputs": [
    {
     "data": {
      "text/html": [
       "<table>\n",
       "<thead><tr><th scope=col>Res.Df</th><th scope=col>Df</th><th scope=col>F</th><th scope=col>Pr(&gt;F)</th></tr></thead>\n",
       "<tbody>\n",
       "\t<tr><td>170       </td><td>NA        </td><td>      NA  </td><td>        NA</td></tr>\n",
       "\t<tr><td>168       </td><td> 2        </td><td>3.936032  </td><td>0.02135224</td></tr>\n",
       "</tbody>\n",
       "</table>\n"
      ],
      "text/latex": [
       "\\begin{tabular}{r|llll}\n",
       " Res.Df & Df & F & Pr(>F)\\\\\n",
       "\\hline\n",
       "\t 170        & NA         &       NA   &         NA\\\\\n",
       "\t 168        &  2         & 3.936032   & 0.02135224\\\\\n",
       "\\end{tabular}\n"
      ],
      "text/markdown": [
       "\n",
       "Res.Df | Df | F | Pr(>F) | \n",
       "|---|---|\n",
       "| 170        | NA         |       NA   |         NA | \n",
       "| 168        |  2         | 3.936032   | 0.02135224 | \n",
       "\n",
       "\n"
      ],
      "text/plain": [
       "  Res.Df Df F        Pr(>F)    \n",
       "1 170    NA       NA         NA\n",
       "2 168     2 3.936032 0.02135224"
      ]
     },
     "metadata": {},
     "output_type": "display_data"
    }
   ],
   "source": [
    "#library(AER)\n",
    "library(car)\n",
    "linearHypothesis(model1,c( \"lead=0\", \"I(lead * ph)=0\"), white.adjust=\"hc1\")"
   ]
  },
  {
   "cell_type": "code",
   "execution_count": 101,
   "metadata": {
    "collapsed": false
   },
   "outputs": [
    {
     "data": {
      "image/png": "[encoded data removed]",
      "text/plain": [
       "plot without title"
      ]
     },
     "metadata": {},
     "output_type": "display_data"
    }
   ],
   "source": [
    "visreg(model1, \"lead\", type=\"conditional\")"
   ]
  },
  {
   "cell_type": "code",
   "execution_count": 105,
   "metadata": {
    "collapsed": false
   },
   "outputs": [
    {
     "data": {
      "text/plain": [
       "\n",
       "Call:\n",
       "lm(formula = infrate ~ lead + ph + I(lead * ph) + mom_rate + \n",
       "    np_tub_rate + typhoid_rate, data = lead)\n",
       "\n",
       "Residuals:\n",
       "      Min        1Q    Median        3Q       Max \n",
       "-0.257169 -0.082441 -0.008178  0.085858  0.301600 \n",
       "\n",
       "Coefficients:\n",
       "             Estimate Std. Error t value Pr(>|t|)    \n",
       "(Intercept)   0.76666    0.17964   4.268 3.32e-05 ***\n",
       "lead          0.52205    0.21119   2.472 0.014454 *  \n",
       "ph           -0.07123    0.02318  -3.073 0.002479 ** \n",
       "I(lead * ph) -0.06545    0.02900  -2.257 0.025334 *  \n",
       "mom_rate      0.13247    0.29744   0.445 0.656630    \n",
       "np_tub_rate   2.33233    0.80444   2.899 0.004249 ** \n",
       "typhoid_rate  1.25344    0.33841   3.704 0.000289 ***\n",
       "---\n",
       "Signif. codes:  0 '***' 0.001 '**' 0.01 '*' 0.05 '.' 0.1 ' ' 1\n",
       "\n",
       "Residual standard error: 0.1239 on 165 degrees of freedom\n",
       "Multiple R-squared:  0.3536,\tAdjusted R-squared:  0.3301 \n",
       "F-statistic: 15.04 on 6 and 165 DF,  p-value: 1.069e-13\n"
      ]
     },
     "metadata": {},
     "output_type": "display_data"
    }
   ],
   "source": [
    "model2 <- lm(infrate~ lead +ph+I(lead*ph)+mom_rate+np_tub_rate+typhoid_rate,data = lead)\n",
    "summary(model2)"
   ]
  },
  {
   "cell_type": "code",
   "execution_count": 106,
   "metadata": {
    "collapsed": false
   },
   "outputs": [
    {
     "data": {
      "text/html": [
       "<table>\n",
       "<thead><tr><th scope=col>Res.Df</th><th scope=col>Df</th><th scope=col>F</th><th scope=col>Pr(&gt;F)</th></tr></thead>\n",
       "<tbody>\n",
       "\t<tr><td>167       </td><td>NA        </td><td>      NA  </td><td>        NA</td></tr>\n",
       "\t<tr><td>165       </td><td> 2        </td><td>4.724529  </td><td>0.01011028</td></tr>\n",
       "</tbody>\n",
       "</table>\n"
      ],
      "text/latex": [
       "\\begin{tabular}{r|llll}\n",
       " Res.Df & Df & F & Pr(>F)\\\\\n",
       "\\hline\n",
       "\t 167        & NA         &       NA   &         NA\\\\\n",
       "\t 165        &  2         & 4.724529   & 0.01011028\\\\\n",
       "\\end{tabular}\n"
      ],
      "text/markdown": [
       "\n",
       "Res.Df | Df | F | Pr(>F) | \n",
       "|---|---|\n",
       "| 167        | NA         |       NA   |         NA | \n",
       "| 165        |  2         | 4.724529   | 0.01011028 | \n",
       "\n",
       "\n"
      ],
      "text/plain": [
       "  Res.Df Df F        Pr(>F)    \n",
       "1 167    NA       NA         NA\n",
       "2 165     2 4.724529 0.01011028"
      ]
     },
     "metadata": {},
     "output_type": "display_data"
    }
   ],
   "source": [
    "linearHypothesis(model2,c( \"lead=0\", \"I(lead * ph)=0\"), white.adjust=\"hc1\")"
   ]
  },
  {
   "cell_type": "code",
   "execution_count": 107,
   "metadata": {
    "collapsed": false
   },
   "outputs": [
    {
     "data": {
      "image/png": "[encoded data removed]",
      "text/plain": [
       "plot without title"
      ]
     },
     "metadata": {},
     "output_type": "display_data"
    }
   ],
   "source": [
    "visreg(model2, \"lead\", type=\"conditional\")"
   ]
  },
  {
   "cell_type": "code",
   "execution_count": 112,
   "metadata": {
    "collapsed": false
   },
   "outputs": [
    {
     "data": {
      "text/plain": [
       "\n",
       "Call:\n",
       "lm(formula = infrate ~ lead + ph + I(lead * ph) + np_tub_rate + \n",
       "    typhoid_rate + hardness + precipitation + temperature, data = lead)\n",
       "\n",
       "Residuals:\n",
       "      Min        1Q    Median        3Q       Max \n",
       "-0.298122 -0.081011 -0.008036  0.078393  0.312767 \n",
       "\n",
       "Coefficients:\n",
       "                Estimate Std. Error t value Pr(>|t|)    \n",
       "(Intercept)    0.2124983  0.1989007   1.068 0.286936    \n",
       "lead           0.4537721  0.2014461   2.253 0.025621 *  \n",
       "ph            -0.0355440  0.0249430  -1.425 0.156066    \n",
       "I(lead * ph)  -0.0551874  0.0276446  -1.996 0.047565 *  \n",
       "np_tub_rate    2.0134319  0.7657999   2.629 0.009378 ** \n",
       "typhoid_rate   0.9341702  0.3308150   2.824 0.005337 ** \n",
       "hardness      -0.0001632  0.0001099  -1.485 0.139521    \n",
       "precipitation  0.0727929  0.0197722   3.682 0.000315 ***\n",
       "temperature    0.0022263  0.0020193   1.102 0.271883    \n",
       "---\n",
       "Signif. codes:  0 '***' 0.001 '**' 0.01 '*' 0.05 '.' 0.1 ' ' 1\n",
       "\n",
       "Residual standard error: 0.1164 on 163 degrees of freedom\n",
       "Multiple R-squared:  0.4357,\tAdjusted R-squared:  0.408 \n",
       "F-statistic: 15.73 on 8 and 163 DF,  p-value: < 2.2e-16\n"
      ]
     },
     "metadata": {},
     "output_type": "display_data"
    }
   ],
   "source": [
    "model4 <- lm(infrate~ lead +ph+I(lead*ph)+np_tub_rate+typhoid_rate+hardness+precipitation+temperature,data = lead)\n",
    "summary(model3)"
   ]
  },
  {
   "cell_type": "code",
   "execution_count": 113,
   "metadata": {
    "collapsed": false
   },
   "outputs": [
    {
     "data": {
      "text/html": [
       "<table>\n",
       "<thead><tr><th scope=col>Res.Df</th><th scope=col>Df</th><th scope=col>F</th><th scope=col>Pr(&gt;F)</th></tr></thead>\n",
       "<tbody>\n",
       "\t<tr><td>165       </td><td>NA        </td><td>      NA  </td><td>        NA</td></tr>\n",
       "\t<tr><td>163       </td><td> 2        </td><td>4.410415  </td><td>0.01363362</td></tr>\n",
       "</tbody>\n",
       "</table>\n"
      ],
      "text/latex": [
       "\\begin{tabular}{r|llll}\n",
       " Res.Df & Df & F & Pr(>F)\\\\\n",
       "\\hline\n",
       "\t 165        & NA         &       NA   &         NA\\\\\n",
       "\t 163        &  2         & 4.410415   & 0.01363362\\\\\n",
       "\\end{tabular}\n"
      ],
      "text/markdown": [
       "\n",
       "Res.Df | Df | F | Pr(>F) | \n",
       "|---|---|\n",
       "| 165        | NA         |       NA   |         NA | \n",
       "| 163        |  2         | 4.410415   | 0.01363362 | \n",
       "\n",
       "\n"
      ],
      "text/plain": [
       "  Res.Df Df F        Pr(>F)    \n",
       "1 165    NA       NA         NA\n",
       "2 163     2 4.410415 0.01363362"
      ]
     },
     "metadata": {},
     "output_type": "display_data"
    }
   ],
   "source": [
    "linearHypothesis(model4,c( \"lead=0\", \"I(lead * ph)=0\"), white.adjust=\"hc1\")"
   ]
  },
  {
   "cell_type": "code",
   "execution_count": null,
   "metadata": {
    "collapsed": true
   },
   "outputs": [],
   "source": [
    "model4 <- lm(infrate~ lead +ph+I(lead*ph)+hardness+precipitation+temperature,data = lead)\n",
    "summary(model3)"
   ]
  },
  {
   "cell_type": "code",
   "execution_count": null,
   "metadata": {
    "collapsed": true
   },
   "outputs": [],
   "source": []
  },
  {
   "cell_type": "code",
   "execution_count": null,
   "metadata": {
    "collapsed": true
   },
   "outputs": [],
   "source": []
  },
  {
   "cell_type": "code",
   "execution_count": null,
   "metadata": {
    "collapsed": true
   },
   "outputs": [],
   "source": []
  },
  {
   "cell_type": "code",
   "execution_count": 92,
   "metadata": {
    "collapsed": false
   },
   "outputs": [
    {
     "data": {
      "text/plain": [
       "\n",
       "Call:\n",
       "lm(formula = infrate ~ lead + ph + I(lead * ph), data = lead)\n",
       "\n",
       "Residuals:\n",
       "     Min       1Q   Median       3Q      Max \n",
       "-0.27492 -0.09502 -0.00266  0.07965  0.35139 \n",
       "\n",
       "Coefficients:\n",
       "             Estimate Std. Error t value Pr(>|t|)    \n",
       "(Intercept)   0.91890    0.17447   5.267  4.2e-07 ***\n",
       "lead          0.46180    0.22122   2.087  0.03835 *  \n",
       "ph           -0.07518    0.02427  -3.098  0.00229 ** \n",
       "I(lead * ph) -0.05686    0.03040  -1.871  0.06312 .  \n",
       "---\n",
       "Signif. codes:  0 '***' 0.001 '**' 0.01 '*' 0.05 '.' 0.1 ' ' 1\n",
       "\n",
       "Residual standard error: 0.1303 on 168 degrees of freedom\n",
       "Multiple R-squared:  0.2719,\tAdjusted R-squared:  0.2589 \n",
       "F-statistic: 20.91 on 3 and 168 DF,  p-value: 1.467e-11\n"
      ]
     },
     "metadata": {},
     "output_type": "display_data"
    }
   ],
   "source": [
    "model2 <- lm(infrate~ lead+ph+I(lead*ph),data = lead)\n",
    "summary(model2)"
   ]
  },
  {
   "cell_type": "code",
   "execution_count": 90,
   "metadata": {
    "collapsed": false
   },
   "outputs": [
    {
     "data": {
      "text/html": [
       "7.32267442137696"
      ],
      "text/latex": [
       "7.32267442137696"
      ],
      "text/markdown": [
       "7.32267442137696"
      ],
      "text/plain": [
       "[1] 7.322674"
      ]
     },
     "metadata": {},
     "output_type": "display_data"
    }
   ],
   "source": [
    "mean(lead$ph)"
   ]
  },
  {
   "cell_type": "code",
   "execution_count": 91,
   "metadata": {
    "collapsed": false
   },
   "outputs": [
    {
     "data": {
      "text/plain": [
       "\n",
       "Call:\n",
       "lm(formula = infrate ~ as.factor(lead) + ph + I(lead * ph) + \n",
       "    population + temperature, data = lead)\n",
       "\n",
       "Residuals:\n",
       "     Min       1Q   Median       3Q      Max \n",
       "-0.30337 -0.09061 -0.00859  0.07073  0.40042 \n",
       "\n",
       "Coefficients:\n",
       "                   Estimate Std. Error t value Pr(>|t|)    \n",
       "(Intercept)       6.736e-01  1.818e-01   3.705 0.000288 ***\n",
       "as.factor(lead)1  3.485e-01  2.165e-01   1.609 0.109417    \n",
       "ph               -8.844e-02  2.376e-02  -3.723 0.000270 ***\n",
       "I(lead * ph)     -4.221e-02  2.973e-02  -1.420 0.157560    \n",
       "population        1.821e-06  3.109e-06   0.586 0.558703    \n",
       "temperature       6.971e-03  1.922e-03   3.626 0.000382 ***\n",
       "---\n",
       "Signif. codes:  0 '***' 0.001 '**' 0.01 '*' 0.05 '.' 0.1 ' ' 1\n",
       "\n",
       "Residual standard error: 0.126 on 166 degrees of freedom\n",
       "Multiple R-squared:  0.3266,\tAdjusted R-squared:  0.3063 \n",
       "F-statistic:  16.1 on 5 and 166 DF,  p-value: 6.275e-13\n"
      ]
     },
     "metadata": {},
     "output_type": "display_data"
    }
   ],
   "source": [
    "model3 <- lm(infrate~ as.factor(lead)+ph+I(lead*ph)+population+temperature,data = lead)\n",
    "summary(model3)"
   ]
  },
  {
   "cell_type": "code",
   "execution_count": null,
   "metadata": {
    "collapsed": true
   },
   "outputs": [],
   "source": []
  },
  {
   "cell_type": "code",
   "execution_count": null,
   "metadata": {
    "collapsed": true
   },
   "outputs": [],
   "source": []
  },
  {
   "cell_type": "code",
   "execution_count": null,
   "metadata": {
    "collapsed": true
   },
   "outputs": [],
   "source": []
  },
  {
   "cell_type": "code",
   "execution_count": null,
   "metadata": {
    "collapsed": true
   },
   "outputs": [],
   "source": []
  },
  {
   "cell_type": "code",
   "execution_count": null,
   "metadata": {
    "collapsed": true
   },
   "outputs": [],
   "source": []
  }
 ],
 "metadata": {
  "kernelspec": {
   "display_name": "Python 2",
   "language": "python",
   "name": "python2"
  },
  "language_info": {
   "codemirror_mode": {
    "name": "ipython",
    "version": 2
   },
   "file_extension": ".py",
   "mimetype": "text/x-python",
   "name": "python",
   "nbconvert_exporter": "python",
   "pygments_lexer": "ipython2",
   "version": "2.7.13"
  }
 },
 "nbformat": 4,
 "nbformat_minor": 2
}
