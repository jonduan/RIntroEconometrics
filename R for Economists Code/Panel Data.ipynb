{
 "cells": [
  {
   "cell_type": "code",
   "execution_count": 1,
   "metadata": {
    "ExecuteTime": {
     "end_time": "2018-12-01T17:14:14.441637Z",
     "start_time": "2018-12-01T17:14:11.516Z"
    }
   },
   "outputs": [
    {
     "name": "stderr",
     "output_type": "stream",
     "text": [
      "Loading required package: Formula\n",
      "\n",
      "Please cite as: \n",
      "\n",
      " Hlavac, Marek (2018). stargazer: Well-Formatted Regression and Summary Statistics Tables.\n",
      " R package version 5.2.2. https://CRAN.R-project.org/package=stargazer \n",
      "\n"
     ]
    }
   ],
   "source": [
    "#Load packages\n",
    "library(foreign)\n",
    "library(plm)\n",
    "library(stargazer)\n",
    "\n",
    "#Load in Wooldridge data on crime\n",
    "crime <- read.dta(\"http://fmwww.bc.edu/ec-p/data/wooldridge/crime4.dta\")\n",
    "\n",
    "#Declare our data to be a panel data set\n",
    "crime.p <- pdata.frame(crime,index=c(\"county\",\"year\"))\n",
    "\n",
    "\n"
   ]
  },
  {
   "cell_type": "code",
   "execution_count": 2,
   "metadata": {
    "ExecuteTime": {
     "end_time": "2018-12-01T17:14:25.268860Z",
     "start_time": "2018-12-01T17:14:24.557Z"
    }
   },
   "outputs": [
    {
     "name": "stdout",
     "output_type": "stream",
     "text": [
      "\n",
      "========================================\n",
      "                 Dependent variable:    \n",
      "             ---------------------------\n",
      "                     log(crmrte)        \n",
      "----------------------------------------\n",
      "polpc                 30.990***         \n",
      "                       (4.078)          \n",
      "                                        \n",
      "----------------------------------------\n",
      "Observations             630            \n",
      "R2                      0.097           \n",
      "Adjusted R2            -0.054           \n",
      "F Statistic    57.753*** (df = 1; 539)  \n",
      "========================================\n",
      "Note:        *p<0.1; **p<0.05; ***p<0.01\n"
     ]
    }
   ],
   "source": [
    "#Run a panel model\n",
    "#fixed effects / within\n",
    "fixedeff <- plm(log(crmrte)~polpc,data=crime.p,model=\"within\")\n",
    "stargazer(fixedeff,type='text')\n"
   ]
  },
  {
   "cell_type": "code",
   "execution_count": 3,
   "metadata": {
    "ExecuteTime": {
     "end_time": "2018-12-01T17:14:32.260348Z",
     "start_time": "2018-12-01T17:14:31.937Z"
    }
   },
   "outputs": [
    {
     "name": "stdout",
     "output_type": "stream",
     "text": [
      "\n",
      "========================================\n",
      "                 Dependent variable:    \n",
      "             ---------------------------\n",
      "                     log(crmrte)        \n",
      "----------------------------------------\n",
      "polpc                 29.675***         \n",
      "                       (4.044)          \n",
      "                                        \n",
      "Constant              -3.666***         \n",
      "                       (0.059)          \n",
      "                                        \n",
      "----------------------------------------\n",
      "Observations             630            \n",
      "R2                      0.079           \n",
      "Adjusted R2             0.078           \n",
      "F Statistic    53.845*** (df = 1; 628)  \n",
      "========================================\n",
      "Note:        *p<0.1; **p<0.05; ***p<0.01\n"
     ]
    }
   ],
   "source": [
    "#Random effects\n",
    "randomeff <- plm(log(crmrte)~polpc,data=crime.p,model=\"random\")\n",
    "stargazer(randomeff,type='text')"
   ]
  },
  {
   "cell_type": "code",
   "execution_count": 4,
   "metadata": {
    "ExecuteTime": {
     "end_time": "2018-12-01T17:14:37.837763Z",
     "start_time": "2018-12-01T17:14:37.627Z"
    }
   },
   "outputs": [
    {
     "name": "stdout",
     "output_type": "stream",
     "text": [
      "\n",
      "========================================\n",
      "                 Dependent variable:    \n",
      "             ---------------------------\n",
      "                     log(crmrte)        \n",
      "----------------------------------------\n",
      "polpc                 33.689***         \n",
      "                       (4.708)          \n",
      "                                        \n",
      "----------------------------------------\n",
      "Observations             540            \n",
      "R2                      0.087           \n",
      "Adjusted R2             0.087           \n",
      "F Statistic     Inf.000 (df = 0; 539)   \n",
      "========================================\n",
      "Note:        *p<0.1; **p<0.05; ***p<0.01\n"
     ]
    }
   ],
   "source": [
    "#First difference effects\n",
    "firstdiff <- plm(log(crmrte)~polpc,data=crime.p,model=\"fd\")\n",
    "stargazer(firstdiff,type='text')\n"
   ]
  },
  {
   "cell_type": "code",
   "execution_count": 5,
   "metadata": {
    "ExecuteTime": {
     "end_time": "2018-12-01T17:16:00.016732Z",
     "start_time": "2018-12-01T17:15:59.960Z"
    }
   },
   "outputs": [
    {
     "data": {
      "text/plain": [
       "\n",
       "\tHausman Test\n",
       "\n",
       "data:  log(crmrte) ~ polpc\n",
       "chisq = 6.298, df = 1, p-value = 0.01209\n",
       "alternative hypothesis: one model is inconsistent\n"
      ]
     },
     "metadata": {},
     "output_type": "display_data"
    }
   ],
   "source": [
    "\n",
    "#Run a hausman test comparing random and fixed effects\n",
    "phtest(fixedeff,randomeff)"
   ]
  },
  {
   "cell_type": "code",
   "execution_count": 6,
   "metadata": {
    "ExecuteTime": {
     "end_time": "2018-12-01T17:16:13.747651Z",
     "start_time": "2018-12-01T17:16:13.564Z"
    }
   },
   "outputs": [
    {
     "name": "stdout",
     "output_type": "stream",
     "text": [
      "\n",
      "============================================\n",
      "                     Dependent variable:    \n",
      "                 ---------------------------\n",
      "                         log(crmrte)        \n",
      "--------------------------------------------\n",
      "lag(log(crmrte))          0.231***          \n",
      "                           (0.043)          \n",
      "                                            \n",
      "polpc                     26.731***         \n",
      "                           (4.313)          \n",
      "                                            \n",
      "--------------------------------------------\n",
      "Observations                 540            \n",
      "R2                          0.148           \n",
      "Adjusted R2                -0.025           \n",
      "F Statistic        39.008*** (df = 2; 448)  \n",
      "============================================\n",
      "Note:            *p<0.1; **p<0.05; ***p<0.01\n"
     ]
    }
   ],
   "source": [
    "#Include a lag\n",
    "fixedeffwithlag <- plm(log(crmrte)~lag(log(crmrte))+polpc,data=crime.p,model=\"within\")\n",
    "stargazer(fixedeffwithlag,type='text')"
   ]
  },
  {
   "cell_type": "code",
   "execution_count": 8,
   "metadata": {
    "ExecuteTime": {
     "end_time": "2018-12-01T17:18:51.893161Z",
     "start_time": "2018-12-01T17:18:51.111Z"
    }
   },
   "outputs": [],
   "source": [
    "library(broom)"
   ]
  },
  {
   "cell_type": "code",
   "execution_count": 10,
   "metadata": {
    "ExecuteTime": {
     "end_time": "2018-12-01T17:19:10.884564Z",
     "start_time": "2018-12-01T17:19:10.842Z"
    }
   },
   "outputs": [
    {
     "name": "stderr",
     "output_type": "stream",
     "text": [
      "Loading required package: zoo\n",
      "\n",
      "Attaching package: 'zoo'\n",
      "\n",
      "The following objects are masked from 'package:base':\n",
      "\n",
      "    as.Date, as.Date.numeric\n",
      "\n"
     ]
    }
   ],
   "source": [
    "library(lmtest)"
   ]
  },
  {
   "cell_type": "code",
   "execution_count": 11,
   "metadata": {
    "ExecuteTime": {
     "end_time": "2018-12-01T17:19:11.762258Z",
     "start_time": "2018-12-01T17:19:11.707Z"
    }
   },
   "outputs": [
    {
     "data": {
      "text/plain": [
       "\n",
       "t test of coefficients:\n",
       "\n",
       "      Estimate Std. Error t value  Pr(>|t|)    \n",
       "polpc  30.9905     4.0725  7.6098 1.234e-13 ***\n",
       "---\n",
       "Signif. codes:  0 '***' 0.001 '**' 0.01 '*' 0.05 '.' 0.1 ' ' 1\n"
      ]
     },
     "metadata": {},
     "output_type": "display_data"
    }
   ],
   "source": [
    "\n",
    "\n",
    "\n",
    "\n",
    "\n",
    "#Cluster standard errors at the individual level\n",
    "coeftest(fixedeff,vcovHC(fixedeff,type=\"HC0\",cluster=\"group\"))"
   ]
  },
  {
   "cell_type": "code",
   "execution_count": null,
   "metadata": {},
   "outputs": [],
   "source": []
  }
 ],
 "metadata": {
  "kernelspec": {
   "display_name": "R",
   "language": "R",
   "name": "ir"
  },
  "language_info": {
   "codemirror_mode": "r",
   "file_extension": ".r",
   "mimetype": "text/x-r-source",
   "name": "R",
   "pygments_lexer": "r",
   "version": "3.5.1"
  }
 },
 "nbformat": 4,
 "nbformat_minor": 2
}
