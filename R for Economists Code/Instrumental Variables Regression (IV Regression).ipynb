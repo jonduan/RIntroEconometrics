{
 "cells": [
  {
   "cell_type": "code",
   "execution_count": 1,
   "metadata": {
    "ExecuteTime": {
     "end_time": "2018-12-01T17:22:29.304503Z",
     "start_time": "2018-12-01T17:22:27.258Z"
    }
   },
   "outputs": [
    {
     "name": "stderr",
     "output_type": "stream",
     "text": [
      "\n",
      "Please cite as: \n",
      "\n",
      " Hlavac, Marek (2018). stargazer: Well-Formatted Regression and Summary Statistics Tables.\n",
      " R package version 5.2.2. https://CRAN.R-project.org/package=stargazer \n",
      "\n",
      "Loading required package: car\n",
      "Loading required package: carData\n",
      "Loading required package: lmtest\n",
      "Loading required package: zoo\n",
      "\n",
      "Attaching package: 'zoo'\n",
      "\n",
      "The following objects are masked from 'package:base':\n",
      "\n",
      "    as.Date, as.Date.numeric\n",
      "\n",
      "Loading required package: sandwich\n",
      "Loading required package: survival\n"
     ]
    }
   ],
   "source": [
    "#Load packages\n",
    "library(foreign)\n",
    "library(stargazer)\n",
    "library(AER)\n",
    "\n"
   ]
  },
  {
   "cell_type": "code",
   "execution_count": 2,
   "metadata": {
    "ExecuteTime": {
     "end_time": "2018-12-01T17:22:35.684656Z",
     "start_time": "2018-12-01T17:22:35.231Z"
    }
   },
   "outputs": [],
   "source": [
    "#Read in Wooldridge data\n",
    "wage1 <- read.dta(\"http://fmwww.bc.edu/ec-p/data/wooldridge/wage1.dta\")\n",
    "\n",
    " "
   ]
  },
  {
   "cell_type": "code",
   "execution_count": 3,
   "metadata": {
    "ExecuteTime": {
     "end_time": "2018-12-01T17:22:46.575678Z",
     "start_time": "2018-12-01T17:22:46.064Z"
    }
   },
   "outputs": [
    {
     "name": "stdout",
     "output_type": "stream",
     "text": [
      "\n",
      "===============================================\n",
      "                        Dependent variable:    \n",
      "                    ---------------------------\n",
      "                               wage            \n",
      "-----------------------------------------------\n",
      "educ                         0.529***          \n",
      "                              (0.047)          \n",
      "                                               \n",
      "tenure                       0.154***          \n",
      "                              (0.019)          \n",
      "                                               \n",
      "female                       -1.710***         \n",
      "                              (0.266)          \n",
      "                                               \n",
      "married                       0.685**          \n",
      "                              (0.275)          \n",
      "                                               \n",
      "Constant                      -1.139*          \n",
      "                              (0.655)          \n",
      "                                               \n",
      "-----------------------------------------------\n",
      "Observations                    526            \n",
      "R2                             0.365           \n",
      "Adjusted R2                    0.360           \n",
      "Residual Std. Error      2.954 (df = 521)      \n",
      "F Statistic           74.945*** (df = 4; 521)  \n",
      "===============================================\n",
      "Note:               *p<0.1; **p<0.05; ***p<0.01\n"
     ]
    }
   ],
   "source": [
    "#Basic model\n",
    "model3 <- lm(wage~educ+tenure+female+married,data=wage1)\n",
    "stargazer(model3,type='text')\n"
   ]
  },
  {
   "cell_type": "code",
   "execution_count": null,
   "metadata": {},
   "outputs": [],
   "source": []
  },
  {
   "cell_type": "code",
   "execution_count": 4,
   "metadata": {
    "ExecuteTime": {
     "end_time": "2018-12-01T17:22:54.715058Z",
     "start_time": "2018-12-01T17:22:54.478Z"
    }
   },
   "outputs": [
    {
     "name": "stdout",
     "output_type": "stream",
     "text": [
      "\n",
      "===============================================\n",
      "                        Dependent variable:    \n",
      "                    ---------------------------\n",
      "                               wage            \n",
      "-----------------------------------------------\n",
      "educ                         1.108***          \n",
      "                              (0.226)          \n",
      "                                               \n",
      "tenure                       0.175***          \n",
      "                              (0.023)          \n",
      "                                               \n",
      "female                       -1.420***         \n",
      "                              (0.322)          \n",
      "                                               \n",
      "married                        0.436           \n",
      "                              (0.326)          \n",
      "                                               \n",
      "Constant                     -8.505***         \n",
      "                              (2.887)          \n",
      "                                               \n",
      "-----------------------------------------------\n",
      "Observations                    526            \n",
      "R2                             0.180           \n",
      "Adjusted R2                    0.174           \n",
      "Residual Std. Error      3.357 (df = 521)      \n",
      "===============================================\n",
      "Note:               *p<0.1; **p<0.05; ***p<0.01\n"
     ]
    }
   ],
   "source": [
    "\n",
    "#Perform an instrumental variables regression\n",
    "ivmodel <- ivreg(wage~educ+tenure+female+married|smsa+tenure+female+married,data=wage1)\n",
    "stargazer(ivmodel,type='text')\n"
   ]
  },
  {
   "cell_type": "code",
   "execution_count": null,
   "metadata": {},
   "outputs": [],
   "source": []
  },
  {
   "cell_type": "code",
   "execution_count": 5,
   "metadata": {
    "ExecuteTime": {
     "end_time": "2018-12-01T17:23:01.453522Z",
     "start_time": "2018-12-01T17:23:01.239Z"
    }
   },
   "outputs": [
    {
     "name": "stdout",
     "output_type": "stream",
     "text": [
      "\n",
      "===============================================\n",
      "                        Dependent variable:    \n",
      "                    ---------------------------\n",
      "                               educ            \n",
      "-----------------------------------------------\n",
      "smsa                         1.456***          \n",
      "                              (0.262)          \n",
      "                                               \n",
      "tenure                       -0.038**          \n",
      "                              (0.017)          \n",
      "                                               \n",
      "female                       -0.508**          \n",
      "                              (0.240)          \n",
      "                                               \n",
      "married                       0.568**          \n",
      "                              (0.249)          \n",
      "                                               \n",
      "Constant                     11.602***         \n",
      "                              (0.316)          \n",
      "                                               \n",
      "-----------------------------------------------\n",
      "Observations                    526            \n",
      "R2                             0.073           \n",
      "Adjusted R2                    0.066           \n",
      "Residual Std. Error      2.676 (df = 521)      \n",
      "F Statistic           10.272*** (df = 4; 521)  \n",
      "===============================================\n",
      "Note:               *p<0.1; **p<0.05; ***p<0.01\n"
     ]
    }
   ],
   "source": [
    "firststage <- lm(educ~smsa+tenure+female+married,data=wage1)\n",
    "stargazer(firststage,type='text')\n"
   ]
  },
  {
   "cell_type": "code",
   "execution_count": 6,
   "metadata": {
    "ExecuteTime": {
     "end_time": "2018-12-01T17:23:06.282481Z",
     "start_time": "2018-12-01T17:23:06.242Z"
    }
   },
   "outputs": [
    {
     "data": {
      "text/html": [
       "<table>\n",
       "<thead><tr><th scope=col>Res.Df</th><th scope=col>RSS</th><th scope=col>Df</th><th scope=col>Sum of Sq</th><th scope=col>F</th><th scope=col>Pr(&gt;F)</th></tr></thead>\n",
       "<tbody>\n",
       "\t<tr><td>522         </td><td>3952.445    </td><td>NA          </td><td>      NA    </td><td>      NA    </td><td>          NA</td></tr>\n",
       "\t<tr><td>521         </td><td>3731.181    </td><td> 1          </td><td>221.2648    </td><td>30.89611    </td><td>4.351671e-08</td></tr>\n",
       "</tbody>\n",
       "</table>\n"
      ],
      "text/latex": [
       "\\begin{tabular}{r|llllll}\n",
       " Res.Df & RSS & Df & Sum of Sq & F & Pr(>F)\\\\\n",
       "\\hline\n",
       "\t 522          & 3952.445     & NA           &       NA     &       NA     &           NA\\\\\n",
       "\t 521          & 3731.181     &  1           & 221.2648     & 30.89611     & 4.351671e-08\\\\\n",
       "\\end{tabular}\n"
      ],
      "text/markdown": [
       "\n",
       "Res.Df | RSS | Df | Sum of Sq | F | Pr(>F) | \n",
       "|---|---|\n",
       "| 522          | 3952.445     | NA           |       NA     |       NA     |           NA | \n",
       "| 521          | 3731.181     |  1           | 221.2648     | 30.89611     | 4.351671e-08 | \n",
       "\n",
       "\n"
      ],
      "text/plain": [
       "  Res.Df RSS      Df Sum of Sq F        Pr(>F)      \n",
       "1 522    3952.445 NA       NA        NA           NA\n",
       "2 521    3731.181  1 221.2648  30.89611 4.351671e-08"
      ]
     },
     "metadata": {},
     "output_type": "display_data"
    }
   ],
   "source": [
    "linearHypothesis(firststage,\"smsa=0\",type=c(\"F\"))"
   ]
  },
  {
   "cell_type": "code",
   "execution_count": null,
   "metadata": {},
   "outputs": [],
   "source": []
  }
 ],
 "metadata": {
  "kernelspec": {
   "display_name": "R",
   "language": "R",
   "name": "ir"
  },
  "language_info": {
   "codemirror_mode": "r",
   "file_extension": ".r",
   "mimetype": "text/x-r-source",
   "name": "R",
   "pygments_lexer": "r",
   "version": "3.5.1"
  }
 },
 "nbformat": 4,
 "nbformat_minor": 2
}
