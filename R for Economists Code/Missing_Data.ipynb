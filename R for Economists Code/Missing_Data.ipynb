{
 "cells": [
  {
   "cell_type": "code",
   "execution_count": 1,
   "metadata": {
    "ExecuteTime": {
     "end_time": "2018-12-01T17:38:57.330938Z",
     "start_time": "2018-12-01T17:38:57.287Z"
    }
   },
   "outputs": [
    {
     "name": "stderr",
     "output_type": "stream",
     "text": [
      "\n",
      "Please cite as: \n",
      "\n",
      " Hlavac, Marek (2018). stargazer: Well-Formatted Regression and Summary Statistics Tables.\n",
      " R package version 5.2.2. https://CRAN.R-project.org/package=stargazer \n",
      "\n"
     ]
    }
   ],
   "source": [
    "#load in packages\n",
    "library(stargazer)\n",
    "\n",
    "\n"
   ]
  },
  {
   "cell_type": "markdown",
   "metadata": {},
   "source": [
    "#https://data.wa.gov/api/views/wajg-ig9g/rows.csv?accessType=DOWNLOAD\n",
    "\n",
    "\n",
    "https://collegescorecard.ed.gov/data/\n",
    "\n",
    "\n"
   ]
  },
  {
   "cell_type": "code",
   "execution_count": 4,
   "metadata": {
    "ExecuteTime": {
     "end_time": "2018-12-01T17:41:07.635772Z",
     "start_time": "2018-12-01T17:40:57.475Z"
    }
   },
   "outputs": [],
   "source": [
    "#Read in data\n",
    "scorecard <- read.csv('https://data.wa.gov/api/views/wajg-ig9g/rows.csv',\n",
    "                      stringsAsFactors=FALSE) \n",
    "\n"
   ]
  },
  {
   "cell_type": "code",
   "execution_count": 14,
   "metadata": {
    "ExecuteTime": {
     "end_time": "2018-12-01T17:47:09.887550Z",
     "start_time": "2018-12-01T17:47:09.729Z"
    }
   },
   "outputs": [],
   "source": [
    "#Read in data\n",
    "scorecard <- read.csv('Most+Recent+Cohorts+(Scorecard+Elements).csv',\n",
    "                      stringsAsFactors=FALSE) "
   ]
  },
  {
   "cell_type": "code",
   "execution_count": 15,
   "metadata": {
    "ExecuteTime": {
     "end_time": "2018-12-01T17:47:11.030726Z",
     "start_time": "2018-12-01T17:47:10.920Z"
    }
   },
   "outputs": [
    {
     "name": "stdout",
     "output_type": "stream",
     "text": [
      "'data.frame':\t7804 obs. of  122 variables:\n",
      " $ UNITID                               : int  100654 100663 100690 100706 100724 100751 100760 100812 100830 100858 ...\n",
      " $ OPEID                                : int  100200 105200 2503400 105500 100500 105100 100700 100800 831000 100900 ...\n",
      " $ opeid6                               : int  1002 1052 25034 1055 1005 1051 1007 1008 8310 1009 ...\n",
      " $ INSTNM                               : chr  \"Alabama A & M University\" \"University of Alabama at Birmingham\" \"Amridge University\" \"University of Alabama in Huntsville\" ...\n",
      " $ CITY                                 : chr  \"Normal\" \"Birmingham\" \"Montgomery\" \"Huntsville\" ...\n",
      " $ STABBR                               : chr  \"AL\" \"AL\" \"AL\" \"AL\" ...\n",
      " $ INSTURL                              : chr  \"www.aamu.edu/\" \"www.uab.edu\" \"www.amridgeuniversity.edu\" \"www.uah.edu\" ...\n",
      " $ NPCURL                               : chr  \"galileo.aamu.edu/netpricecalculator/npcalc.htm\" \"www.collegeportraits.org/AL/UAB/estimator/agree\" \"tcc.noellevitz.com/(S(miwoihs5stz5cpyifh4nczu0))/Amridge%20University/Freshman-Students\" \"finaid.uah.edu/\" ...\n",
      " $ HCM2                                 : int  0 0 0 0 0 0 0 0 0 0 ...\n",
      " $ PREDDEG                              : int  3 3 3 3 3 3 2 3 3 3 ...\n",
      " $ CONTROL                              : int  1 1 2 1 1 1 1 1 1 1 ...\n",
      " $ LOCALE                               : chr  \"12\" \"12\" \"12\" \"12\" ...\n",
      " $ HBCU                                 : chr  \"1\" \"0\" \"0\" \"0\" ...\n",
      " $ PBI                                  : chr  \"0\" \"0\" \"0\" \"0\" ...\n",
      " $ ANNHI                                : chr  \"0\" \"0\" \"0\" \"0\" ...\n",
      " $ TRIBAL                               : chr  \"0\" \"0\" \"0\" \"0\" ...\n",
      " $ AANAPII                              : chr  \"0\" \"0\" \"0\" \"0\" ...\n",
      " $ HSI                                  : chr  \"0\" \"0\" \"0\" \"0\" ...\n",
      " $ NANTI                                : chr  \"0\" \"0\" \"0\" \"0\" ...\n",
      " $ MENONLY                              : chr  \"0\" \"0\" \"0\" \"0\" ...\n",
      " $ WOMENONLY                            : chr  \"0\" \"0\" \"0\" \"0\" ...\n",
      " $ RELAFFIL                             : chr  \"NULL\" \"NULL\" \"74\" \"NULL\" ...\n",
      " $ SATVR25                              : chr  \"370\" \"520\" \"NULL\" \"510\" ...\n",
      " $ SATVR75                              : chr  \"450\" \"640\" \"NULL\" \"640\" ...\n",
      " $ SATMT25                              : chr  \"350\" \"520\" \"NULL\" \"510\" ...\n",
      " $ SATMT75                              : chr  \"450\" \"650\" \"NULL\" \"650\" ...\n",
      " $ SATWR25                              : chr  \"NULL\" \"NULL\" \"NULL\" \"NULL\" ...\n",
      " $ SATWR75                              : chr  \"NULL\" \"NULL\" \"NULL\" \"NULL\" ...\n",
      " $ SATVRMID                             : chr  \"410\" \"580\" \"NULL\" \"575\" ...\n",
      " $ SATMTMID                             : chr  \"400\" \"585\" \"NULL\" \"580\" ...\n",
      " $ SATWRMID                             : chr  \"NULL\" \"NULL\" \"NULL\" \"NULL\" ...\n",
      " $ ACTCM25                              : chr  \"15\" \"22\" \"NULL\" \"23\" ...\n",
      " $ ACTCM75                              : chr  \"19\" \"28\" \"NULL\" \"29\" ...\n",
      " $ ACTEN25                              : chr  \"14\" \"22\" \"NULL\" \"22\" ...\n",
      " $ ACTEN75                              : chr  \"19\" \"29\" \"NULL\" \"30\" ...\n",
      " $ ACTMT25                              : chr  \"15\" \"20\" \"NULL\" \"22\" ...\n",
      " $ ACTMT75                              : chr  \"18\" \"26\" \"NULL\" \"28\" ...\n",
      " $ ACTWR25                              : chr  \"NULL\" \"NULL\" \"NULL\" \"NULL\" ...\n",
      " $ ACTWR75                              : chr  \"NULL\" \"NULL\" \"NULL\" \"NULL\" ...\n",
      " $ ACTCMMID                             : chr  \"17\" \"25\" \"NULL\" \"26\" ...\n",
      " $ ACTENMID                             : chr  \"17\" \"26\" \"NULL\" \"26\" ...\n",
      " $ ACTMTMID                             : chr  \"17\" \"23\" \"NULL\" \"25\" ...\n",
      " $ ACTWRMID                             : chr  \"NULL\" \"NULL\" \"NULL\" \"NULL\" ...\n",
      " $ SAT_AVG                              : chr  \"823\" \"1146\" \"NULL\" \"1180\" ...\n",
      " $ SAT_AVG_ALL                          : chr  \"823\" \"1146\" \"NULL\" \"1180\" ...\n",
      " $ PCIP01                               : chr  \"0.0397\" \"0\" \"0\" \"0\" ...\n",
      " $ PCIP03                               : chr  \"0.0199\" \"0\" \"0\" \"0\" ...\n",
      " $ PCIP04                               : chr  \"0.0116\" \"0\" \"0\" \"0\" ...\n",
      " $ PCIP05                               : chr  \"0\" \"0.0018\" \"0\" \"0\" ...\n",
      " $ PCIP09                               : chr  \"0\" \"0.0456\" \"0\" \"0.0318\" ...\n",
      " $ PCIP10                               : chr  \"0.0348\" \"0\" \"0\" \"0\" ...\n",
      " $ PCIP11                               : chr  \"0.0348\" \"0.0099\" \"0.0411\" \"0.0273\" ...\n",
      " $ PCIP12                               : chr  \"0\" \"0\" \"0\" \"0\" ...\n",
      " $ PCIP13                               : chr  \"0.149\" \"0.0862\" \"0\" \"0.0173\" ...\n",
      " $ PCIP14                               : chr  \"0.1175\" \"0.0632\" \"0\" \"0.2566\" ...\n",
      " $ PCIP15                               : chr  \"0.0348\" \"0\" \"0\" \"0\" ...\n",
      " $ PCIP16                               : chr  \"0\" \"0.009\" \"0\" \"0.0173\" ...\n",
      " $ PCIP19                               : chr  \"0.0281\" \"0\" \"0\" \"0\" ...\n",
      " $ PCIP22                               : chr  \"0\" \"0\" \"0\" \"0\" ...\n",
      " $ PCIP23                               : chr  \"0.0182\" \"0.0203\" \"0\" \"0.0309\" ...\n",
      " $ PCIP24                               : chr  \"0.0546\" \"0.0262\" \"0.6301\" \"0\" ...\n",
      " $ PCIP25                               : chr  \"0\" \"0\" \"0\" \"0\" ...\n",
      " $ PCIP26                               : chr  \"0.1026\" \"0.0619\" \"0\" \"0.0855\" ...\n",
      " $ PCIP27                               : chr  \"0.0199\" \"0.0135\" \"0\" \"0.0218\" ...\n",
      " $ PCIP29                               : chr  \"0\" \"0\" \"0\" \"0\" ...\n",
      " $ PCIP30                               : chr  \"0\" \"0\" \"0\" \"0\" ...\n",
      " $ PCIP31                               : chr  \"0\" \"0\" \"0\" \"0\" ...\n",
      " $ PCIP38                               : chr  \"0\" \"0.0095\" \"0\" \"0.0082\" ...\n",
      " $ PCIP39                               : chr  \"0\" \"0\" \"0.2603\" \"0\" ...\n",
      " $ PCIP40                               : chr  \"0.0248\" \"0.0181\" \"0\" \"0.0209\" ...\n",
      " $ PCIP41                               : chr  \"0\" \"0\" \"0\" \"0\" ...\n",
      " $ PCIP42                               : chr  \"0.0579\" \"0.084\" \"0\" \"0.0218\" ...\n",
      " $ PCIP43                               : chr  \"0.005\" \"0.028\" \"0\" \"0\" ...\n",
      " $ PCIP44                               : chr  \"0.0364\" \"0.0244\" \"0\" \"0\" ...\n",
      " $ PCIP45                               : chr  \"0.048\" \"0.0501\" \"0\" \"0.0173\" ...\n",
      " $ PCIP46                               : chr  \"0\" \"0\" \"0\" \"0\" ...\n",
      " $ PCIP47                               : chr  \"0\" \"0\" \"0\" \"0\" ...\n",
      " $ PCIP48                               : chr  \"0\" \"0\" \"0\" \"0\" ...\n",
      " $ PCIP49                               : chr  \"0\" \"0\" \"0\" \"0\" ...\n",
      " $ PCIP50                               : chr  \"0.0166\" \"0.0415\" \"0\" \"0.0346\" ...\n",
      " $ PCIP51                               : chr  \"0\" \"0.209\" \"0\" \"0.172\" ...\n",
      " $ PCIP52                               : chr  \"0.1457\" \"0.1765\" \"0.0685\" \"0.2247\" ...\n",
      " $ PCIP54                               : chr  \"0\" \"0.0212\" \"0\" \"0.0118\" ...\n",
      " $ DISTANCEONLY                         : chr  \"0\" \"0\" \"0\" \"0\" ...\n",
      " $ UGDS                                 : chr  \"4051\" \"11200\" \"322\" \"5525\" ...\n",
      " $ UGDS_WHITE                           : chr  \"0.0279\" \"0.5987\" \"0.2919\" \"0.7012\" ...\n",
      " $ UGDS_BLACK                           : chr  \"0.9501\" \"0.259\" \"0.4224\" \"0.131\" ...\n",
      " $ UGDS_HISP                            : chr  \"0.0089\" \"0.0258\" \"0.0093\" \"0.0338\" ...\n",
      " $ UGDS_ASIAN                           : chr  \"0.0022\" \"0.0518\" \"0.0031\" \"0.0364\" ...\n",
      " $ UGDS_AIAN                            : chr  \"0.0012\" \"0.0026\" \"0.0031\" \"0.0145\" ...\n",
      " $ UGDS_NHPI                            : chr  \"0.001\" \"0.0007\" \"0.0031\" \"0.0002\" ...\n",
      " $ UGDS_2MOR                            : chr  \"0\" \"0.0344\" \"0\" \"0.0161\" ...\n",
      " $ UGDS_NRA                             : chr  \"0.0002\" \"0.014\" \"0\" \"0.0329\" ...\n",
      " $ UGDS_UNKN                            : chr  \"0.0084\" \"0.013\" \"0.2671\" \"0.0338\" ...\n",
      " $ PPTUG_EF                             : chr  \"0.0622\" \"0.2579\" \"0.3727\" \"0.2395\" ...\n",
      " $ CURROPER                             : int  1 1 1 1 1 1 1 1 1 1 ...\n",
      " $ NPT4_PUB.AVERAGE.ANNUAL.COST         : chr  \"13415\" \"14805\" \"NULL\" \"17520\" ...\n",
      " $ NPT4_PRIV                            : chr  \"NULL\" \"NULL\" \"7455\" \"NULL\" ...\n",
      " $ NPT41_PUB                            : chr  \"12683\" \"12361\" \"NULL\" \"14652\" ...\n",
      "  [list output truncated]\n"
     ]
    }
   ],
   "source": [
    "str(scorecard)"
   ]
  },
  {
   "cell_type": "code",
   "execution_count": 16,
   "metadata": {
    "ExecuteTime": {
     "end_time": "2018-12-01T17:47:14.619503Z",
     "start_time": "2018-12-01T17:47:14.580Z"
    }
   },
   "outputs": [
    {
     "data": {
      "text/html": [
       "<table>\n",
       "<thead><tr><th scope=col>UNITID</th><th scope=col>OPEID</th><th scope=col>opeid6</th><th scope=col>INSTNM</th><th scope=col>CITY</th><th scope=col>STABBR</th><th scope=col>INSTURL</th><th scope=col>NPCURL</th><th scope=col>HCM2</th><th scope=col>PREDDEG</th><th scope=col>...</th><th scope=col>RET_PTL4</th><th scope=col>PCTFLOAN</th><th scope=col>UG25abv</th><th scope=col>GRAD_DEBT_MDN_SUPP</th><th scope=col>GRAD_DEBT_MDN10YR_SUPP</th><th scope=col>RPY_3YR_RT_SUPP</th><th scope=col>C150_4_POOLED_SUPP.REPORTED.GRAD.RATE</th><th scope=col>C200_L4_POOLED_SUPP</th><th scope=col>md_earn_wne_p10.REPORTED.EARNINGS</th><th scope=col>gt_25k_p6</th></tr></thead>\n",
       "<tbody>\n",
       "\t<tr><td>100654                                                                                                                         </td><td> 100200                                                                                                                        </td><td> 1002                                                                                                                          </td><td><span style=white-space:pre-wrap>Alabama A &amp; M University           </span>                                                </td><td><span style=white-space:pre-wrap>Normal    </span>                                                                             </td><td>AL                                                                                                                             </td><td><span style=white-space:pre-wrap>www.aamu.edu/                 </span>                                                         </td><td><span style=white-space:pre-wrap>galileo.aamu.edu/netpricecalculator/npcalc.htm                                         </span></td><td>0                                                                                                                              </td><td>3                                                                                                                              </td><td>...                                                                                                                            </td><td>NULL                                                                                                                           </td><td>0.8204                                                                                                                         </td><td>0.1049                                                                                                                         </td><td><span style=white-space:pre-wrap>33611.5          </span>                                                                      </td><td><span style=white-space:pre-wrap>373.1565536      </span>                                                                      </td><td>0.44471387                                                                                                                     </td><td><span style=white-space:pre-wrap>0.308718313      </span>                                                                      </td><td>NULL                                                                                                                           </td><td>31400                                                                                                                          </td><td>0.462298036                                                                                                                    </td></tr>\n",
       "\t<tr><td>100663                                                                                 </td><td> 105200                                                                                </td><td> 1052                                                                                  </td><td>University of Alabama at Birmingham                                                    </td><td>Birmingham                                                                             </td><td>AL                                                                                     </td><td>www.uab.edu                                                                            </td><td>www.collegeportraits.org/AL/UAB/estimator/agree                                        </td><td>0                                                                                      </td><td>3                                                                                      </td><td>...                                                                                    </td><td>NULL                                                                                   </td><td>0.5397                                                                                 </td><td>0.2422                                                                                 </td><td>23117                                                                                  </td><td>256.6460899                                                                            </td><td>0.756266667                                                                            </td><td>0.508549808                                                                            </td><td>NULL                                                                                   </td><td>40300                                                                                  </td><td>0.660484493                                                                            </td></tr>\n",
       "\t<tr><td>100690                                                                                 </td><td>2503400                                                                                </td><td>25034                                                                                  </td><td>Amridge University                                                                     </td><td>Montgomery                                                                             </td><td>AL                                                                                     </td><td>www.amridgeuniversity.edu                                                              </td><td>tcc.noellevitz.com/(S(miwoihs5stz5cpyifh4nczu0))/Amridge%20University/Freshman-Students</td><td>0                                                                                      </td><td>3                                                                                      </td><td>...                                                                                    </td><td>NULL                                                                                   </td><td>0.7629                                                                                 </td><td>0.854                                                                                  </td><td>PrivacySuppressed                                                                      </td><td>PrivacySuppressed                                                                      </td><td>0.647249191                                                                            </td><td>PrivacySuppressed                                                                      </td><td>NULL                                                                                   </td><td>38100                                                                                  </td><td>0.646666646                                                                            </td></tr>\n",
       "\t<tr><td>100706                                                                                 </td><td> 105500                                                                                </td><td> 1055                                                                                  </td><td>University of Alabama in Huntsville                                                    </td><td>Huntsville                                                                             </td><td>AL                                                                                     </td><td>www.uah.edu                                                                            </td><td>finaid.uah.edu/                                                                        </td><td>0                                                                                      </td><td>3                                                                                      </td><td>...                                                                                    </td><td>NULL                                                                                   </td><td>0.4728                                                                                 </td><td>0.264                                                                                  </td><td>24738                                                                                  </td><td>274.6425129                                                                            </td><td>0.781997919                                                                            </td><td>0.478211346                                                                            </td><td>NULL                                                                                   </td><td>46600                                                                                  </td><td>0.660565734                                                                            </td></tr>\n",
       "\t<tr><td>100724                                                                                 </td><td> 100500                                                                                </td><td> 1005                                                                                  </td><td>Alabama State University                                                               </td><td>Montgomery                                                                             </td><td>AL                                                                                     </td><td>www.alasu.edu/email/index.aspx                                                         </td><td>www.alasu.edu/cost-aid/forms/calculator/index.aspx/                                    </td><td>0                                                                                      </td><td>3                                                                                      </td><td>...                                                                                    </td><td>NULL                                                                                   </td><td>0.8735                                                                                 </td><td>0.127                                                                                  </td><td>33452                                                                                  </td><td>371.3857766                                                                            </td><td>0.331198862                                                                            </td><td>0.257481955                                                                            </td><td>NULL                                                                                   </td><td>27800                                                                                  </td><td>0.342225611                                                                            </td></tr>\n",
       "\t<tr><td>100751                                                                                 </td><td> 105100                                                                                </td><td> 1051                                                                                  </td><td>The University of Alabama                                                              </td><td>Tuscaloosa                                                                             </td><td>AL                                                                                     </td><td>www.ua.edu/                                                                            </td><td>oira.ua.edu                                                                            </td><td>0                                                                                      </td><td>3                                                                                      </td><td>...                                                                                    </td><td>NULL                                                                                   </td><td>0.4148                                                                                 </td><td>0.0853                                                                                 </td><td>24000                                                                                  </td><td>266.4492                                                                               </td><td>0.8139413                                                                              </td><td>0.666009354                                                                            </td><td>NULL                                                                                   </td><td>42400                                                                                  </td><td>0.661085427                                                                            </td></tr>\n",
       "</tbody>\n",
       "</table>\n"
      ],
      "text/latex": [
       "\\begin{tabular}{r|llllllllllllllllllllllllllllllllllllllllllllllllllllllllllllllllllllllllllllllllllllllllllllllllllllllllllllllllllllllllll}\n",
       " UNITID & OPEID & opeid6 & INSTNM & CITY & STABBR & INSTURL & NPCURL & HCM2 & PREDDEG & ... & RET\\_PTL4 & PCTFLOAN & UG25abv & GRAD\\_DEBT\\_MDN\\_SUPP & GRAD\\_DEBT\\_MDN10YR\\_SUPP & RPY\\_3YR\\_RT\\_SUPP & C150\\_4\\_POOLED\\_SUPP.REPORTED.GRAD.RATE & C200\\_L4\\_POOLED\\_SUPP & md\\_earn\\_wne\\_p10.REPORTED.EARNINGS & gt\\_25k\\_p6\\\\\n",
       "\\hline\n",
       "\t 100654                                                                                  &  100200                                                                                 &  1002                                                                                   & Alabama A \\& M University                                                              & Normal                                                                                  & AL                                                                                      & www.aamu.edu/                                                                           & galileo.aamu.edu/netpricecalculator/npcalc.htm                                          & 0                                                                                       & 3                                                                                       & ...                                                                                     & NULL                                                                                    & 0.8204                                                                                  & 0.1049                                                                                  & 33611.5                                                                                 & 373.1565536                                                                             & 0.44471387                                                                              & 0.308718313                                                                             & NULL                                                                                    & 31400                                                                                   & 0.462298036                                                                            \\\\\n",
       "\t 100663                                                                                  &  105200                                                                                 &  1052                                                                                   & University of Alabama at Birmingham                                                     & Birmingham                                                                              & AL                                                                                      & www.uab.edu                                                                             & www.collegeportraits.org/AL/UAB/estimator/agree                                         & 0                                                                                       & 3                                                                                       & ...                                                                                     & NULL                                                                                    & 0.5397                                                                                  & 0.2422                                                                                  & 23117                                                                                   & 256.6460899                                                                             & 0.756266667                                                                             & 0.508549808                                                                             & NULL                                                                                    & 40300                                                                                   & 0.660484493                                                                            \\\\\n",
       "\t 100690                                                                                    & 2503400                                                                                   & 25034                                                                                     & Amridge University                                                                        & Montgomery                                                                                & AL                                                                                        & www.amridgeuniversity.edu                                                                 & tcc.noellevitz.com/(S(miwoihs5stz5cpyifh4nczu0))/Amridge\\%20University/Freshman-Students & 0                                                                                         & 3                                                                                         & ...                                                                                       & NULL                                                                                      & 0.7629                                                                                    & 0.854                                                                                     & PrivacySuppressed                                                                         & PrivacySuppressed                                                                         & 0.647249191                                                                               & PrivacySuppressed                                                                         & NULL                                                                                      & 38100                                                                                     & 0.646666646                                                                              \\\\\n",
       "\t 100706                                                                                  &  105500                                                                                 &  1055                                                                                   & University of Alabama in Huntsville                                                     & Huntsville                                                                              & AL                                                                                      & www.uah.edu                                                                             & finaid.uah.edu/                                                                         & 0                                                                                       & 3                                                                                       & ...                                                                                     & NULL                                                                                    & 0.4728                                                                                  & 0.264                                                                                   & 24738                                                                                   & 274.6425129                                                                             & 0.781997919                                                                             & 0.478211346                                                                             & NULL                                                                                    & 46600                                                                                   & 0.660565734                                                                            \\\\\n",
       "\t 100724                                                                                  &  100500                                                                                 &  1005                                                                                   & Alabama State University                                                                & Montgomery                                                                              & AL                                                                                      & www.alasu.edu/email/index.aspx                                                          & www.alasu.edu/cost-aid/forms/calculator/index.aspx/                                     & 0                                                                                       & 3                                                                                       & ...                                                                                     & NULL                                                                                    & 0.8735                                                                                  & 0.127                                                                                   & 33452                                                                                   & 371.3857766                                                                             & 0.331198862                                                                             & 0.257481955                                                                             & NULL                                                                                    & 27800                                                                                   & 0.342225611                                                                            \\\\\n",
       "\t 100751                                                                                  &  105100                                                                                 &  1051                                                                                   & The University of Alabama                                                               & Tuscaloosa                                                                              & AL                                                                                      & www.ua.edu/                                                                             & oira.ua.edu                                                                             & 0                                                                                       & 3                                                                                       & ...                                                                                     & NULL                                                                                    & 0.4148                                                                                  & 0.0853                                                                                  & 24000                                                                                   & 266.4492                                                                                & 0.8139413                                                                               & 0.666009354                                                                             & NULL                                                                                    & 42400                                                                                   & 0.661085427                                                                            \\\\\n",
       "\\end{tabular}\n"
      ],
      "text/markdown": [
       "\n",
       "UNITID | OPEID | opeid6 | INSTNM | CITY | STABBR | INSTURL | NPCURL | HCM2 | PREDDEG | ... | RET_PTL4 | PCTFLOAN | UG25abv | GRAD_DEBT_MDN_SUPP | GRAD_DEBT_MDN10YR_SUPP | RPY_3YR_RT_SUPP | C150_4_POOLED_SUPP.REPORTED.GRAD.RATE | C200_L4_POOLED_SUPP | md_earn_wne_p10.REPORTED.EARNINGS | gt_25k_p6 | \n",
       "|---|---|---|---|---|---|\n",
       "| 100654                                                                                  |  100200                                                                                 |  1002                                                                                   | Alabama A & M University                                                                | Normal                                                                                  | AL                                                                                      | www.aamu.edu/                                                                           | galileo.aamu.edu/netpricecalculator/npcalc.htm                                          | 0                                                                                       | 3                                                                                       | ...                                                                                     | NULL                                                                                    | 0.8204                                                                                  | 0.1049                                                                                  | 33611.5                                                                                 | 373.1565536                                                                             | 0.44471387                                                                              | 0.308718313                                                                             | NULL                                                                                    | 31400                                                                                   | 0.462298036                                                                             | \n",
       "| 100663                                                                                  |  105200                                                                                 |  1052                                                                                   | University of Alabama at Birmingham                                                     | Birmingham                                                                              | AL                                                                                      | www.uab.edu                                                                             | www.collegeportraits.org/AL/UAB/estimator/agree                                         | 0                                                                                       | 3                                                                                       | ...                                                                                     | NULL                                                                                    | 0.5397                                                                                  | 0.2422                                                                                  | 23117                                                                                   | 256.6460899                                                                             | 0.756266667                                                                             | 0.508549808                                                                             | NULL                                                                                    | 40300                                                                                   | 0.660484493                                                                             | \n",
       "| 100690                                                                                  | 2503400                                                                                 | 25034                                                                                   | Amridge University                                                                      | Montgomery                                                                              | AL                                                                                      | www.amridgeuniversity.edu                                                               | tcc.noellevitz.com/(S(miwoihs5stz5cpyifh4nczu0))/Amridge%20University/Freshman-Students | 0                                                                                       | 3                                                                                       | ...                                                                                     | NULL                                                                                    | 0.7629                                                                                  | 0.854                                                                                   | PrivacySuppressed                                                                       | PrivacySuppressed                                                                       | 0.647249191                                                                             | PrivacySuppressed                                                                       | NULL                                                                                    | 38100                                                                                   | 0.646666646                                                                             | \n",
       "| 100706                                                                                  |  105500                                                                                 |  1055                                                                                   | University of Alabama in Huntsville                                                     | Huntsville                                                                              | AL                                                                                      | www.uah.edu                                                                             | finaid.uah.edu/                                                                         | 0                                                                                       | 3                                                                                       | ...                                                                                     | NULL                                                                                    | 0.4728                                                                                  | 0.264                                                                                   | 24738                                                                                   | 274.6425129                                                                             | 0.781997919                                                                             | 0.478211346                                                                             | NULL                                                                                    | 46600                                                                                   | 0.660565734                                                                             | \n",
       "| 100724                                                                                  |  100500                                                                                 |  1005                                                                                   | Alabama State University                                                                | Montgomery                                                                              | AL                                                                                      | www.alasu.edu/email/index.aspx                                                          | www.alasu.edu/cost-aid/forms/calculator/index.aspx/                                     | 0                                                                                       | 3                                                                                       | ...                                                                                     | NULL                                                                                    | 0.8735                                                                                  | 0.127                                                                                   | 33452                                                                                   | 371.3857766                                                                             | 0.331198862                                                                             | 0.257481955                                                                             | NULL                                                                                    | 27800                                                                                   | 0.342225611                                                                             | \n",
       "| 100751                                                                                  |  105100                                                                                 |  1051                                                                                   | The University of Alabama                                                               | Tuscaloosa                                                                              | AL                                                                                      | www.ua.edu/                                                                             | oira.ua.edu                                                                             | 0                                                                                       | 3                                                                                       | ...                                                                                     | NULL                                                                                    | 0.4148                                                                                  | 0.0853                                                                                  | 24000                                                                                   | 266.4492                                                                                | 0.8139413                                                                               | 0.666009354                                                                             | NULL                                                                                    | 42400                                                                                   | 0.661085427                                                                             | \n",
       "\n",
       "\n"
      ],
      "text/plain": [
       "  UNITID OPEID   opeid6 INSTNM                              CITY       STABBR\n",
       "1 100654  100200  1002  Alabama A & M University            Normal     AL    \n",
       "2 100663  105200  1052  University of Alabama at Birmingham Birmingham AL    \n",
       "3 100690 2503400 25034  Amridge University                  Montgomery AL    \n",
       "4 100706  105500  1055  University of Alabama in Huntsville Huntsville AL    \n",
       "5 100724  100500  1005  Alabama State University            Montgomery AL    \n",
       "6 100751  105100  1051  The University of Alabama           Tuscaloosa AL    \n",
       "  INSTURL                       \n",
       "1 www.aamu.edu/                 \n",
       "2 www.uab.edu                   \n",
       "3 www.amridgeuniversity.edu     \n",
       "4 www.uah.edu                   \n",
       "5 www.alasu.edu/email/index.aspx\n",
       "6 www.ua.edu/                   \n",
       "  NPCURL                                                                                 \n",
       "1 galileo.aamu.edu/netpricecalculator/npcalc.htm                                         \n",
       "2 www.collegeportraits.org/AL/UAB/estimator/agree                                        \n",
       "3 tcc.noellevitz.com/(S(miwoihs5stz5cpyifh4nczu0))/Amridge%20University/Freshman-Students\n",
       "4 finaid.uah.edu/                                                                        \n",
       "5 www.alasu.edu/cost-aid/forms/calculator/index.aspx/                                    \n",
       "6 oira.ua.edu                                                                            \n",
       "  HCM2 PREDDEG ... RET_PTL4 PCTFLOAN UG25abv GRAD_DEBT_MDN_SUPP\n",
       "1 0    3       ... NULL     0.8204   0.1049  33611.5           \n",
       "2 0    3       ... NULL     0.5397   0.2422  23117             \n",
       "3 0    3       ... NULL     0.7629   0.854   PrivacySuppressed \n",
       "4 0    3       ... NULL     0.4728   0.264   24738             \n",
       "5 0    3       ... NULL     0.8735   0.127   33452             \n",
       "6 0    3       ... NULL     0.4148   0.0853  24000             \n",
       "  GRAD_DEBT_MDN10YR_SUPP RPY_3YR_RT_SUPP C150_4_POOLED_SUPP.REPORTED.GRAD.RATE\n",
       "1 373.1565536            0.44471387      0.308718313                          \n",
       "2 256.6460899            0.756266667     0.508549808                          \n",
       "3 PrivacySuppressed      0.647249191     PrivacySuppressed                    \n",
       "4 274.6425129            0.781997919     0.478211346                          \n",
       "5 371.3857766            0.331198862     0.257481955                          \n",
       "6 266.4492               0.8139413       0.666009354                          \n",
       "  C200_L4_POOLED_SUPP md_earn_wne_p10.REPORTED.EARNINGS gt_25k_p6  \n",
       "1 NULL                31400                             0.462298036\n",
       "2 NULL                40300                             0.660484493\n",
       "3 NULL                38100                             0.646666646\n",
       "4 NULL                46600                             0.660565734\n",
       "5 NULL                27800                             0.342225611\n",
       "6 NULL                42400                             0.661085427"
      ]
     },
     "metadata": {},
     "output_type": "display_data"
    }
   ],
   "source": [
    "head(scorecard)"
   ]
  },
  {
   "cell_type": "code",
   "execution_count": 17,
   "metadata": {
    "ExecuteTime": {
     "end_time": "2018-12-01T17:47:15.752799Z",
     "start_time": "2018-12-01T17:47:15.721Z"
    }
   },
   "outputs": [
    {
     "name": "stderr",
     "output_type": "stream",
     "text": [
      "Warning message in eval(expr, envir, enclos):\n",
      "\"NAs introduced by coercion\"Warning message in eval(expr, envir, enclos):\n",
      "\"NAs introduced by coercion\""
     ]
    }
   ],
   "source": [
    "#Turn data into numeric, which gives us some missing values\n",
    "scorecard$SAT_AVG <- as.numeric(scorecard$SAT_AVG)\n",
    "scorecard$UGDS <- as.numeric(scorecard$UGDS)"
   ]
  },
  {
   "cell_type": "code",
   "execution_count": 18,
   "metadata": {
    "ExecuteTime": {
     "end_time": "2018-12-01T17:47:16.457604Z",
     "start_time": "2018-12-01T17:47:16.432Z"
    }
   },
   "outputs": [
    {
     "data": {
      "text/plain": [
       "\n",
       "Call:\n",
       "lm(formula = SAT_AVG ~ UGDS, data = scorecard)\n",
       "\n",
       "Residuals:\n",
       "    Min      1Q  Median      3Q     Max \n",
       "-372.08  -81.90  -14.36   58.52  495.69 \n",
       "\n",
       "Coefficients:\n",
       "             Estimate Std. Error t value Pr(>|t|)    \n",
       "(Intercept) 1.034e+03  4.277e+00 241.806   <2e-16 ***\n",
       "UGDS        4.222e-03  4.846e-04   8.713   <2e-16 ***\n",
       "---\n",
       "Signif. codes:  0 '***' 0.001 '**' 0.01 '*' 0.05 '.' 0.1 ' ' 1\n",
       "\n",
       "Residual standard error: 128.5 on 1418 degrees of freedom\n",
       "  (6384 observations deleted due to missingness)\n",
       "Multiple R-squared:  0.05082,\tAdjusted R-squared:  0.05015 \n",
       "F-statistic: 75.91 on 1 and 1418 DF,  p-value: < 2.2e-16\n"
      ]
     },
     "metadata": {},
     "output_type": "display_data"
    }
   ],
   "source": [
    "#Run regression\n",
    "SATonUGDS <- lm(SAT_AVG~UGDS,data=scorecard)\n",
    "summary(SATonUGDS)"
   ]
  },
  {
   "cell_type": "code",
   "execution_count": 19,
   "metadata": {
    "ExecuteTime": {
     "end_time": "2018-12-01T17:47:22.062952Z",
     "start_time": "2018-12-01T17:47:22.034Z"
    }
   },
   "outputs": [
    {
     "data": {
      "text/html": [
       "1056.68943661972"
      ],
      "text/latex": [
       "1056.68943661972"
      ],
      "text/markdown": [
       "1056.68943661972"
      ],
      "text/plain": [
       "[1] 1056.689"
      ]
     },
     "metadata": {},
     "output_type": "display_data"
    }
   ],
   "source": [
    "#Take a mean\n",
    "mean(scorecard$SAT_AVG,na.rm=TRUE)\n",
    "#Often these\n",
    "#na.rm=TRUE\n",
    "#na.omit =TRUE"
   ]
  },
  {
   "cell_type": "code",
   "execution_count": 20,
   "metadata": {
    "ExecuteTime": {
     "end_time": "2018-12-01T17:47:22.680371Z",
     "start_time": "2018-12-01T17:47:22.587Z"
    }
   },
   "outputs": [
    {
     "name": "stdout",
     "output_type": "stream",
     "text": [
      "\n",
      "==========================================================================\n",
      "Statistic   N     Mean    St. Dev.    Min   Pctl(25) Pctl(75)      Max    \n",
      "--------------------------------------------------------------------------\n",
      "SAT_AVG   1,420 1,056.689  131.817  666.000 971.750  1,117.250  1,534.000 \n",
      "UGDS      7,090 2,332.782 5,442.697  0.000  122.000  1,922.500 166,816.000\n",
      "--------------------------------------------------------------------------\n"
     ]
    }
   ],
   "source": [
    "#Figure out how many observations missing of each variable\n",
    "stargazer(subset(scorecard,select=c(\"SAT_AVG\",\"UGDS\")),type='text')"
   ]
  },
  {
   "cell_type": "code",
   "execution_count": 21,
   "metadata": {
    "ExecuteTime": {
     "end_time": "2018-12-01T17:47:25.717808Z",
     "start_time": "2018-12-01T17:47:25.682Z"
    }
   },
   "outputs": [],
   "source": [
    "#Create a nonmissing data set\n",
    "nonmiss.scorecard <- subset(scorecard,!is.na(SAT_AVG))"
   ]
  },
  {
   "cell_type": "code",
   "execution_count": 22,
   "metadata": {
    "ExecuteTime": {
     "end_time": "2018-12-01T17:47:26.092380Z",
     "start_time": "2018-12-01T17:47:26.066Z"
    }
   },
   "outputs": [],
   "source": [
    "\n",
    "\n",
    "\n",
    "#Create a data set with NO missing observations\n",
    "NOTHINGmissing.scorecard <- subset(scorecard,complete.cases(scorecard))"
   ]
  },
  {
   "cell_type": "code",
   "execution_count": 23,
   "metadata": {
    "ExecuteTime": {
     "end_time": "2018-12-01T17:47:26.446796Z",
     "start_time": "2018-12-01T17:47:26.425Z"
    }
   },
   "outputs": [],
   "source": [
    "\n",
    "#No missing observations WITHIN the variables I'm using\n",
    "NOTHINGmissing.scorecard <- subset(scorecard,complete.cases(scorecard),select=c(\"SAT_AVG\",\"UGDS\"))"
   ]
  },
  {
   "cell_type": "code",
   "execution_count": null,
   "metadata": {},
   "outputs": [],
   "source": []
  },
  {
   "cell_type": "code",
   "execution_count": null,
   "metadata": {},
   "outputs": [],
   "source": []
  },
  {
   "cell_type": "code",
   "execution_count": null,
   "metadata": {},
   "outputs": [],
   "source": []
  },
  {
   "cell_type": "code",
   "execution_count": null,
   "metadata": {},
   "outputs": [],
   "source": []
  },
  {
   "cell_type": "code",
   "execution_count": null,
   "metadata": {},
   "outputs": [],
   "source": []
  }
 ],
 "metadata": {
  "kernelspec": {
   "display_name": "R",
   "language": "R",
   "name": "ir"
  },
  "language_info": {
   "codemirror_mode": "r",
   "file_extension": ".r",
   "mimetype": "text/x-r-source",
   "name": "R",
   "pygments_lexer": "r",
   "version": "3.5.1"
  }
 },
 "nbformat": 4,
 "nbformat_minor": 2
}
