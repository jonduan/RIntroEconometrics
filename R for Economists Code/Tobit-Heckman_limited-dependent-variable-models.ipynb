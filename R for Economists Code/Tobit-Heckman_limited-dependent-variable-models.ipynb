{
 "cells": [
  {
   "cell_type": "code",
   "execution_count": 24,
   "metadata": {
    "ExecuteTime": {
     "end_time": "2018-12-01T18:32:06.158265Z",
     "start_time": "2018-12-01T18:32:05.872Z"
    }
   },
   "outputs": [],
   "source": [
    "library(googlesheets)\n",
    "suppressMessages(library(dplyr))\n",
    "\n",
    "gs_gap() %>% \n",
    "  gs_copy(to = \"Gapminder\")\n",
    "\n",
    "gs_ls(\"Gapminder\")\n",
    "\n",
    "gap <- gs_title(\"Gapminder\")"
   ]
  },
  {
   "cell_type": "code",
   "execution_count": 21,
   "metadata": {
    "ExecuteTime": {
     "end_time": "2018-12-01T18:24:44.815595Z",
     "start_time": "2018-12-01T18:24:38.604Z"
    }
   },
   "outputs": [
    {
     "name": "stderr",
     "output_type": "stream",
     "text": [
      "Installing package into 'C:/Users/oldyu/R/win-library/3.5'\n",
      "(as 'lib' is unspecified)\n"
     ]
    },
    {
     "name": "stdout",
     "output_type": "stream",
     "text": [
      "package 'googlesheets' successfully unpacked and MD5 sums checked\n",
      "\n",
      "The downloaded binary packages are in\n",
      "\tC:\\Users\\oldyu\\AppData\\Local\\Temp\\Rtmpg3750f\\downloaded_packages\n"
     ]
    }
   ],
   "source": [
    "install.packages(\"googlesheets\")"
   ]
  },
  {
   "cell_type": "code",
   "execution_count": 5,
   "metadata": {
    "ExecuteTime": {
     "end_time": "2018-12-01T17:51:57.079389Z",
     "start_time": "2018-12-01T17:51:55.881Z"
    }
   },
   "outputs": [],
   "source": [
    "#Load packages\n",
    "library(foreign)\n",
    "library(censReg)\n",
    "library(stargazer)\n",
    "library(sampleSelection)\n",
    "\n"
   ]
  },
  {
   "cell_type": "code",
   "execution_count": 10,
   "metadata": {
    "ExecuteTime": {
     "end_time": "2018-12-01T17:53:18.998255Z",
     "start_time": "2018-12-01T17:53:18.655Z"
    }
   },
   "outputs": [],
   "source": [
    "#Read in Wooldridge data\n",
    "wage1 <- read.dta(\"http://fmwww.bc.edu/ec-p/data/wooldridge/wage1.dta\")"
   ]
  },
  {
   "cell_type": "code",
   "execution_count": 11,
   "metadata": {
    "ExecuteTime": {
     "end_time": "2018-12-01T17:53:19.980814Z",
     "start_time": "2018-12-01T17:53:19.959Z"
    }
   },
   "outputs": [],
   "source": [
    "#Make everything below 3 for wage equal to 3\n",
    "#We're faking some censored data here.\n",
    "wage1[wage1$wage<3,]$wage <- NA"
   ]
  },
  {
   "cell_type": "code",
   "execution_count": 12,
   "metadata": {
    "ExecuteTime": {
     "end_time": "2018-12-01T18:00:54.951801Z",
     "start_time": "2018-12-01T18:00:54.758Z"
    }
   },
   "outputs": [
    {
     "name": "stdout",
     "output_type": "stream",
     "text": [
      "\n",
      "===============================================\n",
      "                        Dependent variable:    \n",
      "                    ---------------------------\n",
      "                               wage            \n",
      "-----------------------------------------------\n",
      "female                       -1.812***         \n",
      "                              (0.303)          \n",
      "                                               \n",
      "educ                         0.582***          \n",
      "                              (0.056)          \n",
      "                                               \n",
      "tenure                       0.194***          \n",
      "                              (0.021)          \n",
      "                                               \n",
      "logSigma                     1.146***          \n",
      "                              (0.034)          \n",
      "                                               \n",
      "Constant                      -1.521*          \n",
      "                              (0.783)          \n",
      "                                               \n",
      "-----------------------------------------------\n",
      "Observations                    465            \n",
      "Log Likelihood              -1,133.964         \n",
      "Akaike Inf. Crit.            2,277.929         \n",
      "Bayesian Inf. Crit.          2,298.639         \n",
      "===============================================\n",
      "Note:               *p<0.1; **p<0.05; ***p<0.01\n"
     ]
    }
   ],
   "source": [
    "#Run our Tobit\n",
    "tobitmodel <- censReg(wage~female+educ+tenure,data=wage1,left=3)\n",
    "stargazer(tobitmodel,type='text')"
   ]
  },
  {
   "cell_type": "code",
   "execution_count": 14,
   "metadata": {
    "ExecuteTime": {
     "end_time": "2018-12-01T18:01:14.111088Z",
     "start_time": "2018-12-01T18:01:14.085Z"
    }
   },
   "outputs": [
    {
     "data": {
      "text/html": [
       "<dl class=dl-horizontal>\n",
       "\t<dt>female</dt>\n",
       "\t\t<dd>-1.52910878027507</dd>\n",
       "\t<dt>educ</dt>\n",
       "\t\t<dd>0.491317357711906</dd>\n",
       "\t<dt>tenure</dt>\n",
       "\t\t<dd>0.163419312391232</dd>\n",
       "</dl>\n"
      ],
      "text/latex": [
       "\\begin{description*}\n",
       "\\item[female] -1.52910878027507\n",
       "\\item[educ] 0.491317357711906\n",
       "\\item[tenure] 0.163419312391232\n",
       "\\end{description*}\n"
      ],
      "text/markdown": [
       "female\n",
       ":   -1.52910878027507educ\n",
       ":   0.491317357711906tenure\n",
       ":   0.163419312391232\n",
       "\n"
      ],
      "text/plain": [
       "    female       educ     tenure \n",
       "-1.5291088  0.4913174  0.1634193 "
      ]
     },
     "metadata": {},
     "output_type": "display_data"
    }
   ],
   "source": [
    "#Get marginal effects for Tobit\n",
    "margEff(tobitmodel)\n"
   ]
  },
  {
   "cell_type": "code",
   "execution_count": null,
   "metadata": {},
   "outputs": [],
   "source": []
  },
  {
   "cell_type": "code",
   "execution_count": 7,
   "metadata": {
    "ExecuteTime": {
     "end_time": "2018-12-01T17:52:11.244564Z",
     "start_time": "2018-12-01T17:52:11.212Z"
    }
   },
   "outputs": [],
   "source": [
    "#Make everything below 3 for wage equal to 3\n",
    "#We're faking some censored data here.\n",
    "wage1[wage1$wage<3,]$wage <- 3"
   ]
  },
  {
   "cell_type": "code",
   "execution_count": 8,
   "metadata": {
    "ExecuteTime": {
     "end_time": "2018-12-01T17:52:17.786259Z",
     "start_time": "2018-12-01T17:52:17.509Z"
    }
   },
   "outputs": [
    {
     "name": "stdout",
     "output_type": "stream",
     "text": [
      "\n",
      "===============================================\n",
      "                        Dependent variable:    \n",
      "                    ---------------------------\n",
      "                               wage            \n",
      "-----------------------------------------------\n",
      "female                       -2.084***         \n",
      "                              (0.305)          \n",
      "                                               \n",
      "educ                         0.682***          \n",
      "                              (0.056)          \n",
      "                                               \n",
      "tenure                       0.189***          \n",
      "                              (0.021)          \n",
      "                                               \n",
      "logSigma                     1.192***          \n",
      "                              (0.035)          \n",
      "                                               \n",
      "Constant                     -3.070***         \n",
      "                              (0.783)          \n",
      "                                               \n",
      "-----------------------------------------------\n",
      "Observations                    526            \n",
      "Log Likelihood              -1,195.239         \n",
      "Akaike Inf. Crit.            2,400.479         \n",
      "Bayesian Inf. Crit.          2,421.805         \n",
      "===============================================\n",
      "Note:               *p<0.1; **p<0.05; ***p<0.01\n"
     ]
    }
   ],
   "source": [
    "#Run our Tobit\n",
    "tobitmodel <- censReg(wage~female+educ+tenure,data=wage1,left=3)\n",
    "stargazer(tobitmodel,type='text')"
   ]
  },
  {
   "cell_type": "code",
   "execution_count": 13,
   "metadata": {
    "ExecuteTime": {
     "end_time": "2018-12-01T18:01:07.303119Z",
     "start_time": "2018-12-01T18:01:07.268Z"
    }
   },
   "outputs": [
    {
     "data": {
      "text/html": [
       "<dl class=dl-horizontal>\n",
       "\t<dt>female</dt>\n",
       "\t\t<dd>-1.52910878027507</dd>\n",
       "\t<dt>educ</dt>\n",
       "\t\t<dd>0.491317357711906</dd>\n",
       "\t<dt>tenure</dt>\n",
       "\t\t<dd>0.163419312391232</dd>\n",
       "</dl>\n"
      ],
      "text/latex": [
       "\\begin{description*}\n",
       "\\item[female] -1.52910878027507\n",
       "\\item[educ] 0.491317357711906\n",
       "\\item[tenure] 0.163419312391232\n",
       "\\end{description*}\n"
      ],
      "text/markdown": [
       "female\n",
       ":   -1.52910878027507educ\n",
       ":   0.491317357711906tenure\n",
       ":   0.163419312391232\n",
       "\n"
      ],
      "text/plain": [
       "    female       educ     tenure \n",
       "-1.5291088  0.4913174  0.1634193 "
      ]
     },
     "metadata": {},
     "output_type": "display_data"
    }
   ],
   "source": [
    "#Get marginal effects for Tobit\n",
    "margEff(tobitmodel)\n"
   ]
  },
  {
   "cell_type": "code",
   "execution_count": null,
   "metadata": {},
   "outputs": [],
   "source": []
  },
  {
   "cell_type": "code",
   "execution_count": 16,
   "metadata": {
    "ExecuteTime": {
     "end_time": "2018-12-01T18:01:44.897813Z",
     "start_time": "2018-12-01T18:01:44.703Z"
    }
   },
   "outputs": [
    {
     "name": "stdout",
     "output_type": "stream",
     "text": [
      "\n",
      "==========================================\n",
      "                   Dependent variable:    \n",
      "               ---------------------------\n",
      "                          wage            \n",
      "------------------------------------------\n",
      "female                   -1.782           \n",
      "                        (Inf.000)         \n",
      "                                          \n",
      "educ                      0.666           \n",
      "                        (Inf.000)         \n",
      "                                          \n",
      "tenure                    0.189           \n",
      "                        (Inf.000)         \n",
      "                                          \n",
      "Constant                 -2.674           \n",
      "                        (Inf.000)         \n",
      "                                          \n",
      "------------------------------------------\n",
      "Observations               526            \n",
      "Log Likelihood         -1,249.147         \n",
      "rho                  1.000 (Inf.000)      \n",
      "==========================================\n",
      "Note:          *p<0.1; **p<0.05; ***p<0.01\n"
     ]
    }
   ],
   "source": [
    "\n",
    "\n",
    "\n",
    "\n",
    "\n",
    "\n",
    "\n",
    "#Now we want everything 3 or below to be missing\n",
    "#We're faking sample selection here\n",
    "# wage1[wage1$wage==3,]$wage <- NA\n",
    "\n",
    "#Run a Heckman selection model\n",
    "heckmodel <- selection(!is.na(wage)~female+educ+tenure+south,wage~female+educ+tenure,data=wage1)\n",
    "stargazer(heckmodel,type='text')\n"
   ]
  },
  {
   "cell_type": "code",
   "execution_count": null,
   "metadata": {},
   "outputs": [],
   "source": []
  },
  {
   "cell_type": "markdown",
   "metadata": {},
   "source": [
    "https://stats.idre.ucla.edu/r/dae/tobit-models/\n",
    "\n",
    "The dataset contains 200 observations. The academic aptitude variable is apt, the reading and math test scores are read and math respectively. The variable prog is the type of program the student is in, it is a categorical (nominal) variable that takes on three values, academic (prog = 1), general (prog = 2), and vocational (prog = 3). The variable id is an identification variable.\n",
    "\n"
   ]
  },
  {
   "cell_type": "code",
   "execution_count": 51,
   "metadata": {
    "ExecuteTime": {
     "end_time": "2018-12-01T21:24:57.081405Z",
     "start_time": "2018-12-01T21:24:57.060Z"
    }
   },
   "outputs": [],
   "source": [
    "require(ggplot2)\n",
    "require(GGally)\n",
    "require(VGAM)"
   ]
  },
  {
   "cell_type": "code",
   "execution_count": null,
   "metadata": {},
   "outputs": [],
   "source": []
  },
  {
   "cell_type": "code",
   "execution_count": null,
   "metadata": {},
   "outputs": [],
   "source": []
  },
  {
   "cell_type": "code",
   "execution_count": 38,
   "metadata": {
    "ExecuteTime": {
     "end_time": "2018-12-01T21:02:47.044881Z",
     "start_time": "2018-12-01T21:02:46.243Z"
    }
   },
   "outputs": [],
   "source": [
    "dat <- read.csv(\"https://stats.idre.ucla.edu/stat/data/tobit.csv\")\n"
   ]
  },
  {
   "cell_type": "code",
   "execution_count": 39,
   "metadata": {
    "ExecuteTime": {
     "end_time": "2018-12-01T21:03:19.957778Z",
     "start_time": "2018-12-01T21:03:19.907Z"
    }
   },
   "outputs": [
    {
     "data": {
      "text/plain": [
       "       id              read            math               prog    \n",
       " Min.   :  1.00   Min.   :28.00   Min.   :33.00   academic  : 45  \n",
       " 1st Qu.: 50.75   1st Qu.:44.00   1st Qu.:45.00   general   :105  \n",
       " Median :100.50   Median :50.00   Median :52.00   vocational: 50  \n",
       " Mean   :100.50   Mean   :52.23   Mean   :52.65                   \n",
       " 3rd Qu.:150.25   3rd Qu.:60.00   3rd Qu.:59.00                   \n",
       " Max.   :200.00   Max.   :76.00   Max.   :75.00                   \n",
       "      apt       \n",
       " Min.   :352.0  \n",
       " 1st Qu.:575.5  \n",
       " Median :633.0  \n",
       " Mean   :640.0  \n",
       " 3rd Qu.:705.2  \n",
       " Max.   :800.0  "
      ]
     },
     "metadata": {},
     "output_type": "display_data"
    }
   ],
   "source": [
    "summary(dat)"
   ]
  },
  {
   "cell_type": "code",
   "execution_count": 41,
   "metadata": {
    "ExecuteTime": {
     "end_time": "2018-12-01T21:15:03.505080Z",
     "start_time": "2018-12-01T21:15:03.126Z"
    }
   },
   "outputs": [],
   "source": [
    "library(ggplot2)"
   ]
  },
  {
   "cell_type": "code",
   "execution_count": 42,
   "metadata": {
    "ExecuteTime": {
     "end_time": "2018-12-01T21:15:04.358800Z",
     "start_time": "2018-12-01T21:15:03.646Z"
    }
   },
   "outputs": [
    {
     "data": {},
     "metadata": {},
     "output_type": "display_data"
    },
    {
     "data": {
      "image/png": "[encoded data removed]",
      "text/plain": [
       "plot without title"
      ]
     },
     "metadata": {},
     "output_type": "display_data"
    }
   ],
   "source": [
    "# function that gives the density of normal distribution\n",
    "# for given mean and sd, scaled to be on a count metric\n",
    "# for the histogram: count = density * sample size * bin width\n",
    "f <- function(x, var, bw = 15) {\n",
    "  dnorm(x, mean = mean(var), sd(var)) * length(var)  * bw\n",
    "}\n",
    "\n",
    "# setup base plot\n",
    "p <- ggplot(dat, aes(x = apt, fill=prog))\n",
    "\n",
    "# histogram, coloured by proportion in different programs\n",
    "# with a normal distribution overlayed\n",
    "p + stat_bin(binwidth=15) +\n",
    "  stat_function(fun = f, size = 1,\n",
    "    args = list(var = dat$apt))"
   ]
  },
  {
   "cell_type": "code",
   "execution_count": 43,
   "metadata": {
    "ExecuteTime": {
     "end_time": "2018-12-01T21:18:12.653922Z",
     "start_time": "2018-12-01T21:18:12.274Z"
    }
   },
   "outputs": [
    {
     "data": {},
     "metadata": {},
     "output_type": "display_data"
    },
    {
     "data": {
      "image/png": "[encoded data removed]",
      "text/plain": [
       "plot without title"
      ]
     },
     "metadata": {},
     "output_type": "display_data"
    }
   ],
   "source": [
    "p + stat_bin(binwidth=15)"
   ]
  },
  {
   "cell_type": "code",
   "execution_count": 44,
   "metadata": {
    "ExecuteTime": {
     "end_time": "2018-12-01T21:21:23.487570Z",
     "start_time": "2018-12-01T21:21:22.959Z"
    }
   },
   "outputs": [
    {
     "data": {},
     "metadata": {},
     "output_type": "display_data"
    },
    {
     "data": {
      "image/png": "[encoded data removed]",
      "text/plain": [
       "plot without title"
      ]
     },
     "metadata": {},
     "output_type": "display_data"
    }
   ],
   "source": [
    "p + stat_bin(binwidth = 1) + stat_function(fun = f, size = 1, args = list(var = dat$apt, \n",
    "    bw = 1))"
   ]
  },
  {
   "cell_type": "code",
   "execution_count": 45,
   "metadata": {
    "ExecuteTime": {
     "end_time": "2018-12-01T21:21:43.724633Z",
     "start_time": "2018-12-01T21:21:43.698Z"
    }
   },
   "outputs": [
    {
     "data": {
      "text/html": [
       "<table>\n",
       "<thead><tr><th></th><th scope=col>read</th><th scope=col>math</th><th scope=col>apt</th></tr></thead>\n",
       "<tbody>\n",
       "\t<tr><th scope=row>read</th><td>1.0000000</td><td>0.6622801</td><td>0.6451215</td></tr>\n",
       "\t<tr><th scope=row>math</th><td>0.6622801</td><td>1.0000000</td><td>0.7332702</td></tr>\n",
       "\t<tr><th scope=row>apt</th><td>0.6451215</td><td>0.7332702</td><td>1.0000000</td></tr>\n",
       "</tbody>\n",
       "</table>\n"
      ],
      "text/latex": [
       "\\begin{tabular}{r|lll}\n",
       "  & read & math & apt\\\\\n",
       "\\hline\n",
       "\tread & 1.0000000 & 0.6622801 & 0.6451215\\\\\n",
       "\tmath & 0.6622801 & 1.0000000 & 0.7332702\\\\\n",
       "\tapt & 0.6451215 & 0.7332702 & 1.0000000\\\\\n",
       "\\end{tabular}\n"
      ],
      "text/markdown": [
       "\n",
       "| <!--/--> | read | math | apt | \n",
       "|---|---|---|\n",
       "| read | 1.0000000 | 0.6622801 | 0.6451215 | \n",
       "| math | 0.6622801 | 1.0000000 | 0.7332702 | \n",
       "| apt | 0.6451215 | 0.7332702 | 1.0000000 | \n",
       "\n",
       "\n"
      ],
      "text/plain": [
       "     read      math      apt      \n",
       "read 1.0000000 0.6622801 0.6451215\n",
       "math 0.6622801 1.0000000 0.7332702\n",
       "apt  0.6451215 0.7332702 1.0000000"
      ]
     },
     "metadata": {},
     "output_type": "display_data"
    }
   ],
   "source": [
    "cor(dat[, c(\"read\", \"math\", \"apt\")])"
   ]
  },
  {
   "cell_type": "code",
   "execution_count": 47,
   "metadata": {
    "ExecuteTime": {
     "end_time": "2018-12-01T21:22:41.181042Z",
     "start_time": "2018-12-01T21:22:33.247Z"
    }
   },
   "outputs": [
    {
     "name": "stderr",
     "output_type": "stream",
     "text": [
      "Installing package into 'C:/Users/oldyu/R/win-library/3.5'\n",
      "(as 'lib' is unspecified)\n"
     ]
    },
    {
     "name": "stdout",
     "output_type": "stream",
     "text": [
      "package 'GGally' successfully unpacked and MD5 sums checked\n",
      "\n",
      "The downloaded binary packages are in\n",
      "\tC:\\Users\\oldyu\\AppData\\Local\\Temp\\Rtmpg3750f\\downloaded_packages\n"
     ]
    }
   ],
   "source": [
    "# CRAN\n",
    "install.packages(\"GGally\")"
   ]
  },
  {
   "cell_type": "code",
   "execution_count": 48,
   "metadata": {
    "ExecuteTime": {
     "end_time": "2018-12-01T21:22:48.752950Z",
     "start_time": "2018-12-01T21:22:48.629Z"
    }
   },
   "outputs": [
    {
     "name": "stderr",
     "output_type": "stream",
     "text": [
      "\n",
      "Attaching package: 'GGally'\n",
      "\n",
      "The following object is masked from 'package:dplyr':\n",
      "\n",
      "    nasa\n",
      "\n"
     ]
    }
   ],
   "source": [
    "library(\"GGally\")"
   ]
  },
  {
   "cell_type": "code",
   "execution_count": 49,
   "metadata": {
    "ExecuteTime": {
     "end_time": "2018-12-01T21:22:50.725677Z",
     "start_time": "2018-12-01T21:22:48.805Z"
    }
   },
   "outputs": [
    {
     "data": {},
     "metadata": {},
     "output_type": "display_data"
    },
    {
     "data": {
      "image/png": "[encoded data removed]",
      "text/plain": [
       "plot without title"
      ]
     },
     "metadata": {},
     "output_type": "display_data"
    }
   ],
   "source": [
    "# plot matrix\n",
    "ggpairs(dat[, c(\"read\", \"math\", \"apt\")])"
   ]
  },
  {
   "cell_type": "code",
   "execution_count": 73,
   "metadata": {
    "ExecuteTime": {
     "end_time": "2018-12-01T22:02:04.084882Z",
     "start_time": "2018-12-01T22:02:04.016Z"
    }
   },
   "outputs": [
    {
     "data": {
      "text/plain": [
       "\n",
       "Call:\n",
       "tobit(formula = apt ~ read + math + prog, right = 800, data = dat)\n",
       "\n",
       "Observations:\n",
       "         Total  Left-censored     Uncensored Right-censored \n",
       "           200              0            183             17 \n",
       "\n",
       "Coefficients:\n",
       "                Estimate Std. Error z value Pr(>|z|)    \n",
       "(Intercept)    209.56597   32.77196   6.395 1.61e-10 ***\n",
       "read             2.69794    0.61881   4.360 1.30e-05 ***\n",
       "math             5.91448    0.70982   8.332  < 2e-16 ***\n",
       "proggeneral    -12.71476   12.40646  -1.025 0.305434    \n",
       "progvocational -46.14390   13.72419  -3.362 0.000773 ***\n",
       "Log(scale)       4.18474    0.05301  78.946  < 2e-16 ***\n",
       "---\n",
       "Signif. codes:  0 '***' 0.001 '**' 0.01 '*' 0.05 '.' 0.1 ' ' 1\n",
       "\n",
       "Scale: 65.68 \n",
       "\n",
       "Gaussian distribution\n",
       "Number of Newton-Raphson Iterations: 6 \n",
       "Log-likelihood: -1041 on 6 Df\n",
       "Wald-statistic: 297.3 on 4 Df, p-value: < 2.22e-16 \n"
      ]
     },
     "metadata": {},
     "output_type": "display_data"
    }
   ],
   "source": [
    "# Tobit model coefficients (sensoring from below at 0)\n",
    "tobit1 <- tobit(apt ~ read + math + prog, data = dat,right = 800)\n",
    "summary(tobit1)"
   ]
  },
  {
   "cell_type": "code",
   "execution_count": 58,
   "metadata": {
    "ExecuteTime": {
     "end_time": "2018-12-01T21:43:50.689210Z",
     "start_time": "2018-12-01T21:43:50.420Z"
    }
   },
   "outputs": [
    {
     "name": "stdout",
     "output_type": "stream",
     "text": [
      "\n",
      "===============================================\n",
      "                        Dependent variable:    \n",
      "                    ---------------------------\n",
      "                                apt            \n",
      "-----------------------------------------------\n",
      "read                         2.698***          \n",
      "                              (0.619)          \n",
      "                                               \n",
      "math                         5.914***          \n",
      "                              (0.710)          \n",
      "                                               \n",
      "proggeneral                   -12.715          \n",
      "                             (12.406)          \n",
      "                                               \n",
      "progvocational              -46.144***         \n",
      "                             (13.724)          \n",
      "                                               \n",
      "logSigma                     4.185***          \n",
      "                              (0.053)          \n",
      "                                               \n",
      "Constant                    209.566***         \n",
      "                             (32.772)          \n",
      "                                               \n",
      "-----------------------------------------------\n",
      "Observations                    200            \n",
      "Log Likelihood              -1,041.063         \n",
      "Akaike Inf. Crit.            2,094.126         \n",
      "Bayesian Inf. Crit.          2,113.916         \n",
      "===============================================\n",
      "Note:               *p<0.1; **p<0.05; ***p<0.01\n"
     ]
    }
   ],
   "source": [
    "#Run our Tobit\n",
    "tobitmodel <- censReg(apt ~ read + math + prog, data = dat,right = 800)\n",
    "stargazer(tobitmodel,type='text')"
   ]
  },
  {
   "cell_type": "code",
   "execution_count": 59,
   "metadata": {
    "ExecuteTime": {
     "end_time": "2018-12-01T21:44:08.747613Z",
     "start_time": "2018-12-01T21:44:08.719Z"
    }
   },
   "outputs": [
    {
     "data": {
      "text/plain": [
       "\n",
       "Call:\n",
       "censReg(formula = apt ~ read + math + prog, right = 800, data = dat)\n",
       "\n",
       "Observations:\n",
       "         Total  Left-censored     Uncensored Right-censored \n",
       "           200              0            183             17 \n",
       "\n",
       "Coefficients:\n",
       "                Estimate Std. error t value  Pr(> t)    \n",
       "(Intercept)    209.56597   32.77196   6.395 1.61e-10 ***\n",
       "read             2.69794    0.61881   4.360 1.30e-05 ***\n",
       "math             5.91448    0.70982   8.332  < 2e-16 ***\n",
       "proggeneral    -12.71476   12.40646  -1.025 0.305434    \n",
       "progvocational -46.14390   13.72419  -3.362 0.000773 ***\n",
       "logSigma         4.18474    0.05301  78.946  < 2e-16 ***\n",
       "---\n",
       "Signif. codes:  0 '***' 0.001 '**' 0.01 '*' 0.05 '.' 0.1 ' ' 1\n",
       "\n",
       "Newton-Raphson maximisation, 8 iterations\n",
       "Return code 1: gradient close to zero\n",
       "Log-likelihood: -1041.063 on 6 Df\n"
      ]
     },
     "metadata": {},
     "output_type": "display_data"
    }
   ],
   "source": [
    "summary(tobitmodel)"
   ]
  },
  {
   "cell_type": "markdown",
   "metadata": {},
   "source": [
    "The table labeled coefficients gives the coefficients, their standard errors, and the z-statistic. No p-values are included in the summary table, but we show how to calculate them below. Tobit regression coefficients are interpreted in the similar manner to OLS regression coefficients; however, the linear effect is on the uncensored latent variable, not the observed outcome. See McDonald and Moffitt (1980) for more details.\n",
    "\n",
    "For a one unit increase in read, there is a 2.6981 point increase in the predicted value of apt.\n",
    "\n",
    "A one unit increase in math is associated with a 5.9146 unit increase in the predicted value of apt.\n",
    "\n",
    "The terms for prog have a slightly different interpretation. The predicted value of apt is -46.1419 points lower for students in a vocational program than for students in an academic program.\n",
    "\n",
    "The coefficient labeled “(Intercept):1” is the intercept or constant for the model.\n",
    "\n",
    "The coefficient labeled “(Intercept):2” is an ancillary statistic. If we exponentiate this value, we get a statistic that is analogous to the square root of the residual variance in OLS regression. The value of 65.6773 can compared to the standard deviation of academic aptitude which was 99.21, a substantial reduction.\n",
    "\n",
    "The final log likelihood, -1041.0629, is shown toward the bottom of the output, it can be used in comparisons of nested models."
   ]
  },
  {
   "cell_type": "code",
   "execution_count": 67,
   "metadata": {
    "ExecuteTime": {
     "end_time": "2018-12-01T21:51:36.351196Z",
     "start_time": "2018-12-01T21:51:36.310Z"
    }
   },
   "outputs": [
    {
     "data": {
      "text/html": [
       "<table>\n",
       "<thead><tr><th></th><th scope=col>Estimate</th><th scope=col>Std. error</th><th scope=col>t value</th><th scope=col>Pr(&gt; t)</th></tr></thead>\n",
       "<tbody>\n",
       "\t<tr><th scope=row>(Intercept)</th><td>209.565971  </td><td>32.7719612  </td><td> 6.394673   </td><td>1.608914e-10</td></tr>\n",
       "\t<tr><th scope=row>read</th><td>  2.697939  </td><td> 0.6188061  </td><td> 4.359911   </td><td>1.301154e-05</td></tr>\n",
       "\t<tr><th scope=row>math</th><td>  5.914485  </td><td> 0.7098155  </td><td> 8.332426   </td><td>7.920242e-17</td></tr>\n",
       "\t<tr><th scope=row>proggeneral</th><td>-12.714763  </td><td>12.4064575  </td><td>-1.024850   </td><td>3.054338e-01</td></tr>\n",
       "\t<tr><th scope=row>progvocational</th><td>-46.143904  </td><td>13.7241927  </td><td>-3.362231   </td><td>7.731546e-04</td></tr>\n",
       "\t<tr><th scope=row>logSigma</th><td>  4.184745  </td><td> 0.0530079  </td><td>78.945679   </td><td>0.000000e+00</td></tr>\n",
       "</tbody>\n",
       "</table>\n"
      ],
      "text/latex": [
       "\\begin{tabular}{r|llll}\n",
       "  & Estimate & Std. error & t value & Pr(> t)\\\\\n",
       "\\hline\n",
       "\t(Intercept) & 209.565971   & 32.7719612   &  6.394673    & 1.608914e-10\\\\\n",
       "\tread &   2.697939   &  0.6188061   &  4.359911    & 1.301154e-05\\\\\n",
       "\tmath &   5.914485   &  0.7098155   &  8.332426    & 7.920242e-17\\\\\n",
       "\tproggeneral & -12.714763   & 12.4064575   & -1.024850    & 3.054338e-01\\\\\n",
       "\tprogvocational & -46.143904   & 13.7241927   & -3.362231    & 7.731546e-04\\\\\n",
       "\tlogSigma &   4.184745   &  0.0530079   & 78.945679    & 0.000000e+00\\\\\n",
       "\\end{tabular}\n"
      ],
      "text/markdown": [
       "\n",
       "| <!--/--> | Estimate | Std. error | t value | Pr(> t) | \n",
       "|---|---|---|---|---|---|\n",
       "| (Intercept) | 209.565971   | 32.7719612   |  6.394673    | 1.608914e-10 | \n",
       "| read |   2.697939   |  0.6188061   |  4.359911    | 1.301154e-05 | \n",
       "| math |   5.914485   |  0.7098155   |  8.332426    | 7.920242e-17 | \n",
       "| proggeneral | -12.714763   | 12.4064575   | -1.024850    | 3.054338e-01 | \n",
       "| progvocational | -46.143904   | 13.7241927   | -3.362231    | 7.731546e-04 | \n",
       "| logSigma |   4.184745   |  0.0530079   | 78.945679    | 0.000000e+00 | \n",
       "\n",
       "\n"
      ],
      "text/plain": [
       "               Estimate   Std. error t value   Pr(> t)     \n",
       "(Intercept)    209.565971 32.7719612  6.394673 1.608914e-10\n",
       "read             2.697939  0.6188061  4.359911 1.301154e-05\n",
       "math             5.914485  0.7098155  8.332426 7.920242e-17\n",
       "proggeneral    -12.714763 12.4064575 -1.024850 3.054338e-01\n",
       "progvocational -46.143904 13.7241927 -3.362231 7.731546e-04\n",
       "logSigma         4.184745  0.0530079 78.945679 0.000000e+00"
      ]
     },
     "metadata": {},
     "output_type": "display_data"
    }
   ],
   "source": [
    "(ctable <- coef(summary(tobitmodel)))\n"
   ]
  },
  {
   "cell_type": "code",
   "execution_count": 70,
   "metadata": {
    "ExecuteTime": {
     "end_time": "2018-12-01T21:53:08.231436Z",
     "start_time": "2018-12-01T21:53:08.127Z"
    }
   },
   "outputs": [
    {
     "data": {
      "text/plain": [
       "'log Lik.' 0.003155176 (df=6)"
      ]
     },
     "metadata": {},
     "output_type": "display_data"
    }
   ],
   "source": [
    "tobitmodel2 <- censReg(apt ~ read + math, data = dat,right = 800)\n",
    "\n",
    "(p <- pchisq(2 * (logLik(tobitmodel) - logLik(tobitmodel2)), df = 2, lower.tail = FALSE))"
   ]
  },
  {
   "cell_type": "markdown",
   "metadata": {},
   "source": [
    "The LRT with two degrees of freedom is associated with a p-value of 0.0032, indicating that the overall effect of prog is statistically significant."
   ]
  },
  {
   "cell_type": "code",
   "execution_count": null,
   "metadata": {},
   "outputs": [],
   "source": []
  },
  {
   "cell_type": "code",
   "execution_count": null,
   "metadata": {},
   "outputs": [],
   "source": []
  },
  {
   "cell_type": "code",
   "execution_count": null,
   "metadata": {},
   "outputs": [],
   "source": []
  },
  {
   "cell_type": "code",
   "execution_count": null,
   "metadata": {},
   "outputs": [],
   "source": []
  },
  {
   "cell_type": "code",
   "execution_count": null,
   "metadata": {},
   "outputs": [],
   "source": []
  },
  {
   "cell_type": "code",
   "execution_count": null,
   "metadata": {},
   "outputs": [],
   "source": []
  },
  {
   "cell_type": "markdown",
   "metadata": {},
   "source": [
    "https://www.youtube.com/watch?v=IyBmwMtUHAc\n",
    "\n",
    "https://sites.google.com/site/econometricsacademy/econometrics-models/limited-dependent-variable-models"
   ]
  },
  {
   "cell_type": "code",
   "execution_count": 28,
   "metadata": {
    "ExecuteTime": {
     "end_time": "2018-12-01T20:02:47.441163Z",
     "start_time": "2018-12-01T20:02:47.309Z"
    }
   },
   "outputs": [],
   "source": [
    "# Limited Dependent Variable Models in R (Tobit, Truncated Regression)\n",
    "# Copyright 2013 by Ani Katchova\n",
    "\n",
    "# install.packages(\"VGAM\")\n",
    "library(VGAM)\n",
    "# install.packages(\"AER\")\n",
    "library(AER)\n",
    "# install.packages(\"truncreg\")\n",
    "library(truncreg)\n",
    "# install.packages(\"censReg\")\n",
    "library(censReg)"
   ]
  },
  {
   "cell_type": "code",
   "execution_count": null,
   "metadata": {},
   "outputs": [],
   "source": []
  },
  {
   "cell_type": "code",
   "execution_count": null,
   "metadata": {},
   "outputs": [],
   "source": []
  },
  {
   "cell_type": "code",
   "execution_count": 25,
   "metadata": {
    "ExecuteTime": {
     "end_time": "2018-12-01T18:32:08.265909Z",
     "start_time": "2018-12-01T18:32:08.228Z"
    }
   },
   "outputs": [
    {
     "name": "stderr",
     "output_type": "stream",
     "text": [
      "The following objects are masked from mydata (pos = 5):\n",
      "\n",
      "    age, age2, agefem, ambexp, blhisp, dambexp, dhospexp, educ,\n",
      "    fairpoor, female, ffs, good, hospexp, income, ins, instype,\n",
      "    instype_s1, lambexp, lnambx, totchr, vgood, year01\n",
      "\n"
     ]
    }
   ],
   "source": [
    "mydata<- read.csv(\"limdep_ambexp.csv\")\n",
    "attach(mydata)"
   ]
  },
  {
   "cell_type": "code",
   "execution_count": 78,
   "metadata": {
    "ExecuteTime": {
     "end_time": "2018-12-01T23:35:17.334731Z",
     "start_time": "2018-12-01T23:35:17.300Z"
    }
   },
   "outputs": [
    {
     "data": {
      "text/html": [
       "<table>\n",
       "<thead><tr><th scope=col>educ</th><th scope=col>age</th><th scope=col>income</th><th scope=col>female</th><th scope=col>vgood</th><th scope=col>good</th><th scope=col>hospexp</th><th scope=col>totchr</th><th scope=col>ffs</th><th scope=col>dhospexp</th><th scope=col>...</th><th scope=col>fairpoor</th><th scope=col>year01</th><th scope=col>instype</th><th scope=col>ambexp</th><th scope=col>lambexp</th><th scope=col>blhisp</th><th scope=col>instype_s1</th><th scope=col>dambexp</th><th scope=col>lnambx</th><th scope=col>ins</th></tr></thead>\n",
       "<tbody>\n",
       "\t<tr><td>11      </td><td>3.3     </td><td>17.472  </td><td>0       </td><td>0       </td><td>1       </td><td>0       </td><td>2       </td><td>1       </td><td>0       </td><td>...     </td><td>0       </td><td>1       </td><td>0       </td><td> 760    </td><td>6.633318</td><td>0       </td><td>0       </td><td>1       </td><td>6.633318</td><td>0       </td></tr>\n",
       "\t<tr><td>14      </td><td>2.1     </td><td>16.920  </td><td>0       </td><td>1       </td><td>0       </td><td>0       </td><td>0       </td><td>0       </td><td>0       </td><td>...     </td><td>0       </td><td>1       </td><td>1       </td><td> 497    </td><td>6.208590</td><td>1       </td><td>0       </td><td>1       </td><td>6.208590</td><td>0       </td></tr>\n",
       "\t<tr><td>12      </td><td>4.0     </td><td>19.620  </td><td>1       </td><td>1       </td><td>0       </td><td>0       </td><td>1       </td><td>0       </td><td>0       </td><td>...     </td><td>0       </td><td>1       </td><td>1       </td><td>1002    </td><td>6.909753</td><td>1       </td><td>0       </td><td>1       </td><td>6.909753</td><td>0       </td></tr>\n",
       "\t<tr><td>14      </td><td>5.2     </td><td> 8.563  </td><td>1       </td><td>0       </td><td>1       </td><td>0       </td><td>0       </td><td>0       </td><td>0       </td><td>...     </td><td>0       </td><td>1       </td><td>1       </td><td> 745    </td><td>6.613384</td><td>1       </td><td>1       </td><td>1       </td><td>6.613384</td><td>1       </td></tr>\n",
       "\t<tr><td>16      </td><td>5.0     </td><td>25.360  </td><td>1       </td><td>1       </td><td>0       </td><td>0       </td><td>0       </td><td>0       </td><td>0       </td><td>...     </td><td>0       </td><td>1       </td><td>1       </td><td>2728    </td><td>7.911324</td><td>0       </td><td>0       </td><td>1       </td><td>7.911324</td><td>0       </td></tr>\n",
       "\t<tr><td>12      </td><td>3.7     </td><td>30.000  </td><td>0       </td><td>1       </td><td>0       </td><td>0       </td><td>0       </td><td>1       </td><td>0       </td><td>...     </td><td>0       </td><td>1       </td><td>0       </td><td> 636    </td><td>6.455199</td><td>0       </td><td>0       </td><td>1       </td><td>6.455199</td><td>0       </td></tr>\n",
       "</tbody>\n",
       "</table>\n"
      ],
      "text/latex": [
       "\\begin{tabular}{r|llllllllllllllllllllll}\n",
       " educ & age & income & female & vgood & good & hospexp & totchr & ffs & dhospexp & ... & fairpoor & year01 & instype & ambexp & lambexp & blhisp & instype\\_s1 & dambexp & lnambx & ins\\\\\n",
       "\\hline\n",
       "\t 11       & 3.3      & 17.472   & 0        & 0        & 1        & 0        & 2        & 1        & 0        & ...      & 0        & 1        & 0        &  760     & 6.633318 & 0        & 0        & 1        & 6.633318 & 0       \\\\\n",
       "\t 14       & 2.1      & 16.920   & 0        & 1        & 0        & 0        & 0        & 0        & 0        & ...      & 0        & 1        & 1        &  497     & 6.208590 & 1        & 0        & 1        & 6.208590 & 0       \\\\\n",
       "\t 12       & 4.0      & 19.620   & 1        & 1        & 0        & 0        & 1        & 0        & 0        & ...      & 0        & 1        & 1        & 1002     & 6.909753 & 1        & 0        & 1        & 6.909753 & 0       \\\\\n",
       "\t 14       & 5.2      &  8.563   & 1        & 0        & 1        & 0        & 0        & 0        & 0        & ...      & 0        & 1        & 1        &  745     & 6.613384 & 1        & 1        & 1        & 6.613384 & 1       \\\\\n",
       "\t 16       & 5.0      & 25.360   & 1        & 1        & 0        & 0        & 0        & 0        & 0        & ...      & 0        & 1        & 1        & 2728     & 7.911324 & 0        & 0        & 1        & 7.911324 & 0       \\\\\n",
       "\t 12       & 3.7      & 30.000   & 0        & 1        & 0        & 0        & 0        & 1        & 0        & ...      & 0        & 1        & 0        &  636     & 6.455199 & 0        & 0        & 1        & 6.455199 & 0       \\\\\n",
       "\\end{tabular}\n"
      ],
      "text/markdown": [
       "\n",
       "educ | age | income | female | vgood | good | hospexp | totchr | ffs | dhospexp | ... | fairpoor | year01 | instype | ambexp | lambexp | blhisp | instype_s1 | dambexp | lnambx | ins | \n",
       "|---|---|---|---|---|---|\n",
       "| 11       | 3.3      | 17.472   | 0        | 0        | 1        | 0        | 2        | 1        | 0        | ...      | 0        | 1        | 0        |  760     | 6.633318 | 0        | 0        | 1        | 6.633318 | 0        | \n",
       "| 14       | 2.1      | 16.920   | 0        | 1        | 0        | 0        | 0        | 0        | 0        | ...      | 0        | 1        | 1        |  497     | 6.208590 | 1        | 0        | 1        | 6.208590 | 0        | \n",
       "| 12       | 4.0      | 19.620   | 1        | 1        | 0        | 0        | 1        | 0        | 0        | ...      | 0        | 1        | 1        | 1002     | 6.909753 | 1        | 0        | 1        | 6.909753 | 0        | \n",
       "| 14       | 5.2      |  8.563   | 1        | 0        | 1        | 0        | 0        | 0        | 0        | ...      | 0        | 1        | 1        |  745     | 6.613384 | 1        | 1        | 1        | 6.613384 | 1        | \n",
       "| 16       | 5.0      | 25.360   | 1        | 1        | 0        | 0        | 0        | 0        | 0        | ...      | 0        | 1        | 1        | 2728     | 7.911324 | 0        | 0        | 1        | 7.911324 | 0        | \n",
       "| 12       | 3.7      | 30.000   | 0        | 1        | 0        | 0        | 0        | 1        | 0        | ...      | 0        | 1        | 0        |  636     | 6.455199 | 0        | 0        | 1        | 6.455199 | 0        | \n",
       "\n",
       "\n"
      ],
      "text/plain": [
       "  educ age income female vgood good hospexp totchr ffs dhospexp ... fairpoor\n",
       "1 11   3.3 17.472 0      0     1    0       2      1   0        ... 0       \n",
       "2 14   2.1 16.920 0      1     0    0       0      0   0        ... 0       \n",
       "3 12   4.0 19.620 1      1     0    0       1      0   0        ... 0       \n",
       "4 14   5.2  8.563 1      0     1    0       0      0   0        ... 0       \n",
       "5 16   5.0 25.360 1      1     0    0       0      0   0        ... 0       \n",
       "6 12   3.7 30.000 0      1     0    0       0      1   0        ... 0       \n",
       "  year01 instype ambexp lambexp  blhisp instype_s1 dambexp lnambx   ins\n",
       "1 1      0        760   6.633318 0      0          1       6.633318 0  \n",
       "2 1      1        497   6.208590 1      0          1       6.208590 0  \n",
       "3 1      1       1002   6.909753 1      0          1       6.909753 0  \n",
       "4 1      1        745   6.613384 1      1          1       6.613384 1  \n",
       "5 1      1       2728   7.911324 0      0          1       7.911324 0  \n",
       "6 1      0        636   6.455199 0      0          1       6.455199 0  "
      ]
     },
     "metadata": {},
     "output_type": "display_data"
    }
   ],
   "source": [
    "head(mydata)"
   ]
  },
  {
   "cell_type": "code",
   "execution_count": 26,
   "metadata": {
    "ExecuteTime": {
     "end_time": "2018-12-01T18:32:08.488335Z",
     "start_time": "2018-12-01T18:32:08.468Z"
    }
   },
   "outputs": [],
   "source": [
    "# Define variables\n",
    "Y <- cbind(ambexp)\n",
    "X <- cbind(age, female, totchr)"
   ]
  },
  {
   "cell_type": "code",
   "execution_count": 27,
   "metadata": {
    "ExecuteTime": {
     "end_time": "2018-12-01T18:32:22.569572Z",
     "start_time": "2018-12-01T18:32:22.542Z"
    }
   },
   "outputs": [
    {
     "data": {
      "text/plain": [
       "     ambexp       \n",
       " Min.   :    0.0  \n",
       " 1st Qu.:  113.0  \n",
       " Median :  534.5  \n",
       " Mean   : 1386.5  \n",
       " 3rd Qu.: 1618.0  \n",
       " Max.   :49960.0  "
      ]
     },
     "metadata": {},
     "output_type": "display_data"
    },
    {
     "data": {
      "text/plain": [
       "      age            female           totchr      \n",
       " Min.   :2.100   Min.   :0.0000   Min.   :0.0000  \n",
       " 1st Qu.:3.100   1st Qu.:0.0000   1st Qu.:0.0000  \n",
       " Median :4.000   Median :1.0000   Median :0.0000  \n",
       " Mean   :4.057   Mean   :0.5084   Mean   :0.4832  \n",
       " 3rd Qu.:4.900   3rd Qu.:1.0000   3rd Qu.:1.0000  \n",
       " Max.   :6.400   Max.   :1.0000   Max.   :5.0000  "
      ]
     },
     "metadata": {},
     "output_type": "display_data"
    }
   ],
   "source": [
    "# Descriptive statistics\n",
    "summary(Y)\n",
    "summary(X)"
   ]
  },
  {
   "cell_type": "code",
   "execution_count": 29,
   "metadata": {
    "ExecuteTime": {
     "end_time": "2018-12-01T20:03:14.978196Z",
     "start_time": "2018-12-01T20:03:14.783Z"
    }
   },
   "outputs": [
    {
     "data": {
      "text/plain": [
       "\n",
       "Call:\n",
       "tobit(formula = Y ~ X, left = 0, right = Inf, data = mydata)\n",
       "\n",
       "Observations:\n",
       "         Total  Left-censored     Uncensored Right-censored \n",
       "          3328            526           2802              0 \n",
       "\n",
       "Coefficients:\n",
       "              Estimate Std. Error z value Pr(>|z|)    \n",
       "(Intercept) -1.237e+03  1.818e+02  -6.805 1.01e-11 ***\n",
       "Xage         3.328e+02  4.229e+01   7.871 3.52e-15 ***\n",
       "Xfemale      6.911e+02  9.306e+01   7.427 1.11e-13 ***\n",
       "Xtotchr      1.261e+03  6.067e+01  20.778  < 2e-16 ***\n",
       "Log(scale)   7.860e+00  1.352e-02 581.404  < 2e-16 ***\n",
       "---\n",
       "Signif. codes:  0 '***' 0.001 '**' 0.01 '*' 0.05 '.' 0.1 ' ' 1\n",
       "\n",
       "Scale: 2590 \n",
       "\n",
       "Gaussian distribution\n",
       "Number of Newton-Raphson Iterations: 3 \n",
       "Log-likelihood: -2.639e+04 on 5 Df\n",
       "Wald-statistic: 685.6 on 3 Df, p-value: < 2.22e-16 \n"
      ]
     },
     "metadata": {},
     "output_type": "display_data"
    }
   ],
   "source": [
    "# Tobit model coefficients (sensoring from below at 0)\n",
    "tobit1 <- tobit(Y ~ X, left=0, right=Inf, data=mydata)\n",
    "summary(tobit1)"
   ]
  },
  {
   "cell_type": "code",
   "execution_count": 30,
   "metadata": {
    "ExecuteTime": {
     "end_time": "2018-12-01T20:03:15.553660Z",
     "start_time": "2018-12-01T20:03:15.168Z"
    }
   },
   "outputs": [
    {
     "name": "stdout",
     "output_type": "stream",
     "text": [
      "\n",
      "==========================================\n",
      "                   Dependent variable:    \n",
      "               ---------------------------\n",
      "                            Y             \n",
      "------------------------------------------\n",
      "Xage                   332.843***         \n",
      "                        (42.288)          \n",
      "                                          \n",
      "Xfemale                691.126***         \n",
      "                        (93.055)          \n",
      "                                          \n",
      "Xtotchr               1,260.687***        \n",
      "                        (60.674)          \n",
      "                                          \n",
      "Constant              -1,237.282***       \n",
      "                        (181.811)         \n",
      "                                          \n",
      "------------------------------------------\n",
      "Observations              3,328           \n",
      "Log Likelihood         -26,386.120        \n",
      "Wald Test          685.604*** (df = 3)    \n",
      "==========================================\n",
      "Note:          *p<0.1; **p<0.05; ***p<0.01\n"
     ]
    }
   ],
   "source": [
    "stargazer(tobit1,type='text')"
   ]
  },
  {
   "cell_type": "code",
   "execution_count": 79,
   "metadata": {
    "ExecuteTime": {
     "end_time": "2018-12-01T23:36:26.889910Z",
     "start_time": "2018-12-01T23:36:26.863Z"
    }
   },
   "outputs": [
    {
     "ename": "ERROR",
     "evalue": "Error in margEff.default(tobit1): there is currently no default method available\n",
     "output_type": "error",
     "traceback": [
      "Error in margEff.default(tobit1): there is currently no default method available\nTraceback:\n",
      "1. summary(margEff(tobit1))",
      "2. margEff(tobit1)",
      "3. margEff.default(tobit1)",
      "4. stop(\"there is currently no default method available\")"
     ]
    }
   ],
   "source": [
    "# Tobit model marginal effects for the censored sample\n",
    "summary(margEff(tobit1))"
   ]
  },
  {
   "cell_type": "code",
   "execution_count": null,
   "metadata": {},
   "outputs": [],
   "source": []
  },
  {
   "cell_type": "code",
   "execution_count": 31,
   "metadata": {
    "ExecuteTime": {
     "end_time": "2018-12-01T20:05:52.672751Z",
     "start_time": "2018-12-01T20:05:52.308Z"
    }
   },
   "outputs": [
    {
     "data": {
      "text/plain": [
       "\n",
       "Call:\n",
       "censReg(formula = Y ~ X, left = 0, right = Inf, data = mydata)\n",
       "\n",
       "Observations:\n",
       "         Total  Left-censored     Uncensored Right-censored \n",
       "          3328            526           2802              0 \n",
       "\n",
       "Coefficients:\n",
       "              Estimate Std. error t value  Pr(> t)    \n",
       "(Intercept) -1.237e+03  1.818e+02  -6.805 1.01e-11 ***\n",
       "Xage         3.328e+02  4.229e+01   7.871 3.52e-15 ***\n",
       "Xfemale      6.911e+02  9.306e+01   7.427 1.11e-13 ***\n",
       "Xtotchr      1.261e+03  6.067e+01  20.778  < 2e-16 ***\n",
       "logSigma     7.860e+00  1.352e-02 581.404  < 2e-16 ***\n",
       "---\n",
       "Signif. codes:  0 '***' 0.001 '**' 0.01 '*' 0.05 '.' 0.1 ' ' 1\n",
       "\n",
       "Newton-Raphson maximisation, 7 iterations\n",
       "Return code 1: gradient close to zero\n",
       "Log-likelihood: -26386.12 on 5 Df\n"
      ]
     },
     "metadata": {},
     "output_type": "display_data"
    }
   ],
   "source": [
    "tobit2 <- censReg(Y ~ X, left=0, right=Inf, data=mydata)\n",
    "summary(tobit2)"
   ]
  },
  {
   "cell_type": "code",
   "execution_count": 32,
   "metadata": {
    "ExecuteTime": {
     "end_time": "2018-12-01T20:05:53.439701Z",
     "start_time": "2018-12-01T20:05:53.211Z"
    }
   },
   "outputs": [
    {
     "name": "stdout",
     "output_type": "stream",
     "text": [
      "\n",
      "===============================================\n",
      "                        Dependent variable:    \n",
      "                    ---------------------------\n",
      "                                 Y             \n",
      "-----------------------------------------------\n",
      "Xage                        332.843***         \n",
      "                             (42.288)          \n",
      "                                               \n",
      "Xfemale                     691.126***         \n",
      "                             (93.055)          \n",
      "                                               \n",
      "Xtotchr                    1,260.687***        \n",
      "                             (60.674)          \n",
      "                                               \n",
      "logSigma                     7.860***          \n",
      "                              (0.014)          \n",
      "                                               \n",
      "Constant                   -1,237.282***       \n",
      "                             (181.811)         \n",
      "                                               \n",
      "-----------------------------------------------\n",
      "Observations                   3,328           \n",
      "Log Likelihood              -26,386.120        \n",
      "Akaike Inf. Crit.           52,782.240         \n",
      "Bayesian Inf. Crit.         52,812.790         \n",
      "===============================================\n",
      "Note:               *p<0.1; **p<0.05; ***p<0.01\n"
     ]
    }
   ],
   "source": [
    "stargazer(tobit2,type='text')"
   ]
  },
  {
   "cell_type": "code",
   "execution_count": 33,
   "metadata": {
    "ExecuteTime": {
     "end_time": "2018-12-01T20:07:52.098874Z",
     "start_time": "2018-12-01T20:07:52.067Z"
    }
   },
   "outputs": [
    {
     "data": {
      "text/html": [
       "<table>\n",
       "<thead><tr><th></th><th scope=col>Marg. Eff.</th><th scope=col>Std. Error</th><th scope=col>t value</th><th scope=col>Pr(&gt;|t|)</th></tr></thead>\n",
       "<tbody>\n",
       "\t<tr><th scope=row>Xage</th><td>219.9189    </td><td>27.97836    </td><td> 7.860321   </td><td>5.107026e-15</td></tr>\n",
       "\t<tr><th scope=row>Xfemale</th><td>456.6465    </td><td>61.45767    </td><td> 7.430259   </td><td>1.372236e-13</td></tr>\n",
       "\t<tr><th scope=row>Xtotchr</th><td>832.9713    </td><td>40.74528    </td><td>20.443381   </td><td>0.000000e+00</td></tr>\n",
       "</tbody>\n",
       "</table>\n"
      ],
      "text/latex": [
       "\\begin{tabular}{r|llll}\n",
       "  & Marg. Eff. & Std. Error & t value & Pr(>\\textbar{}t\\textbar{})\\\\\n",
       "\\hline\n",
       "\tXage & 219.9189     & 27.97836     &  7.860321    & 5.107026e-15\\\\\n",
       "\tXfemale & 456.6465     & 61.45767     &  7.430259    & 1.372236e-13\\\\\n",
       "\tXtotchr & 832.9713     & 40.74528     & 20.443381    & 0.000000e+00\\\\\n",
       "\\end{tabular}\n"
      ],
      "text/markdown": [
       "\n",
       "| <!--/--> | Marg. Eff. | Std. Error | t value | Pr(>|t|) | \n",
       "|---|---|---|\n",
       "| Xage | 219.9189     | 27.97836     |  7.860321    | 5.107026e-15 | \n",
       "| Xfemale | 456.6465     | 61.45767     |  7.430259    | 1.372236e-13 | \n",
       "| Xtotchr | 832.9713     | 40.74528     | 20.443381    | 0.000000e+00 | \n",
       "\n",
       "\n"
      ],
      "text/plain": [
       "        Marg. Eff. Std. Error t value   Pr(>|t|)    \n",
       "Xage    219.9189   27.97836    7.860321 5.107026e-15\n",
       "Xfemale 456.6465   61.45767    7.430259 1.372236e-13\n",
       "Xtotchr 832.9713   40.74528   20.443381 0.000000e+00"
      ]
     },
     "metadata": {},
     "output_type": "display_data"
    }
   ],
   "source": [
    "# Tobit model marginal effects for the censored sample\n",
    "summary(margEff(tobit2))\n"
   ]
  },
  {
   "cell_type": "code",
   "execution_count": null,
   "metadata": {},
   "outputs": [],
   "source": []
  },
  {
   "cell_type": "code",
   "execution_count": null,
   "metadata": {},
   "outputs": [],
   "source": []
  },
  {
   "cell_type": "code",
   "execution_count": 34,
   "metadata": {
    "ExecuteTime": {
     "end_time": "2018-12-01T20:08:38.496132Z",
     "start_time": "2018-12-01T20:08:38.416Z"
    }
   },
   "outputs": [
    {
     "data": {
      "text/plain": [
       "\n",
       "Call:\n",
       "glm(formula = I(Y > 0) ~ X, family = binomial(link = \"probit\"), \n",
       "    data = mydata)\n",
       "\n",
       "Deviance Residuals: \n",
       "    Min       1Q   Median       3Q      Max  \n",
       "-3.4445   0.1661   0.4460   0.6266   0.9937  \n",
       "\n",
       "Coefficients:\n",
       "            Estimate Std. Error z value Pr(>|z|)    \n",
       "(Intercept) 0.002353   0.106723   0.022    0.982    \n",
       "Xage        0.132352   0.026201   5.051 4.39e-07 ***\n",
       "Xfemale     0.628566   0.058639  10.719  < 2e-16 ***\n",
       "Xtotchr     0.780712   0.070116  11.135  < 2e-16 ***\n",
       "---\n",
       "Signif. codes:  0 '***' 0.001 '**' 0.01 '*' 0.05 '.' 0.1 ' ' 1\n",
       "\n",
       "(Dispersion parameter for binomial family taken to be 1)\n",
       "\n",
       "    Null deviance: 2904.9  on 3327  degrees of freedom\n",
       "Residual deviance: 2508.5  on 3324  degrees of freedom\n",
       "AIC: 2516.5\n",
       "\n",
       "Number of Fisher Scoring iterations: 6\n"
      ]
     },
     "metadata": {},
     "output_type": "display_data"
    }
   ],
   "source": [
    "# Probit model coefficients\n",
    "probit1 <- glm(I(Y > 0) ~ X, data = mydata, family = binomial(link = \"probit\"))\n",
    "summary(probit1)"
   ]
  },
  {
   "cell_type": "code",
   "execution_count": 77,
   "metadata": {
    "ExecuteTime": {
     "end_time": "2018-12-01T23:32:14.027549Z",
     "start_time": "2018-12-01T23:32:13.692Z"
    }
   },
   "outputs": [
    {
     "ename": "ERROR",
     "evalue": "Error in gbX * X: non-conformable arrays\n",
     "output_type": "error",
     "traceback": [
      "Error in gbX * X: non-conformable arrays\nTraceback:\n",
      "1. truncreg(Y ~ X, point = 0, direction = \"left\", data = mydata.truncated)",
      "2. truncreg.fit(X, Y, point, direction, scaled, ...)",
      "3. maxLik(f, start = start, method = method, iterlim = iterlim, \n .     print.level = print.level)",
      "4. maxRoutine(fn = logLik, grad = grad, hess = hess, start = start, \n .     constraints = constraints, ...)",
      "5. maxOptim(fn = fn, grad = grad, hess = hess, start = start, method = \"BFGS\", \n .     fixed = fixed, constraints = constraints, finalHessian = finalHessian, \n .     parscale = parscale, control = mControl, ...)",
      "6. do.call(callWithoutSumt, argList)",
      "7. (function (theta, fName, ...) \n . {\n .     return(callWithoutArgs(theta, fName = fName, args = names(formals(sumt)), \n .         ...))\n . })(theta = c(Xage = 173.570673618839, Xfemale = 341.831125250766, \n . Xtotchr = 1102.84800639948, 2331.70238361796), fName = \"logLikFunc\", \n .     fnOrig = function (param) \n .     ml.truncreg(param, X = X, y = y, gradient = TRUE, hessian = TRUE, \n .         fit = FALSE, point = point, direction = direction, scaled = scaled), \n .     gradOrig = NULL, hessOrig = NULL)",
      "8. callWithoutArgs(theta, fName = fName, args = names(formals(sumt)), \n .     ...)",
      "9. eval(f, sys.frame(sys.parent()))",
      "10. eval(f, sys.frame(sys.parent()))",
      "11. logLikFunc(theta, fnOrig = function (param) \n  . ml.truncreg(param, X = X, y = y, gradient = TRUE, hessian = TRUE, \n  .     fit = FALSE, point = point, direction = direction, scaled = scaled), \n  .     gradOrig = ..2, hessOrig = ..3)",
      "12. fnOrig(theta, ...)",
      "13. ml.truncreg(param, X = X, y = y, gradient = TRUE, hessian = TRUE, \n  .     fit = FALSE, point = point, direction = direction, scaled = scaled)",
      "14. cbind(gbX * X, as.numeric(gsigma))"
     ]
    }
   ],
   "source": [
    "# Truncated regression coefficients\n",
    "# mydata.truncated <- subset(mydata, Y>0)\n",
    "truncreg1 <- truncreg(Y ~ X, point = 0, direction = \"left\", data=mydata.truncated)\n",
    "summary(truncreg1)"
   ]
  },
  {
   "cell_type": "code",
   "execution_count": null,
   "metadata": {},
   "outputs": [],
   "source": []
  },
  {
   "cell_type": "code",
   "execution_count": 36,
   "metadata": {
    "ExecuteTime": {
     "end_time": "2018-12-01T20:12:09.150329Z",
     "start_time": "2018-12-01T20:12:09.107Z"
    }
   },
   "outputs": [
    {
     "ename": "ERROR",
     "evalue": "Error in logLik(truncreg1): object 'truncreg1' not found\n",
     "output_type": "error",
     "traceback": [
      "Error in logLik(truncreg1): object 'truncreg1' not found\nTraceback:\n",
      "1. logLik(truncreg1)"
     ]
    }
   ],
   "source": [
    "\n",
    "# Test for Tobit versus Probit and Truncated regression\n",
    "lrtest <- 2*(logLik(probit1) + logLik(truncreg1) - logLik(tobit1))\n",
    "lrtest\n"
   ]
  },
  {
   "cell_type": "code",
   "execution_count": null,
   "metadata": {},
   "outputs": [],
   "source": []
  }
 ],
 "metadata": {
  "kernelspec": {
   "display_name": "R",
   "language": "R",
   "name": "ir"
  },
  "language_info": {
   "codemirror_mode": "r",
   "file_extension": ".r",
   "mimetype": "text/x-r-source",
   "name": "R",
   "pygments_lexer": "r",
   "version": "3.5.1"
  }
 },
 "nbformat": 4,
 "nbformat_minor": 2
}
