{
 "cells": [
  {
   "cell_type": "code",
   "execution_count": 2,
   "metadata": {
    "ExecuteTime": {
     "end_time": "2018-12-02T17:25:51.290911Z",
     "start_time": "2018-12-02T17:25:51.073Z"
    }
   },
   "outputs": [],
   "source": [
    "# Survival Analysis in R\n",
    "# Copyright 2013 by Ani Katchova\n",
    "\n",
    "# install.packages(\"survival\")\n",
    "library(survival)\n",
    "\n",
    "mydata<- read.csv(\"survival_unemployment.csv\")\n",
    "attach(mydata)"
   ]
  },
  {
   "cell_type": "code",
   "execution_count": 3,
   "metadata": {
    "ExecuteTime": {
     "end_time": "2018-12-02T17:25:57.828444Z",
     "start_time": "2018-12-02T17:25:57.801Z"
    }
   },
   "outputs": [],
   "source": [
    "# Define variables \n",
    "time <- spell\n",
    "event <- event\n",
    "X <- cbind(logwage, ui, age)\n",
    "group <- ui"
   ]
  },
  {
   "cell_type": "code",
   "execution_count": 4,
   "metadata": {
    "ExecuteTime": {
     "end_time": "2018-12-02T17:26:02.009984Z",
     "start_time": "2018-12-02T17:26:01.939Z"
    }
   },
   "outputs": [
    {
     "data": {
      "text/plain": [
       "   Min. 1st Qu.  Median    Mean 3rd Qu.    Max. \n",
       "  1.000   2.000   5.000   6.248   9.000  28.000 "
      ]
     },
     "metadata": {},
     "output_type": "display_data"
    },
    {
     "data": {
      "text/plain": [
       "   Min. 1st Qu.  Median    Mean 3rd Qu.    Max. \n",
       "  0.000   0.000   0.000   0.321   1.000   1.000 "
      ]
     },
     "metadata": {},
     "output_type": "display_data"
    },
    {
     "data": {
      "text/plain": [
       "    logwage            ui              age       \n",
       " Min.   :2.708   Min.   :0.0000   Min.   :20.00  \n",
       " 1st Qu.:5.298   1st Qu.:0.0000   1st Qu.:27.00  \n",
       " Median :5.677   Median :1.0000   Median :34.00  \n",
       " Mean   :5.693   Mean   :0.5528   Mean   :35.44  \n",
       " 3rd Qu.:6.052   3rd Qu.:1.0000   3rd Qu.:43.00  \n",
       " Max.   :7.600   Max.   :1.0000   Max.   :61.00  "
      ]
     },
     "metadata": {},
     "output_type": "display_data"
    },
    {
     "data": {
      "text/plain": [
       "   Min. 1st Qu.  Median    Mean 3rd Qu.    Max. \n",
       " 0.0000  0.0000  1.0000  0.5528  1.0000  1.0000 "
      ]
     },
     "metadata": {},
     "output_type": "display_data"
    }
   ],
   "source": [
    "# Descriptive statistics\n",
    "summary(time)\n",
    "summary(event)\n",
    "summary(X)\n",
    "summary(group)"
   ]
  },
  {
   "cell_type": "code",
   "execution_count": null,
   "metadata": {},
   "outputs": [],
   "source": []
  },
  {
   "cell_type": "code",
   "execution_count": 5,
   "metadata": {
    "ExecuteTime": {
     "end_time": "2018-12-02T17:26:31.615014Z",
     "start_time": "2018-12-02T17:26:31.435Z"
    }
   },
   "outputs": [
    {
     "data": {
      "text/plain": [
       "Call: survfit(formula = Surv(time, event) ~ 1)\n",
       "\n",
       " time n.risk n.event survival std.err lower 95% CI upper 95% CI\n",
       "    1   3343     294    0.912 0.00490        0.903        0.922\n",
       "    2   2803     178    0.854 0.00622        0.842        0.866\n",
       "    3   2321     119    0.810 0.00708        0.797        0.824\n",
       "    4   1897      56    0.786 0.00756        0.772        0.801\n",
       "    5   1676     104    0.738 0.00847        0.721        0.754\n",
       "    6   1339      32    0.720 0.00882        0.703        0.737\n",
       "    7   1196      85    0.669 0.00979        0.650        0.688\n",
       "    8    933      15    0.658 0.01001        0.639        0.678\n",
       "    9    848      33    0.632 0.01057        0.612        0.654\n",
       "   10    717       3    0.630 0.01064        0.609        0.651\n",
       "   11    659      26    0.605 0.01128        0.583        0.627\n",
       "   12    556       7    0.597 0.01150        0.575        0.620\n",
       "   13    509      25    0.568 0.01234        0.544        0.593\n",
       "   14    415      30    0.527 0.01353        0.501        0.554\n",
       "   15    311      19    0.495 0.01458        0.467        0.524\n",
       "   16    252      10    0.475 0.01527        0.446        0.506\n",
       "   17    201       8    0.456 0.01606        0.426        0.489\n",
       "   18    169       7    0.437 0.01691        0.405        0.472\n",
       "   19    149       4    0.426 0.01744        0.393        0.461\n",
       "   20    130       3    0.416 0.01794        0.382        0.452\n",
       "   21    109       4    0.400 0.01883        0.365        0.439\n",
       "   22     82       4    0.381 0.02029        0.343        0.423\n",
       "   26     48       2    0.365 0.02233        0.324        0.412\n",
       "   27     33       5    0.310 0.02964        0.257        0.374"
      ]
     },
     "metadata": {},
     "output_type": "display_data"
    },
    {
     "data": {
      "image/png": "[encoded data removed]",
      "text/plain": [
       "plot without title"
      ]
     },
     "metadata": {},
     "output_type": "display_data"
    }
   ],
   "source": [
    "\n",
    "# Kaplan-Meier non-parametric analysis\n",
    "kmsurvival <- survfit(Surv(time,event) ~ 1)\n",
    "summary(kmsurvival)\n",
    "plot(kmsurvival, xlab=\"Time\", ylab=\"Survival Probability\")"
   ]
  },
  {
   "cell_type": "code",
   "execution_count": null,
   "metadata": {},
   "outputs": [],
   "source": []
  },
  {
   "cell_type": "code",
   "execution_count": 6,
   "metadata": {
    "ExecuteTime": {
     "end_time": "2018-12-02T17:27:09.983007Z",
     "start_time": "2018-12-02T17:27:09.888Z"
    }
   },
   "outputs": [
    {
     "data": {
      "text/plain": [
       "Call: survfit(formula = Surv(time, event) ~ group)\n",
       "\n",
       "                group=0 \n",
       " time n.risk n.event survival std.err lower 95% CI upper 95% CI\n",
       "    1   1495     266    0.822 0.00989        0.803        0.842\n",
       "    2   1038     116    0.730 0.01191        0.707        0.754\n",
       "    3    717      55    0.674 0.01317        0.649        0.701\n",
       "    4    501      20    0.647 0.01396        0.620        0.675\n",
       "    5    423      36    0.592 0.01550        0.563        0.623\n",
       "    6    305       8    0.577 0.01603        0.546        0.609\n",
       "    7    265      28    0.516 0.01801        0.482        0.552\n",
       "    8    191       4    0.505 0.01842        0.470        0.542\n",
       "    9    176       5    0.491 0.01898        0.455        0.529\n",
       "   10    151       1    0.487 0.01913        0.451        0.526\n",
       "   11    141       6    0.467 0.02010        0.429        0.508\n",
       "   12    116       1    0.463 0.02033        0.424        0.504\n",
       "   13    111       5    0.442 0.02144        0.402        0.486\n",
       "   14     91       9    0.398 0.02376        0.354        0.447\n",
       "   15     73       3    0.382 0.02459        0.336        0.433\n",
       "   16     61       3    0.363 0.02566        0.316        0.417\n",
       "   17     45       4    0.331 0.02799        0.280        0.390\n",
       "   18     39       3    0.305 0.02944        0.253        0.369\n",
       "   19     35       1    0.297 0.02986        0.243        0.361\n",
       "   26     15       1    0.277 0.03379        0.218        0.352\n",
       "   27     11       1    0.252 0.03897        0.186        0.341\n",
       "\n",
       "                group=1 \n",
       " time n.risk n.event survival std.err lower 95% CI upper 95% CI\n",
       "    1   1848      28    0.985 0.00284        0.979        0.990\n",
       "    2   1765      62    0.950 0.00511        0.940        0.960\n",
       "    3   1604      64    0.912 0.00676        0.899        0.926\n",
       "    4   1396      36    0.889 0.00764        0.874        0.904\n",
       "    5   1253      68    0.841 0.00919        0.823        0.859\n",
       "    6   1034      24    0.821 0.00980        0.802        0.841\n",
       "    7    931      57    0.771 0.01124        0.749        0.793\n",
       "    8    742      11    0.759 0.01159        0.737        0.782\n",
       "    9    672      28    0.728 0.01255        0.704        0.753\n",
       "   10    566       2    0.725 0.01264        0.701        0.750\n",
       "   11    518      20    0.697 0.01362        0.671        0.724\n",
       "   12    440       6    0.688 0.01397        0.661        0.716\n",
       "   13    398      20    0.653 0.01526        0.624        0.684\n",
       "   14    324      21    0.611 0.01683        0.579        0.645\n",
       "   15    238      16    0.570 0.01857        0.534        0.607\n",
       "   16    191       7    0.549 0.01949        0.512        0.588\n",
       "   17    156       4    0.535 0.02022        0.497        0.576\n",
       "   18    130       4    0.518 0.02121        0.478        0.562\n",
       "   19    114       3    0.505 0.02207        0.463        0.550\n",
       "   20     99       3    0.489 0.02310        0.446        0.537\n",
       "   21     81       4    0.465 0.02492        0.419        0.517\n",
       "   22     61       4    0.435 0.02756        0.384        0.492\n",
       "   26     33       1    0.422 0.02970        0.367        0.484\n",
       "   27     22       4    0.345 0.04233        0.271        0.439\n"
      ]
     },
     "metadata": {},
     "output_type": "display_data"
    },
    {
     "data": {
      "image/png": "[encoded data removed]",
      "text/plain": [
       "plot without title"
      ]
     },
     "metadata": {},
     "output_type": "display_data"
    }
   ],
   "source": [
    "# Kaplan-Meier non-parametric analysis by group\n",
    "kmsurvival1 <- survfit(Surv(time, event) ~ group)\n",
    "summary(kmsurvival1)\n",
    "plot(kmsurvival1, xlab=\"Time\", ylab=\"Survival Probability\")\n"
   ]
  },
  {
   "cell_type": "code",
   "execution_count": null,
   "metadata": {},
   "outputs": [],
   "source": []
  },
  {
   "cell_type": "code",
   "execution_count": 7,
   "metadata": {
    "ExecuteTime": {
     "end_time": "2018-12-02T17:27:39.122420Z",
     "start_time": "2018-12-02T17:27:39.046Z"
    }
   },
   "outputs": [
    {
     "data": {
      "text/plain": [
       "Call: survfit(formula = coxph(Surv(time, event) ~ 1), type = \"aalen\")\n",
       "\n",
       " time n.risk n.event survival std.err lower 95% CI upper 95% CI\n",
       "    1   3343     294    0.916 0.00470        0.907        0.925\n",
       "    2   2803     178    0.859 0.00601        0.848        0.871\n",
       "    3   2321     119    0.817 0.00688        0.803        0.830\n",
       "    4   1897      56    0.793 0.00738        0.778        0.807\n",
       "    5   1676     104    0.745 0.00828        0.729        0.761\n",
       "    6   1339      32    0.727 0.00865        0.711        0.745\n",
       "    7   1196      85    0.678 0.00960        0.659        0.697\n",
       "    8    933      15    0.667 0.00985        0.648        0.686\n",
       "    9    848      33    0.641 0.01042        0.621        0.662\n",
       "   10    717       3    0.639 0.01049        0.618        0.660\n",
       "   11    659      26    0.614 0.01115        0.592        0.636\n",
       "   12    556       7    0.606 0.01138        0.584        0.629\n",
       "   13    509      25    0.577 0.01223        0.554        0.602\n",
       "   14    415      30    0.537 0.01340        0.511        0.564\n",
       "   15    311      19    0.505 0.01446        0.478        0.534\n",
       "   16    252      10    0.485 0.01517        0.457        0.516\n",
       "   17    201       8    0.467 0.01599        0.436        0.499\n",
       "   18    169       7    0.448 0.01687        0.416        0.482\n",
       "   19    149       4    0.436 0.01743        0.403        0.471\n",
       "   20    130       3    0.426 0.01795        0.392        0.462\n",
       "   21    109       4    0.410 0.01887        0.375        0.449\n",
       "   22     82       4    0.391 0.02035        0.353        0.433\n",
       "   26     48       2    0.375 0.02243        0.333        0.422\n",
       "   27     33       5    0.322 0.02912        0.270        0.385"
      ]
     },
     "metadata": {},
     "output_type": "display_data"
    },
    {
     "data": {
      "image/png": "[encoded data removed]",
      "text/plain": [
       "plot without title"
      ]
     },
     "metadata": {},
     "output_type": "display_data"
    }
   ],
   "source": [
    "# Nelson-Aalen non-parametric analysis\n",
    "nasurvival <- survfit(coxph(Surv(time,event)~1), type=\"aalen\")\n",
    "summary(nasurvival)\n",
    "plot(nasurvival, xlab=\"Time\", ylab=\"Survival Probability\")\n"
   ]
  },
  {
   "cell_type": "code",
   "execution_count": null,
   "metadata": {},
   "outputs": [],
   "source": []
  },
  {
   "cell_type": "code",
   "execution_count": 8,
   "metadata": {
    "ExecuteTime": {
     "end_time": "2018-12-02T17:28:23.832999Z",
     "start_time": "2018-12-02T17:28:23.769Z"
    }
   },
   "outputs": [
    {
     "data": {
      "text/plain": [
       "Call:\n",
       "coxph(formula = Surv(time, event) ~ X, method = \"breslow\")\n",
       "\n",
       "  n= 3343, number of events= 1073 \n",
       "\n",
       "              coef exp(coef)  se(coef)       z Pr(>|z|)    \n",
       "Xlogwage  0.461553  1.586535  0.057190   8.070    7e-16 ***\n",
       "Xui      -0.979578  0.375470  0.063979 -15.311  < 2e-16 ***\n",
       "Xage     -0.010850  0.989209  0.003132  -3.465 0.000531 ***\n",
       "---\n",
       "Signif. codes:  0 '***' 0.001 '**' 0.01 '*' 0.05 '.' 0.1 ' ' 1\n",
       "\n",
       "         exp(coef) exp(-coef) lower .95 upper .95\n",
       "Xlogwage    1.5865     0.6303    1.4183    1.7747\n",
       "Xui         0.3755     2.6633    0.3312    0.4256\n",
       "Xage        0.9892     1.0109    0.9832    0.9953\n",
       "\n",
       "Concordance= 0.693  (se = 0.011 )\n",
       "Rsquare= 0.081   (max possible= 0.992 )\n",
       "Likelihood ratio test= 281.5  on 3 df,   p=<2e-16\n",
       "Wald test            = 286.3  on 3 df,   p=<2e-16\n",
       "Score (logrank) test = 300  on 3 df,   p=<2e-16\n"
      ]
     },
     "metadata": {},
     "output_type": "display_data"
    }
   ],
   "source": [
    "# Cox proportional hazard model - coefficients and hazard rates\n",
    "coxph <- coxph(Surv(time,event) ~ X, method=\"breslow\")\n",
    "summary(coxph)\n"
   ]
  },
  {
   "cell_type": "code",
   "execution_count": null,
   "metadata": {},
   "outputs": [],
   "source": []
  },
  {
   "cell_type": "code",
   "execution_count": 9,
   "metadata": {
    "ExecuteTime": {
     "end_time": "2018-12-02T17:28:50.021300Z",
     "start_time": "2018-12-02T17:28:49.949Z"
    }
   },
   "outputs": [
    {
     "data": {
      "text/plain": [
       "\n",
       "Call:\n",
       "survreg(formula = Surv(time, event) ~ X, dist = \"exponential\")\n",
       "               Value Std. Error     z       p\n",
       "(Intercept)  4.64259    0.30841 15.05 < 2e-16\n",
       "Xlogwage    -0.48097    0.05678 -8.47 < 2e-16\n",
       "Xui          1.07746    0.06269 17.19 < 2e-16\n",
       "Xage         0.01264    0.00312  4.05 5.2e-05\n",
       "\n",
       "Scale fixed at 1 \n",
       "\n",
       "Exponential distribution\n",
       "Loglik(model)= -4083.8   Loglik(intercept only)= -4258.4\n",
       "\tChisq= 349.26 on 3 degrees of freedom, p= 2.2e-75 \n",
       "Number of Newton-Raphson Iterations: 5 \n",
       "n= 3343 \n"
      ]
     },
     "metadata": {},
     "output_type": "display_data"
    }
   ],
   "source": [
    "\n",
    "# Exponential, Weibull, and log-logistic parametric model coefficients\n",
    "# Opposite signs from Stata results, Weibull results differ; same as SAS\n",
    "exponential <- survreg(Surv(time,event) ~ X, dist=\"exponential\")\n",
    "summary(exponential)"
   ]
  },
  {
   "cell_type": "code",
   "execution_count": null,
   "metadata": {},
   "outputs": [],
   "source": []
  },
  {
   "cell_type": "code",
   "execution_count": 10,
   "metadata": {
    "ExecuteTime": {
     "end_time": "2018-12-02T17:28:56.796214Z",
     "start_time": "2018-12-02T17:28:56.750Z"
    }
   },
   "outputs": [
    {
     "data": {
      "text/plain": [
       "\n",
       "Call:\n",
       "survreg(formula = Surv(time, event) ~ X, dist = \"weibull\")\n",
       "               Value Std. Error     z       p\n",
       "(Intercept)  4.47839    0.29145 15.37 < 2e-16\n",
       "Xlogwage    -0.45668    0.05343 -8.55 < 2e-16\n",
       "Xui          1.03521    0.06014 17.21 < 2e-16\n",
       "Xage         0.01247    0.00292  4.28 1.9e-05\n",
       "Log(scale)  -0.06955    0.02328 -2.99  0.0028\n",
       "\n",
       "Scale= 0.933 \n",
       "\n",
       "Weibull distribution\n",
       "Loglik(model)= -4079.5   Loglik(intercept only)= -4258.2\n",
       "\tChisq= 357.57 on 3 degrees of freedom, p= 3.4e-77 \n",
       "Number of Newton-Raphson Iterations: 5 \n",
       "n= 3343 \n"
      ]
     },
     "metadata": {},
     "output_type": "display_data"
    }
   ],
   "source": [
    "weibull <- survreg(Surv(time,event) ~ X, dist=\"weibull\")\n",
    "summary(weibull)\n",
    "\n"
   ]
  },
  {
   "cell_type": "code",
   "execution_count": null,
   "metadata": {},
   "outputs": [],
   "source": []
  },
  {
   "cell_type": "code",
   "execution_count": 11,
   "metadata": {
    "ExecuteTime": {
     "end_time": "2018-12-02T17:28:59.596210Z",
     "start_time": "2018-12-02T17:28:59.553Z"
    }
   },
   "outputs": [
    {
     "data": {
      "text/plain": [
       "\n",
       "Call:\n",
       "survreg(formula = Surv(time, event) ~ X, dist = \"loglogistic\")\n",
       "               Value Std. Error      z       p\n",
       "(Intercept)  4.04085    0.31258  12.93 < 2e-16\n",
       "Xlogwage    -0.46218    0.05653  -8.18 2.9e-16\n",
       "Xui          1.20988    0.05939  20.37 < 2e-16\n",
       "Xage         0.01060    0.00291   3.64 0.00028\n",
       "Log(scale)  -0.30631    0.02437 -12.57 < 2e-16\n",
       "\n",
       "Scale= 0.736 \n",
       "\n",
       "Log logistic distribution\n",
       "Loglik(model)= -4014.1   Loglik(intercept only)= -4232\n",
       "\tChisq= 435.7 on 3 degrees of freedom, p= 4.1e-94 \n",
       "Number of Newton-Raphson Iterations: 4 \n",
       "n= 3343 \n"
      ]
     },
     "metadata": {},
     "output_type": "display_data"
    }
   ],
   "source": [
    "\n",
    "\n",
    "\n",
    "\n",
    "\n",
    "\n",
    "\n",
    "\n",
    "\n",
    "\n",
    "\n",
    "\n",
    "\n",
    "\n",
    "loglogistic <- survreg(Surv(time,event) ~ X, dist=\"loglogistic\")\n",
    "summary(loglogistic)\n"
   ]
  },
  {
   "cell_type": "code",
   "execution_count": null,
   "metadata": {},
   "outputs": [],
   "source": []
  },
  {
   "cell_type": "code",
   "execution_count": null,
   "metadata": {},
   "outputs": [],
   "source": []
  },
  {
   "cell_type": "code",
   "execution_count": null,
   "metadata": {},
   "outputs": [],
   "source": []
  }
 ],
 "metadata": {
  "kernelspec": {
   "display_name": "R",
   "language": "R",
   "name": "ir"
  },
  "language_info": {
   "codemirror_mode": "r",
   "file_extension": ".r",
   "mimetype": "text/x-r-source",
   "name": "R",
   "pygments_lexer": "r",
   "version": "3.5.1"
  }
 },
 "nbformat": 4,
 "nbformat_minor": 2
}
