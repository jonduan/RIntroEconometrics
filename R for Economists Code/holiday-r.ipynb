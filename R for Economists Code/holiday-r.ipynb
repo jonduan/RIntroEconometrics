{
 "cells": [
  {
   "cell_type": "markdown",
   "metadata": {},
   "source": [
    "# Example 17.1\n",
    "\n",
    "First, look at the linear model."
   ]
  },
  {
   "cell_type": "code",
   "execution_count": 1,
   "metadata": {},
   "outputs": [
    {
     "name": "stderr",
     "output_type": "stream",
     "text": [
      "Warning message in data(\"mroz\"):\n",
      "“data set ‘mroz’ not found”"
     ]
    },
    {
     "ename": "ERROR",
     "evalue": "Error in is.data.frame(data): object 'mroz' not found\n",
     "output_type": "error",
     "traceback": [
      "Error in is.data.frame(data): object 'mroz' not found\nTraceback:\n",
      "1. lm(inlf ~ nwifeinc + educ + exper + expersq + age + kidslt6 + \n .     kidsge6, data = mroz)",
      "2. eval(mf, parent.frame())",
      "3. eval(mf, parent.frame())",
      "4. stats::model.frame(formula = inlf ~ nwifeinc + educ + exper + \n .     expersq + age + kidslt6 + kidsge6, data = mroz, drop.unused.levels = TRUE)",
      "5. model.frame.default(formula = inlf ~ nwifeinc + educ + exper + \n .     expersq + age + kidslt6 + kidsge6, data = mroz, drop.unused.levels = TRUE)",
      "6. is.data.frame(data)"
     ]
    }
   ],
   "source": [
    "\n",
    "\n",
    "data(\"mroz\")\n",
    "\n",
    "lm.17.1 <- lm(inlf ~ nwifeinc + educ + exper + expersq + age +\n",
    "                kidslt6 + kidsge6, data = mroz)\n",
    "summary(lm.17.1)"
   ]
  },
  {
   "cell_type": "code",
   "execution_count": null,
   "metadata": {},
   "outputs": [],
   "source": []
  },
  {
   "cell_type": "code",
   "execution_count": null,
   "metadata": {},
   "outputs": [],
   "source": []
  },
  {
   "cell_type": "code",
   "execution_count": null,
   "metadata": {},
   "outputs": [],
   "source": []
  },
  {
   "cell_type": "code",
   "execution_count": null,
   "metadata": {},
   "outputs": [],
   "source": []
  },
  {
   "cell_type": "code",
   "execution_count": null,
   "metadata": {},
   "outputs": [],
   "source": []
  },
  {
   "cell_type": "code",
   "execution_count": null,
   "metadata": {},
   "outputs": [],
   "source": []
  }
 ],
 "metadata": {
  "kernelspec": {
   "display_name": "R",
   "language": "R",
   "name": "ir"
  },
  "language_info": {
   "codemirror_mode": "r",
   "file_extension": ".r",
   "mimetype": "text/x-r-source",
   "name": "R",
   "pygments_lexer": "r",
   "version": "3.5.1"
  }
 },
 "nbformat": 4,
 "nbformat_minor": 2
}
